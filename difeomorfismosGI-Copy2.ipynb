{
 "cells": [
  {
   "cell_type": "code",
   "execution_count": 1,
   "metadata": {
    "collapsed": false,
    "scrolled": true
   },
   "outputs": [],
   "source": [
    "from difeomorfismos_solvers import *\n",
    "from difeomorfismo import *\n",
    "init_printing()"
   ]
  },
  {
   "cell_type": "markdown",
   "metadata": {},
   "source": [
    "<H3>Difeomorsimos Cuadratico + lineal </H3>\n",
    "<H3>$X^{c} = M_{dd}^{c}E^{d}E^{d}$<H3>\n",
    "<H3>$Y_{c} = N_{cee}I^{e}I^{e}$</H3>\n",
    "\n"
   ]
  },
  {
   "cell_type": "markdown",
   "metadata": {},
   "source": [
    "# <H3>Defino la dimension que utilizare</H3>"
   ]
  },
  {
   "cell_type": "code",
   "execution_count": 2,
   "metadata": {
    "collapsed": false
   },
   "outputs": [],
   "source": [
    "n=2\n"
   ]
  },
  {
   "cell_type": "markdown",
   "metadata": {},
   "source": [
    "<H3>Estos son las dos coordenadas del difeomorfismo</H3>"
   ]
  },
  {
   "cell_type": "code",
   "execution_count": 3,
   "metadata": {
    "collapsed": false
   },
   "outputs": [
    {
     "data": {
      "image/png": "[encoded data removed]",
      "text/latex": [
       "$$\\left ( \\left [ \\Phi, \\quad E_{1}, \\quad E_{2}, \\quad I_{1}, \\quad I_{2}\\right ], \\quad \\left [ F, \\quad X_{1}, \\quad X_{2}, \\quad Y_{1}, \\quad Y_{2}\\right ]\\right )$$"
      ],
      "text/plain": [
       "([\\Phi, E₁, E₂, I₁, I₂], [F, X₁, X₂, Y₁, Y₂])"
      ]
     },
     "execution_count": 3,
     "metadata": {},
     "output_type": "execute_result"
    }
   ],
   "source": [
    "ZE, ZX = set_coordinates(n)\n",
    "ZE, ZX"
   ]
  },
  {
   "cell_type": "markdown",
   "metadata": {},
   "source": [
    "<H3>Estas son las constates para las ecuaciones del difeomorfismo Cuadratico + lineal</H3>"
   ]
  },
  {
   "cell_type": "code",
   "execution_count": 4,
   "metadata": {
    "collapsed": false
   },
   "outputs": [],
   "source": [
    "import operator\n",
    "A,c1=set_constants_a(n,'A',0)\n",
    "D,c2=set_constants_a(n,'D',0)\n",
    "B,c3=set_constants_axb(n,n,'B',0)\n",
    "G,c4=set_constants_axb(n,n,'G',0)\n",
    "C,c5=set_constants_axb(n,n,'C',0)\n",
    "H,c6=set_constants_axb(n,n,'H',0)\n",
    "M,c7=set_constants_axbxc00(n,n,n,'M',1)\n",
    "N,c8=set_constants_axbxc00(n,n,n,'N',1)\n",
    "J,c9=set_constants_axbxc(n,n,n,'J',0,operator.eq)\n",
    "K,c10=set_constants_axbxc(n,n,n,'K',0,operator.eq)\n",
    "p,c1=set_constants_a(n,'p',1)\n",
    "q,c1=set_constants_a(n,'q',1)"
   ]
  },
  {
   "cell_type": "code",
   "execution_count": 5,
   "metadata": {
    "collapsed": false
   },
   "outputs": [
    {
     "data": {
      "text/latex": [
       "$$\\left ( \\left [ \\left[\\begin{matrix}0 & 0\\\\0 & 0\\end{matrix}\\right], \\quad \\left[\\begin{matrix}0 & 0\\\\0 & 0\\end{matrix}\\right]\\right ], \\quad \\left [ \\left[\\begin{matrix}0 & 0\\\\0 & 0\\end{matrix}\\right], \\quad \\left[\\begin{matrix}0 & 0\\\\0 & 0\\end{matrix}\\right]\\right ], \\quad \\left [ \\left[\\begin{matrix}M_{111} & M_{112}\\\\M_{121} & M_{122}\\end{matrix}\\right], \\quad \\left[\\begin{matrix}M_{211} & M_{212}\\\\M_{221} & M_{222}\\end{matrix}\\right]\\right ], \\quad \\left [ \\left[\\begin{matrix}N_{111} & N_{112}\\\\N_{121} & N_{122}\\end{matrix}\\right], \\quad \\left[\\begin{matrix}N_{211} & N_{212}\\\\N_{221} & N_{222}\\end{matrix}\\right]\\right ]\\right )$$"
      ],
      "text/plain": [
       "⎛⎡⎡0  0⎤, ⎡0  0⎤⎤, ⎡⎡0  0⎤, ⎡0  0⎤⎤, ⎡⎡M₁₁₁  M₁₁₂⎤, ⎡M₂₁₁  M₂₁₂⎤⎤, ⎡⎡N₁₁₁  N₁₁\n",
       "⎜⎢⎢    ⎥  ⎢    ⎥⎥  ⎢⎢    ⎥  ⎢    ⎥⎥  ⎢⎢          ⎥  ⎢          ⎥⎥  ⎢⎢         \n",
       "⎝⎣⎣0  0⎦  ⎣0  0⎦⎦  ⎣⎣0  0⎦  ⎣0  0⎦⎦  ⎣⎣M₁₂₁  M₁₂₂⎦  ⎣M₂₂₁  M₂₂₂⎦⎦  ⎣⎣N₁₂₁  N₁₂\n",
       "\n",
       "₂⎤, ⎡N₂₁₁  N₂₁₂⎤⎤⎞\n",
       " ⎥  ⎢          ⎥⎥⎟\n",
       "₂⎦  ⎣N₂₂₁  N₂₂₂⎦⎦⎠"
      ]
     },
     "execution_count": 5,
     "metadata": {},
     "output_type": "execute_result"
    }
   ],
   "source": [
    "J,K,M,N"
   ]
  },
  {
   "cell_type": "code",
   "execution_count": 6,
   "metadata": {
    "collapsed": false
   },
   "outputs": [
    {
     "data": {
      "image/png": "[encoded data removed]",
      "text/latex": [
       "$$\\left [ q_{1}, \\quad q_{2}, \\quad M_{111}, \\quad M_{112}, \\quad M_{121}, \\quad M_{122}, \\quad M_{211}, \\quad M_{212}, \\quad M_{221}, \\quad M_{222}, \\quad N_{111}, \\quad N_{112}, \\quad N_{121}, \\quad N_{122}, \\quad N_{211}, \\quad N_{212}, \\quad N_{221}, \\quad N_{222}\\right ]$$"
      ],
      "text/plain": [
       "[q₁, q₂, M₁₁₁, M₁₁₂, M₁₂₁, M₁₂₂, M₂₁₁, M₂₁₂, M₂₂₁, M₂₂₂, N₁₁₁, N₁₁₂, N₁₂₁, N₁₂\n",
       "₂, N₂₁₁, N₂₁₂, N₂₂₁, N₂₂₂]"
      ]
     },
     "execution_count": 6,
     "metadata": {},
     "output_type": "execute_result"
    }
   ],
   "source": [
    "c = c1 + c2 + c3 + c4 + c5 + c6 + c7 + c8 + c9 + c10\n",
    "c = list(filter(lambda a: a != 0, c))\n",
    "c"
   ]
  },
  {
   "cell_type": "code",
   "execution_count": 7,
   "metadata": {
    "collapsed": false
   },
   "outputs": [
    {
     "data": {
      "image/png": "[encoded data removed]",
      "text/latex": [
       "$$\\left \\{ M_{111} : 1, \\quad M_{112} : 1, \\quad M_{121} : 1, \\quad M_{122} : 1, \\quad M_{211} : 1, \\quad M_{212} : 1, \\quad M_{221} : 1, \\quad M_{222} : 1, \\quad N_{111} : 1, \\quad N_{112} : 1, \\quad N_{121} : 1, \\quad N_{122} : 1, \\quad N_{211} : 1, \\quad N_{212} : 1, \\quad N_{221} : 1, \\quad N_{222} : 1, \\quad q_{1} : 1, \\quad q_{2} : 1\\right \\}$$"
      ],
      "text/plain": [
       "{M₁₁₁: 1, M₁₁₂: 1, M₁₂₁: 1, M₁₂₂: 1, M₂₁₁: 1, M₂₁₂: 1, M₂₂₁: 1, M₂₂₂: 1, N₁₁₁:\n",
       " 1, N₁₁₂: 1, N₁₂₁: 1, N₁₂₂: 1, N₂₁₁: 1, N₂₁₂: 1, N₂₂₁: 1, N₂₂₂: 1, q₁: 1, q₂: \n",
       "1}"
      ]
     },
     "execution_count": 7,
     "metadata": {},
     "output_type": "execute_result"
    }
   ],
   "source": [
    "dc = {}\n",
    "for x in c:\n",
    "    dc[x]=1\n",
    "dc"
   ]
  },
  {
   "cell_type": "code",
   "execution_count": 8,
   "metadata": {
    "collapsed": false
   },
   "outputs": [
    {
     "data": {
      "image/png": "[encoded data removed]",
      "text/latex": [
       "$$\\left \\{ E_{1} : 1, \\quad E_{2} : 1, \\quad I_{1} : 1, \\quad I_{2} : 1, \\quad \\Phi : 1\\right \\}$$"
      ],
      "text/plain": [
       "{E₁: 1, E₂: 1, I₁: 1, I₂: 1, \\Phi: 1}"
      ]
     },
     "execution_count": 8,
     "metadata": {},
     "output_type": "execute_result"
    }
   ],
   "source": [
    "dZE = {}\n",
    "for x in ZE:\n",
    "    dZE[x]=1\n",
    "dZE"
   ]
  },
  {
   "cell_type": "code",
   "execution_count": 9,
   "metadata": {
    "collapsed": false
   },
   "outputs": [
    {
     "data": {
      "image/png": "[encoded data removed]",
      "text/latex": [
       "$$\\left [ F{\\left (\\Phi,E_{1},E_{2},I_{1},I_{2} \\right )}, \\quad E_{1} I_{1} M_{111} + E_{1} I_{2} M_{112} + E_{2} I_{1} M_{121} + E_{2} I_{2} M_{122}, \\quad E_{1} I_{1} M_{211} + E_{1} I_{2} M_{212} + E_{2} I_{1} M_{221} + E_{2} I_{2} M_{222}, \\quad E_{1} I_{1} N_{111} + E_{1} I_{2} N_{121} + E_{2} I_{1} N_{112} + E_{2} I_{2} N_{122}, \\quad E_{1} I_{1} N_{211} + E_{1} I_{2} N_{221} + E_{2} I_{1} N_{212} + E_{2} I_{2} N_{222}\\right ]$$"
      ],
      "text/plain": [
       "[F(\\Phi, E₁, E₂, I₁, I₂), E₁⋅I₁⋅M₁₁₁ + E₁⋅I₂⋅M₁₁₂ + E₂⋅I₁⋅M₁₂₁ + E₂⋅I₂⋅M₁₂₂, E\n",
       "₁⋅I₁⋅M₂₁₁ + E₁⋅I₂⋅M₂₁₂ + E₂⋅I₁⋅M₂₂₁ + E₂⋅I₂⋅M₂₂₂, E₁⋅I₁⋅N₁₁₁ + E₁⋅I₂⋅N₁₂₁ + E₂\n",
       "⋅I₁⋅N₁₁₂ + E₂⋅I₂⋅N₁₂₂, E₁⋅I₁⋅N₂₁₁ + E₁⋅I₂⋅N₂₂₁ + E₂⋅I₁⋅N₂₁₂ + E₂⋅I₂⋅N₂₂₂]"
      ]
     },
     "execution_count": 9,
     "metadata": {},
     "output_type": "execute_result"
    }
   ],
   "source": [
    "L0 = GI_difeomorphism(A,B,C,D,G,H,M,N,J,K,n,ZX,ZE)\n",
    "L0"
   ]
  },
  {
   "cell_type": "code",
   "execution_count": null,
   "metadata": {
    "collapsed": false
   },
   "outputs": [],
   "source": [
    "fs={}\n",
    "\n",
    "fs[M[0][1,0]]=(1-M[1][1,0]*N[1][1,0])/N[0][1,0]\n",
    "fs[M[1][0,1]]=(-1-M[0][0,1]*N[0][0,1])/N[1][0,1]\n",
    "\n",
    "\n",
    "fs"
   ]
  },
  {
   "cell_type": "code",
   "execution_count": null,
   "metadata": {
    "collapsed": false
   },
   "outputs": [],
   "source": [
    "LC = []\n",
    "for x in L0:\n",
    "    LC.append(x.subs(fs))\n",
    "L0 = LC\n",
    "L0"
   ]
  },
  {
   "cell_type": "code",
   "execution_count": null,
   "metadata": {
    "collapsed": false
   },
   "outputs": [],
   "source": [
    "fs={}\n",
    "\n",
    "fs[M[0][1,1]]=-M[1][1,1]*N[1][1,0]/N[0][1,0]\n",
    "\n",
    "fs"
   ]
  },
  {
   "cell_type": "code",
   "execution_count": null,
   "metadata": {
    "collapsed": false
   },
   "outputs": [],
   "source": [
    "LC = []\n",
    "for x in L0:\n",
    "    LC.append(x.subs(fs))\n",
    "L0 = LC\n",
    "L0"
   ]
  },
  {
   "cell_type": "code",
   "execution_count": 10,
   "metadata": {
    "collapsed": true
   },
   "outputs": [],
   "source": [
    "f = zeros(n)\n",
    "h = zeros(n)\n",
    "for x in range(0,n):\n",
    "    for y in range(0,n):\n",
    "        if x == y: f[x,y]=1/(ZE[1]*ZE[3]-ZE[2]*ZE[4])\n",
    "        if x == y: h[x,y]=(p[0]*ZE[1]*ZE[3]+p[1]*ZE[2]*ZE[4])\n",
    "h[0,0]=(q[0]*ZE[1]*ZE[3]+q[1]*ZE[2]*ZE[4])"
   ]
  },
  {
   "cell_type": "code",
   "execution_count": 11,
   "metadata": {
    "collapsed": false
   },
   "outputs": [
    {
     "data": {
      "text/latex": [
       "$$\\left ( \\left[\\begin{matrix}\\frac{1}{E_{1} I_{1} - E_{2} I_{2}} & 0\\\\0 & \\frac{1}{E_{1} I_{1} - E_{2} I_{2}}\\end{matrix}\\right], \\quad \\left[\\begin{matrix}E_{1} I_{1} q_{1} + E_{2} I_{2} q_{2} & 0\\\\0 & E_{1} I_{1} p_{1} + E_{2} I_{2} p_{2}\\end{matrix}\\right]\\right )$$"
      ],
      "text/plain": [
       "⎛⎡      1                     ⎤                                            ⎞\n",
       "⎜⎢─────────────        0      ⎥, ⎡E₁⋅I₁⋅q₁ + E₂⋅I₂⋅q₂           0         ⎤⎟\n",
       "⎜⎢E₁⋅I₁ - E₂⋅I₂               ⎥  ⎢                                        ⎥⎟\n",
       "⎜⎢                            ⎥  ⎣         0           E₁⋅I₁⋅p₁ + E₂⋅I₂⋅p₂⎦⎟\n",
       "⎜⎢                     1      ⎥                                            ⎟\n",
       "⎜⎢      0        ─────────────⎥                                            ⎟\n",
       "⎝⎣               E₁⋅I₁ - E₂⋅I₂⎦                                            ⎠"
      ]
     },
     "execution_count": 11,
     "metadata": {},
     "output_type": "execute_result"
    }
   ],
   "source": [
    "f,h"
   ]
  },
  {
   "cell_type": "code",
   "execution_count": 12,
   "metadata": {
    "collapsed": false,
    "slideshow": {
     "slide_type": "slide"
    }
   },
   "outputs": [],
   "source": [
    "S,EQS = poly_difeomorphism(L0,ZE,dc,dZE,h)\n"
   ]
  },
  {
   "cell_type": "code",
   "execution_count": 13,
   "metadata": {
    "collapsed": false
   },
   "outputs": [
    {
     "data": {
      "text/latex": [
       "$$\\left[\\begin{matrix}0 & 0 & 0 & 0 & 0\\\\0 & 2 I_{1}^{2} M_{111} N_{111} + 2 I_{1}^{2} M_{211} N_{211} + 2 I_{1} I_{2} M_{111} N_{121} + 2 I_{1} I_{2} M_{112} N_{111} + 2 I_{1} I_{2} M_{211} N_{221} + 2 I_{1} I_{2} M_{212} N_{211} + 2 I_{2}^{2} M_{112} N_{121} + 2 I_{2}^{2} M_{212} N_{221} & 2 I_{1}^{2} M_{111} N_{112} + 2 I_{1}^{2} M_{211} N_{212} + 2 I_{1} I_{2} M_{111} N_{122} + 2 I_{1} I_{2} M_{112} N_{112} + 2 I_{1} I_{2} M_{211} N_{222} + 2 I_{1} I_{2} M_{212} N_{212} + 2 I_{2}^{2} M_{112} N_{122} + 2 I_{2}^{2} M_{212} N_{222} & 2 E_{1} I_{1} M_{111} N_{111} + 2 E_{1} I_{1} M_{211} N_{211} - E_{1} I_{1} q_{1} + 2 E_{1} I_{2} M_{112} N_{111} + 2 E_{1} I_{2} M_{212} N_{211} + 2 E_{2} I_{1} M_{111} N_{112} + 2 E_{2} I_{1} M_{211} N_{212} + 2 E_{2} I_{2} M_{112} N_{112} + 2 E_{2} I_{2} M_{212} N_{212} - E_{2} I_{2} q_{2} & 2 E_{1} I_{1} M_{111} N_{121} + 2 E_{1} I_{1} M_{211} N_{221} + 2 E_{1} I_{2} M_{112} N_{121} + 2 E_{1} I_{2} M_{212} N_{221} + 2 E_{2} I_{1} M_{111} N_{122} + 2 E_{2} I_{1} M_{211} N_{222} + 2 E_{2} I_{2} M_{112} N_{122} + 2 E_{2} I_{2} M_{212} N_{222}\\\\0 & 0 & 2 I_{1}^{2} M_{121} N_{112} + 2 I_{1}^{2} M_{221} N_{212} + 2 I_{1} I_{2} M_{121} N_{122} + 2 I_{1} I_{2} M_{122} N_{112} + 2 I_{1} I_{2} M_{221} N_{222} + 2 I_{1} I_{2} M_{222} N_{212} + 2 I_{2}^{2} M_{122} N_{122} + 2 I_{2}^{2} M_{222} N_{222} & 2 E_{1} I_{1} M_{121} N_{111} + 2 E_{1} I_{1} M_{221} N_{211} + 2 E_{1} I_{2} M_{122} N_{111} + 2 E_{1} I_{2} M_{222} N_{211} + 2 E_{2} I_{1} M_{121} N_{112} + 2 E_{2} I_{1} M_{221} N_{212} + 2 E_{2} I_{2} M_{122} N_{112} + 2 E_{2} I_{2} M_{222} N_{212} & 2 E_{1} I_{1} M_{121} N_{121} + 2 E_{1} I_{1} M_{221} N_{221} - E_{1} I_{1} p_{1} + 2 E_{1} I_{2} M_{122} N_{121} + 2 E_{1} I_{2} M_{222} N_{221} + 2 E_{2} I_{1} M_{121} N_{122} + 2 E_{2} I_{1} M_{221} N_{222} + 2 E_{2} I_{2} M_{122} N_{122} + 2 E_{2} I_{2} M_{222} N_{222} - E_{2} I_{2} p_{2}\\\\0 & 0 & 0 & 2 E_{1}^{2} M_{111} N_{111} + 2 E_{1}^{2} M_{211} N_{211} + 2 E_{1} E_{2} M_{111} N_{112} + 2 E_{1} E_{2} M_{121} N_{111} + 2 E_{1} E_{2} M_{211} N_{212} + 2 E_{1} E_{2} M_{221} N_{211} + 2 E_{2}^{2} M_{121} N_{112} + 2 E_{2}^{2} M_{221} N_{212} & 2 E_{1}^{2} M_{111} N_{121} + 2 E_{1}^{2} M_{211} N_{221} + 2 E_{1} E_{2} M_{111} N_{122} + 2 E_{1} E_{2} M_{121} N_{121} + 2 E_{1} E_{2} M_{211} N_{222} + 2 E_{1} E_{2} M_{221} N_{221} + 2 E_{2}^{2} M_{121} N_{122} + 2 E_{2}^{2} M_{221} N_{222}\\\\0 & 0 & 0 & 0 & 2 E_{1}^{2} M_{112} N_{121} + 2 E_{1}^{2} M_{212} N_{221} + 2 E_{1} E_{2} M_{112} N_{122} + 2 E_{1} E_{2} M_{122} N_{121} + 2 E_{1} E_{2} M_{212} N_{222} + 2 E_{1} E_{2} M_{222} N_{221} + 2 E_{2}^{2} M_{122} N_{122} + 2 E_{2}^{2} M_{222} N_{222}\\end{matrix}\\right]$$"
      ],
      "text/plain": [
       "⎡0                                                                            \n",
       "⎢                                                                             \n",
       "⎢       2                 2                                                   \n",
       "⎢0  2⋅I₁ ⋅M₁₁₁⋅N₁₁₁ + 2⋅I₁ ⋅M₂₁₁⋅N₂₁₁ + 2⋅I₁⋅I₂⋅M₁₁₁⋅N₁₂₁ + 2⋅I₁⋅I₂⋅M₁₁₂⋅N₁₁₁ \n",
       "⎢                                                                             \n",
       "⎢                                                                             \n",
       "⎢0                                                                            \n",
       "⎢                                                                             \n",
       "⎢                                                                             \n",
       "⎢0                                                                            \n",
       "⎢                                                                             \n",
       "⎢                                                                             \n",
       "⎣0                                                                            \n",
       "\n",
       "0                                                                             \n",
       "                                                                              \n",
       "                                              2                 2             \n",
       "+ 2⋅I₁⋅I₂⋅M₂₁₁⋅N₂₂₁ + 2⋅I₁⋅I₂⋅M₂₁₂⋅N₂₁₁ + 2⋅I₂ ⋅M₁₁₂⋅N₁₂₁ + 2⋅I₂ ⋅M₂₁₂⋅N₂₂₁  2\n",
       "                                                                              \n",
       "                                                                              \n",
       "0                                                                            2\n",
       "                                                                              \n",
       "                                                                              \n",
       "0                                                                             \n",
       "                                                                              \n",
       "                                                                              \n",
       "0                                                                             \n",
       "\n",
       "                                                                         0    \n",
       "                                                                              \n",
       "   2                 2                                                        \n",
       "⋅I₁ ⋅M₁₁₁⋅N₁₁₂ + 2⋅I₁ ⋅M₂₁₁⋅N₂₁₂ + 2⋅I₁⋅I₂⋅M₁₁₁⋅N₁₂₂ + 2⋅I₁⋅I₂⋅M₁₁₂⋅N₁₁₂ + 2⋅I\n",
       "                                                                              \n",
       "   2                 2                                                        \n",
       "⋅I₁ ⋅M₁₂₁⋅N₁₁₂ + 2⋅I₁ ⋅M₂₂₁⋅N₂₁₂ + 2⋅I₁⋅I₂⋅M₁₂₁⋅N₁₂₂ + 2⋅I₁⋅I₂⋅M₁₂₂⋅N₁₁₂ + 2⋅I\n",
       "                                                                              \n",
       "                                                                              \n",
       "                                                                         0    \n",
       "                                                                              \n",
       "                                                                              \n",
       "                                                                         0    \n",
       "\n",
       "                                                                              \n",
       "                                                                              \n",
       "                                         2                 2                  \n",
       "₁⋅I₂⋅M₂₁₁⋅N₂₂₂ + 2⋅I₁⋅I₂⋅M₂₁₂⋅N₂₁₂ + 2⋅I₂ ⋅M₁₁₂⋅N₁₂₂ + 2⋅I₂ ⋅M₂₁₂⋅N₂₂₂  2⋅E₁⋅I\n",
       "                                                                              \n",
       "                                         2                 2                  \n",
       "₁⋅I₂⋅M₂₂₁⋅N₂₂₂ + 2⋅I₁⋅I₂⋅M₂₂₂⋅N₂₁₂ + 2⋅I₂ ⋅M₁₂₂⋅N₁₂₂ + 2⋅I₂ ⋅M₂₂₂⋅N₂₂₂        \n",
       "                                                                              \n",
       "                                                                              \n",
       "                                                                              \n",
       "                                                                              \n",
       "                                                                              \n",
       "                                                                              \n",
       "\n",
       "                                                                              \n",
       "                                                                              \n",
       "                                                                              \n",
       "₁⋅M₁₁₁⋅N₁₁₁ + 2⋅E₁⋅I₁⋅M₂₁₁⋅N₂₁₁ - E₁⋅I₁⋅q₁ + 2⋅E₁⋅I₂⋅M₁₁₂⋅N₁₁₁ + 2⋅E₁⋅I₂⋅M₂₁₂⋅\n",
       "                                                                              \n",
       "                                                                              \n",
       "     2⋅E₁⋅I₁⋅M₁₂₁⋅N₁₁₁ + 2⋅E₁⋅I₁⋅M₂₂₁⋅N₂₁₁ + 2⋅E₁⋅I₂⋅M₁₂₂⋅N₁₁₁ + 2⋅E₁⋅I₂⋅M₂₂₂⋅\n",
       "                                                                              \n",
       "             2                 2                                              \n",
       "         2⋅E₁ ⋅M₁₁₁⋅N₁₁₁ + 2⋅E₁ ⋅M₂₁₁⋅N₂₁₁ + 2⋅E₁⋅E₂⋅M₁₁₁⋅N₁₁₂ + 2⋅E₁⋅E₂⋅M₁₂₁⋅\n",
       "                                                                              \n",
       "                                                                              \n",
       "                                                                              \n",
       "\n",
       "     0                                                                        \n",
       "                                                                              \n",
       "                                                                              \n",
       "N₂₁₁ + 2⋅E₂⋅I₁⋅M₁₁₁⋅N₁₁₂ + 2⋅E₂⋅I₁⋅M₂₁₁⋅N₂₁₂ + 2⋅E₂⋅I₂⋅M₁₁₂⋅N₁₁₂ + 2⋅E₂⋅I₂⋅M₂₁\n",
       "                                                                              \n",
       "                                                                              \n",
       "N₂₁₁ + 2⋅E₂⋅I₁⋅M₁₂₁⋅N₁₁₂ + 2⋅E₂⋅I₁⋅M₂₂₁⋅N₂₁₂ + 2⋅E₂⋅I₂⋅M₁₂₂⋅N₁₁₂ + 2⋅E₂⋅I₂⋅M₂₂\n",
       "                                                                              \n",
       "                                                   2                 2        \n",
       "N₁₁₁ + 2⋅E₁⋅E₂⋅M₂₁₁⋅N₂₁₂ + 2⋅E₁⋅E₂⋅M₂₂₁⋅N₂₁₁ + 2⋅E₂ ⋅M₁₂₁⋅N₁₁₂ + 2⋅E₂ ⋅M₂₂₁⋅N₂\n",
       "                                                                              \n",
       "                                                                              \n",
       "     0                                                                        \n",
       "\n",
       "                                                                              \n",
       "                                                                              \n",
       "                                                                              \n",
       "₂⋅N₂₁₂ - E₂⋅I₂⋅q₂             2⋅E₁⋅I₁⋅M₁₁₁⋅N₁₂₁ + 2⋅E₁⋅I₁⋅M₂₁₁⋅N₂₂₁ + 2⋅E₁⋅I₂⋅\n",
       "                                                                              \n",
       "                                                                              \n",
       "₂⋅N₂₁₂             2⋅E₁⋅I₁⋅M₁₂₁⋅N₁₂₁ + 2⋅E₁⋅I₁⋅M₂₂₁⋅N₂₂₁ - E₁⋅I₁⋅p₁ + 2⋅E₁⋅I₂⋅\n",
       "                                                                              \n",
       "                                      2                 2                     \n",
       "₁₂                                2⋅E₁ ⋅M₁₁₁⋅N₁₂₁ + 2⋅E₁ ⋅M₂₁₁⋅N₂₂₁ + 2⋅E₁⋅E₂⋅\n",
       "                                                                              \n",
       "                                      2                 2                     \n",
       "                                  2⋅E₁ ⋅M₁₁₂⋅N₁₂₁ + 2⋅E₁ ⋅M₂₁₂⋅N₂₂₁ + 2⋅E₁⋅E₂⋅\n",
       "\n",
       "                              0                                               \n",
       "                                                                              \n",
       "                                                                              \n",
       "M₁₁₂⋅N₁₂₁ + 2⋅E₁⋅I₂⋅M₂₁₂⋅N₂₂₁ + 2⋅E₂⋅I₁⋅M₁₁₁⋅N₁₂₂ + 2⋅E₂⋅I₁⋅M₂₁₁⋅N₂₂₂ + 2⋅E₂⋅I\n",
       "                                                                              \n",
       "                                                                              \n",
       "M₁₂₂⋅N₁₂₁ + 2⋅E₁⋅I₂⋅M₂₂₂⋅N₂₂₁ + 2⋅E₂⋅I₁⋅M₁₂₁⋅N₁₂₂ + 2⋅E₂⋅I₁⋅M₂₂₁⋅N₂₂₂ + 2⋅E₂⋅I\n",
       "                                                                              \n",
       "                                                                            2 \n",
       "M₁₁₁⋅N₁₂₂ + 2⋅E₁⋅E₂⋅M₁₂₁⋅N₁₂₁ + 2⋅E₁⋅E₂⋅M₂₁₁⋅N₂₂₂ + 2⋅E₁⋅E₂⋅M₂₂₁⋅N₂₂₁ + 2⋅E₂ ⋅\n",
       "                                                                              \n",
       "                                                                            2 \n",
       "M₁₁₂⋅N₁₂₂ + 2⋅E₁⋅E₂⋅M₁₂₂⋅N₁₂₁ + 2⋅E₁⋅E₂⋅M₂₁₂⋅N₂₂₂ + 2⋅E₁⋅E₂⋅M₂₂₂⋅N₂₂₁ + 2⋅E₂ ⋅\n",
       "\n",
       "                                          ⎤\n",
       "                                          ⎥\n",
       "                                          ⎥\n",
       "₂⋅M₁₁₂⋅N₁₂₂ + 2⋅E₂⋅I₂⋅M₂₁₂⋅N₂₂₂           ⎥\n",
       "                                          ⎥\n",
       "                                          ⎥\n",
       "₂⋅M₁₂₂⋅N₁₂₂ + 2⋅E₂⋅I₂⋅M₂₂₂⋅N₂₂₂ - E₂⋅I₂⋅p₂⎥\n",
       "                                          ⎥\n",
       "                2                         ⎥\n",
       "M₁₂₁⋅N₁₂₂ + 2⋅E₂ ⋅M₂₂₁⋅N₂₂₂               ⎥\n",
       "                                          ⎥\n",
       "                2                         ⎥\n",
       "M₁₂₂⋅N₁₂₂ + 2⋅E₂ ⋅M₂₂₂⋅N₂₂₂               ⎦"
      ]
     },
     "execution_count": 13,
     "metadata": {},
     "output_type": "execute_result"
    }
   ],
   "source": [
    "S"
   ]
  },
  {
   "cell_type": "code",
   "execution_count": 14,
   "metadata": {
    "collapsed": false
   },
   "outputs": [
    {
     "data": {
      "text/latex": [
       "$$\\left[\\begin{matrix}\\left \\{ \\right \\} & \\left \\{ \\right \\} & \\left \\{ \\right \\} & \\left \\{ \\right \\} & \\left \\{ \\right \\}\\\\0 & \\left \\{ I_{1}^{2} : 2 M_{111} N_{111} + 2 M_{211} N_{211}, \\quad I_{2}^{2} : 2 M_{112} N_{121} + 2 M_{212} N_{221}, \\quad I_{1} I_{2} : 2 M_{111} N_{121} + 2 M_{112} N_{111} + 2 M_{211} N_{221} + 2 M_{212} N_{211}\\right \\} & \\left \\{ I_{1}^{2} : 2 M_{111} N_{112} + 2 M_{211} N_{212}, \\quad I_{2}^{2} : 2 M_{112} N_{122} + 2 M_{212} N_{222}, \\quad I_{1} I_{2} : 2 M_{111} N_{122} + 2 M_{112} N_{112} + 2 M_{211} N_{222} + 2 M_{212} N_{212}\\right \\} & \\left \\{ E_{1} I_{1} : 2 M_{111} N_{111} + 2 M_{211} N_{211} - q_{1}, \\quad E_{1} I_{2} : 2 M_{112} N_{111} + 2 M_{212} N_{211}, \\quad E_{2} I_{1} : 2 M_{111} N_{112} + 2 M_{211} N_{212}, \\quad E_{2} I_{2} : 2 M_{112} N_{112} + 2 M_{212} N_{212} - q_{2}\\right \\} & \\left \\{ E_{1} I_{1} : 2 M_{111} N_{121} + 2 M_{211} N_{221}, \\quad E_{1} I_{2} : 2 M_{112} N_{121} + 2 M_{212} N_{221}, \\quad E_{2} I_{1} : 2 M_{111} N_{122} + 2 M_{211} N_{222}, \\quad E_{2} I_{2} : 2 M_{112} N_{122} + 2 M_{212} N_{222}\\right \\}\\\\0 & 0 & \\left \\{ I_{1}^{2} : 2 M_{121} N_{112} + 2 M_{221} N_{212}, \\quad I_{2}^{2} : 2 M_{122} N_{122} + 2 M_{222} N_{222}, \\quad I_{1} I_{2} : 2 M_{121} N_{122} + 2 M_{122} N_{112} + 2 M_{221} N_{222} + 2 M_{222} N_{212}\\right \\} & \\left \\{ E_{1} I_{1} : 2 M_{121} N_{111} + 2 M_{221} N_{211}, \\quad E_{1} I_{2} : 2 M_{122} N_{111} + 2 M_{222} N_{211}, \\quad E_{2} I_{1} : 2 M_{121} N_{112} + 2 M_{221} N_{212}, \\quad E_{2} I_{2} : 2 M_{122} N_{112} + 2 M_{222} N_{212}\\right \\} & \\left \\{ E_{1} I_{1} : 2 M_{121} N_{121} + 2 M_{221} N_{221} - p_{1}, \\quad E_{1} I_{2} : 2 M_{122} N_{121} + 2 M_{222} N_{221}, \\quad E_{2} I_{1} : 2 M_{121} N_{122} + 2 M_{221} N_{222}, \\quad E_{2} I_{2} : 2 M_{122} N_{122} + 2 M_{222} N_{222} - p_{2}\\right \\}\\\\0 & 0 & 0 & \\left \\{ E_{1}^{2} : 2 M_{111} N_{111} + 2 M_{211} N_{211}, \\quad E_{2}^{2} : 2 M_{121} N_{112} + 2 M_{221} N_{212}, \\quad E_{1} E_{2} : 2 M_{111} N_{112} + 2 M_{121} N_{111} + 2 M_{211} N_{212} + 2 M_{221} N_{211}\\right \\} & \\left \\{ E_{1}^{2} : 2 M_{111} N_{121} + 2 M_{211} N_{221}, \\quad E_{2}^{2} : 2 M_{121} N_{122} + 2 M_{221} N_{222}, \\quad E_{1} E_{2} : 2 M_{111} N_{122} + 2 M_{121} N_{121} + 2 M_{211} N_{222} + 2 M_{221} N_{221}\\right \\}\\\\0 & 0 & 0 & 0 & \\left \\{ E_{1}^{2} : 2 M_{112} N_{121} + 2 M_{212} N_{221}, \\quad E_{2}^{2} : 2 M_{122} N_{122} + 2 M_{222} N_{222}, \\quad E_{1} E_{2} : 2 M_{112} N_{122} + 2 M_{122} N_{121} + 2 M_{212} N_{222} + 2 M_{222} N_{221}\\right \\}\\end{matrix}\\right]$$"
      ],
      "text/plain": [
       "⎡{}                                                                {}         \n",
       "⎢                                                                             \n",
       "⎢    ⎧  2                               2                                     \n",
       "⎢0   ⎨I₁ : 2⋅M₁₁₁⋅N₁₁₁ + 2⋅M₂₁₁⋅N₂₁₁, I₂ : 2⋅M₁₁₂⋅N₁₂₁ + 2⋅M₂₁₂⋅N₂₂₁, I₁⋅I₂: 2\n",
       "⎢    ⎩                                                                        \n",
       "⎢                                                                             \n",
       "⎢                                                                             \n",
       "⎢0                                                                 0          \n",
       "⎢                                                                             \n",
       "⎢                                                                             \n",
       "⎢                                                                             \n",
       "⎢0                                                                 0          \n",
       "⎢                                                                             \n",
       "⎢                                                                             \n",
       "⎢                                                                             \n",
       "⎢0                                                                 0          \n",
       "⎣                                                                             \n",
       "\n",
       "                                                                              \n",
       "                                                                              \n",
       "                                                    ⎫  ⎧  2                   \n",
       "⋅M₁₁₁⋅N₁₂₁ + 2⋅M₁₁₂⋅N₁₁₁ + 2⋅M₂₁₁⋅N₂₂₁ + 2⋅M₂₁₂⋅N₂₁₁⎬  ⎨I₁ : 2⋅M₁₁₁⋅N₁₁₂ + 2⋅M\n",
       "                                                    ⎭  ⎩                      \n",
       "                                                                              \n",
       "                                                       ⎧  2                   \n",
       "                                                       ⎨I₁ : 2⋅M₁₂₁⋅N₁₁₂ + 2⋅M\n",
       "                                                       ⎩                      \n",
       "                                                                              \n",
       "                                                                              \n",
       "                                                                              \n",
       "                                                                              \n",
       "                                                                              \n",
       "                                                                              \n",
       "                                                                              \n",
       "                                                                              \n",
       "\n",
       "                                       {}                                     \n",
       "                                                                              \n",
       "            2                                                                 \n",
       "₂₁₁⋅N₂₁₂, I₂ : 2⋅M₁₁₂⋅N₁₂₂ + 2⋅M₂₁₂⋅N₂₂₂, I₁⋅I₂: 2⋅M₁₁₁⋅N₁₂₂ + 2⋅M₁₁₂⋅N₁₁₂ + 2\n",
       "                                                                              \n",
       "                                                                              \n",
       "            2                                                                 \n",
       "₂₂₁⋅N₂₁₂, I₂ : 2⋅M₁₂₂⋅N₁₂₂ + 2⋅M₂₂₂⋅N₂₂₂, I₁⋅I₂: 2⋅M₁₂₁⋅N₁₂₂ + 2⋅M₁₂₂⋅N₁₁₂ + 2\n",
       "                                                                              \n",
       "                                                                              \n",
       "                                                                              \n",
       "                                       0                                      \n",
       "                                                                              \n",
       "                                                                              \n",
       "                                                                              \n",
       "                                       0                                      \n",
       "                                                                              \n",
       "\n",
       "                                                                              \n",
       "                                                                              \n",
       "                        ⎫                                                     \n",
       "⋅M₂₁₁⋅N₂₂₂ + 2⋅M₂₁₂⋅N₂₁₂⎬  {E₁⋅I₁: 2⋅M₁₁₁⋅N₁₁₁ + 2⋅M₂₁₁⋅N₂₁₁ - q₁, E₁⋅I₂: 2⋅M₁\n",
       "                        ⎭                                                     \n",
       "                                                                              \n",
       "                        ⎫                                                     \n",
       "⋅M₂₂₁⋅N₂₂₂ + 2⋅M₂₂₂⋅N₂₁₂⎬       {E₁⋅I₁: 2⋅M₁₂₁⋅N₁₁₁ + 2⋅M₂₂₁⋅N₂₁₁, E₁⋅I₂: 2⋅M₁\n",
       "                        ⎭                                                     \n",
       "                                                                              \n",
       "                                     ⎧  2                               2     \n",
       "                                     ⎨E₁ : 2⋅M₁₁₁⋅N₁₁₁ + 2⋅M₂₁₁⋅N₂₁₁, E₂ : 2⋅M\n",
       "                                     ⎩                                        \n",
       "                                                                              \n",
       "                                                                              \n",
       "                                                                              \n",
       "                                                                              \n",
       "\n",
       "                     {}                                                       \n",
       "                                                                              \n",
       "                                                                              \n",
       "₁₂⋅N₁₁₁ + 2⋅M₂₁₂⋅N₂₁₁, E₂⋅I₁: 2⋅M₁₁₁⋅N₁₁₂ + 2⋅M₂₁₁⋅N₂₁₂, E₂⋅I₂: 2⋅M₁₁₂⋅N₁₁₂ + \n",
       "                                                                              \n",
       "                                                                              \n",
       "                                                                              \n",
       "₂₂⋅N₁₁₁ + 2⋅M₂₂₂⋅N₂₁₁, E₂⋅I₁: 2⋅M₁₂₁⋅N₁₁₂ + 2⋅M₂₂₁⋅N₂₁₂, E₂⋅I₂: 2⋅M₁₂₂⋅N₁₁₂ + \n",
       "                                                                              \n",
       "                                                                              \n",
       "                                                                              \n",
       "₁₂₁⋅N₁₁₂ + 2⋅M₂₂₁⋅N₂₁₂, E₁⋅E₂: 2⋅M₁₁₁⋅N₁₁₂ + 2⋅M₁₂₁⋅N₁₁₁ + 2⋅M₂₁₁⋅N₂₁₂ + 2⋅M₂₂\n",
       "                                                                              \n",
       "                                                                              \n",
       "                                                                              \n",
       "                     0                                                        \n",
       "                                                                              \n",
       "\n",
       "                                                                              \n",
       "                                                                              \n",
       "                                                                              \n",
       "2⋅M₂₁₂⋅N₂₁₂ - q₂}       {E₁⋅I₁: 2⋅M₁₁₁⋅N₁₂₁ + 2⋅M₂₁₁⋅N₂₂₁, E₁⋅I₂: 2⋅M₁₁₂⋅N₁₂₁ \n",
       "                                                                              \n",
       "                                                                              \n",
       "                                                                              \n",
       "2⋅M₂₂₂⋅N₂₁₂}       {E₁⋅I₁: 2⋅M₁₂₁⋅N₁₂₁ + 2⋅M₂₂₁⋅N₂₂₁ - p₁, E₁⋅I₂: 2⋅M₁₂₂⋅N₁₂₁ \n",
       "                                                                              \n",
       "                                                                              \n",
       "      ⎫                      ⎧  2                               2             \n",
       "₁⋅N₂₁₁⎬                      ⎨E₁ : 2⋅M₁₁₁⋅N₁₂₁ + 2⋅M₂₁₁⋅N₂₂₁, E₂ : 2⋅M₁₂₁⋅N₁₂₂\n",
       "      ⎭                      ⎩                                                \n",
       "                                                                              \n",
       "                             ⎧  2                               2             \n",
       "                             ⎨E₁ : 2⋅M₁₁₂⋅N₁₂₁ + 2⋅M₂₁₂⋅N₂₂₁, E₂ : 2⋅M₁₂₂⋅N₁₂₂\n",
       "                             ⎩                                                \n",
       "\n",
       "             {}                                                               \n",
       "                                                                              \n",
       "                                                                              \n",
       "+ 2⋅M₂₁₂⋅N₂₂₁, E₂⋅I₁: 2⋅M₁₁₁⋅N₁₂₂ + 2⋅M₂₁₁⋅N₂₂₂, E₂⋅I₂: 2⋅M₁₁₂⋅N₁₂₂ + 2⋅M₂₁₂⋅N\n",
       "                                                                              \n",
       "                                                                              \n",
       "                                                                              \n",
       "+ 2⋅M₂₂₂⋅N₂₂₁, E₂⋅I₁: 2⋅M₁₂₁⋅N₁₂₂ + 2⋅M₂₂₁⋅N₂₂₂, E₂⋅I₂: 2⋅M₁₂₂⋅N₁₂₂ + 2⋅M₂₂₂⋅N\n",
       "                                                                              \n",
       "                                                                              \n",
       "                                                                            ⎫ \n",
       " + 2⋅M₂₂₁⋅N₂₂₂, E₁⋅E₂: 2⋅M₁₁₁⋅N₁₂₂ + 2⋅M₁₂₁⋅N₁₂₁ + 2⋅M₂₁₁⋅N₂₂₂ + 2⋅M₂₂₁⋅N₂₂₁⎬ \n",
       "                                                                            ⎭ \n",
       "                                                                              \n",
       "                                                                            ⎫ \n",
       " + 2⋅M₂₂₂⋅N₂₂₂, E₁⋅E₂: 2⋅M₁₁₂⋅N₁₂₂ + 2⋅M₁₂₂⋅N₁₂₁ + 2⋅M₂₁₂⋅N₂₂₂ + 2⋅M₂₂₂⋅N₂₂₁⎬ \n",
       "                                                                            ⎭ \n",
       "\n",
       "         ⎤\n",
       "         ⎥\n",
       "         ⎥\n",
       "₂₂₂}     ⎥\n",
       "         ⎥\n",
       "         ⎥\n",
       "         ⎥\n",
       "₂₂₂ - p₂}⎥\n",
       "         ⎥\n",
       "         ⎥\n",
       "         ⎥\n",
       "         ⎥\n",
       "         ⎥\n",
       "         ⎥\n",
       "         ⎥\n",
       "         ⎥\n",
       "         ⎦"
      ]
     },
     "execution_count": 14,
     "metadata": {},
     "output_type": "execute_result"
    }
   ],
   "source": [
    "EQS"
   ]
  },
  {
   "cell_type": "code",
   "execution_count": 15,
   "metadata": {
    "collapsed": false
   },
   "outputs": [
    {
     "data": {
      "image/png": "[encoded data removed]",
      "text/latex": [
       "$$\\left \\{ I_{1}^{2} : 2 M_{111} N_{111} + 2 M_{211} N_{211}, \\quad I_{2}^{2} : 2 M_{112} N_{121} + 2 M_{212} N_{221}, \\quad I_{1} I_{2} : 2 M_{111} N_{121} + 2 M_{112} N_{111} + 2 M_{211} N_{221} + 2 M_{212} N_{211}\\right \\}$$"
      ],
      "text/plain": [
       "⎧  2                               2                                          \n",
       "⎨I₁ : 2⋅M₁₁₁⋅N₁₁₁ + 2⋅M₂₁₁⋅N₂₁₁, I₂ : 2⋅M₁₁₂⋅N₁₂₁ + 2⋅M₂₁₂⋅N₂₂₁, I₁⋅I₂: 2⋅M₁₁₁\n",
       "⎩                                                                             \n",
       "\n",
       "                                               ⎫\n",
       "⋅N₁₂₁ + 2⋅M₁₁₂⋅N₁₁₁ + 2⋅M₂₁₁⋅N₂₂₁ + 2⋅M₂₁₂⋅N₂₁₁⎬\n",
       "                                               ⎭"
      ]
     },
     "execution_count": 15,
     "metadata": {},
     "output_type": "execute_result"
    }
   ],
   "source": [
    "EQS[1,1]M_{de}^{c}"
   ]
  },
  {
   "cell_type": "code",
   "execution_count": 16,
   "metadata": {
    "collapsed": false
   },
   "outputs": [
    {
     "data": {
      "image/png": "[encoded data removed]",
      "text/latex": [
       "$$\\left \\{ E_{1}^{2} : 2 M_{111} N_{111} + 2 M_{211} N_{211}, \\quad E_{2}^{2} : 2 M_{121} N_{112} + 2 M_{221} N_{212}, \\quad E_{1} E_{2} : 2 M_{111} N_{112} + 2 M_{121} N_{111} + 2 M_{211} N_{212} + 2 M_{221} N_{211}\\right \\}$$"
      ],
      "text/plain": [
       "⎧  2                               2                                          \n",
       "⎨E₁ : 2⋅M₁₁₁⋅N₁₁₁ + 2⋅M₂₁₁⋅N₂₁₁, E₂ : 2⋅M₁₂₁⋅N₁₁₂ + 2⋅M₂₂₁⋅N₂₁₂, E₁⋅E₂: 2⋅M₁₁₁\n",
       "⎩                                                                             \n",
       "\n",
       "                                               ⎫\n",
       "⋅N₁₁₂ + 2⋅M₁₂₁⋅N₁₁₁ + 2⋅M₂₁₁⋅N₂₁₂ + 2⋅M₂₂₁⋅N₂₁₁⎬\n",
       "                                               ⎭"
      ]
     },
     "execution_count": 16,
     "metadata": {},
     "output_type": "execute_result"
    }
   ],
   "source": [
    "EQS[3,3]"
   ]
  },
  {
   "cell_type": "code",
   "execution_count": 17,
   "metadata": {
    "collapsed": false
   },
   "outputs": [
    {
     "data": {
      "image/png": "[encoded data removed]",
      "text/latex": [
       "$$\\left \\{ E_{1}^{2} : 2 M_{112} N_{121} + 2 M_{212} N_{221}, \\quad E_{2}^{2} : 2 M_{122} N_{122} + 2 M_{222} N_{222}, \\quad E_{1} E_{2} : 2 M_{112} N_{122} + 2 M_{122} N_{121} + 2 M_{212} N_{222} + 2 M_{222} N_{221}\\right \\}$$"
      ],
      "text/plain": [
       "⎧  2                               2                                          \n",
       "⎨E₁ : 2⋅M₁₁₂⋅N₁₂₁ + 2⋅M₂₁₂⋅N₂₂₁, E₂ : 2⋅M₁₂₂⋅N₁₂₂ + 2⋅M₂₂₂⋅N₂₂₂, E₁⋅E₂: 2⋅M₁₁₂\n",
       "⎩                                                                             \n",
       "\n",
       "                                               ⎫\n",
       "⋅N₁₂₂ + 2⋅M₁₂₂⋅N₁₂₁ + 2⋅M₂₁₂⋅N₂₂₂ + 2⋅M₂₂₂⋅N₂₂₁⎬\n",
       "                                               ⎭"
      ]
     },
     "execution_count": 17,
     "metadata": {},
     "output_type": "execute_result"
    }
   ],
   "source": [
    "EQS[4,4]"
   ]
  },
  {
   "cell_type": "code",
   "execution_count": 18,
   "metadata": {
    "collapsed": false
   },
   "outputs": [
    {
     "data": {
      "image/png": "[encoded data removed]",
      "text/latex": [
       "$$\\left \\{ E_{1} I_{1} : 2 M_{111} N_{111} + 2 M_{211} N_{211} - q_{1}, \\quad E_{1} I_{2} : 2 M_{112} N_{111} + 2 M_{212} N_{211}, \\quad E_{2} I_{1} : 2 M_{111} N_{112} + 2 M_{211} N_{212}, \\quad E_{2} I_{2} : 2 M_{112} N_{112} + 2 M_{212} N_{212} - q_{2}\\right \\}$$"
      ],
      "text/plain": [
       "{E₁⋅I₁: 2⋅M₁₁₁⋅N₁₁₁ + 2⋅M₂₁₁⋅N₂₁₁ - q₁, E₁⋅I₂: 2⋅M₁₁₂⋅N₁₁₁ + 2⋅M₂₁₂⋅N₂₁₁, E₂⋅I\n",
       "₁: 2⋅M₁₁₁⋅N₁₁₂ + 2⋅M₂₁₁⋅N₂₁₂, E₂⋅I₂: 2⋅M₁₁₂⋅N₁₁₂ + 2⋅M₂₁₂⋅N₂₁₂ - q₂}"
      ]
     },
     "execution_count": 18,
     "metadata": {},
     "output_type": "execute_result"
    }
   ],
   "source": [
    "EQS[1,3]"
   ]
  },
  {
   "cell_type": "code",
   "execution_count": null,
   "metadata": {
    "collapsed": false
   },
   "outputs": [],
   "source": [
    "EQC = Matrix(EQS)\n",
    "EQC[1:n+1,n+1:2*n+1] = zeros(n)\n",
    "EQC[n+1:2*n+1,1:n+1] = zeros(n)\n",
    "#EQC"
   ]
  },
  {
   "cell_type": "code",
   "execution_count": null,
   "metadata": {
    "collapsed": false
   },
   "outputs": [],
   "source": [
    "inv = {}\n",
    "for x in EQC[1:n+1,1:n+1]:\n",
    "    if x != {} and x != 0:\n",
    "        inv_map = {v: k for k, v in x.items()}\n",
    "        inv_map = dict.fromkeys(inv_map, 0)\n",
    "        inv.update(inv_map)"
   ]
  },
  {
   "cell_type": "code",
   "execution_count": null,
   "metadata": {
    "collapsed": false
   },
   "outputs": [],
   "source": [
    "inv"
   ]
  },
  {
   "cell_type": "code",
   "execution_count": null,
   "metadata": {
    "collapsed": false
   },
   "outputs": [],
   "source": [
    "EQC = EQS[1:n+1,n+1:2*n+1]\n",
    "for x in range(0,n):\n",
    "    for y in range(0,n):\n",
    "        if x != y:\n",
    "            inv_map = {v: k for k, v in EQC[x,y].items()}\n",
    "            inv_map = dict.fromkeys(inv_map, 0)\n",
    "            inv.update(inv_map)"
   ]
  },
  {
   "cell_type": "code",
   "execution_count": null,
   "metadata": {
    "collapsed": false
   },
   "outputs": [],
   "source": [
    "#inv"
   ]
  },
  {
   "cell_type": "code",
   "execution_count": null,
   "metadata": {
    "collapsed": false
   },
   "outputs": [],
   "source": [
    "EQD = EQS[:,:]\n",
    "for x in EQD:\n",
    "    if x != 0:\n",
    "        for y in x.keys():\n",
    "            x[y] = x[y].subs(inv)"
   ]
  },
  {
   "cell_type": "code",
   "execution_count": null,
   "metadata": {
    "collapsed": false
   },
   "outputs": [],
   "source": [
    "EQD"
   ]
  },
  {
   "cell_type": "code",
   "execution_count": null,
   "metadata": {
    "collapsed": false
   },
   "outputs": [],
   "source": [
    "inv"
   ]
  },
  {
   "cell_type": "code",
   "execution_count": null,
   "metadata": {
    "collapsed": false
   },
   "outputs": [],
   "source": [
    "H1,S1 = difeomorphism_equations005(L0,ZE,simplify,f,h,0,2*n+1)"
   ]
  },
  {
   "cell_type": "code",
   "execution_count": null,
   "metadata": {
    "collapsed": false
   },
   "outputs": [],
   "source": [
    "S1"
   ]
  },
  {
   "cell_type": "code",
   "execution_count": null,
   "metadata": {
    "collapsed": false
   },
   "outputs": [],
   "source": [
    "check_me = []\n",
    "difeo_eqs = []\n",
    "LD = []\n",
    "LD.append(L0)\n",
    "D_LD = []\n",
    "D_LD.append(0)\n",
    "\n",
    "for i in range(0,len(LD)):\n",
    "    Z0 = LD[i]\n",
    "    H=[]\n",
    "    S = zeros(n)\n",
    "    H,S = difeomorphism_equations002(Z0,ZE,expand,f,h,0,2*n+1)\n",
    "    \n",
    "    mixed_test = []\n",
    "    t3 = 0\n",
    "    t1 = t2 = 1\n",
    "    for x in range(0,2*n+1):\n",
    "        for y in range(x,2*n+1):\n",
    "            if x != y:\n",
    "                t1 = simplify(diff(H[x][1],ZE[y]))\n",
    "                t2 = simplify(diff(H[y][1],ZE[x]))\n",
    "                d1 = diff(H[x][0],ZE[y])\n",
    "                d2 = diff(H[y][0],ZE[x])\n",
    "                t3 = t3 + t1 + t2\n",
    "                mixed_test.append((t1,t2))\n",
    "    if t3 != 0:\n",
    "        difeo_eqs.append((S,H,Z0,D_LD[i],f))\n",
    "        check_me.append(mixed_test)"
   ]
  },
  {
   "cell_type": "code",
   "execution_count": null,
   "metadata": {
    "collapsed": false
   },
   "outputs": [],
   "source": [
    "check_me"
   ]
  },
  {
   "cell_type": "code",
   "execution_count": null,
   "metadata": {
    "collapsed": true
   },
   "outputs": [],
   "source": [
    "CM_LD = contactomorphism_equations(LC,ZE,expand,f)\n",
    "Ja = Matrix(LC).jacobian(ZE)\n",
    "DeJ = Ja.berkowitz_det()\n",
    "for x in range(0,2*n+1):\n",
    "    DeJ = DeJ.subs([(diff(LC[0],ZE[x]),CM_LD[x])])"
   ]
  },
  {
   "cell_type": "code",
   "execution_count": null,
   "metadata": {
    "collapsed": false
   },
   "outputs": [],
   "source": [
    "Ja"
   ]
  },
  {
   "cell_type": "code",
   "execution_count": null,
   "metadata": {
    "collapsed": false
   },
   "outputs": [],
   "source": [
    "DeJ = simplify(DeJ)"
   ]
  },
  {
   "cell_type": "code",
   "execution_count": null,
   "metadata": {
    "collapsed": false
   },
   "outputs": [],
   "source": [
    "DeJ.subs(fs)"
   ]
  },
  {
   "cell_type": "code",
   "execution_count": null,
   "metadata": {
    "collapsed": true
   },
   "outputs": [],
   "source": []
  }
 ],
 "metadata": {
  "kernelspec": {
   "display_name": "Python 3",
   "language": "python",
   "name": "python3"
  },
  "language_info": {
   "codemirror_mode": {
    "name": "ipython",
    "version": 3
   },
   "file_extension": ".py",
   "mimetype": "text/x-python",
   "name": "python",
   "nbconvert_exporter": "python",
   "pygments_lexer": "ipython3",
   "version": "3.5.1"
  }
 },
 "nbformat": 4,
 "nbformat_minor": 0
}
