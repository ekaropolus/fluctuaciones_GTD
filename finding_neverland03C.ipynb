{
 "cells": [
  {
   "cell_type": "code",
   "execution_count": 1,
   "metadata": {
    "collapsed": false,
    "scrolled": true
   },
   "outputs": [],
   "source": [
    "from difeomorfismos_solvers import *\n",
    "from difeomorfismo import *\n",
    "import winsound, sys\n",
    "\n",
    "def beep(sound):\n",
    "    winsound.PlaySound('%s.wav' % sound, winsound.SND_FILENAME)\n",
    "init_printing()"
   ]
  },
  {
   "cell_type": "markdown",
   "metadata": {},
   "source": [
    "<H3>Difeomorsimos Cuadratico + lineal </H3>\n",
    "<H3>$X^{c} = M_{dd}^{c}E^{d}E^{d}$<H3>\n",
    "<H3>$Y_{c} = N_{cee}I^{e}I^{e}$</H3>\n",
    "\n"
   ]
  },
  {
   "cell_type": "markdown",
   "metadata": {},
   "source": [
    "# <H3>Defino la dimension que utilizare</H3>"
   ]
  },
  {
   "cell_type": "code",
   "execution_count": 41,
   "metadata": {
    "collapsed": false
   },
   "outputs": [],
   "source": [
    "n=3\n"
   ]
  },
  {
   "cell_type": "markdown",
   "metadata": {},
   "source": [
    "<H3>Estos son las dos coordenadas del difeomorfismo</H3>"
   ]
  },
  {
   "cell_type": "code",
   "execution_count": 42,
   "metadata": {
    "collapsed": false
   },
   "outputs": [],
   "source": [
    "ZE, ZX = set_coordinates(n)"
   ]
  },
  {
   "cell_type": "markdown",
   "metadata": {},
   "source": [
    "<H3>Estas son las constates para las ecuaciones del difeomorfismo Cuadratico + lineal</H3>"
   ]
  },
  {
   "cell_type": "code",
   "execution_count": 43,
   "metadata": {
    "collapsed": false
   },
   "outputs": [],
   "source": [
    "import operator\n",
    "aa,c1=set_constants_a(n,'a','s')\n",
    "dd,c2=set_constants_a(n,'d','s')\n",
    "bb,c3=set_constants_axb(n,n,'b','s')\n",
    "gg,c4=set_constants_axb(n,n,'g','s')\n",
    "cc,c5=set_constants_axb(n,n,'c','s')\n",
    "hh,c6=set_constants_axb(n,n,'h','s')\n",
    "M,c7  = set_constants_axbxcxdxe(n,n,n,n,n,'M',0)\n",
    "N,c8  = set_constants_axbxcxdxe(n,n,n,n,n,'N',0)\n",
    "J,c9  = set_constants_axbxcxdxe(n,n,n,n,n,'J',0)\n",
    "K,c10 = set_constants_axbxcxdxe(n,n,n,n,n,'K',0)\n",
    "A,c11 = set_constants_axbxcxdxe(n,n,n,n,n,'A','s')\n",
    "B,c12 = set_constants_axbxcxdxe(n,n,n,n,n,'B','s')\n",
    "C,c13 = set_constants_axbxcxdxe(n,n,n,n,n,'C','s')\n",
    "D,c14 = set_constants_axbxcxdxe(n,n,n,n,n,'D','s')\n",
    "\n",
    "p,c1=set_constants_axb(n,n,'p','s')"
   ]
  },
  {
   "cell_type": "code",
   "execution_count": 44,
   "metadata": {
    "collapsed": true
   },
   "outputs": [],
   "source": [
    "X1 = [A[0]] + [B[1]]\n",
    "Y1 = [C[0]] + [D[1]]\n",
    "X2 = [M[0]] + [N[1]]\n",
    "Y2 = [J[0]] + [K[1]]"
   ]
  },
  {
   "cell_type": "code",
   "execution_count": 50,
   "metadata": {
    "collapsed": false
   },
   "outputs": [
    {
     "data": {
      "text/latex": [
       "$$\\left [ \\left [ \\left [ \\left[\\begin{matrix}A_{11111} & A_{11112} & A_{11113}\\\\A_{11121} & A_{11122} & A_{11123}\\\\A_{11131} & A_{11132} & A_{11133}\\end{matrix}\\right], \\quad \\left[\\begin{matrix}A_{11211} & A_{11212} & A_{11213}\\\\A_{11221} & A_{11222} & A_{11223}\\\\A_{11231} & A_{11232} & A_{11233}\\end{matrix}\\right], \\quad \\left[\\begin{matrix}A_{11311} & A_{11312} & A_{11313}\\\\A_{11321} & A_{11322} & A_{11323}\\\\A_{11331} & A_{11332} & A_{11333}\\end{matrix}\\right]\\right ], \\quad \\left [ \\left[\\begin{matrix}A_{12111} & A_{12112} & A_{12113}\\\\A_{12121} & A_{12122} & A_{12123}\\\\A_{12131} & A_{12132} & A_{12133}\\end{matrix}\\right], \\quad \\left[\\begin{matrix}A_{12211} & A_{12212} & A_{12213}\\\\A_{12221} & A_{12222} & A_{12223}\\\\A_{12231} & A_{12232} & A_{12233}\\end{matrix}\\right], \\quad \\left[\\begin{matrix}A_{12311} & A_{12312} & A_{12313}\\\\A_{12321} & A_{12322} & A_{12323}\\\\A_{12331} & A_{12332} & A_{12333}\\end{matrix}\\right]\\right ], \\quad \\left [ \\left[\\begin{matrix}A_{13111} & A_{13112} & A_{13113}\\\\A_{13121} & A_{13122} & A_{13123}\\\\A_{13131} & A_{13132} & A_{13133}\\end{matrix}\\right], \\quad \\left[\\begin{matrix}A_{13211} & A_{13212} & A_{13213}\\\\A_{13221} & A_{13222} & A_{13223}\\\\A_{13231} & A_{13232} & A_{13233}\\end{matrix}\\right], \\quad \\left[\\begin{matrix}A_{13311} & A_{13312} & A_{13313}\\\\A_{13321} & A_{13322} & A_{13323}\\\\A_{13331} & A_{13332} & A_{13333}\\end{matrix}\\right]\\right ]\\right ], \\quad \\left [ \\left [ \\left[\\begin{matrix}B_{21111} & B_{21112} & B_{21113}\\\\B_{21121} & B_{21122} & B_{21123}\\\\B_{21131} & B_{21132} & B_{21133}\\end{matrix}\\right], \\quad \\left[\\begin{matrix}B_{21211} & B_{21212} & B_{21213}\\\\B_{21221} & B_{21222} & B_{21223}\\\\B_{21231} & B_{21232} & B_{21233}\\end{matrix}\\right], \\quad \\left[\\begin{matrix}B_{21311} & B_{21312} & B_{21313}\\\\B_{21321} & B_{21322} & B_{21323}\\\\B_{21331} & B_{21332} & B_{21333}\\end{matrix}\\right]\\right ], \\quad \\left [ \\left[\\begin{matrix}B_{22111} & B_{22112} & B_{22113}\\\\B_{22121} & B_{22122} & B_{22123}\\\\B_{22131} & B_{22132} & B_{22133}\\end{matrix}\\right], \\quad \\left[\\begin{matrix}B_{22211} & B_{22212} & B_{22213}\\\\B_{22221} & B_{22222} & B_{22223}\\\\B_{22231} & B_{22232} & B_{22233}\\end{matrix}\\right], \\quad \\left[\\begin{matrix}B_{22311} & B_{22312} & B_{22313}\\\\B_{22321} & B_{22322} & B_{22323}\\\\B_{22331} & B_{22332} & B_{22333}\\end{matrix}\\right]\\right ], \\quad \\left [ \\left[\\begin{matrix}B_{23111} & B_{23112} & B_{23113}\\\\B_{23121} & B_{23122} & B_{23123}\\\\B_{23131} & B_{23132} & B_{23133}\\end{matrix}\\right], \\quad \\left[\\begin{matrix}B_{23211} & B_{23212} & B_{23213}\\\\B_{23221} & B_{23222} & B_{23223}\\\\B_{23231} & B_{23232} & B_{23233}\\end{matrix}\\right], \\quad \\left[\\begin{matrix}B_{23311} & B_{23312} & B_{23313}\\\\B_{23321} & B_{23322} & B_{23323}\\\\B_{23331} & B_{23332} & B_{23333}\\end{matrix}\\right]\\right ]\\right ]\\right ]$$"
      ],
      "text/plain": [
       "⎡⎡⎡⎡A₁₁₁₁₁  A₁₁₁₁₂  A₁₁₁₁₃⎤, ⎡A₁₁₂₁₁  A₁₁₂₁₂  A₁₁₂₁₃⎤, ⎡A₁₁₃₁₁  A₁₁₃₁₂  A₁₁₃₁₃\n",
       "⎢⎢⎢⎢                      ⎥  ⎢                      ⎥  ⎢                      \n",
       "⎢⎢⎢⎢A₁₁₁₂₁  A₁₁₁₂₂  A₁₁₁₂₃⎥  ⎢A₁₁₂₂₁  A₁₁₂₂₂  A₁₁₂₂₃⎥  ⎢A₁₁₃₂₁  A₁₁₃₂₂  A₁₁₃₂₃\n",
       "⎢⎢⎢⎢                      ⎥  ⎢                      ⎥  ⎢                      \n",
       "⎣⎣⎣⎣A₁₁₁₃₁  A₁₁₁₃₂  A₁₁₁₃₃⎦  ⎣A₁₁₂₃₁  A₁₁₂₃₂  A₁₁₂₃₃⎦  ⎣A₁₁₃₃₁  A₁₁₃₃₂  A₁₁₃₃₃\n",
       "\n",
       "⎤⎤, ⎡⎡A₁₂₁₁₁  A₁₂₁₁₂  A₁₂₁₁₃⎤, ⎡A₁₂₂₁₁  A₁₂₂₁₂  A₁₂₂₁₃⎤, ⎡A₁₂₃₁₁  A₁₂₃₁₂  A₁₂₃\n",
       "⎥⎥  ⎢⎢                      ⎥  ⎢                      ⎥  ⎢                    \n",
       "⎥⎥  ⎢⎢A₁₂₁₂₁  A₁₂₁₂₂  A₁₂₁₂₃⎥  ⎢A₁₂₂₂₁  A₁₂₂₂₂  A₁₂₂₂₃⎥  ⎢A₁₂₃₂₁  A₁₂₃₂₂  A₁₂₃\n",
       "⎥⎥  ⎢⎢                      ⎥  ⎢                      ⎥  ⎢                    \n",
       "⎦⎦  ⎣⎣A₁₂₁₃₁  A₁₂₁₃₂  A₁₂₁₃₃⎦  ⎣A₁₂₂₃₁  A₁₂₂₃₂  A₁₂₂₃₃⎦  ⎣A₁₂₃₃₁  A₁₂₃₃₂  A₁₂₃\n",
       "\n",
       "₁₃⎤⎤, ⎡⎡A₁₃₁₁₁  A₁₃₁₁₂  A₁₃₁₁₃⎤, ⎡A₁₃₂₁₁  A₁₃₂₁₂  A₁₃₂₁₃⎤, ⎡A₁₃₃₁₁  A₁₃₃₁₂  A₁\n",
       "  ⎥⎥  ⎢⎢                      ⎥  ⎢                      ⎥  ⎢                  \n",
       "₂₃⎥⎥  ⎢⎢A₁₃₁₂₁  A₁₃₁₂₂  A₁₃₁₂₃⎥  ⎢A₁₃₂₂₁  A₁₃₂₂₂  A₁₃₂₂₃⎥  ⎢A₁₃₃₂₁  A₁₃₃₂₂  A₁\n",
       "  ⎥⎥  ⎢⎢                      ⎥  ⎢                      ⎥  ⎢                  \n",
       "₃₃⎦⎦  ⎣⎣A₁₃₁₃₁  A₁₃₁₃₂  A₁₃₁₃₃⎦  ⎣A₁₃₂₃₁  A₁₃₂₃₂  A₁₃₂₃₃⎦  ⎣A₁₃₃₃₁  A₁₃₃₃₂  A₁\n",
       "\n",
       "₃₃₁₃⎤⎤⎤, ⎡⎡⎡B₂₁₁₁₁  B₂₁₁₁₂  B₂₁₁₁₃⎤, ⎡B₂₁₂₁₁  B₂₁₂₁₂  B₂₁₂₁₃⎤, ⎡B₂₁₃₁₁  B₂₁₃₁₂\n",
       "    ⎥⎥⎥  ⎢⎢⎢                      ⎥  ⎢                      ⎥  ⎢              \n",
       "₃₃₂₃⎥⎥⎥  ⎢⎢⎢B₂₁₁₂₁  B₂₁₁₂₂  B₂₁₁₂₃⎥  ⎢B₂₁₂₂₁  B₂₁₂₂₂  B₂₁₂₂₃⎥  ⎢B₂₁₃₂₁  B₂₁₃₂₂\n",
       "    ⎥⎥⎥  ⎢⎢⎢                      ⎥  ⎢                      ⎥  ⎢              \n",
       "₃₃₃₃⎦⎦⎦  ⎣⎣⎣B₂₁₁₃₁  B₂₁₁₃₂  B₂₁₁₃₃⎦  ⎣B₂₁₂₃₁  B₂₁₂₃₂  B₂₁₂₃₃⎦  ⎣B₂₁₃₃₁  B₂₁₃₃₂\n",
       "\n",
       "  B₂₁₃₁₃⎤⎤, ⎡⎡B₂₂₁₁₁  B₂₂₁₁₂  B₂₂₁₁₃⎤, ⎡B₂₂₂₁₁  B₂₂₂₁₂  B₂₂₂₁₃⎤, ⎡B₂₂₃₁₁  B₂₂₃\n",
       "        ⎥⎥  ⎢⎢                      ⎥  ⎢                      ⎥  ⎢            \n",
       "  B₂₁₃₂₃⎥⎥  ⎢⎢B₂₂₁₂₁  B₂₂₁₂₂  B₂₂₁₂₃⎥  ⎢B₂₂₂₂₁  B₂₂₂₂₂  B₂₂₂₂₃⎥  ⎢B₂₂₃₂₁  B₂₂₃\n",
       "        ⎥⎥  ⎢⎢                      ⎥  ⎢                      ⎥  ⎢            \n",
       "  B₂₁₃₃₃⎦⎦  ⎣⎣B₂₂₁₃₁  B₂₂₁₃₂  B₂₂₁₃₃⎦  ⎣B₂₂₂₃₁  B₂₂₂₃₂  B₂₂₂₃₃⎦  ⎣B₂₂₃₃₁  B₂₂₃\n",
       "\n",
       "₁₂  B₂₂₃₁₃⎤⎤, ⎡⎡B₂₃₁₁₁  B₂₃₁₁₂  B₂₃₁₁₃⎤, ⎡B₂₃₂₁₁  B₂₃₂₁₂  B₂₃₂₁₃⎤, ⎡B₂₃₃₁₁  B₂\n",
       "          ⎥⎥  ⎢⎢                      ⎥  ⎢                      ⎥  ⎢          \n",
       "₂₂  B₂₂₃₂₃⎥⎥  ⎢⎢B₂₃₁₂₁  B₂₃₁₂₂  B₂₃₁₂₃⎥  ⎢B₂₃₂₂₁  B₂₃₂₂₂  B₂₃₂₂₃⎥  ⎢B₂₃₃₂₁  B₂\n",
       "          ⎥⎥  ⎢⎢                      ⎥  ⎢                      ⎥  ⎢          \n",
       "₃₂  B₂₂₃₃₃⎦⎦  ⎣⎣B₂₃₁₃₁  B₂₃₁₃₂  B₂₃₁₃₃⎦  ⎣B₂₃₂₃₁  B₂₃₂₃₂  B₂₃₂₃₃⎦  ⎣B₂₃₃₃₁  B₂\n",
       "\n",
       "₃₃₁₂  B₂₃₃₁₃⎤⎤⎤⎤\n",
       "            ⎥⎥⎥⎥\n",
       "₃₃₂₂  B₂₃₃₂₃⎥⎥⎥⎥\n",
       "            ⎥⎥⎥⎥\n",
       "₃₃₃₂  B₂₃₃₃₃⎦⎦⎦⎦"
      ]
     },
     "execution_count": 50,
     "metadata": {},
     "output_type": "execute_result"
    }
   ],
   "source": [
    "X1"
   ]
  },
  {
   "cell_type": "code",
   "execution_count": 45,
   "metadata": {
    "collapsed": false
   },
   "outputs": [],
   "source": [
    "c = c1 + c2 + c3 + c4 + c5 + c6 + c7 + c8 + c9 + c10 + c11 + c12 + c13 + c14\n",
    "c = list(filter(lambda a: a != 0, c))"
   ]
  },
  {
   "cell_type": "code",
   "execution_count": 46,
   "metadata": {
    "collapsed": false
   },
   "outputs": [],
   "source": [
    "dc = {}\n",
    "for x in c:\n",
    "    dc[x]=1"
   ]
  },
  {
   "cell_type": "code",
   "execution_count": 47,
   "metadata": {
    "collapsed": false
   },
   "outputs": [],
   "source": [
    "dZE = {}\n",
    "for x in ZE:\n",
    "    dZE[x]=1"
   ]
  },
  {
   "cell_type": "code",
   "execution_count": 51,
   "metadata": {
    "collapsed": false
   },
   "outputs": [],
   "source": [
    "m = Symbol('m')\n",
    "n1 = Symbol('n')\n",
    "r = Symbol('r')\n",
    "s = Symbol('s')\n",
    "\n",
    "cof = [[A,B],[C,D],[bb],[gg],[cc],[hh]]\n",
    "power = [[[1,1,1,1],[1,1,1,1]],[[1,1,1,1],[1,1,1,1]]]"
   ]
  },
  {
   "cell_type": "code",
   "execution_count": 52,
   "metadata": {
    "collapsed": false
   },
   "outputs": [
    {
     "data": {
      "text/latex": [
       "$$\\left[\\begin{matrix}F{\\left (\\Phi,E_{1},E_{2},E_{3},I_{1},I_{2},I_{3} \\right )}\\\\A_{11111} E_{1}^{2} + A_{11211} E_{1} E_{2} + A_{11311} E_{1} E_{3} + A_{12211} E_{2}^{2} + A_{12311} E_{2} E_{3} + A_{13311} E_{3}^{2} + B_{11111} E_{1}^{2} + B_{11211} E_{1} E_{2} + B_{11311} E_{1} E_{3} + B_{12211} E_{2}^{2} + B_{12311} E_{2} E_{3} + B_{13311} E_{3}^{2} + E_{1} b_{11} + E_{2} b_{12} + E_{3} b_{13} + I_{1} c_{11} + I_{2} c_{12} + I_{3} c_{13}\\\\A_{21111} E_{1}^{2} + A_{21211} E_{1} E_{2} + A_{21311} E_{1} E_{3} + A_{22211} E_{2}^{2} + A_{22311} E_{2} E_{3} + A_{23311} E_{3}^{2} + B_{21111} E_{1}^{2} + B_{21211} E_{1} E_{2} + B_{21311} E_{1} E_{3} + B_{22211} E_{2}^{2} + B_{22311} E_{2} E_{3} + B_{23311} E_{3}^{2} + E_{1} b_{21} + E_{2} b_{22} + E_{3} b_{23} + I_{1} c_{21} + I_{2} c_{22} + I_{3} c_{23}\\\\A_{31111} E_{1}^{2} + A_{31211} E_{1} E_{2} + A_{31311} E_{1} E_{3} + A_{32211} E_{2}^{2} + A_{32311} E_{2} E_{3} + A_{33311} E_{3}^{2} + B_{31111} E_{1}^{2} + B_{31211} E_{1} E_{2} + B_{31311} E_{1} E_{3} + B_{32211} E_{2}^{2} + B_{32311} E_{2} E_{3} + B_{33311} E_{3}^{2} + E_{1} b_{31} + E_{2} b_{32} + E_{3} b_{33} + I_{1} c_{31} + I_{2} c_{32} + I_{3} c_{33}\\\\C_{11111} I_{1}^{2} + C_{11112} I_{1} I_{2} + C_{11113} I_{1} I_{3} + C_{11122} I_{2}^{2} + C_{11123} I_{2} I_{3} + C_{11133} I_{3}^{2} + D_{11111} I_{1}^{2} + D_{11112} I_{1} I_{2} + D_{11113} I_{1} I_{3} + D_{11122} I_{2}^{2} + D_{11123} I_{2} I_{3} + D_{11133} I_{3}^{2} + E_{1} h_{11} + E_{2} h_{12} + E_{3} h_{13} + I_{1} g_{11} + I_{2} g_{12} + I_{3} g_{13}\\\\C_{21111} I_{1}^{2} + C_{21112} I_{1} I_{2} + C_{21113} I_{1} I_{3} + C_{21122} I_{2}^{2} + C_{21123} I_{2} I_{3} + C_{21133} I_{3}^{2} + D_{21111} I_{1}^{2} + D_{21112} I_{1} I_{2} + D_{21113} I_{1} I_{3} + D_{21122} I_{2}^{2} + D_{21123} I_{2} I_{3} + D_{21133} I_{3}^{2} + E_{1} h_{21} + E_{2} h_{22} + E_{3} h_{23} + I_{1} g_{21} + I_{2} g_{22} + I_{3} g_{23}\\\\C_{31111} I_{1}^{2} + C_{31112} I_{1} I_{2} + C_{31113} I_{1} I_{3} + C_{31122} I_{2}^{2} + C_{31123} I_{2} I_{3} + C_{31133} I_{3}^{2} + D_{31111} I_{1}^{2} + D_{31112} I_{1} I_{2} + D_{31113} I_{1} I_{3} + D_{31122} I_{2}^{2} + D_{31123} I_{2} I_{3} + D_{31133} I_{3}^{2} + E_{1} h_{31} + E_{2} h_{32} + E_{3} h_{33} + I_{1} g_{31} + I_{2} g_{32} + I_{3} g_{33}\\end{matrix}\\right]$$"
      ],
      "text/plain": [
       "⎡                                                                             \n",
       "⎢                                                                             \n",
       "⎢         2                                          2                        \n",
       "⎢A₁₁₁₁₁⋅E₁  + A₁₁₂₁₁⋅E₁⋅E₂ + A₁₁₃₁₁⋅E₁⋅E₃ + A₁₂₂₁₁⋅E₂  + A₁₂₃₁₁⋅E₂⋅E₃ + A₁₃₃₁₁\n",
       "⎢                                                                             \n",
       "⎢         2                                          2                        \n",
       "⎢A₂₁₁₁₁⋅E₁  + A₂₁₂₁₁⋅E₁⋅E₂ + A₂₁₃₁₁⋅E₁⋅E₃ + A₂₂₂₁₁⋅E₂  + A₂₂₃₁₁⋅E₂⋅E₃ + A₂₃₃₁₁\n",
       "⎢                                                                             \n",
       "⎢         2                                          2                        \n",
       "⎢A₃₁₁₁₁⋅E₁  + A₃₁₂₁₁⋅E₁⋅E₂ + A₃₁₃₁₁⋅E₁⋅E₃ + A₃₂₂₁₁⋅E₂  + A₃₂₃₁₁⋅E₂⋅E₃ + A₃₃₃₁₁\n",
       "⎢                                                                             \n",
       "⎢         2                                          2                        \n",
       "⎢C₁₁₁₁₁⋅I₁  + C₁₁₁₁₂⋅I₁⋅I₂ + C₁₁₁₁₃⋅I₁⋅I₃ + C₁₁₁₂₂⋅I₂  + C₁₁₁₂₃⋅I₂⋅I₃ + C₁₁₁₃₃\n",
       "⎢                                                                             \n",
       "⎢         2                                          2                        \n",
       "⎢C₂₁₁₁₁⋅I₁  + C₂₁₁₁₂⋅I₁⋅I₂ + C₂₁₁₁₃⋅I₁⋅I₃ + C₂₁₁₂₂⋅I₂  + C₂₁₁₂₃⋅I₂⋅I₃ + C₂₁₁₃₃\n",
       "⎢                                                                             \n",
       "⎢         2                                          2                        \n",
       "⎣C₃₁₁₁₁⋅I₁  + C₃₁₁₁₂⋅I₁⋅I₂ + C₃₁₁₁₃⋅I₁⋅I₃ + C₃₁₁₂₂⋅I₂  + C₃₁₁₂₃⋅I₂⋅I₃ + C₃₁₁₃₃\n",
       "\n",
       "                 F(\\Phi, E₁, E₂, E₃, I₁, I₂, I₃)                              \n",
       "                                                                              \n",
       "   2            2                                          2                  \n",
       "⋅E₃  + B₁₁₁₁₁⋅E₁  + B₁₁₂₁₁⋅E₁⋅E₂ + B₁₁₃₁₁⋅E₁⋅E₃ + B₁₂₂₁₁⋅E₂  + B₁₂₃₁₁⋅E₂⋅E₃ + \n",
       "                                                                              \n",
       "   2            2                                          2                  \n",
       "⋅E₃  + B₂₁₁₁₁⋅E₁  + B₂₁₂₁₁⋅E₁⋅E₂ + B₂₁₃₁₁⋅E₁⋅E₃ + B₂₂₂₁₁⋅E₂  + B₂₂₃₁₁⋅E₂⋅E₃ + \n",
       "                                                                              \n",
       "   2            2                                          2                  \n",
       "⋅E₃  + B₃₁₁₁₁⋅E₁  + B₃₁₂₁₁⋅E₁⋅E₂ + B₃₁₃₁₁⋅E₁⋅E₃ + B₃₂₂₁₁⋅E₂  + B₃₂₃₁₁⋅E₂⋅E₃ + \n",
       "                                                                              \n",
       "   2            2                                          2                  \n",
       "⋅I₃  + D₁₁₁₁₁⋅I₁  + D₁₁₁₁₂⋅I₁⋅I₂ + D₁₁₁₁₃⋅I₁⋅I₃ + D₁₁₁₂₂⋅I₂  + D₁₁₁₂₃⋅I₂⋅I₃ + \n",
       "                                                                              \n",
       "   2            2                                          2                  \n",
       "⋅I₃  + D₂₁₁₁₁⋅I₁  + D₂₁₁₁₂⋅I₁⋅I₂ + D₂₁₁₁₃⋅I₁⋅I₃ + D₂₁₁₂₂⋅I₂  + D₂₁₁₂₃⋅I₂⋅I₃ + \n",
       "                                                                              \n",
       "   2            2                                          2                  \n",
       "⋅I₃  + D₃₁₁₁₁⋅I₁  + D₃₁₁₁₂⋅I₁⋅I₂ + D₃₁₁₁₃⋅I₁⋅I₃ + D₃₁₁₂₂⋅I₂  + D₃₁₁₂₃⋅I₂⋅I₃ + \n",
       "\n",
       "                                                                ⎤\n",
       "                                                                ⎥\n",
       "         2                                                      ⎥\n",
       "B₁₃₃₁₁⋅E₃  + E₁⋅b₁₁ + E₂⋅b₁₂ + E₃⋅b₁₃ + I₁⋅c₁₁ + I₂⋅c₁₂ + I₃⋅c₁₃⎥\n",
       "                                                                ⎥\n",
       "         2                                                      ⎥\n",
       "B₂₃₃₁₁⋅E₃  + E₁⋅b₂₁ + E₂⋅b₂₂ + E₃⋅b₂₃ + I₁⋅c₂₁ + I₂⋅c₂₂ + I₃⋅c₂₃⎥\n",
       "                                                                ⎥\n",
       "         2                                                      ⎥\n",
       "B₃₃₃₁₁⋅E₃  + E₁⋅b₃₁ + E₂⋅b₃₂ + E₃⋅b₃₃ + I₁⋅c₃₁ + I₂⋅c₃₂ + I₃⋅c₃₃⎥\n",
       "                                                                ⎥\n",
       "         2                                                      ⎥\n",
       "D₁₁₁₃₃⋅I₃  + E₁⋅h₁₁ + E₂⋅h₁₂ + E₃⋅h₁₃ + I₁⋅g₁₁ + I₂⋅g₁₂ + I₃⋅g₁₃⎥\n",
       "                                                                ⎥\n",
       "         2                                                      ⎥\n",
       "D₂₁₁₃₃⋅I₃  + E₁⋅h₂₁ + E₂⋅h₂₂ + E₃⋅h₂₃ + I₁⋅g₂₁ + I₂⋅g₂₂ + I₃⋅g₂₃⎥\n",
       "                                                                ⎥\n",
       "         2                                                      ⎥\n",
       "D₃₁₁₃₃⋅I₃  + E₁⋅h₃₁ + E₂⋅h₃₂ + E₃⋅h₃₃ + I₁⋅g₃₁ + I₂⋅g₃₂ + I₃⋅g₃₃⎦"
      ]
     },
     "execution_count": 52,
     "metadata": {},
     "output_type": "execute_result"
    }
   ],
   "source": [
    "L0 = pow_difeomorphism(cof,n,ZX,ZE,power)\n",
    "Matrix(L0)"
   ]
  },
  {
   "cell_type": "code",
   "execution_count": 32,
   "metadata": {
    "collapsed": false
   },
   "outputs": [],
   "source": [
    "sube = {}\n",
    "sube[A[0][0][1][0,0]] = 0\n",
    "sube[A[0][1][1][0,0]] = 0 \n",
    "sube[B[1][0][0][0,0]] = 0 \n",
    "sube[B[1][0][1][0,0]] = 0 \n",
    "sube[C[0][0][0][0,0]] = 1/(4*A[0][0][0][0,0])\n",
    "sube[C[0][0][0][0,1]] = 0\n",
    "sube[C[0][0][0][1,1]] = 0 \n",
    "sube[D[1][0][0][0,0]] = 0 \n",
    "sube[D[1][0][0][0,1]] = 0 \n",
    "sube[D[1][0][0][1,1]] = 1/(4*B[1][1][1][0,0]) \n",
    "sube[bb[0][0]] = 0\n",
    "sube[bb[0][1]] = 0 \n",
    "sube[bb[1][0]] = 0 \n",
    "sube[bb[1][1]] = 0 \n",
    "sube[cc[0][0]] = 0 \n",
    "sube[cc[0][1]] = 0 \n",
    "sube[cc[1][0]] = 0 \n",
    "sube[cc[1][1]] = 0 \n",
    "sube[gg[0][0]] = 0 \n",
    "sube[gg[0][1]] = 0 \n",
    "sube[gg[1][0]] = 0 \n",
    "sube[gg[1][1]] = 0 \n",
    "sube[hh[0][0]] = 0 \n",
    "sube[hh[0][1]] = 0 \n",
    "sube[hh[1][0]] = 0 \n",
    "sube[hh[1][1]] = 0"
   ]
  },
  {
   "cell_type": "code",
   "execution_count": 33,
   "metadata": {
    "collapsed": false
   },
   "outputs": [
    {
     "data": {
      "image/png": "[encoded data removed]",
      "text/latex": [
       "$$\\left \\{ A_{11211} : 0, \\quad A_{12211} : 0, \\quad B_{21111} : 0, \\quad B_{21211} : 0, \\quad C_{11111} : \\frac{1}{4 A_{11111}}, \\quad C_{11112} : 0, \\quad C_{11122} : 0, \\quad D_{21111} : 0, \\quad D_{21112} : 0, \\quad D_{21122} : \\frac{1}{4 B_{22211}}, \\quad b_{11} : 0, \\quad b_{12} : 0, \\quad b_{21} : 0, \\quad b_{22} : 0, \\quad c_{11} : 0, \\quad c_{12} : 0, \\quad c_{21} : 0, \\quad c_{22} : 0, \\quad g_{11} : 0, \\quad g_{12} : 0, \\quad g_{21} : 0, \\quad g_{22} : 0, \\quad h_{11} : 0, \\quad h_{12} : 0, \\quad h_{21} : 0, \\quad h_{22} : 0\\right \\}$$"
      ],
      "text/plain": [
       "⎧                                                       1                     \n",
       "⎨A₁₁₂₁₁: 0, A₁₂₂₁₁: 0, B₂₁₁₁₁: 0, B₂₁₂₁₁: 0, C₁₁₁₁₁: ────────, C₁₁₁₁₂: 0, C₁₁₁\n",
       "⎩                                                    4⋅A₁₁₁₁₁                 \n",
       "\n",
       "                                        1                                     \n",
       "₂₂: 0, D₂₁₁₁₁: 0, D₂₁₁₁₂: 0, D₂₁₁₂₂: ────────, b₁₁: 0, b₁₂: 0, b₂₁: 0, b₂₂: 0,\n",
       "                                     4⋅B₂₂₂₁₁                                 \n",
       "\n",
       "                                                                              \n",
       " c₁₁: 0, c₁₂: 0, c₂₁: 0, c₂₂: 0, g₁₁: 0, g₁₂: 0, g₂₁: 0, g₂₂: 0, h₁₁: 0, h₁₂: \n",
       "                                                                              \n",
       "\n",
       "                 ⎫\n",
       "0, h₂₁: 0, h₂₂: 0⎬\n",
       "                 ⎭"
      ]
     },
     "execution_count": 33,
     "metadata": {},
     "output_type": "execute_result"
    }
   ],
   "source": [
    "sube"
   ]
  },
  {
   "cell_type": "code",
   "execution_count": 34,
   "metadata": {
    "collapsed": false
   },
   "outputs": [],
   "source": [
    "for y in range(1,len(L0)):\n",
    "    L0[y] = L0[y].subs(sube)"
   ]
  },
  {
   "cell_type": "code",
   "execution_count": 35,
   "metadata": {
    "collapsed": false
   },
   "outputs": [
    {
     "data": {
      "text/latex": [
       "$$\\left[\\begin{matrix}F{\\left (\\Phi,E_{1},E_{2},I_{1},I_{2} \\right )}\\\\A_{11111} E_{1}^{2} + A_{12111} E_{2}^{2}\\\\B_{22111} E_{2}^{2}\\\\\\frac{C_{11211} E_{2}}{E_{1}} I_{1}^{2} + \\frac{C_{11212} E_{2}}{E_{1}} I_{1} I_{2} + \\frac{C_{11222} E_{2}}{E_{1}} I_{2}^{2} + \\frac{C_{12111} E_{1}}{E_{2}} I_{1}^{2} + \\frac{C_{12112} E_{1}}{E_{2}} I_{1} I_{2} + \\frac{C_{12122} E_{1}}{E_{2}} I_{2}^{2} + \\frac{I_{1}^{2}}{4 A_{11111}}\\\\\\frac{D_{21211} E_{2}}{E_{1}} I_{1}^{2} + \\frac{D_{21212} E_{2}}{E_{1}} I_{1} I_{2} + \\frac{D_{21222} E_{2}}{E_{1}} I_{2}^{2} + \\frac{D_{22111} E_{1}}{E_{2}} I_{1}^{2} + \\frac{D_{22112} E_{1}}{E_{2}} I_{1} I_{2} + \\frac{D_{22122} E_{1}}{E_{2}} I_{2}^{2} + \\frac{I_{2}^{2}}{4 B_{22211}}\\end{matrix}\\right]$$"
      ],
      "text/plain": [
       "⎡                                          F(\\Phi, E₁, E₂, I₁, I₂)            \n",
       "⎢                                                                             \n",
       "⎢                                                   2            2            \n",
       "⎢                                          A₁₁₁₁₁⋅E₁  + A₁₂₁₁₁⋅E₂             \n",
       "⎢                                                                             \n",
       "⎢                                                          2                  \n",
       "⎢                                                 B₂₂₁₁₁⋅E₂                   \n",
       "⎢                                                                             \n",
       "⎢            2                                 2               2              \n",
       "⎢C₁₁₂₁₁⋅E₂⋅I₁    C₁₁₂₁₂⋅E₂⋅I₁⋅I₂   C₁₁₂₂₂⋅E₂⋅I₂    C₁₂₁₁₁⋅E₁⋅I₁    C₁₂₁₁₂⋅E₁⋅I\n",
       "⎢───────────── + ─────────────── + ───────────── + ───────────── + ───────────\n",
       "⎢      E₁               E₁               E₁              E₂               E₂  \n",
       "⎢                                                                             \n",
       "⎢            2                                 2               2              \n",
       "⎢D₂₁₂₁₁⋅E₂⋅I₁    D₂₁₂₁₂⋅E₂⋅I₁⋅I₂   D₂₁₂₂₂⋅E₂⋅I₂    D₂₂₁₁₁⋅E₁⋅I₁    D₂₂₁₁₂⋅E₁⋅I\n",
       "⎢───────────── + ─────────────── + ───────────── + ───────────── + ───────────\n",
       "⎣      E₁               E₁               E₁              E₂               E₂  \n",
       "\n",
       "                               ⎤\n",
       "                               ⎥\n",
       "                               ⎥\n",
       "                               ⎥\n",
       "                               ⎥\n",
       "                               ⎥\n",
       "                               ⎥\n",
       "                               ⎥\n",
       "                   2       2   ⎥\n",
       "₁⋅I₂   C₁₂₁₂₂⋅E₁⋅I₂      I₁    ⎥\n",
       "──── + ───────────── + ────────⎥\n",
       "             E₂        4⋅A₁₁₁₁₁⎥\n",
       "                               ⎥\n",
       "                   2       2   ⎥\n",
       "₁⋅I₂   D₂₂₁₂₂⋅E₁⋅I₂      I₂    ⎥\n",
       "──── + ───────────── + ────────⎥\n",
       "             E₂        4⋅B₂₂₂₁₁⎦"
      ]
     },
     "execution_count": 35,
     "metadata": {},
     "output_type": "execute_result"
    }
   ],
   "source": [
    "Matrix(L0)"
   ]
  },
  {
   "cell_type": "markdown",
   "metadata": {},
   "source": [
    "## Aqui empieza todo"
   ]
  },
  {
   "cell_type": "code",
   "execution_count": 53,
   "metadata": {
    "collapsed": false
   },
   "outputs": [
    {
     "data": {
      "text/latex": [
       "$$\\left ( \\left[\\begin{matrix}f{\\left (F,X_{1},X_{2},X_{3},Y_{1},Y_{2},Y_{3} \\right )} & 0 & 0\\\\0 & f{\\left (F,X_{1},X_{2},X_{3},Y_{1},Y_{2},Y_{3} \\right )} & 0\\\\0 & 0 & f{\\left (F,X_{1},X_{2},X_{3},Y_{1},Y_{2},Y_{3} \\right )}\\end{matrix}\\right], \\quad \\left[\\begin{matrix}E_{1} I_{1} p_{11} + E_{2} I_{2} p_{12} + E_{3} I_{3} p_{13} & 0 & 0\\\\0 & E_{1} I_{1} p_{21} + E_{2} I_{2} p_{22} + E_{3} I_{3} p_{23} & 0\\\\0 & 0 & E_{1} I_{1} p_{31} + E_{2} I_{2} p_{32} + E_{3} I_{3} p_{33}\\end{matrix}\\right]\\right )$$"
      ],
      "text/plain": [
       "⎛⎡f(F, X₁, X₂, X₃, Y₁, Y₂, Y₃)               0                             0  \n",
       "⎜⎢                                                                            \n",
       "⎜⎢             0                f(F, X₁, X₂, X₃, Y₁, Y₂, Y₃)               0  \n",
       "⎜⎢                                                                            \n",
       "⎝⎣             0                             0                f(F, X₁, X₂, X₃,\n",
       "\n",
       "            ⎤, ⎡E₁⋅I₁⋅p₁₁ + E₂⋅I₂⋅p₁₂ + E₃⋅I₃⋅p₁₃                  0          \n",
       "            ⎥  ⎢                                                              \n",
       "            ⎥  ⎢                0                  E₁⋅I₁⋅p₂₁ + E₂⋅I₂⋅p₂₂ + E₃⋅\n",
       "            ⎥  ⎢                                                              \n",
       " Y₁, Y₂, Y₃)⎦  ⎣                0                                  0          \n",
       "\n",
       "                        0                ⎤⎞\n",
       "                                         ⎥⎟\n",
       "I₃⋅p₂₃                  0                ⎥⎟\n",
       "                                         ⎥⎟\n",
       "        E₁⋅I₁⋅p₃₁ + E₂⋅I₂⋅p₃₂ + E₃⋅I₃⋅p₃₃⎦⎠"
      ]
     },
     "execution_count": 53,
     "metadata": {},
     "output_type": "execute_result"
    }
   ],
   "source": [
    "f = zeros(n)\n",
    "h = zeros(n)\n",
    "\n",
    "for x in range(0,n):\n",
    "    for y in range(0,n):\n",
    "        if x == y:\n",
    "            f[x,y]=Function('f')(*ZX)\n",
    "            part = 0\n",
    "            for z in range(1,n+1):\n",
    "                part = part + p[x][z-1]*ZE[z]*ZE[z+n]\n",
    "            h[x,y]=0\n",
    "            h[x,y]=part\n",
    "f,h"
   ]
  },
  {
   "cell_type": "code",
   "execution_count": 55,
   "metadata": {
    "collapsed": false,
    "slideshow": {
     "slide_type": "slide"
    }
   },
   "outputs": [],
   "source": [
    "exclude = [(4,1),(5,2),(6,3)]\n",
    "S,EQS = poly_difeomorphism(L0,ZE,dc,dZE,h,simplify) \n",
    "EQA = EQS[:,:]\n",
    "EQS,elias,complice = clean_system02(EQS,n,dZE,dc,factor,exclude)\n",
    "beep(sys.argv[1])"
   ]
  },
  {
   "cell_type": "code",
   "execution_count": null,
   "metadata": {
    "collapsed": true
   },
   "outputs": [],
   "source": [
    "ew = EQS[1,4]\n",
    "chomp = []\n",
    "for z in range(1,n+1):\n",
    "                chomp.append(ZE[z]*ZE[z+n])\n",
    "chew = EQS[1:1+n,1+n:2*n+1]\n",
    "\n",
    "tai = []\n",
    "for x in range(0,n):\n",
    "    for y in range(0,n):\n",
    "        if x == y:\n",
    "            for z in chomp:\n",
    "                tai.append(factor(chew[x,y][z]))\n",
    "#             tai.append(factor(chew[x,y][1]))\n",
    "for x in ew:\n",
    "    ew[x] = factor(ew[x])\n",
    "Matrix(list(ew.items()))"
   ]
  },
  {
   "cell_type": "code",
   "execution_count": null,
   "metadata": {
    "collapsed": false
   },
   "outputs": [],
   "source": [
    "all_sol = solve_part(ew,simplify,tai)\n",
    "len(list(all_sol.items()))"
   ]
  },
  {
   "cell_type": "code",
   "execution_count": null,
   "metadata": {
    "collapsed": false
   },
   "outputs": [],
   "source": [
    "del all_sol[A[0][0][1][0,0]]"
   ]
  },
  {
   "cell_type": "code",
   "execution_count": null,
   "metadata": {
    "collapsed": true
   },
   "outputs": [],
   "source": [
    "Matrix(list(all_sol.items()))"
   ]
  },
  {
   "cell_type": "code",
   "execution_count": null,
   "metadata": {
    "collapsed": false
   },
   "outputs": [],
   "source": [
    "i = 3\n",
    "toi = tai[:]\n",
    "for x in all_sol.keys():\n",
    "    subs_e = {}\n",
    "    subs_e[x] = all_sol[x]\n",
    "    for y in all_sol:\n",
    "        all_sol[y] = all_sol[y].subs(subs_e)\n",
    "    for y in range(1,len(L0)):\n",
    "        L0[y] = L0[y].subs(subs_e)\n",
    "#     for y in range(0,len(toi)):\n",
    "#         toi[y] = toi[y].subs(subs_e) "
   ]
  },
  {
   "cell_type": "code",
   "execution_count": null,
   "metadata": {
    "collapsed": false
   },
   "outputs": [],
   "source": [
    "i = 1\n",
    "key = list(all_sol.keys())\n",
    "subs_e = {}\n",
    "subs_e[key[i]] = all_sol[key[i]]\n",
    "for x in range(0,len(L0)):\n",
    "    L0[x] = L0[x].subs(subs_e)\n",
    "subs_e"
   ]
  },
  {
   "cell_type": "code",
   "execution_count": null,
   "metadata": {
    "collapsed": false
   },
   "outputs": [],
   "source": [
    "Matrix(L0)"
   ]
  },
  {
   "cell_type": "code",
   "execution_count": null,
   "metadata": {
    "collapsed": true
   },
   "outputs": [],
   "source": [
    "Matrix(tai)"
   ]
  },
  {
   "cell_type": "code",
   "execution_count": null,
   "metadata": {
    "collapsed": false
   },
   "outputs": [],
   "source": [
    "L1 = L0[:]"
   ]
  },
  {
   "cell_type": "code",
   "execution_count": null,
   "metadata": {
    "collapsed": true
   },
   "outputs": [],
   "source": [
    "L0 = L1[:]"
   ]
  },
  {
   "cell_type": "code",
   "execution_count": null,
   "metadata": {
    "collapsed": false
   },
   "outputs": [],
   "source": [
    "CM_LD = contactomorphism_equations(L0,ZE,expand,f)\n",
    "Ja = Matrix(L0).jacobian(ZE)\n",
    "DeJ = Ja.berkowitz_det()\n",
    "for x in range(0,2*n+1):\n",
    "    DeJ = DeJ.subs([(diff(L0[0],ZE[x]),CM_LD[x])])"
   ]
  },
  {
   "cell_type": "code",
   "execution_count": null,
   "metadata": {
    "collapsed": false
   },
   "outputs": [],
   "source": [
    "for x in range(0,2*n+1):\n",
    "    Ja = Ja.subs([(diff(L0[0],ZE[x]),CM_LD[x])])\n",
    "simplify(Ja)"
   ]
  },
  {
   "cell_type": "code",
   "execution_count": null,
   "metadata": {
    "collapsed": false
   },
   "outputs": [],
   "source": [
    "DeJ = simplify(DeJ)\n",
    "DeJ"
   ]
  },
  {
   "cell_type": "code",
   "execution_count": null,
   "metadata": {
    "collapsed": false
   },
   "outputs": [],
   "source": [
    "ew = EQS[2,3]\n",
    "for x in ew:\n",
    "    ew[x] = factor(ew[x])\n",
    "Matrix(list(ew.items()))"
   ]
  },
  {
   "cell_type": "code",
   "execution_count": null,
   "metadata": {
    "collapsed": false
   },
   "outputs": [],
   "source": [
    "ew = EQS[2,4]\n",
    "for x in ew:\n",
    "    ew[x] = factor(ew[x])\n",
    "Matrix(list(ew.keys())),Matrix(list(ew.values()))"
   ]
  },
  {
   "cell_type": "code",
   "execution_count": 17,
   "metadata": {
    "collapsed": false
   },
   "outputs": [
    {
     "data": {
      "image/png": "[encoded data removed]",
      "text/latex": [
       "$$\\left ( \\left [ E_{1} I_{1}, \\quad E_{2} I_{2}\\right ], \\quad 0\\right )$$"
      ],
      "text/plain": [
       "([E₁⋅I₁, E₂⋅I₂], 0)"
      ]
     },
     "execution_count": 17,
     "metadata": {},
     "output_type": "execute_result"
    }
   ],
   "source": [
    "tabix = 0\n",
    "chomp = []\n",
    "for z in range(1,n+1):\n",
    "                chomp.append(ZE[z]*ZE[z+n])\n",
    "chomp,tabix"
   ]
  },
  {
   "cell_type": "code",
   "execution_count": 18,
   "metadata": {
    "collapsed": true
   },
   "outputs": [
    {
     "name": "stdout",
     "output_type": "stream",
     "text": [
      "eq0 = -C11221*b11 - D21221*b21\n",
      "eq1 = b11*h11 + b21*h21\n",
      "eq2 = -C11212*b11 - D21212*b21\n",
      "eq3 = A11112*C11211 + B21112*D21211\n",
      "eq4 = C12121*b11 + D22121*b21\n",
      "eq5 = A11111*h11 + B21111*h21\n",
      "eq6 = A11112*C11221 + B21112*D21221\n",
      "eq7 = C12111*b11 + D22111*b21\n",
      "eq8 = C12112*b11 + D22112*b21\n",
      "eq9 = A11111*C11211 + B21111*D21211\n",
      "eq10 = A11112*C12111 + B21112*D22111\n",
      "eq11 = A11111*C12112 + B21111*D22112\n",
      "eq12 = -C11211*b11 - D21211*b21\n",
      "eq13 = A11111*C11221 + A11112*C11212 + B21111*D21221 + B21112*D21212\n",
      "eq14 = A11111*C11212 + B21111*D21212\n",
      "eq15 = A11112*h11 + B21112*h21\n",
      "eq16 = A11111*C12111 + B21111*D22111\n",
      "eq17 = A11112*C12121 + B21112*D22121\n",
      "eq18 = b11*h12 + b21*h22\n",
      "eq19 = A11111*h12 + B21111*h22\n",
      "eq20 = A11112*h12 + B21112*h22\n",
      "eq21 = b11*g11 + b21*g21 + c11*h11 + c21*h21\n",
      "eq22 = A11111*g11 + B21111*g21\n",
      "eq23 = A12111*C12112 + B22111*D22112\n",
      "eq24 = A11112*C11121 + B21112*D21121\n",
      "eq25 = A12111*C11212 + B22111*D21212\n",
      "eq26 = C12112*c11 + D22112*c21\n",
      "eq27 = A11111*C11112 + B21111*D21112\n",
      "eq28 = A12111*C11221 + B22111*D21221\n",
      "eq29 = -C11121*b11 - D21121*b21\n",
      "eq30 = A12111*h11 + B22111*h21\n",
      "eq31 = A11112*C12112 + B21112*D22112\n",
      "eq32 = -p11\n",
      "eq33 = -C11221*c11 - D21221*c21\n",
      "eq34 = C12121*c11 + D22121*c21\n",
      "eq35 = A12111*C12111 + B22111*D22111\n",
      "eq36 = C12111*c11 + D22111*c21\n",
      "eq37 = -A11112*C11212 - B21112*D21212 - p12\n",
      "eq38 = -C11212*c11 - D21212*c21\n",
      "eq39 = A12111*C11211 + B22111*D21211\n",
      "eq40 = -C11211*c11 - D21211*c21\n",
      "eq41 = C11112*b11 + D21112*b21\n",
      "eq42 = A11112*g11 + B21112*g21\n",
      "eq43 = b11*g12 + b21*g22 + c12*h11 + c22*h21\n",
      "eq44 = A11111*C12121 + B21111*D22121\n",
      "eq45 = A11111*g12 + B21111*g22\n",
      "eq46 = A12112*h11 + B22112*h21\n",
      "eq47 = A12112*C11211 + B22112*D21211\n",
      "eq48 = C12112*c12 + D22112*c22\n",
      "eq49 = A11112*g12 + B21112*g22\n",
      "eq50 = A12112*C11221 + B22112*D21221\n",
      "eq51 = A12112*C12121 + B22112*D22121\n",
      "eq52 = -C11221*c12 - D21221*c22\n",
      "eq53 = -C11212*c12 - D21212*c22\n",
      "eq54 = C12121*c12 + D22121*c22\n",
      "eq55 = A11111*C11221 + A11112*C11212 - A12112*C12112 + B21111*D21221 + B21112*D21212 - B22112*D22112\n",
      "eq56 = C12111*c12 + D22111*c22\n",
      "eq57 = A12112*C12111 + B22112*D22111\n",
      "eq58 = A12112*C11212 + B22112*D21212\n",
      "eq59 = -C11211*c12 - D21211*c22\n",
      "eq60 = b12*h11 + b22*h21\n",
      "eq61 = -C11212*b12 - D21212*b22\n",
      "eq62 = -C11221*b12 - D21221*b22\n",
      "eq63 = C12121*b12 + D22121*b22\n",
      "eq64 = C12111*b12 + D22111*b22\n",
      "eq65 = C12112*b12 + D22112*b22\n",
      "eq66 = -C11211*b12 - D21211*b22\n",
      "eq67 = A12111*C12121 + A12112*C12112 + B22111*D22121 + B22112*D22112\n",
      "eq68 = b12*h12 + b22*h22\n",
      "eq69 = A12111*h12 + B22111*h22\n",
      "eq70 = A12112*h12 + B22112*h22\n",
      "eq71 = b12*g11 + b22*g21 + c11*h12 + c21*h22\n",
      "eq72 = A12111*C11112 + B22111*D21112\n",
      "eq73 = A12111*g11 + B22111*g21\n",
      "eq74 = -A12112*C12112 - B22112*D22112\n",
      "eq75 = A12112*g11 + B22112*g21\n",
      "eq76 = -C11121*b12 - D21121*b22\n",
      "eq77 = A12112*C11121 + B22112*D21121\n",
      "eq78 = C11112*b12 + D21112*b22\n",
      "eq79 = b12*g12 + b22*g22 + c12*h12 + c22*h22\n",
      "eq80 = A12111*g12 + B22111*g22\n",
      "eq81 = A12112*g12 + B22112*g22\n",
      "eq82 = -p22\n",
      "eq83 = A11112*C11212 + A12111*C12121 - A12112*C12112 + B21112*D21212 + B22111*D22121 - B22112*D22112 - p21\n",
      "eq84 = c11*g11 + c21*g21\n",
      "eq85 = -C11121*c11 - D21121*c21\n",
      "eq86 = A12111*C11121 + B22111*D21121\n",
      "eq87 = A11111*C11221 + A12111*C12121 + B21111*D21221 + B22111*D22121\n",
      "eq88 = C11112*c11 + D21112*c21\n",
      "eq89 = A11111*C11121 + B21111*D21121\n",
      "eq90 = c11*g12 + c21*g22\n",
      "eq91 = c12*g11 + c22*g21\n",
      "eq92 = A11112*C11212 + A12112*C12112 + B21112*D21212 + B22112*D22112\n",
      "eq93 = -C11121*c12 - D21121*c22\n",
      "eq94 = A11112*C11112 + B21112*D21112\n",
      "eq95 = A12112*C11112 + B22112*D21112\n",
      "eq96 = C11112*c12 + D21112*c22\n",
      "eq97 = c12*g12 + c22*g22\n"
     ]
    }
   ],
   "source": [
    "for a in range(0,2*n+1):\n",
    "    for b in range(0,2*n+1):\n",
    "        ew = EQS[a,b]\n",
    "        if ew == 0 or ew == {}: continue\n",
    "        if a in range(n+1,2*n+1) and b in range(1,n+1): continue\n",
    "        for x in ew:\n",
    "            if ew[x] != 0:\n",
    "                print ('eq'+str(tabix)+' = ' +str(ew[x]).replace('_',''))\n",
    "                tabix = tabix+1"
   ]
  },
  {
   "cell_type": "code",
   "execution_count": 19,
   "metadata": {
    "collapsed": true
   },
   "outputs": [
    {
     "name": "stdout",
     "output_type": "stream",
     "text": [
      "eq0==0&&\n",
      "eq1==0&&\n",
      "eq2==0&&\n",
      "eq3==0&&\n",
      "eq4==0&&\n",
      "eq5==0&&\n",
      "eq6==0&&\n",
      "eq7==0&&\n",
      "eq8==0&&\n",
      "eq9==0&&\n",
      "eq10==0&&\n",
      "eq11==0&&\n",
      "eq12==0&&\n",
      "eq13==0&&\n",
      "eq14==0&&\n",
      "eq15==0&&\n",
      "eq16==0&&\n",
      "eq17==0&&\n",
      "eq18==0&&\n",
      "eq19==0&&\n",
      "eq20==0&&\n",
      "eq21==0&&\n",
      "eq22==0&&\n",
      "eq23==0&&\n",
      "eq24==0&&\n",
      "eq25==0&&\n",
      "eq26==0&&\n",
      "eq27==0&&\n",
      "eq28==0&&\n",
      "eq29==0&&\n",
      "eq30==0&&\n",
      "eq31==0&&\n",
      "eq32==0&&\n",
      "eq33==0&&\n",
      "eq34==0&&\n",
      "eq35==0&&\n",
      "eq36==0&&\n",
      "eq37==0&&\n",
      "eq38==0&&\n",
      "eq39==0&&\n",
      "eq40==0&&\n",
      "eq41==0&&\n",
      "eq42==0&&\n",
      "eq43==0&&\n",
      "eq44==0&&\n",
      "eq45==0&&\n",
      "eq46==0&&\n",
      "eq47==0&&\n",
      "eq48==0&&\n",
      "eq49==0&&\n",
      "eq50==0&&\n",
      "eq51==0&&\n",
      "eq52==0&&\n",
      "eq53==0&&\n",
      "eq54==0&&\n",
      "eq55==0&&\n",
      "eq56==0&&\n",
      "eq57==0&&\n",
      "eq58==0&&\n",
      "eq59==0&&\n",
      "eq60==0&&\n",
      "eq61==0&&\n",
      "eq62==0&&\n",
      "eq63==0&&\n",
      "eq64==0&&\n",
      "eq65==0&&\n",
      "eq66==0&&\n",
      "eq67==0&&\n",
      "eq68==0&&\n",
      "eq69==0&&\n",
      "eq70==0&&\n",
      "eq71==0&&\n",
      "eq72==0&&\n",
      "eq73==0&&\n",
      "eq74==0&&\n",
      "eq75==0&&\n",
      "eq76==0&&\n",
      "eq77==0&&\n",
      "eq78==0&&\n",
      "eq79==0&&\n",
      "eq80==0&&\n",
      "eq81==0&&\n",
      "eq82==0&&\n",
      "eq83==0&&\n",
      "eq84==0&&\n",
      "eq85==0&&\n",
      "eq86==0&&\n",
      "eq87==0&&\n",
      "eq88==0&&\n",
      "eq89==0&&\n",
      "eq90==0&&\n",
      "eq91==0&&\n",
      "eq92==0&&\n",
      "eq93==0&&\n",
      "eq94==0&&\n",
      "eq95==0&&\n",
      "eq96==0&&\n",
      "eq97==0&&\n"
     ]
    }
   ],
   "source": [
    "for x in range(0,98):\n",
    "    print ('eq'+str(x)+'==0&&')"
   ]
  },
  {
   "cell_type": "code",
   "execution_count": 20,
   "metadata": {
    "collapsed": false
   },
   "outputs": [
    {
     "data": {
      "image/png": "[encoded data removed]",
      "text/latex": [
       "$$\\left\\{A_{11111}, A_{11112}, A_{12111}, A_{12112}, B_{21111}, B_{21112}, B_{22111}, B_{22112}, C_{11111}, C_{11112}, C_{11121}, C_{11211}, C_{11212}, C_{11221}, C_{12111}, C_{12112}, C_{12121}, D_{21111}, D_{21112}, D_{21121}, D_{21211}, D_{21212}, D_{21221}, D_{22111}, D_{22112}, D_{22121}, E_{1}, E_{2}, I_{1}, I_{2}, \\Phi, b_{11}, b_{12}, b_{21}, b_{22}, c_{11}, c_{12}, c_{21}, c_{22}, g_{11}, g_{12}, g_{21}, g_{22}, h_{11}, h_{12}, h_{21}, h_{22}\\right\\}$$"
      ],
      "text/plain": [
       "set([A₁₁₁₁₁, A₁₁₁₁₂, A₁₂₁₁₁, A₁₂₁₁₂, B₂₁₁₁₁, B₂₁₁₁₂, B₂₂₁₁₁, B₂₂₁₁₂, C₁₁₁₁₁, C\n",
       "₁₁₁₁₂, C₁₁₁₂₁, C₁₁₂₁₁, C₁₁₂₁₂, C₁₁₂₂₁, C₁₂₁₁₁, C₁₂₁₁₂, C₁₂₁₂₁, D₂₁₁₁₁, D₂₁₁₁₂,\n",
       " D₂₁₁₂₁, D₂₁₂₁₁, D₂₁₂₁₂, D₂₁₂₂₁, D₂₂₁₁₁, D₂₂₁₁₂, D₂₂₁₂₁, E₁, E₂, I₁, I₂, \\Phi,\n",
       " b₁₁, b₁₂, b₂₁, b₂₂, c₁₁, c₁₂, c₂₁, c₂₂, g₁₁, g₁₂, g₂₁, g₂₂, h₁₁, h₁₂, h₂₁, h₂\n",
       "₂])"
      ]
     },
     "execution_count": 20,
     "metadata": {},
     "output_type": "execute_result"
    }
   ],
   "source": [
    "remi = set()\n",
    "for x in L0:\n",
    "    uin = x.free_symbols\n",
    "    remi.update(uin)\n",
    "remi"
   ]
  },
  {
   "cell_type": "code",
   "execution_count": null,
   "metadata": {
    "collapsed": false
   },
   "outputs": [],
   "source": [
    "len(remi)"
   ]
  },
  {
   "cell_type": "code",
   "execution_count": null,
   "metadata": {
    "collapsed": true
   },
   "outputs": [],
   "source": []
  },
  {
   "cell_type": "code",
   "execution_count": null,
   "metadata": {
    "collapsed": false
   },
   "outputs": [],
   "source": [
    "len(elias)"
   ]
  },
  {
   "cell_type": "code",
   "execution_count": null,
   "metadata": {
    "collapsed": false
   },
   "outputs": [],
   "source": [
    "elias[3][1,3]"
   ]
  },
  {
   "cell_type": "code",
   "execution_count": null,
   "metadata": {
    "collapsed": false
   },
   "outputs": [],
   "source": [
    "complice[3]"
   ]
  },
  {
   "cell_type": "code",
   "execution_count": null,
   "metadata": {
    "collapsed": false
   },
   "outputs": [],
   "source": [
    "EQA[1,3]"
   ]
  },
  {
   "cell_type": "code",
   "execution_count": null,
   "metadata": {
    "collapsed": false
   },
   "outputs": [],
   "source": [
    "EQA[2,4]"
   ]
  },
  {
   "cell_type": "code",
   "execution_count": null,
   "metadata": {
    "collapsed": true
   },
   "outputs": [],
   "source": [
    "EQS[1:1+n,n+1:2*n+1]"
   ]
  },
  {
   "cell_type": "code",
   "execution_count": null,
   "metadata": {
    "collapsed": true
   },
   "outputs": [],
   "source": [
    "EQS[1:1+n,1:1+n]"
   ]
  },
  {
   "cell_type": "code",
   "execution_count": null,
   "metadata": {
    "collapsed": true
   },
   "outputs": [],
   "source": [
    "EQS[1+n:2*n+1,1+n:2*n+1]"
   ]
  },
  {
   "cell_type": "code",
   "execution_count": null,
   "metadata": {
    "collapsed": false
   },
   "outputs": [],
   "source": [
    "elias[1][0]"
   ]
  },
  {
   "cell_type": "code",
   "execution_count": null,
   "metadata": {
    "collapsed": true
   },
   "outputs": [],
   "source": [
    "complice[3][2]"
   ]
  },
  {
   "cell_type": "code",
   "execution_count": null,
   "metadata": {
    "collapsed": true
   },
   "outputs": [],
   "source": []
  },
  {
   "cell_type": "code",
   "execution_count": null,
   "metadata": {
    "collapsed": false
   },
   "outputs": [],
   "source": [
    "tabix = 0\n",
    "for x in elias:\n",
    "    if x[1,2][ZE[3]*ZE[4]] == 0:\n",
    "        print (tabix)\n",
    "        break\n",
    "    tabix = tabix + 1"
   ]
  },
  {
   "cell_type": "code",
   "execution_count": null,
   "metadata": {
    "collapsed": false
   },
   "outputs": [],
   "source": [
    "elias[31][1,2][ZE[3]*ZE[4]]"
   ]
  },
  {
   "cell_type": "code",
   "execution_count": null,
   "metadata": {
    "collapsed": false
   },
   "outputs": [],
   "source": [
    "complice[32]"
   ]
  },
  {
   "cell_type": "code",
   "execution_count": 56,
   "metadata": {
    "collapsed": false
   },
   "outputs": [
    {
     "data": {
      "text/latex": [
       "$$\\left[\\begin{matrix}I_{3} & C_{11113} b_{11} + C_{21113} b_{21} + C_{31113} b_{31} + D_{11113} b_{11} + D_{21113} b_{21} + D_{31113} b_{31}\\\\E_{1} I_{3} & A_{11111} C_{11113} + A_{11111} D_{11113} + A_{21111} C_{21113} + A_{21111} D_{21113} + A_{31111} C_{31113} + A_{31111} D_{31113} + B_{11111} C_{11113} + B_{11111} D_{11113} + B_{21111} C_{21113} + B_{21111} D_{21113} + B_{31111} C_{31113} + B_{31111} D_{31113}\\\\E_{3} I_{3} & - p_{13}\\\\1 & b_{11} g_{11} + b_{21} g_{21} + b_{31} g_{31} + c_{11} h_{11} + c_{21} h_{21} + c_{31} h_{31}\\\\E_{2} I_{1} & A_{11211} C_{11111} + A_{11211} D_{11111} + A_{21211} C_{21111} + A_{21211} D_{21111} + A_{31211} C_{31111} + A_{31211} D_{31111} + B_{11211} C_{11111} + B_{11211} D_{11111} + B_{21211} C_{21111} + B_{21211} D_{21111} + B_{31211} C_{31111} + B_{31211} D_{31111}\\\\I_{2} & C_{11112} b_{11} + C_{21112} b_{21} + C_{31112} b_{31} + D_{11112} b_{11} + D_{21112} b_{21} + D_{31112} b_{31}\\\\E_{2} I_{2} & - p_{12}\\\\E_{2} I_{3} & A_{11211} C_{11113} + A_{11211} D_{11113} + A_{21211} C_{21113} + A_{21211} D_{21113} + A_{31211} C_{31113} + A_{31211} D_{31113} + B_{11211} C_{11113} + B_{11211} D_{11113} + B_{21211} C_{21113} + B_{21211} D_{21113} + B_{31211} C_{31113} + B_{31211} D_{31113}\\\\E_{3} & A_{11311} g_{11} + A_{21311} g_{21} + A_{31311} g_{31} + B_{11311} g_{11} + B_{21311} g_{21} + B_{31311} g_{31}\\\\E_{2} & A_{11211} g_{11} + A_{21211} g_{21} + A_{31211} g_{31} + B_{11211} g_{11} + B_{21211} g_{21} + B_{31211} g_{31}\\\\E_{3} I_{2} & A_{11311} C_{11112} + A_{11311} D_{11112} + A_{21311} C_{21112} + A_{21311} D_{21112} + A_{31311} C_{31112} + A_{31311} D_{31112} + B_{11311} C_{11112} + B_{11311} D_{11112} + B_{21311} C_{21112} + B_{21311} D_{21112} + B_{31311} C_{31112} + B_{31311} D_{31112}\\\\E_{3} I_{1} & A_{11311} C_{11111} + A_{11311} D_{11111} + A_{21311} C_{21111} + A_{21311} D_{21111} + A_{31311} C_{31111} + A_{31311} D_{31111} + B_{11311} C_{11111} + B_{11311} D_{11111} + B_{21311} C_{21111} + B_{21311} D_{21111} + B_{31311} C_{31111} + B_{31311} D_{31111}\\\\E_{1} I_{2} & A_{11111} C_{11112} + A_{11111} D_{11112} + A_{21111} C_{21112} + A_{21111} D_{21112} + A_{31111} C_{31112} + A_{31111} D_{31112} + B_{11111} C_{11112} + B_{11111} D_{11112} + B_{21111} C_{21112} + B_{21111} D_{21112} + B_{31111} C_{31112} + B_{31111} D_{31112}\\\\E_{1} I_{1} & 4 A_{11111} C_{11111} + 4 A_{11111} D_{11111} + 4 A_{21111} C_{21111} + 4 A_{21111} D_{21111} + 4 A_{31111} C_{31111} + 4 A_{31111} D_{31111} + 4 B_{11111} C_{11111} + 4 B_{11111} D_{11111} + 4 B_{21111} C_{21111} + 4 B_{21111} D_{21111} + 4 B_{31111} C_{31111} + 4 B_{31111} D_{31111} - p_{11}\\\\E_{1} & A_{11111} g_{11} + A_{21111} g_{21} + A_{31111} g_{31} + B_{11111} g_{11} + B_{21111} g_{21} + B_{31111} g_{31}\\\\I_{1} & C_{11111} b_{11} + C_{21111} b_{21} + C_{31111} b_{31} + D_{11111} b_{11} + D_{21111} b_{21} + D_{31111} b_{31}\\end{matrix}\\right]$$"
      ],
      "text/plain": [
       "⎡ I₃                                                                          \n",
       "⎢                                                                             \n",
       "⎢E₁⋅I₃                 A₁₁₁₁₁⋅C₁₁₁₁₃ + A₁₁₁₁₁⋅D₁₁₁₁₃ + A₂₁₁₁₁⋅C₂₁₁₁₃ + A₂₁₁₁₁⋅\n",
       "⎢                                                                             \n",
       "⎢E₃⋅I₃                                                                        \n",
       "⎢                                                                             \n",
       "⎢  1                                                                          \n",
       "⎢                                                                             \n",
       "⎢E₂⋅I₁                 A₁₁₂₁₁⋅C₁₁₁₁₁ + A₁₁₂₁₁⋅D₁₁₁₁₁ + A₂₁₂₁₁⋅C₂₁₁₁₁ + A₂₁₂₁₁⋅\n",
       "⎢                                                                             \n",
       "⎢ I₂                                                                          \n",
       "⎢                                                                             \n",
       "⎢E₂⋅I₂                                                                        \n",
       "⎢                                                                             \n",
       "⎢E₂⋅I₃                 A₁₁₂₁₁⋅C₁₁₁₁₃ + A₁₁₂₁₁⋅D₁₁₁₁₃ + A₂₁₂₁₁⋅C₂₁₁₁₃ + A₂₁₂₁₁⋅\n",
       "⎢                                                                             \n",
       "⎢ E₃                                                                          \n",
       "⎢                                                                             \n",
       "⎢ E₂                                                                          \n",
       "⎢                                                                             \n",
       "⎢E₃⋅I₂                 A₁₁₃₁₁⋅C₁₁₁₁₂ + A₁₁₃₁₁⋅D₁₁₁₁₂ + A₂₁₃₁₁⋅C₂₁₁₁₂ + A₂₁₃₁₁⋅\n",
       "⎢                                                                             \n",
       "⎢E₃⋅I₁                 A₁₁₃₁₁⋅C₁₁₁₁₁ + A₁₁₃₁₁⋅D₁₁₁₁₁ + A₂₁₃₁₁⋅C₂₁₁₁₁ + A₂₁₃₁₁⋅\n",
       "⎢                                                                             \n",
       "⎢E₁⋅I₂                 A₁₁₁₁₁⋅C₁₁₁₁₂ + A₁₁₁₁₁⋅D₁₁₁₁₂ + A₂₁₁₁₁⋅C₂₁₁₁₂ + A₂₁₁₁₁⋅\n",
       "⎢                                                                             \n",
       "⎢E₁⋅I₁  4⋅A₁₁₁₁₁⋅C₁₁₁₁₁ + 4⋅A₁₁₁₁₁⋅D₁₁₁₁₁ + 4⋅A₂₁₁₁₁⋅C₂₁₁₁₁ + 4⋅A₂₁₁₁₁⋅D₂₁₁₁₁ \n",
       "⎢                                                                             \n",
       "⎢ E₁                                                                          \n",
       "⎢                                                                             \n",
       "⎣ I₁                                                                          \n",
       "\n",
       "  C₁₁₁₁₃⋅b₁₁ + C₂₁₁₁₃⋅b₂₁ + C₃₁₁₁₃⋅b₃₁ + D₁₁₁₁₃⋅b₁₁ + D₂₁₁₁₃⋅b₂₁ + D₃₁₁₁₃⋅b₃₁ \n",
       "                                                                              \n",
       "D₂₁₁₁₃ + A₃₁₁₁₁⋅C₃₁₁₁₃ + A₃₁₁₁₁⋅D₃₁₁₁₃ + B₁₁₁₁₁⋅C₁₁₁₁₃ + B₁₁₁₁₁⋅D₁₁₁₁₃ + B₂₁₁₁\n",
       "                                                                              \n",
       "                                     -p₁₃                                     \n",
       "                                                                              \n",
       "           b₁₁⋅g₁₁ + b₂₁⋅g₂₁ + b₃₁⋅g₃₁ + c₁₁⋅h₁₁ + c₂₁⋅h₂₁ + c₃₁⋅h₃₁          \n",
       "                                                                              \n",
       "D₂₁₁₁₁ + A₃₁₂₁₁⋅C₃₁₁₁₁ + A₃₁₂₁₁⋅D₃₁₁₁₁ + B₁₁₂₁₁⋅C₁₁₁₁₁ + B₁₁₂₁₁⋅D₁₁₁₁₁ + B₂₁₂₁\n",
       "                                                                              \n",
       "  C₁₁₁₁₂⋅b₁₁ + C₂₁₁₁₂⋅b₂₁ + C₃₁₁₁₂⋅b₃₁ + D₁₁₁₁₂⋅b₁₁ + D₂₁₁₁₂⋅b₂₁ + D₃₁₁₁₂⋅b₃₁ \n",
       "                                                                              \n",
       "                                     -p₁₂                                     \n",
       "                                                                              \n",
       "D₂₁₁₁₃ + A₃₁₂₁₁⋅C₃₁₁₁₃ + A₃₁₂₁₁⋅D₃₁₁₁₃ + B₁₁₂₁₁⋅C₁₁₁₁₃ + B₁₁₂₁₁⋅D₁₁₁₁₃ + B₂₁₂₁\n",
       "                                                                              \n",
       "  A₁₁₃₁₁⋅g₁₁ + A₂₁₃₁₁⋅g₂₁ + A₃₁₃₁₁⋅g₃₁ + B₁₁₃₁₁⋅g₁₁ + B₂₁₃₁₁⋅g₂₁ + B₃₁₃₁₁⋅g₃₁ \n",
       "                                                                              \n",
       "  A₁₁₂₁₁⋅g₁₁ + A₂₁₂₁₁⋅g₂₁ + A₃₁₂₁₁⋅g₃₁ + B₁₁₂₁₁⋅g₁₁ + B₂₁₂₁₁⋅g₂₁ + B₃₁₂₁₁⋅g₃₁ \n",
       "                                                                              \n",
       "D₂₁₁₁₂ + A₃₁₃₁₁⋅C₃₁₁₁₂ + A₃₁₃₁₁⋅D₃₁₁₁₂ + B₁₁₃₁₁⋅C₁₁₁₁₂ + B₁₁₃₁₁⋅D₁₁₁₁₂ + B₂₁₃₁\n",
       "                                                                              \n",
       "D₂₁₁₁₁ + A₃₁₃₁₁⋅C₃₁₁₁₁ + A₃₁₃₁₁⋅D₃₁₁₁₁ + B₁₁₃₁₁⋅C₁₁₁₁₁ + B₁₁₃₁₁⋅D₁₁₁₁₁ + B₂₁₃₁\n",
       "                                                                              \n",
       "D₂₁₁₁₂ + A₃₁₁₁₁⋅C₃₁₁₁₂ + A₃₁₁₁₁⋅D₃₁₁₁₂ + B₁₁₁₁₁⋅C₁₁₁₁₂ + B₁₁₁₁₁⋅D₁₁₁₁₂ + B₂₁₁₁\n",
       "                                                                              \n",
       "+ 4⋅A₃₁₁₁₁⋅C₃₁₁₁₁ + 4⋅A₃₁₁₁₁⋅D₃₁₁₁₁ + 4⋅B₁₁₁₁₁⋅C₁₁₁₁₁ + 4⋅B₁₁₁₁₁⋅D₁₁₁₁₁ + 4⋅B₂\n",
       "                                                                              \n",
       "  A₁₁₁₁₁⋅g₁₁ + A₂₁₁₁₁⋅g₂₁ + A₃₁₁₁₁⋅g₃₁ + B₁₁₁₁₁⋅g₁₁ + B₂₁₁₁₁⋅g₂₁ + B₃₁₁₁₁⋅g₃₁ \n",
       "                                                                              \n",
       "  C₁₁₁₁₁⋅b₁₁ + C₂₁₁₁₁⋅b₂₁ + C₃₁₁₁₁⋅b₃₁ + D₁₁₁₁₁⋅b₁₁ + D₂₁₁₁₁⋅b₂₁ + D₃₁₁₁₁⋅b₃₁ \n",
       "\n",
       "                                                                       ⎤\n",
       "                                                                       ⎥\n",
       "₁⋅C₂₁₁₁₃ + B₂₁₁₁₁⋅D₂₁₁₁₃ + B₃₁₁₁₁⋅C₃₁₁₁₃ + B₃₁₁₁₁⋅D₃₁₁₁₃               ⎥\n",
       "                                                                       ⎥\n",
       "                                                                       ⎥\n",
       "                                                                       ⎥\n",
       "                                                                       ⎥\n",
       "                                                                       ⎥\n",
       "₁⋅C₂₁₁₁₁ + B₂₁₂₁₁⋅D₂₁₁₁₁ + B₃₁₂₁₁⋅C₃₁₁₁₁ + B₃₁₂₁₁⋅D₃₁₁₁₁               ⎥\n",
       "                                                                       ⎥\n",
       "                                                                       ⎥\n",
       "                                                                       ⎥\n",
       "                                                                       ⎥\n",
       "                                                                       ⎥\n",
       "₁⋅C₂₁₁₁₃ + B₂₁₂₁₁⋅D₂₁₁₁₃ + B₃₁₂₁₁⋅C₃₁₁₁₃ + B₃₁₂₁₁⋅D₃₁₁₁₃               ⎥\n",
       "                                                                       ⎥\n",
       "                                                                       ⎥\n",
       "                                                                       ⎥\n",
       "                                                                       ⎥\n",
       "                                                                       ⎥\n",
       "₁⋅C₂₁₁₁₂ + B₂₁₃₁₁⋅D₂₁₁₁₂ + B₃₁₃₁₁⋅C₃₁₁₁₂ + B₃₁₃₁₁⋅D₃₁₁₁₂               ⎥\n",
       "                                                                       ⎥\n",
       "₁⋅C₂₁₁₁₁ + B₂₁₃₁₁⋅D₂₁₁₁₁ + B₃₁₃₁₁⋅C₃₁₁₁₁ + B₃₁₃₁₁⋅D₃₁₁₁₁               ⎥\n",
       "                                                                       ⎥\n",
       "₁⋅C₂₁₁₁₂ + B₂₁₁₁₁⋅D₂₁₁₁₂ + B₃₁₁₁₁⋅C₃₁₁₁₂ + B₃₁₁₁₁⋅D₃₁₁₁₂               ⎥\n",
       "                                                                       ⎥\n",
       "₁₁₁₁⋅C₂₁₁₁₁ + 4⋅B₂₁₁₁₁⋅D₂₁₁₁₁ + 4⋅B₃₁₁₁₁⋅C₃₁₁₁₁ + 4⋅B₃₁₁₁₁⋅D₃₁₁₁₁ - p₁₁⎥\n",
       "                                                                       ⎥\n",
       "                                                                       ⎥\n",
       "                                                                       ⎥\n",
       "                                                                       ⎦"
      ]
     },
     "execution_count": 56,
     "metadata": {},
     "output_type": "execute_result"
    }
   ],
   "source": [
    "ew = EQS[1,4]\n",
    "for x in ew:\n",
    "    ew[x] = factor(ew[x])\n",
    "Matrix(list(ew.items()))"
   ]
  },
  {
   "cell_type": "code",
   "execution_count": 16,
   "metadata": {
    "collapsed": true
   },
   "outputs": [
    {
     "data": {
      "text/latex": [
       "$$\\left[\\begin{matrix}1 & b_{11} g_{11} + b_{21} g_{21} - c_{11} h_{11} - c_{21} h_{21}\\\\\\frac{E_{1}^{2} I_{2}^{3}}{E_{2} I_{1}^{2}} & 0\\\\\\frac{E_{1}^{2} I_{1}}{E_{2}} & 0\\\\E_{1} I_{1}^{2} & 0\\\\\\frac{E_{2} I_{1}^{2}}{I_{2}} & 0\\\\\\frac{E_{1} I_{2}^{3}}{I_{1}^{2}} & 0\\\\\\frac{E_{2}^{3} I_{1}^{2}}{E_{1}^{2} I_{2}} & 0\\\\\\frac{E_{2} I_{2}^{3}}{I_{1}^{2}} & 0\\\\\\frac{I_{1}}{E_{2} I_{2}} & 0\\\\\\frac{E_{1} I_{1}^{2}}{I_{2}} & 0\\\\\\frac{E_{1} I_{2}}{E_{2} I_{1}^{2}} & 0\\\\E_{1} I_{2} & 0\\\\\\frac{E_{2}^{3} I_{2}}{E_{1}^{2}} & 0\\\\\\frac{I_{2}}{I_{1}^{2}} & 0\\\\E_{2}^{2} I_{1} & 0\\\\\\frac{E_{1}^{2} I_{2}}{E_{2}} & 0\\\\E_{1}^{2} I_{1} & 0\\\\\\frac{E_{2} I_{2}}{E_{1}^{2} I_{1}} & 0\\\\\\frac{E_{2} I_{2}}{E_{1} I_{1}^{2}} & 0\\\\\\frac{I_{2}}{E_{2} I_{1}} & 0\\\\E_{1} I_{2}^{2} & 0\\\\E_{2} I_{1} & 0\\\\\\frac{1}{E_{2}} & 0\\\\E_{2} I_{2} & 4 \\left(A_{11112} C_{11212} - A_{12111} C_{12121} + B_{21112} D_{21212} - B_{22111} D_{22121}\\right)\\\\\\frac{E_{2}}{E_{1} I_{2}} & 0\\\\\\frac{E_{2} I_{1}}{E_{1}^{2} I_{2}} & 0\\\\\\frac{E_{1}}{E_{2} I_{2}} & 0\\\\\\frac{E_{2}^{3} I_{1}}{E_{1}^{2}} & 0\\\\\\frac{E_{2}}{E_{1}^{2}} & 0\\\\\\frac{1}{I_{2}} & 0\\end{matrix}\\right]$$"
      ],
      "text/plain": [
       "⎡   1                   b₁₁⋅g₁₁ + b₂₁⋅g₂₁ - c₁₁⋅h₁₁ - c₂₁⋅h₂₁              ⎤\n",
       "⎢                                                                          ⎥\n",
       "⎢  2   3                                                                   ⎥\n",
       "⎢E₁ ⋅I₂                                                                    ⎥\n",
       "⎢───────                                  0                                ⎥\n",
       "⎢      2                                                                   ⎥\n",
       "⎢ E₂⋅I₁                                                                    ⎥\n",
       "⎢                                                                          ⎥\n",
       "⎢  2                                                                       ⎥\n",
       "⎢E₁ ⋅I₁                                                                    ⎥\n",
       "⎢──────                                   0                                ⎥\n",
       "⎢  E₂                                                                      ⎥\n",
       "⎢                                                                          ⎥\n",
       "⎢     2                                                                    ⎥\n",
       "⎢E₁⋅I₁                                    0                                ⎥\n",
       "⎢                                                                          ⎥\n",
       "⎢     2                                                                    ⎥\n",
       "⎢E₂⋅I₁                                                                     ⎥\n",
       "⎢──────                                   0                                ⎥\n",
       "⎢  I₂                                                                      ⎥\n",
       "⎢                                                                          ⎥\n",
       "⎢     3                                                                    ⎥\n",
       "⎢E₁⋅I₂                                                                     ⎥\n",
       "⎢──────                                   0                                ⎥\n",
       "⎢   2                                                                      ⎥\n",
       "⎢ I₁                                                                       ⎥\n",
       "⎢                                                                          ⎥\n",
       "⎢  3   2                                                                   ⎥\n",
       "⎢E₂ ⋅I₁                                                                    ⎥\n",
       "⎢───────                                  0                                ⎥\n",
       "⎢   2                                                                      ⎥\n",
       "⎢ E₁ ⋅I₂                                                                   ⎥\n",
       "⎢                                                                          ⎥\n",
       "⎢     3                                                                    ⎥\n",
       "⎢E₂⋅I₂                                                                     ⎥\n",
       "⎢──────                                   0                                ⎥\n",
       "⎢   2                                                                      ⎥\n",
       "⎢ I₁                                                                       ⎥\n",
       "⎢                                                                          ⎥\n",
       "⎢   I₁                                                                     ⎥\n",
       "⎢ ─────                                   0                                ⎥\n",
       "⎢ E₂⋅I₂                                                                    ⎥\n",
       "⎢                                                                          ⎥\n",
       "⎢     2                                                                    ⎥\n",
       "⎢E₁⋅I₁                                                                     ⎥\n",
       "⎢──────                                   0                                ⎥\n",
       "⎢  I₂                                                                      ⎥\n",
       "⎢                                                                          ⎥\n",
       "⎢E₁⋅I₂                                                                     ⎥\n",
       "⎢──────                                   0                                ⎥\n",
       "⎢     2                                                                    ⎥\n",
       "⎢E₂⋅I₁                                                                     ⎥\n",
       "⎢                                                                          ⎥\n",
       "⎢ E₁⋅I₂                                   0                                ⎥\n",
       "⎢                                                                          ⎥\n",
       "⎢  3                                                                       ⎥\n",
       "⎢E₂ ⋅I₂                                                                    ⎥\n",
       "⎢──────                                   0                                ⎥\n",
       "⎢   2                                                                      ⎥\n",
       "⎢ E₁                                                                       ⎥\n",
       "⎢                                                                          ⎥\n",
       "⎢   I₂                                                                     ⎥\n",
       "⎢  ───                                    0                                ⎥\n",
       "⎢    2                                                                     ⎥\n",
       "⎢  I₁                                                                      ⎥\n",
       "⎢                                                                          ⎥\n",
       "⎢  2                                                                       ⎥\n",
       "⎢E₂ ⋅I₁                                   0                                ⎥\n",
       "⎢                                                                          ⎥\n",
       "⎢  2                                                                       ⎥\n",
       "⎢E₁ ⋅I₂                                                                    ⎥\n",
       "⎢──────                                   0                                ⎥\n",
       "⎢  E₂                                                                      ⎥\n",
       "⎢                                                                          ⎥\n",
       "⎢  2                                                                       ⎥\n",
       "⎢E₁ ⋅I₁                                   0                                ⎥\n",
       "⎢                                                                          ⎥\n",
       "⎢E₂⋅I₂                                                                     ⎥\n",
       "⎢──────                                   0                                ⎥\n",
       "⎢  2                                                                       ⎥\n",
       "⎢E₁ ⋅I₁                                                                    ⎥\n",
       "⎢                                                                          ⎥\n",
       "⎢E₂⋅I₂                                                                     ⎥\n",
       "⎢──────                                   0                                ⎥\n",
       "⎢     2                                                                    ⎥\n",
       "⎢E₁⋅I₁                                                                     ⎥\n",
       "⎢                                                                          ⎥\n",
       "⎢   I₂                                                                     ⎥\n",
       "⎢ ─────                                   0                                ⎥\n",
       "⎢ E₂⋅I₁                                                                    ⎥\n",
       "⎢                                                                          ⎥\n",
       "⎢     2                                                                    ⎥\n",
       "⎢E₁⋅I₂                                    0                                ⎥\n",
       "⎢                                                                          ⎥\n",
       "⎢ E₂⋅I₁                                   0                                ⎥\n",
       "⎢                                                                          ⎥\n",
       "⎢  1                                                                       ⎥\n",
       "⎢  ──                                     0                                ⎥\n",
       "⎢  E₂                                                                      ⎥\n",
       "⎢                                                                          ⎥\n",
       "⎢ E₂⋅I₂   4⋅(A₁₁₁₁₂⋅C₁₁₂₁₂ - A₁₂₁₁₁⋅C₁₂₁₂₁ + B₂₁₁₁₂⋅D₂₁₂₁₂ - B₂₂₁₁₁⋅D₂₂₁₂₁)⎥\n",
       "⎢                                                                          ⎥\n",
       "⎢   E₂                                                                     ⎥\n",
       "⎢ ─────                                   0                                ⎥\n",
       "⎢ E₁⋅I₂                                                                    ⎥\n",
       "⎢                                                                          ⎥\n",
       "⎢E₂⋅I₁                                                                     ⎥\n",
       "⎢──────                                   0                                ⎥\n",
       "⎢  2                                                                       ⎥\n",
       "⎢E₁ ⋅I₂                                                                    ⎥\n",
       "⎢                                                                          ⎥\n",
       "⎢   E₁                                                                     ⎥\n",
       "⎢ ─────                                   0                                ⎥\n",
       "⎢ E₂⋅I₂                                                                    ⎥\n",
       "⎢                                                                          ⎥\n",
       "⎢  3                                                                       ⎥\n",
       "⎢E₂ ⋅I₁                                                                    ⎥\n",
       "⎢──────                                   0                                ⎥\n",
       "⎢   2                                                                      ⎥\n",
       "⎢ E₁                                                                       ⎥\n",
       "⎢                                                                          ⎥\n",
       "⎢   E₂                                                                     ⎥\n",
       "⎢  ───                                    0                                ⎥\n",
       "⎢    2                                                                     ⎥\n",
       "⎢  E₁                                                                      ⎥\n",
       "⎢                                                                          ⎥\n",
       "⎢  1                                                                       ⎥\n",
       "⎢  ──                                     0                                ⎥\n",
       "⎣  I₂                                                                      ⎦"
      ]
     },
     "execution_count": 16,
     "metadata": {},
     "output_type": "execute_result"
    }
   ],
   "source": [
    "ew = EQS[3,1]\n",
    "for x in ew:\n",
    "    ew[x] = factor(ew[x])\n",
    "Matrix(list(ew.items()))"
   ]
  },
  {
   "cell_type": "code",
   "execution_count": null,
   "metadata": {
    "collapsed": false
   },
   "outputs": [],
   "source": [
    "EQS[1,3][ZE[2]*ZE[4]]"
   ]
  },
  {
   "cell_type": "code",
   "execution_count": null,
   "metadata": {
    "collapsed": false
   },
   "outputs": [],
   "source": [
    "EQS[3,1][ZE[2]*ZE[4]]"
   ]
  },
  {
   "cell_type": "code",
   "execution_count": null,
   "metadata": {
    "collapsed": false
   },
   "outputs": [],
   "source": [
    "EQS[1,3][ZE[1]*ZE[3]]"
   ]
  },
  {
   "cell_type": "code",
   "execution_count": null,
   "metadata": {
    "collapsed": true
   },
   "outputs": [],
   "source": [
    "EQS[3,1][ZE[1]*ZE[3]]"
   ]
  },
  {
   "cell_type": "code",
   "execution_count": null,
   "metadata": {
    "collapsed": true
   },
   "outputs": [],
   "source": [
    "exclude = [(1,3),(2,4),(3,1),(4,2)]"
   ]
  },
  {
   "cell_type": "code",
   "execution_count": null,
   "metadata": {
    "collapsed": false
   },
   "outputs": [],
   "source": [
    "if (2,3) not in exclude:\n",
    "    print ('haapy')"
   ]
  },
  {
   "cell_type": "code",
   "execution_count": null,
   "metadata": {
    "collapsed": true
   },
   "outputs": [],
   "source": [
    "EQS[4,1]"
   ]
  },
  {
   "cell_type": "code",
   "execution_count": 38,
   "metadata": {
    "collapsed": false
   },
   "outputs": [
    {
     "data": {
      "text/latex": [
       "$$\\left[\\begin{matrix}\\left \\{ \\right \\} & \\left \\{ \\right \\} & \\left \\{ \\right \\} & \\left \\{ \\right \\} & \\left \\{ \\right \\}\\\\\\left \\{ \\right \\} & \\left \\{ \\frac{E_{2} I_{1}^{2}}{E_{1}} : A_{11111} C_{11211}, \\quad \\frac{E_{2} I_{2}^{2}}{E_{1}} : A_{11111} C_{11222}, \\quad \\frac{E_{1} I_{1}^{2}}{E_{2}} : A_{11111} C_{12111}, \\quad \\frac{E_{1} I_{2}^{2}}{E_{2}} : A_{11111} C_{12122}, \\quad \\frac{E_{2} I_{1}}{E_{1}} I_{2} : A_{11111} C_{11212}, \\quad \\frac{E_{1} I_{1}}{E_{2}} I_{2} : A_{11111} C_{12112}\\right \\} & \\left \\{ I_{1}^{2} : 0, \\quad I_{2}^{2} : 0, \\quad I_{1} I_{2} : 0, \\quad \\frac{E_{1}^{2} I_{1}^{2}}{E_{2}^{2}} : 0, \\quad \\frac{E_{1}^{2} I_{2}^{2}}{E_{2}^{2}} : 0, \\quad \\frac{I_{1} I_{2}}{E_{2}^{2}} E_{1}^{2} : 0\\right \\} & \\left \\{ E_{1} I_{1} : - p_{11} + 1, \\quad E_{2} I_{1} : 0, \\quad E_{2} I_{2} : - p_{12}, \\quad \\frac{E_{1}^{2} I_{1}}{E_{2}} : 0, \\quad \\frac{E_{1}^{2} I_{2}}{E_{2}} : 0\\right \\} & \\left \\{ E_{2} I_{1} : 0, \\quad E_{2} I_{2} : 0, \\quad \\frac{E_{1}^{2} I_{1}}{E_{2}} : 0, \\quad \\frac{E_{1}^{2} I_{2}}{E_{2}} : 0\\right \\}\\\\\\left \\{ \\right \\} & \\left \\{ I_{1}^{2} : A_{12111} C_{12111} + B_{22111} D_{22111}, \\quad I_{2}^{2} : A_{12111} C_{12122} + B_{22111} D_{22122}, \\quad I_{1} I_{2} : A_{12111} C_{12112} + B_{22111} D_{22112}, \\quad \\frac{E_{2}^{2} I_{1}^{2}}{E_{1}^{2}} : A_{12111} C_{11211} + B_{22111} D_{21211}, \\quad \\frac{E_{2}^{2} I_{2}^{2}}{E_{1}^{2}} : A_{12111} C_{11222} + B_{22111} D_{21222}, \\quad \\frac{I_{1} I_{2}}{E_{1}^{2}} E_{2}^{2} : A_{12111} C_{11212} + B_{22111} D_{21212}\\right \\} & \\left \\{ \\frac{E_{2} I_{1}^{2}}{E_{1}} : 0, \\quad \\frac{E_{2} I_{2}^{2}}{E_{1}} : 0, \\quad \\frac{E_{1} I_{1}^{2}}{E_{2}} : 0, \\quad \\frac{E_{1} I_{2}^{2}}{E_{2}} : 0, \\quad \\frac{E_{2} I_{1}}{E_{1}} I_{2} : 0, \\quad \\frac{E_{1} I_{1}}{E_{2}} I_{2} : 0\\right \\} & \\left \\{ E_{1} I_{1} : 0, \\quad E_{1} I_{2} : 0, \\quad E_{2} I_{1} : \\frac{A_{12111}}{A_{11111}}, \\quad \\frac{E_{2}^{2} I_{1}}{E_{1}} : 0, \\quad \\frac{E_{2}^{2} I_{2}}{E_{1}} : 0\\right \\} & \\left \\{ E_{1} I_{1} : - p_{21}, \\quad E_{1} I_{2} : 0, \\quad E_{2} I_{2} : \\frac{B_{22111}}{B_{22211}} - p_{22}, \\quad \\frac{E_{2}^{2} I_{1}}{E_{1}} : 0, \\quad \\frac{E_{2}^{2} I_{2}}{E_{1}} : 0\\right \\}\\\\\\left \\{ \\right \\} & \\left \\{ E_{1} I_{1} : 2, \\quad E_{2} I_{1} : 0, \\quad E_{2} I_{2} : 0, \\quad \\frac{E_{1}^{2} I_{1}}{E_{2}} : 0, \\quad \\frac{E_{1}^{2} I_{2}}{E_{2}} : 0\\right \\} & \\left \\{ E_{1} I_{1} : 0, \\quad E_{1} I_{2} : 0, \\quad E_{2} I_{1} : 0, \\quad \\frac{E_{2}^{2} I_{1}}{E_{1}} : 0, \\quad \\frac{E_{2}^{2} I_{2}}{E_{1}} : 0\\right \\} & \\left \\{ \\right \\} & \\left \\{ \\right \\}\\\\\\left \\{ \\right \\} & \\left \\{ E_{2} I_{1} : 0, \\quad E_{2} I_{2} : 0, \\quad \\frac{E_{1}^{2} I_{1}}{E_{2}} : 0, \\quad \\frac{E_{1}^{2} I_{2}}{E_{2}} : 0\\right \\} & \\left \\{ E_{1} I_{1} : 0, \\quad E_{1} I_{2} : 0, \\quad E_{2} I_{2} : \\frac{2 B_{22111}}{B_{22211}}, \\quad \\frac{E_{2}^{2} I_{1}}{E_{1}} : 0, \\quad \\frac{E_{2}^{2} I_{2}}{E_{1}} : 0\\right \\} & \\left \\{ \\right \\} & \\left \\{ \\right \\}\\end{matrix}\\right]$$"
      ],
      "text/plain": [
       "⎡{}                                                                           \n",
       "⎢                                                                             \n",
       "⎢                                                 ⎧     2                     \n",
       "⎢                                                 ⎪E₂⋅I₁                  E₂⋅I\n",
       "⎢{}                                               ⎨──────: A₁₁₁₁₁⋅C₁₁₂₁₁, ────\n",
       "⎢                                                 ⎪  E₁                     E₁\n",
       "⎢                                                 ⎩                           \n",
       "⎢                                                                             \n",
       "⎢    ⎧                                                                        \n",
       "⎢    ⎪  2                                   2                                 \n",
       "⎢{}  ⎨I₁ : A₁₂₁₁₁⋅C₁₂₁₁₁ + B₂₂₁₁₁⋅D₂₂₁₁₁, I₂ : A₁₂₁₁₁⋅C₁₂₁₂₂ + B₂₂₁₁₁⋅D₂₂₁₂₂, \n",
       "⎢    ⎪                                                                        \n",
       "⎢    ⎩                                                                        \n",
       "⎢                                                                             \n",
       "⎢                                                                             \n",
       "⎢                                                                             \n",
       "⎢{}                                                                           \n",
       "⎢                                                                             \n",
       "⎢                                                                             \n",
       "⎢                                                                             \n",
       "⎢                                                                             \n",
       "⎢                                                                             \n",
       "⎢{}                                                                           \n",
       "⎢                                                                             \n",
       "⎣                                                                             \n",
       "\n",
       "                                          {}                                  \n",
       "                                                                              \n",
       " 2                      2                      2                              \n",
       "₂                  E₁⋅I₁                  E₁⋅I₂                  E₂⋅I₁⋅I₂     \n",
       "──: A₁₁₁₁₁⋅C₁₁₂₂₂, ──────: A₁₁₁₁₁⋅C₁₂₁₁₁, ──────: A₁₁₁₁₁⋅C₁₂₁₂₂, ────────: A₁₁\n",
       "                     E₂                     E₂                      E₁        \n",
       "                                                                              \n",
       "                                                                              \n",
       "                                        2   2                                 \n",
       "                                      E₂ ⋅I₁                                  \n",
       "I₁⋅I₂: A₁₂₁₁₁⋅C₁₂₁₁₂ + B₂₂₁₁₁⋅D₂₂₁₁₂, ───────: A₁₂₁₁₁⋅C₁₁₂₁₁ + B₂₂₁₁₁⋅D₂₁₂₁₁, \n",
       "                                          2                                   \n",
       "                                        E₁                                    \n",
       "                                                                              \n",
       "                 ⎧                                2          2      ⎫         \n",
       "                 ⎪                              E₁ ⋅I₁     E₁ ⋅I₂   ⎪         \n",
       "                 ⎨E₁⋅I₁: 2, E₂⋅I₁: 0, E₂⋅I₂: 0, ──────: 0, ──────: 0⎬         \n",
       "                 ⎪                                E₂         E₂     ⎪         \n",
       "                 ⎩                                                  ⎭         \n",
       "                                                                              \n",
       "                      ⎧                      2          2      ⎫              \n",
       "                      ⎪                    E₁ ⋅I₁     E₁ ⋅I₂   ⎪              \n",
       "                      ⎨E₂⋅I₁: 0, E₂⋅I₂: 0, ──────: 0, ──────: 0⎬              \n",
       "                      ⎪                      E₂         E₂     ⎪              \n",
       "                      ⎩                                        ⎭              \n",
       "\n",
       "                                                                              \n",
       "                                                                              \n",
       "                                   ⎫                                          \n",
       "            E₁⋅I₁⋅I₂               ⎪                                          \n",
       "₁₁₁⋅C₁₁₂₁₂, ────────: A₁₁₁₁₁⋅C₁₂₁₁₂⎬                                          \n",
       "               E₂                  ⎪                                          \n",
       "                                   ⎭                                          \n",
       "                                                                              \n",
       "  2   2                                   2                                   \n",
       "E₂ ⋅I₂                                  E₂ ⋅I₁⋅I₂                             \n",
       "───────: A₁₂₁₁₁⋅C₁₁₂₂₂ + B₂₂₁₁₁⋅D₂₁₂₂₂, ─────────: A₁₂₁₁₁⋅C₁₁₂₁₂ + B₂₂₁₁₁⋅D₂₁₂\n",
       "    2                                        2                                \n",
       "  E₁                                       E₁                                 \n",
       "                                                                              \n",
       "                                                                              \n",
       "                                                                              \n",
       "                                                                              \n",
       "                                                                              \n",
       "                                                                              \n",
       "                                                                              \n",
       "                                                                              \n",
       "                                                                              \n",
       "                                                                              \n",
       "                                                                              \n",
       "                                                                              \n",
       "\n",
       "                                       {}                                     \n",
       "                                                                              \n",
       "        ⎧                            2   2       2   2       2         ⎫     ⎧\n",
       "        ⎪  2       2               E₁ ⋅I₁      E₁ ⋅I₂      E₁ ⋅I₁⋅I₂   ⎪     ⎪\n",
       "        ⎨I₁ : 0, I₂ : 0, I₁⋅I₂: 0, ───────: 0, ───────: 0, ─────────: 0⎬     ⎨\n",
       "        ⎪                              2           2            2      ⎪     ⎪\n",
       "        ⎩                            E₂          E₂           E₂       ⎭     ⎩\n",
       "                                                                              \n",
       "  ⎫  ⎧     2          2          2          2                             ⎫   \n",
       "  ⎪  ⎪E₂⋅I₁      E₂⋅I₂      E₁⋅I₁      E₁⋅I₂      E₂⋅I₁⋅I₂     E₁⋅I₁⋅I₂   ⎪   \n",
       "₁₂⎬  ⎨──────: 0, ──────: 0, ──────: 0, ──────: 0, ────────: 0, ────────: 0⎬   \n",
       "  ⎪  ⎪  E₁         E₁         E₂         E₂          E₁           E₂      ⎪   \n",
       "  ⎭  ⎩                                                                    ⎭   \n",
       "                                                                              \n",
       "              ⎧                                2          2      ⎫            \n",
       "              ⎪                              E₂ ⋅I₁     E₂ ⋅I₂   ⎪            \n",
       "              ⎨E₁⋅I₁: 0, E₁⋅I₂: 0, E₂⋅I₁: 0, ──────: 0, ──────: 0⎬            \n",
       "              ⎪                                E₁         E₁     ⎪            \n",
       "              ⎩                                                  ⎭            \n",
       "                                                                              \n",
       "          ⎧                                       2          2      ⎫         \n",
       "          ⎪                           2⋅B₂₂₁₁₁  E₂ ⋅I₁     E₂ ⋅I₂   ⎪         \n",
       "          ⎨E₁⋅I₁: 0, E₁⋅I₂: 0, E₂⋅I₂: ────────, ──────: 0, ──────: 0⎬         \n",
       "          ⎪                            B₂₂₂₁₁     E₁         E₁     ⎪         \n",
       "          ⎩                                                         ⎭         \n",
       "\n",
       "                             {}                                               \n",
       "                                                                              \n",
       "                                          2          2      ⎫              ⎧  \n",
       "                                        E₁ ⋅I₁     E₁ ⋅I₂   ⎪              ⎪  \n",
       "E₁⋅I₁: -p₁₁ + 1, E₂⋅I₁: 0, E₂⋅I₂: -p₁₂, ──────: 0, ──────: 0⎬              ⎨E₂\n",
       "                                          E₂         E₂     ⎪              ⎪  \n",
       "                                                            ⎭              ⎩  \n",
       "                                                                              \n",
       " ⎧                                     2          2      ⎫     ⎧              \n",
       " ⎪                           A₁₂₁₁₁  E₂ ⋅I₁     E₂ ⋅I₂   ⎪     ⎪              \n",
       " ⎨E₁⋅I₁: 0, E₁⋅I₂: 0, E₂⋅I₁: ──────, ──────: 0, ──────: 0⎬     ⎨E₁⋅I₁: -p₂₁, E\n",
       " ⎪                           A₁₁₁₁₁    E₁         E₁     ⎪     ⎪              \n",
       " ⎩                                                       ⎭     ⎩              \n",
       "                                                                              \n",
       "                                                                              \n",
       "                                                                              \n",
       "                             {}                                               \n",
       "                                                                              \n",
       "                                                                              \n",
       "                                                                              \n",
       "                                                                              \n",
       "                                                                              \n",
       "                             {}                                               \n",
       "                                                                              \n",
       "                                                                              \n",
       "\n",
       "                 {}                                ⎤\n",
       "                                                   ⎥\n",
       "                    2          2      ⎫            ⎥\n",
       "                  E₁ ⋅I₁     E₁ ⋅I₂   ⎪            ⎥\n",
       "⋅I₁: 0, E₂⋅I₂: 0, ──────: 0, ──────: 0⎬            ⎥\n",
       "                    E₂         E₂     ⎪            ⎥\n",
       "                                      ⎭            ⎥\n",
       "                                                   ⎥\n",
       "                                2          2      ⎫⎥\n",
       "                B₂₂₁₁₁        E₂ ⋅I₁     E₂ ⋅I₂   ⎪⎥\n",
       "₁⋅I₂: 0, E₂⋅I₂: ────── - p₂₂, ──────: 0, ──────: 0⎬⎥\n",
       "                B₂₂₂₁₁          E₁         E₁     ⎪⎥\n",
       "                                                  ⎭⎥\n",
       "                                                   ⎥\n",
       "                                                   ⎥\n",
       "                                                   ⎥\n",
       "                 {}                                ⎥\n",
       "                                                   ⎥\n",
       "                                                   ⎥\n",
       "                                                   ⎥\n",
       "                                                   ⎥\n",
       "                                                   ⎥\n",
       "                 {}                                ⎥\n",
       "                                                   ⎥\n",
       "                                                   ⎦"
      ]
     },
     "execution_count": 38,
     "metadata": {},
     "output_type": "execute_result"
    }
   ],
   "source": [
    "EQS"
   ]
  },
  {
   "cell_type": "code",
   "execution_count": null,
   "metadata": {
    "collapsed": true
   },
   "outputs": [],
   "source": []
  }
 ],
 "metadata": {
  "kernelspec": {
   "display_name": "Python 3",
   "language": "python",
   "name": "python3"
  },
  "language_info": {
   "codemirror_mode": {
    "name": "ipython",
    "version": 3
   },
   "file_extension": ".py",
   "mimetype": "text/x-python",
   "name": "python",
   "nbconvert_exporter": "python",
   "pygments_lexer": "ipython3",
   "version": "3.5.1"
  }
 },
 "nbformat": 4,
 "nbformat_minor": 0
}
