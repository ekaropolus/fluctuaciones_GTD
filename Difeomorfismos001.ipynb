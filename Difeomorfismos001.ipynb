{
 "cells": [
  {
   "cell_type": "code",
   "execution_count": 1,
   "metadata": {
    "collapsed": false
   },
   "outputs": [],
   "source": [
    "from difeomorfismo import *\n",
    "init_printing()"
   ]
  },
  {
   "cell_type": "code",
   "execution_count": 2,
   "metadata": {
    "collapsed": false
   },
   "outputs": [],
   "source": [
    "n = 2"
   ]
  },
  {
   "cell_type": "markdown",
   "metadata": {},
   "source": [
    "## Difeomorfismo -explicación-"
   ]
  },
  {
   "cell_type": "code",
   "execution_count": 3,
   "metadata": {
    "collapsed": false
   },
   "outputs": [
    {
     "data": {
      "text/latex": [
       "$$\\begin{pmatrix}\\begin{bmatrix}\\Phi , & \\operatorname{f1}{\\left (E_{2} \\right )}, & \\operatorname{f2}{\\left (E_{1} \\right )}, & \\operatorname{f3}{\\left (I_{2} \\right )} + \\operatorname{g1}{\\left (E_{1},E_{2},I_{2} \\right )}, & \\operatorname{f4}{\\left (I_{1} \\right )} + \\operatorname{g2}{\\left (E_{1},E_{2},I_{1} \\right )}\\end{bmatrix}, & \\begin{bmatrix}\\Phi , & E_{1}, & E_{2}, & I_{1}, & I_{2}\\end{bmatrix}\\end{pmatrix}$$"
      ],
      "text/plain": [
       "([\\Phi , f₁(E₂), f₂(E₁), f₃(I₂) + g₁(E₁, E₂, I₂), f₄(I₁) + g₂(E₁, E₂, I₁)], [\\\n",
       "Phi , E₁, E₂, I₁, I₂])"
      ]
     },
     "execution_count": 3,
     "metadata": {},
     "output_type": "execute_result"
    }
   ],
   "source": [
    "Z = []\n",
    "B = []\n",
    "Z,B = n_grados(n)\n",
    "Z= difeomorphism_003(n,B)\n",
    "Z, B"
   ]
  },
  {
   "cell_type": "code",
   "execution_count": 4,
   "metadata": {
    "collapsed": false
   },
   "outputs": [],
   "source": [
    "H = zeros(n)\n",
    "S = zeros(n)\n",
    "H,S = difeomorphism_equations(Z,B,factor,0)"
   ]
  },
  {
   "cell_type": "code",
   "execution_count": 5,
   "metadata": {
    "collapsed": false
   },
   "outputs": [],
   "source": []
  },
  {
   "cell_type": "markdown",
   "metadata": {},
   "source": [
    "###### Sector $$dI^adE^b$$"
   ]
  },
  {
   "cell_type": "code",
   "execution_count": 6,
   "metadata": {
    "collapsed": false
   },
   "outputs": [
    {
     "data": {
      "text/latex": [
       "$$\\begin{pmatrix}\\left[\\begin{smallmatrix}\\left(\\frac{\\partial}{\\partial I_{1}} \\operatorname{f4}{\\left (I_{1} \\right )} + \\frac{\\partial}{\\partial I_{1}} \\operatorname{g2}{\\left (E_{1},E_{2},I_{1} \\right )}\\right) \\frac{\\partial}{\\partial E_{1}} \\operatorname{f2}{\\left (E_{1} \\right )} & 0\\\\0 & \\left(\\frac{\\partial}{\\partial I_{2}} \\operatorname{f3}{\\left (I_{2} \\right )} + \\frac{\\partial}{\\partial I_{2}} \\operatorname{g1}{\\left (E_{1},E_{2},I_{2} \\right )}\\right) \\frac{\\partial}{\\partial E_{2}} \\operatorname{f1}{\\left (E_{2} \\right )}\\end{smallmatrix}\\right], & \\left[\\begin{smallmatrix}0 & 0\\\\0 & 0\\end{smallmatrix}\\right]\\end{pmatrix}$$"
      ],
      "text/plain": [
       "⎛⎡⎛ d             d                 ⎞  d                                      \n",
       "⎜⎢⎜───(f₄(I₁)) + ───(g₂(E₁, E₂, I₁))⎟⋅───(f₂(E₁))                         0   \n",
       "⎜⎢⎝dI₁           dI₁                ⎠ dE₁                                     \n",
       "⎜⎢                                                                            \n",
       "⎜⎢                                                 ⎛ d             d          \n",
       "⎜⎢                       0                         ⎜───(f₃(I₂)) + ───(g₁(E₁, E\n",
       "⎝⎣                                                 ⎝dI₂           dI₂         \n",
       "\n",
       "                    ⎤        ⎞\n",
       "                    ⎥, ⎡0  0⎤⎟\n",
       "                    ⎥  ⎢    ⎥⎟\n",
       "                    ⎥  ⎣0  0⎦⎟\n",
       "       ⎞  d         ⎥        ⎟\n",
       "₂, I₂))⎟⋅───(f₁(E₂))⎥        ⎟\n",
       "       ⎠ dE₂        ⎦        ⎠"
      ]
     },
     "execution_count": 6,
     "metadata": {},
     "output_type": "execute_result"
    }
   ],
   "source": [
    "S[n+1:2*n+1,1:n+1],H[n+1:2*n+1,1:n+1]\n"
   ]
  },
  {
   "cell_type": "markdown",
   "metadata": {},
   "source": [
    "###### Sector $$dI^adI^b$$"
   ]
  },
  {
   "cell_type": "code",
   "execution_count": 6,
   "metadata": {
    "collapsed": false
   },
   "outputs": [
    {
     "data": {
      "text/latex": [
       "$$\\begin{pmatrix}\\left[\\begin{smallmatrix}0 & 0\\\\0 & 0\\end{smallmatrix}\\right], & \\left[\\begin{smallmatrix}k \\left(\\frac{\\partial}{\\partial I_{1}} \\operatorname{L}{\\left (I_{1} \\right )}\\right)^{2} & 0\\\\0 & 0\\end{smallmatrix}\\right]\\end{pmatrix}$$"
      ],
      "text/plain": [
       "⎛        ⎡            2   ⎤⎞\n",
       "⎜        ⎢   d            ⎥⎟\n",
       "⎜⎡0  0⎤, ⎢k⋅───(L(I₁))   0⎥⎟\n",
       "⎜⎢    ⎥  ⎢  dI₁           ⎥⎟\n",
       "⎜⎣0  0⎦  ⎢                ⎥⎟\n",
       "⎝        ⎣      0        0⎦⎠"
      ]
     },
     "execution_count": 6,
     "metadata": {},
     "output_type": "execute_result"
    }
   ],
   "source": [
    "S[n+1:2*n+1,n+1:2*n+1],H[n+1:2*n+1,n+1:2*n+1]"
   ]
  },
  {
   "cell_type": "markdown",
   "metadata": {},
   "source": [
    "###### Sector $$dE^adE^b$$"
   ]
  },
  {
   "cell_type": "code",
   "execution_count": 6,
   "metadata": {
    "collapsed": false
   },
   "outputs": [
    {
     "ename": "TypeError",
     "evalue": "'SingletonRegistry' object has no attribute '__getitem__'",
     "output_type": "error",
     "traceback": [
      "\u001b[1;31m---------------------------------------------------------------------------\u001b[0m\n\u001b[1;31mTypeError\u001b[0m                                 Traceback (most recent call last)",
      "\u001b[1;32m<ipython-input-6-ffeb134cd192>\u001b[0m in \u001b[0;36m<module>\u001b[1;34m()\u001b[0m\n\u001b[1;32m----> 1\u001b[1;33m \u001b[0mS\u001b[0m\u001b[1;33m[\u001b[0m\u001b[1;36m1\u001b[0m\u001b[1;33m:\u001b[0m\u001b[0mn\u001b[0m\u001b[1;33m+\u001b[0m\u001b[1;36m1\u001b[0m\u001b[1;33m,\u001b[0m\u001b[1;36m1\u001b[0m\u001b[1;33m:\u001b[0m\u001b[0mn\u001b[0m\u001b[1;33m+\u001b[0m\u001b[1;36m1\u001b[0m\u001b[1;33m]\u001b[0m\u001b[1;33m,\u001b[0m\u001b[0mH\u001b[0m\u001b[1;33m[\u001b[0m\u001b[1;36m1\u001b[0m\u001b[1;33m:\u001b[0m\u001b[0mn\u001b[0m\u001b[1;33m+\u001b[0m\u001b[1;36m1\u001b[0m\u001b[1;33m,\u001b[0m\u001b[1;36m1\u001b[0m\u001b[1;33m:\u001b[0m\u001b[0mn\u001b[0m\u001b[1;33m+\u001b[0m\u001b[1;36m1\u001b[0m\u001b[1;33m]\u001b[0m\u001b[1;33m\u001b[0m\u001b[0m\n\u001b[0m",
      "\u001b[1;31mTypeError\u001b[0m: 'SingletonRegistry' object has no attribute '__getitem__'"
     ]
    }
   ],
   "source": [
    "S[1:n+1,1:n+1],H[1:n+1,1:n+1]"
   ]
  },
  {
   "cell_type": "markdown",
   "metadata": {},
   "source": [
    "###### Sector $$d\\Phi d\\Phi$$"
   ]
  },
  {
   "cell_type": "code",
   "execution_count": 5,
   "metadata": {
    "collapsed": false
   },
   "outputs": [
    {
     "ename": "TypeError",
     "evalue": "'SingletonRegistry' object has no attribute '__getitem__'",
     "output_type": "error",
     "traceback": [
      "\u001b[1;31m---------------------------------------------------------------------------\u001b[0m\n\u001b[1;31mTypeError\u001b[0m                                 Traceback (most recent call last)",
      "\u001b[1;32m<ipython-input-5-a3e29d5fe888>\u001b[0m in \u001b[0;36m<module>\u001b[1;34m()\u001b[0m\n\u001b[1;32m----> 1\u001b[1;33m \u001b[0mS\u001b[0m\u001b[1;33m[\u001b[0m\u001b[1;36m0\u001b[0m\u001b[1;33m,\u001b[0m\u001b[1;36m0\u001b[0m\u001b[1;33m]\u001b[0m\u001b[1;33m\u001b[0m\u001b[0m\n\u001b[0m",
      "\u001b[1;31mTypeError\u001b[0m: 'SingletonRegistry' object has no attribute '__getitem__'"
     ]
    }
   ],
   "source": [
    "S[0,0]"
   ]
  },
  {
   "cell_type": "code",
   "execution_count": 9,
   "metadata": {
    "collapsed": false
   },
   "outputs": [
    {
     "data": {
      "text/latex": [
       "$$\\left[\\begin{smallmatrix}0 & 0 & 0 & 0 & 0\\\\0 & k \\left(\\operatorname{f4}{\\left (I_{1} \\right )} + \\operatorname{g2}{\\left (E_{1},E_{2},I_{1} \\right )}\\right)^{2} \\left(\\frac{\\partial}{\\partial E_{1}} \\operatorname{f2}{\\left (E_{1} \\right )}\\right)^{2} & k \\left(\\operatorname{f3}{\\left (I_{2} \\right )} + \\operatorname{g1}{\\left (E_{1},E_{2},I_{2} \\right )}\\right) \\left(\\operatorname{f4}{\\left (I_{1} \\right )} + \\operatorname{g2}{\\left (E_{1},E_{2},I_{1} \\right )}\\right) \\frac{\\partial}{\\partial E_{2}} \\operatorname{f1}{\\left (E_{2} \\right )} \\frac{\\partial}{\\partial E_{1}} \\operatorname{f2}{\\left (E_{1} \\right )} & - k \\left(\\operatorname{f4}{\\left (I_{1} \\right )} + \\operatorname{g2}{\\left (E_{1},E_{2},I_{1} \\right )}\\right) \\frac{\\partial}{\\partial I_{1}} \\operatorname{L}{\\left (I_{1} \\right )} \\frac{\\partial}{\\partial E_{1}} \\operatorname{f2}{\\left (E_{1} \\right )} & 0\\\\0 & k \\left(\\operatorname{f3}{\\left (I_{2} \\right )} + \\operatorname{g1}{\\left (E_{1},E_{2},I_{2} \\right )}\\right) \\left(\\operatorname{f4}{\\left (I_{1} \\right )} + \\operatorname{g2}{\\left (E_{1},E_{2},I_{1} \\right )}\\right) \\frac{\\partial}{\\partial E_{2}} \\operatorname{f1}{\\left (E_{2} \\right )} \\frac{\\partial}{\\partial E_{1}} \\operatorname{f2}{\\left (E_{1} \\right )} & k \\left(\\operatorname{f3}{\\left (I_{2} \\right )} + \\operatorname{g1}{\\left (E_{1},E_{2},I_{2} \\right )}\\right)^{2} \\left(\\frac{\\partial}{\\partial E_{2}} \\operatorname{f1}{\\left (E_{2} \\right )}\\right)^{2} & - k \\left(\\operatorname{f3}{\\left (I_{2} \\right )} + \\operatorname{g1}{\\left (E_{1},E_{2},I_{2} \\right )}\\right) \\frac{\\partial}{\\partial I_{1}} \\operatorname{L}{\\left (I_{1} \\right )} \\frac{\\partial}{\\partial E_{2}} \\operatorname{f1}{\\left (E_{2} \\right )} & 0\\\\0 & - k \\left(\\operatorname{f4}{\\left (I_{1} \\right )} + \\operatorname{g2}{\\left (E_{1},E_{2},I_{1} \\right )}\\right) \\frac{\\partial}{\\partial I_{1}} \\operatorname{L}{\\left (I_{1} \\right )} \\frac{\\partial}{\\partial E_{1}} \\operatorname{f2}{\\left (E_{1} \\right )} & - k \\left(\\operatorname{f3}{\\left (I_{2} \\right )} + \\operatorname{g1}{\\left (E_{1},E_{2},I_{2} \\right )}\\right) \\frac{\\partial}{\\partial I_{1}} \\operatorname{L}{\\left (I_{1} \\right )} \\frac{\\partial}{\\partial E_{2}} \\operatorname{f1}{\\left (E_{2} \\right )} & k \\left(\\frac{\\partial}{\\partial I_{1}} \\operatorname{L}{\\left (I_{1} \\right )}\\right)^{2} & 0\\\\0 & 0 & 0 & 0 & 0\\end{smallmatrix}\\right]$$"
      ],
      "text/plain": [
       "⎡0                                        0                                   \n",
       "⎢                                                                             \n",
       "⎢                                                             2               \n",
       "⎢                                                2  d                         \n",
       "⎢0                    k⋅(f₄(I₁) + g₂(E₁, E₂, I₁)) ⋅───(f₂(E₁))                \n",
       "⎢                                                  dE₁                        \n",
       "⎢                                                                             \n",
       "⎢                                                                             \n",
       "⎢                                                          d           d      \n",
       "⎢0  k⋅(f₃(I₂) + g₁(E₁, E₂, I₂))⋅(f₄(I₁) + g₂(E₁, E₂, I₁))⋅───(f₁(E₂))⋅───(f₂(E\n",
       "⎢                                                         dE₂         dE₁     \n",
       "⎢                                                                             \n",
       "⎢                                                                             \n",
       "⎢                                              d          d                   \n",
       "⎢0               -k⋅(f₄(I₁) + g₂(E₁, E₂, I₁))⋅───(L(I₁))⋅───(f₂(E₁))          \n",
       "⎢                                             dI₁        dE₁                  \n",
       "⎢                                                                             \n",
       "⎣0                                        0                                   \n",
       "\n",
       "                                           0                                  \n",
       "                                                                              \n",
       "                                                                              \n",
       "                                                            d           d     \n",
       "     k⋅(f₃(I₂) + g₁(E₁, E₂, I₂))⋅(f₄(I₁) + g₂(E₁, E₂, I₁))⋅───(f₁(E₂))⋅───(f₂(\n",
       "                                                           dE₂         dE₁    \n",
       "                                                                              \n",
       "                                                               2              \n",
       "                                                  2  d                        \n",
       "₁))                    k⋅(f₃(I₂) + g₁(E₁, E₂, I₂)) ⋅───(f₁(E₂))               \n",
       "                                                    dE₂                       \n",
       "                                                                              \n",
       "                                                                              \n",
       "                                                d          d                  \n",
       "                  -k⋅(f₃(I₂) + g₁(E₁, E₂, I₂))⋅───(L(I₁))⋅───(f₁(E₂))         \n",
       "                                               dI₁        dE₂                 \n",
       "                                                                              \n",
       "                                           0                                  \n",
       "\n",
       "                               0                           0⎤\n",
       "                                                            ⎥\n",
       "                                                            ⎥\n",
       "                                    d          d            ⎥\n",
       "E₁))  -k⋅(f₄(I₁) + g₂(E₁, E₂, I₁))⋅───(L(I₁))⋅───(f₂(E₁))  0⎥\n",
       "                                   dI₁        dE₁           ⎥\n",
       "                                                            ⎥\n",
       "                                                            ⎥\n",
       "                                    d          d            ⎥\n",
       "      -k⋅(f₃(I₂) + g₁(E₁, E₂, I₂))⋅───(L(I₁))⋅───(f₁(E₂))  0⎥\n",
       "                                   dI₁        dE₂           ⎥\n",
       "                                                            ⎥\n",
       "                                     2                      ⎥\n",
       "                            d                               ⎥\n",
       "                         k⋅───(L(I₁))                      0⎥\n",
       "                           dI₁                              ⎥\n",
       "                                                            ⎥\n",
       "                               0                           0⎦"
      ]
     },
     "execution_count": 9,
     "metadata": {},
     "output_type": "execute_result"
    }
   ],
   "source": [
    "H"
   ]
  },
  {
   "cell_type": "markdown",
   "metadata": {},
   "source": [
    "## Difeomorfismo para GIII"
   ]
  },
  {
   "cell_type": "code",
   "execution_count": 31,
   "metadata": {
    "collapsed": false
   },
   "outputs": [],
   "source": [
    "Z = []\n",
    "B = []\n",
    "Z,B = n_grados(n)"
   ]
  },
  {
   "cell_type": "code",
   "execution_count": 32,
   "metadata": {
    "collapsed": false
   },
   "outputs": [
    {
     "data": {
      "text/latex": [
       "$$\\begin{pmatrix}\\begin{bmatrix}\\Phi , & \\frac{E_{1}^{\\beta}}{\\beta}, & \\frac{E_{2}^{\\beta}}{\\beta}, & \\frac{I_{1}^{\\beta}}{\\beta}, & \\frac{I_{2}^{\\beta}}{\\beta}\\end{bmatrix}, & \\begin{bmatrix}\\Phi , & E_{1}, & E_{2}, & I_{1}, & I_{2}\\end{bmatrix}\\end{pmatrix}$$"
      ],
      "text/plain": [
       "⎛⎡         β    β    β    β⎤                         ⎞\n",
       "⎜⎢       E₁   E₂   I₁   I₂ ⎥                         ⎟\n",
       "⎜⎢\\Phi , ───, ───, ───, ───⎥, [\\Phi , E₁, E₂, I₁, I₂]⎟\n",
       "⎝⎣        β    β    β    β ⎦                         ⎠"
      ]
     },
     "execution_count": 32,
     "metadata": {},
     "output_type": "execute_result"
    }
   ],
   "source": [
    "Z= difeomorphism_001(n)\n",
    "Z, B"
   ]
  },
  {
   "cell_type": "code",
   "execution_count": 33,
   "metadata": {
    "collapsed": false
   },
   "outputs": [
    {
     "data": {
      "image/png": "[encoded data removed]",
      "text/latex": [
       "$$\\Phi  + \\operatorname{L}{\\left (I_{1},I_{2} \\right )}$$"
      ],
      "text/plain": [
       "\\Phi  + L(I₁, I₂)"
      ]
     },
     "execution_count": 33,
     "metadata": {},
     "output_type": "execute_result"
    }
   ],
   "source": [
    "\n",
    "Z[0] =Z[0]+Function('L')(*B[n+1:2*n+1]) \n",
    "Z[0]\n",
    "\n"
   ]
  },
  {
   "cell_type": "code",
   "execution_count": 34,
   "metadata": {
    "collapsed": false
   },
   "outputs": [
    {
     "data": {
      "text/latex": [
       "$$\\begin{pmatrix}\\left[\\begin{smallmatrix}k & - \\frac{E_{1}^{\\beta -1} I_{1}^{\\beta} k}{\\beta} & - \\frac{E_{2}^{\\beta -1} I_{2}^{\\beta} k}{\\beta} & k \\frac{\\partial}{\\partial I_{1}} \\operatorname{L}{\\left (I_{1},I_{2} \\right )} & k \\frac{\\partial}{\\partial I_{2}} \\operatorname{L}{\\left (I_{1},I_{2} \\right )}\\\\- \\frac{E_{1}^{\\beta -1} I_{1}^{\\beta} k}{\\beta} & \\frac{E_{1}^{2 \\beta -2} I_{1}^{2 \\beta} k}{\\beta^{2}} & \\frac{E_{1}^{\\beta -1} E_{2}^{\\beta -1} I_{1}^{\\beta} I_{2}^{\\beta} k}{\\beta^{2}} & - \\frac{E_{1}^{\\beta -1} I_{1}^{\\beta} k \\frac{\\partial}{\\partial I_{1}} \\operatorname{L}{\\left (I_{1},I_{2} \\right )}}{\\beta} & - \\frac{E_{1}^{\\beta -1} I_{1}^{\\beta} k \\frac{\\partial}{\\partial I_{2}} \\operatorname{L}{\\left (I_{1},I_{2} \\right )}}{\\beta}\\\\- \\frac{E_{2}^{\\beta -1} I_{2}^{\\beta} k}{\\beta} & \\frac{E_{1}^{\\beta -1} E_{2}^{\\beta -1} I_{1}^{\\beta} I_{2}^{\\beta} k}{\\beta^{2}} & \\frac{E_{2}^{2 \\beta -2} I_{2}^{2 \\beta} k}{\\beta^{2}} & - \\frac{E_{2}^{\\beta -1} I_{2}^{\\beta} k \\frac{\\partial}{\\partial I_{1}} \\operatorname{L}{\\left (I_{1},I_{2} \\right )}}{\\beta} & - \\frac{E_{2}^{\\beta -1} I_{2}^{\\beta} k \\frac{\\partial}{\\partial I_{2}} \\operatorname{L}{\\left (I_{1},I_{2} \\right )}}{\\beta}\\\\k \\frac{\\partial}{\\partial I_{1}} \\operatorname{L}{\\left (I_{1},I_{2} \\right )} & - \\frac{E_{1}^{\\beta -1} I_{1}^{\\beta} k \\frac{\\partial}{\\partial I_{1}} \\operatorname{L}{\\left (I_{1},I_{2} \\right )}}{\\beta} & - \\frac{E_{2}^{\\beta -1} I_{2}^{\\beta} k \\frac{\\partial}{\\partial I_{1}} \\operatorname{L}{\\left (I_{1},I_{2} \\right )}}{\\beta} & k \\left(\\frac{\\partial}{\\partial I_{1}} \\operatorname{L}{\\left (I_{1},I_{2} \\right )}\\right)^{2} & k \\frac{\\partial}{\\partial I_{1}} \\operatorname{L}{\\left (I_{1},I_{2} \\right )} \\frac{\\partial}{\\partial I_{2}} \\operatorname{L}{\\left (I_{1},I_{2} \\right )}\\\\k \\frac{\\partial}{\\partial I_{2}} \\operatorname{L}{\\left (I_{1},I_{2} \\right )} & - \\frac{E_{1}^{\\beta -1} I_{1}^{\\beta} k \\frac{\\partial}{\\partial I_{2}} \\operatorname{L}{\\left (I_{1},I_{2} \\right )}}{\\beta} & - \\frac{E_{2}^{\\beta -1} I_{2}^{\\beta} k \\frac{\\partial}{\\partial I_{2}} \\operatorname{L}{\\left (I_{1},I_{2} \\right )}}{\\beta} & k \\frac{\\partial}{\\partial I_{1}} \\operatorname{L}{\\left (I_{1},I_{2} \\right )} \\frac{\\partial}{\\partial I_{2}} \\operatorname{L}{\\left (I_{1},I_{2} \\right )} & k \\left(\\frac{\\partial}{\\partial I_{2}} \\operatorname{L}{\\left (I_{1},I_{2} \\right )}\\right)^{2}\\end{smallmatrix}\\right], & \\left[\\begin{smallmatrix}0 & 0 & 0 & 0 & 0\\\\0 & 0 & 0 & E_{1}^{\\beta -1} I_{1}^{\\beta -1} & 0\\\\0 & 0 & 0 & 0 & E_{2}^{\\beta -1} I_{2}^{\\beta -1}\\\\0 & E_{1}^{\\beta -1} I_{1}^{\\beta -1} & 0 & 0 & 0\\\\0 & 0 & E_{2}^{\\beta -1} I_{2}^{\\beta -1} & 0 & 0\\end{smallmatrix}\\right]\\end{pmatrix}$$"
      ],
      "text/plain": [
       "⎛⎡                            β - 1   β                      β - 1   β        \n",
       "⎜⎢                         -E₁     ⋅I₁ ⋅k                 -E₂     ⋅I₂ ⋅k      \n",
       "⎜⎢       k                 ──────────────                 ──────────────      \n",
       "⎜⎢                               β                              β             \n",
       "⎜⎢                                                                            \n",
       "⎜⎢                                                                            \n",
       "⎜⎢    β - 1   β             2⋅β - 2   2⋅β              β - 1   β - 1   β   β  \n",
       "⎜⎢ -E₁     ⋅I₁ ⋅k         E₁       ⋅I₁   ⋅k          E₁     ⋅E₂     ⋅I₁ ⋅I₂ ⋅k\n",
       "⎜⎢ ──────────────         ─────────────────          ─────────────────────────\n",
       "⎜⎢       β                         2                              2           \n",
       "⎜⎢                                β                              β            \n",
       "⎜⎢                                                                            \n",
       "⎜⎢                                                                            \n",
       "⎜⎢    β - 1   β         β - 1   β - 1   β   β              2⋅β - 2   2⋅β      \n",
       "⎜⎢ -E₂     ⋅I₂ ⋅k     E₁     ⋅E₂     ⋅I₁ ⋅I₂ ⋅k          E₂       ⋅I₂   ⋅k    \n",
       "⎜⎢ ──────────────     ─────────────────────────          ─────────────────    \n",
       "⎜⎢       β                         2                              2           \n",
       "⎜⎢                                β                              β            \n",
       "⎜⎢                                                                            \n",
       "⎜⎢                     β - 1   β    d                 β - 1   β    d          \n",
       "⎜⎢                  -E₁     ⋅I₁ ⋅k⋅───(L(I₁, I₂))  -E₂     ⋅I₂ ⋅k⋅───(L(I₁, I₂\n",
       "⎜⎢   d                             dI₁                            dI₁         \n",
       "⎜⎢k⋅───(L(I₁, I₂))  ─────────────────────────────  ───────────────────────────\n",
       "⎜⎢  dI₁                           β                              β            \n",
       "⎜⎢                                                                            \n",
       "⎜⎢                     β - 1   β    d                 β - 1   β    d          \n",
       "⎜⎢                  -E₁     ⋅I₁ ⋅k⋅───(L(I₁, I₂))  -E₂     ⋅I₂ ⋅k⋅───(L(I₁, I₂\n",
       "⎜⎢   d                             dI₂                            dI₂         \n",
       "⎜⎢k⋅───(L(I₁, I₂))  ─────────────────────────────  ───────────────────────────\n",
       "⎝⎣  dI₂                           β                              β            \n",
       "\n",
       "                                                                    ⎤         \n",
       "              d                                d                    ⎥         \n",
       "           k⋅───(L(I₁, I₂))                 k⋅───(L(I₁, I₂))        ⎥, ⎡0     \n",
       "             dI₁                              dI₂                   ⎥  ⎢      \n",
       "                                                                    ⎥  ⎢      \n",
       "        β - 1   β    d                   β - 1   β    d             ⎥  ⎢0     \n",
       "     -E₁     ⋅I₁ ⋅k⋅───(L(I₁, I₂))    -E₁     ⋅I₁ ⋅k⋅───(L(I₁, I₂)) ⎥  ⎢      \n",
       "                    dI₁                              dI₂            ⎥  ⎢      \n",
       "     ─────────────────────────────    ───────────────────────────── ⎥  ⎢0     \n",
       "                   β                                β               ⎥  ⎢      \n",
       "                                                                    ⎥  ⎢     β\n",
       "                                                                    ⎥  ⎢0  E₁ \n",
       "        β - 1   β    d                   β - 1   β    d             ⎥  ⎢      \n",
       "     -E₂     ⋅I₂ ⋅k⋅───(L(I₁, I₂))    -E₂     ⋅I₂ ⋅k⋅───(L(I₁, I₂)) ⎥  ⎢      \n",
       "                    dI₁                              dI₂            ⎥  ⎣0     \n",
       "     ─────────────────────────────    ───────────────────────────── ⎥         \n",
       "                   β                                β               ⎥         \n",
       "                                                                    ⎥         \n",
       "                                                                    ⎥         \n",
       "                                                                    ⎥         \n",
       "))                         2                                        ⎥         \n",
       "              d                         d              d            ⎥         \n",
       "──         k⋅───(L(I₁, I₂))          k⋅───(L(I₁, I₂))⋅───(L(I₁, I₂))⎥         \n",
       "             dI₁                       dI₁            dI₂           ⎥         \n",
       "                                                                    ⎥         \n",
       "                                                                    ⎥         \n",
       "))                                                          2       ⎥         \n",
       "       d              d                        d                    ⎥         \n",
       "──  k⋅───(L(I₁, I₂))⋅───(L(I₁, I₂))         k⋅───(L(I₁, I₂))        ⎥         \n",
       "      dI₁            dI₂                      dI₂                   ⎦         \n",
       "\n",
       "                                                                ⎞\n",
       "                                                                ⎟\n",
       "    0                0                0                0       ⎤⎟\n",
       "                                                               ⎥⎟\n",
       "                                 β - 1   β - 1                 ⎥⎟\n",
       "    0                0         E₁     ⋅I₁              0       ⎥⎟\n",
       "                                                               ⎥⎟\n",
       "                                                  β - 1   β - 1⎥⎟\n",
       "    0                0                0         E₂     ⋅I₂     ⎥⎟\n",
       "                                                               ⎥⎟\n",
       " - 1   β - 1                                                   ⎥⎟\n",
       "    ⋅I₁              0                0                0       ⎥⎟\n",
       "                                                               ⎥⎟\n",
       "                β - 1   β - 1                                  ⎥⎟\n",
       "    0         E₂     ⋅I₂              0                0       ⎦⎟\n",
       "                                                                ⎟\n",
       "                                                                ⎟\n",
       "                                                                ⎟\n",
       "                                                                ⎟\n",
       "                                                                ⎟\n",
       "                                                                ⎟\n",
       "                                                                ⎟\n",
       "                                                                ⎟\n",
       "                                                                ⎟\n",
       "                                                                ⎟\n",
       "                                                                ⎟\n",
       "                                                                ⎟\n",
       "                                                                ⎟\n",
       "                                                                ⎟\n",
       "                                                                ⎠"
      ]
     },
     "execution_count": 34,
     "metadata": {},
     "output_type": "execute_result"
    }
   ],
   "source": [
    "H = zeros(n)\n",
    "S = zeros(n)\n",
    "H,S = difeomorphism_equations(Z,B,simplify)\n",
    "H,S"
   ]
  },
  {
   "cell_type": "code",
   "execution_count": null,
   "metadata": {
    "collapsed": false
   },
   "outputs": [],
   "source": []
  }
 ],
 "metadata": {
  "kernelspec": {
   "display_name": "Python 3",
   "language": "python",
   "name": "python3"
  },
  "language_info": {
   "codemirror_mode": {
    "name": "ipython",
    "version": 3
   },
   "file_extension": ".py",
   "mimetype": "text/x-python",
   "name": "python",
   "nbconvert_exporter": "python",
   "pygments_lexer": "ipython3",
   "version": "3.5.1"
  }
 },
 "nbformat": 4,
 "nbformat_minor": 0
}
