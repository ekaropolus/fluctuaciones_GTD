{
 "cells": [
  {
   "cell_type": "code",
   "execution_count": 1,
   "metadata": {
    "collapsed": false,
    "scrolled": true
   },
   "outputs": [],
   "source": [
    "from difeomorfismos_solvers import *\n",
    "from difeomorfismo import *\n",
    "import winsound, sys\n",
    "\n",
    "def beep(sound):\n",
    "    winsound.PlaySound('%s.wav' % sound, winsound.SND_FILENAME)\n",
    "init_printing()"
   ]
  },
  {
   "cell_type": "code",
   "execution_count": null,
   "metadata": {
    "collapsed": true
   },
   "outputs": [],
   "source": []
  },
  {
   "cell_type": "markdown",
   "metadata": {},
   "source": [
    "<H3>Difeomorsimos Cuadratico + lineal </H3>\n",
    "<H3>$X^{c} = M_{dd}^{c}E^{d}E^{d}$<H3>\n",
    "<H3>$Y_{c} = N_{cee}I^{e}I^{e}$</H3>\n",
    "\n"
   ]
  },
  {
   "cell_type": "markdown",
   "metadata": {},
   "source": [
    "# <H3>Defino la dimension que utilizare</H3>"
   ]
  },
  {
   "cell_type": "code",
   "execution_count": 2,
   "metadata": {
    "collapsed": false
   },
   "outputs": [],
   "source": [
    "n=2\n"
   ]
  },
  {
   "cell_type": "markdown",
   "metadata": {},
   "source": [
    "<H3>Estos son las dos coordenadas del difeomorfismo</H3>"
   ]
  },
  {
   "cell_type": "code",
   "execution_count": 3,
   "metadata": {
    "collapsed": false
   },
   "outputs": [],
   "source": [
    "ZE, ZX = set_coordinates(n)"
   ]
  },
  {
   "cell_type": "markdown",
   "metadata": {},
   "source": [
    "<H3>Estas son las constates para las ecuaciones del difeomorfismo Cuadratico + lineal</H3>"
   ]
  },
  {
   "cell_type": "code",
   "execution_count": 4,
   "metadata": {
    "collapsed": false
   },
   "outputs": [],
   "source": [
    "import operator\n",
    "aa,c1=set_constants_a(n,'aa',0)\n",
    "dd,c2=set_constants_a(n,'dd',0)\n",
    "bb,c3=set_constants_axb(n,n,'bb',0)\n",
    "gg,c4=set_constants_axb(n,n,'gg',0)\n",
    "cc,c5=set_constants_axb(n,n,'cc',0)\n",
    "hh,c6=set_constants_axb(n,n,'hh',0)\n",
    "M,c7  = set_constants_axbxcxdxe(n,n,n,n,n,'M',0)\n",
    "N,c8  = set_constants_axbxcxdxe(n,n,n,n,n,'N',0)\n",
    "J,c9  = set_constants_axbxcxdxe(n,n,n,n,n,'J',0)\n",
    "K,c10 = set_constants_axbxcxdxe(n,n,n,n,n,'K',0)\n",
    "A,c11 = set_constants_axbxcxdxe(n,n,n,n,n,'A','s')\n",
    "B,c12 = set_constants_axbxcxdxe(n,n,n,n,n,'B','s')\n",
    "C,c13 = set_constants_axbxcxdxe(n,n,n,n,n,'C','s')\n",
    "D,c14 = set_constants_axbxcxdxe(n,n,n,n,n,'D','s')\n",
    "\n",
    "p,c1=set_constants_axb(n,n,'p','s')"
   ]
  },
  {
   "cell_type": "code",
   "execution_count": 5,
   "metadata": {
    "collapsed": true
   },
   "outputs": [],
   "source": [
    "X1 = [A[0]] + [B[1]]\n",
    "Y1 = [C[0]] + [D[1]]\n",
    "X2 = [M[0]] + [N[1]]\n",
    "Y2 = [J[0]] + [K[1]]"
   ]
  },
  {
   "cell_type": "code",
   "execution_count": 6,
   "metadata": {
    "collapsed": false
   },
   "outputs": [],
   "source": [
    "c = c1 + c2 + c3 + c4 + c5 + c6 + c7 + c8 + c9 + c10 + c11 + c12 + c13 + c14\n",
    "c = list(filter(lambda a: a != 0, c))"
   ]
  },
  {
   "cell_type": "code",
   "execution_count": 7,
   "metadata": {
    "collapsed": false
   },
   "outputs": [],
   "source": [
    "dc = {}\n",
    "for x in c:\n",
    "    dc[x]=1"
   ]
  },
  {
   "cell_type": "code",
   "execution_count": 8,
   "metadata": {
    "collapsed": false
   },
   "outputs": [],
   "source": [
    "dZE = {}\n",
    "for x in ZE:\n",
    "    dZE[x]=1"
   ]
  },
  {
   "cell_type": "code",
   "execution_count": 9,
   "metadata": {
    "collapsed": false
   },
   "outputs": [],
   "source": [
    "m = Symbol('m')\n",
    "n1 = Symbol('n')\n",
    "r = Symbol('r')\n",
    "s = Symbol('s')\n",
    "\n",
    "cof = [[X1,X2],[Y1,Y2],[bb],[gg],[cc],[hh]]\n",
    "power = [[[m,n1,r,s],[-1,3,1,1]],[[m,n1,r,s],[-1,3,1,1]]]"
   ]
  },
  {
   "cell_type": "code",
   "execution_count": 10,
   "metadata": {
    "collapsed": false,
    "scrolled": true
   },
   "outputs": [
    {
     "data": {
      "text/latex": [
       "$$\\left[\\begin{matrix}F{\\left (\\Phi,E_{1},E_{2},I_{1},I_{2} \\right )}\\\\A_{11111} E_{1}^{m} E_{1}^{n} I_{1}^{- r + 1} I_{1}^{- s + 1} + A_{11112} E_{1}^{m} E_{1}^{n} I_{1}^{- r + 1} I_{2}^{- s + 1} + A_{11121} E_{1}^{m} E_{1}^{n} I_{1}^{- s + 1} I_{2}^{- r + 1} + A_{11122} E_{1}^{m} E_{1}^{n} I_{2}^{- r + 1} I_{2}^{- s + 1} + A_{11211} E_{1}^{m} E_{2}^{n} I_{1}^{- r + 1} I_{1}^{- s + 1} + A_{11212} E_{1}^{m} E_{2}^{n} I_{1}^{- r + 1} I_{2}^{- s + 1} + A_{11221} E_{1}^{m} E_{2}^{n} I_{1}^{- s + 1} I_{2}^{- r + 1} + A_{11222} E_{1}^{m} E_{2}^{n} I_{2}^{- r + 1} I_{2}^{- s + 1} + A_{12111} E_{1}^{n} E_{2}^{m} I_{1}^{- r + 1} I_{1}^{- s + 1} + A_{12112} E_{1}^{n} E_{2}^{m} I_{1}^{- r + 1} I_{2}^{- s + 1} + A_{12121} E_{1}^{n} E_{2}^{m} I_{1}^{- s + 1} I_{2}^{- r + 1} + A_{12122} E_{1}^{n} E_{2}^{m} I_{2}^{- r + 1} I_{2}^{- s + 1} + A_{12211} E_{2}^{m} E_{2}^{n} I_{1}^{- r + 1} I_{1}^{- s + 1} + A_{12212} E_{2}^{m} E_{2}^{n} I_{1}^{- r + 1} I_{2}^{- s + 1} + A_{12221} E_{2}^{m} E_{2}^{n} I_{1}^{- s + 1} I_{2}^{- r + 1} + A_{12222} E_{2}^{m} E_{2}^{n} I_{2}^{- r + 1} I_{2}^{- s + 1}\\\\B_{21111} E_{1}^{m} E_{1}^{n} I_{1}^{- r + 1} I_{1}^{- s + 1} + B_{21112} E_{1}^{m} E_{1}^{n} I_{1}^{- r + 1} I_{2}^{- s + 1} + B_{21121} E_{1}^{m} E_{1}^{n} I_{1}^{- s + 1} I_{2}^{- r + 1} + B_{21122} E_{1}^{m} E_{1}^{n} I_{2}^{- r + 1} I_{2}^{- s + 1} + B_{21211} E_{1}^{m} E_{2}^{n} I_{1}^{- r + 1} I_{1}^{- s + 1} + B_{21212} E_{1}^{m} E_{2}^{n} I_{1}^{- r + 1} I_{2}^{- s + 1} + B_{21221} E_{1}^{m} E_{2}^{n} I_{1}^{- s + 1} I_{2}^{- r + 1} + B_{21222} E_{1}^{m} E_{2}^{n} I_{2}^{- r + 1} I_{2}^{- s + 1} + B_{22111} E_{1}^{n} E_{2}^{m} I_{1}^{- r + 1} I_{1}^{- s + 1} + B_{22112} E_{1}^{n} E_{2}^{m} I_{1}^{- r + 1} I_{2}^{- s + 1} + B_{22121} E_{1}^{n} E_{2}^{m} I_{1}^{- s + 1} I_{2}^{- r + 1} + B_{22122} E_{1}^{n} E_{2}^{m} I_{2}^{- r + 1} I_{2}^{- s + 1} + B_{22211} E_{2}^{m} E_{2}^{n} I_{1}^{- r + 1} I_{1}^{- s + 1} + B_{22212} E_{2}^{m} E_{2}^{n} I_{1}^{- r + 1} I_{2}^{- s + 1} + B_{22221} E_{2}^{m} E_{2}^{n} I_{1}^{- s + 1} I_{2}^{- r + 1} + B_{22222} E_{2}^{m} E_{2}^{n} I_{2}^{- r + 1} I_{2}^{- s + 1}\\\\C_{11111} E_{1}^{- m + 1} E_{1}^{- n + 1} I_{1}^{r} I_{1}^{s} + C_{11112} E_{1}^{- m + 1} E_{1}^{- n + 1} I_{1}^{r} I_{2}^{s} + C_{11121} E_{1}^{- m + 1} E_{1}^{- n + 1} I_{1}^{s} I_{2}^{r} + C_{11122} E_{1}^{- m + 1} E_{1}^{- n + 1} I_{2}^{r} I_{2}^{s} + C_{11211} E_{1}^{- m + 1} E_{2}^{- n + 1} I_{1}^{r} I_{1}^{s} + C_{11212} E_{1}^{- m + 1} E_{2}^{- n + 1} I_{1}^{r} I_{2}^{s} + C_{11221} E_{1}^{- m + 1} E_{2}^{- n + 1} I_{1}^{s} I_{2}^{r} + C_{11222} E_{1}^{- m + 1} E_{2}^{- n + 1} I_{2}^{r} I_{2}^{s} + C_{12111} E_{1}^{- n + 1} E_{2}^{- m + 1} I_{1}^{r} I_{1}^{s} + C_{12112} E_{1}^{- n + 1} E_{2}^{- m + 1} I_{1}^{r} I_{2}^{s} + C_{12121} E_{1}^{- n + 1} E_{2}^{- m + 1} I_{1}^{s} I_{2}^{r} + C_{12122} E_{1}^{- n + 1} E_{2}^{- m + 1} I_{2}^{r} I_{2}^{s} + C_{12211} E_{2}^{- m + 1} E_{2}^{- n + 1} I_{1}^{r} I_{1}^{s} + C_{12212} E_{2}^{- m + 1} E_{2}^{- n + 1} I_{1}^{r} I_{2}^{s} + C_{12221} E_{2}^{- m + 1} E_{2}^{- n + 1} I_{1}^{s} I_{2}^{r} + C_{12222} E_{2}^{- m + 1} E_{2}^{- n + 1} I_{2}^{r} I_{2}^{s}\\\\D_{21111} E_{1}^{- m + 1} E_{1}^{- n + 1} I_{1}^{r} I_{1}^{s} + D_{21112} E_{1}^{- m + 1} E_{1}^{- n + 1} I_{1}^{r} I_{2}^{s} + D_{21121} E_{1}^{- m + 1} E_{1}^{- n + 1} I_{1}^{s} I_{2}^{r} + D_{21122} E_{1}^{- m + 1} E_{1}^{- n + 1} I_{2}^{r} I_{2}^{s} + D_{21211} E_{1}^{- m + 1} E_{2}^{- n + 1} I_{1}^{r} I_{1}^{s} + D_{21212} E_{1}^{- m + 1} E_{2}^{- n + 1} I_{1}^{r} I_{2}^{s} + D_{21221} E_{1}^{- m + 1} E_{2}^{- n + 1} I_{1}^{s} I_{2}^{r} + D_{21222} E_{1}^{- m + 1} E_{2}^{- n + 1} I_{2}^{r} I_{2}^{s} + D_{22111} E_{1}^{- n + 1} E_{2}^{- m + 1} I_{1}^{r} I_{1}^{s} + D_{22112} E_{1}^{- n + 1} E_{2}^{- m + 1} I_{1}^{r} I_{2}^{s} + D_{22121} E_{1}^{- n + 1} E_{2}^{- m + 1} I_{1}^{s} I_{2}^{r} + D_{22122} E_{1}^{- n + 1} E_{2}^{- m + 1} I_{2}^{r} I_{2}^{s} + D_{22211} E_{2}^{- m + 1} E_{2}^{- n + 1} I_{1}^{r} I_{1}^{s} + D_{22212} E_{2}^{- m + 1} E_{2}^{- n + 1} I_{1}^{r} I_{2}^{s} + D_{22221} E_{2}^{- m + 1} E_{2}^{- n + 1} I_{1}^{s} I_{2}^{r} + D_{22222} E_{2}^{- m + 1} E_{2}^{- n + 1} I_{2}^{r} I_{2}^{s}\\end{matrix}\\right]$$"
      ],
      "text/plain": [
       "⎡                                                                             \n",
       "⎢                                                                             \n",
       "⎢         m   n   -r + 1   -s + 1            m   n   -r + 1   -s + 1          \n",
       "⎢A₁₁₁₁₁⋅E₁ ⋅E₁ ⋅I₁      ⋅I₁       + A₁₁₁₁₂⋅E₁ ⋅E₁ ⋅I₁      ⋅I₂       + A₁₁₁₂₁⋅\n",
       "⎢                                                                             \n",
       "⎢         m   n   -r + 1   -s + 1            m   n   -r + 1   -s + 1          \n",
       "⎢B₂₁₁₁₁⋅E₁ ⋅E₁ ⋅I₁      ⋅I₁       + B₂₁₁₁₂⋅E₁ ⋅E₁ ⋅I₁      ⋅I₂       + B₂₁₁₂₁⋅\n",
       "⎢                                                                             \n",
       "⎢         -m + 1   -n + 1   r   s            -m + 1   -n + 1   r   s          \n",
       "⎢C₁₁₁₁₁⋅E₁      ⋅E₁      ⋅I₁ ⋅I₁  + C₁₁₁₁₂⋅E₁      ⋅E₁      ⋅I₁ ⋅I₂  + C₁₁₁₂₁⋅\n",
       "⎢                                                                             \n",
       "⎢         -m + 1   -n + 1   r   s            -m + 1   -n + 1   r   s          \n",
       "⎣D₂₁₁₁₁⋅E₁      ⋅E₁      ⋅I₁ ⋅I₁  + D₂₁₁₁₂⋅E₁      ⋅E₁      ⋅I₁ ⋅I₂  + D₂₁₁₂₁⋅\n",
       "\n",
       "                                                                              \n",
       "                                                                              \n",
       "  m   n   -s + 1   -r + 1            m   n   -r + 1   -s + 1            m   n \n",
       "E₁ ⋅E₁ ⋅I₁      ⋅I₂       + A₁₁₁₂₂⋅E₁ ⋅E₁ ⋅I₂      ⋅I₂       + A₁₁₂₁₁⋅E₁ ⋅E₂ ⋅\n",
       "                                                                              \n",
       "  m   n   -s + 1   -r + 1            m   n   -r + 1   -s + 1            m   n \n",
       "E₁ ⋅E₁ ⋅I₁      ⋅I₂       + B₂₁₁₂₂⋅E₁ ⋅E₁ ⋅I₂      ⋅I₂       + B₂₁₂₁₁⋅E₁ ⋅E₂ ⋅\n",
       "                                                                              \n",
       "  -m + 1   -n + 1   s   r            -m + 1   -n + 1   r   s            -m + 1\n",
       "E₁      ⋅E₁      ⋅I₁ ⋅I₂  + C₁₁₁₂₂⋅E₁      ⋅E₁      ⋅I₂ ⋅I₂  + C₁₁₂₁₁⋅E₁      \n",
       "                                                                              \n",
       "  -m + 1   -n + 1   s   r            -m + 1   -n + 1   r   s            -m + 1\n",
       "E₁      ⋅E₁      ⋅I₁ ⋅I₂  + D₂₁₁₂₂⋅E₁      ⋅E₁      ⋅I₂ ⋅I₂  + D₂₁₂₁₁⋅E₁      \n",
       "\n",
       "                                                                              \n",
       "                                                                              \n",
       "  -r + 1   -s + 1            m   n   -r + 1   -s + 1            m   n   -s + 1\n",
       "I₁      ⋅I₁       + A₁₁₂₁₂⋅E₁ ⋅E₂ ⋅I₁      ⋅I₂       + A₁₁₂₂₁⋅E₁ ⋅E₂ ⋅I₁      \n",
       "                                                                              \n",
       "  -r + 1   -s + 1            m   n   -r + 1   -s + 1            m   n   -s + 1\n",
       "I₁      ⋅I₁       + B₂₁₂₁₂⋅E₁ ⋅E₂ ⋅I₁      ⋅I₂       + B₂₁₂₂₁⋅E₁ ⋅E₂ ⋅I₁      \n",
       "                                                                              \n",
       "   -n + 1   r   s            -m + 1   -n + 1   r   s            -m + 1   -n + \n",
       "⋅E₂      ⋅I₁ ⋅I₁  + C₁₁₂₁₂⋅E₁      ⋅E₂      ⋅I₁ ⋅I₂  + C₁₁₂₂₁⋅E₁      ⋅E₂     \n",
       "                                                                              \n",
       "   -n + 1   r   s            -m + 1   -n + 1   r   s            -m + 1   -n + \n",
       "⋅E₂      ⋅I₁ ⋅I₁  + D₂₁₂₁₂⋅E₁      ⋅E₂      ⋅I₁ ⋅I₂  + D₂₁₂₂₁⋅E₁      ⋅E₂     \n",
       "\n",
       "                                  F(\\Phi, E₁, E₂, I₁, I₂)                     \n",
       "                                                                              \n",
       "   -r + 1            m   n   -r + 1   -s + 1            n   m   -r + 1   -s + \n",
       "⋅I₂       + A₁₁₂₂₂⋅E₁ ⋅E₂ ⋅I₂      ⋅I₂       + A₁₂₁₁₁⋅E₁ ⋅E₂ ⋅I₁      ⋅I₁     \n",
       "                                                                              \n",
       "   -r + 1            m   n   -r + 1   -s + 1            n   m   -r + 1   -s + \n",
       "⋅I₂       + B₂₁₂₂₂⋅E₁ ⋅E₂ ⋅I₂      ⋅I₂       + B₂₂₁₁₁⋅E₁ ⋅E₂ ⋅I₁      ⋅I₁     \n",
       "                                                                              \n",
       "1   s   r            -m + 1   -n + 1   r   s            -n + 1   -m + 1   r   \n",
       " ⋅I₁ ⋅I₂  + C₁₁₂₂₂⋅E₁      ⋅E₂      ⋅I₂ ⋅I₂  + C₁₂₁₁₁⋅E₁      ⋅E₂      ⋅I₁ ⋅I₁\n",
       "                                                                              \n",
       "1   s   r            -m + 1   -n + 1   r   s            -n + 1   -m + 1   r   \n",
       " ⋅I₁ ⋅I₂  + D₂₁₂₂₂⋅E₁      ⋅E₂      ⋅I₂ ⋅I₂  + D₂₂₁₁₁⋅E₁      ⋅E₂      ⋅I₁ ⋅I₁\n",
       "\n",
       "                                                                              \n",
       "                                                                              \n",
       "1            n   m   -r + 1   -s + 1            n   m   -s + 1   -r + 1       \n",
       "  + A₁₂₁₁₂⋅E₁ ⋅E₂ ⋅I₁      ⋅I₂       + A₁₂₁₂₁⋅E₁ ⋅E₂ ⋅I₁      ⋅I₂       + A₁₂₁\n",
       "                                                                              \n",
       "1            n   m   -r + 1   -s + 1            n   m   -s + 1   -r + 1       \n",
       "  + B₂₂₁₁₂⋅E₁ ⋅E₂ ⋅I₁      ⋅I₂       + B₂₂₁₂₁⋅E₁ ⋅E₂ ⋅I₁      ⋅I₂       + B₂₂₁\n",
       "                                                                              \n",
       "s            -n + 1   -m + 1   r   s            -n + 1   -m + 1   s   r       \n",
       "  + C₁₂₁₁₂⋅E₁      ⋅E₂      ⋅I₁ ⋅I₂  + C₁₂₁₂₁⋅E₁      ⋅E₂      ⋅I₁ ⋅I₂  + C₁₂₁\n",
       "                                                                              \n",
       "s            -n + 1   -m + 1   r   s            -n + 1   -m + 1   s   r       \n",
       "  + D₂₂₁₁₂⋅E₁      ⋅E₂      ⋅I₁ ⋅I₂  + D₂₂₁₂₁⋅E₁      ⋅E₂      ⋅I₁ ⋅I₂  + D₂₂₁\n",
       "\n",
       "                                                                              \n",
       "                                                                              \n",
       "     n   m   -r + 1   -s + 1            m   n   -r + 1   -s + 1            m  \n",
       "₂₂⋅E₁ ⋅E₂ ⋅I₂      ⋅I₂       + A₁₂₂₁₁⋅E₂ ⋅E₂ ⋅I₁      ⋅I₁       + A₁₂₂₁₂⋅E₂ ⋅E\n",
       "                                                                              \n",
       "     n   m   -r + 1   -s + 1            m   n   -r + 1   -s + 1            m  \n",
       "₂₂⋅E₁ ⋅E₂ ⋅I₂      ⋅I₂       + B₂₂₂₁₁⋅E₂ ⋅E₂ ⋅I₁      ⋅I₁       + B₂₂₂₁₂⋅E₂ ⋅E\n",
       "                                                                              \n",
       "     -n + 1   -m + 1   r   s            -m + 1   -n + 1   r   s            -m \n",
       "₂₂⋅E₁      ⋅E₂      ⋅I₂ ⋅I₂  + C₁₂₂₁₁⋅E₂      ⋅E₂      ⋅I₁ ⋅I₁  + C₁₂₂₁₂⋅E₂   \n",
       "                                                                              \n",
       "     -n + 1   -m + 1   r   s            -m + 1   -n + 1   r   s            -m \n",
       "₂₂⋅E₁      ⋅E₂      ⋅I₂ ⋅I₂  + D₂₂₂₁₁⋅E₂      ⋅E₂      ⋅I₁ ⋅I₁  + D₂₂₂₁₂⋅E₂   \n",
       "\n",
       "                                                                              \n",
       "                                                                              \n",
       " n   -r + 1   -s + 1            m   n   -s + 1   -r + 1            m   n   -r \n",
       "₂ ⋅I₁      ⋅I₂       + A₁₂₂₂₁⋅E₂ ⋅E₂ ⋅I₁      ⋅I₂       + A₁₂₂₂₂⋅E₂ ⋅E₂ ⋅I₂   \n",
       "                                                                              \n",
       " n   -r + 1   -s + 1            m   n   -s + 1   -r + 1            m   n   -r \n",
       "₂ ⋅I₁      ⋅I₂       + B₂₂₂₂₁⋅E₂ ⋅E₂ ⋅I₁      ⋅I₂       + B₂₂₂₂₂⋅E₂ ⋅E₂ ⋅I₂   \n",
       "                                                                              \n",
       "+ 1   -n + 1   r   s            -m + 1   -n + 1   s   r            -m + 1   -n\n",
       "   ⋅E₂      ⋅I₁ ⋅I₂  + C₁₂₂₂₁⋅E₂      ⋅E₂      ⋅I₁ ⋅I₂  + C₁₂₂₂₂⋅E₂      ⋅E₂  \n",
       "                                                                              \n",
       "+ 1   -n + 1   r   s            -m + 1   -n + 1   s   r            -m + 1   -n\n",
       "   ⋅E₂      ⋅I₁ ⋅I₂  + D₂₂₂₂₁⋅E₂      ⋅E₂      ⋅I₁ ⋅I₂  + D₂₂₂₂₂⋅E₂      ⋅E₂  \n",
       "\n",
       "            ⎤\n",
       "            ⎥\n",
       "+ 1   -s + 1⎥\n",
       "   ⋅I₂      ⎥\n",
       "            ⎥\n",
       "+ 1   -s + 1⎥\n",
       "   ⋅I₂      ⎥\n",
       "            ⎥\n",
       " + 1   r   s⎥\n",
       "    ⋅I₂ ⋅I₂ ⎥\n",
       "            ⎥\n",
       " + 1   r   s⎥\n",
       "    ⋅I₂ ⋅I₂ ⎦"
      ]
     },
     "execution_count": 10,
     "metadata": {},
     "output_type": "execute_result"
    }
   ],
   "source": [
    "L0 = pow_difeomorphism(cof,n,ZX,ZE,power)\n",
    "Matrix(L0)"
   ]
  },
  {
   "cell_type": "markdown",
   "metadata": {},
   "source": [
    "## Aqui empieza todo"
   ]
  },
  {
   "cell_type": "code",
   "execution_count": 11,
   "metadata": {
    "collapsed": false
   },
   "outputs": [
    {
     "data": {
      "text/latex": [
       "$$\\left ( \\left[\\begin{matrix}f{\\left (F,X_{1},X_{2},Y_{1},Y_{2} \\right )} & 0\\\\0 & f{\\left (F,X_{1},X_{2},Y_{1},Y_{2} \\right )}\\end{matrix}\\right], \\quad \\left[\\begin{matrix}E_{1} I_{1} p_{11} + E_{2} I_{2} p_{12} & 0\\\\0 & E_{1} I_{1} p_{21} + E_{2} I_{2} p_{22}\\end{matrix}\\right]\\right )$$"
      ],
      "text/plain": [
       "⎛⎡f(F, X₁, X₂, Y₁, Y₂)           0          ⎤, ⎡E₁⋅I₁⋅p₁₁ + E₂⋅I₂⋅p₁₂         \n",
       "⎜⎢                                          ⎥  ⎢                              \n",
       "⎝⎣         0            f(F, X₁, X₂, Y₁, Y₂)⎦  ⎣          0            E₁⋅I₁⋅p\n",
       "\n",
       "   0          ⎤⎞\n",
       "              ⎥⎟\n",
       "₂₁ + E₂⋅I₂⋅p₂₂⎦⎠"
      ]
     },
     "execution_count": 11,
     "metadata": {},
     "output_type": "execute_result"
    }
   ],
   "source": [
    "f = zeros(n)\n",
    "h = zeros(n)\n",
    "\n",
    "for x in range(0,n):\n",
    "    for y in range(0,n):\n",
    "        if x == y:\n",
    "            f[x,y]=Function('f')(*ZX)\n",
    "            part = 0\n",
    "            for z in range(1,n+1):\n",
    "                part = part + p[x][z-1]*ZE[z]*ZE[z+n]\n",
    "            h[x,y]=0\n",
    "            h[x,y]=part\n",
    "f,h"
   ]
  },
  {
   "cell_type": "code",
   "execution_count": 12,
   "metadata": {
    "collapsed": false,
    "slideshow": {
     "slide_type": "slide"
    }
   },
   "outputs": [],
   "source": [
    "S,EQS = poly_difeomorphism(L0,ZE,dc,dZE,h,simplify) \n",
    "EQA = EQS[:,:]\n",
    "EQS,elias,complice = clean_system02(EQS,n,dZE,dc,factor)\n",
    "#EQC = clean_system00(EQS,n)\n",
    "beep(sys.argv[1])"
   ]
  },
  {
   "cell_type": "code",
   "execution_count": 14,
   "metadata": {
    "collapsed": false
   },
   "outputs": [
    {
     "data": {
      "image/png": "[encoded data removed]",
      "text/latex": [
       "$$121$$"
      ],
      "text/plain": [
       "121"
      ]
     },
     "execution_count": 14,
     "metadata": {},
     "output_type": "execute_result"
    }
   ],
   "source": [
    "ew = EQS[1,3]\n",
    "matchb = check_me(ew,EQS,n,dZE,dc)\n",
    "len(matchb)"
   ]
  },
  {
   "cell_type": "code",
   "execution_count": 153,
   "metadata": {
    "collapsed": false
   },
   "outputs": [],
   "source": [
    "# Matrix(matchb[21])"
   ]
  },
  {
   "cell_type": "code",
   "execution_count": 59,
   "metadata": {
    "collapsed": false
   },
   "outputs": [
    {
     "name": "stdout",
     "output_type": "stream",
     "text": [
      "21\n"
     ]
    }
   ],
   "source": [
    "for x in range(0,len(matchb)):\n",
    "    for y in range(0,len(matchb[x])):\n",
    "        if karma[0] == matchb[x][y][3]:\n",
    "                print (x)\n",
    "                break"
   ]
  },
  {
   "cell_type": "code",
   "execution_count": 334,
   "metadata": {
    "collapsed": false
   },
   "outputs": [],
   "source": [
    "mw = EQS[1,3]\n",
    "aw = list(mw.keys())\n",
    "pain = ZE[2]*ZE[4]"
   ]
  },
  {
   "cell_type": "code",
   "execution_count": 335,
   "metadata": {
    "collapsed": false
   },
   "outputs": [],
   "source": [
    "karma = set()\n",
    "kermit = []\n",
    "# for a in range(-4,4):\n",
    "#     for b in range(a,4):\n",
    "#         for c in range(-5,5):\n",
    "#             for d in range(c,4):\n",
    "subs_e = {}\n",
    "subs_e[m]  = 1\n",
    "subs_e[n1] = 1\n",
    "subs_e[r]  = r\n",
    "subs_e[s]  = 2-r\n",
    "for x in aw:\n",
    "        alpha = x.subs(subs_e)\n",
    "        beta = simplify(mw[x].subs(subs_e))\n",
    "        if alpha == pain:# and beta != 0:\n",
    "            karma.add(x)\n",
    "            kermit.append(beta)"
   ]
  },
  {
   "cell_type": "code",
   "execution_count": 336,
   "metadata": {
    "collapsed": false
   },
   "outputs": [
    {
     "data": {
      "image/png": "[encoded data removed]",
      "text/latex": [
       "$$7$$"
      ],
      "text/plain": [
       "7"
      ]
     },
     "execution_count": 336,
     "metadata": {},
     "output_type": "execute_result"
    }
   ],
   "source": [
    "len(karma)"
   ]
  },
  {
   "cell_type": "code",
   "execution_count": 337,
   "metadata": {
    "collapsed": false
   },
   "outputs": [
    {
     "data": {
      "text/latex": [
       "$$\\left[\\begin{matrix}E_{1}^{m - n} E_{2}^{- m + n + 1} I_{2}\\\\E_{1}^{- n + 1} E_{2}^{n} I_{2}\\\\E_{1}^{n - 1} E_{2}^{- n + 2} I_{2}\\\\E_{1}^{- m + n} E_{2}^{m - n + 1} I_{2}\\\\E_{1}^{- m + 1} E_{2}^{m} I_{2}\\\\E_{2} I_{2}\\\\E_{1}^{m - 1} E_{2}^{- m + 2} I_{2}\\end{matrix}\\right]$$"
      ],
      "text/plain": [
       "⎡  m - n   -m + n + 1   ⎤\n",
       "⎢E₁     ⋅E₂          ⋅I₂⎥\n",
       "⎢                       ⎥\n",
       "⎢      -n + 1   n       ⎥\n",
       "⎢    E₁      ⋅E₂ ⋅I₂    ⎥\n",
       "⎢                       ⎥\n",
       "⎢    n - 1   -n + 2     ⎥\n",
       "⎢  E₁     ⋅E₂      ⋅I₂  ⎥\n",
       "⎢                       ⎥\n",
       "⎢  -m + n   m - n + 1   ⎥\n",
       "⎢E₁      ⋅E₂         ⋅I₂⎥\n",
       "⎢                       ⎥\n",
       "⎢      -m + 1   m       ⎥\n",
       "⎢    E₁      ⋅E₂ ⋅I₂    ⎥\n",
       "⎢                       ⎥\n",
       "⎢         E₂⋅I₂         ⎥\n",
       "⎢                       ⎥\n",
       "⎢    m - 1   -m + 2     ⎥\n",
       "⎣  E₁     ⋅E₂      ⋅I₂  ⎦"
      ]
     },
     "execution_count": 337,
     "metadata": {},
     "output_type": "execute_result"
    }
   ],
   "source": [
    "Matrix(list(karma))"
   ]
  },
  {
   "cell_type": "code",
   "execution_count": 208,
   "metadata": {
    "collapsed": false
   },
   "outputs": [
    {
     "data": {
      "image/png": "[encoded data removed]",
      "text/latex": [
       "$$r \\left(m + n\\right) \\left(A_{11111} C_{12212} + B_{21111} D_{22212}\\right)$$"
      ],
      "text/plain": [
       "r⋅(m + n)⋅(A₁₁₁₁₁⋅C₁₂₂₁₂ + B₂₁₁₁₁⋅D₂₂₂₁₂)"
      ]
     },
     "execution_count": 208,
     "metadata": {},
     "output_type": "execute_result"
    }
   ],
   "source": [
    "factor(EQS[1,3][list(karma)[6]])"
   ]
  },
  {
   "cell_type": "code",
   "execution_count": 339,
   "metadata": {
    "collapsed": false
   },
   "outputs": [
    {
     "data": {
      "text/latex": [
       "$$\\left[\\begin{matrix}m \\left(A_{11212} C_{12112} r + A_{11221} C_{12121} s + B_{21212} D_{22112} r + B_{21221} D_{22121} s\\right)\\\\m \\left(A_{11212} C_{11112} r + A_{11221} C_{11121} s + B_{21212} D_{21112} r + B_{21221} D_{21121} s\\right)\\\\n \\left(A_{12112} C_{12212} r + A_{12121} C_{12221} s + B_{22112} D_{22212} r + B_{22121} D_{22221} s\\right)\\\\n \\left(A_{12112} C_{11212} r + A_{12121} C_{11221} s + B_{22112} D_{21212} r + B_{22121} D_{21221} s\\right)\\\\n \\left(A_{12112} C_{11112} r + A_{12121} C_{11121} s + B_{22112} D_{21112} r + B_{22121} D_{21121} s\\right)\\\\A_{11212} C_{11212} m r + A_{11221} C_{11221} m s + A_{12112} C_{12112} n r + A_{12121} C_{12121} n s + B_{21212} D_{21212} m r + B_{21221} D_{21221} m s + B_{22112} D_{22112} n r + B_{22121} D_{22121} n s - p_{12}\\\\m \\left(A_{11212} C_{12212} r + A_{11221} C_{12221} s + B_{21212} D_{22212} r + B_{21221} D_{22221} s\\right)\\end{matrix}\\right]$$"
      ],
      "text/plain": [
       "⎡                                             m⋅(A₁₁₂₁₂⋅C₁₂₁₁₂⋅r + A₁₁₂₂₁⋅C₁₂₁\n",
       "⎢                                                                             \n",
       "⎢                                             m⋅(A₁₁₂₁₂⋅C₁₁₁₁₂⋅r + A₁₁₂₂₁⋅C₁₁₁\n",
       "⎢                                                                             \n",
       "⎢                                             n⋅(A₁₂₁₁₂⋅C₁₂₂₁₂⋅r + A₁₂₁₂₁⋅C₁₂₂\n",
       "⎢                                                                             \n",
       "⎢                                             n⋅(A₁₂₁₁₂⋅C₁₁₂₁₂⋅r + A₁₂₁₂₁⋅C₁₁₂\n",
       "⎢                                                                             \n",
       "⎢                                             n⋅(A₁₂₁₁₂⋅C₁₁₁₁₂⋅r + A₁₂₁₂₁⋅C₁₁₁\n",
       "⎢                                                                             \n",
       "⎢A₁₁₂₁₂⋅C₁₁₂₁₂⋅m⋅r + A₁₁₂₂₁⋅C₁₁₂₂₁⋅m⋅s + A₁₂₁₁₂⋅C₁₂₁₁₂⋅n⋅r + A₁₂₁₂₁⋅C₁₂₁₂₁⋅n⋅s\n",
       "⎢                                                                             \n",
       "⎣                                             m⋅(A₁₁₂₁₂⋅C₁₂₂₁₂⋅r + A₁₁₂₂₁⋅C₁₂₂\n",
       "\n",
       "₂₁⋅s + B₂₁₂₁₂⋅D₂₂₁₁₂⋅r + B₂₁₂₂₁⋅D₂₂₁₂₁⋅s)                                     \n",
       "                                                                              \n",
       "₂₁⋅s + B₂₁₂₁₂⋅D₂₁₁₁₂⋅r + B₂₁₂₂₁⋅D₂₁₁₂₁⋅s)                                     \n",
       "                                                                              \n",
       "₂₁⋅s + B₂₂₁₁₂⋅D₂₂₂₁₂⋅r + B₂₂₁₂₁⋅D₂₂₂₂₁⋅s)                                     \n",
       "                                                                              \n",
       "₂₁⋅s + B₂₂₁₁₂⋅D₂₁₂₁₂⋅r + B₂₂₁₂₁⋅D₂₁₂₂₁⋅s)                                     \n",
       "                                                                              \n",
       "₂₁⋅s + B₂₂₁₁₂⋅D₂₁₁₁₂⋅r + B₂₂₁₂₁⋅D₂₁₁₂₁⋅s)                                     \n",
       "                                                                              \n",
       " + B₂₁₂₁₂⋅D₂₁₂₁₂⋅m⋅r + B₂₁₂₂₁⋅D₂₁₂₂₁⋅m⋅s + B₂₂₁₁₂⋅D₂₂₁₁₂⋅n⋅r + B₂₂₁₂₁⋅D₂₂₁₂₁⋅n\n",
       "                                                                              \n",
       "₂₁⋅s + B₂₁₂₁₂⋅D₂₂₂₁₂⋅r + B₂₁₂₂₁⋅D₂₂₂₂₁⋅s)                                     \n",
       "\n",
       "        ⎤\n",
       "        ⎥\n",
       "        ⎥\n",
       "        ⎥\n",
       "        ⎥\n",
       "        ⎥\n",
       "        ⎥\n",
       "        ⎥\n",
       "        ⎥\n",
       "        ⎥\n",
       "⋅s - p₁₂⎥\n",
       "        ⎥\n",
       "        ⎦"
      ]
     },
     "execution_count": 339,
     "metadata": {},
     "output_type": "execute_result"
    }
   ],
   "source": [
    "guag = []\n",
    "for x in karma:\n",
    "    guag.append(EQS[1,3][x])\n",
    "Matrix(guag)"
   ]
  },
  {
   "cell_type": "code",
   "execution_count": 79,
   "metadata": {
    "collapsed": false
   },
   "outputs": [
    {
     "data": {
      "image/png": "[encoded data removed]",
      "text/latex": [
       "$$- \\left(m + n\\right) \\left(A_{11111} C_{11111} + B_{21111} D_{21111}\\right) \\left(m + n - 2\\right)$$"
      ],
      "text/plain": [
       "-(m + n)⋅(A₁₁₁₁₁⋅C₁₁₁₁₁ + B₂₁₁₁₁⋅D₂₁₁₁₁)⋅(m + n - 2)"
      ]
     },
     "execution_count": 79,
     "metadata": {},
     "output_type": "execute_result"
    }
   ],
   "source": [
    "factor(EQS[1,1][ZE[3]*ZE[3]])"
   ]
  },
  {
   "cell_type": "code",
   "execution_count": 41,
   "metadata": {
    "collapsed": false
   },
   "outputs": [
    {
     "data": {
      "image/png": "[encoded data removed]",
      "text/latex": [
       "$$- \\left(m + n\\right) \\left(A_{11122} C_{11122} + B_{21122} D_{21122}\\right) \\left(m + n - 2\\right)$$"
      ],
      "text/plain": [
       "-(m + n)⋅(A₁₁₁₂₂⋅C₁₁₁₂₂ + B₂₁₁₂₂⋅D₂₁₁₂₂)⋅(m + n - 2)"
      ]
     },
     "execution_count": 41,
     "metadata": {},
     "output_type": "execute_result"
    }
   ],
   "source": [
    "\n",
    "factor(EQS[1,1][ZE[4]*ZE[4]])\n"
   ]
  },
  {
   "cell_type": "code",
   "execution_count": null,
   "metadata": {
    "collapsed": true
   },
   "outputs": [],
   "source": []
  },
  {
   "cell_type": "code",
   "execution_count": null,
   "metadata": {
    "collapsed": false
   },
   "outputs": [],
   "source": [
    "ew = EQS[2,4]\n",
    "matchc = check_me(ew,EQS,n,dZE,dc)\n",
    "len(matchc)"
   ]
  },
  {
   "cell_type": "code",
   "execution_count": null,
   "metadata": {
    "collapsed": false
   },
   "outputs": [],
   "source": [
    "matchc[5]"
   ]
  },
  {
   "cell_type": "code",
   "execution_count": null,
   "metadata": {
    "collapsed": false
   },
   "outputs": [],
   "source": [
    "CM_LD = contactomorphism_equations(L0,ZE,expand,f)\n",
    "Ja = Matrix(L0).jacobian(ZE)\n",
    "DeJ = Ja.berkowitz_det()\n",
    "for x in range(0,2*n+1):\n",
    "    DeJ = DeJ.subs([(diff(L0[0],ZE[x]),CM_LD[x])])"
   ]
  },
  {
   "cell_type": "code",
   "execution_count": null,
   "metadata": {
    "collapsed": false
   },
   "outputs": [],
   "source": [
    "for x in range(0,2*n+1):\n",
    "    Ja = Ja.subs([(diff(L0[0],ZE[x]),CM_LD[x])])\n",
    "simplify(Ja)"
   ]
  },
  {
   "cell_type": "code",
   "execution_count": null,
   "metadata": {
    "collapsed": false
   },
   "outputs": [],
   "source": [
    "DeJ = simplify(DeJ)\n",
    "DeJ"
   ]
  },
  {
   "cell_type": "code",
   "execution_count": 150,
   "metadata": {
    "collapsed": false
   },
   "outputs": [],
   "source": [
    "# ew = EQS[1,3]\n",
    "# for x in ew:\n",
    "#     ew[x] = factor(ew[x])\n",
    "# Matrix(list(ew.keys())),Matrix(list(ew.values()))"
   ]
  },
  {
   "cell_type": "code",
   "execution_count": 149,
   "metadata": {
    "collapsed": false
   },
   "outputs": [],
   "source": [
    "# ew = EQS[2,4]\n",
    "# for x in ew:\n",
    "#     ew[x] = factor(ew[x])\n",
    "# Matrix(list(ew.keys())),Matrix(list(ew.values()))"
   ]
  },
  {
   "cell_type": "code",
   "execution_count": 346,
   "metadata": {
    "collapsed": false
   },
   "outputs": [
    {
     "data": {
      "image/png": "[encoded data removed]",
      "text/latex": [
       "$$\\left ( \\left [ E_{1} I_{1}, \\quad E_{2} I_{2}\\right ], \\quad 0\\right )$$"
      ],
      "text/plain": [
       "([E₁⋅I₁, E₂⋅I₂], 0)"
      ]
     },
     "execution_count": 346,
     "metadata": {},
     "output_type": "execute_result"
    }
   ],
   "source": [
    "tabix = 0\n",
    "chomp = []\n",
    "for z in range(1,n+1):\n",
    "                chomp.append(ZE[z]*ZE[z+n])\n",
    "chomp,tabix"
   ]
  },
  {
   "cell_type": "code",
   "execution_count": 151,
   "metadata": {
    "collapsed": false
   },
   "outputs": [],
   "source": [
    "# for a in range(0,2*n+1):\n",
    "#     for b in range(a,2*n+1):\n",
    "#         ew = EQS[a,b]\n",
    "#         if ew == 0 or ew == {}: continue\n",
    "#         for x in ew:\n",
    "#             if ew[x] != 0:\n",
    "#                 print ('eq'+str(tabix)+' = ' +str(ew[x]).replace('_',''))\n",
    "#                 tabix = tabix+1"
   ]
  },
  {
   "cell_type": "code",
   "execution_count": null,
   "metadata": {
    "collapsed": true
   },
   "outputs": [],
   "source": [
    "for x in range(0,200):\n",
    "    print ('eq'+str(x)+'==0&&')"
   ]
  },
  {
   "cell_type": "code",
   "execution_count": 152,
   "metadata": {
    "collapsed": false
   },
   "outputs": [],
   "source": [
    "# remi = set()\n",
    "# for x in L0:\n",
    "#     uin = x.free_symbols\n",
    "#     remi.update(uin)\n",
    "# remi"
   ]
  },
  {
   "cell_type": "code",
   "execution_count": 349,
   "metadata": {
    "collapsed": false
   },
   "outputs": [
    {
     "data": {
      "image/png": "[encoded data removed]",
      "text/latex": [
       "$$63$$"
      ],
      "text/plain": [
       "63"
      ]
     },
     "execution_count": 349,
     "metadata": {},
     "output_type": "execute_result"
    }
   ],
   "source": [
    "len(remi)"
   ]
  },
  {
   "cell_type": "code",
   "execution_count": null,
   "metadata": {
    "collapsed": true
   },
   "outputs": [],
   "source": []
  }
 ],
 "metadata": {
  "kernelspec": {
   "display_name": "Python 3",
   "language": "python",
   "name": "python3"
  },
  "language_info": {
   "codemirror_mode": {
    "name": "ipython",
    "version": 3
   },
   "file_extension": ".py",
   "mimetype": "text/x-python",
   "name": "python",
   "nbconvert_exporter": "python",
   "pygments_lexer": "ipython3",
   "version": "3.5.1"
  }
 },
 "nbformat": 4,
 "nbformat_minor": 0
}
