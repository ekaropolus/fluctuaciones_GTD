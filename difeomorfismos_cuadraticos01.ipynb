{
 "cells": [
  {
   "cell_type": "code",
   "execution_count": null,
   "metadata": {
    "collapsed": false,
    "scrolled": true
   },
   "outputs": [],
   "source": [
    "from difeomorfismos_solvers import *\n",
    "from difeomorfismo import *\n",
    "init_printing()"
   ]
  },
  {
   "cell_type": "markdown",
   "metadata": {},
   "source": [
    "<H3>Difeomorsimos Cuadratico + lineal </H3>\n",
    "<H3>$X^{c} = M_{de}^{c}E^{d}E^{e}+A^{c}Φ+B_{d}^{c}E^{d}+C_{d}^{c}I^{d}$<H3>\n",
    "<H3>$Y_{c} = N_{cde}I^{d}I^{e}+D_{c}Φ+G_{cd}E^{d}+H_{cd}I^{d}$</H3>\n",
    "\n"
   ]
  },
  {
   "cell_type": "markdown",
   "metadata": {},
   "source": [
    "<H3>Defino la dimension que utilizare</H3>"
   ]
  },
  {
   "cell_type": "code",
   "execution_count": null,
   "metadata": {
    "collapsed": false
   },
   "outputs": [],
   "source": [
    "n=2"
   ]
  },
  {
   "cell_type": "markdown",
   "metadata": {},
   "source": [
    "<H3>Estos son las dos coordenadas del difeomorfismo</H3>"
   ]
  },
  {
   "cell_type": "code",
   "execution_count": null,
   "metadata": {
    "collapsed": false
   },
   "outputs": [],
   "source": [
    "ZE, ZX = set_coordinates(n)\n",
    "ZE, ZX"
   ]
  },
  {
   "cell_type": "markdown",
   "metadata": {},
   "source": [
    "<H3>Estas son las constates para las ecuaciones del difeomorfismo Cuadratico + lineal</H3>"
   ]
  },
  {
   "cell_type": "code",
   "execution_count": null,
   "metadata": {
    "collapsed": false
   },
   "outputs": [],
   "source": [
    "A,c1=set_constants_a(n,'A',1)\n",
    "D,c2=set_constants_a(n,'D',0)\n",
    "B,c3=set_constants_axb(n,n,'B',0)\n",
    "G,c4=set_constants_axb(n,n,'G',1)\n",
    "C,c5=set_constants_axb(n,n,'C',0)\n",
    "H,c6=set_constants_axb(n,n,'H',0)\n",
    "M,c7=set_constants_axbxc(n,n,n,'M',1)\n",
    "N,c8=set_constants_axbxc(n,n,n,'N',1)"
   ]
  },
  {
   "cell_type": "markdown",
   "metadata": {},
   "source": [
    "<H3>Aqui comienzo el calculo de las ecuaciones para el difemorfismo lineal</H3>"
   ]
  },
  {
   "cell_type": "code",
   "execution_count": null,
   "metadata": {
    "collapsed": false
   },
   "outputs": [],
   "source": [
    "EQ,PM = mixed_solution00(A,B,C,D,G,H,M,N,n)\n",
    "EQ = list(filter(lambda a: a != 0, EQ))"
   ]
  },
  {
   "cell_type": "markdown",
   "metadata": {},
   "source": [
    "<H3>Estas instrucciones son obtener las expresiones para $h_{ab}$ y $f$</H3>"
   ]
  },
  {
   "cell_type": "code",
   "execution_count": null,
   "metadata": {
    "collapsed": false
   },
   "outputs": [],
   "source": [
    "h_LD=[]\n",
    "f_LD=[]\n",
    "EQ_LD = []\n",
    "f,h,EQgtd = matrix_gtdiemixed00(B,C,H,G,M,N,ZE)\n",
    "f = zeros(n)\n",
    "h = zeros(n)\n",
    "for x in range(0,n):\n",
    "    for y in range(0,n):\n",
    "        if x == y: f[x,y]=1/Function('f')(*ZX)\n",
    "        if x == y: h[x,y]=Function('h')(*ZE)\n",
    "#EQ = EQ + EQgtd\n",
    "h_LD.append(h)\n",
    "f_LD.append(f)\n",
    "EQ_LD.append(EQ)\n",
    "#len(EQ), Matrix(EQ)"
   ]
  },
  {
   "cell_type": "code",
   "execution_count": null,
   "metadata": {
    "collapsed": false
   },
   "outputs": [],
   "source": [
    "Matrix(EQgtd)"
   ]
  },
  {
   "cell_type": "code",
   "execution_count": null,
   "metadata": {
    "collapsed": false
   },
   "outputs": [],
   "source": [
    "dim_n = n -1\n",
    "additional_EQ = [0]*len(EQgtd[0])\n",
    "for x in range(0,len(EQgtd)):\n",
    "    for y in range (0,len(EQgtd[0])):\n",
    "               if x == 0:\n",
    "                   additional_EQ[y] = additional_EQ[y] + dim_n*EQgtd[x][y]\n",
    "               else:\n",
    "                    additional_EQ[y] = additional_EQ[y] - EQgtd[x][y]\n",
    "additional_EQ                   "
   ]
  },
  {
   "cell_type": "code",
   "execution_count": null,
   "metadata": {
    "collapsed": false
   },
   "outputs": [],
   "source": [
    "EQ_LD[0] = EQ_LD[0]+additional_EQ\n",
    "EQ_LD[0] = list(filter(lambda a: a != 0, EQ_LD[0]))"
   ]
  },
  {
   "cell_type": "markdown",
   "metadata": {},
   "source": [
    "<H3>Hay que hacer una limpieza. Lo que hago aqui es subtituir cada una de las ecuaciones en las otras para ver si se pueden simplificar</H3>"
   ]
  },
  {
   "cell_type": "code",
   "execution_count": null,
   "metadata": {
    "collapsed": true
   },
   "outputs": [],
   "source": [
    "EQ = consistency_subs(EQ_LD[0])"
   ]
  },
  {
   "cell_type": "code",
   "execution_count": null,
   "metadata": {
    "collapsed": false
   },
   "outputs": [],
   "source": [
    "Matrix(EQ),Matrix(EQ_LD[0])"
   ]
  },
  {
   "cell_type": "markdown",
   "metadata": {},
   "source": [
    "<H3>Hago un filtrado para eliminar las ecuaciones que me dieron 0</H3>"
   ]
  },
  {
   "cell_type": "code",
   "execution_count": null,
   "metadata": {
    "collapsed": true
   },
   "outputs": [],
   "source": [
    "EQ = list(filter(lambda a: a != 0, EQ))\n",
    "EQ_LD[0] = EQ\n"
   ]
  },
  {
   "cell_type": "markdown",
   "metadata": {},
   "source": [
    "<H3>Este es el sistema final a resolver</H3>"
   ]
  },
  {
   "cell_type": "code",
   "execution_count": null,
   "metadata": {
    "collapsed": false
   },
   "outputs": [],
   "source": [
    "len(EQ_LD[0])"
   ]
  },
  {
   "cell_type": "markdown",
   "metadata": {},
   "source": [
    "<H3>Meto todas las constantes en un arreglo</H3>"
   ]
  },
  {
   "cell_type": "code",
   "execution_count": null,
   "metadata": {
    "collapsed": false
   },
   "outputs": [],
   "source": [
    "c = c1 + c2 + c3 + c4 + c5 +c6+c7+c8\n",
    "c = list(filter(lambda a: a != 0, c))\n",
    "len(c),c"
   ]
  },
  {
   "cell_type": "markdown",
   "metadata": {},
   "source": [
    "<H3>Estas son las ecuaciones del difeomorfismo Cuadratico + lineal</H3>"
   ]
  },
  {
   "cell_type": "code",
   "execution_count": null,
   "metadata": {
    "collapsed": false
   },
   "outputs": [],
   "source": [
    "LD = []\n",
    "L0 = mixed_difeomorphism00(A,B,C,D,G,H,M,N,n,ZX,ZE)\n",
    "LD.append(L0)\n",
    "Matrix(LD[0])"
   ]
  },
  {
   "cell_type": "markdown",
   "metadata": {},
   "source": [
    "<H3>Estas son las ecuaciones del contactomorfismo</H3>"
   ]
  },
  {
   "cell_type": "code",
   "execution_count": null,
   "metadata": {
    "collapsed": true
   },
   "outputs": [],
   "source": [
    "CM_LD = contactomorphism_equations(LD[0],ZE,expand,0)\n",
    "#Matrix(CM_LD)"
   ]
  },
  {
   "cell_type": "markdown",
   "metadata": {},
   "source": [
    "<H3>Este es el jacobiano y el determinante del jacobiano de esa transformacion</H3>"
   ]
  },
  {
   "cell_type": "code",
   "execution_count": null,
   "metadata": {
    "collapsed": true
   },
   "outputs": [],
   "source": [
    "Z0 = list(LD[0])\n",
    "Z0[0] = CM_LD"
   ]
  },
  {
   "cell_type": "code",
   "execution_count": null,
   "metadata": {
    "collapsed": false
   },
   "outputs": [],
   "source": [
    "#DeJ = Jacobian(LD[0],ZE,n)\n",
    "#DeJ = simplify(DeJ)\n",
    "#DeJ\n",
    "Ja = Matrix(LD[0]).jacobian(ZE)"
   ]
  },
  {
   "cell_type": "code",
   "execution_count": null,
   "metadata": {
    "collapsed": true
   },
   "outputs": [],
   "source": [
    "DeJ = Ja.berkowitz_det()"
   ]
  },
  {
   "cell_type": "code",
   "execution_count": null,
   "metadata": {
    "collapsed": false
   },
   "outputs": [],
   "source": [
    "for x in range(0,2*n+1):\n",
    "    DeJ = DeJ.subs([(diff(LD[0][0],ZE[x]),CM_LD[x])])\n"
   ]
  },
  {
   "cell_type": "code",
   "execution_count": null,
   "metadata": {
    "collapsed": true
   },
   "outputs": [],
   "source": [
    "text_file = open(\"DeJCn2_NM.txt\", \"w\")\n",
    "text_file.write(str(DeJ))\n",
    "text_file.close()"
   ]
  },
  {
   "cell_type": "code",
   "execution_count": null,
   "metadata": {
    "collapsed": false
   },
   "outputs": [],
   "source": [
    "text_file = open(\"DeJCn2.txt\", \"r\")\n",
    "DeJ = sympify(text_file.read())\n",
    "text_file.close()"
   ]
  },
  {
   "cell_type": "code",
   "execution_count": null,
   "metadata": {
    "collapsed": false
   },
   "outputs": [],
   "source": [
    "Ja"
   ]
  },
  {
   "cell_type": "code",
   "execution_count": null,
   "metadata": {
    "collapsed": false
   },
   "outputs": [],
   "source": [
    "DeJ"
   ]
  },
  {
   "cell_type": "code",
   "execution_count": null,
   "metadata": {
    "collapsed": true
   },
   "outputs": [],
   "source": [
    "platexini00('DeJCn2_NM.tex')\n",
    "platex00(DeJ,'DeJCn2.tex_NM','equation')\n",
    "platex00(Ja,'DeJCn2.tex_NM','equation')\n",
    "platexend00('DeJCn2_NM.tex')"
   ]
  },
  {
   "cell_type": "markdown",
   "metadata": {},
   "source": [
    "<H3>Este algoritmo es el que calcula las soluciones. Lo que hace es que va equacion por ecuacion y busca todas sus posibles soluciones. Para cada ecuacion, su conjunto de soluciones las mente dentro de un arreglo. El resultado final es un lista que contiene un arreglo de soluciones por cada ecuacion.</H3>"
   ]
  },
  {
   "cell_type": "code",
   "execution_count": null,
   "metadata": {
    "collapsed": false
   },
   "outputs": [],
   "source": [
    "all_solutions = []\n",
    "for x in EQ_LD[0]:\n",
    "    sol_to_eq=[]\n",
    "    fs = list(x.free_symbols)\n",
    "    fs = list(powerset(fs))\n",
    "    for y in fs:\n",
    "        sol = solve(x,dict=True,exclude=y)\n",
    "        sol = merge_dicts(*sol)\n",
    "        if sol not in sol_to_eq:\n",
    "            sol_to_eq.append(sol) if sol != {} else 0\n",
    "    all_solutions.append(sol_to_eq)\n",
    "    \n"
   ]
  },
  {
   "cell_type": "code",
   "execution_count": null,
   "metadata": {
    "collapsed": false
   },
   "outputs": [],
   "source": [
    "cont = 1\n",
    "for x in all_solutions:\n",
    "    cont = cont*len(x)\n",
    "cont"
   ]
  },
  {
   "cell_type": "markdown",
   "metadata": {},
   "source": [
    "<H3>Creo un producto cartesiano donde sus entradas son las soluciones de las ecuaciones. De esta forma me aseguro de tener todas las posibles soluciones para el problema completo</H3>"
   ]
  },
  {
   "cell_type": "code",
   "execution_count": null,
   "metadata": {
    "collapsed": true
   },
   "outputs": [],
   "source": [
    "s = product(*all_solutions)"
   ]
  },
  {
   "cell_type": "markdown",
   "metadata": {},
   "source": [
    "<H3>Esta instruccion calcula el determinante del difeomorfismo Cuadratico + lineal</H3>"
   ]
  },
  {
   "cell_type": "code",
   "execution_count": null,
   "metadata": {
    "collapsed": false
   },
   "outputs": [],
   "source": [
    "D_LD = []\n",
    "D_LD.append(DeJ)"
   ]
  },
  {
   "cell_type": "code",
   "execution_count": null,
   "metadata": {
    "collapsed": false
   },
   "outputs": [],
   "source": [
    "#D_LD[0]"
   ]
  },
  {
   "cell_type": "markdown",
   "metadata": {},
   "source": [
    "<H3>Con esta funcion busco las soluciones al problema. Los criterios son: 1. que el determinante sea diferente de 0.\n",
    "    Debido a que tomaba mucho tiempo la funcion le tubimos que poner dos controladores (ultimos dos elementos de la interfaz). El primero controla la cantidad de difeomorfismos diferentes a evaluar. El segundo te dice cuantas soluciones debe de buscar</H3>"
   ]
  },
  {
   "cell_type": "code",
   "execution_count": null,
   "metadata": {
    "collapsed": false
   },
   "outputs": [],
   "source": [
    "chigo_mil = 10000000000000\n",
    "LD, h_LD, f_LD,EQ_LD,D_LD,s_LD = seek_mixed00(LD,h_LD,f_LD,EQ_LD,D_LD,s,n,ZE,100000,chigo_mil,[1,0])"
   ]
  },
  {
   "cell_type": "markdown",
   "metadata": {},
   "source": [
    "<H3>Cantidad de soluciones encontradas</H3>"
   ]
  },
  {
   "cell_type": "code",
   "execution_count": null,
   "metadata": {
    "collapsed": false
   },
   "outputs": [],
   "source": [
    "\n",
    "len(LD)#,len(h_LD),len(f_LD),len(EQ_LD),len(D_LD)"
   ]
  },
  {
   "cell_type": "markdown",
   "metadata": {},
   "source": [
    "<H3>Los difeomorfismos encontrados</H3>"
   ]
  },
  {
   "cell_type": "code",
   "execution_count": null,
   "metadata": {
    "collapsed": false
   },
   "outputs": [],
   "source": [
    "Matrix(LD)"
   ]
  },
  {
   "cell_type": "markdown",
   "metadata": {},
   "source": [
    "<H3>El set de soluciones que nos llevaron a ellos</H3>\n"
   ]
  },
  {
   "cell_type": "code",
   "execution_count": null,
   "metadata": {
    "collapsed": false
   },
   "outputs": [],
   "source": [
    "Matrix(s_LD)"
   ]
  },
  {
   "cell_type": "markdown",
   "metadata": {},
   "source": [
    "<H3>Para cada una de las soluciones calculamos: Las ecuaciones del difeomorfismo en S, Las ecuaciones del contatcto morfismo en H. Las condiciones de integrabilidad check_me</H3>"
   ]
  },
  {
   "cell_type": "code",
   "execution_count": null,
   "metadata": {
    "collapsed": false,
    "scrolled": true
   },
   "outputs": [],
   "source": [
    "check_me = []\n",
    "difeo_eqs = []\n",
    "\n",
    "for i in range(0,len(LD)):\n",
    "    Z0 = LD[i]\n",
    "    h = h_LD[0]\n",
    "    f = f_LD[0][0,0]\n",
    "    H=[]\n",
    "    S = zeros(n)\n",
    "    H,S = difeomorphism_equations002(Z0,ZE,expand,f,h,0,2*n+1)\n",
    "    \n",
    "    mixed_test = []\n",
    "    t3 = 0\n",
    "    t1 = t2 = 1\n",
    "    for x in range(0,2*n+1):\n",
    "        for y in range(x,2*n+1):\n",
    "            if x != y:\n",
    "                t1 = diff(H[x][1],ZE[y])\n",
    "                t2 = diff(H[y][1],ZE[x])\n",
    "                d1 = diff(H[x][0],ZE[y])\n",
    "                d2 = diff(H[y][0],ZE[x])\n",
    "                t3 = t3 + t1 + t2\n",
    "                mixed_test.append((t1,t2))\n",
    "    if t3 != 0:\n",
    "        difeo_eqs.append((S,H,Z0,D_LD[i],f))\n",
    "        check_me.append(mixed_test)\n",
    "    #,ZE[y],ZE[x],,ZE[x],ZE[y]"
   ]
  },
  {
   "cell_type": "code",
   "execution_count": null,
   "metadata": {
    "collapsed": false
   },
   "outputs": [],
   "source": [
    "len(difeo_eqs)"
   ]
  },
  {
   "cell_type": "markdown",
   "metadata": {},
   "source": [
    "<H3>Estas son las condiciones de integrabilidad</H3>"
   ]
  },
  {
   "cell_type": "code",
   "execution_count": null,
   "metadata": {
    "collapsed": false
   },
   "outputs": [],
   "source": [
    "Matrix(check_me)"
   ]
  },
  {
   "cell_type": "markdown",
   "metadata": {},
   "source": [
    "<H3>Estos son los contactomorfismos</H3>"
   ]
  },
  {
   "cell_type": "code",
   "execution_count": null,
   "metadata": {
    "collapsed": false
   },
   "outputs": [],
   "source": [
    "contacto = []\n",
    "for x in difeo_eqs:\n",
    "    contacto.append(x[1])\n",
    "#Matrix(contacto)"
   ]
  },
  {
   "cell_type": "markdown",
   "metadata": {},
   "source": [
    "<H3>Estos son las ecuaciones del difeomorfismo</H3>\n"
   ]
  },
  {
   "cell_type": "code",
   "execution_count": null,
   "metadata": {
    "collapsed": false
   },
   "outputs": [],
   "source": [
    "eqs_difeo = []\n",
    "for x in difeo_eqs:\n",
    "    eqs_difeo.append(x[0])\n",
    "#eqs_difeo"
   ]
  },
  {
   "cell_type": "markdown",
   "metadata": {
    "collapsed": true
   },
   "source": [
    "<H3>Estos son los difeomorfismos</H3>"
   ]
  },
  {
   "cell_type": "code",
   "execution_count": null,
   "metadata": {
    "collapsed": true
   },
   "outputs": [],
   "source": [
    "difeo = []\n",
    "for x in difeo_eqs:\n",
    "    difeo.append(x[2])\n",
    "#difeo"
   ]
  },
  {
   "cell_type": "markdown",
   "metadata": {},
   "source": [
    "<H3>Estas son los determinantes</H3>"
   ]
  },
  {
   "cell_type": "code",
   "execution_count": null,
   "metadata": {
    "collapsed": true
   },
   "outputs": [],
   "source": [
    "dets = []\n",
    "for x in difeo_eqs:\n",
    "    dets.append(x[3])\n",
    "#dets"
   ]
  },
  {
   "cell_type": "code",
   "execution_count": null,
   "metadata": {
    "collapsed": false
   },
   "outputs": [],
   "source": [
    "len(dets)"
   ]
  },
  {
   "cell_type": "code",
   "execution_count": null,
   "metadata": {
    "collapsed": false
   },
   "outputs": [],
   "source": [
    "def send_DH_to_latex(equations,determinants,integrability,equations_matrix,ZX,ini,file_name):\n",
    "    to_latex = []\n",
    "    clean_D = []\n",
    "    \n",
    "    platexini00(file_name)\n",
    "    for x in equations:\n",
    "        tabix = 0\n",
    "        clean_eq = []\n",
    "        for z in x:\n",
    "            equations=Eq(ZX[tabix],z)\n",
    "            clean_eq.append(equations)\n",
    "            tabix = tabix + 1\n",
    "        clean_D.append(clean_eq)\n",
    "    tabix = 0\n",
    "    for x in clean_D:\n",
    "        platex00('Difeomorfismo '+str(ini + tabix)+':',file_name,'plain')\n",
    "        platex00(Matrix(x),file_name,'equation')\n",
    "        platex00(determinants[tabix],file_name,'equation')\n",
    "        platex00(Matrix(integrability[tabix]),file_name,'equation') \n",
    "        platex00(Matrix(equations_matrix[tabix]),file_name,'equation')\n",
    "        tabix = tabix + 1\n",
    "\n",
    "    platexend00(file_name)"
   ]
  },
  {
   "cell_type": "code",
   "execution_count": null,
   "metadata": {
    "collapsed": false
   },
   "outputs": [],
   "source": [
    "tabix = 0\n",
    "for x in range(0,len(difeo),100):\n",
    "    ini = x + tabix\n",
    "    fin = x + 100 + tabix\n",
    "    if fin >= len(difeo):\n",
    "        fin = len(difeo)\n",
    "    send_DH_to_latex(difeo[ini:fin],dets[ini:fin],check_me[ini:fin],eqs_difeo[ini:fin],ZX,ini,str(tabix)+'cuadra_MN1'+'.tex')\n",
    "    tabix = tabix + 1"
   ]
  },
  {
   "cell_type": "code",
   "execution_count": null,
   "metadata": {
    "collapsed": false
   },
   "outputs": [],
   "source": [
    "Matrix(dets[1])"
   ]
  },
  {
   "cell_type": "code",
   "execution_count": null,
   "metadata": {
    "collapsed": false
   },
   "outputs": [],
   "source": [
    "#help(Derivative)"
   ]
  },
  {
   "cell_type": "code",
   "execution_count": null,
   "metadata": {
    "collapsed": false,
    "scrolled": true
   },
   "outputs": [],
   "source": [
    "difeo_eqs[2][0]"
   ]
  },
  {
   "cell_type": "code",
   "execution_count": null,
   "metadata": {
    "collapsed": true
   },
   "outputs": [],
   "source": []
  }
 ],
 "metadata": {
  "kernelspec": {
   "display_name": "Python 3",
   "language": "python",
   "name": "python3"
  },
  "language_info": {
   "codemirror_mode": {
    "name": "ipython",
    "version": 3
   },
   "file_extension": ".py",
   "mimetype": "text/x-python",
   "name": "python",
   "nbconvert_exporter": "python",
   "pygments_lexer": "ipython3",
   "version": "3.5.1"
  }
 },
 "nbformat": 4,
 "nbformat_minor": 0
}
