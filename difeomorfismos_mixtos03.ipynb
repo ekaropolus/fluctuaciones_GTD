{
 "cells": [
  {
   "cell_type": "code",
   "execution_count": null,
   "metadata": {
    "collapsed": false
   },
   "outputs": [],
   "source": [
    "from difeomorfismos_solvers import *\n",
    "from difeomorfismo import *\n",
    "init_printing()"
   ]
  },
  {
   "cell_type": "code",
   "execution_count": null,
   "metadata": {
    "collapsed": false
   },
   "outputs": [],
   "source": [
    "n=2"
   ]
  },
  {
   "cell_type": "code",
   "execution_count": null,
   "metadata": {
    "collapsed": false
   },
   "outputs": [],
   "source": [
    "ZE, ZX = set_coordinates(n)\n",
    "ZE, ZX"
   ]
  },
  {
   "cell_type": "code",
   "execution_count": null,
   "metadata": {
    "collapsed": false
   },
   "outputs": [],
   "source": [
    "A,c1=set_constants_a(n,'A',1)\n",
    "D,c2=set_constants_a(n,'D',1)\n",
    "B,c3=set_constants_axb(n,n,'B',1)\n",
    "G,c4=set_constants_axb(n,n,'G',1)\n",
    "C,c5=set_constants_axb(n,n,'C',1)\n",
    "H,c6=set_constants_axb(n,n,'H',1)\n",
    "M,c7=set_constants_axbxc(n,n,n,'M',1)\n",
    "N,c8=set_constants_axbxc(n,n,n,'N',1)"
   ]
  },
  {
   "cell_type": "code",
   "execution_count": null,
   "metadata": {
    "collapsed": false,
    "scrolled": true
   },
   "outputs": [],
   "source": [
    "EQ,PM = mixed_solution(A,B,C,D,G,H,M,N,n)\n",
    "EQ = list(filter(lambda a: a != 0, EQ))\n",
    "#Matrix(EQ)"
   ]
  },
  {
   "cell_type": "code",
   "execution_count": null,
   "metadata": {
    "collapsed": false
   },
   "outputs": [],
   "source": [
    "h_LD=[]\n",
    "f_LD=[]\n",
    "EQ_LD = []\n",
    "f,h,EQgtd = matrix_gtdiemixed(B,C,H,G,M,N,ZE)\n",
    "for x in range(0,n):\n",
    "    for y in range(0,n):\n",
    "        if x == y: f[x,y]=Function('f')(*ZX)\n",
    "        if x == y: h[x,y]=Function('h')(*ZE)\n",
    "#EQ = EQ + EQgtd\n",
    "#EQ = list(filter(lambda a: a != 0, EQ))\n",
    "h_LD.append(h)\n",
    "f_LD.append(f)\n",
    "EQ_LD.append(EQ)\n",
    "#Matrix(EQ_LD[0])"
   ]
  },
  {
   "cell_type": "code",
   "execution_count": null,
   "metadata": {
    "collapsed": false,
    "scrolled": true
   },
   "outputs": [],
   "source": [
    "subsi = []\n",
    "EQ = EQ_LD[0]\n",
    "tabix = 0\n",
    "for x in EQ_LD[0]:\n",
    "    rabix = 0\n",
    "    for y in EQ:\n",
    "        if tabix != rabix: \n",
    "            TP = y.subs([(x,0)])\n",
    "            subsi.append(TP)\n",
    "        else:\n",
    "            subsi.append(y)\n",
    "        rabix = rabix + 1\n",
    "    EQ = subsi\n",
    "    subsi = []\n",
    "    tabix = tabix + 1\n",
    "EQ = list(filter(lambda a: a != 0, EQ))\n",
    "\n",
    "#Matrix(EQ),Matrix(EQ_LD[0])"
   ]
  },
  {
   "cell_type": "code",
   "execution_count": null,
   "metadata": {
    "collapsed": true
   },
   "outputs": [],
   "source": [
    "EQ_LD[0] = EQ "
   ]
  },
  {
   "cell_type": "code",
   "execution_count": null,
   "metadata": {
    "collapsed": false
   },
   "outputs": [],
   "source": [
    "c = c1 + c2 + c3 + c4 + c5 +c6+c7+c8\n",
    "c = list(filter(lambda a: a != 0, c))\n",
    "#len(c),c"
   ]
  },
  {
   "cell_type": "code",
   "execution_count": null,
   "metadata": {
    "collapsed": true
   },
   "outputs": [],
   "source": []
  },
  {
   "cell_type": "code",
   "execution_count": null,
   "metadata": {
    "collapsed": false
   },
   "outputs": [],
   "source": [
    "LD = []\n",
    "L0 = mixed_difeomorphism(A,B,C,D,G,H,M,N,n,ZX,ZE)\n",
    "LD.append(L0)\n",
    "#Matrix(LD[0])"
   ]
  },
  {
   "cell_type": "markdown",
   "metadata": {},
   "source": [
    "# Iterar"
   ]
  },
  {
   "cell_type": "code",
   "execution_count": null,
   "metadata": {
    "collapsed": false
   },
   "outputs": [],
   "source": [
    "all_solutions = []\n",
    "for x in EQ_LD[0]:\n",
    "    sol = solve(x)\n",
    "    if sol != []: all_solutions.append(sol)"
   ]
  },
  {
   "cell_type": "code",
   "execution_count": null,
   "metadata": {
    "collapsed": true
   },
   "outputs": [],
   "source": [
    "all_solutions = []\n",
    "for x in EQ_LD[0]:\n",
    "    fs = list(x.free_symbols)\n",
    "    fs = list(powerset(fs))\n",
    "    for y in fs:\n",
    "        sol = solve(x,dict=True,exclude=y)\n",
    "        if sol not in all_solutions:\n",
    "            all_solutions.append(sol) if sol != [] else 0"
   ]
  },
  {
   "cell_type": "code",
   "execution_count": null,
   "metadata": {
    "collapsed": false
   },
   "outputs": [],
   "source": [
    "s = product(*all_solutions)\n",
    "#s = list(s)\n",
    "#Matrix(all_solutions),Matrix(s)\n",
    "#s"
   ]
  },
  {
   "cell_type": "code",
   "execution_count": null,
   "metadata": {
    "collapsed": false
   },
   "outputs": [],
   "source": [
    "D_LD = []\n",
    "D_LD.append(Jacobian(LD[0],ZE,n))"
   ]
  },
  {
   "cell_type": "code",
   "execution_count": null,
   "metadata": {
    "collapsed": false
   },
   "outputs": [],
   "source": [
    "#D_LD[0]"
   ]
  },
  {
   "cell_type": "code",
   "execution_count": null,
   "metadata": {
    "collapsed": false
   },
   "outputs": [],
   "source": [
    "LD, h_LD, f_LD,EQ_LD,D_LD = seek_mixed(LD,h_LD,f_LD,EQ_LD,D_LD,s,n,ZE,10000,1)"
   ]
  },
  {
   "cell_type": "code",
   "execution_count": null,
   "metadata": {
    "collapsed": false
   },
   "outputs": [],
   "source": [
    "len(LD),len(h_LD),len(f_LD),len(EQ_LD)"
   ]
  },
  {
   "cell_type": "code",
   "execution_count": null,
   "metadata": {
    "collapsed": false
   },
   "outputs": [],
   "source": [
    "h_LD[1]"
   ]
  },
  {
   "cell_type": "code",
   "execution_count": null,
   "metadata": {
    "collapsed": false
   },
   "outputs": [],
   "source": [
    "LD_c=[]\n",
    "h_c=[]\n",
    "f_c=[]\n",
    "EQ_c=[]\n",
    "tabix = 0\n",
    "for x in EQ_LD:\n",
    "    if x == EQ_LD[1]: #and h_LD[tabix] == h_LD[1]:\n",
    "        LD_c.append(LD[tabix])\n",
    "        h_c.append(h_LD[tabix])\n",
    "        f_c.append(f_LD[tabix])\n",
    "        EQ_c.append(EQ_LD[tabix])\n",
    "    tabix = tabix + 1\n"
   ]
  },
  {
   "cell_type": "code",
   "execution_count": null,
   "metadata": {
    "collapsed": false
   },
   "outputs": [],
   "source": [
    "len(LD_c),len(h_c),len(f_c)"
   ]
  },
  {
   "cell_type": "code",
   "execution_count": null,
   "metadata": {
    "collapsed": false
   },
   "outputs": [],
   "source": [
    "check_me = []\n",
    "difeo_eqs = []\n",
    "H0 = 0\n",
    "for i in range(0,len(f_c)):\n",
    "    \n",
    "    Z0 = LD_c[i]\n",
    "    h = h_c[i]\n",
    "    #f = f_c[i][0,0]\n",
    "    f = Function('f')(*ZX)#\n",
    "    H=[]\n",
    "   \n",
    "    S = zeros(n)\n",
    "    H,S = difeomorphism_equations002(Z0,ZE,expand,f,h,0,2*n+1)\n",
    "    H0 = H\n",
    "    \n",
    "    mixed_test = []\n",
    "    t3 = 0\n",
    "    t1 = t2 = 1\n",
    "    for x in range(0,2*n+1):\n",
    "        for y in range(x,2*n+1):\n",
    "            if x != y:\n",
    "                t1 = diff(H[x][1],ZE[y])\n",
    "                t2 = diff(H[y][1],ZE[x])\n",
    "                t3 = t3 + t1 + t2\n",
    "                mixed_test.append((t1,t2))\n",
    "    if t3 != 0:\n",
    "        difeo_eqs.append((S,H,LD_c[i],h_c[i],f_c[i],EQ_c[i]))\n",
    "        check_me.append(mixed_test)\n",
    "    #,ZE[y],ZE[x],,ZE[x],ZE[y]"
   ]
  },
  {
   "cell_type": "code",
   "execution_count": null,
   "metadata": {
    "collapsed": false
   },
   "outputs": [],
   "source": [
    "len(difeo_eqs)"
   ]
  },
  {
   "cell_type": "code",
   "execution_count": null,
   "metadata": {
    "collapsed": false
   },
   "outputs": [],
   "source": [
    "hs = []\n",
    "for x in difeo_eqs:\n",
    "    hs.append(x[1])"
   ]
  },
  {
   "cell_type": "code",
   "execution_count": null,
   "metadata": {
    "collapsed": false,
    "scrolled": true
   },
   "outputs": [],
   "source": [
    "Matrix(hs)"
   ]
  },
  {
   "cell_type": "code",
   "execution_count": null,
   "metadata": {
    "collapsed": false,
    "scrolled": false
   },
   "outputs": [],
   "source": [
    "Matrix(check_me)"
   ]
  },
  {
   "cell_type": "code",
   "execution_count": null,
   "metadata": {
    "collapsed": false
   },
   "outputs": [],
   "source": [
    "mixed_test = []\n",
    "for x in range(0,2*n+1):\n",
    "   for y in range(x,2*n+1):\n",
    "    if x != y:\n",
    "     mixed_test.append((diff(H[x][1],ZE[y]),ZE[y],ZE[x],diff(H[y][1],ZE[x]),ZE[x],ZE[y]))\n",
    "  \n",
    "Matrix(mixed_test)"
   ]
  },
  {
   "cell_type": "code",
   "execution_count": null,
   "metadata": {
    "collapsed": false
   },
   "outputs": [],
   "source": [
    "LD[i]"
   ]
  },
  {
   "cell_type": "code",
   "execution_count": null,
   "metadata": {
    "collapsed": false
   },
   "outputs": [],
   "source": [
    "tabix = 0\n",
    "for x in EQ:\n",
    "    print 'eq'+str(tabix)+' := ' +str(x).replace('_','')\n",
    "    tabix = tabix+1"
   ]
  },
  {
   "cell_type": "code",
   "execution_count": null,
   "metadata": {
    "collapsed": false
   },
   "outputs": [],
   "source": [
    "line01 = 'eqs = {'\n",
    "tabix = 0\n",
    "for x in EQ:\n",
    "    line01 = line01 + ' eq'+str(tabix)+' == 0'\n",
    "    if x != EQ[-1]:\n",
    "        line01 = line01 + ' , '\n",
    "    elif x == EQ[-1]:\n",
    "        line01 = line01 +' } '\n",
    "    tabix = tabix+1\n",
    "\n",
    "print line01"
   ]
  },
  {
   "cell_type": "code",
   "execution_count": null,
   "metadata": {
    "collapsed": false
   },
   "outputs": [],
   "source": [
    "line02 = 'vars = { '\n",
    "tabix = 0\n",
    "for x in c:\n",
    "    line02 = line02 + str(x).replace('_','')\n",
    "    if x != c[-1]:\n",
    "        line02 = line02 + ' , '\n",
    "    elif x == c[-1]:\n",
    "        line02 = line02 +' } '\n",
    "    tabix = tabix+1\n",
    "    \n",
    "print line02"
   ]
  },
  {
   "cell_type": "code",
   "execution_count": null,
   "metadata": {
    "collapsed": false
   },
   "outputs": [],
   "source": [
    "h = Matrix(LD[0])\n",
    "h.jacobian(ZE).det()"
   ]
  },
  {
   "cell_type": "code",
   "execution_count": null,
   "metadata": {
    "collapsed": false
   },
   "outputs": [],
   "source": [
    "LR = LD[0]\n",
    "h = h_LD[0]\n",
    "f = f_LD[0]\n",
    "EQ = EQ_LD[0]\n",
    "LD = []\n",
    "h_LD=[]\n",
    "f_LD=[]\n",
    "EQ_LD = []\n",
    "LD.append(LR)\n",
    "h_LD.append(h)\n",
    "f_LD.append(f)\n",
    "EQ_LD.append(EQ)\n",
    "for z in s:\n",
    "    EQ = EQ_LD[0]\n",
    "    LR = LD[0]\n",
    "    h = h_LD[0]\n",
    "    f = f_LD[0]\n",
    "    for x in z:\n",
    "        LR = subs_solutions(LR,x)\n",
    "        EQ = subs_solutions(EQ,x)\n",
    "        h = subs_solutions00(h,x,n)\n",
    "        f = subs_solutions00(f,x,n)\n",
    "        a1 = assert_jacobian(LR,ZE)\n",
    "        a2 = assert_matrix(h,n)\n",
    "        a3 = assert_matrix(f,n)\n",
    "        a_tot = a1 + a2 + a3\n",
    "    if a_tot == 0:\n",
    "        LD.append(LR)\n",
    "        h_LD.append(h)\n",
    "        f_LD.append(f)\n",
    "        EQ_LD.append(EQ)\n",
    "            "
   ]
  },
  {
   "cell_type": "code",
   "execution_count": null,
   "metadata": {
    "collapsed": false
   },
   "outputs": [],
   "source": [
    "EQ_LD[1] = filter(lambda a: a != 0, EQ_LD[1])\n",
    "EQ = EQ_LD[1]\n",
    "EQ_LD = []\n",
    "EQ_LD.append(EQ)\n",
    "Matrix(EQ_LD[0])"
   ]
  },
  {
   "cell_type": "code",
   "execution_count": null,
   "metadata": {
    "collapsed": false
   },
   "outputs": [],
   "source": [
    "help(solve)"
   ]
  },
  {
   "cell_type": "code",
   "execution_count": null,
   "metadata": {
    "collapsed": true
   },
   "outputs": [],
   "source": []
  }
 ],
 "metadata": {
  "kernelspec": {
   "display_name": "Python 3",
   "language": "python",
   "name": "python3"
  },
  "language_info": {
   "codemirror_mode": {
    "name": "ipython",
    "version": 3
   },
   "file_extension": ".py",
   "mimetype": "text/x-python",
   "name": "python",
   "nbconvert_exporter": "python",
   "pygments_lexer": "ipython3",
   "version": "3.5.1"
  }
 },
 "nbformat": 4,
 "nbformat_minor": 0
}
