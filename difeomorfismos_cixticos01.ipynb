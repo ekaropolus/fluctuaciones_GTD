{
 "cells": [
  {
   "cell_type": "code",
   "execution_count": 1,
   "metadata": {
    "collapsed": false,
    "scrolled": true
   },
   "outputs": [],
   "source": [
    "from difeomorfismos_solvers import *\n",
    "from difeomorfismo import *\n",
    "init_printing()"
   ]
  },
  {
   "cell_type": "markdown",
   "metadata": {},
   "source": [
    "<H3>Difeomorsimos Cuadratico + Mixtos + Lineales </H3>\n",
    "<H3>$X^{c} = M_{de}^{c}E^{d}I^{e}+J_{de}^{c}E^{d}E^{e}+A^{c}Φ+B_{d}^{c}E^{d}+C_{d}^{c}I^{d}$<H3>\n",
    "<H3>$Y_{c} = N_{de}^{c}E^{d}I^{e}+K_{cde}I^{d}I^{e}+D_{c}Φ+G_{cd}E^{d}+H_{cd}I^{d}$</H3>\n",
    "\n"
   ]
  },
  {
   "cell_type": "markdown",
   "metadata": {},
   "source": [
    "<H3>Defino la dimension que utilizare</H3>"
   ]
  },
  {
   "cell_type": "code",
   "execution_count": 2,
   "metadata": {
    "collapsed": false
   },
   "outputs": [],
   "source": [
    "n=1"
   ]
  },
  {
   "cell_type": "markdown",
   "metadata": {},
   "source": [
    "<H3>Estos son las dos coordenadas del difeomorfismo</H3>"
   ]
  },
  {
   "cell_type": "code",
   "execution_count": 3,
   "metadata": {
    "collapsed": false
   },
   "outputs": [
    {
     "data": {
      "image/png": "[encoded data removed]",
      "text/latex": [
       "$$\\left ( \\left [ \\Phi, \\quad E_{1}, \\quad I_{1}\\right ], \\quad \\left [ F, \\quad X_{1}, \\quad Y_{1}\\right ]\\right )$$"
      ],
      "text/plain": [
       "([\\Phi, E₁, I₁], [F, X₁, Y₁])"
      ]
     },
     "execution_count": 3,
     "metadata": {},
     "output_type": "execute_result"
    }
   ],
   "source": [
    "ZE, ZX = set_coordinates(n)\n",
    "ZE, ZX"
   ]
  },
  {
   "cell_type": "markdown",
   "metadata": {},
   "source": [
    "<H3>Estas son las constates para las ecuaciones del difeomorfismo Cuadratico + lineal</H3>"
   ]
  },
  {
   "cell_type": "code",
   "execution_count": 4,
   "metadata": {
    "collapsed": false
   },
   "outputs": [],
   "source": [
    "A,c1=set_constants_a(n,'A',1)\n",
    "D,c2=set_constants_a(n,'D',1)\n",
    "B,c3=set_constants_axb(n,n,'B',1)\n",
    "G,c4=set_constants_axb(n,n,'G',1)\n",
    "C,c5=set_constants_axb(n,n,'C',1)\n",
    "H,c6=set_constants_axb(n,n,'H',1)\n",
    "J,c7=set_constants_axbxc(n,n,n,'J',1)\n",
    "K,c8=set_constants_axbxc(n,n,n,'K',1)\n",
    "M,c9=set_constants_axbxc(n,n,n,'M',1)\n",
    "N,c10=set_constants_axbxc(n,n,n,'N',1)"
   ]
  },
  {
   "cell_type": "code",
   "execution_count": 5,
   "metadata": {
    "collapsed": false
   },
   "outputs": [
    {
     "data": {
      "text/latex": [
       "$$\\left ( \\left [ \\left[\\begin{matrix}J_{111}\\end{matrix}\\right]\\right ], \\quad \\left [ \\left[\\begin{matrix}K_{111}\\end{matrix}\\right]\\right ], \\quad \\left [ \\left[\\begin{matrix}M_{111}\\end{matrix}\\right]\\right ], \\quad \\left [ \\left[\\begin{matrix}N_{111}\\end{matrix}\\right]\\right ]\\right )$$"
      ],
      "text/plain": [
       "([[J₁₁₁]], [[K₁₁₁]], [[M₁₁₁]], [[N₁₁₁]])"
      ]
     },
     "execution_count": 5,
     "metadata": {},
     "output_type": "execute_result"
    }
   ],
   "source": [
    "J,K,M,N"
   ]
  },
  {
   "cell_type": "markdown",
   "metadata": {},
   "source": [
    "<H3>Aqui comienzo el calculo de las ecuaciones para el difemorfismo lineal</H3>"
   ]
  },
  {
   "cell_type": "code",
   "execution_count": 6,
   "metadata": {
    "collapsed": false
   },
   "outputs": [],
   "source": [
    "EQM,PM = mixed_solution00(A,B,C,D,G,H,M,N,n)\n",
    "EQM = list(filter(lambda a: a != 0, EQM))"
   ]
  },
  {
   "cell_type": "code",
   "execution_count": 7,
   "metadata": {
    "collapsed": true
   },
   "outputs": [],
   "source": [
    "EQC,PM = mixed_solution(A,B,C,D,G,H,J,K,n)\n",
    "EQC = list(filter(lambda a: a != 0, EQC))"
   ]
  },
  {
   "cell_type": "code",
   "execution_count": 8,
   "metadata": {
    "collapsed": false
   },
   "outputs": [
    {
     "data": {
      "image/png": "[encoded data removed]",
      "text/latex": [
       "$$\\left ( \\left [ A_{1} D_{1}, \\quad A_{1} G_{11}, \\quad A_{1} K_{111}, \\quad A_{1} H_{11}, \\quad A_{1} K_{111}, \\quad B_{11} G_{11}, \\quad B_{11} K_{111}, \\quad G_{11} J_{111}, \\quad J_{111} K_{111}, \\quad C_{11} H_{11}, \\quad C_{11} K_{111}, \\quad H_{11} J_{111}, \\quad J_{111} K_{111}\\right ], \\quad \\left [ A_{1} D_{1}, \\quad A_{1} G_{11}, \\quad A_{1} H_{11}, \\quad 2 A_{1} N_{111}, \\quad B_{11} G_{11}, \\quad 2 G_{11} M_{111}, \\quad C_{11} H_{11}, \\quad C_{11} N_{111}\\right ]\\right )$$"
      ],
      "text/plain": [
       "([A₁⋅D₁, A₁⋅G₁₁, A₁⋅K₁₁₁, A₁⋅H₁₁, A₁⋅K₁₁₁, B₁₁⋅G₁₁, B₁₁⋅K₁₁₁, G₁₁⋅J₁₁₁, J₁₁₁⋅K\n",
       "₁₁₁, C₁₁⋅H₁₁, C₁₁⋅K₁₁₁, H₁₁⋅J₁₁₁, J₁₁₁⋅K₁₁₁], [A₁⋅D₁, A₁⋅G₁₁, A₁⋅H₁₁, 2⋅A₁⋅N₁₁\n",
       "₁, B₁₁⋅G₁₁, 2⋅G₁₁⋅M₁₁₁, C₁₁⋅H₁₁, C₁₁⋅N₁₁₁])"
      ]
     },
     "execution_count": 8,
     "metadata": {},
     "output_type": "execute_result"
    }
   ],
   "source": [
    "EQC,EQM"
   ]
  },
  {
   "cell_type": "code",
   "execution_count": 9,
   "metadata": {
    "collapsed": false
   },
   "outputs": [
    {
     "data": {
      "image/png": "[encoded data removed]",
      "text/latex": [
       "$$\\left [ A_{1} D_{1}, \\quad A_{1} G_{11}, \\quad A_{1} H_{11}, \\quad 2 A_{1} N_{111}, \\quad B_{11} G_{11}, \\quad 2 G_{11} M_{111}, \\quad C_{11} H_{11}, \\quad C_{11} N_{111}, \\quad A_{1} D_{1}, \\quad A_{1} G_{11}, \\quad A_{1} K_{111}, \\quad A_{1} H_{11}, \\quad A_{1} K_{111}, \\quad B_{11} G_{11}, \\quad B_{11} K_{111}, \\quad G_{11} J_{111}, \\quad J_{111} K_{111}, \\quad C_{11} H_{11}, \\quad C_{11} K_{111}, \\quad H_{11} J_{111}, \\quad J_{111} K_{111}\\right ]$$"
      ],
      "text/plain": [
       "[A₁⋅D₁, A₁⋅G₁₁, A₁⋅H₁₁, 2⋅A₁⋅N₁₁₁, B₁₁⋅G₁₁, 2⋅G₁₁⋅M₁₁₁, C₁₁⋅H₁₁, C₁₁⋅N₁₁₁, A₁⋅\n",
       "D₁, A₁⋅G₁₁, A₁⋅K₁₁₁, A₁⋅H₁₁, A₁⋅K₁₁₁, B₁₁⋅G₁₁, B₁₁⋅K₁₁₁, G₁₁⋅J₁₁₁, J₁₁₁⋅K₁₁₁, \n",
       "C₁₁⋅H₁₁, C₁₁⋅K₁₁₁, H₁₁⋅J₁₁₁, J₁₁₁⋅K₁₁₁]"
      ]
     },
     "execution_count": 9,
     "metadata": {},
     "output_type": "execute_result"
    }
   ],
   "source": [
    "EQ = EQM + EQC\n",
    "EQ"
   ]
  },
  {
   "cell_type": "markdown",
   "metadata": {},
   "source": [
    "<H3>Estas instrucciones son obtener las expresiones para $h_{ab}$ y $f$</H3>"
   ]
  },
  {
   "cell_type": "code",
   "execution_count": 10,
   "metadata": {
    "collapsed": false
   },
   "outputs": [],
   "source": [
    "h_LD=[]\n",
    "f_LD=[]\n",
    "EQ_LD = []\n",
    "f,h,EQgtd = matrix_gtdiemixed00(B,C,H,G,M,N,ZE)\n",
    "f = zeros(n)\n",
    "h = zeros(n)\n",
    "for x in range(0,n):\n",
    "    for y in range(0,n):\n",
    "        if x == y: f[x,y]=1/Function('f')(*ZX)\n",
    "        if x == y: h[x,y]=Function('h')(*ZE)\n",
    "#EQ = EQ + EQgtd\n",
    "h_LD.append(h)\n",
    "f_LD.append(f)\n",
    "EQ_LD.append(EQ)\n",
    "#len(EQ), Matrix(EQ)"
   ]
  },
  {
   "cell_type": "code",
   "execution_count": null,
   "metadata": {
    "collapsed": false
   },
   "outputs": [],
   "source": [
    "Matrix(EQgtd)"
   ]
  },
  {
   "cell_type": "code",
   "execution_count": null,
   "metadata": {
    "collapsed": false
   },
   "outputs": [],
   "source": [
    "dim_n = n -1\n",
    "additional_EQ = [0]*len(EQgtd[0])\n",
    "for x in range(0,len(EQgtd)):\n",
    "    for y in range (0,len(EQgtd[0])):\n",
    "               if x == 0:\n",
    "                   additional_EQ[y] = additional_EQ[y] + dim_n*EQgtd[x][y]\n",
    "               else:\n",
    "                    additional_EQ[y] = additional_EQ[y] - EQgtd[x][y]\n",
    "additional_EQ                   "
   ]
  },
  {
   "cell_type": "code",
   "execution_count": null,
   "metadata": {
    "collapsed": false
   },
   "outputs": [],
   "source": [
    "EQ_LD[0] = EQ_LD[0]+additional_EQ\n",
    "EQ_LD[0] = list(filter(lambda a: a != 0, EQ_LD[0]))"
   ]
  },
  {
   "cell_type": "markdown",
   "metadata": {},
   "source": [
    "<H3>Hay que hacer una limpieza. Lo que hago aqui es subtituir cada una de las ecuaciones en las otras para ver si se pueden simplificar</H3>"
   ]
  },
  {
   "cell_type": "code",
   "execution_count": 11,
   "metadata": {
    "collapsed": false
   },
   "outputs": [],
   "source": [
    "EQ = consistency_subs(EQ_LD[0])"
   ]
  },
  {
   "cell_type": "code",
   "execution_count": 12,
   "metadata": {
    "collapsed": false
   },
   "outputs": [
    {
     "data": {
      "text/latex": [
       "$$\\left ( \\left[\\begin{matrix}A_{1} D_{1}\\\\A_{1} G_{11}\\\\A_{1} H_{11}\\\\2 A_{1} N_{111}\\\\B_{11} G_{11}\\\\2 G_{11} M_{111}\\\\C_{11} H_{11}\\\\C_{11} N_{111}\\\\A_{1} D_{1}\\\\A_{1} G_{11}\\\\A_{1} K_{111}\\\\A_{1} H_{11}\\\\A_{1} K_{111}\\\\B_{11} G_{11}\\\\B_{11} K_{111}\\\\G_{11} J_{111}\\\\J_{111} K_{111}\\\\C_{11} H_{11}\\\\C_{11} K_{111}\\\\H_{11} J_{111}\\\\J_{111} K_{111}\\end{matrix}\\right], \\quad \\left[\\begin{matrix}A_{1} D_{1}\\\\A_{1} G_{11}\\\\A_{1} H_{11}\\\\2 A_{1} N_{111}\\\\B_{11} G_{11}\\\\2 G_{11} M_{111}\\\\C_{11} H_{11}\\\\C_{11} N_{111}\\\\0\\\\0\\\\A_{1} K_{111}\\\\0\\\\0\\\\0\\\\B_{11} K_{111}\\\\G_{11} J_{111}\\\\J_{111} K_{111}\\\\0\\\\C_{11} K_{111}\\\\H_{11} J_{111}\\\\0\\end{matrix}\\right]\\right )$$"
      ],
      "text/plain": [
       "⎛⎡  A₁⋅D₁   ⎤, ⎡  A₁⋅D₁   ⎤⎞\n",
       "⎜⎢          ⎥  ⎢          ⎥⎟\n",
       "⎜⎢  A₁⋅G₁₁  ⎥  ⎢  A₁⋅G₁₁  ⎥⎟\n",
       "⎜⎢          ⎥  ⎢          ⎥⎟\n",
       "⎜⎢  A₁⋅H₁₁  ⎥  ⎢  A₁⋅H₁₁  ⎥⎟\n",
       "⎜⎢          ⎥  ⎢          ⎥⎟\n",
       "⎜⎢2⋅A₁⋅N₁₁₁ ⎥  ⎢2⋅A₁⋅N₁₁₁ ⎥⎟\n",
       "⎜⎢          ⎥  ⎢          ⎥⎟\n",
       "⎜⎢ B₁₁⋅G₁₁  ⎥  ⎢ B₁₁⋅G₁₁  ⎥⎟\n",
       "⎜⎢          ⎥  ⎢          ⎥⎟\n",
       "⎜⎢2⋅G₁₁⋅M₁₁₁⎥  ⎢2⋅G₁₁⋅M₁₁₁⎥⎟\n",
       "⎜⎢          ⎥  ⎢          ⎥⎟\n",
       "⎜⎢ C₁₁⋅H₁₁  ⎥  ⎢ C₁₁⋅H₁₁  ⎥⎟\n",
       "⎜⎢          ⎥  ⎢          ⎥⎟\n",
       "⎜⎢ C₁₁⋅N₁₁₁ ⎥  ⎢ C₁₁⋅N₁₁₁ ⎥⎟\n",
       "⎜⎢          ⎥  ⎢          ⎥⎟\n",
       "⎜⎢  A₁⋅D₁   ⎥  ⎢    0     ⎥⎟\n",
       "⎜⎢          ⎥  ⎢          ⎥⎟\n",
       "⎜⎢  A₁⋅G₁₁  ⎥  ⎢    0     ⎥⎟\n",
       "⎜⎢          ⎥  ⎢          ⎥⎟\n",
       "⎜⎢ A₁⋅K₁₁₁  ⎥  ⎢ A₁⋅K₁₁₁  ⎥⎟\n",
       "⎜⎢          ⎥  ⎢          ⎥⎟\n",
       "⎜⎢  A₁⋅H₁₁  ⎥  ⎢    0     ⎥⎟\n",
       "⎜⎢          ⎥  ⎢          ⎥⎟\n",
       "⎜⎢ A₁⋅K₁₁₁  ⎥  ⎢    0     ⎥⎟\n",
       "⎜⎢          ⎥  ⎢          ⎥⎟\n",
       "⎜⎢ B₁₁⋅G₁₁  ⎥  ⎢    0     ⎥⎟\n",
       "⎜⎢          ⎥  ⎢          ⎥⎟\n",
       "⎜⎢ B₁₁⋅K₁₁₁ ⎥  ⎢ B₁₁⋅K₁₁₁ ⎥⎟\n",
       "⎜⎢          ⎥  ⎢          ⎥⎟\n",
       "⎜⎢ G₁₁⋅J₁₁₁ ⎥  ⎢ G₁₁⋅J₁₁₁ ⎥⎟\n",
       "⎜⎢          ⎥  ⎢          ⎥⎟\n",
       "⎜⎢J₁₁₁⋅K₁₁₁ ⎥  ⎢J₁₁₁⋅K₁₁₁ ⎥⎟\n",
       "⎜⎢          ⎥  ⎢          ⎥⎟\n",
       "⎜⎢ C₁₁⋅H₁₁  ⎥  ⎢    0     ⎥⎟\n",
       "⎜⎢          ⎥  ⎢          ⎥⎟\n",
       "⎜⎢ C₁₁⋅K₁₁₁ ⎥  ⎢ C₁₁⋅K₁₁₁ ⎥⎟\n",
       "⎜⎢          ⎥  ⎢          ⎥⎟\n",
       "⎜⎢ H₁₁⋅J₁₁₁ ⎥  ⎢ H₁₁⋅J₁₁₁ ⎥⎟\n",
       "⎜⎢          ⎥  ⎢          ⎥⎟\n",
       "⎝⎣J₁₁₁⋅K₁₁₁ ⎦  ⎣    0     ⎦⎠"
      ]
     },
     "execution_count": 12,
     "metadata": {},
     "output_type": "execute_result"
    }
   ],
   "source": [
    "Matrix(EQ),Matrix(EQ_LD[0])"
   ]
  },
  {
   "cell_type": "markdown",
   "metadata": {},
   "source": [
    "<H3>Hago un filtrado para eliminar las ecuaciones que me dieron 0</H3>"
   ]
  },
  {
   "cell_type": "code",
   "execution_count": 13,
   "metadata": {
    "collapsed": true
   },
   "outputs": [],
   "source": [
    "EQ_LD[0] = list(filter(lambda a: a != 0, EQ_LD[0]))\n",
    "\n"
   ]
  },
  {
   "cell_type": "markdown",
   "metadata": {},
   "source": [
    "<H3>Este es el sistema final a resolver</H3>"
   ]
  },
  {
   "cell_type": "code",
   "execution_count": 14,
   "metadata": {
    "collapsed": false
   },
   "outputs": [
    {
     "data": {
      "image/png": "[encoded data removed]",
      "text/latex": [
       "$$14$$"
      ],
      "text/plain": [
       "14"
      ]
     },
     "execution_count": 14,
     "metadata": {},
     "output_type": "execute_result"
    }
   ],
   "source": [
    "len(EQ_LD[0])"
   ]
  },
  {
   "cell_type": "markdown",
   "metadata": {},
   "source": [
    "<H3>Meto todas las constantes en un arreglo</H3>"
   ]
  },
  {
   "cell_type": "code",
   "execution_count": 15,
   "metadata": {
    "collapsed": false
   },
   "outputs": [
    {
     "data": {
      "image/png": "[encoded data removed]",
      "text/latex": [
       "$$\\left ( 10, \\quad \\left [ A_{1}, \\quad D_{1}, \\quad B_{11}, \\quad G_{11}, \\quad C_{11}, \\quad H_{11}, \\quad J_{111}, \\quad K_{111}, \\quad M_{111}, \\quad N_{111}\\right ]\\right )$$"
      ],
      "text/plain": [
       "(10, [A₁, D₁, B₁₁, G₁₁, C₁₁, H₁₁, J₁₁₁, K₁₁₁, M₁₁₁, N₁₁₁])"
      ]
     },
     "execution_count": 15,
     "metadata": {},
     "output_type": "execute_result"
    }
   ],
   "source": [
    "c = c1 + c2 + c3 + c4 + c5 +c6+c7+c8+c9+c10\n",
    "c = list(filter(lambda a: a != 0, c))\n",
    "len(c),c"
   ]
  },
  {
   "cell_type": "markdown",
   "metadata": {},
   "source": [
    "<H3>Estas son las ecuaciones del difeomorfismo Cuadratico + lineal</H3>"
   ]
  },
  {
   "cell_type": "code",
   "execution_count": 16,
   "metadata": {
    "collapsed": false
   },
   "outputs": [],
   "source": [
    "LD = []\n",
    "LM = mixed_difeomorphism00(A,B,C,D,G,H,M,N,n,ZX,ZE)\n"
   ]
  },
  {
   "cell_type": "code",
   "execution_count": 17,
   "metadata": {
    "collapsed": true
   },
   "outputs": [],
   "source": [
    "LD = []\n",
    "LC = mixed_difeomorphism(A,B,C,D,G,H,J,K,n,ZX,ZE)"
   ]
  },
  {
   "cell_type": "code",
   "execution_count": 18,
   "metadata": {
    "collapsed": false
   },
   "outputs": [
    {
     "data": {
      "text/latex": [
       "$$\\left[\\begin{matrix}F{\\left (\\Phi,E_{1},I_{1} \\right )} & A_{1} \\Phi + B_{11} E_{1} + C_{11} I_{1} + E_{1}^{2} M_{111} & D_{1} \\Phi + E_{1} G_{11} + H_{11} I_{1} + I_{1}^{2} N_{111}\\\\F{\\left (\\Phi,E_{1},I_{1} \\right )} & A_{1} \\Phi + B_{11} E_{1} + C_{11} I_{1} + E_{1} I_{1} J_{111} & D_{1} \\Phi + E_{1} G_{11} + E_{1} I_{1} K_{111} + H_{11} I_{1}\\end{matrix}\\right]$$"
      ],
      "text/plain": [
       "⎡                                                2                            \n",
       "⎢F(\\Phi, E₁, I₁)   A₁⋅\\Phi + B₁₁⋅E₁ + C₁₁⋅I₁ + E₁ ⋅M₁₁₁    D₁⋅\\Phi + E₁⋅G₁₁ + \n",
       "⎢                                                                             \n",
       "⎣F(\\Phi, E₁, I₁)  A₁⋅\\Phi + B₁₁⋅E₁ + C₁₁⋅I₁ + E₁⋅I₁⋅J₁₁₁  D₁⋅\\Phi + E₁⋅G₁₁ + E\n",
       "\n",
       "           2      ⎤\n",
       "H₁₁⋅I₁ + I₁ ⋅N₁₁₁ ⎥\n",
       "                  ⎥\n",
       "₁⋅I₁⋅K₁₁₁ + H₁₁⋅I₁⎦"
      ]
     },
     "execution_count": 18,
     "metadata": {},
     "output_type": "execute_result"
    }
   ],
   "source": [
    "Matrix([LM,LC])"
   ]
  },
  {
   "cell_type": "code",
   "execution_count": 19,
   "metadata": {
    "collapsed": false
   },
   "outputs": [
    {
     "data": {
      "image/png": "[encoded data removed]",
      "text/latex": [
       "$$\\left [ F{\\left (\\Phi,E_{1},I_{1} \\right )}, \\quad A_{1} \\Phi + B_{11} E_{1} + C_{11} I_{1} + E_{1}^{2} M_{111} + E_{1} I_{1} J_{111}, \\quad D_{1} \\Phi + E_{1} G_{11} + E_{1} I_{1} K_{111} + H_{11} I_{1} + I_{1}^{2} N_{111}\\right ]$$"
      ],
      "text/plain": [
       "⎡                                               2                             \n",
       "⎣F(\\Phi, E₁, I₁), A₁⋅\\Phi + B₁₁⋅E₁ + C₁₁⋅I₁ + E₁ ⋅M₁₁₁ + E₁⋅I₁⋅J₁₁₁, D₁⋅\\Phi +\n",
       "\n",
       "                                  2     ⎤\n",
       " E₁⋅G₁₁ + E₁⋅I₁⋅K₁₁₁ + H₁₁⋅I₁ + I₁ ⋅N₁₁₁⎦"
      ]
     },
     "execution_count": 19,
     "metadata": {},
     "output_type": "execute_result"
    }
   ],
   "source": [
    "dim_n = 1\n",
    "merge_EQ = [0]*len(LM)\n",
    "for x in range(0,len(LM)):\n",
    "    for y in range (0,len(LC)):\n",
    "               if x == y:\n",
    "                if LM[y] != LC[y]:\n",
    "                    tabix = 0\n",
    "                    for z in LM[y].args:\n",
    "                        if z != LC[y].args[tabix]:\n",
    "                            valor = z + LC[y].args[tabix]\n",
    "                        else:\n",
    "                            valor = z\n",
    "                        merge_EQ[y] = valor + merge_EQ[y]\n",
    "                        tabix = tabix + 1\n",
    "                else:\n",
    "                    merge_EQ[y] = LM[y]\n",
    "merge_EQ "
   ]
  },
  {
   "cell_type": "code",
   "execution_count": 20,
   "metadata": {
    "collapsed": false
   },
   "outputs": [
    {
     "data": {
      "text/latex": [
       "$$\\left[\\begin{matrix}F{\\left (\\Phi,E_{1},I_{1} \\right )}\\\\A_{1} \\Phi + B_{11} E_{1} + C_{11} I_{1} + E_{1}^{2} M_{111} + E_{1} I_{1} J_{111}\\\\D_{1} \\Phi + E_{1} G_{11} + E_{1} I_{1} K_{111} + H_{11} I_{1} + I_{1}^{2} N_{111}\\end{matrix}\\right]$$"
      ],
      "text/plain": [
       "⎡                 F(\\Phi, E₁, I₁)                 ⎤\n",
       "⎢                                                 ⎥\n",
       "⎢                              2                  ⎥\n",
       "⎢A₁⋅\\Phi + B₁₁⋅E₁ + C₁₁⋅I₁ + E₁ ⋅M₁₁₁ + E₁⋅I₁⋅J₁₁₁⎥\n",
       "⎢                                                 ⎥\n",
       "⎢                                           2     ⎥\n",
       "⎣D₁⋅\\Phi + E₁⋅G₁₁ + E₁⋅I₁⋅K₁₁₁ + H₁₁⋅I₁ + I₁ ⋅N₁₁₁⎦"
      ]
     },
     "execution_count": 20,
     "metadata": {},
     "output_type": "execute_result"
    }
   ],
   "source": [
    "LD.append(merge_EQ )\n",
    "Matrix(LD[0])"
   ]
  },
  {
   "cell_type": "markdown",
   "metadata": {},
   "source": [
    "<H3>Estas son las ecuaciones del contactomorfismo</H3>"
   ]
  },
  {
   "cell_type": "code",
   "execution_count": 21,
   "metadata": {
    "collapsed": true
   },
   "outputs": [],
   "source": [
    "CM_LD = contactomorphism_equations(LD[0],ZE,expand,0)\n",
    "#Matrix(CM_LD)"
   ]
  },
  {
   "cell_type": "markdown",
   "metadata": {},
   "source": [
    "<H3>Este es el jacobiano y el determinante del jacobiano de esa transformacion</H3>"
   ]
  },
  {
   "cell_type": "code",
   "execution_count": 22,
   "metadata": {
    "collapsed": true
   },
   "outputs": [],
   "source": [
    "Z0 = list(LD[0])\n",
    "Z0[0] = CM_LD"
   ]
  },
  {
   "cell_type": "code",
   "execution_count": 23,
   "metadata": {
    "collapsed": false
   },
   "outputs": [],
   "source": [
    "#DeJ = Jacobian(LD[0],ZE,n)\n",
    "#DeJ = simplify(DeJ)\n",
    "#DeJ\n",
    "Ja = Matrix(LD[0]).jacobian(ZE)"
   ]
  },
  {
   "cell_type": "code",
   "execution_count": 24,
   "metadata": {
    "collapsed": true
   },
   "outputs": [],
   "source": [
    "DeJ = Ja.berkowitz_det()"
   ]
  },
  {
   "cell_type": "code",
   "execution_count": 25,
   "metadata": {
    "collapsed": false
   },
   "outputs": [],
   "source": [
    "for x in range(0,2*n+1):\n",
    "    DeJ = DeJ.subs([(diff(LD[0][0],ZE[x]),CM_LD[x])])\n"
   ]
  },
  {
   "cell_type": "code",
   "execution_count": null,
   "metadata": {
    "collapsed": true
   },
   "outputs": [],
   "source": [
    "text_file = open(\"DeJCn2_NM.txt\", \"w\")\n",
    "text_file.write(str(DeJ))\n",
    "text_file.close()"
   ]
  },
  {
   "cell_type": "code",
   "execution_count": null,
   "metadata": {
    "collapsed": false
   },
   "outputs": [],
   "source": [
    "text_file = open(\"DeJCn2.txt\", \"r\")\n",
    "DeJ = sympify(text_file.read())\n",
    "text_file.close()"
   ]
  },
  {
   "cell_type": "code",
   "execution_count": null,
   "metadata": {
    "collapsed": false
   },
   "outputs": [],
   "source": [
    "Ja"
   ]
  },
  {
   "cell_type": "code",
   "execution_count": null,
   "metadata": {
    "collapsed": false
   },
   "outputs": [],
   "source": [
    "DeJ"
   ]
  },
  {
   "cell_type": "code",
   "execution_count": null,
   "metadata": {
    "collapsed": true
   },
   "outputs": [],
   "source": [
    "platexini00('DeJCn2_NM.tex')\n",
    "platex00(DeJ,'DeJCn2.tex_NM','equation')\n",
    "platex00(Ja,'DeJCn2.tex_NM','equation')\n",
    "platexend00('DeJCn2_NM.tex')"
   ]
  },
  {
   "cell_type": "markdown",
   "metadata": {},
   "source": [
    "<H3>Este algoritmo es el que calcula las soluciones. Lo que hace es que va equacion por ecuacion y busca todas sus posibles soluciones. Para cada ecuacion, su conjunto de soluciones las mente dentro de un arreglo. El resultado final es un lista que contiene un arreglo de soluciones por cada ecuacion.</H3>"
   ]
  },
  {
   "cell_type": "code",
   "execution_count": 26,
   "metadata": {
    "collapsed": false
   },
   "outputs": [],
   "source": [
    "all_solutions = []\n",
    "for x in EQ_LD[0]:\n",
    "    sol_to_eq=[]\n",
    "    fs = list(x.free_symbols)\n",
    "    fs = list(powerset(fs))\n",
    "    for y in fs:\n",
    "        sol = solve(x,dict=True,exclude=y)\n",
    "        sol = merge_dicts(*sol)\n",
    "        if sol not in sol_to_eq:\n",
    "            sol_to_eq.append(sol) if sol != {} else 0\n",
    "    all_solutions.append(sol_to_eq)\n",
    "    \n"
   ]
  },
  {
   "cell_type": "code",
   "execution_count": 27,
   "metadata": {
    "collapsed": false
   },
   "outputs": [
    {
     "data": {
      "image/png": "[encoded data removed]",
      "text/latex": [
       "$$16384$$"
      ],
      "text/plain": [
       "16384"
      ]
     },
     "execution_count": 27,
     "metadata": {},
     "output_type": "execute_result"
    }
   ],
   "source": [
    "cont = 1\n",
    "for x in all_solutions:\n",
    "    cont = cont*len(x)\n",
    "cont"
   ]
  },
  {
   "cell_type": "markdown",
   "metadata": {},
   "source": [
    "<H3>Creo un producto cartesiano donde sus entradas son las soluciones de las ecuaciones. De esta forma me aseguro de tener todas las posibles soluciones para el problema completo</H3>"
   ]
  },
  {
   "cell_type": "code",
   "execution_count": 28,
   "metadata": {
    "collapsed": true
   },
   "outputs": [],
   "source": [
    "s = product(*all_solutions)"
   ]
  },
  {
   "cell_type": "markdown",
   "metadata": {},
   "source": [
    "<H3>Esta instruccion calcula el determinante del difeomorfismo Cuadratico + lineal</H3>"
   ]
  },
  {
   "cell_type": "code",
   "execution_count": 29,
   "metadata": {
    "collapsed": false
   },
   "outputs": [],
   "source": [
    "D_LD = []\n",
    "D_LD.append(DeJ)"
   ]
  },
  {
   "cell_type": "code",
   "execution_count": 30,
   "metadata": {
    "collapsed": false
   },
   "outputs": [],
   "source": [
    "#D_LD[0]"
   ]
  },
  {
   "cell_type": "markdown",
   "metadata": {},
   "source": [
    "<H3>Con esta funcion busco las soluciones al problema. Los criterios son: 1. que el determinante sea diferente de 0.\n",
    "    Debido a que tomaba mucho tiempo la funcion le tubimos que poner dos controladores (ultimos dos elementos de la interfaz). El primero controla la cantidad de difeomorfismos diferentes a evaluar. El segundo te dice cuantas soluciones debe de buscar</H3>"
   ]
  },
  {
   "cell_type": "code",
   "execution_count": 31,
   "metadata": {
    "collapsed": false
   },
   "outputs": [
    {
     "name": "stdout",
     "output_type": "stream",
     "text": [
      "Comienza substitucion\n",
      "Finaliza substitucion\n",
      "Comienza limpieza\n",
      "Finaliza substitucion\n"
     ]
    }
   ],
   "source": [
    "chigo_mil = 10000000000000\n",
    "LD, h_LD, f_LD,EQ_LD,D_LD,s_LD = seek_mixed00(LD,h_LD,f_LD,EQ_LD,D_LD,s,n,ZE,100000,chigo_mil,[1,0])"
   ]
  },
  {
   "cell_type": "markdown",
   "metadata": {},
   "source": [
    "<H3>Cantidad de soluciones encontradas</H3>"
   ]
  },
  {
   "cell_type": "code",
   "execution_count": 32,
   "metadata": {
    "collapsed": false
   },
   "outputs": [
    {
     "data": {
      "image/png": "[encoded data removed]",
      "text/latex": [
       "$$49$$"
      ],
      "text/plain": [
       "49"
      ]
     },
     "execution_count": 32,
     "metadata": {},
     "output_type": "execute_result"
    }
   ],
   "source": [
    "\n",
    "len(LD)#,len(h_LD),len(f_LD),len(EQ_LD),len(D_LD)"
   ]
  },
  {
   "cell_type": "markdown",
   "metadata": {},
   "source": [
    "<H3>Los difeomorfismos encontrados</H3>"
   ]
  },
  {
   "cell_type": "code",
   "execution_count": 33,
   "metadata": {
    "collapsed": false
   },
   "outputs": [],
   "source": [
    "#Matrix(LD)"
   ]
  },
  {
   "cell_type": "markdown",
   "metadata": {},
   "source": [
    "<H3>El set de soluciones que nos llevaron a ellos</H3>\n"
   ]
  },
  {
   "cell_type": "code",
   "execution_count": 34,
   "metadata": {
    "collapsed": false
   },
   "outputs": [],
   "source": [
    "#Matrix(s_LD)"
   ]
  },
  {
   "cell_type": "markdown",
   "metadata": {},
   "source": [
    "<H3>Para cada una de las soluciones calculamos: Las ecuaciones del difeomorfismo en S, Las ecuaciones del contatcto morfismo en H. Las condiciones de integrabilidad check_me</H3>"
   ]
  },
  {
   "cell_type": "code",
   "execution_count": 35,
   "metadata": {
    "collapsed": false,
    "scrolled": true
   },
   "outputs": [],
   "source": [
    "check_me = []\n",
    "difeo_eqs = []\n",
    "\n",
    "for i in range(0,len(LD)):\n",
    "    Z0 = LD[i]\n",
    "    h = h_LD[0]\n",
    "    f = f_LD[0][0,0]\n",
    "    H=[]\n",
    "    S = zeros(n)\n",
    "    H,S = difeomorphism_equations002(Z0,ZE,expand,f,h,0,2*n+1)\n",
    "    \n",
    "    mixed_test = []\n",
    "    t3 = 0\n",
    "    t1 = t2 = 1\n",
    "    for x in range(0,2*n+1):\n",
    "        for y in range(x,2*n+1):\n",
    "            if x != y:\n",
    "                t1 = diff(H[x][1],ZE[y])\n",
    "                t2 = diff(H[y][1],ZE[x])\n",
    "                d1 = diff(H[x][0],ZE[y])\n",
    "                d2 = diff(H[y][0],ZE[x])\n",
    "                t3 = t3 + t1 + t2\n",
    "                mixed_test.append((t1,t2))\n",
    "    if t3 != 0:\n",
    "        difeo_eqs.append((S,H,Z0,D_LD[i],f))\n",
    "        check_me.append(mixed_test)\n",
    "    #,ZE[y],ZE[x],,ZE[x],ZE[y]"
   ]
  },
  {
   "cell_type": "code",
   "execution_count": 36,
   "metadata": {
    "collapsed": false
   },
   "outputs": [
    {
     "data": {
      "image/png": "[encoded data removed]",
      "text/latex": [
       "$$49$$"
      ],
      "text/plain": [
       "49"
      ]
     },
     "execution_count": 36,
     "metadata": {},
     "output_type": "execute_result"
    }
   ],
   "source": [
    "len(difeo_eqs)"
   ]
  },
  {
   "cell_type": "markdown",
   "metadata": {},
   "source": [
    "<H3>Estas son las condiciones de integrabilidad</H3>"
   ]
  },
  {
   "cell_type": "code",
   "execution_count": 37,
   "metadata": {
    "collapsed": false
   },
   "outputs": [],
   "source": [
    "#Matrix(check_me)"
   ]
  },
  {
   "cell_type": "markdown",
   "metadata": {},
   "source": [
    "<H3>Estos son los contactomorfismos</H3>"
   ]
  },
  {
   "cell_type": "code",
   "execution_count": 38,
   "metadata": {
    "collapsed": false
   },
   "outputs": [],
   "source": [
    "contacto = []\n",
    "for x in difeo_eqs:\n",
    "    contacto.append(x[1])\n",
    "#Matrix(contacto)"
   ]
  },
  {
   "cell_type": "markdown",
   "metadata": {},
   "source": [
    "<H3>Estos son las ecuaciones del difeomorfismo</H3>\n"
   ]
  },
  {
   "cell_type": "code",
   "execution_count": 39,
   "metadata": {
    "collapsed": false
   },
   "outputs": [],
   "source": [
    "eqs_difeo = []\n",
    "for x in difeo_eqs:\n",
    "    eqs_difeo.append(x[0])\n",
    "#eqs_difeo"
   ]
  },
  {
   "cell_type": "code",
   "execution_count": 40,
   "metadata": {
    "collapsed": false
   },
   "outputs": [],
   "source": [
    "#eqs_difeo"
   ]
  },
  {
   "cell_type": "markdown",
   "metadata": {
    "collapsed": true
   },
   "source": [
    "<H3>Estos son los difeomorfismos</H3>"
   ]
  },
  {
   "cell_type": "code",
   "execution_count": 41,
   "metadata": {
    "collapsed": true
   },
   "outputs": [],
   "source": [
    "difeo = []\n",
    "for x in difeo_eqs:\n",
    "    difeo.append(x[2])\n",
    "#difeo"
   ]
  },
  {
   "cell_type": "code",
   "execution_count": 42,
   "metadata": {
    "collapsed": false
   },
   "outputs": [],
   "source": [
    "#difeo"
   ]
  },
  {
   "cell_type": "markdown",
   "metadata": {},
   "source": [
    "<H3>Estas son los determinantes</H3>"
   ]
  },
  {
   "cell_type": "code",
   "execution_count": 43,
   "metadata": {
    "collapsed": true
   },
   "outputs": [],
   "source": [
    "dets = []\n",
    "for x in difeo_eqs:\n",
    "    dets.append(x[3])\n",
    "#dets"
   ]
  },
  {
   "cell_type": "code",
   "execution_count": 44,
   "metadata": {
    "collapsed": false
   },
   "outputs": [
    {
     "data": {
      "image/png": "[encoded data removed]",
      "text/latex": [
       "$$49$$"
      ],
      "text/plain": [
       "49"
      ]
     },
     "execution_count": 44,
     "metadata": {},
     "output_type": "execute_result"
    }
   ],
   "source": [
    "len(dets)"
   ]
  },
  {
   "cell_type": "code",
   "execution_count": 45,
   "metadata": {
    "collapsed": false
   },
   "outputs": [],
   "source": [
    "tabix = 0\n",
    "for x in range(0,len(difeo),100):\n",
    "    ini = x + tabix\n",
    "    fin = x + 100 + tabix\n",
    "    if fin >= len(difeo):\n",
    "        fin = len(difeo)\n",
    "    send_DH_to_latex(difeo[ini:fin],dets[ini:fin],check_me[ini:fin],eqs_difeo[ini:fin],ZX,ini,str(tabix)+'cixticos_MN1'+'.tex')\n",
    "    tabix = tabix + 1"
   ]
  },
  {
   "cell_type": "code",
   "execution_count": null,
   "metadata": {
    "collapsed": false
   },
   "outputs": [],
   "source": [
    "Matrix(dets[1])"
   ]
  },
  {
   "cell_type": "code",
   "execution_count": null,
   "metadata": {
    "collapsed": false
   },
   "outputs": [],
   "source": [
    "#help(Derivative)"
   ]
  },
  {
   "cell_type": "code",
   "execution_count": null,
   "metadata": {
    "collapsed": false,
    "scrolled": true
   },
   "outputs": [],
   "source": [
    "difeo_eqs[2][0]"
   ]
  },
  {
   "cell_type": "code",
   "execution_count": null,
   "metadata": {
    "collapsed": true
   },
   "outputs": [],
   "source": []
  }
 ],
 "metadata": {
  "kernelspec": {
   "display_name": "Python 3",
   "language": "python",
   "name": "python3"
  },
  "language_info": {
   "codemirror_mode": {
    "name": "ipython",
    "version": 3
   },
   "file_extension": ".py",
   "mimetype": "text/x-python",
   "name": "python",
   "nbconvert_exporter": "python",
   "pygments_lexer": "ipython3",
   "version": "3.5.1"
  }
 },
 "nbformat": 4,
 "nbformat_minor": 0
}
