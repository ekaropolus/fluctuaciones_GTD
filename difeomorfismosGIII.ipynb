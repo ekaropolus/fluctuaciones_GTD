{
 "cells": [
  {
   "cell_type": "code",
   "execution_count": 1,
   "metadata": {
    "collapsed": false,
    "scrolled": true
   },
   "outputs": [],
   "source": [
    "from difeomorfismos_solvers import *\n",
    "from difeomorfismo import *\n",
    "init_printing()"
   ]
  },
  {
   "cell_type": "markdown",
   "metadata": {},
   "source": [
    "<H3>Difeomorsimos Cuadratico + lineal </H3>\n",
    "<H3>$X^{c} = M_{dd}^{c}E^{d}E^{d}$<H3>\n",
    "<H3>$Y_{c} = N_{cee}I^{e}I^{e}$</H3>\n",
    "\n"
   ]
  },
  {
   "cell_type": "markdown",
   "metadata": {},
   "source": [
    "<H3>Defino la dimension que utilizare</H3>"
   ]
  },
  {
   "cell_type": "code",
   "execution_count": 2,
   "metadata": {
    "collapsed": false
   },
   "outputs": [],
   "source": [
    "n=2\n"
   ]
  },
  {
   "cell_type": "markdown",
   "metadata": {},
   "source": [
    "<H3>Estos son las dos coordenadas del difeomorfismo</H3>"
   ]
  },
  {
   "cell_type": "code",
   "execution_count": 3,
   "metadata": {
    "collapsed": false
   },
   "outputs": [
    {
     "data": {
      "image/png": "[encoded data removed]",
      "text/latex": [
       "$$\\left ( \\left [ \\Phi, \\quad E_{1}, \\quad E_{2}, \\quad I_{1}, \\quad I_{2}\\right ], \\quad \\left [ F, \\quad X_{1}, \\quad X_{2}, \\quad Y_{1}, \\quad Y_{2}\\right ]\\right )$$"
      ],
      "text/plain": [
       "([\\Phi, E₁, E₂, I₁, I₂], [F, X₁, X₂, Y₁, Y₂])"
      ]
     },
     "execution_count": 3,
     "metadata": {},
     "output_type": "execute_result"
    }
   ],
   "source": [
    "ZE, ZX = set_coordinates(n)\n",
    "ZE, ZX"
   ]
  },
  {
   "cell_type": "markdown",
   "metadata": {},
   "source": [
    "<H3>Estas son las constates para las ecuaciones del difeomorfismo Cuadratico + lineal</H3>"
   ]
  },
  {
   "cell_type": "code",
   "execution_count": 4,
   "metadata": {
    "collapsed": false
   },
   "outputs": [],
   "source": [
    "import operator\n",
    "A,c1=set_constants_a(n,'A',0)\n",
    "D,c2=set_constants_a(n,'D',0)\n",
    "B,c3=set_constants_axb(n,n,'B',0)\n",
    "G,c4=set_constants_axb(n,n,'G',0)\n",
    "C,c5=set_constants_axb(n,n,'C',0)\n",
    "H,c6=set_constants_axb(n,n,'H',0)\n",
    "M,c7=set_constants_axbxc(n,n,n,'M',0,operator.eq)\n",
    "N,c8=set_constants_axbxc(n,n,n,'N',0,operator.eq)\n",
    "J,c9=set_constants_axbxc(n,n,n,'J',1,operator.eq)\n",
    "K,c10=set_constants_axbxc(n,n,n,'K',1,operator.eq)"
   ]
  },
  {
   "cell_type": "code",
   "execution_count": 5,
   "metadata": {
    "collapsed": false
   },
   "outputs": [],
   "source": [
    "J[0][1,1]=0\n",
    "J[1][0,0]=0\n",
    "K[0][1,1]=0\n",
    "K[1][0,0]=0\n",
    "\n",
    "#M[1][0,1]=0\n",
    "#N[1][1,0]=0\n",
    "\n",
    "#M[0][0,0]=0\n",
    "#N[0][1,1]=0\n",
    "#M[1][0,0]=0\n",
    "#N[1][1,1]=0"
   ]
  },
  {
   "cell_type": "code",
   "execution_count": 6,
   "metadata": {
    "collapsed": false
   },
   "outputs": [
    {
     "data": {
      "text/latex": [
       "$$\\left ( \\left [ \\left[\\begin{matrix}0 & 0\\\\0 & 0\\end{matrix}\\right], \\quad \\left[\\begin{matrix}0 & 0\\\\0 & 0\\end{matrix}\\right]\\right ], \\quad \\left [ \\left[\\begin{matrix}0 & 0\\\\0 & 0\\end{matrix}\\right], \\quad \\left[\\begin{matrix}0 & 0\\\\0 & 0\\end{matrix}\\right]\\right ], \\quad \\left [ \\left[\\begin{matrix}J_{111} & 0\\\\0 & 0\\end{matrix}\\right], \\quad \\left[\\begin{matrix}0 & 0\\\\0 & J_{222}\\end{matrix}\\right]\\right ], \\quad \\left [ \\left[\\begin{matrix}K_{111} & 0\\\\0 & 0\\end{matrix}\\right], \\quad \\left[\\begin{matrix}0 & 0\\\\0 & K_{222}\\end{matrix}\\right]\\right ]\\right )$$"
      ],
      "text/plain": [
       "⎛⎡⎡0  0⎤, ⎡0  0⎤⎤, ⎡⎡0  0⎤, ⎡0  0⎤⎤, ⎡⎡J₁₁₁  0⎤, ⎡0   0  ⎤⎤, ⎡⎡K₁₁₁  0⎤, ⎡0   \n",
       "⎜⎢⎢    ⎥  ⎢    ⎥⎥  ⎢⎢    ⎥  ⎢    ⎥⎥  ⎢⎢       ⎥  ⎢       ⎥⎥  ⎢⎢       ⎥  ⎢    \n",
       "⎝⎣⎣0  0⎦  ⎣0  0⎦⎦  ⎣⎣0  0⎦  ⎣0  0⎦⎦  ⎣⎣ 0    0⎦  ⎣0  J₂₂₂⎦⎦  ⎣⎣ 0    0⎦  ⎣0  K\n",
       "\n",
       "0  ⎤⎤⎞\n",
       "   ⎥⎥⎟\n",
       "₂₂₂⎦⎦⎠"
      ]
     },
     "execution_count": 6,
     "metadata": {},
     "output_type": "execute_result"
    }
   ],
   "source": [
    "M,N,J,K"
   ]
  },
  {
   "cell_type": "code",
   "execution_count": 7,
   "metadata": {
    "collapsed": false
   },
   "outputs": [
    {
     "data": {
      "image/png": "[encoded data removed]",
      "text/latex": [
       "$$\\left [ J_{111}, \\quad J_{122}, \\quad J_{211}, \\quad J_{222}, \\quad K_{111}, \\quad K_{122}, \\quad K_{211}, \\quad K_{222}\\right ]$$"
      ],
      "text/plain": [
       "[J₁₁₁, J₁₂₂, J₂₁₁, J₂₂₂, K₁₁₁, K₁₂₂, K₂₁₁, K₂₂₂]"
      ]
     },
     "execution_count": 7,
     "metadata": {},
     "output_type": "execute_result"
    }
   ],
   "source": [
    "c = c1 + c2 + c3 + c4 + c5 + c6 + c7 + c8 + c9 + c10\n",
    "c = list(filter(lambda a: a != 0, c))\n",
    "c"
   ]
  },
  {
   "cell_type": "code",
   "execution_count": 8,
   "metadata": {
    "collapsed": false
   },
   "outputs": [
    {
     "data": {
      "image/png": "[encoded data removed]",
      "text/latex": [
       "$$\\left \\{ J_{111} : 1, \\quad J_{122} : 1, \\quad J_{211} : 1, \\quad J_{222} : 1, \\quad K_{111} : 1, \\quad K_{122} : 1, \\quad K_{211} : 1, \\quad K_{222} : 1\\right \\}$$"
      ],
      "text/plain": [
       "{J₁₁₁: 1, J₁₂₂: 1, J₂₁₁: 1, J₂₂₂: 1, K₁₁₁: 1, K₁₂₂: 1, K₂₁₁: 1, K₂₂₂: 1}"
      ]
     },
     "execution_count": 8,
     "metadata": {},
     "output_type": "execute_result"
    }
   ],
   "source": [
    "dc = {}\n",
    "for x in c:\n",
    "    dc[x]=1\n",
    "dc"
   ]
  },
  {
   "cell_type": "code",
   "execution_count": 9,
   "metadata": {
    "collapsed": false
   },
   "outputs": [
    {
     "data": {
      "image/png": "[encoded data removed]",
      "text/latex": [
       "$$\\left \\{ E_{1} : 1, \\quad E_{2} : 1, \\quad I_{1} : 1, \\quad I_{2} : 1, \\quad \\Phi : 1\\right \\}$$"
      ],
      "text/plain": [
       "{E₁: 1, E₂: 1, I₁: 1, I₂: 1, \\Phi: 1}"
      ]
     },
     "execution_count": 9,
     "metadata": {},
     "output_type": "execute_result"
    }
   ],
   "source": [
    "dZE = {}\n",
    "for x in ZE:\n",
    "    dZE[x]=1\n",
    "dZE"
   ]
  },
  {
   "cell_type": "code",
   "execution_count": 10,
   "metadata": {
    "collapsed": false
   },
   "outputs": [
    {
     "data": {
      "image/png": "[encoded data removed]",
      "text/latex": [
       "$$\\left [ F{\\left (\\Phi,E_{1},E_{2},I_{1},I_{2} \\right )}, \\quad E_{1}^{2} J_{111}, \\quad E_{2}^{2} J_{222}, \\quad I_{1}^{2} K_{111}, \\quad I_{2}^{2} K_{222}\\right ]$$"
      ],
      "text/plain": [
       "⎡                           2         2         2         2     ⎤\n",
       "⎣F(\\Phi, E₁, E₂, I₁, I₂), E₁ ⋅J₁₁₁, E₂ ⋅J₂₂₂, I₁ ⋅K₁₁₁, I₂ ⋅K₂₂₂⎦"
      ]
     },
     "execution_count": 10,
     "metadata": {},
     "output_type": "execute_result"
    }
   ],
   "source": [
    "L0 = GI_difeomorphism(A,B,C,D,G,H,M,N,J,K,n,ZX,ZE)\n",
    "L0"
   ]
  },
  {
   "cell_type": "code",
   "execution_count": 11,
   "metadata": {
    "collapsed": false
   },
   "outputs": [],
   "source": [
    "#L0[1] = A[0]*ZE[1]\n",
    "#L0[2] = A[1]*ZE[2]\n",
    "#L0[3] = D[1]*ZE[3]*(ZE[1]*ZE[3]+ZE[2]*ZE[4])\n",
    "#L0[4] = D[0]*ZE[4]*(ZE[1]*ZE[3]+ZE[2]*ZE[4])"
   ]
  },
  {
   "cell_type": "code",
   "execution_count": 12,
   "metadata": {
    "collapsed": false
   },
   "outputs": [
    {
     "data": {
      "image/png": "[encoded data removed]",
      "text/latex": [
       "$$\\left [ F{\\left (\\Phi,E_{1},E_{2},I_{1},I_{2} \\right )}, \\quad E_{1}^{2} J_{111}, \\quad E_{2}^{2} J_{222}, \\quad I_{1}^{2} K_{111}, \\quad I_{2}^{2} K_{222}\\right ]$$"
      ],
      "text/plain": [
       "⎡                           2         2         2         2     ⎤\n",
       "⎣F(\\Phi, E₁, E₂, I₁, I₂), E₁ ⋅J₁₁₁, E₂ ⋅J₂₂₂, I₁ ⋅K₁₁₁, I₂ ⋅K₂₂₂⎦"
      ]
     },
     "execution_count": 12,
     "metadata": {},
     "output_type": "execute_result"
    }
   ],
   "source": [
    "L0"
   ]
  },
  {
   "cell_type": "code",
   "execution_count": 13,
   "metadata": {
    "collapsed": true
   },
   "outputs": [],
   "source": [
    "S,EQS = poly_difeomorphism(L0,ZE,dc,dZE)\n"
   ]
  },
  {
   "cell_type": "code",
   "execution_count": 14,
   "metadata": {
    "collapsed": false
   },
   "outputs": [
    {
     "data": {
      "text/latex": [
       "$$\\left[\\begin{matrix}0 & 0 & 0 & 0 & 0\\\\0 & 0 & 0 & 2 E_{1} I_{1} J_{111} K_{111} & 0\\\\0 & 0 & 0 & 0 & 2 E_{2} I_{2} J_{222} K_{222}\\\\0 & 0 & 0 & 0 & 0\\\\0 & 0 & 0 & 0 & 0\\end{matrix}\\right]$$"
      ],
      "text/plain": [
       "⎡0  0  0          0                  0        ⎤\n",
       "⎢                                             ⎥\n",
       "⎢0  0  0  2⋅E₁⋅I₁⋅J₁₁₁⋅K₁₁₁          0        ⎥\n",
       "⎢                                             ⎥\n",
       "⎢0  0  0          0          2⋅E₂⋅I₂⋅J₂₂₂⋅K₂₂₂⎥\n",
       "⎢                                             ⎥\n",
       "⎢0  0  0          0                  0        ⎥\n",
       "⎢                                             ⎥\n",
       "⎣0  0  0          0                  0        ⎦"
      ]
     },
     "execution_count": 14,
     "metadata": {},
     "output_type": "execute_result"
    }
   ],
   "source": [
    "S"
   ]
  },
  {
   "cell_type": "code",
   "execution_count": 15,
   "metadata": {
    "collapsed": false
   },
   "outputs": [
    {
     "data": {
      "text/latex": [
       "$$\\left[\\begin{matrix}\\left \\{ \\right \\} & \\left \\{ \\right \\} & \\left \\{ \\right \\} & \\left \\{ \\right \\} & \\left \\{ \\right \\}\\\\0 & \\left \\{ \\right \\} & \\left \\{ \\right \\} & \\left \\{ 1 : J_{111} + K_{111} + 2, \\quad E_{1} : 1, \\quad I_{1} : 1\\right \\} & \\left \\{ \\right \\}\\\\0 & 0 & \\left \\{ \\right \\} & \\left \\{ \\right \\} & \\left \\{ 1 : J_{222} + K_{222} + 2, \\quad E_{2} : 1, \\quad I_{2} : 1\\right \\}\\\\0 & 0 & 0 & \\left \\{ \\right \\} & \\left \\{ \\right \\}\\\\0 & 0 & 0 & 0 & \\left \\{ \\right \\}\\end{matrix}\\right]$$"
      ],
      "text/plain": [
       "⎡{}  {}  {}                  {}                                  {}           \n",
       "⎢                                                                             \n",
       "⎢0   {}  {}  {1: J₁₁₁ + K₁₁₁ + 2, E₁: 1, I₁: 1}                  {}           \n",
       "⎢                                                                             \n",
       "⎢0   0   {}                  {}                  {1: J₂₂₂ + K₂₂₂ + 2, E₂: 1, I\n",
       "⎢                                                                             \n",
       "⎢0   0   0                   {}                                  {}           \n",
       "⎢                                                                             \n",
       "⎣0   0   0                   0                                   {}           \n",
       "\n",
       "     ⎤\n",
       "     ⎥\n",
       "     ⎥\n",
       "     ⎥\n",
       "₂: 1}⎥\n",
       "     ⎥\n",
       "     ⎥\n",
       "     ⎥\n",
       "     ⎦"
      ]
     },
     "execution_count": 15,
     "metadata": {},
     "output_type": "execute_result"
    }
   ],
   "source": [
    "EQS"
   ]
  },
  {
   "cell_type": "code",
   "execution_count": 16,
   "metadata": {
    "collapsed": false
   },
   "outputs": [],
   "source": [
    "f = zeros(n)\n",
    "h = zeros(n)\n",
    "for x in range(0,n):\n",
    "    for y in range(0,n):\n",
    "        if x == y: \n",
    "            if x == 0:\n",
    "                f[x,y]=1/(ZE[1]*ZE[3])\n",
    "            if y == 1:\n",
    "                f[x,y]=1/(ZE[2]*ZE[4])\n",
    "        if x == y: h[x,y]=Function('h')(*ZE)\n",
    "#(ZE[x+1]*ZE[x+1+n])#Symbol('f_{'+str(x+1)+str(y+1)+'}')#(*ZX)"
   ]
  },
  {
   "cell_type": "code",
   "execution_count": 17,
   "metadata": {
    "collapsed": false
   },
   "outputs": [
    {
     "data": {
      "text/latex": [
       "$$\\left[\\begin{matrix}\\frac{1}{E_{1} I_{1}} & 0\\\\0 & \\frac{1}{E_{2} I_{2}}\\end{matrix}\\right]$$"
      ],
      "text/plain": [
       "⎡  1         ⎤\n",
       "⎢─────    0  ⎥\n",
       "⎢E₁⋅I₁       ⎥\n",
       "⎢            ⎥\n",
       "⎢         1  ⎥\n",
       "⎢  0    ─────⎥\n",
       "⎣       E₂⋅I₂⎦"
      ]
     },
     "execution_count": 17,
     "metadata": {},
     "output_type": "execute_result"
    }
   ],
   "source": [
    "f"
   ]
  },
  {
   "cell_type": "code",
   "execution_count": 18,
   "metadata": {
    "collapsed": false
   },
   "outputs": [
    {
     "data": {
      "image/png": "[encoded data removed]",
      "text/latex": [
       "$$\\left [ \\Phi, \\quad E_{1}^{2} J_{111}, \\quad E_{2}^{2} J_{222}, \\quad I_{1}^{2} K_{111}, \\quad I_{2}^{2} K_{222}\\right ]$$"
      ],
      "text/plain": [
       "⎡        2         2         2         2     ⎤\n",
       "⎣\\Phi, E₁ ⋅J₁₁₁, E₂ ⋅J₂₂₂, I₁ ⋅K₁₁₁, I₂ ⋅K₂₂₂⎦"
      ]
     },
     "execution_count": 18,
     "metadata": {},
     "output_type": "execute_result"
    }
   ],
   "source": [
    "L0[0]=ZE[0]#+ZE[1]+ ZE[3]\n",
    "L0"
   ]
  },
  {
   "cell_type": "code",
   "execution_count": 19,
   "metadata": {
    "collapsed": false
   },
   "outputs": [],
   "source": [
    "H1,S1 = difeomorphism_equations005(L0,ZE,simplify,f,h,0,2*n+1)"
   ]
  },
  {
   "cell_type": "code",
   "execution_count": 20,
   "metadata": {
    "collapsed": false
   },
   "outputs": [
    {
     "data": {
      "text/latex": [
       "$$\\left[\\begin{matrix}1 & - 2 I_{1} J_{111} K_{111} & - 2 I_{2} J_{222} K_{222} & 0 & 0\\\\- 2 I_{1} J_{111} K_{111} & 4 I_{1}^{2} J_{111}^{2} K_{111}^{2} & 4 I_{1} I_{2} J_{111} J_{222} K_{111} K_{222} & 0 & 0\\\\- 2 I_{2} J_{222} K_{222} & 4 I_{1} I_{2} J_{111} J_{222} K_{111} K_{222} & 4 I_{2}^{2} J_{222}^{2} K_{222}^{2} & 0 & 0\\\\0 & 0 & 0 & 0 & 0\\\\0 & 0 & 0 & 0 & 0\\end{matrix}\\right]$$"
      ],
      "text/plain": [
       "⎡       1               -2⋅I₁⋅J₁₁₁⋅K₁₁₁              -2⋅I₂⋅J₂₂₂⋅K₂₂₂        0 \n",
       "⎢                                                                             \n",
       "⎢                          2     2     2                                      \n",
       "⎢-2⋅I₁⋅J₁₁₁⋅K₁₁₁       4⋅I₁ ⋅J₁₁₁ ⋅K₁₁₁        4⋅I₁⋅I₂⋅J₁₁₁⋅J₂₂₂⋅K₁₁₁⋅K₂₂₂  0 \n",
       "⎢                                                                             \n",
       "⎢                                                       2     2     2         \n",
       "⎢-2⋅I₂⋅J₂₂₂⋅K₂₂₂  4⋅I₁⋅I₂⋅J₁₁₁⋅J₂₂₂⋅K₁₁₁⋅K₂₂₂       4⋅I₂ ⋅J₂₂₂ ⋅K₂₂₂        0 \n",
       "⎢                                                                             \n",
       "⎢       0                      0                            0               0 \n",
       "⎢                                                                             \n",
       "⎣       0                      0                            0               0 \n",
       "\n",
       " 0⎤\n",
       "  ⎥\n",
       "  ⎥\n",
       " 0⎥\n",
       "  ⎥\n",
       "  ⎥\n",
       " 0⎥\n",
       "  ⎥\n",
       " 0⎥\n",
       "  ⎥\n",
       " 0⎦"
      ]
     },
     "execution_count": 20,
     "metadata": {},
     "output_type": "execute_result"
    }
   ],
   "source": [
    "H1"
   ]
  },
  {
   "cell_type": "code",
   "execution_count": 21,
   "metadata": {
    "collapsed": false
   },
   "outputs": [
    {
     "data": {
      "text/latex": [
       "$$\\left[\\begin{matrix}0 & 0 & 0 & 0 & 0\\\\0 & 0 & 0 & 2 E_{1} I_{1} J_{111} K_{111} & 0\\\\0 & 0 & 0 & 0 & 2 E_{2} I_{2} J_{222} K_{222}\\\\0 & 2 E_{1} I_{1} J_{111} K_{111} & 0 & 0 & 0\\\\0 & 0 & 2 E_{2} I_{2} J_{222} K_{222} & 0 & 0\\end{matrix}\\right]$$"
      ],
      "text/plain": [
       "⎡0          0                  0                  0                  0        \n",
       "⎢                                                                             \n",
       "⎢0          0                  0          2⋅E₁⋅I₁⋅J₁₁₁⋅K₁₁₁          0        \n",
       "⎢                                                                             \n",
       "⎢0          0                  0                  0          2⋅E₂⋅I₂⋅J₂₂₂⋅K₂₂₂\n",
       "⎢                                                                             \n",
       "⎢0  2⋅E₁⋅I₁⋅J₁₁₁⋅K₁₁₁          0                  0                  0        \n",
       "⎢                                                                             \n",
       "⎣0          0          2⋅E₂⋅I₂⋅J₂₂₂⋅K₂₂₂          0                  0        \n",
       "\n",
       "⎤\n",
       "⎥\n",
       "⎥\n",
       "⎥\n",
       "⎥\n",
       "⎥\n",
       "⎥\n",
       "⎥\n",
       "⎦"
      ]
     },
     "execution_count": 21,
     "metadata": {},
     "output_type": "execute_result"
    }
   ],
   "source": [
    "S1"
   ]
  },
  {
   "cell_type": "code",
   "execution_count": 22,
   "metadata": {
    "collapsed": false
   },
   "outputs": [
    {
     "data": {
      "text/latex": [
       "$$\\left[\\begin{matrix}1 & - 2 I_{1} J_{111} K_{111} & - 2 I_{2} J_{222} K_{222} & 0 & 0\\\\- 2 I_{1} J_{111} K_{111} & 4 I_{1}^{2} J_{111}^{2} K_{111}^{2} & 4 I_{1} I_{2} J_{111} J_{222} K_{111} K_{222} & 2 E_{1} I_{1} J_{111} K_{111} & 0\\\\- 2 I_{2} J_{222} K_{222} & 4 I_{1} I_{2} J_{111} J_{222} K_{111} K_{222} & 4 I_{2}^{2} J_{222}^{2} K_{222}^{2} & 0 & 2 E_{2} I_{2} J_{222} K_{222}\\\\0 & 2 E_{1} I_{1} J_{111} K_{111} & 0 & 0 & 0\\\\0 & 0 & 2 E_{2} I_{2} J_{222} K_{222} & 0 & 0\\end{matrix}\\right]$$"
      ],
      "text/plain": [
       "⎡       1               -2⋅I₁⋅J₁₁₁⋅K₁₁₁              -2⋅I₂⋅J₂₂₂⋅K₂₂₂          \n",
       "⎢                                                                             \n",
       "⎢                          2     2     2                                      \n",
       "⎢-2⋅I₁⋅J₁₁₁⋅K₁₁₁       4⋅I₁ ⋅J₁₁₁ ⋅K₁₁₁        4⋅I₁⋅I₂⋅J₁₁₁⋅J₂₂₂⋅K₁₁₁⋅K₂₂₂  2⋅\n",
       "⎢                                                                             \n",
       "⎢                                                       2     2     2         \n",
       "⎢-2⋅I₂⋅J₂₂₂⋅K₂₂₂  4⋅I₁⋅I₂⋅J₁₁₁⋅J₂₂₂⋅K₁₁₁⋅K₂₂₂       4⋅I₂ ⋅J₂₂₂ ⋅K₂₂₂          \n",
       "⎢                                                                             \n",
       "⎢       0              2⋅E₁⋅I₁⋅J₁₁₁⋅K₁₁₁                    0                 \n",
       "⎢                                                                             \n",
       "⎣       0                      0                    2⋅E₂⋅I₂⋅J₂₂₂⋅K₂₂₂         \n",
       "\n",
       "      0                  0        ⎤\n",
       "                                  ⎥\n",
       "                                  ⎥\n",
       "E₁⋅I₁⋅J₁₁₁⋅K₁₁₁          0        ⎥\n",
       "                                  ⎥\n",
       "                                  ⎥\n",
       "      0          2⋅E₂⋅I₂⋅J₂₂₂⋅K₂₂₂⎥\n",
       "                                  ⎥\n",
       "      0                  0        ⎥\n",
       "                                  ⎥\n",
       "      0                  0        ⎦"
      ]
     },
     "execution_count": 22,
     "metadata": {},
     "output_type": "execute_result"
    }
   ],
   "source": [
    "H1+S1"
   ]
  },
  {
   "cell_type": "code",
   "execution_count": 24,
   "metadata": {
    "collapsed": false
   },
   "outputs": [],
   "source": [
    "check_me = []\n",
    "difeo_eqs = []\n",
    "LD = []\n",
    "LD.append(L0)\n",
    "D_LD = []\n",
    "D_LD.append(0)\n",
    "\n",
    "for i in range(0,len(LD)):\n",
    "    Z0 = LD[i]\n",
    "    H=[]\n",
    "    S = zeros(n)\n",
    "    H,S = difeomorphism_equations002(Z0,ZE,expand,f,h,0,2*n+1)\n",
    "    \n",
    "    mixed_test = []\n",
    "    t3 = 0\n",
    "    t1 = t2 = 1\n",
    "    for x in range(0,2*n+1):\n",
    "        for y in range(x,2*n+1):\n",
    "            if x != y:\n",
    "                t1 = diff(H[x][1],ZE[y])\n",
    "                t2 = diff(H[y][1],ZE[x])\n",
    "                d1 = diff(H[x][0],ZE[y])\n",
    "                d2 = diff(H[y][0],ZE[x])\n",
    "                t3 = t3 + t1 + t2\n",
    "                mixed_test.append((t1,t2))\n",
    "    if t3 != 0:\n",
    "        difeo_eqs.append((S,H,Z0,D_LD[i],f))\n",
    "        check_me.append(mixed_test)"
   ]
  },
  {
   "cell_type": "code",
   "execution_count": 25,
   "metadata": {
    "collapsed": false
   },
   "outputs": [
    {
     "data": {
      "image/png": "[encoded data removed]",
      "text/latex": [
       "$$\\left [ \\left [ \\left ( 0, \\quad 0\\right ), \\quad \\left ( 0, \\quad 0\\right ), \\quad \\left ( 0, \\quad 0\\right ), \\quad \\left ( 0, \\quad 0\\right ), \\quad \\left ( 0, \\quad 0\\right ), \\quad \\left ( 2 J_{111} K_{111} - 1, \\quad 0\\right ), \\quad \\left ( 0, \\quad 0\\right ), \\quad \\left ( 0, \\quad 0\\right ), \\quad \\left ( 2 J_{222} K_{222} - 1, \\quad 0\\right ), \\quad \\left ( 0, \\quad 0\\right )\\right ]\\right ]$$"
      ],
      "text/plain": [
       "[[(0, 0), (0, 0), (0, 0), (0, 0), (0, 0), (2⋅J₁₁₁⋅K₁₁₁ - 1, 0), (0, 0), (0, 0)\n",
       ", (2⋅J₂₂₂⋅K₂₂₂ - 1, 0), (0, 0)]]"
      ]
     },
     "execution_count": 25,
     "metadata": {},
     "output_type": "execute_result"
    }
   ],
   "source": [
    "check_me"
   ]
  },
  {
   "cell_type": "code",
   "execution_count": 27,
   "metadata": {
    "collapsed": false
   },
   "outputs": [
    {
     "data": {
      "image/png": "[encoded data removed]",
      "text/latex": [
       "$$\\left [ \\left ( 1, \\quad 1, \\quad \\Phi\\right ), \\quad \\left ( 0, \\quad 2 I_{1} J_{111} K_{111} - I_{1}, \\quad 2 E_{1} I_{1} J_{111} K_{111} - E_{1} I_{1}\\right ), \\quad \\left ( 0, \\quad 2 I_{2} J_{222} K_{222} - I_{2}, \\quad 2 E_{2} I_{2} J_{222} K_{222} - E_{2} I_{2}\\right ), \\quad \\left ( 0, \\quad 0, \\quad 0\\right ), \\quad \\left ( 0, \\quad 0, \\quad 0\\right )\\right ]$$"
      ],
      "text/plain": [
       "[(1, 1, \\Phi), (0, 2⋅I₁⋅J₁₁₁⋅K₁₁₁ - I₁, 2⋅E₁⋅I₁⋅J₁₁₁⋅K₁₁₁ - E₁⋅I₁), (0, 2⋅I₂⋅J\n",
       "₂₂₂⋅K₂₂₂ - I₂, 2⋅E₂⋅I₂⋅J₂₂₂⋅K₂₂₂ - E₂⋅I₂), (0, 0, 0), (0, 0, 0)]"
      ]
     },
     "execution_count": 27,
     "metadata": {},
     "output_type": "execute_result"
    }
   ],
   "source": [
    "difeo_eqs[0][1]"
   ]
  },
  {
   "cell_type": "code",
   "execution_count": null,
   "metadata": {
    "collapsed": true
   },
   "outputs": [],
   "source": []
  }
 ],
 "metadata": {
  "kernelspec": {
   "display_name": "Python 3",
   "language": "python",
   "name": "python3"
  },
  "language_info": {
   "codemirror_mode": {
    "name": "ipython",
    "version": 3
   },
   "file_extension": ".py",
   "mimetype": "text/x-python",
   "name": "python",
   "nbconvert_exporter": "python",
   "pygments_lexer": "ipython3",
   "version": "3.5.1"
  }
 },
 "nbformat": 4,
 "nbformat_minor": 0
}
