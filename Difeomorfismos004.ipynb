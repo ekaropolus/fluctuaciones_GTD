{
 "metadata": {
  "name": "Difeomorfismos004"
 },
 "nbformat": 3,
 "nbformat_minor": 0,
 "worksheets": [
  {
   "cells": [
    {
     "cell_type": "code",
     "collapsed": false,
     "input": [
      "from difeomorfismo import *\n",
      "init_printing()"
     ],
     "language": "python",
     "metadata": {},
     "outputs": [],
     "prompt_number": 1
    },
    {
     "cell_type": "code",
     "collapsed": false,
     "input": [
      "n = 1"
     ],
     "language": "python",
     "metadata": {},
     "outputs": [],
     "prompt_number": 2
    },
    {
     "cell_type": "heading",
     "level": 1,
     "metadata": {},
     "source": [
      "Difeomorfismo"
     ]
    },
    {
     "cell_type": "heading",
     "level": 6,
     "metadata": {},
     "source": [
      "Variables del difeomorfismo"
     ]
    },
    {
     "cell_type": "code",
     "collapsed": false,
     "input": [
      "Z = []\n",
      "B = []\n",
      "B,Z = n_grados001(n)\n",
      "Z, B"
     ],
     "language": "python",
     "metadata": {},
     "outputs": [
      {
       "latex": [
        "$$\\begin{pmatrix}\\begin{bmatrix}F, & X_{1}, & Y_{1}\\end{bmatrix}, & \\begin{bmatrix}\\Phi, & E_{1}, & I_{1}\\end{bmatrix}\\end{pmatrix}$$"
       ],
       "output_type": "pyout",
       "prompt_number": 3,
       "text": [
        "([F, X\u2081, Y\u2081], [\\Phi, E\u2081, I\u2081])"
       ]
      }
     ],
     "prompt_number": 3
    },
    {
     "cell_type": "heading",
     "level": 6,
     "metadata": {},
     "source": [
      "Relaci\u00f3n entre ellas, caso nada depende de F"
     ]
    },
    {
     "cell_type": "code",
     "collapsed": false,
     "input": [
      "s = [[1,1,1,1,1],[1,2,2,1,1],[1,2,2,1,1],[1,1,1,1,1],[1,1,1,1,1]]\n",
      "g = [0,2,3,1,1]\n",
      "Z0,c = difeomorphism_sop(Z,B,s)\n",
      "Z0"
     ],
     "language": "python",
     "metadata": {},
     "outputs": [
      {
       "latex": [
        "$$\\begin{bmatrix}E_{1} I_{1} \\Phi12 + E_{1} \\Phi \\Phi01 + E_{1} \\Phi13 + I_{1} \\Phi \\Phi02 + I_{1} \\Phi23 + \\Phi \\Phi03, & E_{1}^{2} E_{102} \\Phi + E_{1}^{2} E_{123} I_{1} + E_{1}^{2} E_{124} I_{1}^{2} + E_{1}^{2} E_{125} + E_{1} E_{101} \\Phi + E_{1} E_{113} I_{1} + E_{1} E_{114} I_{1}^{2} + E_{1} E_{115} + E_{103} I_{1} \\Phi + E_{104} I_{1}^{2} \\Phi + E_{105} \\Phi + E_{135} I_{1} + E_{145} I_{1}^{2}, & E_{1}^{2} I_{1}^{2} I_{124} + E_{1}^{2} I_{1} I_{123} + E_{1}^{2} I_{102} \\Phi + E_{1}^{2} I_{125} + E_{1} I_{1}^{2} I_{114} + E_{1} I_{1} I_{113} + E_{1} I_{101} \\Phi + E_{1} I_{115} + I_{1}^{2} I_{104} \\Phi + I_{1}^{2} I_{145} + I_{1} I_{103} \\Phi + I_{1} I_{135} + I_{105} \\Phi\\end{bmatrix}$$"
       ],
       "output_type": "pyout",
       "prompt_number": 17,
       "text": [
        "\u23a1                                                                             \n",
        "\u23a3E\u2081\u22c5I\u2081\u22c5\\Phi12 + E\u2081\u22c5\\Phi\u22c5\\Phi01 + E\u2081\u22c5\\Phi13 + I\u2081\u22c5\\Phi\u22c5\\Phi02 + I\u2081\u22c5\\Phi23 + \\Phi\n",
        "\n",
        "           2               2             2        2     2                     \n",
        "\u22c5\\Phi03, E\u2081 \u22c5E\u2081\u2080\u2082\u22c5\\Phi + E\u2081 \u22c5E\u2081\u2082\u2083\u22c5I\u2081 + E\u2081 \u22c5E\u2081\u2082\u2084\u22c5I\u2081  + E\u2081 \u22c5E\u2081\u2082\u2085 + E\u2081\u22c5E\u2081\u2080\u2081\u22c5\\Phi \n",
        "\n",
        "                         2                                   2                \n",
        "+ E\u2081\u22c5E\u2081\u2081\u2083\u22c5I\u2081 + E\u2081\u22c5E\u2081\u2081\u2084\u22c5I\u2081  + E\u2081\u22c5E\u2081\u2081\u2085 + E\u2081\u2080\u2083\u22c5I\u2081\u22c5\\Phi + E\u2081\u2080\u2084\u22c5I\u2081 \u22c5\\Phi + E\u2081\u2080\u2085\u22c5\\Ph\n",
        "\n",
        "                     2    2   2          2             2               2      \n",
        "i + E\u2081\u2083\u2085\u22c5I\u2081 + E\u2081\u2084\u2085\u22c5I\u2081 , E\u2081 \u22c5I\u2081 \u22c5I\u2081\u2082\u2084 + E\u2081 \u22c5I\u2081\u22c5I\u2081\u2082\u2083 + E\u2081 \u22c5I\u2081\u2080\u2082\u22c5\\Phi + E\u2081 \u22c5I\u2081\u2082\u2085 \n",
        "\n",
        "       2                                                2               2     \n",
        "+ E\u2081\u22c5I\u2081 \u22c5I\u2081\u2081\u2084 + E\u2081\u22c5I\u2081\u22c5I\u2081\u2081\u2083 + E\u2081\u22c5I\u2081\u2080\u2081\u22c5\\Phi + E\u2081\u22c5I\u2081\u2081\u2085 + I\u2081 \u22c5I\u2081\u2080\u2084\u22c5\\Phi + I\u2081 \u22c5I\u2081\u2084\u2085\n",
        "\n",
        "                                     \u23a4\n",
        " + I\u2081\u22c5I\u2081\u2080\u2083\u22c5\\Phi + I\u2081\u22c5I\u2081\u2083\u2085 + I\u2081\u2080\u2085\u22c5\\Phi\u23a6"
       ]
      }
     ],
     "prompt_number": 17
    },
    {
     "cell_type": "code",
     "collapsed": false,
     "input": [
      "\n",
      "Z0[1]=pow(B[1],2)\n",
      "Z0[2]=pow(B[2],2)#+pow(B[1],2)\n",
      "#Z0[3]=B[1]*pow(B[3],2)#+pow(B[4],2)\n",
      "#Z0[4]=B[2]*pow(B[4],2)#+pow(B[3],2)\n",
      "#Z0[0]=pow(B[2]*B[4],2)\n",
      "Z0"
     ],
     "language": "python",
     "metadata": {},
     "outputs": [
      {
       "latex": [
        "$$\\begin{bmatrix}\\operatorname{\\Phi}{\\left (F,X_{1} \\right )}, & X_{1}^{2}, & Y_{1}^{2}\\end{bmatrix}$$"
       ],
       "output_type": "pyout",
       "prompt_number": 21,
       "text": [
        "\u23a1               2    2\u23a4\n",
        "\u23a3\\Phi(F, X\u2081), X\u2081 , Y\u2081 \u23a6"
       ]
      }
     ],
     "prompt_number": 21
    },
    {
     "cell_type": "heading",
     "level": 6,
     "metadata": {},
     "source": [
      "Matriz de la GTD a usar"
     ]
    },
    {
     "cell_type": "code",
     "collapsed": false,
     "input": [
      "N = matrix_gtdieI(Z,B)\n",
      "N"
     ],
     "language": "python",
     "metadata": {},
     "outputs": [
      {
       "latex": [
        "$$\\begin{bmatrix}1, & E_{1} I_{1}\\end{bmatrix}$$"
       ],
       "output_type": "pyout",
       "prompt_number": 18,
       "text": [
        "[1, E\u2081\u22c5I\u2081]"
       ]
      }
     ],
     "prompt_number": 18
    },
    {
     "cell_type": "heading",
     "level": 6,
     "metadata": {},
     "source": [
      "Ecuaciones del difeomorfismo"
     ]
    },
    {
     "cell_type": "code",
     "collapsed": false,
     "input": [
      "H = zeros(n)\n",
      "S = zeros(n)\n",
      "H,S = difeomorphism_equations002(Z0,B,simplify,0,N,0,2*n+1)\n",
      "S,H"
     ],
     "language": "python",
     "metadata": {},
     "outputs": [
      {
       "latex": [
        "$$\\begin{pmatrix}\\left[\\begin{smallmatrix}\\left(E_{1}^{2} E_{102} + E_{1} E_{101} + E_{103} I_{1} + E_{104} I_{1}^{2} + E_{105}\\right) \\left(E_{1}^{2} I_{102} + E_{1} I_{101} + I_{1}^{2} I_{104} + I_{1} I_{103} + I_{105}\\right) & \\left(E_{1}^{2} E_{102} + E_{1} E_{101} + E_{103} I_{1} + E_{104} I_{1}^{2} + E_{105}\\right) \\left(2 E_{1} I_{1}^{2} I_{124} + 2 E_{1} I_{1} I_{123} + 2 E_{1} I_{102} \\Phi + 2 E_{1} I_{125} + I_{1}^{2} I_{114} + I_{1} I_{113} + I_{101} \\Phi + I_{115}\\right) & \\left(E_{1}^{2} E_{102} + E_{1} E_{101} + E_{103} I_{1} + E_{104} I_{1}^{2} + E_{105}\\right) \\left(2 E_{1}^{2} I_{1} I_{124} + E_{1}^{2} I_{123} + 2 E_{1} I_{1} I_{114} + E_{1} I_{113} + 2 I_{1} I_{104} \\Phi + 2 I_{1} I_{145} + I_{103} \\Phi + I_{135}\\right)\\\\0 & \\left(2 E_{1} E_{102} \\Phi + 2 E_{1} E_{123} I_{1} + 2 E_{1} E_{124} I_{1}^{2} + 2 E_{1} E_{125} + E_{101} \\Phi + E_{113} I_{1} + E_{114} I_{1}^{2} + E_{115}\\right) \\left(2 E_{1} I_{1}^{2} I_{124} + 2 E_{1} I_{1} I_{123} + 2 E_{1} I_{102} \\Phi + 2 E_{1} I_{125} + I_{1}^{2} I_{114} + I_{1} I_{113} + I_{101} \\Phi + I_{115}\\right) & - E_{1} I_{1} - f + \\left(2 E_{1} E_{102} \\Phi + 2 E_{1} E_{123} I_{1} + 2 E_{1} E_{124} I_{1}^{2} + 2 E_{1} E_{125} + E_{101} \\Phi + E_{113} I_{1} + E_{114} I_{1}^{2} + E_{115}\\right) \\left(2 E_{1}^{2} I_{1} I_{124} + E_{1}^{2} I_{123} + 2 E_{1} I_{1} I_{114} + E_{1} I_{113} + 2 I_{1} I_{104} \\Phi + 2 I_{1} I_{145} + I_{103} \\Phi + I_{135}\\right)\\\\0 & 0 & \\left(E_{1}^{2} E_{123} + 2 E_{1}^{2} E_{124} I_{1} + E_{1} E_{113} + 2 E_{1} E_{114} I_{1} + E_{103} \\Phi + 2 E_{104} I_{1} \\Phi + E_{135} + 2 E_{145} I_{1}\\right) \\left(2 E_{1}^{2} I_{1} I_{124} + E_{1}^{2} I_{123} + 2 E_{1} I_{1} I_{114} + E_{1} I_{113} + 2 I_{1} I_{104} \\Phi + 2 I_{1} I_{145} + I_{103} \\Phi + I_{135}\\right)\\end{smallmatrix}\\right], & \\left[\\begin{smallmatrix}0 & 0 & 0\\\\0 & 0 & 0\\\\0 & 0 & 0\\end{smallmatrix}\\right]\\end{pmatrix}$$"
       ],
       "output_type": "pyout",
       "prompt_number": 20,
       "text": [
        "\u239b\u23a1\u239b  2                                   2       \u239e \u239b  2                    2  \n",
        "\u239c\u23a2\u239dE\u2081 \u22c5E\u2081\u2080\u2082 + E\u2081\u22c5E\u2081\u2080\u2081 + E\u2081\u2080\u2083\u22c5I\u2081 + E\u2081\u2080\u2084\u22c5I\u2081  + E\u2081\u2080\u2085\u23a0\u22c5\u239dE\u2081 \u22c5I\u2081\u2080\u2082 + E\u2081\u22c5I\u2081\u2080\u2081 + I\u2081 \u22c5I\n",
        "\u239c\u23a2                                                                            \n",
        "\u239c\u23a2                                                                            \n",
        "\u239c\u23a2                                                0                           \n",
        "\u239c\u23a2                                                                            \n",
        "\u239c\u23a2                                                                            \n",
        "\u239d\u23a3                                                0                           \n",
        "\n",
        "                    \u239e                           \u239b  2                          \n",
        "\u2081\u2080\u2084 + I\u2081\u22c5I\u2081\u2080\u2083 + I\u2081\u2080\u2085\u23a0                           \u239dE\u2081 \u22c5E\u2081\u2080\u2082 + E\u2081\u22c5E\u2081\u2080\u2081 + E\u2081\u2080\u2083\u22c5I\u2081 \n",
        "                                                                              \n",
        "                       \u239b                                            2         \n",
        "                       \u239d2\u22c5E\u2081\u22c5E\u2081\u2080\u2082\u22c5\\Phi + 2\u22c5E\u2081\u22c5E\u2081\u2082\u2083\u22c5I\u2081 + 2\u22c5E\u2081\u22c5E\u2081\u2082\u2084\u22c5I\u2081  + 2\u22c5E\u2081\u22c5E\n",
        "                                                                              \n",
        "                                                                              \n",
        "                                                                              \n",
        "\n",
        "         2       \u239e \u239b       2                                                  \n",
        "+ E\u2081\u2080\u2084\u22c5I\u2081  + E\u2081\u2080\u2085\u23a0\u22c5\u239d2\u22c5E\u2081\u22c5I\u2081 \u22c5I\u2081\u2082\u2084 + 2\u22c5E\u2081\u22c5I\u2081\u22c5I\u2081\u2082\u2083 + 2\u22c5E\u2081\u22c5I\u2081\u2080\u2082\u22c5\\Phi + 2\u22c5E\u2081\u22c5I\u2081\u2082\u2085 \n",
        "                                                                              \n",
        "                                   2       \u239e \u239b       2                        \n",
        "\u2081\u2082\u2085 + E\u2081\u2080\u2081\u22c5\\Phi + E\u2081\u2081\u2083\u22c5I\u2081 + E\u2081\u2081\u2084\u22c5I\u2081  + E\u2081\u2081\u2085\u23a0\u22c5\u239d2\u22c5E\u2081\u22c5I\u2081 \u22c5I\u2081\u2082\u2084 + 2\u22c5E\u2081\u22c5I\u2081\u22c5I\u2081\u2082\u2083 + 2\n",
        "                                                                              \n",
        "                                                                              \n",
        "                                            0                                 \n",
        "\n",
        "    2                                  \u239e                                      \n",
        "+ I\u2081 \u22c5I\u2081\u2081\u2084 + I\u2081\u22c5I\u2081\u2081\u2083 + I\u2081\u2080\u2081\u22c5\\Phi + I\u2081\u2081\u2085\u23a0                                      \n",
        "                                                                              \n",
        "                              2                                  \u239e            \n",
        "\u22c5E\u2081\u22c5I\u2081\u2080\u2082\u22c5\\Phi + 2\u22c5E\u2081\u22c5I\u2081\u2082\u2085 + I\u2081 \u22c5I\u2081\u2081\u2084 + I\u2081\u22c5I\u2081\u2081\u2083 + I\u2081\u2080\u2081\u22c5\\Phi + I\u2081\u2081\u2085\u23a0  -E\u2081\u22c5I\u2081 - f\n",
        "                                                                              \n",
        "                                                                          \u239b  2\n",
        "                                                                          \u239dE\u2081 \n",
        "\n",
        "                      \u239b  2                                   2       \u239e \u239b    2 \n",
        "                      \u239dE\u2081 \u22c5E\u2081\u2080\u2082 + E\u2081\u22c5E\u2081\u2080\u2081 + E\u2081\u2080\u2083\u22c5I\u2081 + E\u2081\u2080\u2084\u22c5I\u2081  + E\u2081\u2080\u2085\u23a0\u22c5\u239d2\u22c5E\u2081 \u22c5\n",
        "                                                                              \n",
        "   \u239b                                            2                             \n",
        " + \u239d2\u22c5E\u2081\u22c5E\u2081\u2080\u2082\u22c5\\Phi + 2\u22c5E\u2081\u22c5E\u2081\u2082\u2083\u22c5I\u2081 + 2\u22c5E\u2081\u22c5E\u2081\u2082\u2084\u22c5I\u2081  + 2\u22c5E\u2081\u22c5E\u2081\u2082\u2085 + E\u2081\u2080\u2081\u22c5\\Phi + E\u2081\n",
        "                                                                              \n",
        "            2                                                                 \n",
        "\u22c5E\u2081\u2082\u2083 + 2\u22c5E\u2081 \u22c5E\u2081\u2082\u2084\u22c5I\u2081 + E\u2081\u22c5E\u2081\u2081\u2083 + 2\u22c5E\u2081\u22c5E\u2081\u2081\u2084\u22c5I\u2081 + E\u2081\u2080\u2083\u22c5\\Phi + 2\u22c5E\u2081\u2080\u2084\u22c5I\u2081\u22c5\\Phi + \n",
        "\n",
        "            2                                                                 \n",
        "I\u2081\u22c5I\u2081\u2082\u2084 + E\u2081 \u22c5I\u2081\u2082\u2083 + 2\u22c5E\u2081\u22c5I\u2081\u22c5I\u2081\u2081\u2084 + E\u2081\u22c5I\u2081\u2081\u2083 + 2\u22c5I\u2081\u22c5I\u2081\u2080\u2084\u22c5\\Phi + 2\u22c5I\u2081\u22c5I\u2081\u2084\u2085 + I\u2081\u2080\n",
        "                                                                              \n",
        "               2       \u239e \u239b    2             2                                 \n",
        "\u2081\u2083\u22c5I\u2081 + E\u2081\u2081\u2084\u22c5I\u2081  + E\u2081\u2081\u2085\u23a0\u22c5\u239d2\u22c5E\u2081 \u22c5I\u2081\u22c5I\u2081\u2082\u2084 + E\u2081 \u22c5I\u2081\u2082\u2083 + 2\u22c5E\u2081\u22c5I\u2081\u22c5I\u2081\u2081\u2084 + E\u2081\u22c5I\u2081\u2081\u2083 + \n",
        "                                                                              \n",
        "                \u239e \u239b    2             2                                        \n",
        "E\u2081\u2083\u2085 + 2\u22c5E\u2081\u2084\u2085\u22c5I\u2081\u23a0\u22c5\u239d2\u22c5E\u2081 \u22c5I\u2081\u22c5I\u2081\u2082\u2084 + E\u2081 \u22c5I\u2081\u2082\u2083 + 2\u22c5E\u2081\u22c5I\u2081\u22c5I\u2081\u2081\u2084 + E\u2081\u22c5I\u2081\u2081\u2083 + 2\u22c5I\u2081\u22c5I\u2081\n",
        "\n",
        "             \u239e                                \u23a4           \u239e\n",
        "\u2083\u22c5\\Phi + I\u2081\u2083\u2085\u23a0                                \u23a5, \u23a10  0  0\u23a4\u239f\n",
        "                                              \u23a5  \u23a2       \u23a5\u239f\n",
        "                                             \u239e\u23a5  \u23a20  0  0\u23a5\u239f\n",
        "2\u22c5I\u2081\u22c5I\u2081\u2080\u2084\u22c5\\Phi + 2\u22c5I\u2081\u22c5I\u2081\u2084\u2085 + I\u2081\u2080\u2083\u22c5\\Phi + I\u2081\u2083\u2085\u23a0\u23a5  \u23a2       \u23a5\u239f\n",
        "                                              \u23a5  \u23a30  0  0\u23a6\u239f\n",
        "                                      \u239e       \u23a5           \u239f\n",
        "\u2080\u2084\u22c5\\Phi + 2\u22c5I\u2081\u22c5I\u2081\u2084\u2085 + I\u2081\u2080\u2083\u22c5\\Phi + I\u2081\u2083\u2085\u23a0       \u23a6           \u23a0"
       ]
      }
     ],
     "prompt_number": 20
    },
    {
     "cell_type": "heading",
     "level": 6,
     "metadata": {},
     "source": [
      "Sector $$dI^adE^b$$"
     ]
    },
    {
     "cell_type": "code",
     "collapsed": false,
     "input": [
      "S[1:n+1,1+n:2*n+1],H[1:n+1,1+n:2*n+1]\n"
     ],
     "language": "python",
     "metadata": {},
     "outputs": [
      {
       "latex": [
        "$$\\begin{pmatrix}\\left[\\begin{smallmatrix}- E_{1} I_{1} - f + \\left(2 E_{1} E_{102} \\Phi + 2 E_{1} E_{123} I_{1} + 2 E_{1} E_{124} I_{1}^{2} + 2 E_{1} E_{125} + E_{101} \\Phi + E_{113} I_{1} + E_{114} I_{1}^{2} + E_{115}\\right) \\left(2 E_{1}^{2} I_{1} I_{124} + E_{1}^{2} I_{123} + 2 E_{1} I_{1} I_{114} + E_{1} I_{113} + 2 I_{1} I_{104} \\Phi + 2 I_{1} I_{145} + I_{103} \\Phi + I_{135}\\right)\\end{smallmatrix}\\right], & \\left[\\begin{smallmatrix}0\\end{smallmatrix}\\right]\\end{pmatrix}$$"
       ],
       "output_type": "pyout",
       "prompt_number": 21,
       "text": [
        "\u239b\u23a1             \u239b                                            2                 \n",
        "\u239d\u23a3-E\u2081\u22c5I\u2081 - f + \u239d2\u22c5E\u2081\u22c5E\u2081\u2080\u2082\u22c5\\Phi + 2\u22c5E\u2081\u22c5E\u2081\u2082\u2083\u22c5I\u2081 + 2\u22c5E\u2081\u22c5E\u2081\u2082\u2084\u22c5I\u2081  + 2\u22c5E\u2081\u22c5E\u2081\u2082\u2085 + E\u2081\n",
        "\n",
        "                           2       \u239e \u239b    2             2                     \n",
        "\u2080\u2081\u22c5\\Phi + E\u2081\u2081\u2083\u22c5I\u2081 + E\u2081\u2081\u2084\u22c5I\u2081  + E\u2081\u2081\u2085\u23a0\u22c5\u239d2\u22c5E\u2081 \u22c5I\u2081\u22c5I\u2081\u2082\u2084 + E\u2081 \u22c5I\u2081\u2082\u2083 + 2\u22c5E\u2081\u22c5I\u2081\u22c5I\u2081\u2081\u2084 \n",
        "\n",
        "                                                         \u239e\u23a4     \u239e\n",
        "+ E\u2081\u22c5I\u2081\u2081\u2083 + 2\u22c5I\u2081\u22c5I\u2081\u2080\u2084\u22c5\\Phi + 2\u22c5I\u2081\u22c5I\u2081\u2084\u2085 + I\u2081\u2080\u2083\u22c5\\Phi + I\u2081\u2083\u2085\u23a0\u23a6, [0]\u23a0"
       ]
      }
     ],
     "prompt_number": 21
    },
    {
     "cell_type": "code",
     "collapsed": false,
     "input": [
      "EQ=[]\n",
      "eq=[]\n",
      "Dummy = S\n",
      "for x in range(0,2*n+1):\n",
      "    for y in range(x,2*n+1):\n",
      "        eq.append(Eq(factor(S[x,y]),0))\n",
      "        \n"
     ],
     "language": "python",
     "metadata": {},
     "outputs": [],
     "prompt_number": 14
    },
    {
     "cell_type": "code",
     "collapsed": false,
     "input": [
      "len(EQ),EQ"
     ],
     "language": "python",
     "metadata": {},
     "outputs": [
      {
       "latex": [
        "$$\\begin{pmatrix}0, & \\begin{bmatrix}\\end{bmatrix}\\end{pmatrix}$$"
       ],
       "output_type": "pyout",
       "prompt_number": 15,
       "text": [
        "(0, [])"
       ]
      }
     ],
     "prompt_number": 15
    },
    {
     "cell_type": "code",
     "collapsed": false,
     "input": [
      "len(eq),eq"
     ],
     "language": "python",
     "metadata": {},
     "outputs": [
      {
       "latex": [
        "$$\\begin{pmatrix}6, & \\begin{bmatrix}True, & True, & True, & \\left(2 E_{1} E_{112} I_{1} + 2 E_{1} E_{113} I_{1}^{2} + 2 E_{1} E_{114} + E_{102} I_{1} + E_{103} I_{1}^{2} + E_{104}\\right) \\left(2 E_{1} I_{1}^{2} I_{113} + 2 E_{1} I_{1} I_{112} + 2 E_{1} I_{114} + I_{1}^{2} I_{103} + I_{1} I_{102} + I_{104}\\right) = 0, & 4 E_{1}^{3} E_{112} I_{1}^{2} I_{113} + 2 E_{1}^{3} E_{112} I_{1} I_{112} + 4 E_{1}^{3} E_{113} I_{1}^{3} I_{113} + 2 E_{1}^{3} E_{113} I_{1}^{2} I_{112} + 4 E_{1}^{3} E_{114} I_{1} I_{113} + 2 E_{1}^{3} E_{114} I_{112} + 2 E_{1}^{2} E_{102} I_{1}^{2} I_{113} + E_{1}^{2} E_{102} I_{1} I_{112} + 2 E_{1}^{2} E_{103} I_{1}^{3} I_{113} + E_{1}^{2} E_{103} I_{1}^{2} I_{112} + 2 E_{1}^{2} E_{104} I_{1} I_{113} + E_{1}^{2} E_{104} I_{112} + 4 E_{1}^{2} E_{112} I_{1}^{2} I_{103} + 2 E_{1}^{2} E_{112} I_{1} I_{102} + 4 E_{1}^{2} E_{113} I_{1}^{3} I_{103} + 2 E_{1}^{2} E_{113} I_{1}^{2} I_{102} + 4 E_{1}^{2} E_{114} I_{1} I_{103} + 2 E_{1}^{2} E_{114} I_{102} + 2 E_{1} E_{102} I_{1}^{2} I_{103} + E_{1} E_{102} I_{1} I_{102} + 2 E_{1} E_{103} I_{1}^{3} I_{103} + E_{1} E_{103} I_{1}^{2} I_{102} + 2 E_{1} E_{104} I_{1} I_{103} + E_{1} E_{104} I_{102} + 4 E_{1} E_{112} I_{1}^{2} I_{134} + 2 E_{1} E_{112} I_{1} I_{124} + 4 E_{1} E_{113} I_{1}^{3} I_{134} + 2 E_{1} E_{113} I_{1}^{2} I_{124} + 4 E_{1} E_{114} I_{1} I_{134} + 2 E_{1} E_{114} I_{124} - E_{1} I_{1} + 2 E_{102} I_{1}^{2} I_{134} + E_{102} I_{1} I_{124} + 2 E_{103} I_{1}^{3} I_{134} + E_{103} I_{1}^{2} I_{124} + 2 E_{104} I_{1} I_{134} + E_{104} I_{124} - f = 0, & \\left(E_{1}^{2} E_{112} + 2 E_{1}^{2} E_{113} I_{1} + E_{1} E_{102} + 2 E_{1} E_{103} I_{1} + E_{124} + 2 E_{134} I_{1}\\right) \\left(2 E_{1}^{2} I_{1} I_{113} + E_{1}^{2} I_{112} + 2 E_{1} I_{1} I_{103} + E_{1} I_{102} + 2 I_{1} I_{134} + I_{124}\\right) = 0\\end{bmatrix}\\end{pmatrix}$$"
       ],
       "output_type": "pyout",
       "prompt_number": 16,
       "text": [
        "\u239b   \u23a1                  \u239b                           2                          \n",
        "\u239d6, \u23a3True, True, True, \u239d2\u22c5E\u2081\u22c5E\u2081\u2081\u2082\u22c5I\u2081 + 2\u22c5E\u2081\u22c5E\u2081\u2081\u2083\u22c5I\u2081  + 2\u22c5E\u2081\u22c5E\u2081\u2081\u2084 + E\u2081\u2080\u2082\u22c5I\u2081 + E\n",
        "\n",
        "      2       \u239e \u239b       2                                     2               \n",
        "\u2081\u2080\u2083\u22c5I\u2081  + E\u2081\u2080\u2084\u23a0\u22c5\u239d2\u22c5E\u2081\u22c5I\u2081 \u22c5I\u2081\u2081\u2083 + 2\u22c5E\u2081\u22c5I\u2081\u22c5I\u2081\u2081\u2082 + 2\u22c5E\u2081\u22c5I\u2081\u2081\u2084 + I\u2081 \u22c5I\u2081\u2080\u2083 + I\u2081\u22c5I\u2081\u2080\u2082\n",
        "\n",
        "       \u239e          3        2            3                    3        3       \n",
        " + I\u2081\u2080\u2084\u23a0 = 0, 4\u22c5E\u2081 \u22c5E\u2081\u2081\u2082\u22c5I\u2081 \u22c5I\u2081\u2081\u2083 + 2\u22c5E\u2081 \u22c5E\u2081\u2081\u2082\u22c5I\u2081\u22c5I\u2081\u2081\u2082 + 4\u22c5E\u2081 \u22c5E\u2081\u2081\u2083\u22c5I\u2081 \u22c5I\u2081\u2081\u2083 +\n",
        "\n",
        "     3        2            3                    3                 2        2  \n",
        " 2\u22c5E\u2081 \u22c5E\u2081\u2081\u2083\u22c5I\u2081 \u22c5I\u2081\u2081\u2082 + 4\u22c5E\u2081 \u22c5E\u2081\u2081\u2084\u22c5I\u2081\u22c5I\u2081\u2081\u2083 + 2\u22c5E\u2081 \u22c5E\u2081\u2081\u2084\u22c5I\u2081\u2081\u2082 + 2\u22c5E\u2081 \u22c5E\u2081\u2080\u2082\u22c5I\u2081 \u22c5I\n",
        "\n",
        "        2                    2        3          2        2            2      \n",
        "\u2081\u2081\u2083 + E\u2081 \u22c5E\u2081\u2080\u2082\u22c5I\u2081\u22c5I\u2081\u2081\u2082 + 2\u22c5E\u2081 \u22c5E\u2081\u2080\u2083\u22c5I\u2081 \u22c5I\u2081\u2081\u2083 + E\u2081 \u22c5E\u2081\u2080\u2083\u22c5I\u2081 \u22c5I\u2081\u2081\u2082 + 2\u22c5E\u2081 \u22c5E\u2081\u2080\u2084\u22c5\n",
        "\n",
        "            2                 2        2            2                    2    \n",
        "I\u2081\u22c5I\u2081\u2081\u2083 + E\u2081 \u22c5E\u2081\u2080\u2084\u22c5I\u2081\u2081\u2082 + 4\u22c5E\u2081 \u22c5E\u2081\u2081\u2082\u22c5I\u2081 \u22c5I\u2081\u2080\u2083 + 2\u22c5E\u2081 \u22c5E\u2081\u2081\u2082\u22c5I\u2081\u22c5I\u2081\u2080\u2082 + 4\u22c5E\u2081 \u22c5E\u2081\u2081\n",
        "\n",
        "    3            2        2            2                    2                 \n",
        "\u2083\u22c5I\u2081 \u22c5I\u2081\u2080\u2083 + 2\u22c5E\u2081 \u22c5E\u2081\u2081\u2083\u22c5I\u2081 \u22c5I\u2081\u2080\u2082 + 4\u22c5E\u2081 \u22c5E\u2081\u2081\u2084\u22c5I\u2081\u22c5I\u2081\u2080\u2083 + 2\u22c5E\u2081 \u22c5E\u2081\u2081\u2084\u22c5I\u2081\u2080\u2082 + 2\u22c5E\u2081\n",
        "\n",
        "        2                                      3                  2           \n",
        "\u22c5E\u2081\u2080\u2082\u22c5I\u2081 \u22c5I\u2081\u2080\u2083 + E\u2081\u22c5E\u2081\u2080\u2082\u22c5I\u2081\u22c5I\u2081\u2080\u2082 + 2\u22c5E\u2081\u22c5E\u2081\u2080\u2083\u22c5I\u2081 \u22c5I\u2081\u2080\u2083 + E\u2081\u22c5E\u2081\u2080\u2083\u22c5I\u2081 \u22c5I\u2081\u2080\u2082 + 2\u22c5E\n",
        "\n",
        "                                            2                                 \n",
        "\u2081\u22c5E\u2081\u2080\u2084\u22c5I\u2081\u22c5I\u2081\u2080\u2083 + E\u2081\u22c5E\u2081\u2080\u2084\u22c5I\u2081\u2080\u2082 + 4\u22c5E\u2081\u22c5E\u2081\u2081\u2082\u22c5I\u2081 \u22c5I\u2081\u2083\u2084 + 2\u22c5E\u2081\u22c5E\u2081\u2081\u2082\u22c5I\u2081\u22c5I\u2081\u2082\u2084 + 4\u22c5E\u2081\u22c5\n",
        "\n",
        "       3                    2                                                 \n",
        "E\u2081\u2081\u2083\u22c5I\u2081 \u22c5I\u2081\u2083\u2084 + 2\u22c5E\u2081\u22c5E\u2081\u2081\u2083\u22c5I\u2081 \u22c5I\u2081\u2082\u2084 + 4\u22c5E\u2081\u22c5E\u2081\u2081\u2084\u22c5I\u2081\u22c5I\u2081\u2083\u2084 + 2\u22c5E\u2081\u22c5E\u2081\u2081\u2084\u22c5I\u2081\u2082\u2084 - E\u2081\u22c5I\n",
        "\n",
        "             2                                3               2               \n",
        "\u2081 + 2\u22c5E\u2081\u2080\u2082\u22c5I\u2081 \u22c5I\u2081\u2083\u2084 + E\u2081\u2080\u2082\u22c5I\u2081\u22c5I\u2081\u2082\u2084 + 2\u22c5E\u2081\u2080\u2083\u22c5I\u2081 \u22c5I\u2081\u2083\u2084 + E\u2081\u2080\u2083\u22c5I\u2081 \u22c5I\u2081\u2082\u2084 + 2\u22c5E\u2081\u2080\u2084\u22c5\n",
        "\n",
        "                             \u239b  2            2                                \n",
        "I\u2081\u22c5I\u2081\u2083\u2084 + E\u2081\u2080\u2084\u22c5I\u2081\u2082\u2084 - f = 0, \u239dE\u2081 \u22c5E\u2081\u2081\u2082 + 2\u22c5E\u2081 \u22c5E\u2081\u2081\u2083\u22c5I\u2081 + E\u2081\u22c5E\u2081\u2080\u2082 + 2\u22c5E\u2081\u22c5E\u2081\u2080\u2083\u22c5I\n",
        "\n",
        "                    \u239e \u239b    2             2                                    \n",
        "\u2081 + E\u2081\u2082\u2084 + 2\u22c5E\u2081\u2083\u2084\u22c5I\u2081\u23a0\u22c5\u239d2\u22c5E\u2081 \u22c5I\u2081\u22c5I\u2081\u2081\u2083 + E\u2081 \u22c5I\u2081\u2081\u2082 + 2\u22c5E\u2081\u22c5I\u2081\u22c5I\u2081\u2080\u2083 + E\u2081\u22c5I\u2081\u2080\u2082 + 2\u22c5I\n",
        "\n",
        "             \u239e    \u23a4\u239e\n",
        "\u2081\u22c5I\u2081\u2083\u2084 + I\u2081\u2082\u2084\u23a0 = 0\u23a6\u23a0"
       ]
      }
     ],
     "prompt_number": 16
    },
    {
     "cell_type": "code",
     "collapsed": false,
     "input": [
      "replacement = [(B[i],1) for i in range(0,2*n+1)]\n",
      "replacement"
     ],
     "language": "python",
     "metadata": {},
     "outputs": [
      {
       "latex": [
        "$$\\begin{bmatrix}\\begin{pmatrix}F, & 1\\end{pmatrix}, & \\begin{pmatrix}X_{1}, & 1\\end{pmatrix}, & \\begin{pmatrix}Y_{1}, & 1\\end{pmatrix}\\end{bmatrix}$$"
       ],
       "output_type": "pyout",
       "prompt_number": 125,
       "text": [
        "[(F, 1), (X\u2081, 1), (Y\u2081, 1)]"
       ]
      }
     ],
     "prompt_number": 125
    },
    {
     "cell_type": "code",
     "collapsed": false,
     "input": [
      "\n",
      "haa = 0\n",
      "for x in EQ:\n",
      "    haa = haa + x\n",
      "haa"
     ],
     "language": "python",
     "metadata": {},
     "outputs": [
      {
       "latex": [
        "$$2 X_{1} X_{101} Y_{1} Y_{102}$$"
       ],
       "output_type": "pyout",
       "png": "[encoded data removed]",
       "prompt_number": 126,
       "text": [
        "2\u22c5X\u2081\u22c5X\u2081\u2080\u2081\u22c5Y\u2081\u22c5Y\u2081\u2080\u2082"
       ]
      }
     ],
     "prompt_number": 126
    },
    {
     "cell_type": "code",
     "collapsed": false,
     "input": [
      "haa = haa.subs(replacement)\n",
      "haa"
     ],
     "language": "python",
     "metadata": {},
     "outputs": [
      {
       "latex": [
        "$$2 X_{101} Y_{102}$$"
       ],
       "output_type": "pyout",
       "png": "[encoded data removed]",
       "prompt_number": 127,
       "text": [
        "2\u22c5X\u2081\u2080\u2081\u22c5Y\u2081\u2080\u2082"
       ]
      }
     ],
     "prompt_number": 127
    },
    {
     "cell_type": "code",
     "collapsed": false,
     "input": [
      "TQ=[]\n"
     ],
     "language": "python",
     "metadata": {},
     "outputs": [],
     "prompt_number": 128
    },
    {
     "cell_type": "code",
     "collapsed": false,
     "input": [
      "#TQ.append(Eq(haa,1))\n",
      "#len(TQ),TQ"
     ],
     "language": "python",
     "metadata": {},
     "outputs": [],
     "prompt_number": 129
    },
    {
     "cell_type": "code",
     "collapsed": false,
     "input": [
      "for x in eq:\n",
      "    z = x.subs(replacement)\n",
      "    TQ.append(z)\n",
      "len(TQ),TQ"
     ],
     "language": "python",
     "metadata": {},
     "outputs": [
      {
       "latex": [
        "$$\\begin{pmatrix}3, & \\begin{bmatrix}X_{101} Y_{101}, & X_{101} Y_{113}, & 2 X_{101} Y_{123}\\end{bmatrix}\\end{pmatrix}$$"
       ],
       "output_type": "pyout",
       "prompt_number": 130,
       "text": [
        "(3, [X\u2081\u2080\u2081\u22c5Y\u2081\u2080\u2081, X\u2081\u2080\u2081\u22c5Y\u2081\u2081\u2083, 2\u22c5X\u2081\u2080\u2081\u22c5Y\u2081\u2082\u2083])"
       ]
      }
     ],
     "prompt_number": 130
    },
    {
     "cell_type": "code",
     "collapsed": false,
     "input": [
      "check = haa.atoms()\n",
      "check"
     ],
     "language": "python",
     "metadata": {},
     "outputs": [
      {
       "latex": [
        "$$\\left\\{2, X_{101}, Y_{102}\\right\\}$$"
       ],
       "output_type": "pyout",
       "png": "[encoded data removed]",
       "prompt_number": 131,
       "text": [
        "set([2, X\u2081\u2080\u2081, Y\u2081\u2080\u2082])"
       ]
      }
     ],
     "prompt_number": 131
    },
    {
     "cell_type": "code",
     "collapsed": false,
     "input": [
      "c = []\n",
      "for x in check:\n",
      "    if type(x) == Symbol:\n",
      "       c.append(x)\n",
      "c"
     ],
     "language": "python",
     "metadata": {},
     "outputs": [
      {
       "latex": [
        "$$\\begin{bmatrix}Y_{102}, & X_{101}\\end{bmatrix}$$"
       ],
       "output_type": "pyout",
       "prompt_number": 132,
       "text": [
        "[Y\u2081\u2080\u2082, X\u2081\u2080\u2081]"
       ]
      }
     ],
     "prompt_number": 132
    },
    {
     "cell_type": "code",
     "collapsed": false,
     "input": [
      "ceros = []\n",
      "class GetOutOfLoop( Exception ):\n",
      "    pass\n",
      "try:\n",
      "    for x in TQ:\n",
      "        for y in c:\n",
      "            if y in x.args:\n",
      "                for z in x.atoms():\n",
      "                    if type(z) == Symbol and z != y:\n",
      "                        haa = haa.subs(z,0)\n",
      "                        ceros.append(z)\n",
      "                #raise GetOutOfLoop\n",
      "except GetOutOfLoop:\n",
      "    pass\n",
      "haa,ceros"
     ],
     "language": "python",
     "metadata": {},
     "outputs": [
      {
       "latex": [
        "$$\\begin{pmatrix}2 X_{101} Y_{102}, & \\begin{bmatrix}Y_{101}, & Y_{113}, & Y_{123}\\end{bmatrix}\\end{pmatrix}$$"
       ],
       "output_type": "pyout",
       "prompt_number": 133,
       "text": [
        "(2\u22c5X\u2081\u2080\u2081\u22c5Y\u2081\u2080\u2082, [Y\u2081\u2080\u2081, Y\u2081\u2081\u2083, Y\u2081\u2082\u2083])"
       ]
      }
     ],
     "prompt_number": 133
    },
    {
     "cell_type": "code",
     "collapsed": false,
     "input": [
      "sol = solve(TQ,c, set= True, manual = True)"
     ],
     "language": "python",
     "metadata": {},
     "outputs": [],
     "prompt_number": 147
    },
    {
     "cell_type": "code",
     "collapsed": false,
     "input": [],
     "language": "python",
     "metadata": {},
     "outputs": []
    },
    {
     "cell_type": "code",
     "collapsed": false,
     "input": [],
     "language": "python",
     "metadata": {},
     "outputs": []
    },
    {
     "cell_type": "code",
     "collapsed": false,
     "input": [
      "sol"
     ],
     "language": "python",
     "metadata": {},
     "outputs": [
      {
       "latex": [
        "$$\\begin{pmatrix}\\begin{bmatrix}X_{113}, & X_{115}, & X_{123}, & X_{125}, & Y_{113}, & Y_{114}, & Y_{135}, & Y_{145}\\end{bmatrix}, & \\left\\{\\begin{pmatrix}0, & 0, & 0, & 0, & 0, & 0, & 0, & 0\\end{pmatrix}\\right\\}\\end{pmatrix}$$"
       ],
       "output_type": "pyout",
       "prompt_number": 148,
       "text": [
        "([X\u2081\u2081\u2083, X\u2081\u2081\u2085, X\u2081\u2082\u2083, X\u2081\u2082\u2085, Y\u2081\u2081\u2083, Y\u2081\u2081\u2084, Y\u2081\u2083\u2085, Y\u2081\u2084\u2085], set([(0, 0, 0, 0, 0, 0, 0, \n",
        "0)]))"
       ]
      }
     ],
     "prompt_number": 148
    },
    {
     "cell_type": "heading",
     "level": 6,
     "metadata": {},
     "source": [
      "Sector $$dI^adI^b$$"
     ]
    },
    {
     "cell_type": "code",
     "collapsed": false,
     "input": [
      "S[n+1:2*n+1,n+1:2*n+1],H[n+1:2*n+1,n+1:2*n+1]"
     ],
     "language": "python",
     "metadata": {},
     "outputs": [
      {
       "latex": [
        "$$\\begin{pmatrix}\\left[\\begin{smallmatrix}X_{1}^{2} & 0\\\\0 & X_{2}^{2}\\end{smallmatrix}\\right], & \\left[\\begin{smallmatrix}X_{1}^{4} \\left(Y_{1} + 1\\right)^{2} & X_{1}^{2} X_{2}^{2} \\left(Y_{1} Y_{2} + Y_{1} + Y_{2} + 1\\right)\\\\X_{1}^{2} X_{2}^{2} \\left(Y_{1} Y_{2} + Y_{1} + Y_{2} + 1\\right) & X_{2}^{4} \\left(Y_{2} + 1\\right)^{2}\\end{smallmatrix}\\right]\\end{pmatrix}$$"
       ],
       "output_type": "pyout",
       "prompt_number": 148,
       "text": [
        "\u239b\u23a1  2     \u23a4  \u23a1          4         2            2   2                      \u23a4\u239e\n",
        "\u239c\u23a2X\u2081    0 \u23a5, \u23a2        X\u2081 \u22c5(Y\u2081 + 1)           X\u2081 \u22c5X\u2082 \u22c5(Y\u2081\u22c5Y\u2082 + Y\u2081 + Y\u2082 + 1)\u23a5\u239f\n",
        "\u239c\u23a2        \u23a5  \u23a2                                                            \u23a5\u239f\n",
        "\u239c\u23a2       2\u23a5  \u23a2  2   2                                  4         2        \u23a5\u239f\n",
        "\u239d\u23a3 0   X\u2082 \u23a6  \u23a3X\u2081 \u22c5X\u2082 \u22c5(Y\u2081\u22c5Y\u2082 + Y\u2081 + Y\u2082 + 1)          X\u2082 \u22c5(Y\u2082 + 1)         \u23a6\u23a0"
       ]
      }
     ],
     "prompt_number": 148
    },
    {
     "cell_type": "code",
     "collapsed": false,
     "input": [
      "Dummy = S[n+1:2*n+1,n+1:2*n+1]\n",
      "for x in range(0,n):\n",
      "    for y in range(x,n):\n",
      "        EQ.append(Dummy[x,y])\n",
      "len(EQ),EQ"
     ],
     "language": "python",
     "metadata": {},
     "outputs": [
      {
       "latex": [
        "$$\\begin{pmatrix}6, & \\begin{bmatrix}\\frac{1}{2} f + \\frac{1}{2}, & 0, & E_{22} I_{24} - \\frac{E_{22} I_{14} I_{22}}{I_{12}} + \\frac{1}{2} f + \\frac{1}{2}, & 0, & 0, & 0\\end{bmatrix}\\end{pmatrix}$$"
       ],
       "output_type": "pyout",
       "prompt_number": 156,
       "text": [
        "\u239b   \u23a1f   1               E\u2082\u2082\u22c5I\u2081\u2084\u22c5I\u2082\u2082   f   1         \u23a4\u239e\n",
        "\u239c6, \u23a2\u2500 + \u2500, 0, E\u2082\u2082\u22c5I\u2082\u2084 - \u2500\u2500\u2500\u2500\u2500\u2500\u2500\u2500\u2500\u2500\u2500 + \u2500 + \u2500, 0, 0, 0\u23a5\u239f\n",
        "\u239d   \u23a32   2                   I\u2081\u2082       2   2         \u23a6\u23a0"
       ]
      }
     ],
     "prompt_number": 156
    },
    {
     "cell_type": "heading",
     "level": 6,
     "metadata": {},
     "source": [
      "Sector $$dE^adE^b$$"
     ]
    },
    {
     "cell_type": "code",
     "collapsed": false,
     "input": [
      "S[1:n+1,1:n+1]"
     ],
     "language": "python",
     "metadata": {},
     "outputs": [
      {
       "latex": [
        "$$\\left[\\begin{smallmatrix}0 & 0\\\\0 & 0\\end{smallmatrix}\\right]$$"
       ],
       "output_type": "pyout",
       "prompt_number": 157,
       "text": [
        "\u23a10  0\u23a4\n",
        "\u23a2    \u23a5\n",
        "\u23a30  0\u23a6"
       ]
      }
     ],
     "prompt_number": 157
    },
    {
     "cell_type": "code",
     "collapsed": false,
     "input": [
      "Dummy = S[1:n+1,1:n+1]\n",
      "for x in range(0,n):\n",
      "    for y in range(x,n):\n",
      "        EQ.append(Dummy[x,y])\n",
      "len(EQ),EQ"
     ],
     "language": "python",
     "metadata": {},
     "outputs": [
      {
       "latex": [
        "$$\\begin{pmatrix}9, & \\begin{bmatrix}\\frac{1}{2} f + \\frac{1}{2}, & 0, & E_{22} I_{24} - \\frac{E_{22} I_{14} I_{22}}{I_{12}} + \\frac{1}{2} f + \\frac{1}{2}, & 0, & 0, & 0, & 0, & 0, & 0\\end{bmatrix}\\end{pmatrix}$$"
       ],
       "output_type": "pyout",
       "prompt_number": 158,
       "text": [
        "\u239b   \u23a1f   1               E\u2082\u2082\u22c5I\u2081\u2084\u22c5I\u2082\u2082   f   1                  \u23a4\u239e\n",
        "\u239c9, \u23a2\u2500 + \u2500, 0, E\u2082\u2082\u22c5I\u2082\u2084 - \u2500\u2500\u2500\u2500\u2500\u2500\u2500\u2500\u2500\u2500\u2500 + \u2500 + \u2500, 0, 0, 0, 0, 0, 0\u23a5\u239f\n",
        "\u239d   \u23a32   2                   I\u2081\u2082       2   2                  \u23a6\u23a0"
       ]
      }
     ],
     "prompt_number": 158
    },
    {
     "cell_type": "heading",
     "level": 6,
     "metadata": {},
     "source": [
      "Sector $$d\\Phi d\\Phi$$"
     ]
    },
    {
     "cell_type": "code",
     "collapsed": false,
     "input": [
      "S[0,0]"
     ],
     "language": "python",
     "metadata": {},
     "outputs": [
      {
       "latex": [
        "$$0$$"
       ],
       "output_type": "pyout",
       "png": "[encoded data removed]",
       "prompt_number": 159,
       "text": [
        "0"
       ]
      }
     ],
     "prompt_number": 159
    },
    {
     "cell_type": "heading",
     "level": 6,
     "metadata": {},
     "source": [
      "Sector $$d\\Phi dE^b$$"
     ]
    },
    {
     "cell_type": "code",
     "collapsed": false,
     "input": [
      "S[0,1:n+1]"
     ],
     "language": "python",
     "metadata": {},
     "outputs": [
      {
       "latex": [
        "$$\\left[\\begin{smallmatrix}0 & 0\\end{smallmatrix}\\right]$$"
       ],
       "output_type": "pyout",
       "prompt_number": 160,
       "text": [
        "[0  0]"
       ]
      }
     ],
     "prompt_number": 160
    },
    {
     "cell_type": "code",
     "collapsed": false,
     "input": [
      "Dummy = S[0,1:n+1]\n",
      "for x in range(0,n):\n",
      "     EQ.append(Dummy[x])\n",
      "len(EQ),EQ"
     ],
     "language": "python",
     "metadata": {},
     "outputs": [
      {
       "latex": [
        "$$\\begin{pmatrix}11, & \\begin{bmatrix}\\frac{1}{2} f + \\frac{1}{2}, & 0, & E_{22} I_{24} - \\frac{E_{22} I_{14} I_{22}}{I_{12}} + \\frac{1}{2} f + \\frac{1}{2}, & 0, & 0, & 0, & 0, & 0, & 0, & 0, & 0\\end{bmatrix}\\end{pmatrix}$$"
       ],
       "output_type": "pyout",
       "prompt_number": 161,
       "text": [
        "\u239b    \u23a1f   1               E\u2082\u2082\u22c5I\u2081\u2084\u22c5I\u2082\u2082   f   1                        \u23a4\u239e\n",
        "\u239c11, \u23a2\u2500 + \u2500, 0, E\u2082\u2082\u22c5I\u2082\u2084 - \u2500\u2500\u2500\u2500\u2500\u2500\u2500\u2500\u2500\u2500\u2500 + \u2500 + \u2500, 0, 0, 0, 0, 0, 0, 0, 0\u23a5\u239f\n",
        "\u239d    \u23a32   2                   I\u2081\u2082       2   2                        \u23a6\u23a0"
       ]
      }
     ],
     "prompt_number": 161
    },
    {
     "cell_type": "heading",
     "level": 6,
     "metadata": {},
     "source": [
      "Sector $$d\\Phi dI^b$$"
     ]
    },
    {
     "cell_type": "code",
     "collapsed": false,
     "input": [
      "S[0,n+1:2*n+1]"
     ],
     "language": "python",
     "metadata": {},
     "outputs": [
      {
       "latex": [
        "$$\\left[\\begin{smallmatrix}0 & 0\\end{smallmatrix}\\right]$$"
       ],
       "output_type": "pyout",
       "prompt_number": 162,
       "text": [
        "[0  0]"
       ]
      }
     ],
     "prompt_number": 162
    },
    {
     "cell_type": "code",
     "collapsed": false,
     "input": [
      "Dummy = S[0,1:n+1]\n",
      "for x in range(0,n):\n",
      "     EQ.append(Dummy[x])\n",
      "len(EQ),EQ"
     ],
     "language": "python",
     "metadata": {},
     "outputs": [
      {
       "latex": [
        "$$\\begin{pmatrix}13, & \\begin{bmatrix}\\frac{1}{2} f + \\frac{1}{2}, & 0, & E_{22} I_{24} - \\frac{E_{22} I_{14} I_{22}}{I_{12}} + \\frac{1}{2} f + \\frac{1}{2}, & 0, & 0, & 0, & 0, & 0, & 0, & 0, & 0, & 0, & 0\\end{bmatrix}\\end{pmatrix}$$"
       ],
       "output_type": "pyout",
       "prompt_number": 163,
       "text": [
        "\u239b    \u23a1f   1               E\u2082\u2082\u22c5I\u2081\u2084\u22c5I\u2082\u2082   f   1                              \u23a4\u239e\n",
        "\u239c13, \u23a2\u2500 + \u2500, 0, E\u2082\u2082\u22c5I\u2082\u2084 - \u2500\u2500\u2500\u2500\u2500\u2500\u2500\u2500\u2500\u2500\u2500 + \u2500 + \u2500, 0, 0, 0, 0, 0, 0, 0, 0, 0, 0\u23a5\u239f\n",
        "\u239d    \u23a32   2                   I\u2081\u2082       2   2                              \u23a6\u23a0"
       ]
      }
     ],
     "prompt_number": 163
    },
    {
     "cell_type": "code",
     "collapsed": false,
     "input": [
      "len(EQ),len(c)"
     ],
     "language": "python",
     "metadata": {},
     "outputs": [
      {
       "latex": [
        "$$\\begin{pmatrix}13, & 12\\end{pmatrix}$$"
       ],
       "output_type": "pyout",
       "prompt_number": 164,
       "text": [
        "(13, 12)"
       ]
      }
     ],
     "prompt_number": 164
    },
    {
     "cell_type": "code",
     "collapsed": false,
     "input": [
      "haa,c"
     ],
     "language": "python",
     "metadata": {},
     "outputs": [
      {
       "latex": [
        "$$\\begin{pmatrix}X_{113} Y_{113} + 2 X_{115} Y_{114} + 2 X_{123} Y_{135} + 4 X_{125} Y_{145}, & \\begin{bmatrix}X_{125}, & Y_{135}, & Y_{145}, & Y_{113}, & Y_{114}, & X_{115}, & X_{123}, & X_{113}\\end{bmatrix}\\end{pmatrix}$$"
       ],
       "output_type": "pyout",
       "prompt_number": 121,
       "text": [
        "(X\u2081\u2081\u2083\u22c5Y\u2081\u2081\u2083 + 2\u22c5X\u2081\u2081\u2085\u22c5Y\u2081\u2081\u2084 + 2\u22c5X\u2081\u2082\u2083\u22c5Y\u2081\u2083\u2085 + 4\u22c5X\u2081\u2082\u2085\u22c5Y\u2081\u2084\u2085, [X\u2081\u2082\u2085, Y\u2081\u2083\u2085, Y\u2081\u2084\u2085, Y\u2081\u2081\u2083,\n",
        " Y\u2081\u2081\u2084, X\u2081\u2081\u2085, X\u2081\u2082\u2083, X\u2081\u2081\u2083])"
       ]
      }
     ],
     "prompt_number": 121
    },
    {
     "cell_type": "code",
     "collapsed": false,
     "input": [
      "sol = solve(Eq(haa,1),c, set=True)\n",
      "sol"
     ],
     "language": "python",
     "metadata": {},
     "outputs": [
      {
       "latex": [
        "$$\\begin{pmatrix}\\begin{bmatrix}X_{125}\\end{bmatrix}, & \\left\\{\\begin{pmatrix}\\frac{- X_{113} Y_{113} - 2 X_{115} Y_{114} - 2 X_{123} Y_{135} + 1}{4 Y_{145}}\\end{pmatrix}\\right\\}\\end{pmatrix}$$"
       ],
       "output_type": "pyout",
       "prompt_number": 122,
       "text": [
        "\u239b           \u239b\u23a1\u239b-X\u2081\u2081\u2083\u22c5Y\u2081\u2081\u2083 - 2\u22c5X\u2081\u2081\u2085\u22c5Y\u2081\u2081\u2084 - 2\u22c5X\u2081\u2082\u2083\u22c5Y\u2081\u2083\u2085 + 1 \u239e\u23a4\u239e\u239e\n",
        "\u239c[X\u2081\u2082\u2085], set\u239c\u23a2\u239c\u2500\u2500\u2500\u2500\u2500\u2500\u2500\u2500\u2500\u2500\u2500\u2500\u2500\u2500\u2500\u2500\u2500\u2500\u2500\u2500\u2500\u2500\u2500\u2500\u2500\u2500\u2500\u2500\u2500\u2500\u2500\u2500\u2500\u2500\u2500\u2500\u2500\u2500\u2500\u2500\u2500\u2500,\u239f\u23a5\u239f\u239f\n",
        "\u239d           \u239d\u23a3\u239d                  4\u22c5Y\u2081\u2084\u2085                   \u23a0\u23a6\u23a0\u23a0"
       ]
      }
     ],
     "prompt_number": 122
    },
    {
     "cell_type": "code",
     "collapsed": false,
     "input": [
      "print sol"
     ],
     "language": "python",
     "metadata": {},
     "outputs": [
      {
       "output_type": "stream",
       "stream": "stdout",
       "text": [
        "([X_113], set([(-(2*X_115*Y_114 + 2*X_123*Y_135 + 4*X_125*Y_145)/Y_113,)]))\n"
       ]
      }
     ],
     "prompt_number": 94
    },
    {
     "cell_type": "code",
     "collapsed": false,
     "input": [
      "sol[0][0]"
     ],
     "language": "python",
     "metadata": {},
     "outputs": [
      {
       "latex": [
        "$$X_{113}$$"
       ],
       "output_type": "pyout",
       "png": "[encoded data removed]",
       "prompt_number": 97,
       "text": [
        "X\u2081\u2081\u2083"
       ]
      }
     ],
     "prompt_number": 97
    },
    {
     "cell_type": "code",
     "collapsed": false,
     "input": [
      "sol[1]"
     ],
     "language": "python",
     "metadata": {},
     "outputs": [
      {
       "latex": [
        "$$\\left\\{\\begin{pmatrix}- \\frac{X_{113} Y_{113} + 2 X_{115} Y_{114} + 2 X_{123} Y_{135}}{4 Y_{145}}\\end{pmatrix}\\right\\}$$"
       ],
       "output_type": "pyout",
       "prompt_number": 100,
       "text": [
        "   \u239b\u23a1\u239b-(X\u2081\u2081\u2083\u22c5Y\u2081\u2081\u2083 + 2\u22c5X\u2081\u2081\u2085\u22c5Y\u2081\u2081\u2084 + 2\u22c5X\u2081\u2082\u2083\u22c5Y\u2081\u2083\u2085) \u239e\u23a4\u239e\n",
        "set\u239c\u23a2\u239c\u2500\u2500\u2500\u2500\u2500\u2500\u2500\u2500\u2500\u2500\u2500\u2500\u2500\u2500\u2500\u2500\u2500\u2500\u2500\u2500\u2500\u2500\u2500\u2500\u2500\u2500\u2500\u2500\u2500\u2500\u2500\u2500\u2500\u2500\u2500\u2500\u2500\u2500\u2500\u2500,\u239f\u23a5\u239f\n",
        "   \u239d\u23a3\u239d                 4\u22c5Y\u2081\u2084\u2085                  \u23a0\u23a6\u23a0"
       ]
      }
     ],
     "prompt_number": 100
    },
    {
     "cell_type": "code",
     "collapsed": false,
     "input": [
      "solve_undetermined_coeffs(Eq(haa,-1),c,B[1])"
     ],
     "language": "python",
     "metadata": {},
     "outputs": [
      {
       "latex": [
        "$$\\begin{bmatrix}\\end{bmatrix}$$"
       ],
       "output_type": "pyout",
       "prompt_number": 116,
       "text": [
        "[]"
       ]
      }
     ],
     "prompt_number": 116
    },
    {
     "cell_type": "code",
     "collapsed": false,
     "input": [
      "Eq(haa,1)"
     ],
     "language": "python",
     "metadata": {},
     "outputs": [
      {
       "latex": [
        "$$X_{1} X_{113} Y_{1} Y_{113} + 2 X_{1} X_{115} Y_{1} Y_{114} + 2 X_{1} X_{123} Y_{1} Y_{135} + 4 X_{1} X_{125} Y_{1} Y_{145} = 1$$"
       ],
       "output_type": "pyout",
       "png": "[encoded data removed]",
       "prompt_number": 113,
       "text": [
        "X\u2081\u22c5X\u2081\u2081\u2083\u22c5Y\u2081\u22c5Y\u2081\u2081\u2083 + 2\u22c5X\u2081\u22c5X\u2081\u2081\u2085\u22c5Y\u2081\u22c5Y\u2081\u2081\u2084 + 2\u22c5X\u2081\u22c5X\u2081\u2082\u2083\u22c5Y\u2081\u22c5Y\u2081\u2083\u2085 + 4\u22c5X\u2081\u22c5X\u2081\u2082\u2085\u22c5Y\u2081\u22c5Y\u2081\u2084\u2085 = \n",
        "1"
       ]
      }
     ],
     "prompt_number": 113
    },
    {
     "cell_type": "code",
     "collapsed": false,
     "input": [],
     "language": "python",
     "metadata": {},
     "outputs": [
      {
       "latex": [
        "$$\\begin{bmatrix}4 X_{1} X_{125} Y_{1} Y_{145}, & 2 X_{1} X_{115} Y_{1} Y_{114}, & 2 X_{1} X_{123} Y_{1} Y_{135}, & X_{1} X_{113} Y_{1} Y_{113}\\end{bmatrix}$$"
       ],
       "output_type": "pyout",
       "prompt_number": 106,
       "text": [
        "[4\u22c5X\u2081\u22c5X\u2081\u2082\u2085\u22c5Y\u2081\u22c5Y\u2081\u2084\u2085, 2\u22c5X\u2081\u22c5X\u2081\u2081\u2085\u22c5Y\u2081\u22c5Y\u2081\u2081\u2084, 2\u22c5X\u2081\u22c5X\u2081\u2082\u2083\u22c5Y\u2081\u22c5Y\u2081\u2083\u2085, X\u2081\u22c5X\u2081\u2081\u2083\u22c5Y\u2081\u22c5Y\u2081\u2081\u2083]"
       ]
      }
     ],
     "prompt_number": 106
    },
    {
     "cell_type": "code",
     "collapsed": false,
     "input": [
      "x"
     ],
     "language": "python",
     "metadata": {},
     "outputs": [
      {
       "latex": [
        "$$X_{113}$$"
       ],
       "output_type": "pyout",
       "png": "[encoded data removed]",
       "prompt_number": 104,
       "text": [
        "X\u2081\u2081\u2083"
       ]
      }
     ],
     "prompt_number": 104
    },
    {
     "cell_type": "code",
     "collapsed": false,
     "input": [
      "help(solve_undetermined_coeffs)"
     ],
     "language": "python",
     "metadata": {},
     "outputs": [
      {
       "output_type": "stream",
       "stream": "stdout",
       "text": [
        "Help on function solve_undetermined_coeffs in module sympy.solvers.solvers:\n",
        "\n",
        "solve_undetermined_coeffs(equ, coeffs, sym, **flags)\n",
        "    Solve equation of a type p(x; a_1, ..., a_k) == q(x) where both\n",
        "    p, q are univariate polynomials and f depends on k parameters.\n",
        "    The result of this functions is a dictionary with symbolic\n",
        "    values of those parameters with respect to coefficients in q.\n",
        "    \n",
        "    This functions accepts both Equations class instances and ordinary\n",
        "    SymPy expressions. Specification of parameters and variable is\n",
        "    obligatory for efficiency and simplicity reason.\n",
        "    \n",
        "    >>> from sympy import Eq\n",
        "    >>> from sympy.abc import a, b, c, x\n",
        "    >>> from sympy.solvers import solve_undetermined_coeffs\n",
        "    \n",
        "    >>> solve_undetermined_coeffs(Eq(2*a*x + a+b, x), [a, b], x)\n",
        "    {a: 1/2, b: -1/2}\n",
        "    \n",
        "    >>> solve_undetermined_coeffs(Eq(a*c*x + a+b, x), [a, b], x)\n",
        "    {a: 1/c, b: -1/c}\n",
        "\n"
       ]
      }
     ],
     "prompt_number": 105
    },
    {
     "cell_type": "code",
     "collapsed": false,
     "input": [
      "EQ=[]\n",
      "eq=[]\n",
      "Dummy = S[1:n+1,1+n:2*n+1]\n",
      "for x in range(0,n):\n",
      "    for y in range(0,n):\n",
      "        argumentos = expand(2*Dummy[x,y]).args\n",
      "        for z in argumentos:\n",
      "            if len(z.args) == 5:\n",
      "                for e in range(1,n+1):\n",
      "                    if B[e] in z.args and B[e+n] in z.args:\n",
      "                        w = z/2\n",
      "                        EQ.append(w)\n",
      "                    else:\n",
      "                        w = z/2\n",
      "                        eq.append((5,Eq(w,0)))\n",
      "            else:\n",
      "                w = z/2\n",
      "                eq.append((6,Eq(w,0)))"
     ],
     "language": "python",
     "metadata": {},
     "outputs": []
    }
   ],
   "metadata": {}
  }
 ]
}