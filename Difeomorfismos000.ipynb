{
 "cells": [
  {
   "cell_type": "code",
   "execution_count": 1,
   "metadata": {
    "collapsed": false
   },
   "outputs": [],
   "source": [
    "from difeomorfismo import *\n",
    "init_printing()"
   ]
  },
  {
   "cell_type": "code",
   "execution_count": 2,
   "metadata": {
    "collapsed": false
   },
   "outputs": [],
   "source": [
    "n = 2\n",
    "k = 0"
   ]
  },
  {
   "cell_type": "markdown",
   "metadata": {},
   "source": [
    "## Difeomorfismo para GI"
   ]
  },
  {
   "cell_type": "code",
   "execution_count": 3,
   "metadata": {
    "collapsed": false
   },
   "outputs": [
    {
     "data": {
      "text/latex": [
       "$$\\begin{pmatrix}\\begin{bmatrix}\\Phi  + \\operatorname{F}{\\left (E_{1},E_{2},I_{1},I_{2} \\right )}, & \\operatorname{X\\_1}{\\left (\\Phi ,E_{1},E_{2},I_{1},I_{2} \\right )}, & \\operatorname{X\\_2}{\\left (\\Phi ,E_{1},E_{2},I_{1},I_{2} \\right )}, & \\operatorname{Y\\_1}{\\left (\\Phi ,E_{1},E_{2},I_{1},I_{2} \\right )}, & \\operatorname{Y\\_2}{\\left (\\Phi ,E_{1},E_{2},I_{1},I_{2} \\right )}\\end{bmatrix}, & \\begin{bmatrix}\\Phi , & E_{1}, & E_{2}, & I_{1}, & I_{2}\\end{bmatrix}\\end{pmatrix}$$"
      ],
      "text/plain": [
       "([\\Phi  + F(E₁, E₂, I₁, I₂), X₁(\\Phi , E₁, E₂, I₁, I₂), X₂(\\Phi , E₁, E₂, I₁, \n",
       "I₂), Y₁(\\Phi , E₁, E₂, I₁, I₂), Y₂(\\Phi , E₁, E₂, I₁, I₂)], [\\Phi , E₁, E₂, I₁\n",
       ", I₂])"
      ]
     },
     "execution_count": 3,
     "metadata": {},
     "output_type": "execute_result"
    }
   ],
   "source": [
    "Z = []\n",
    "B = []\n",
    "Z,B = n_grados(n)\n",
    "Z,B"
   ]
  },
  {
   "cell_type": "code",
   "execution_count": 4,
   "metadata": {
    "collapsed": false
   },
   "outputs": [
    {
     "data": {
      "text/latex": [
       "$$\\begin{pmatrix}\\begin{bmatrix}\\Phi , & \\operatorname{f1}{\\left (E_{2} \\right )}, & \\operatorname{f2}{\\left (E_{1} \\right )}, & \\operatorname{f3}{\\left (I_{2} \\right )} + \\operatorname{g1}{\\left (E_{1},E_{2},I_{2} \\right )}, & \\operatorname{f4}{\\left (I_{1} \\right )} + \\operatorname{g2}{\\left (E_{1},E_{2},I_{1} \\right )}\\end{bmatrix}, & \\begin{bmatrix}\\Phi , & E_{1}, & E_{2}, & I_{1}, & I_{2}\\end{bmatrix}\\end{pmatrix}$$"
      ],
      "text/plain": [
       "([\\Phi , f₁(E₂), f₂(E₁), f₃(I₂) + g₁(E₁, E₂, I₂), f₄(I₁) + g₂(E₁, E₂, I₁)], [\\\n",
       "Phi , E₁, E₂, I₁, I₂])"
      ]
     },
     "execution_count": 4,
     "metadata": {},
     "output_type": "execute_result"
    }
   ],
   "source": [
    "Z= difeomorphism_003(n,B)\n",
    "Z, B"
   ]
  },
  {
   "cell_type": "code",
   "execution_count": 5,
   "metadata": {
    "collapsed": false
   },
   "outputs": [
    {
     "name": "stdout",
     "output_type": "stream",
     "text": [
      "[1, 2] [3, 4]\n"
     ]
    }
   ],
   "source": [
    "H = zeros(n)\n",
    "S = zeros(n)\n",
    "H,S = difeomorphism_equations001(Z,B,simplify,k)"
   ]
  },
  {
   "cell_type": "markdown",
   "metadata": {},
   "source": [
    "###### Sector IE"
   ]
  },
  {
   "cell_type": "code",
   "execution_count": 6,
   "metadata": {
    "collapsed": false
   },
   "outputs": [
    {
     "data": {
      "text/latex": [
       "$$\\begin{pmatrix}\\left[\\begin{smallmatrix}\\left(\\frac{\\partial}{\\partial I_{1}} \\operatorname{f4}{\\left (I_{1} \\right )} + \\frac{\\partial}{\\partial I_{1}} \\operatorname{g2}{\\left (E_{1},E_{2},I_{1} \\right )}\\right) \\frac{\\partial}{\\partial E_{1}} \\operatorname{f2}{\\left (E_{1} \\right )} & 0\\\\0 & \\left(\\frac{\\partial}{\\partial I_{2}} \\operatorname{f3}{\\left (I_{2} \\right )} + \\frac{\\partial}{\\partial I_{2}} \\operatorname{g1}{\\left (E_{1},E_{2},I_{2} \\right )}\\right) \\frac{\\partial}{\\partial E_{2}} \\operatorname{f1}{\\left (E_{2} \\right )}\\end{smallmatrix}\\right], & \\left[\\begin{smallmatrix}0 & 0\\\\0 & 0\\end{smallmatrix}\\right]\\end{pmatrix}$$"
      ],
      "text/plain": [
       "⎛⎡⎛ d             d                 ⎞  d                                      \n",
       "⎜⎢⎜───(f₄(I₁)) + ───(g₂(E₁, E₂, I₁))⎟⋅───(f₂(E₁))                         0   \n",
       "⎜⎢⎝dI₁           dI₁                ⎠ dE₁                                     \n",
       "⎜⎢                                                                            \n",
       "⎜⎢                                                 ⎛ d             d          \n",
       "⎜⎢                       0                         ⎜───(f₃(I₂)) + ───(g₁(E₁, E\n",
       "⎝⎣                                                 ⎝dI₂           dI₂         \n",
       "\n",
       "                    ⎤        ⎞\n",
       "                    ⎥, ⎡0  0⎤⎟\n",
       "                    ⎥  ⎢    ⎥⎟\n",
       "                    ⎥  ⎣0  0⎦⎟\n",
       "       ⎞  d         ⎥        ⎟\n",
       "₂, I₂))⎟⋅───(f₁(E₂))⎥        ⎟\n",
       "       ⎠ dE₂        ⎦        ⎠"
      ]
     },
     "execution_count": 6,
     "metadata": {},
     "output_type": "execute_result"
    }
   ],
   "source": [
    "S[n+1:2*n+1,1:n+1],H[n+1:2*n+1,1:n+1]\n"
   ]
  },
  {
   "cell_type": "markdown",
   "metadata": {},
   "source": [
    "###### Sector II"
   ]
  },
  {
   "cell_type": "code",
   "execution_count": 7,
   "metadata": {
    "collapsed": false
   },
   "outputs": [
    {
     "data": {
      "text/latex": [
       "$$\\begin{pmatrix}\\left[\\begin{smallmatrix}0 & 0\\\\0 & 0\\end{smallmatrix}\\right], & \\left[\\begin{smallmatrix}0 & 0\\\\0 & 0\\end{smallmatrix}\\right]\\end{pmatrix}$$"
      ],
      "text/plain": [
       "⎛⎡0  0⎤, ⎡0  0⎤⎞\n",
       "⎜⎢    ⎥  ⎢    ⎥⎟\n",
       "⎝⎣0  0⎦  ⎣0  0⎦⎠"
      ]
     },
     "execution_count": 7,
     "metadata": {},
     "output_type": "execute_result"
    }
   ],
   "source": [
    "S[n+1:2*n+1,n+1:2*n+1],H[n+1:2*n+1,n+1:2*n+1]"
   ]
  },
  {
   "cell_type": "markdown",
   "metadata": {},
   "source": [
    "###### Sector EE"
   ]
  },
  {
   "cell_type": "code",
   "execution_count": 8,
   "metadata": {
    "collapsed": false
   },
   "outputs": [
    {
     "data": {
      "text/latex": [
       "$$\\begin{pmatrix}\\left[\\begin{smallmatrix}2 \\frac{\\partial}{\\partial E_{1}} \\operatorname{f2}{\\left (E_{1} \\right )} \\frac{\\partial}{\\partial E_{1}} \\operatorname{g2}{\\left (E_{1},E_{2},I_{1} \\right )} & \\frac{\\partial}{\\partial E_{2}} \\operatorname{f1}{\\left (E_{2} \\right )} \\frac{\\partial}{\\partial E_{1}} \\operatorname{g1}{\\left (E_{1},E_{2},I_{2} \\right )} + \\frac{\\partial}{\\partial E_{1}} \\operatorname{f2}{\\left (E_{1} \\right )} \\frac{\\partial}{\\partial E_{2}} \\operatorname{g2}{\\left (E_{1},E_{2},I_{1} \\right )}\\\\\\frac{\\partial}{\\partial E_{2}} \\operatorname{f1}{\\left (E_{2} \\right )} \\frac{\\partial}{\\partial E_{1}} \\operatorname{g1}{\\left (E_{1},E_{2},I_{2} \\right )} + \\frac{\\partial}{\\partial E_{1}} \\operatorname{f2}{\\left (E_{1} \\right )} \\frac{\\partial}{\\partial E_{2}} \\operatorname{g2}{\\left (E_{1},E_{2},I_{1} \\right )} & 2 \\frac{\\partial}{\\partial E_{2}} \\operatorname{f1}{\\left (E_{2} \\right )} \\frac{\\partial}{\\partial E_{2}} \\operatorname{g1}{\\left (E_{1},E_{2},I_{2} \\right )}\\end{smallmatrix}\\right], & \\left[\\begin{smallmatrix}\\frac{I_{1}^{2}}{\\operatorname{k}{\\left (E_{1},E_{2},I_{1},I_{2} \\right )}} & \\frac{I_{1} I_{2}}{\\operatorname{k}{\\left (E_{1},E_{2},I_{1},I_{2} \\right )}}\\\\\\frac{I_{1} I_{2}}{\\operatorname{k}{\\left (E_{1},E_{2},I_{1},I_{2} \\right )}} & \\frac{I_{2}^{2}}{\\operatorname{k}{\\left (E_{1},E_{2},I_{1},I_{2} \\right )}}\\end{smallmatrix}\\right]\\end{pmatrix}$$"
      ],
      "text/plain": [
       "⎛                                                                             \n",
       "⎜⎡                   d           d                                    d       \n",
       "⎜⎢                2⋅───(f₂(E₁))⋅───(g₂(E₁, E₂, I₁))                  ───(f₁(E₂\n",
       "⎜⎢                  dE₁         dE₁                                  dE₂      \n",
       "⎜⎢                                                                            \n",
       "⎜⎢ d           d                     d           d                            \n",
       "⎜⎢───(f₁(E₂))⋅───(g₁(E₁, E₂, I₂)) + ───(f₂(E₁))⋅───(g₂(E₁, E₂, I₁))           \n",
       "⎜⎣dE₂         dE₁                   dE₁         dE₂                           \n",
       "⎝                                                                             \n",
       "\n",
       "                                                           ⎡         2        \n",
       "    d                     d           d                 ⎤  ⎢       I₁         \n",
       "))⋅───(g₁(E₁, E₂, I₂)) + ───(f₂(E₁))⋅───(g₂(E₁, E₂, I₁))⎥, ⎢───────────────── \n",
       "   dE₁                   dE₁         dE₂                ⎥  ⎢k(E₁, E₂, I₁, I₂) \n",
       "                                                        ⎥  ⎢                  \n",
       "          d           d                                 ⎥  ⎢                  \n",
       "       2⋅───(f₁(E₂))⋅───(g₁(E₁, E₂, I₂))                ⎥  ⎢      I₁⋅I₂       \n",
       "         dE₂         dE₂                                ⎦  ⎢───────────────── \n",
       "                                                           ⎣k(E₁, E₂, I₁, I₂) \n",
       "\n",
       "                  ⎤⎞\n",
       "       I₁⋅I₂      ⎥⎟\n",
       " ─────────────────⎥⎟\n",
       " k(E₁, E₂, I₁, I₂)⎥⎟\n",
       "                  ⎥⎟\n",
       "          2       ⎥⎟\n",
       "        I₂        ⎥⎟\n",
       " ─────────────────⎥⎟\n",
       " k(E₁, E₂, I₁, I₂)⎦⎠"
      ]
     },
     "execution_count": 8,
     "metadata": {},
     "output_type": "execute_result"
    }
   ],
   "source": [
    "S[1:n+1,1:n+1],H[1:n+1,1:n+1]"
   ]
  },
  {
   "cell_type": "code",
   "execution_count": 9,
   "metadata": {
    "collapsed": false
   },
   "outputs": [
    {
     "data": {
      "text/latex": [
       "$$\\left[\\begin{smallmatrix}0 & 0 & 0 & 0 & 0\\\\0 & 2 \\frac{\\partial}{\\partial E_{1}} \\operatorname{f2}{\\left (E_{1} \\right )} \\frac{\\partial}{\\partial E_{1}} \\operatorname{g2}{\\left (E_{1},E_{2},I_{1} \\right )} & \\frac{\\partial}{\\partial E_{2}} \\operatorname{f1}{\\left (E_{2} \\right )} \\frac{\\partial}{\\partial E_{1}} \\operatorname{g1}{\\left (E_{1},E_{2},I_{2} \\right )} + \\frac{\\partial}{\\partial E_{1}} \\operatorname{f2}{\\left (E_{1} \\right )} \\frac{\\partial}{\\partial E_{2}} \\operatorname{g2}{\\left (E_{1},E_{2},I_{1} \\right )} & \\left(\\frac{\\partial}{\\partial I_{1}} \\operatorname{f4}{\\left (I_{1} \\right )} + \\frac{\\partial}{\\partial I_{1}} \\operatorname{g2}{\\left (E_{1},E_{2},I_{1} \\right )}\\right) \\frac{\\partial}{\\partial E_{1}} \\operatorname{f2}{\\left (E_{1} \\right )} & 0\\\\0 & \\frac{\\partial}{\\partial E_{2}} \\operatorname{f1}{\\left (E_{2} \\right )} \\frac{\\partial}{\\partial E_{1}} \\operatorname{g1}{\\left (E_{1},E_{2},I_{2} \\right )} + \\frac{\\partial}{\\partial E_{1}} \\operatorname{f2}{\\left (E_{1} \\right )} \\frac{\\partial}{\\partial E_{2}} \\operatorname{g2}{\\left (E_{1},E_{2},I_{1} \\right )} & 2 \\frac{\\partial}{\\partial E_{2}} \\operatorname{f1}{\\left (E_{2} \\right )} \\frac{\\partial}{\\partial E_{2}} \\operatorname{g1}{\\left (E_{1},E_{2},I_{2} \\right )} & 0 & \\left(\\frac{\\partial}{\\partial I_{2}} \\operatorname{f3}{\\left (I_{2} \\right )} + \\frac{\\partial}{\\partial I_{2}} \\operatorname{g1}{\\left (E_{1},E_{2},I_{2} \\right )}\\right) \\frac{\\partial}{\\partial E_{2}} \\operatorname{f1}{\\left (E_{2} \\right )}\\\\0 & \\left(\\frac{\\partial}{\\partial I_{1}} \\operatorname{f4}{\\left (I_{1} \\right )} + \\frac{\\partial}{\\partial I_{1}} \\operatorname{g2}{\\left (E_{1},E_{2},I_{1} \\right )}\\right) \\frac{\\partial}{\\partial E_{1}} \\operatorname{f2}{\\left (E_{1} \\right )} & 0 & 0 & 0\\\\0 & 0 & \\left(\\frac{\\partial}{\\partial I_{2}} \\operatorname{f3}{\\left (I_{2} \\right )} + \\frac{\\partial}{\\partial I_{2}} \\operatorname{g1}{\\left (E_{1},E_{2},I_{2} \\right )}\\right) \\frac{\\partial}{\\partial E_{2}} \\operatorname{f1}{\\left (E_{2} \\right )} & 0 & 0\\end{smallmatrix}\\right]$$"
      ],
      "text/plain": [
       "⎡0                                  0                                         \n",
       "⎢                                                                             \n",
       "⎢                      d           d                                    d     \n",
       "⎢0                  2⋅───(f₂(E₁))⋅───(g₂(E₁, E₂, I₁))                  ───(f₁(\n",
       "⎢                     dE₁         dE₁                                  dE₂    \n",
       "⎢                                                                             \n",
       "⎢    d           d                     d           d                          \n",
       "⎢0  ───(f₁(E₂))⋅───(g₁(E₁, E₂, I₂)) + ───(f₂(E₁))⋅───(g₂(E₁, E₂, I₁))         \n",
       "⎢   dE₂         dE₁                   dE₁         dE₂                         \n",
       "⎢                                                                             \n",
       "⎢            ⎛ d             d                 ⎞  d                           \n",
       "⎢0           ⎜───(f₄(I₁)) + ───(g₂(E₁, E₂, I₁))⎟⋅───(f₂(E₁))                  \n",
       "⎢            ⎝dI₁           dI₁                ⎠ dE₁                          \n",
       "⎢                                                                             \n",
       "⎢                                                                             \n",
       "⎢0                                  0                                         \n",
       "⎣                                                                             \n",
       "\n",
       "                         0                                                    \n",
       "                                                                              \n",
       "      d                     d           d                   ⎛ d             d \n",
       "E₂))⋅───(g₁(E₁, E₂, I₂)) + ───(f₂(E₁))⋅───(g₂(E₁, E₂, I₁))  ⎜───(f₄(I₁)) + ───\n",
       "     dE₁                   dE₁         dE₂                  ⎝dI₁           dI₁\n",
       "                                                                              \n",
       "            d           d                                                     \n",
       "         2⋅───(f₁(E₂))⋅───(g₁(E₁, E₂, I₂))                                    \n",
       "           dE₂         dE₂                                                    \n",
       "                                                                              \n",
       "                                                                              \n",
       "                         0                                                    \n",
       "                                                                              \n",
       "                                                                              \n",
       "  ⎛ d             d                 ⎞  d                                      \n",
       "  ⎜───(f₃(I₂)) + ───(g₁(E₁, E₂, I₂))⎟⋅───(f₁(E₂))                             \n",
       "  ⎝dI₂           dI₂                ⎠ dE₂                                     \n",
       "\n",
       "     0                                                0                       \n",
       "                                                                              \n",
       "                ⎞  d                                                          \n",
       "(g₂(E₁, E₂, I₁))⎟⋅───(f₂(E₁))                         0                       \n",
       "                ⎠ dE₁                                                         \n",
       "                                                                              \n",
       "                               ⎛ d             d                 ⎞  d         \n",
       "     0                         ⎜───(f₃(I₂)) + ───(g₁(E₁, E₂, I₂))⎟⋅───(f₁(E₂))\n",
       "                               ⎝dI₂           dI₂                ⎠ dE₂        \n",
       "                                                                              \n",
       "                                                                              \n",
       "     0                                                0                       \n",
       "                                                                              \n",
       "                                                                              \n",
       "                                                                              \n",
       "     0                                                0                       \n",
       "                                                                              \n",
       "\n",
       "⎤\n",
       "⎥\n",
       "⎥\n",
       "⎥\n",
       "⎥\n",
       "⎥\n",
       "⎥\n",
       "⎥\n",
       "⎥\n",
       "⎥\n",
       "⎥\n",
       "⎥\n",
       "⎥\n",
       "⎥\n",
       "⎥\n",
       "⎥\n",
       "⎦"
      ]
     },
     "execution_count": 9,
     "metadata": {},
     "output_type": "execute_result"
    }
   ],
   "source": [
    "S"
   ]
  },
  {
   "cell_type": "code",
   "execution_count": 10,
   "metadata": {
    "collapsed": false
   },
   "outputs": [
    {
     "data": {
      "text/latex": [
       "$$\\left[\\begin{smallmatrix}\\operatorname{k}{\\left (E_{1},E_{2},I_{1},I_{2} \\right )} & \\left(- \\operatorname{f4}{\\left (I_{1} \\right )} - \\operatorname{g2}{\\left (E_{1},E_{2},I_{1} \\right )}\\right) \\operatorname{k}{\\left (E_{1},E_{2},I_{1},I_{2} \\right )} \\frac{\\partial}{\\partial E_{1}} \\operatorname{f2}{\\left (E_{1} \\right )} & \\left(- \\operatorname{f3}{\\left (I_{2} \\right )} - \\operatorname{g1}{\\left (E_{1},E_{2},I_{2} \\right )}\\right) \\operatorname{k}{\\left (E_{1},E_{2},I_{1},I_{2} \\right )} \\frac{\\partial}{\\partial E_{2}} \\operatorname{f1}{\\left (E_{2} \\right )} & 0 & 0\\\\\\left(- \\operatorname{f4}{\\left (I_{1} \\right )} - \\operatorname{g2}{\\left (E_{1},E_{2},I_{1} \\right )}\\right) \\operatorname{k}{\\left (E_{1},E_{2},I_{1},I_{2} \\right )} \\frac{\\partial}{\\partial E_{1}} \\operatorname{f2}{\\left (E_{1} \\right )} & \\frac{I_{1}^{2}}{\\operatorname{k}{\\left (E_{1},E_{2},I_{1},I_{2} \\right )}} & \\frac{I_{1} I_{2}}{\\operatorname{k}{\\left (E_{1},E_{2},I_{1},I_{2} \\right )}} & 0 & 0\\\\\\left(- \\operatorname{f3}{\\left (I_{2} \\right )} - \\operatorname{g1}{\\left (E_{1},E_{2},I_{2} \\right )}\\right) \\operatorname{k}{\\left (E_{1},E_{2},I_{1},I_{2} \\right )} \\frac{\\partial}{\\partial E_{2}} \\operatorname{f1}{\\left (E_{2} \\right )} & \\frac{I_{1} I_{2}}{\\operatorname{k}{\\left (E_{1},E_{2},I_{1},I_{2} \\right )}} & \\frac{I_{2}^{2}}{\\operatorname{k}{\\left (E_{1},E_{2},I_{1},I_{2} \\right )}} & 0 & 0\\\\0 & 0 & 0 & 0 & 0\\\\0 & 0 & 0 & 0 & 0\\end{smallmatrix}\\right]$$"
      ],
      "text/plain": [
       "⎡                                                                             \n",
       "⎢                   k(E₁, E₂, I₁, I₂)                      (-f₄(I₁) - g₂(E₁, E\n",
       "⎢                                                                             \n",
       "⎢                                                                             \n",
       "⎢                                                                             \n",
       "⎢                                              d                              \n",
       "⎢(-f₄(I₁) - g₂(E₁, E₂, I₁))⋅k(E₁, E₂, I₁, I₂)⋅───(f₂(E₁))                     \n",
       "⎢                                             dE₁                             \n",
       "⎢                                                                             \n",
       "⎢                                                                             \n",
       "⎢                                              d                              \n",
       "⎢(-f₃(I₂) - g₁(E₁, E₂, I₂))⋅k(E₁, E₂, I₁, I₂)⋅───(f₁(E₂))                     \n",
       "⎢                                             dE₂                             \n",
       "⎢                                                                             \n",
       "⎢                           0                                                 \n",
       "⎢                                                                             \n",
       "⎣                           0                                                 \n",
       "\n",
       "                           d                                                  \n",
       "₂, I₁))⋅k(E₁, E₂, I₁, I₂)⋅───(f₂(E₁))  (-f₃(I₂) - g₁(E₁, E₂, I₂))⋅k(E₁, E₂, I₁\n",
       "                          dE₁                                                 \n",
       "                                                                              \n",
       "         2                                                                    \n",
       "       I₁                                                       I₁⋅I₂         \n",
       "─────────────────                                         ─────────────────   \n",
       "k(E₁, E₂, I₁, I₂)                                         k(E₁, E₂, I₁, I₂)   \n",
       "                                                                              \n",
       "                                                                   2          \n",
       "      I₁⋅I₂                                                      I₂           \n",
       "─────────────────                                         ─────────────────   \n",
       "k(E₁, E₂, I₁, I₂)                                         k(E₁, E₂, I₁, I₂)   \n",
       "                                                                              \n",
       "        0                                                         0           \n",
       "                                                                              \n",
       "        0                                                         0           \n",
       "\n",
       "       d               ⎤\n",
       ", I₂)⋅───(f₁(E₂))  0  0⎥\n",
       "      dE₂              ⎥\n",
       "                       ⎥\n",
       "                       ⎥\n",
       "                       ⎥\n",
       "                   0  0⎥\n",
       "                       ⎥\n",
       "                       ⎥\n",
       "                       ⎥\n",
       "                       ⎥\n",
       "                   0  0⎥\n",
       "                       ⎥\n",
       "                       ⎥\n",
       "                   0  0⎥\n",
       "                       ⎥\n",
       "                   0  0⎦"
      ]
     },
     "execution_count": 10,
     "metadata": {},
     "output_type": "execute_result"
    }
   ],
   "source": [
    "H"
   ]
  },
  {
   "cell_type": "markdown",
   "metadata": {},
   "source": [
    "## Difeomorfismo para GIII"
   ]
  },
  {
   "cell_type": "code",
   "execution_count": 23,
   "metadata": {
    "collapsed": false
   },
   "outputs": [],
   "source": [
    "Z = []\n",
    "B = []\n",
    "Z,B = n_grados(n)"
   ]
  },
  {
   "cell_type": "code",
   "execution_count": 25,
   "metadata": {
    "collapsed": false
   },
   "outputs": [
    {
     "data": {
      "text/latex": [
       "$$\\begin{pmatrix}\\begin{bmatrix}\\Phi , & \\operatorname{f1}{\\left (E_{2} \\right )}, & \\operatorname{f2}{\\left (E_{1} \\right )}, & \\operatorname{f3}{\\left (I_{2} \\right )} + \\operatorname{g1}{\\left (E_{1},E_{2},I_{2} \\right )}, & \\operatorname{f4}{\\left (I_{1} \\right )} + \\operatorname{g2}{\\left (E_{1},E_{2},I_{1} \\right )}\\end{bmatrix}, & \\begin{bmatrix}\\Phi , & E_{1}, & E_{2}, & I_{1}, & I_{2}\\end{bmatrix}, & \\begin{bmatrix}\\Phi , & \\frac{E_{1}^{\\beta}}{\\beta}, & \\frac{E_{2}^{\\beta}}{\\beta}, & \\frac{I_{1}^{\\beta}}{\\beta}, & \\frac{I_{2}^{\\beta}}{\\beta}\\end{bmatrix}\\end{pmatrix}$$"
      ],
      "text/plain": [
       "⎛                                                                             \n",
       "⎜                                                                             \n",
       "⎜[\\Phi , f₁(E₂), f₂(E₁), f₃(I₂) + g₁(E₁, E₂, I₂), f₄(I₁) + g₂(E₁, E₂, I₁)], [\\\n",
       "⎝                                                                             \n",
       "\n",
       "                       ⎡         β    β    β    β⎤⎞\n",
       "                       ⎢       E₁   E₂   I₁   I₂ ⎥⎟\n",
       "Phi , E₁, E₂, I₁, I₂], ⎢\\Phi , ───, ───, ───, ───⎥⎟\n",
       "                       ⎣        β    β    β    β ⎦⎠"
      ]
     },
     "execution_count": 25,
     "metadata": {},
     "output_type": "execute_result"
    }
   ],
   "source": [
    "Z = difeomorphism_001(n)\n",
    "Z1= difeomorphism_003(n,B)\n",
    "Z1, B,Z"
   ]
  },
  {
   "cell_type": "code",
   "execution_count": 26,
   "metadata": {
    "collapsed": false
   },
   "outputs": [
    {
     "data": {
      "text/latex": [
       "$$\\begin{bmatrix}2 \\Phi , & \\frac{E_{1}^{\\beta}}{\\beta} + \\operatorname{f1}{\\left (E_{2} \\right )}, & \\frac{E_{2}^{\\beta}}{\\beta} + \\operatorname{f2}{\\left (E_{1} \\right )}, & \\frac{I_{1}^{\\beta}}{\\beta} + \\operatorname{f3}{\\left (I_{2} \\right )} + \\operatorname{g1}{\\left (E_{1},E_{2},I_{2} \\right )}, & \\frac{I_{2}^{\\beta}}{\\beta} + \\operatorname{f4}{\\left (I_{1} \\right )} + \\operatorname{g2}{\\left (E_{1},E_{2},I_{1} \\right )}\\end{bmatrix}$$"
      ],
      "text/plain": [
       "⎡           β             β             β                              β      \n",
       "⎢         E₁            E₂            I₁                             I₂       \n",
       "⎢2⋅\\Phi , ─── + f₁(E₂), ─── + f₂(E₁), ─── + f₃(I₂) + g₁(E₁, E₂, I₂), ─── + f₄(\n",
       "⎣          β             β             β                              β       \n",
       "\n",
       "                    ⎤\n",
       "                    ⎥\n",
       "I₁) + g₂(E₁, E₂, I₁)⎥\n",
       "                    ⎦"
      ]
     },
     "execution_count": 26,
     "metadata": {},
     "output_type": "execute_result"
    }
   ],
   "source": [
    "\n",
    "#Z[0]=B[0]+Function('L1')(*B[n+1:2*n+1])\n",
    "#Z[1]=Z[1]+Function('L3')(*B[n+1:2*n+1])\n",
    "#Z[1]=Z[1]+Function('L'+str('1'))(B[1])*B[0]\n",
    "Z = [a + b for a, b in zip(Z, Z1)]\n",
    "Z"
   ]
  },
  {
   "cell_type": "code",
   "execution_count": 27,
   "metadata": {
    "collapsed": false
   },
   "outputs": [
    {
     "data": {
      "text/latex": [
       "$$\\begin{pmatrix}\\left[\\begin{smallmatrix}4 & - \\frac{2 E_{1}^{\\beta -1} \\left(I_{1}^{\\beta} + \\beta \\left(\\operatorname{f3}{\\left (I_{2} \\right )} + \\operatorname{g1}{\\left (E_{1},E_{2},I_{2} \\right )}\\right)\\right) + 2 \\left(I_{2}^{\\beta} + \\beta \\left(\\operatorname{f4}{\\left (I_{1} \\right )} + \\operatorname{g2}{\\left (E_{1},E_{2},I_{1} \\right )}\\right)\\right) \\frac{\\partial}{\\partial E_{1}} \\operatorname{f2}{\\left (E_{1} \\right )}}{\\beta} & - \\frac{2 E_{2}^{\\beta -1} \\left(I_{2}^{\\beta} + \\beta \\left(\\operatorname{f4}{\\left (I_{1} \\right )} + \\operatorname{g2}{\\left (E_{1},E_{2},I_{1} \\right )}\\right)\\right) + 2 \\left(I_{1}^{\\beta} + \\beta \\left(\\operatorname{f3}{\\left (I_{2} \\right )} + \\operatorname{g1}{\\left (E_{1},E_{2},I_{2} \\right )}\\right)\\right) \\frac{\\partial}{\\partial E_{2}} \\operatorname{f1}{\\left (E_{2} \\right )}}{\\beta} & 0 & 0\\\\- \\frac{2 E_{1}^{\\beta -1} \\left(I_{1}^{\\beta} + \\beta \\left(\\operatorname{f3}{\\left (I_{2} \\right )} + \\operatorname{g1}{\\left (E_{1},E_{2},I_{2} \\right )}\\right)\\right) + 2 \\left(I_{2}^{\\beta} + \\beta \\left(\\operatorname{f4}{\\left (I_{1} \\right )} + \\operatorname{g2}{\\left (E_{1},E_{2},I_{1} \\right )}\\right)\\right) \\frac{\\partial}{\\partial E_{1}} \\operatorname{f2}{\\left (E_{1} \\right )}}{\\beta} & \\left(E_{1}^{\\beta -1} \\left(\\frac{I_{1}^{\\beta}}{\\beta} + \\operatorname{f3}{\\left (I_{2} \\right )} + \\operatorname{g1}{\\left (E_{1},E_{2},I_{2} \\right )}\\right) + \\left(\\frac{I_{2}^{\\beta}}{\\beta} + \\operatorname{f4}{\\left (I_{1} \\right )} + \\operatorname{g2}{\\left (E_{1},E_{2},I_{1} \\right )}\\right) \\frac{\\partial}{\\partial E_{1}} \\operatorname{f2}{\\left (E_{1} \\right )}\\right)^{2} & \\left(E_{1}^{\\beta -1} \\left(\\frac{I_{1}^{\\beta}}{\\beta} + \\operatorname{f3}{\\left (I_{2} \\right )} + \\operatorname{g1}{\\left (E_{1},E_{2},I_{2} \\right )}\\right) + \\left(\\frac{I_{2}^{\\beta}}{\\beta} + \\operatorname{f4}{\\left (I_{1} \\right )} + \\operatorname{g2}{\\left (E_{1},E_{2},I_{1} \\right )}\\right) \\frac{\\partial}{\\partial E_{1}} \\operatorname{f2}{\\left (E_{1} \\right )}\\right) \\left(E_{2}^{\\beta -1} \\left(\\frac{I_{2}^{\\beta}}{\\beta} + \\operatorname{f4}{\\left (I_{1} \\right )} + \\operatorname{g2}{\\left (E_{1},E_{2},I_{1} \\right )}\\right) + \\left(\\frac{I_{1}^{\\beta}}{\\beta} + \\operatorname{f3}{\\left (I_{2} \\right )} + \\operatorname{g1}{\\left (E_{1},E_{2},I_{2} \\right )}\\right) \\frac{\\partial}{\\partial E_{2}} \\operatorname{f1}{\\left (E_{2} \\right )}\\right) & 0 & 0\\\\- \\frac{2 E_{2}^{\\beta -1} \\left(I_{2}^{\\beta} + \\beta \\left(\\operatorname{f4}{\\left (I_{1} \\right )} + \\operatorname{g2}{\\left (E_{1},E_{2},I_{1} \\right )}\\right)\\right) + 2 \\left(I_{1}^{\\beta} + \\beta \\left(\\operatorname{f3}{\\left (I_{2} \\right )} + \\operatorname{g1}{\\left (E_{1},E_{2},I_{2} \\right )}\\right)\\right) \\frac{\\partial}{\\partial E_{2}} \\operatorname{f1}{\\left (E_{2} \\right )}}{\\beta} & \\left(E_{1}^{\\beta -1} \\left(\\frac{I_{1}^{\\beta}}{\\beta} + \\operatorname{f3}{\\left (I_{2} \\right )} + \\operatorname{g1}{\\left (E_{1},E_{2},I_{2} \\right )}\\right) + \\left(\\frac{I_{2}^{\\beta}}{\\beta} + \\operatorname{f4}{\\left (I_{1} \\right )} + \\operatorname{g2}{\\left (E_{1},E_{2},I_{1} \\right )}\\right) \\frac{\\partial}{\\partial E_{1}} \\operatorname{f2}{\\left (E_{1} \\right )}\\right) \\left(E_{2}^{\\beta -1} \\left(\\frac{I_{2}^{\\beta}}{\\beta} + \\operatorname{f4}{\\left (I_{1} \\right )} + \\operatorname{g2}{\\left (E_{1},E_{2},I_{1} \\right )}\\right) + \\left(\\frac{I_{1}^{\\beta}}{\\beta} + \\operatorname{f3}{\\left (I_{2} \\right )} + \\operatorname{g1}{\\left (E_{1},E_{2},I_{2} \\right )}\\right) \\frac{\\partial}{\\partial E_{2}} \\operatorname{f1}{\\left (E_{2} \\right )}\\right) & \\left(E_{2}^{\\beta -1} \\left(\\frac{I_{2}^{\\beta}}{\\beta} + \\operatorname{f4}{\\left (I_{1} \\right )} + \\operatorname{g2}{\\left (E_{1},E_{2},I_{1} \\right )}\\right) + \\left(\\frac{I_{1}^{\\beta}}{\\beta} + \\operatorname{f3}{\\left (I_{2} \\right )} + \\operatorname{g1}{\\left (E_{1},E_{2},I_{2} \\right )}\\right) \\frac{\\partial}{\\partial E_{2}} \\operatorname{f1}{\\left (E_{2} \\right )}\\right)^{2} & 0 & 0\\\\0 & 0 & 0 & 0 & 0\\\\0 & 0 & 0 & 0 & 0\\end{smallmatrix}\\right], & \\left[\\begin{smallmatrix}0 & 0 & 0 & 0 & 0\\\\0 & 2 E_{1}^{\\beta -1} \\frac{\\partial}{\\partial E_{1}} \\operatorname{g1}{\\left (E_{1},E_{2},I_{2} \\right )} + 2 \\frac{\\partial}{\\partial E_{1}} \\operatorname{f2}{\\left (E_{1} \\right )} \\frac{\\partial}{\\partial E_{1}} \\operatorname{g2}{\\left (E_{1},E_{2},I_{1} \\right )} & E_{1}^{\\beta -1} \\frac{\\partial}{\\partial E_{2}} \\operatorname{g1}{\\left (E_{1},E_{2},I_{2} \\right )} + E_{2}^{\\beta -1} \\frac{\\partial}{\\partial E_{1}} \\operatorname{g2}{\\left (E_{1},E_{2},I_{1} \\right )} + \\frac{\\partial}{\\partial E_{2}} \\operatorname{f1}{\\left (E_{2} \\right )} \\frac{\\partial}{\\partial E_{1}} \\operatorname{g1}{\\left (E_{1},E_{2},I_{2} \\right )} + \\frac{\\partial}{\\partial E_{1}} \\operatorname{f2}{\\left (E_{1} \\right )} \\frac{\\partial}{\\partial E_{2}} \\operatorname{g2}{\\left (E_{1},E_{2},I_{1} \\right )} & E_{1}^{\\beta -1} I_{1}^{\\beta -1} + \\left(\\frac{\\partial}{\\partial I_{1}} \\operatorname{f4}{\\left (I_{1} \\right )} + \\frac{\\partial}{\\partial I_{1}} \\operatorname{g2}{\\left (E_{1},E_{2},I_{1} \\right )}\\right) \\frac{\\partial}{\\partial E_{1}} \\operatorname{f2}{\\left (E_{1} \\right )} & E_{1}^{\\beta -1} \\left(\\frac{\\partial}{\\partial I_{2}} \\operatorname{f3}{\\left (I_{2} \\right )} + \\frac{\\partial}{\\partial I_{2}} \\operatorname{g1}{\\left (E_{1},E_{2},I_{2} \\right )}\\right) + I_{2}^{\\beta -1} \\frac{\\partial}{\\partial E_{1}} \\operatorname{f2}{\\left (E_{1} \\right )}\\\\0 & E_{1}^{\\beta -1} \\frac{\\partial}{\\partial E_{2}} \\operatorname{g1}{\\left (E_{1},E_{2},I_{2} \\right )} + E_{2}^{\\beta -1} \\frac{\\partial}{\\partial E_{1}} \\operatorname{g2}{\\left (E_{1},E_{2},I_{1} \\right )} + \\frac{\\partial}{\\partial E_{2}} \\operatorname{f1}{\\left (E_{2} \\right )} \\frac{\\partial}{\\partial E_{1}} \\operatorname{g1}{\\left (E_{1},E_{2},I_{2} \\right )} + \\frac{\\partial}{\\partial E_{1}} \\operatorname{f2}{\\left (E_{1} \\right )} \\frac{\\partial}{\\partial E_{2}} \\operatorname{g2}{\\left (E_{1},E_{2},I_{1} \\right )} & 2 E_{2}^{\\beta -1} \\frac{\\partial}{\\partial E_{2}} \\operatorname{g2}{\\left (E_{1},E_{2},I_{1} \\right )} + 2 \\frac{\\partial}{\\partial E_{2}} \\operatorname{f1}{\\left (E_{2} \\right )} \\frac{\\partial}{\\partial E_{2}} \\operatorname{g1}{\\left (E_{1},E_{2},I_{2} \\right )} & E_{2}^{\\beta -1} \\left(\\frac{\\partial}{\\partial I_{1}} \\operatorname{f4}{\\left (I_{1} \\right )} + \\frac{\\partial}{\\partial I_{1}} \\operatorname{g2}{\\left (E_{1},E_{2},I_{1} \\right )}\\right) + I_{1}^{\\beta -1} \\frac{\\partial}{\\partial E_{2}} \\operatorname{f1}{\\left (E_{2} \\right )} & E_{2}^{\\beta -1} I_{2}^{\\beta -1} + \\left(\\frac{\\partial}{\\partial I_{2}} \\operatorname{f3}{\\left (I_{2} \\right )} + \\frac{\\partial}{\\partial I_{2}} \\operatorname{g1}{\\left (E_{1},E_{2},I_{2} \\right )}\\right) \\frac{\\partial}{\\partial E_{2}} \\operatorname{f1}{\\left (E_{2} \\right )}\\\\0 & E_{1}^{\\beta -1} I_{1}^{\\beta -1} + \\left(\\frac{\\partial}{\\partial I_{1}} \\operatorname{f4}{\\left (I_{1} \\right )} + \\frac{\\partial}{\\partial I_{1}} \\operatorname{g2}{\\left (E_{1},E_{2},I_{1} \\right )}\\right) \\frac{\\partial}{\\partial E_{1}} \\operatorname{f2}{\\left (E_{1} \\right )} & E_{2}^{\\beta -1} \\left(\\frac{\\partial}{\\partial I_{1}} \\operatorname{f4}{\\left (I_{1} \\right )} + \\frac{\\partial}{\\partial I_{1}} \\operatorname{g2}{\\left (E_{1},E_{2},I_{1} \\right )}\\right) + I_{1}^{\\beta -1} \\frac{\\partial}{\\partial E_{2}} \\operatorname{f1}{\\left (E_{2} \\right )} & 0 & 0\\\\0 & E_{1}^{\\beta -1} \\left(\\frac{\\partial}{\\partial I_{2}} \\operatorname{f3}{\\left (I_{2} \\right )} + \\frac{\\partial}{\\partial I_{2}} \\operatorname{g1}{\\left (E_{1},E_{2},I_{2} \\right )}\\right) + I_{2}^{\\beta -1} \\frac{\\partial}{\\partial E_{1}} \\operatorname{f2}{\\left (E_{1} \\right )} & E_{2}^{\\beta -1} I_{2}^{\\beta -1} + \\left(\\frac{\\partial}{\\partial I_{2}} \\operatorname{f3}{\\left (I_{2} \\right )} + \\frac{\\partial}{\\partial I_{2}} \\operatorname{g1}{\\left (E_{1},E_{2},I_{2} \\right )}\\right) \\frac{\\partial}{\\partial E_{2}} \\operatorname{f1}{\\left (E_{2} \\right )} & 0 & 0\\end{smallmatrix}\\right]\\end{pmatrix}$$"
      ],
      "text/plain": [
       "⎛⎡                                                                            \n",
       "⎜⎢                                                                            \n",
       "⎜⎢                                                                            \n",
       "⎜⎢                                                 4                          \n",
       "⎜⎢                                                                            \n",
       "⎜⎢                                                                            \n",
       "⎜⎢ ⎛    β - 1 ⎛  β                              ⎞     ⎛  β                    \n",
       "⎜⎢-⎜2⋅E₁     ⋅⎝I₁  + β⋅(f₃(I₂) + g₁(E₁, E₂, I₂))⎠ + 2⋅⎝I₂  + β⋅(f₄(I₁) + g₂(E₁\n",
       "⎜⎢ ⎝                                                                          \n",
       "⎜⎢────────────────────────────────────────────────────────────────────────────\n",
       "⎜⎢                                                 β                          \n",
       "⎜⎢                                                                            \n",
       "⎜⎢ ⎛    β - 1 ⎛  β                              ⎞     ⎛  β                    \n",
       "⎜⎢-⎜2⋅E₂     ⋅⎝I₂  + β⋅(f₄(I₁) + g₂(E₁, E₂, I₁))⎠ + 2⋅⎝I₁  + β⋅(f₃(I₂) + g₁(E₁\n",
       "⎜⎢ ⎝                                                                          \n",
       "⎜⎢────────────────────────────────────────────────────────────────────────────\n",
       "⎜⎢                                                 β                          \n",
       "⎜⎢                                                                            \n",
       "⎜⎢                                                 0                          \n",
       "⎜⎢                                                                            \n",
       "⎝⎣                                                 0                          \n",
       "\n",
       "                                                                ⎛    β - 1 ⎛  \n",
       "                                                               -⎜2⋅E₁     ⋅⎝I₁\n",
       "                                                                ⎝             \n",
       "                                                               ───────────────\n",
       "                                                                              \n",
       "                                                                              \n",
       "          ⎞  d         ⎞                                                      \n",
       ", E₂, I₁))⎠⋅───(f₂(E₁))⎟                                             ⎛        \n",
       "            dE₁        ⎠                                             ⎜  β - 1 \n",
       "────────────────────────                                             ⎜E₁     ⋅\n",
       "                                                                     ⎝        \n",
       "                                                                              \n",
       "          ⎞  d         ⎞                                                      \n",
       ", E₂, I₂))⎠⋅───(f₁(E₂))⎟  ⎛        ⎛  β                          ⎞   ⎛  β     \n",
       "            dE₂        ⎠  ⎜  β - 1 ⎜I₁                           ⎟   ⎜I₂      \n",
       "────────────────────────  ⎜E₁     ⋅⎜─── + f₃(I₂) + g₁(E₁, E₂, I₂)⎟ + ⎜─── + f₄\n",
       "                          ⎝        ⎝ β                           ⎠   ⎝ β      \n",
       "                                                                              \n",
       "                                                                              \n",
       "                                                                              \n",
       "                                                                              \n",
       "\n",
       "β                              ⎞     ⎛  β                              ⎞  d   \n",
       "  + β⋅(f₃(I₂) + g₁(E₁, E₂, I₂))⎠ + 2⋅⎝I₂  + β⋅(f₄(I₁) + g₂(E₁, E₂, I₁))⎠⋅───(f\n",
       "                                                                         dE₁  \n",
       "──────────────────────────────────────────────────────────────────────────────\n",
       "                                  β                                           \n",
       "                                                                              \n",
       "                                                                              \n",
       "⎛  β                          ⎞   ⎛  β                          ⎞            ⎞\n",
       "⎜I₁                           ⎟   ⎜I₂                           ⎟  d         ⎟\n",
       "⎜─── + f₃(I₂) + g₁(E₁, E₂, I₂)⎟ + ⎜─── + f₄(I₁) + g₂(E₁, E₂, I₁)⎟⋅───(f₂(E₁))⎟\n",
       "⎝ β                           ⎠   ⎝ β                           ⎠ dE₁        ⎠\n",
       "                                                                              \n",
       "                                                                              \n",
       "                     ⎞            ⎞ ⎛        ⎛  β                          ⎞  \n",
       "                     ⎟  d         ⎟ ⎜  β - 1 ⎜I₂                           ⎟  \n",
       "(I₁) + g₂(E₁, E₂, I₁)⎟⋅───(f₂(E₁))⎟⋅⎜E₂     ⋅⎜─── + f₄(I₁) + g₂(E₁, E₂, I₁)⎟ +\n",
       "                     ⎠ dE₁        ⎠ ⎝        ⎝ β                           ⎠  \n",
       "                                                                              \n",
       "                                   0                                          \n",
       "                                                                              \n",
       "                                   0                                          \n",
       "\n",
       "      ⎞                                                                       \n",
       "₂(E₁))⎟                                                                       \n",
       "      ⎠                                                                       \n",
       "───────                                                                       \n",
       "                                                                              \n",
       "                                                                              \n",
       "2                                                                             \n",
       "                                               ⎛        ⎛  β                  \n",
       "                                               ⎜  β - 1 ⎜I₁                   \n",
       "                                               ⎜E₁     ⋅⎜─── + f₃(I₂) + g₁(E₁,\n",
       "                                               ⎝        ⎝ β                   \n",
       "                                                                              \n",
       "                                                                              \n",
       " ⎛  β                          ⎞            ⎞                                 \n",
       " ⎜I₁                           ⎟  d         ⎟                                 \n",
       " ⎜─── + f₃(I₂) + g₁(E₁, E₂, I₂)⎟⋅───(f₁(E₂))⎟                                 \n",
       " ⎝ β                           ⎠ dE₂        ⎠                                 \n",
       "                                                                              \n",
       "                                                                              \n",
       "                                                                              \n",
       "                                                                              \n",
       "\n",
       "       ⎛    β - 1 ⎛  β                              ⎞     ⎛  β                \n",
       "      -⎜2⋅E₂     ⋅⎝I₂  + β⋅(f₄(I₁) + g₂(E₁, E₂, I₁))⎠ + 2⋅⎝I₁  + β⋅(f₃(I₂) + g\n",
       "       ⎝                                                                      \n",
       "      ────────────────────────────────────────────────────────────────────────\n",
       "                                                       β                      \n",
       "                                                                              \n",
       "                                                                              \n",
       "        ⎞   ⎛  β                          ⎞            ⎞ ⎛        ⎛  β        \n",
       "        ⎟   ⎜I₂                           ⎟  d         ⎟ ⎜  β - 1 ⎜I₂         \n",
       " E₂, I₂)⎟ + ⎜─── + f₄(I₁) + g₂(E₁, E₂, I₁)⎟⋅───(f₂(E₁))⎟⋅⎜E₂     ⋅⎜─── + f₄(I₁\n",
       "        ⎠   ⎝ β                           ⎠ dE₁        ⎠ ⎝        ⎝ β         \n",
       "                                                                              \n",
       "                                                                              \n",
       "            ⎛        ⎛  β                          ⎞   ⎛  β                   \n",
       "            ⎜  β - 1 ⎜I₂                           ⎟   ⎜I₁                    \n",
       "            ⎜E₂     ⋅⎜─── + f₄(I₁) + g₂(E₁, E₂, I₁)⎟ + ⎜─── + f₃(I₂) + g₁(E₁, \n",
       "            ⎝        ⎝ β                           ⎠   ⎝ β                    \n",
       "                                                                              \n",
       "                                                        0                     \n",
       "                                                                              \n",
       "                                                        0                     \n",
       "\n",
       "              ⎞  d         ⎞                                            ⎤     \n",
       "₁(E₁, E₂, I₂))⎠⋅───(f₁(E₂))⎟                                            ⎥     \n",
       "                dE₂        ⎠                                            ⎥     \n",
       "────────────────────────────                                        0  0⎥, ⎡0 \n",
       "                                                                        ⎥  ⎢  \n",
       "                                                                        ⎥  ⎢  \n",
       "                                                                        ⎥  ⎢0 \n",
       "                  ⎞   ⎛  β                          ⎞            ⎞      ⎥  ⎢  \n",
       "                  ⎟   ⎜I₁                           ⎟  d         ⎟      ⎥  ⎢  \n",
       ") + g₂(E₁, E₂, I₁)⎟ + ⎜─── + f₃(I₂) + g₁(E₁, E₂, I₂)⎟⋅───(f₁(E₂))⎟  0  0⎥  ⎢  \n",
       "                  ⎠   ⎝ β                           ⎠ dE₂        ⎠      ⎥  ⎢0 \n",
       "                                                                        ⎥  ⎢  \n",
       "                     2                                                  ⎥  ⎢  \n",
       "       ⎞            ⎞                                                   ⎥  ⎢  \n",
       "       ⎟  d         ⎟                                                   ⎥  ⎢0 \n",
       "E₂, I₂)⎟⋅───(f₁(E₂))⎟                                               0  0⎥  ⎢  \n",
       "       ⎠ dE₂        ⎠                                                   ⎥  ⎢  \n",
       "                                                                        ⎥  ⎢  \n",
       "                                                                    0  0⎥  ⎢0 \n",
       "                                                                        ⎥  ⎣  \n",
       "                                                                    0  0⎦     \n",
       "\n",
       "                                                                              \n",
       "                                                                              \n",
       "                                                                              \n",
       "                                                               0              \n",
       "                                                                              \n",
       "                                   β - 1  d                       d           \n",
       "                               2⋅E₁     ⋅───(g₁(E₁, E₂, I₂)) + 2⋅───(f₂(E₁))⋅─\n",
       "                                         dE₁                     dE₁         d\n",
       "                                                                              \n",
       "   β - 1  d                      β - 1  d                     d           d   \n",
       " E₁     ⋅───(g₁(E₁, E₂, I₂)) + E₂     ⋅───(g₂(E₁, E₂, I₁)) + ───(f₁(E₂))⋅───(g\n",
       "         dE₂                           dE₁                   dE₂         dE₁  \n",
       "                                                                              \n",
       "                                 β - 1   β - 1   ⎛ d             d            \n",
       "                               E₁     ⋅I₁      + ⎜───(f₄(I₁)) + ───(g₂(E₁, E₂,\n",
       "                                                 ⎝dI₁           dI₁           \n",
       "                                                                              \n",
       "                                 β - 1 ⎛ d             d                 ⎞    \n",
       "                               E₁     ⋅⎜───(f₃(I₂)) + ───(g₁(E₁, E₂, I₂))⎟ + I\n",
       "                                       ⎝dI₂           dI₂                ⎠    \n",
       "                                                                              \n",
       "\n",
       "                                                                              \n",
       "                                                                              \n",
       "                                                                              \n",
       "                                                                              \n",
       "                                                                              \n",
       "d                                                   β - 1  d                  \n",
       "──(g₂(E₁, E₂, I₁))                                E₁     ⋅───(g₁(E₁, E₂, I₂)) \n",
       "E₁                                                        dE₂                 \n",
       "                                                                              \n",
       "                  d           d                                               \n",
       "₁(E₁, E₂, I₂)) + ───(f₂(E₁))⋅───(g₂(E₁, E₂, I₁))                              \n",
       "                 dE₁         dE₂                                              \n",
       "                                                                              \n",
       "     ⎞  d                                                                     \n",
       " I₁))⎟⋅───(f₂(E₁))                                                            \n",
       "     ⎠ dE₁                                                                    \n",
       "                                                                              \n",
       " β - 1  d                                                                     \n",
       "₂     ⋅───(f₂(E₁))                                                            \n",
       "       dE₁                                                                    \n",
       "                                                                              \n",
       "\n",
       "                                                                              \n",
       "                                                                              \n",
       "                                                                              \n",
       "                                  0                                           \n",
       "                                                                              \n",
       "    β - 1  d                     d           d                     d          \n",
       "+ E₂     ⋅───(g₂(E₁, E₂, I₁)) + ───(f₁(E₂))⋅───(g₁(E₁, E₂, I₂)) + ───(f₂(E₁))⋅\n",
       "          dE₁                   dE₂         dE₁                   dE₁         \n",
       "                                                                              \n",
       "      β - 1  d                       d           d                            \n",
       "  2⋅E₂     ⋅───(g₂(E₁, E₂, I₁)) + 2⋅───(f₁(E₂))⋅───(g₁(E₁, E₂, I₂))           \n",
       "            dE₂                     dE₂         dE₂                           \n",
       "                                                                              \n",
       "    β - 1 ⎛ d             d                 ⎞     β - 1  d                    \n",
       "  E₂     ⋅⎜───(f₄(I₁)) + ───(g₂(E₁, E₂, I₁))⎟ + I₁     ⋅───(f₁(E₂))           \n",
       "          ⎝dI₁           dI₁                ⎠           dE₂                   \n",
       "                                                                              \n",
       "    β - 1   β - 1   ⎛ d             d                 ⎞  d                    \n",
       "  E₂     ⋅I₂      + ⎜───(f₃(I₂)) + ───(g₁(E₁, E₂, I₂))⎟⋅───(f₁(E₂))           \n",
       "                    ⎝dI₂           dI₂                ⎠ dE₂                   \n",
       "                                                                              \n",
       "\n",
       "                                                                              \n",
       "                                                                              \n",
       "                                                                              \n",
       "                                                     0                        \n",
       "                                                                              \n",
       " d                     β - 1   β - 1   ⎛ d             d                 ⎞  d \n",
       "───(g₂(E₁, E₂, I₁))  E₁     ⋅I₁      + ⎜───(f₄(I₁)) + ───(g₂(E₁, E₂, I₁))⎟⋅───\n",
       "dE₂                                    ⎝dI₁           dI₁                ⎠ dE₁\n",
       "                                                                              \n",
       "                       β - 1 ⎛ d             d                 ⎞     β - 1  d \n",
       "                     E₂     ⋅⎜───(f₄(I₁)) + ───(g₂(E₁, E₂, I₁))⎟ + I₁     ⋅───\n",
       "                             ⎝dI₁           dI₁                ⎠           dE₂\n",
       "                                                                              \n",
       "                                                                              \n",
       "                                                     0                        \n",
       "                                                                              \n",
       "                                                                              \n",
       "                                                                              \n",
       "                                                     0                        \n",
       "                                                                              \n",
       "                                                                              \n",
       "\n",
       "                                                                            ⎞\n",
       "                                                                            ⎟\n",
       "                                                                            ⎟\n",
       "                                          0                                ⎤⎟\n",
       "                                                                           ⎥⎟\n",
       "            β - 1 ⎛ d             d                 ⎞     β - 1  d         ⎥⎟\n",
       "(f₂(E₁))  E₁     ⋅⎜───(f₃(I₂)) + ───(g₁(E₁, E₂, I₂))⎟ + I₂     ⋅───(f₂(E₁))⎥⎟\n",
       "                  ⎝dI₂           dI₂                ⎠           dE₁        ⎥⎟\n",
       "                                                                           ⎥⎟\n",
       "            β - 1   β - 1   ⎛ d             d                 ⎞  d         ⎥⎟\n",
       "(f₁(E₂))  E₂     ⋅I₂      + ⎜───(f₃(I₂)) + ───(g₁(E₁, E₂, I₂))⎟⋅───(f₁(E₂))⎥⎟\n",
       "                            ⎝dI₂           dI₂                ⎠ dE₂        ⎥⎟\n",
       "                                                                           ⎥⎟\n",
       "                                                                           ⎥⎟\n",
       "                                          0                                ⎥⎟\n",
       "                                                                           ⎥⎟\n",
       "                                                                           ⎥⎟\n",
       "                                                                           ⎥⎟\n",
       "                                          0                                ⎥⎟\n",
       "                                                                           ⎦⎟\n",
       "                                                                            ⎠"
      ]
     },
     "execution_count": 27,
     "metadata": {},
     "output_type": "execute_result"
    }
   ],
   "source": [
    "H = zeros(n)\n",
    "S = zeros(n)\n",
    "H,S = difeomorphism_equations(Z,B,simplify,1)\n",
    "H,S"
   ]
  },
  {
   "cell_type": "code",
   "execution_count": 28,
   "metadata": {
    "collapsed": false
   },
   "outputs": [
    {
     "name": "stdout",
     "output_type": "stream",
     "text": [
      "[1, 2] [3, 4]\n"
     ]
    },
    {
     "data": {
      "text/latex": [
       "$$\\begin{pmatrix}\\left[\\begin{smallmatrix}4 & - \\frac{2 E_{1}^{\\beta -1} \\left(I_{1}^{\\beta} + \\beta \\left(\\operatorname{f3}{\\left (I_{2} \\right )} + \\operatorname{g1}{\\left (E_{1},E_{2},I_{2} \\right )}\\right)\\right) + 2 \\left(I_{2}^{\\beta} + \\beta \\left(\\operatorname{f4}{\\left (I_{1} \\right )} + \\operatorname{g2}{\\left (E_{1},E_{2},I_{1} \\right )}\\right)\\right) \\frac{\\partial}{\\partial E_{1}} \\operatorname{f2}{\\left (E_{1} \\right )}}{\\beta} & - \\frac{2 E_{2}^{\\beta -1} \\left(I_{2}^{\\beta} + \\beta \\left(\\operatorname{f4}{\\left (I_{1} \\right )} + \\operatorname{g2}{\\left (E_{1},E_{2},I_{1} \\right )}\\right)\\right) + 2 \\left(I_{1}^{\\beta} + \\beta \\left(\\operatorname{f3}{\\left (I_{2} \\right )} + \\operatorname{g1}{\\left (E_{1},E_{2},I_{2} \\right )}\\right)\\right) \\frac{\\partial}{\\partial E_{2}} \\operatorname{f1}{\\left (E_{2} \\right )}}{\\beta} & 0 & 0\\\\- \\frac{2 E_{1}^{\\beta -1} \\left(I_{1}^{\\beta} + \\beta \\left(\\operatorname{f3}{\\left (I_{2} \\right )} + \\operatorname{g1}{\\left (E_{1},E_{2},I_{2} \\right )}\\right)\\right) + 2 \\left(I_{2}^{\\beta} + \\beta \\left(\\operatorname{f4}{\\left (I_{1} \\right )} + \\operatorname{g2}{\\left (E_{1},E_{2},I_{1} \\right )}\\right)\\right) \\frac{\\partial}{\\partial E_{1}} \\operatorname{f2}{\\left (E_{1} \\right )}}{\\beta} & \\frac{1}{4} I_{1}^{2} & \\frac{1}{4} I_{1} I_{2} & 0 & 0\\\\- \\frac{2 E_{2}^{\\beta -1} \\left(I_{2}^{\\beta} + \\beta \\left(\\operatorname{f4}{\\left (I_{1} \\right )} + \\operatorname{g2}{\\left (E_{1},E_{2},I_{1} \\right )}\\right)\\right) + 2 \\left(I_{1}^{\\beta} + \\beta \\left(\\operatorname{f3}{\\left (I_{2} \\right )} + \\operatorname{g1}{\\left (E_{1},E_{2},I_{2} \\right )}\\right)\\right) \\frac{\\partial}{\\partial E_{2}} \\operatorname{f1}{\\left (E_{2} \\right )}}{\\beta} & \\frac{1}{4} I_{1} I_{2} & \\frac{1}{4} I_{2}^{2} & 0 & 0\\\\0 & 0 & 0 & 0 & 0\\\\0 & 0 & 0 & 0 & 0\\end{smallmatrix}\\right], & \\left[\\begin{smallmatrix}0 & 0 & 0 & 0 & 0\\\\0 & 2 E_{1}^{\\beta -1} \\frac{\\partial}{\\partial E_{1}} \\operatorname{g1}{\\left (E_{1},E_{2},I_{2} \\right )} + 2 \\frac{\\partial}{\\partial E_{1}} \\operatorname{f2}{\\left (E_{1} \\right )} \\frac{\\partial}{\\partial E_{1}} \\operatorname{g2}{\\left (E_{1},E_{2},I_{1} \\right )} & E_{1}^{\\beta -1} \\frac{\\partial}{\\partial E_{2}} \\operatorname{g1}{\\left (E_{1},E_{2},I_{2} \\right )} + E_{2}^{\\beta -1} \\frac{\\partial}{\\partial E_{1}} \\operatorname{g2}{\\left (E_{1},E_{2},I_{1} \\right )} + \\frac{\\partial}{\\partial E_{2}} \\operatorname{f1}{\\left (E_{2} \\right )} \\frac{\\partial}{\\partial E_{1}} \\operatorname{g1}{\\left (E_{1},E_{2},I_{2} \\right )} + \\frac{\\partial}{\\partial E_{1}} \\operatorname{f2}{\\left (E_{1} \\right )} \\frac{\\partial}{\\partial E_{2}} \\operatorname{g2}{\\left (E_{1},E_{2},I_{1} \\right )} & E_{1}^{\\beta -1} I_{1}^{\\beta -1} + \\left(\\frac{\\partial}{\\partial I_{1}} \\operatorname{f4}{\\left (I_{1} \\right )} + \\frac{\\partial}{\\partial I_{1}} \\operatorname{g2}{\\left (E_{1},E_{2},I_{1} \\right )}\\right) \\frac{\\partial}{\\partial E_{1}} \\operatorname{f2}{\\left (E_{1} \\right )} & E_{1}^{\\beta -1} \\left(\\frac{\\partial}{\\partial I_{2}} \\operatorname{f3}{\\left (I_{2} \\right )} + \\frac{\\partial}{\\partial I_{2}} \\operatorname{g1}{\\left (E_{1},E_{2},I_{2} \\right )}\\right) + I_{2}^{\\beta -1} \\frac{\\partial}{\\partial E_{1}} \\operatorname{f2}{\\left (E_{1} \\right )}\\\\0 & E_{1}^{\\beta -1} \\frac{\\partial}{\\partial E_{2}} \\operatorname{g1}{\\left (E_{1},E_{2},I_{2} \\right )} + E_{2}^{\\beta -1} \\frac{\\partial}{\\partial E_{1}} \\operatorname{g2}{\\left (E_{1},E_{2},I_{1} \\right )} + \\frac{\\partial}{\\partial E_{2}} \\operatorname{f1}{\\left (E_{2} \\right )} \\frac{\\partial}{\\partial E_{1}} \\operatorname{g1}{\\left (E_{1},E_{2},I_{2} \\right )} + \\frac{\\partial}{\\partial E_{1}} \\operatorname{f2}{\\left (E_{1} \\right )} \\frac{\\partial}{\\partial E_{2}} \\operatorname{g2}{\\left (E_{1},E_{2},I_{1} \\right )} & 2 E_{2}^{\\beta -1} \\frac{\\partial}{\\partial E_{2}} \\operatorname{g2}{\\left (E_{1},E_{2},I_{1} \\right )} + 2 \\frac{\\partial}{\\partial E_{2}} \\operatorname{f1}{\\left (E_{2} \\right )} \\frac{\\partial}{\\partial E_{2}} \\operatorname{g1}{\\left (E_{1},E_{2},I_{2} \\right )} & E_{2}^{\\beta -1} \\left(\\frac{\\partial}{\\partial I_{1}} \\operatorname{f4}{\\left (I_{1} \\right )} + \\frac{\\partial}{\\partial I_{1}} \\operatorname{g2}{\\left (E_{1},E_{2},I_{1} \\right )}\\right) + I_{1}^{\\beta -1} \\frac{\\partial}{\\partial E_{2}} \\operatorname{f1}{\\left (E_{2} \\right )} & E_{2}^{\\beta -1} I_{2}^{\\beta -1} + \\left(\\frac{\\partial}{\\partial I_{2}} \\operatorname{f3}{\\left (I_{2} \\right )} + \\frac{\\partial}{\\partial I_{2}} \\operatorname{g1}{\\left (E_{1},E_{2},I_{2} \\right )}\\right) \\frac{\\partial}{\\partial E_{2}} \\operatorname{f1}{\\left (E_{2} \\right )}\\\\0 & E_{1}^{\\beta -1} I_{1}^{\\beta -1} + \\left(\\frac{\\partial}{\\partial I_{1}} \\operatorname{f4}{\\left (I_{1} \\right )} + \\frac{\\partial}{\\partial I_{1}} \\operatorname{g2}{\\left (E_{1},E_{2},I_{1} \\right )}\\right) \\frac{\\partial}{\\partial E_{1}} \\operatorname{f2}{\\left (E_{1} \\right )} & E_{2}^{\\beta -1} \\left(\\frac{\\partial}{\\partial I_{1}} \\operatorname{f4}{\\left (I_{1} \\right )} + \\frac{\\partial}{\\partial I_{1}} \\operatorname{g2}{\\left (E_{1},E_{2},I_{1} \\right )}\\right) + I_{1}^{\\beta -1} \\frac{\\partial}{\\partial E_{2}} \\operatorname{f1}{\\left (E_{2} \\right )} & 0 & 0\\\\0 & E_{1}^{\\beta -1} \\left(\\frac{\\partial}{\\partial I_{2}} \\operatorname{f3}{\\left (I_{2} \\right )} + \\frac{\\partial}{\\partial I_{2}} \\operatorname{g1}{\\left (E_{1},E_{2},I_{2} \\right )}\\right) + I_{2}^{\\beta -1} \\frac{\\partial}{\\partial E_{1}} \\operatorname{f2}{\\left (E_{1} \\right )} & E_{2}^{\\beta -1} I_{2}^{\\beta -1} + \\left(\\frac{\\partial}{\\partial I_{2}} \\operatorname{f3}{\\left (I_{2} \\right )} + \\frac{\\partial}{\\partial I_{2}} \\operatorname{g1}{\\left (E_{1},E_{2},I_{2} \\right )}\\right) \\frac{\\partial}{\\partial E_{2}} \\operatorname{f1}{\\left (E_{2} \\right )} & 0 & 0\\end{smallmatrix}\\right]\\end{pmatrix}$$"
      ],
      "text/plain": [
       "⎛⎡                                                                            \n",
       "⎜⎢                                                                            \n",
       "⎜⎢                                                                            \n",
       "⎜⎢                                                 4                          \n",
       "⎜⎢                                                                            \n",
       "⎜⎢                                                                            \n",
       "⎜⎢ ⎛    β - 1 ⎛  β                              ⎞     ⎛  β                    \n",
       "⎜⎢-⎜2⋅E₁     ⋅⎝I₁  + β⋅(f₃(I₂) + g₁(E₁, E₂, I₂))⎠ + 2⋅⎝I₂  + β⋅(f₄(I₁) + g₂(E₁\n",
       "⎜⎢ ⎝                                                                          \n",
       "⎜⎢────────────────────────────────────────────────────────────────────────────\n",
       "⎜⎢                                                 β                          \n",
       "⎜⎢                                                                            \n",
       "⎜⎢ ⎛    β - 1 ⎛  β                              ⎞     ⎛  β                    \n",
       "⎜⎢-⎜2⋅E₂     ⋅⎝I₂  + β⋅(f₄(I₁) + g₂(E₁, E₂, I₁))⎠ + 2⋅⎝I₁  + β⋅(f₃(I₂) + g₁(E₁\n",
       "⎜⎢ ⎝                                                                          \n",
       "⎜⎢────────────────────────────────────────────────────────────────────────────\n",
       "⎜⎢                                                 β                          \n",
       "⎜⎢                                                                            \n",
       "⎜⎢                                                 0                          \n",
       "⎜⎢                                                                            \n",
       "⎝⎣                                                 0                          \n",
       "\n",
       "                           ⎛    β - 1 ⎛  β                              ⎞     \n",
       "                          -⎜2⋅E₁     ⋅⎝I₁  + β⋅(f₃(I₂) + g₁(E₁, E₂, I₂))⎠ + 2⋅\n",
       "                           ⎝                                                  \n",
       "                          ────────────────────────────────────────────────────\n",
       "                                                                           β  \n",
       "                                                                              \n",
       "          ⎞  d         ⎞                                                      \n",
       ", E₂, I₁))⎠⋅───(f₂(E₁))⎟                                                    2 \n",
       "            dE₁        ⎠                                                  I₁  \n",
       "────────────────────────                                                  ─── \n",
       "                                                                           4  \n",
       "                                                                              \n",
       "          ⎞  d         ⎞                                                      \n",
       ", E₂, I₂))⎠⋅───(f₁(E₂))⎟                                                      \n",
       "            dE₂        ⎠                                                 I₁⋅I₂\n",
       "────────────────────────                                                 ─────\n",
       "                                                                           4  \n",
       "                                                                              \n",
       "                                                                           0  \n",
       "                                                                              \n",
       "                                                                           0  \n",
       "\n",
       "⎛  β                              ⎞  d         ⎞   ⎛    β - 1 ⎛  β            \n",
       "⎝I₂  + β⋅(f₄(I₁) + g₂(E₁, E₂, I₁))⎠⋅───(f₂(E₁))⎟  -⎜2⋅E₂     ⋅⎝I₂  + β⋅(f₄(I₁)\n",
       "                                    dE₁        ⎠   ⎝                          \n",
       "────────────────────────────────────────────────  ────────────────────────────\n",
       "                                                                              \n",
       "                                                                              \n",
       "                                                                              \n",
       "                                                                              \n",
       "                                                                              \n",
       "                                                                              \n",
       "                                                                              \n",
       "                                                                              \n",
       "                                                                              \n",
       "                                                                              \n",
       "                                                                              \n",
       "                                                                              \n",
       "                                                                              \n",
       "                                                                              \n",
       "                                                                              \n",
       "                                                                              \n",
       "                                                                              \n",
       "\n",
       "                  ⎞     ⎛  β                              ⎞  d         ⎞      \n",
       " + g₂(E₁, E₂, I₁))⎠ + 2⋅⎝I₁  + β⋅(f₃(I₂) + g₁(E₁, E₂, I₂))⎠⋅───(f₁(E₂))⎟      \n",
       "                                                            dE₂        ⎠      \n",
       "────────────────────────────────────────────────────────────────────────  0  0\n",
       "                     β                                                        \n",
       "                                                                              \n",
       "                                                                              \n",
       "                                                                              \n",
       "                   I₁⋅I₂                                                      \n",
       "                   ─────                                                  0  0\n",
       "                     4                                                        \n",
       "                                                                              \n",
       "                                                                              \n",
       "                      2                                                       \n",
       "                    I₂                                                        \n",
       "                    ───                                                   0  0\n",
       "                     4                                                        \n",
       "                                                                              \n",
       "                     0                                                    0  0\n",
       "                                                                              \n",
       "                     0                                                    0  0\n",
       "\n",
       "⎤                                                                             \n",
       "⎥                                                                             \n",
       "⎥                                                                             \n",
       "⎥, ⎡0                                                                0        \n",
       "⎥  ⎢                                                                          \n",
       "⎥  ⎢                                     β - 1  d                       d     \n",
       "⎥  ⎢0                                2⋅E₁     ⋅───(g₁(E₁, E₂, I₂)) + 2⋅───(f₂(\n",
       "⎥  ⎢                                           dE₁                     dE₁    \n",
       "⎥  ⎢                                                                          \n",
       "⎥  ⎢     β - 1  d                      β - 1  d                     d         \n",
       "⎥  ⎢0  E₁     ⋅───(g₁(E₁, E₂, I₂)) + E₂     ⋅───(g₂(E₁, E₂, I₁)) + ───(f₁(E₂))\n",
       "⎥  ⎢           dE₂                           dE₁                   dE₂        \n",
       "⎥  ⎢                                                                          \n",
       "⎥  ⎢                                   β - 1   β - 1   ⎛ d             d      \n",
       "⎥  ⎢0                                E₁     ⋅I₁      + ⎜───(f₄(I₁)) + ───(g₂(E\n",
       "⎥  ⎢                                                   ⎝dI₁           dI₁     \n",
       "⎥  ⎢                                                                          \n",
       "⎥  ⎢                                   β - 1 ⎛ d             d                \n",
       "⎥  ⎢0                                E₁     ⋅⎜───(f₃(I₂)) + ───(g₁(E₁, E₂, I₂)\n",
       "⎥  ⎣                                         ⎝dI₂           dI₂               \n",
       "⎦                                                                             \n",
       "\n",
       "                                                                              \n",
       "                                                                              \n",
       "                                                                              \n",
       "                                                                              \n",
       "                                                                              \n",
       "      d                                                   β - 1  d            \n",
       "E₁))⋅───(g₂(E₁, E₂, I₁))                                E₁     ⋅───(g₁(E₁, E₂,\n",
       "     dE₁                                                        dE₂           \n",
       "                                                                              \n",
       "  d                     d           d                                         \n",
       "⋅───(g₁(E₁, E₂, I₂)) + ───(f₂(E₁))⋅───(g₂(E₁, E₂, I₁))                        \n",
       " dE₁                   dE₁         dE₂                                        \n",
       "                                                                              \n",
       "           ⎞  d                                                               \n",
       "₁, E₂, I₁))⎟⋅───(f₂(E₁))                                                      \n",
       "           ⎠ dE₁                                                              \n",
       "                                                                              \n",
       " ⎞     β - 1  d                                                               \n",
       ")⎟ + I₂     ⋅───(f₂(E₁))                                                      \n",
       " ⎠           dE₁                                                              \n",
       "                                                                              \n",
       "\n",
       "                                                                              \n",
       "                                                                              \n",
       "                                                                              \n",
       "                                        0                                     \n",
       "                                                                              \n",
       "          β - 1  d                     d           d                     d    \n",
       " I₂)) + E₂     ⋅───(g₂(E₁, E₂, I₁)) + ───(f₁(E₂))⋅───(g₁(E₁, E₂, I₂)) + ───(f₂\n",
       "                dE₁                   dE₂         dE₁                   dE₁   \n",
       "                                                                              \n",
       "            β - 1  d                       d           d                      \n",
       "        2⋅E₂     ⋅───(g₂(E₁, E₂, I₁)) + 2⋅───(f₁(E₂))⋅───(g₁(E₁, E₂, I₂))     \n",
       "                  dE₂                     dE₂         dE₂                     \n",
       "                                                                              \n",
       "          β - 1 ⎛ d             d                 ⎞     β - 1  d              \n",
       "        E₂     ⋅⎜───(f₄(I₁)) + ───(g₂(E₁, E₂, I₁))⎟ + I₁     ⋅───(f₁(E₂))     \n",
       "                ⎝dI₁           dI₁                ⎠           dE₂             \n",
       "                                                                              \n",
       "          β - 1   β - 1   ⎛ d             d                 ⎞  d              \n",
       "        E₂     ⋅I₂      + ⎜───(f₃(I₂)) + ───(g₁(E₁, E₂, I₂))⎟⋅───(f₁(E₂))     \n",
       "                          ⎝dI₂           dI₂                ⎠ dE₂             \n",
       "                                                                              \n",
       "\n",
       "                                                                              \n",
       "                                                                              \n",
       "                                                                              \n",
       "                                                           0                  \n",
       "                                                                              \n",
       "       d                     β - 1   β - 1   ⎛ d             d                \n",
       "(E₁))⋅───(g₂(E₁, E₂, I₁))  E₁     ⋅I₁      + ⎜───(f₄(I₁)) + ───(g₂(E₁, E₂, I₁)\n",
       "      dE₂                                    ⎝dI₁           dI₁               \n",
       "                                                                              \n",
       "                             β - 1 ⎛ d             d                 ⎞     β -\n",
       "                           E₂     ⋅⎜───(f₄(I₁)) + ───(g₂(E₁, E₂, I₁))⎟ + I₁   \n",
       "                                   ⎝dI₁           dI₁                ⎠        \n",
       "                                                                              \n",
       "                                                                              \n",
       "                                                           0                  \n",
       "                                                                              \n",
       "                                                                              \n",
       "                                                                              \n",
       "                                                           0                  \n",
       "                                                                              \n",
       "                                                                              \n",
       "\n",
       "                                                                              \n",
       "                                                                              \n",
       "                                                                              \n",
       "                                                0                             \n",
       "                                                                              \n",
       " ⎞  d             β - 1 ⎛ d             d                 ⎞     β - 1  d      \n",
       ")⎟⋅───(f₂(E₁))  E₁     ⋅⎜───(f₃(I₂)) + ───(g₁(E₁, E₂, I₂))⎟ + I₂     ⋅───(f₂(E\n",
       " ⎠ dE₁                  ⎝dI₂           dI₂                ⎠           dE₁     \n",
       "                                                                              \n",
       " 1  d             β - 1   β - 1   ⎛ d             d                 ⎞  d      \n",
       "  ⋅───(f₁(E₂))  E₂     ⋅I₂      + ⎜───(f₃(I₂)) + ───(g₁(E₁, E₂, I₂))⎟⋅───(f₁(E\n",
       "   dE₂                            ⎝dI₂           dI₂                ⎠ dE₂     \n",
       "                                                                              \n",
       "                                                                              \n",
       "                                                0                             \n",
       "                                                                              \n",
       "                                                                              \n",
       "                                                                              \n",
       "                                                0                             \n",
       "                                                                              \n",
       "                                                                              \n",
       "\n",
       "    ⎞\n",
       "    ⎟\n",
       "    ⎟\n",
       "   ⎤⎟\n",
       "   ⎥⎟\n",
       "   ⎥⎟\n",
       "₁))⎥⎟\n",
       "   ⎥⎟\n",
       "   ⎥⎟\n",
       "   ⎥⎟\n",
       "₂))⎥⎟\n",
       "   ⎥⎟\n",
       "   ⎥⎟\n",
       "   ⎥⎟\n",
       "   ⎥⎟\n",
       "   ⎥⎟\n",
       "   ⎥⎟\n",
       "   ⎥⎟\n",
       "   ⎥⎟\n",
       "   ⎦⎟\n",
       "    ⎠"
      ]
     },
     "execution_count": 28,
     "metadata": {},
     "output_type": "execute_result"
    }
   ],
   "source": [
    "H = zeros(n)\n",
    "S = zeros(n)\n",
    "H,S = difeomorphism_equations001(Z,B,simplify,1)\n",
    "H,S"
   ]
  },
  {
   "cell_type": "code",
   "execution_count": 30,
   "metadata": {
    "collapsed": false
   },
   "outputs": [],
   "source": [
    "L = H+S"
   ]
  },
  {
   "cell_type": "code",
   "execution_count": 31,
   "metadata": {
    "collapsed": false
   },
   "outputs": [
    {
     "data": {
      "image/png": "[encoded data removed]",
      "text/latex": [
       "$$2 \\left(I_{1}^{\\beta -1} + \\frac{\\partial}{\\partial I_{1}} \\operatorname{Y\\_1}{\\left (\\Phi ,E_{1},E_{2},I_{1},I_{2} \\right )}\\right) \\frac{\\partial}{\\partial I_{1}} \\operatorname{X\\_1}{\\left (\\Phi ,E_{1},E_{2},I_{1},I_{2} \\right )} + \\left(\\left(\\frac{I_{1}^{\\beta}}{\\beta} + \\operatorname{Y\\_1}{\\left (\\Phi ,E_{1},E_{2},I_{1},I_{2} \\right )}\\right) \\frac{\\partial}{\\partial I_{1}} \\operatorname{X\\_1}{\\left (\\Phi ,E_{1},E_{2},I_{1},I_{2} \\right )} + \\left(\\frac{I_{2}^{\\beta}}{\\beta} + \\operatorname{Y\\_2}{\\left (\\Phi ,E_{1},E_{2},I_{1},I_{2} \\right )}\\right) \\frac{\\partial}{\\partial I_{1}} \\operatorname{X\\_2}{\\left (\\Phi ,E_{1},E_{2},I_{1},I_{2} \\right )} - \\frac{\\partial}{\\partial I_{1}} \\operatorname{F}{\\left (\\Phi ,E_{1},E_{2},I_{1},I_{2} \\right )}\\right)^{2} + 2 \\frac{\\partial}{\\partial I_{1}} \\operatorname{X\\_2}{\\left (\\Phi ,E_{1},E_{2},I_{1},I_{2} \\right )} \\frac{\\partial}{\\partial I_{1}} \\operatorname{Y\\_2}{\\left (\\Phi ,E_{1},E_{2},I_{1},I_{2} \\right )}$$"
      ],
      "text/plain": [
       "                                                                              \n",
       "                                                                              \n",
       "  ⎛  β - 1    d                            ⎞  d                               \n",
       "2⋅⎜I₁      + ───(Y₁(\\Phi , E₁, E₂, I₁, I₂))⎟⋅───(X₁(\\Phi , E₁, E₂, I₁, I₂)) + \n",
       "  ⎝          dI₁                           ⎠ dI₁                              \n",
       "\n",
       "                                                                              \n",
       "⎛⎛  β                            ⎞                                  ⎛  β      \n",
       "⎜⎜I₁                             ⎟  d                               ⎜I₂       \n",
       "⎜⎜─── + Y₁(\\Phi , E₁, E₂, I₁, I₂)⎟⋅───(X₁(\\Phi , E₁, E₂, I₁, I₂)) + ⎜─── + Y₂(\n",
       "⎝⎝ β                             ⎠ dI₁                              ⎝ β       \n",
       "\n",
       "                                                                              \n",
       "                      ⎞                                                       \n",
       "                      ⎟  d                                d                   \n",
       "\\Phi , E₁, E₂, I₁, I₂)⎟⋅───(X₂(\\Phi , E₁, E₂, I₁, I₂)) - ───(F(\\Phi , E₁, E₂, \n",
       "                      ⎠ dI₁                              dI₁                  \n",
       "\n",
       "         2                                                                  \n",
       "        ⎞                                                                   \n",
       "        ⎟       d                              d                            \n",
       "I₁, I₂))⎟  + 2⋅───(X₂(\\Phi , E₁, E₂, I₁, I₂))⋅───(Y₂(\\Phi , E₁, E₂, I₁, I₂))\n",
       "        ⎠      dI₁                            dI₁                           "
      ]
     },
     "execution_count": 31,
     "metadata": {},
     "output_type": "execute_result"
    }
   ],
   "source": [
    "simplify(L[3,3])"
   ]
  },
  {
   "cell_type": "code",
   "execution_count": null,
   "metadata": {
    "collapsed": false
   },
   "outputs": [],
   "source": []
  }
 ],
 "metadata": {
  "kernelspec": {
   "display_name": "Python 3",
   "language": "python",
   "name": "python3"
  },
  "language_info": {
   "codemirror_mode": {
    "name": "ipython",
    "version": 3
   },
   "file_extension": ".py",
   "mimetype": "text/x-python",
   "name": "python",
   "nbconvert_exporter": "python",
   "pygments_lexer": "ipython3",
   "version": "3.5.1"
  }
 },
 "nbformat": 4,
 "nbformat_minor": 0
}
