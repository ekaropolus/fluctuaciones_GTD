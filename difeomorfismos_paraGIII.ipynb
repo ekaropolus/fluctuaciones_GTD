{
 "cells": [
  {
   "cell_type": "code",
   "execution_count": 1,
   "metadata": {
    "collapsed": false,
    "scrolled": true
   },
   "outputs": [],
   "source": [
    "from difeomorfismos_solvers import *\n",
    "from difeomorfismo import *\n",
    "init_printing()"
   ]
  },
  {
   "cell_type": "markdown",
   "metadata": {},
   "source": [
    "<H3>Difeomorsimos Cuadratico + lineal </H3>\n",
    "<H3>$X^{c} = M_{dd}^{c}E^{d}E^{d}$<H3>\n",
    "<H3>$Y_{c} = N_{cee}I^{e}I^{e}$</H3>\n",
    "\n"
   ]
  },
  {
   "cell_type": "markdown",
   "metadata": {},
   "source": [
    "<H3>Defino la dimension que utilizare</H3>"
   ]
  },
  {
   "cell_type": "code",
   "execution_count": 2,
   "metadata": {
    "collapsed": false
   },
   "outputs": [],
   "source": [
    "n=2\n"
   ]
  },
  {
   "cell_type": "markdown",
   "metadata": {},
   "source": [
    "<H3>Estos son las dos coordenadas del difeomorfismo</H3>"
   ]
  },
  {
   "cell_type": "code",
   "execution_count": 3,
   "metadata": {
    "collapsed": false
   },
   "outputs": [
    {
     "data": {
      "image/png": "[encoded data removed]",
      "text/latex": [
       "$$\\left ( \\left [ \\Phi, \\quad E_{1}, \\quad E_{2}, \\quad I_{1}, \\quad I_{2}\\right ], \\quad \\left [ F, \\quad X_{1}, \\quad X_{2}, \\quad Y_{1}, \\quad Y_{2}\\right ]\\right )$$"
      ],
      "text/plain": [
       "([\\Phi, E₁, E₂, I₁, I₂], [F, X₁, X₂, Y₁, Y₂])"
      ]
     },
     "execution_count": 3,
     "metadata": {},
     "output_type": "execute_result"
    }
   ],
   "source": [
    "ZE, ZX = set_coordinates(n)\n",
    "ZE, ZX"
   ]
  },
  {
   "cell_type": "markdown",
   "metadata": {},
   "source": [
    "<H3>Estas son las constates para las ecuaciones del difeomorfismo Cuadratico + lineal</H3>"
   ]
  },
  {
   "cell_type": "code",
   "execution_count": 4,
   "metadata": {
    "collapsed": false
   },
   "outputs": [],
   "source": [
    "import operator\n",
    "A,c1=set_constants_a(n,'A',0)\n",
    "D,c2=set_constants_a(n,'D',0)\n",
    "B,c3=set_constants_axb(n,n,'B',0)\n",
    "G,c4=set_constants_axb(n,n,'G',0)\n",
    "C,c5=set_constants_axb(n,n,'C',0)\n",
    "Hc,c6=set_constants_axb(n,n,'H',0)\n",
    "M,c7=set_constants_axbxc(n,n,n,'M',1,operator.eq)\n",
    "N,c8=set_constants_axbxc(n,n,n,'N',1,operator.eq)"
   ]
  },
  {
   "cell_type": "code",
   "execution_count": 5,
   "metadata": {
    "collapsed": true
   },
   "outputs": [],
   "source": [
    "#M[0][1,0]=0\n",
    "#M[1][0,1]=0\n",
    "#N[0][1,0]=0\n",
    "#N[1][0,1]=0\n",
    "\n",
    "#M[0][0,0]=-1*M[1][0,0]*N[1][1,1]/N[0][1,1]\n",
    "#M[0][1,1]=-1*N[1][0,0]*M[1][1,1]/N[0][0,0]\n",
    "#M[0][1,0]=-1*N[1][0,1]*M[1][1,0]/N[0][0,1]\n"
   ]
  },
  {
   "cell_type": "code",
   "execution_count": 6,
   "metadata": {
    "collapsed": false
   },
   "outputs": [
    {
     "data": {
      "text/latex": [
       "$$\\left ( \\left [ \\left[\\begin{matrix}M_{111} & 0\\\\0 & M_{122}\\end{matrix}\\right], \\quad \\left[\\begin{matrix}M_{211} & 0\\\\0 & M_{222}\\end{matrix}\\right]\\right ], \\quad \\left [ \\left[\\begin{matrix}N_{111} & 0\\\\0 & N_{122}\\end{matrix}\\right], \\quad \\left[\\begin{matrix}N_{211} & 0\\\\0 & N_{222}\\end{matrix}\\right]\\right ]\\right )$$"
      ],
      "text/plain": [
       "⎛⎡⎡M₁₁₁   0  ⎤, ⎡M₂₁₁   0  ⎤⎤, ⎡⎡N₁₁₁   0  ⎤, ⎡N₂₁₁   0  ⎤⎤⎞\n",
       "⎜⎢⎢          ⎥  ⎢          ⎥⎥  ⎢⎢          ⎥  ⎢          ⎥⎥⎟\n",
       "⎝⎣⎣ 0    M₁₂₂⎦  ⎣ 0    M₂₂₂⎦⎦  ⎣⎣ 0    N₁₂₂⎦  ⎣ 0    N₂₂₂⎦⎦⎠"
      ]
     },
     "execution_count": 6,
     "metadata": {},
     "output_type": "execute_result"
    }
   ],
   "source": [
    "M,N"
   ]
  },
  {
   "cell_type": "markdown",
   "metadata": {},
   "source": [
    "Combo ganador para GIII, no borrar"
   ]
  },
  {
   "cell_type": "code",
   "execution_count": 7,
   "metadata": {
    "collapsed": true
   },
   "outputs": [],
   "source": [
    "#M,c7=set_constants_axbxc(n,n,n,'M',1,operator.eq)\n",
    "#N,c8=set_constants_axbxc(n,n,n,'N',1,operator.eq)\n",
    "M[0][1,1]=0\n",
    "M[1][0,0]=0\n",
    "N[0][1,1]=0\n",
    "N[1][0,0]=0"
   ]
  },
  {
   "cell_type": "markdown",
   "metadata": {},
   "source": [
    "<H3>Estas instrucciones son obtener las expresiones para $h_{ab}$ y $f$</H3>"
   ]
  },
  {
   "cell_type": "code",
   "execution_count": 8,
   "metadata": {
    "collapsed": false
   },
   "outputs": [],
   "source": [
    "h_LD=[]\n",
    "f_LD=[]\n",
    "EQ_LD = []\n",
    "f = zeros(n)\n",
    "h = zeros(n)\n",
    "for x in range(0,n):\n",
    "    for y in range(0,n):\n",
    "        if x == y: f[x,y]=1/Function('f_{'+str(x+1)+str(y+1)+str('}'))(*ZX)\n",
    "        if x == y: h[x,y]=Function('h_{'+str(x+1)+str(y+1)+str('}'))(*ZE)"
   ]
  },
  {
   "cell_type": "code",
   "execution_count": 92,
   "metadata": {
    "collapsed": false
   },
   "outputs": [],
   "source": [
    "h_LD=[]\n",
    "f_LD=[]\n",
    "EQ_LD = []\n",
    "f = zeros(n)\n",
    "h = zeros(n)\n",
    "f,h,EQ = matrix_gtdieGIII(B,C,Hc,G,M,N,ZE)"
   ]
  },
  {
   "cell_type": "code",
   "execution_count": 93,
   "metadata": {
    "collapsed": true
   },
   "outputs": [],
   "source": [
    "f = h"
   ]
  },
  {
   "cell_type": "code",
   "execution_count": 9,
   "metadata": {
    "collapsed": false
   },
   "outputs": [
    {
     "data": {
      "text/latex": [
       "$$\\left[\\begin{matrix}\\frac{1}{\\operatorname{f_{11}}{\\left (F,X_{1},X_{2},Y_{1},Y_{2} \\right )}} & 0\\\\0 & \\frac{1}{\\operatorname{f_{22}}{\\left (F,X_{1},X_{2},Y_{1},Y_{2} \\right )}}\\end{matrix}\\right]$$"
      ],
      "text/plain": [
       "⎡            1                                       ⎤\n",
       "⎢─────────────────────────              0            ⎥\n",
       "⎢f_{11}(F, X₁, X₂, Y₁, Y₂)                           ⎥\n",
       "⎢                                                    ⎥\n",
       "⎢                                       1            ⎥\n",
       "⎢            0              ─────────────────────────⎥\n",
       "⎣                           f_{22}(F, X₁, X₂, Y₁, Y₂)⎦"
      ]
     },
     "execution_count": 9,
     "metadata": {},
     "output_type": "execute_result"
    }
   ],
   "source": [
    "f"
   ]
  },
  {
   "cell_type": "code",
   "execution_count": 10,
   "metadata": {
    "collapsed": true
   },
   "outputs": [],
   "source": [
    "h_LD.append(h)\n",
    "f_LD.append(f)"
   ]
  },
  {
   "cell_type": "markdown",
   "metadata": {},
   "source": [
    "<H3>Estas son las ecuaciones del difeomorfismo Cuadratico + lineal</H3>"
   ]
  },
  {
   "cell_type": "code",
   "execution_count": 11,
   "metadata": {
    "collapsed": false
   },
   "outputs": [
    {
     "data": {
      "text/latex": [
       "$$\\left ( \\left [ \\left[\\begin{matrix}M_{111} & 0\\\\0 & 0\\end{matrix}\\right], \\quad \\left[\\begin{matrix}0 & 0\\\\0 & M_{222}\\end{matrix}\\right]\\right ], \\quad \\left [ \\left[\\begin{matrix}N_{111} & 0\\\\0 & 0\\end{matrix}\\right], \\quad \\left[\\begin{matrix}0 & 0\\\\0 & N_{222}\\end{matrix}\\right]\\right ]\\right )$$"
      ],
      "text/plain": [
       "⎛⎡⎡M₁₁₁  0⎤, ⎡0   0  ⎤⎤, ⎡⎡N₁₁₁  0⎤, ⎡0   0  ⎤⎤⎞\n",
       "⎜⎢⎢       ⎥  ⎢       ⎥⎥  ⎢⎢       ⎥  ⎢       ⎥⎥⎟\n",
       "⎝⎣⎣ 0    0⎦  ⎣0  M₂₂₂⎦⎦  ⎣⎣ 0    0⎦  ⎣0  N₂₂₂⎦⎦⎠"
      ]
     },
     "execution_count": 11,
     "metadata": {},
     "output_type": "execute_result"
    }
   ],
   "source": [
    "M,N"
   ]
  },
  {
   "cell_type": "code",
   "execution_count": 12,
   "metadata": {
    "collapsed": false
   },
   "outputs": [
    {
     "data": {
      "text/latex": [
       "$$\\left[\\begin{matrix}F{\\left (\\Phi,E_{1},E_{2},I_{1},I_{2} \\right )}\\\\E_{1}^{2} M_{111}\\\\E_{2}^{2} M_{222}\\\\I_{1}^{2} N_{111}\\\\I_{2}^{2} N_{222}\\end{matrix}\\right]$$"
      ],
      "text/plain": [
       "⎡F(\\Phi, E₁, E₂, I₁, I₂)⎤\n",
       "⎢                       ⎥\n",
       "⎢         2             ⎥\n",
       "⎢       E₁ ⋅M₁₁₁        ⎥\n",
       "⎢                       ⎥\n",
       "⎢         2             ⎥\n",
       "⎢       E₂ ⋅M₂₂₂        ⎥\n",
       "⎢                       ⎥\n",
       "⎢         2             ⎥\n",
       "⎢       I₁ ⋅N₁₁₁        ⎥\n",
       "⎢                       ⎥\n",
       "⎢         2             ⎥\n",
       "⎣       I₂ ⋅N₂₂₂        ⎦"
      ]
     },
     "execution_count": 12,
     "metadata": {},
     "output_type": "execute_result"
    }
   ],
   "source": [
    "LD = []\n",
    "L0 = mixed_difeomorphism00(A,B,C,D,G,Hc,M,N,n,ZX,ZE)\n",
    "LD.append(L0)\n",
    "Matrix(LD[0])"
   ]
  },
  {
   "cell_type": "markdown",
   "metadata": {},
   "source": [
    "<H3>Estas son las ecuaciones del contactomorfismo</H3>"
   ]
  },
  {
   "cell_type": "code",
   "execution_count": 14,
   "metadata": {
    "collapsed": false
   },
   "outputs": [],
   "source": [
    "CM_LD = contactomorphism_equations(LD[0],ZE,expand,f)"
   ]
  },
  {
   "cell_type": "code",
   "execution_count": 26,
   "metadata": {
    "collapsed": false
   },
   "outputs": [
    {
     "data": {
      "image/png": "[encoded data removed]",
      "text/latex": [
       "$$\\left [ 1, \\quad 2 E_{1} I_{1}^{2} M_{111} N_{111} - \\frac{I_{1}}{\\operatorname{f_{11}}{\\left (F,X_{1},X_{2},Y_{1},Y_{2} \\right )}}, \\quad 2 E_{2} I_{2}^{2} M_{222} N_{222} - \\frac{I_{2}}{\\operatorname{f_{22}}{\\left (F,X_{1},X_{2},Y_{1},Y_{2} \\right )}}, \\quad 0, \\quad 0\\right ]$$"
      ],
      "text/plain": [
       "⎡          2                         I₁                    2                  \n",
       "⎢1, 2⋅E₁⋅I₁ ⋅M₁₁₁⋅N₁₁₁ - ─────────────────────────, 2⋅E₂⋅I₂ ⋅M₂₂₂⋅N₂₂₂ - ─────\n",
       "⎣                        f_{11}(F, X₁, X₂, Y₁, Y₂)                       f_{22\n",
       "\n",
       "       I₂                 ⎤\n",
       "────────────────────, 0, 0⎥\n",
       "}(F, X₁, X₂, Y₁, Y₂)      ⎦"
      ]
     },
     "execution_count": 26,
     "metadata": {},
     "output_type": "execute_result"
    }
   ],
   "source": [
    "CM_LD"
   ]
  },
  {
   "cell_type": "markdown",
   "metadata": {},
   "source": [
    "<H3>Este es el jacobiano y el determinante del jacobiano de esa transformacion</H3>"
   ]
  },
  {
   "cell_type": "code",
   "execution_count": 27,
   "metadata": {
    "collapsed": true
   },
   "outputs": [],
   "source": [
    "Z0 = list(LD[0])\n",
    "Z0[0] = CM_LD"
   ]
  },
  {
   "cell_type": "code",
   "execution_count": 28,
   "metadata": {
    "collapsed": false
   },
   "outputs": [],
   "source": [
    "Ja = Matrix(LD[0]).jacobian(ZE)"
   ]
  },
  {
   "cell_type": "code",
   "execution_count": 29,
   "metadata": {
    "collapsed": true
   },
   "outputs": [],
   "source": [
    "DeJ = Ja.berkowitz_det()"
   ]
  },
  {
   "cell_type": "code",
   "execution_count": 30,
   "metadata": {
    "collapsed": false
   },
   "outputs": [],
   "source": [
    "for x in range(0,2*n+1):\n",
    "    DeJ = DeJ.subs([(diff(LD[0][0],ZE[x]),CM_LD[x])])\n"
   ]
  },
  {
   "cell_type": "code",
   "execution_count": 31,
   "metadata": {
    "collapsed": false
   },
   "outputs": [],
   "source": [
    "D_LD = []\n",
    "D_LD.append(DeJ)"
   ]
  },
  {
   "cell_type": "code",
   "execution_count": 32,
   "metadata": {
    "collapsed": false
   },
   "outputs": [
    {
     "data": {
      "text/latex": [
       "$$\\left[\\begin{matrix}1 & 0 & 0 & 0 & 0\\\\0 & 2 E_{1} M_{111} & 0 & 0 & 0\\\\0 & 0 & 2 E_{2} M_{222} & 0 & 0\\\\0 & 0 & 0 & 2 I_{1} N_{111} & 0\\\\0 & 0 & 0 & 0 & 2 I_{2} N_{222}\\end{matrix}\\right]$$"
      ],
      "text/plain": [
       "⎡1      0          0          0          0    ⎤\n",
       "⎢                                             ⎥\n",
       "⎢0  2⋅E₁⋅M₁₁₁      0          0          0    ⎥\n",
       "⎢                                             ⎥\n",
       "⎢0      0      2⋅E₂⋅M₂₂₂      0          0    ⎥\n",
       "⎢                                             ⎥\n",
       "⎢0      0          0      2⋅I₁⋅N₁₁₁      0    ⎥\n",
       "⎢                                             ⎥\n",
       "⎣0      0          0          0      2⋅I₂⋅N₂₂₂⎦"
      ]
     },
     "execution_count": 32,
     "metadata": {},
     "output_type": "execute_result"
    }
   ],
   "source": [
    "Ja"
   ]
  },
  {
   "cell_type": "code",
   "execution_count": 33,
   "metadata": {
    "collapsed": false
   },
   "outputs": [
    {
     "data": {
      "image/png": "[encoded data removed]",
      "text/latex": [
       "$$16 E_{1} E_{2} I_{1} I_{2} M_{111} M_{222} N_{111} N_{222}$$"
      ],
      "text/plain": [
       "16⋅E₁⋅E₂⋅I₁⋅I₂⋅M₁₁₁⋅M₂₂₂⋅N₁₁₁⋅N₂₂₂"
      ]
     },
     "execution_count": 33,
     "metadata": {},
     "output_type": "execute_result"
    }
   ],
   "source": [
    "simplify(DeJ)"
   ]
  },
  {
   "cell_type": "markdown",
   "metadata": {},
   "source": [
    "<H3>Para cada una de las soluciones calculamos: Las ecuaciones del difeomorfismo en S, Las ecuaciones del contatcto morfismo en H. Las condiciones de integrabilidad check_me</H3>"
   ]
  },
  {
   "cell_type": "code",
   "execution_count": 20,
   "metadata": {
    "collapsed": false,
    "scrolled": true
   },
   "outputs": [],
   "source": [
    "check_me = []\n",
    "difeo_eqs = []\n",
    "\n",
    "for i in range(0,len(LD)):\n",
    "    Z0 = LD[i]\n",
    "    h = h_LD[0]\n",
    "    f = f_LD[0]\n",
    "    H=[]\n",
    "    S = zeros(n)\n",
    "    H,S = difeomorphism_equations002(Z0,ZE,expand,f,h,0,2*n+1)\n",
    "    Z0[0] = ZE[0]\n",
    "    #H1,S1 = difeomorphism_equations005(Z0,ZE,simplify,f,h,0,2*n+1)\n",
    "    \n",
    "    mixed_test = []\n",
    "    t3 = 0\n",
    "    t1 = t2 = 1\n",
    "    for x in range(0,2*n+1):\n",
    "        for y in range(x,2*n+1):\n",
    "            if x != y:\n",
    "                t1 = simplify(diff(H[x][1],ZE[y]))\n",
    "                t2 = simplify(diff(H[y][1],ZE[x]))\n",
    "                d1 = diff(H[x][0],ZE[y])\n",
    "                d2 = diff(H[y][0],ZE[x])\n",
    "                t3 = t3 + t1 + t2\n",
    "                mixed_test.append((t1,t2))\n",
    "    if t3 != 0:\n",
    "        difeo_eqs.append((S,H,Z0,D_LD[i],f))\n",
    "        check_me.append(mixed_test)\n",
    "    #,ZE[y],ZE[x],,ZE[x],ZE[y]"
   ]
  },
  {
   "cell_type": "code",
   "execution_count": 21,
   "metadata": {
    "collapsed": false
   },
   "outputs": [],
   "source": [
    "#H1+S1"
   ]
  },
  {
   "cell_type": "code",
   "execution_count": 22,
   "metadata": {
    "collapsed": false
   },
   "outputs": [
    {
     "data": {
      "image/png": "[encoded data removed]",
      "text/latex": [
       "$$1$$"
      ],
      "text/plain": [
       "1"
      ]
     },
     "execution_count": 22,
     "metadata": {},
     "output_type": "execute_result"
    }
   ],
   "source": [
    "len(difeo_eqs)"
   ]
  },
  {
   "cell_type": "markdown",
   "metadata": {},
   "source": [
    "<H3>Estas son las condiciones de integrabilidad</H3>"
   ]
  },
  {
   "cell_type": "code",
   "execution_count": 23,
   "metadata": {
    "collapsed": false
   },
   "outputs": [
    {
     "data": {
      "text/latex": [
       "$$\\left[\\begin{matrix}0 & 0\\\\0 & 0\\\\0 & 0\\\\0 & 0\\\\0 & 0\\\\4 E_{1} I_{1} M_{111} N_{111} - \\frac{1}{\\operatorname{f_{11}}{\\left (F,X_{1},X_{2},Y_{1},Y_{2} \\right )}} & 0\\\\0 & 0\\\\0 & 0\\\\4 E_{2} I_{2} M_{222} N_{222} - \\frac{1}{\\operatorname{f_{22}}{\\left (F,X_{1},X_{2},Y_{1},Y_{2} \\right )}} & 0\\\\0 & 0\\end{matrix}\\right]$$"
      ],
      "text/plain": [
       "⎡                      0                        0⎤\n",
       "⎢                                                ⎥\n",
       "⎢                      0                        0⎥\n",
       "⎢                                                ⎥\n",
       "⎢                      0                        0⎥\n",
       "⎢                                                ⎥\n",
       "⎢                      0                        0⎥\n",
       "⎢                                                ⎥\n",
       "⎢                      0                        0⎥\n",
       "⎢                                                ⎥\n",
       "⎢                                1               ⎥\n",
       "⎢4⋅E₁⋅I₁⋅M₁₁₁⋅N₁₁₁ - ─────────────────────────  0⎥\n",
       "⎢                    f_{11}(F, X₁, X₂, Y₁, Y₂)   ⎥\n",
       "⎢                                                ⎥\n",
       "⎢                      0                        0⎥\n",
       "⎢                                                ⎥\n",
       "⎢                      0                        0⎥\n",
       "⎢                                                ⎥\n",
       "⎢                                1               ⎥\n",
       "⎢4⋅E₂⋅I₂⋅M₂₂₂⋅N₂₂₂ - ─────────────────────────  0⎥\n",
       "⎢                    f_{22}(F, X₁, X₂, Y₁, Y₂)   ⎥\n",
       "⎢                                                ⎥\n",
       "⎣                      0                        0⎦"
      ]
     },
     "execution_count": 23,
     "metadata": {},
     "output_type": "execute_result"
    }
   ],
   "source": [
    "Matrix(check_me[0])"
   ]
  },
  {
   "cell_type": "markdown",
   "metadata": {},
   "source": [
    "<H3>Estos son los contactomorfismos</H3>"
   ]
  },
  {
   "cell_type": "code",
   "execution_count": 24,
   "metadata": {
    "collapsed": false
   },
   "outputs": [
    {
     "data": {
      "text/latex": [
       "$$\\left[\\begin{matrix}\\frac{\\partial}{\\partial \\Phi} F{\\left (\\Phi,E_{1},E_{2},I_{1},I_{2} \\right )} & 1 & \\Phi\\\\\\frac{\\partial}{\\partial E_{1}} F{\\left (\\Phi,E_{1},E_{2},I_{1},I_{2} \\right )} & 2 E_{1} I_{1}^{2} M_{111} N_{111} - \\frac{I_{1}}{\\operatorname{f_{11}}{\\left (F,X_{1},X_{2},Y_{1},Y_{2} \\right )}} & E_{1}^{2} I_{1}^{2} M_{111} N_{111} - \\frac{E_{1} I_{1}}{\\operatorname{f_{11}}{\\left (F,X_{1},X_{2},Y_{1},Y_{2} \\right )}}\\\\\\frac{\\partial}{\\partial E_{2}} F{\\left (\\Phi,E_{1},E_{2},I_{1},I_{2} \\right )} & 2 E_{2} I_{2}^{2} M_{222} N_{222} - \\frac{I_{2}}{\\operatorname{f_{22}}{\\left (F,X_{1},X_{2},Y_{1},Y_{2} \\right )}} & E_{2}^{2} I_{2}^{2} M_{222} N_{222} - \\frac{E_{2} I_{2}}{\\operatorname{f_{22}}{\\left (F,X_{1},X_{2},Y_{1},Y_{2} \\right )}}\\\\\\frac{\\partial}{\\partial I_{1}} F{\\left (\\Phi,E_{1},E_{2},I_{1},I_{2} \\right )} & 0 & 0\\\\\\frac{\\partial}{\\partial I_{2}} F{\\left (\\Phi,E_{1},E_{2},I_{1},I_{2} \\right )} & 0 & 0\\end{matrix}\\right]$$"
      ],
      "text/plain": [
       "⎡  ∂                                                                          \n",
       "⎢─────(F(\\Phi, E₁, E₂, I₁, I₂))                        1                      \n",
       "⎢∂\\Phi                                                                        \n",
       "⎢                                                                             \n",
       "⎢  ∂                                    2                         I₁          \n",
       "⎢ ───(F(\\Phi, E₁, E₂, I₁, I₂))   2⋅E₁⋅I₁ ⋅M₁₁₁⋅N₁₁₁ - ────────────────────────\n",
       "⎢ ∂E₁                                                 f_{11}(F, X₁, X₂, Y₁, Y₂\n",
       "⎢                                                                             \n",
       "⎢  ∂                                    2                         I₂          \n",
       "⎢ ───(F(\\Phi, E₁, E₂, I₁, I₂))   2⋅E₂⋅I₂ ⋅M₂₂₂⋅N₂₂₂ - ────────────────────────\n",
       "⎢ ∂E₂                                                 f_{22}(F, X₁, X₂, Y₁, Y₂\n",
       "⎢                                                                             \n",
       "⎢  ∂                                                                          \n",
       "⎢ ───(F(\\Phi, E₁, E₂, I₁, I₂))                         0                      \n",
       "⎢ ∂I₁                                                                         \n",
       "⎢                                                                             \n",
       "⎢  ∂                                                                          \n",
       "⎢ ───(F(\\Phi, E₁, E₂, I₁, I₂))                         0                      \n",
       "⎣ ∂I₂                                                                         \n",
       "\n",
       "                                                ⎤\n",
       "                       \\Phi                     ⎥\n",
       "                                                ⎥\n",
       "                                                ⎥\n",
       "     2   2                       E₁⋅I₁          ⎥\n",
       "─  E₁ ⋅I₁ ⋅M₁₁₁⋅N₁₁₁ - ─────────────────────────⎥\n",
       ")                      f_{11}(F, X₁, X₂, Y₁, Y₂)⎥\n",
       "                                                ⎥\n",
       "     2   2                       E₂⋅I₂          ⎥\n",
       "─  E₂ ⋅I₂ ⋅M₂₂₂⋅N₂₂₂ - ─────────────────────────⎥\n",
       ")                      f_{22}(F, X₁, X₂, Y₁, Y₂)⎥\n",
       "                                                ⎥\n",
       "                                                ⎥\n",
       "                         0                      ⎥\n",
       "                                                ⎥\n",
       "                                                ⎥\n",
       "                                                ⎥\n",
       "                         0                      ⎥\n",
       "                                                ⎦"
      ]
     },
     "execution_count": 24,
     "metadata": {},
     "output_type": "execute_result"
    }
   ],
   "source": [
    "contacto = []\n",
    "for x in difeo_eqs:\n",
    "    contacto.append(x[1])\n",
    "Matrix(contacto[0])"
   ]
  },
  {
   "cell_type": "markdown",
   "metadata": {},
   "source": [
    "<H3>Estos son las ecuaciones del difeomorfismo</H3>\n"
   ]
  },
  {
   "cell_type": "code",
   "execution_count": 25,
   "metadata": {
    "collapsed": false
   },
   "outputs": [
    {
     "data": {
      "text/latex": [
       "$$\\left [ \\left[\\begin{matrix}0 & 0 & 0 & 0 & 0\\\\0 & 0 & 0 & 2 E_{1} I_{1} M_{111} N_{111} - \\operatorname{h_{11}}{\\left (\\Phi,E_{1},E_{2},I_{1},I_{2} \\right )} & 0\\\\0 & 0 & 0 & 0 & 2 E_{2} I_{2} M_{222} N_{222} - \\operatorname{h_{22}}{\\left (\\Phi,E_{1},E_{2},I_{1},I_{2} \\right )}\\\\0 & 0 & 0 & 0 & 0\\\\0 & 0 & 0 & 0 & 0\\end{matrix}\\right]\\right ]$$"
      ],
      "text/plain": [
       "⎡⎡0  0  0                         0                                           \n",
       "⎢⎢                                                                            \n",
       "⎢⎢0  0  0  2⋅E₁⋅I₁⋅M₁₁₁⋅N₁₁₁ - h_{11}(\\Phi, E₁, E₂, I₁, I₂)                   \n",
       "⎢⎢                                                                            \n",
       "⎢⎢0  0  0                         0                          2⋅E₂⋅I₂⋅M₂₂₂⋅N₂₂₂\n",
       "⎢⎢                                                                            \n",
       "⎢⎢0  0  0                         0                                           \n",
       "⎢⎢                                                                            \n",
       "⎣⎣0  0  0                         0                                           \n",
       "\n",
       "      0                        ⎤⎤\n",
       "                               ⎥⎥\n",
       "      0                        ⎥⎥\n",
       "                               ⎥⎥\n",
       " - h_{22}(\\Phi, E₁, E₂, I₁, I₂)⎥⎥\n",
       "                               ⎥⎥\n",
       "      0                        ⎥⎥\n",
       "                               ⎥⎥\n",
       "      0                        ⎦⎦"
      ]
     },
     "execution_count": 25,
     "metadata": {},
     "output_type": "execute_result"
    }
   ],
   "source": [
    "eqs_difeo = []\n",
    "for x in difeo_eqs:\n",
    "    eqs_difeo.append(x[0])\n",
    "eqs_difeo"
   ]
  },
  {
   "cell_type": "markdown",
   "metadata": {
    "collapsed": true
   },
   "source": [
    "<H3>Estos son los difeomorfismos</H3>"
   ]
  },
  {
   "cell_type": "code",
   "execution_count": 130,
   "metadata": {
    "collapsed": false
   },
   "outputs": [
    {
     "data": {
      "text/latex": [
       "$$\\left[\\begin{matrix}\\Phi & E_{1}^{2} M_{111} & E_{2}^{2} M_{222} & I_{1}^{2} N_{111} & I_{2}^{2} N_{222}\\end{matrix}\\right]$$"
      ],
      "text/plain": [
       "⎡        2         2         2         2     ⎤\n",
       "⎣\\Phi  E₁ ⋅M₁₁₁  E₂ ⋅M₂₂₂  I₁ ⋅N₁₁₁  I₂ ⋅N₂₂₂⎦"
      ]
     },
     "execution_count": 130,
     "metadata": {},
     "output_type": "execute_result"
    }
   ],
   "source": [
    "difeo = []\n",
    "for x in difeo_eqs:\n",
    "    difeo.append(x[2])\n",
    "Matrix(difeo)"
   ]
  },
  {
   "cell_type": "markdown",
   "metadata": {},
   "source": [
    "<H3>Estas son los determinantes</H3>"
   ]
  },
  {
   "cell_type": "code",
   "execution_count": 131,
   "metadata": {
    "collapsed": false
   },
   "outputs": [
    {
     "data": {
      "image/png": "[encoded data removed]",
      "text/latex": [
       "$$\\left [ \\frac{16 E_{1}}{f} E_{2} I_{1} I_{2} M_{111} M_{222} N_{111} N_{222}\\right ]$$"
      ],
      "text/plain": [
       "⎡16⋅E₁⋅E₂⋅I₁⋅I₂⋅M₁₁₁⋅M₂₂₂⋅N₁₁₁⋅N₂₂₂⎤\n",
       "⎢──────────────────────────────────⎥\n",
       "⎣                f                 ⎦"
      ]
     },
     "execution_count": 131,
     "metadata": {},
     "output_type": "execute_result"
    }
   ],
   "source": [
    "dets = []\n",
    "for x in difeo_eqs:\n",
    "    dets.append(simplify(x[3]))\n",
    "dets"
   ]
  },
  {
   "cell_type": "code",
   "execution_count": 132,
   "metadata": {
    "collapsed": false
   },
   "outputs": [],
   "source": [
    "tabix = 0\n",
    "for x in range(0,len(difeo),100):\n",
    "    ini = x + tabix\n",
    "    fin = x + 100 + tabix\n",
    "    if fin >= len(difeo):\n",
    "        fin = len(difeo)\n",
    "    send_DH_to_latex(difeo[ini:fin],dets[ini:fin],check_me[ini:fin],eqs_difeo[ini:fin],ZX,ini,str(tabix)+'cuadraticos_MN2'+'.tex')\n",
    "    tabix = tabix + 1"
   ]
  },
  {
   "cell_type": "code",
   "execution_count": null,
   "metadata": {
    "collapsed": true
   },
   "outputs": [],
   "source": []
  },
  {
   "cell_type": "code",
   "execution_count": null,
   "metadata": {
    "collapsed": true
   },
   "outputs": [],
   "source": []
  }
 ],
 "metadata": {
  "kernelspec": {
   "display_name": "Python 3",
   "language": "python",
   "name": "python3"
  },
  "language_info": {
   "codemirror_mode": {
    "name": "ipython",
    "version": 3
   },
   "file_extension": ".py",
   "mimetype": "text/x-python",
   "name": "python",
   "nbconvert_exporter": "python",
   "pygments_lexer": "ipython3",
   "version": "3.5.1"
  }
 },
 "nbformat": 4,
 "nbformat_minor": 0
}
