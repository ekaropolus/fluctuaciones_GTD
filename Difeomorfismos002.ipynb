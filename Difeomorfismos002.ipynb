{
 "metadata": {
  "name": "Difeomorfismos002"
 },
 "nbformat": 3,
 "nbformat_minor": 0,
 "worksheets": [
  {
   "cells": [
    {
     "cell_type": "code",
     "collapsed": false,
     "input": [
      "from difeomorfismo import *\n",
      "init_printing()"
     ],
     "language": "python",
     "metadata": {},
     "outputs": [],
     "prompt_number": 1
    },
    {
     "cell_type": "code",
     "collapsed": false,
     "input": [
      "n = 2"
     ],
     "language": "python",
     "metadata": {},
     "outputs": [],
     "prompt_number": 2
    },
    {
     "cell_type": "heading",
     "level": 1,
     "metadata": {},
     "source": [
      "Difeomorfismo"
     ]
    },
    {
     "cell_type": "heading",
     "level": 6,
     "metadata": {},
     "source": [
      "Variables del difeomorfismo"
     ]
    },
    {
     "cell_type": "code",
     "collapsed": false,
     "input": [
      "Z = []\n",
      "B = []\n",
      "Z,B = n_grados001(n)\n",
      "Z, B"
     ],
     "language": "python",
     "metadata": {},
     "outputs": [
      {
       "latex": [
        "$$\\begin{pmatrix}\\begin{bmatrix}\\Phi, & E_{1}, & E_{2}, & I_{1}, & I_{2}\\end{bmatrix}, & \\begin{bmatrix}F, & X_{1}, & X_{2}, & Y_{1}, & Y_{2}\\end{bmatrix}\\end{pmatrix}$$"
       ],
       "output_type": "pyout",
       "prompt_number": 3,
       "text": [
        "([\\Phi, E\u2081, E\u2082, I\u2081, I\u2082], [F, X\u2081, X\u2082, Y\u2081, Y\u2082])"
       ]
      }
     ],
     "prompt_number": 3
    },
    {
     "cell_type": "heading",
     "level": 6,
     "metadata": {},
     "source": [
      "Relaci\u00f3n entre ella"
     ]
    },
    {
     "cell_type": "code",
     "collapsed": false,
     "input": [
      "Z0= difeomorphism_300(Z,B)\n",
      "Z0"
     ],
     "language": "python",
     "metadata": {},
     "outputs": [
      {
       "latex": [
        "$$\\begin{bmatrix}\\operatorname{\\Phi}{\\left (F,X_{1},X_{2},Y_{1},Y_{2} \\right )}, & \\operatorname{E\\_1}{\\left (F,X_{1},X_{2},Y_{1},Y_{2} \\right )}, & \\operatorname{E\\_2}{\\left (F,X_{1},X_{2},Y_{1},Y_{2} \\right )}, & \\operatorname{I\\_1}{\\left (F,X_{1},X_{2},Y_{1},Y_{2} \\right )}, & \\operatorname{I\\_2}{\\left (F,X_{1},X_{2},Y_{1},Y_{2} \\right )}\\end{bmatrix}$$"
       ],
       "output_type": "pyout",
       "prompt_number": 4,
       "text": [
        "[\\Phi(F, X\u2081, X\u2082, Y\u2081, Y\u2082), E\u2081(F, X\u2081, X\u2082, Y\u2081, Y\u2082), E\u2082(F, X\u2081, X\u2082, Y\u2081, Y\u2082), I\u2081(F, \n",
        "X\u2081, X\u2082, Y\u2081, Y\u2082), I\u2082(F, X\u2081, X\u2082, Y\u2081, Y\u2082)]"
       ]
      }
     ],
     "prompt_number": 4
    },
    {
     "cell_type": "heading",
     "level": 6,
     "metadata": {},
     "source": [
      "Matriz de la GTD a usar"
     ]
    },
    {
     "cell_type": "code",
     "collapsed": false,
     "input": [
      "N = matrix_gtdie(B)\n",
      "N"
     ],
     "language": "python",
     "metadata": {},
     "outputs": [
      {
       "latex": [
        "$$\\begin{bmatrix}\\operatorname{N0}{\\left (X_{1},X_{2},Y_{1},Y_{2} \\right )}, & \\operatorname{N1}{\\left (X_{1},X_{2},Y_{1},Y_{2} \\right )}, & \\operatorname{N2}{\\left (X_{1},X_{2},Y_{1},Y_{2} \\right )}\\end{bmatrix}$$"
       ],
       "output_type": "pyout",
       "prompt_number": 5,
       "text": [
        "[N\u2080(X\u2081, X\u2082, Y\u2081, Y\u2082), N\u2081(X\u2081, X\u2082, Y\u2081, Y\u2082), N\u2082(X\u2081, X\u2082, Y\u2081, Y\u2082)]"
       ]
      }
     ],
     "prompt_number": 5
    },
    {
     "cell_type": "heading",
     "level": 6,
     "metadata": {},
     "source": [
      "Ecuaciones del difeomorfismo"
     ]
    },
    {
     "cell_type": "code",
     "collapsed": false,
     "input": [
      "H = zeros(n)\n",
      "S = zeros(n)\n",
      "H,S = difeomorphism_equations004(Z0,B,factor,0,N)"
     ],
     "language": "python",
     "metadata": {},
     "outputs": [],
     "prompt_number": 6
    },
    {
     "cell_type": "heading",
     "level": 6,
     "metadata": {},
     "source": [
      "Sector $$dI^adE^b$$"
     ]
    },
    {
     "cell_type": "code",
     "collapsed": false,
     "input": [
      "S[n+1:2*n+1,1:n+1],H[n+1:2*n+1,1:n+1]\n"
     ],
     "language": "python",
     "metadata": {},
     "outputs": [
      {
       "latex": [
        "$$\\begin{pmatrix}\\left[\\begin{smallmatrix}\\operatorname{N1}{\\left (X_{1},X_{2},Y_{1},Y_{2} \\right )} \\frac{\\partial}{\\partial X_{1}} \\operatorname{E\\_1}{\\left (F,X_{1},X_{2},Y_{1},Y_{2} \\right )} \\frac{\\partial}{\\partial Y_{1}} \\operatorname{I\\_1}{\\left (F,X_{1},X_{2},Y_{1},Y_{2} \\right )} + \\operatorname{N1}{\\left (X_{1},X_{2},Y_{1},Y_{2} \\right )} \\frac{\\partial}{\\partial Y_{1}} \\operatorname{E\\_1}{\\left (F,X_{1},X_{2},Y_{1},Y_{2} \\right )} \\frac{\\partial}{\\partial X_{1}} \\operatorname{I\\_1}{\\left (F,X_{1},X_{2},Y_{1},Y_{2} \\right )} + \\operatorname{N2}{\\left (X_{1},X_{2},Y_{1},Y_{2} \\right )} \\frac{\\partial}{\\partial X_{1}} \\operatorname{E\\_2}{\\left (F,X_{1},X_{2},Y_{1},Y_{2} \\right )} \\frac{\\partial}{\\partial Y_{1}} \\operatorname{I\\_2}{\\left (F,X_{1},X_{2},Y_{1},Y_{2} \\right )} + \\operatorname{N2}{\\left (X_{1},X_{2},Y_{1},Y_{2} \\right )} \\frac{\\partial}{\\partial Y_{1}} \\operatorname{E\\_2}{\\left (F,X_{1},X_{2},Y_{1},Y_{2} \\right )} \\frac{\\partial}{\\partial X_{1}} \\operatorname{I\\_2}{\\left (F,X_{1},X_{2},Y_{1},Y_{2} \\right )} & \\operatorname{N1}{\\left (X_{1},X_{2},Y_{1},Y_{2} \\right )} \\frac{\\partial}{\\partial X_{2}} \\operatorname{E\\_1}{\\left (F,X_{1},X_{2},Y_{1},Y_{2} \\right )} \\frac{\\partial}{\\partial Y_{1}} \\operatorname{I\\_1}{\\left (F,X_{1},X_{2},Y_{1},Y_{2} \\right )} + \\operatorname{N1}{\\left (X_{1},X_{2},Y_{1},Y_{2} \\right )} \\frac{\\partial}{\\partial Y_{1}} \\operatorname{E\\_1}{\\left (F,X_{1},X_{2},Y_{1},Y_{2} \\right )} \\frac{\\partial}{\\partial X_{2}} \\operatorname{I\\_1}{\\left (F,X_{1},X_{2},Y_{1},Y_{2} \\right )} + \\operatorname{N2}{\\left (X_{1},X_{2},Y_{1},Y_{2} \\right )} \\frac{\\partial}{\\partial X_{2}} \\operatorname{E\\_2}{\\left (F,X_{1},X_{2},Y_{1},Y_{2} \\right )} \\frac{\\partial}{\\partial Y_{1}} \\operatorname{I\\_2}{\\left (F,X_{1},X_{2},Y_{1},Y_{2} \\right )} + \\operatorname{N2}{\\left (X_{1},X_{2},Y_{1},Y_{2} \\right )} \\frac{\\partial}{\\partial Y_{1}} \\operatorname{E\\_2}{\\left (F,X_{1},X_{2},Y_{1},Y_{2} \\right )} \\frac{\\partial}{\\partial X_{2}} \\operatorname{I\\_2}{\\left (F,X_{1},X_{2},Y_{1},Y_{2} \\right )}\\\\\\operatorname{N1}{\\left (X_{1},X_{2},Y_{1},Y_{2} \\right )} \\frac{\\partial}{\\partial X_{1}} \\operatorname{E\\_1}{\\left (F,X_{1},X_{2},Y_{1},Y_{2} \\right )} \\frac{\\partial}{\\partial Y_{2}} \\operatorname{I\\_1}{\\left (F,X_{1},X_{2},Y_{1},Y_{2} \\right )} + \\operatorname{N1}{\\left (X_{1},X_{2},Y_{1},Y_{2} \\right )} \\frac{\\partial}{\\partial Y_{2}} \\operatorname{E\\_1}{\\left (F,X_{1},X_{2},Y_{1},Y_{2} \\right )} \\frac{\\partial}{\\partial X_{1}} \\operatorname{I\\_1}{\\left (F,X_{1},X_{2},Y_{1},Y_{2} \\right )} + \\operatorname{N2}{\\left (X_{1},X_{2},Y_{1},Y_{2} \\right )} \\frac{\\partial}{\\partial X_{1}} \\operatorname{E\\_2}{\\left (F,X_{1},X_{2},Y_{1},Y_{2} \\right )} \\frac{\\partial}{\\partial Y_{2}} \\operatorname{I\\_2}{\\left (F,X_{1},X_{2},Y_{1},Y_{2} \\right )} + \\operatorname{N2}{\\left (X_{1},X_{2},Y_{1},Y_{2} \\right )} \\frac{\\partial}{\\partial Y_{2}} \\operatorname{E\\_2}{\\left (F,X_{1},X_{2},Y_{1},Y_{2} \\right )} \\frac{\\partial}{\\partial X_{1}} \\operatorname{I\\_2}{\\left (F,X_{1},X_{2},Y_{1},Y_{2} \\right )} & \\operatorname{N1}{\\left (X_{1},X_{2},Y_{1},Y_{2} \\right )} \\frac{\\partial}{\\partial X_{2}} \\operatorname{E\\_1}{\\left (F,X_{1},X_{2},Y_{1},Y_{2} \\right )} \\frac{\\partial}{\\partial Y_{2}} \\operatorname{I\\_1}{\\left (F,X_{1},X_{2},Y_{1},Y_{2} \\right )} + \\operatorname{N1}{\\left (X_{1},X_{2},Y_{1},Y_{2} \\right )} \\frac{\\partial}{\\partial Y_{2}} \\operatorname{E\\_1}{\\left (F,X_{1},X_{2},Y_{1},Y_{2} \\right )} \\frac{\\partial}{\\partial X_{2}} \\operatorname{I\\_1}{\\left (F,X_{1},X_{2},Y_{1},Y_{2} \\right )} + \\operatorname{N2}{\\left (X_{1},X_{2},Y_{1},Y_{2} \\right )} \\frac{\\partial}{\\partial X_{2}} \\operatorname{E\\_2}{\\left (F,X_{1},X_{2},Y_{1},Y_{2} \\right )} \\frac{\\partial}{\\partial Y_{2}} \\operatorname{I\\_2}{\\left (F,X_{1},X_{2},Y_{1},Y_{2} \\right )} + \\operatorname{N2}{\\left (X_{1},X_{2},Y_{1},Y_{2} \\right )} \\frac{\\partial}{\\partial Y_{2}} \\operatorname{E\\_2}{\\left (F,X_{1},X_{2},Y_{1},Y_{2} \\right )} \\frac{\\partial}{\\partial X_{2}} \\operatorname{I\\_2}{\\left (F,X_{1},X_{2},Y_{1},Y_{2} \\right )}\\end{smallmatrix}\\right], & \\left[\\begin{smallmatrix}\\left(\\operatorname{I\\_1}{\\left (F,X_{1},X_{2},Y_{1},Y_{2} \\right )} \\frac{\\partial}{\\partial X_{1}} \\operatorname{E\\_1}{\\left (F,X_{1},X_{2},Y_{1},Y_{2} \\right )} + \\operatorname{I\\_2}{\\left (F,X_{1},X_{2},Y_{1},Y_{2} \\right )} \\frac{\\partial}{\\partial X_{1}} \\operatorname{E\\_2}{\\left (F,X_{1},X_{2},Y_{1},Y_{2} \\right )} - \\frac{\\partial}{\\partial X_{1}} \\operatorname{\\Phi}{\\left (F,X_{1},X_{2},Y_{1},Y_{2} \\right )}\\right) \\left(\\operatorname{I\\_1}{\\left (F,X_{1},X_{2},Y_{1},Y_{2} \\right )} \\frac{\\partial}{\\partial Y_{1}} \\operatorname{E\\_1}{\\left (F,X_{1},X_{2},Y_{1},Y_{2} \\right )} + \\operatorname{I\\_2}{\\left (F,X_{1},X_{2},Y_{1},Y_{2} \\right )} \\frac{\\partial}{\\partial Y_{1}} \\operatorname{E\\_2}{\\left (F,X_{1},X_{2},Y_{1},Y_{2} \\right )} - \\frac{\\partial}{\\partial Y_{1}} \\operatorname{\\Phi}{\\left (F,X_{1},X_{2},Y_{1},Y_{2} \\right )}\\right) & \\left(\\operatorname{I\\_1}{\\left (F,X_{1},X_{2},Y_{1},Y_{2} \\right )} \\frac{\\partial}{\\partial X_{2}} \\operatorname{E\\_1}{\\left (F,X_{1},X_{2},Y_{1},Y_{2} \\right )} + \\operatorname{I\\_2}{\\left (F,X_{1},X_{2},Y_{1},Y_{2} \\right )} \\frac{\\partial}{\\partial X_{2}} \\operatorname{E\\_2}{\\left (F,X_{1},X_{2},Y_{1},Y_{2} \\right )} - \\frac{\\partial}{\\partial X_{2}} \\operatorname{\\Phi}{\\left (F,X_{1},X_{2},Y_{1},Y_{2} \\right )}\\right) \\left(\\operatorname{I\\_1}{\\left (F,X_{1},X_{2},Y_{1},Y_{2} \\right )} \\frac{\\partial}{\\partial Y_{1}} \\operatorname{E\\_1}{\\left (F,X_{1},X_{2},Y_{1},Y_{2} \\right )} + \\operatorname{I\\_2}{\\left (F,X_{1},X_{2},Y_{1},Y_{2} \\right )} \\frac{\\partial}{\\partial Y_{1}} \\operatorname{E\\_2}{\\left (F,X_{1},X_{2},Y_{1},Y_{2} \\right )} - \\frac{\\partial}{\\partial Y_{1}} \\operatorname{\\Phi}{\\left (F,X_{1},X_{2},Y_{1},Y_{2} \\right )}\\right)\\\\\\left(\\operatorname{I\\_1}{\\left (F,X_{1},X_{2},Y_{1},Y_{2} \\right )} \\frac{\\partial}{\\partial X_{1}} \\operatorname{E\\_1}{\\left (F,X_{1},X_{2},Y_{1},Y_{2} \\right )} + \\operatorname{I\\_2}{\\left (F,X_{1},X_{2},Y_{1},Y_{2} \\right )} \\frac{\\partial}{\\partial X_{1}} \\operatorname{E\\_2}{\\left (F,X_{1},X_{2},Y_{1},Y_{2} \\right )} - \\frac{\\partial}{\\partial X_{1}} \\operatorname{\\Phi}{\\left (F,X_{1},X_{2},Y_{1},Y_{2} \\right )}\\right) \\left(\\operatorname{I\\_1}{\\left (F,X_{1},X_{2},Y_{1},Y_{2} \\right )} \\frac{\\partial}{\\partial Y_{2}} \\operatorname{E\\_1}{\\left (F,X_{1},X_{2},Y_{1},Y_{2} \\right )} + \\operatorname{I\\_2}{\\left (F,X_{1},X_{2},Y_{1},Y_{2} \\right )} \\frac{\\partial}{\\partial Y_{2}} \\operatorname{E\\_2}{\\left (F,X_{1},X_{2},Y_{1},Y_{2} \\right )} - \\frac{\\partial}{\\partial Y_{2}} \\operatorname{\\Phi}{\\left (F,X_{1},X_{2},Y_{1},Y_{2} \\right )}\\right) & \\left(\\operatorname{I\\_1}{\\left (F,X_{1},X_{2},Y_{1},Y_{2} \\right )} \\frac{\\partial}{\\partial X_{2}} \\operatorname{E\\_1}{\\left (F,X_{1},X_{2},Y_{1},Y_{2} \\right )} + \\operatorname{I\\_2}{\\left (F,X_{1},X_{2},Y_{1},Y_{2} \\right )} \\frac{\\partial}{\\partial X_{2}} \\operatorname{E\\_2}{\\left (F,X_{1},X_{2},Y_{1},Y_{2} \\right )} - \\frac{\\partial}{\\partial X_{2}} \\operatorname{\\Phi}{\\left (F,X_{1},X_{2},Y_{1},Y_{2} \\right )}\\right) \\left(\\operatorname{I\\_1}{\\left (F,X_{1},X_{2},Y_{1},Y_{2} \\right )} \\frac{\\partial}{\\partial Y_{2}} \\operatorname{E\\_1}{\\left (F,X_{1},X_{2},Y_{1},Y_{2} \\right )} + \\operatorname{I\\_2}{\\left (F,X_{1},X_{2},Y_{1},Y_{2} \\right )} \\frac{\\partial}{\\partial Y_{2}} \\operatorname{E\\_2}{\\left (F,X_{1},X_{2},Y_{1},Y_{2} \\right )} - \\frac{\\partial}{\\partial Y_{2}} \\operatorname{\\Phi}{\\left (F,X_{1},X_{2},Y_{1},Y_{2} \\right )}\\right)\\end{smallmatrix}\\right]\\end{pmatrix}$$"
       ],
       "output_type": "pyout",
       "prompt_number": 7,
       "text": [
        "\u239b\u23a1                    d                          d                            \n",
        "\u239c\u23a2N\u2081(X\u2081, X\u2082, Y\u2081, Y\u2082)\u22c5\u2500\u2500\u2500(E\u2081(F, X\u2081, X\u2082, Y\u2081, Y\u2082))\u22c5\u2500\u2500\u2500(I\u2081(F, X\u2081, X\u2082, Y\u2081, Y\u2082)) + N\n",
        "\u239c\u23a2                   dX\u2081                        dY\u2081                           \n",
        "\u239c\u23a2                                                                            \n",
        "\u239c\u23a2                    d                          d                            \n",
        "\u239c\u23a2N\u2081(X\u2081, X\u2082, Y\u2081, Y\u2082)\u22c5\u2500\u2500\u2500(E\u2081(F, X\u2081, X\u2082, Y\u2081, Y\u2082))\u22c5\u2500\u2500\u2500(I\u2081(F, X\u2081, X\u2082, Y\u2081, Y\u2082)) + N\n",
        "\u239d\u23a3                   dX\u2081                        dY\u2082                           \n",
        "\n",
        "                   d                          d                               \n",
        "\u2081(X\u2081, X\u2082, Y\u2081, Y\u2082)\u22c5\u2500\u2500\u2500(E\u2081(F, X\u2081, X\u2082, Y\u2081, Y\u2082))\u22c5\u2500\u2500\u2500(I\u2081(F, X\u2081, X\u2082, Y\u2081, Y\u2082)) + N\u2082(X\n",
        "                  dY\u2081                        dX\u2081                              \n",
        "                                                                              \n",
        "                   d                          d                               \n",
        "\u2081(X\u2081, X\u2082, Y\u2081, Y\u2082)\u22c5\u2500\u2500\u2500(E\u2081(F, X\u2081, X\u2082, Y\u2081, Y\u2082))\u22c5\u2500\u2500\u2500(I\u2081(F, X\u2081, X\u2082, Y\u2081, Y\u2082)) + N\u2082(X\n",
        "                  dY\u2082                        dX\u2081                              \n",
        "\n",
        "                d                          d                                  \n",
        "\u2081, X\u2082, Y\u2081, Y\u2082)\u22c5\u2500\u2500\u2500(E\u2082(F, X\u2081, X\u2082, Y\u2081, Y\u2082))\u22c5\u2500\u2500\u2500(I\u2082(F, X\u2081, X\u2082, Y\u2081, Y\u2082)) + N\u2082(X\u2081, \n",
        "               dX\u2081                        dY\u2081                                 \n",
        "                                                                              \n",
        "                d                          d                                  \n",
        "\u2081, X\u2082, Y\u2081, Y\u2082)\u22c5\u2500\u2500\u2500(E\u2082(F, X\u2081, X\u2082, Y\u2081, Y\u2082))\u22c5\u2500\u2500\u2500(I\u2082(F, X\u2081, X\u2082, Y\u2081, Y\u2082)) + N\u2082(X\u2081, \n",
        "               dX\u2081                        dY\u2082                                 \n",
        "\n",
        "             d                          d                                     \n",
        "X\u2082, Y\u2081, Y\u2082)\u22c5\u2500\u2500\u2500(E\u2082(F, X\u2081, X\u2082, Y\u2081, Y\u2082))\u22c5\u2500\u2500\u2500(I\u2082(F, X\u2081, X\u2082, Y\u2081, Y\u2082))  N\u2081(X\u2081, X\u2082, \n",
        "            dY\u2081                        dX\u2081                                    \n",
        "                                                                              \n",
        "             d                          d                                     \n",
        "X\u2082, Y\u2081, Y\u2082)\u22c5\u2500\u2500\u2500(E\u2082(F, X\u2081, X\u2082, Y\u2081, Y\u2082))\u22c5\u2500\u2500\u2500(I\u2082(F, X\u2081, X\u2082, Y\u2081, Y\u2082))  N\u2081(X\u2081, X\u2082, \n",
        "            dY\u2082                        dX\u2081                                    \n",
        "\n",
        "         d                          d                                         \n",
        "Y\u2081, Y\u2082)\u22c5\u2500\u2500\u2500(E\u2081(F, X\u2081, X\u2082, Y\u2081, Y\u2082))\u22c5\u2500\u2500\u2500(I\u2081(F, X\u2081, X\u2082, Y\u2081, Y\u2082)) + N\u2081(X\u2081, X\u2082, Y\u2081,\n",
        "        dX\u2082                        dY\u2081                                        \n",
        "                                                                              \n",
        "         d                          d                                         \n",
        "Y\u2081, Y\u2082)\u22c5\u2500\u2500\u2500(E\u2081(F, X\u2081, X\u2082, Y\u2081, Y\u2082))\u22c5\u2500\u2500\u2500(I\u2081(F, X\u2081, X\u2082, Y\u2081, Y\u2082)) + N\u2081(X\u2081, X\u2082, Y\u2081,\n",
        "        dX\u2082                        dY\u2082                                        \n",
        "\n",
        "      d                          d                                            \n",
        " Y\u2082)\u22c5\u2500\u2500\u2500(E\u2081(F, X\u2081, X\u2082, Y\u2081, Y\u2082))\u22c5\u2500\u2500\u2500(I\u2081(F, X\u2081, X\u2082, Y\u2081, Y\u2082)) + N\u2082(X\u2081, X\u2082, Y\u2081, Y\u2082\n",
        "     dY\u2081                        dX\u2082                                           \n",
        "                                                                              \n",
        "      d                          d                                            \n",
        " Y\u2082)\u22c5\u2500\u2500\u2500(E\u2081(F, X\u2081, X\u2082, Y\u2081, Y\u2082))\u22c5\u2500\u2500\u2500(I\u2081(F, X\u2081, X\u2082, Y\u2081, Y\u2082)) + N\u2082(X\u2081, X\u2082, Y\u2081, Y\u2082\n",
        "     dY\u2082                        dX\u2082                                           \n",
        "\n",
        "   d                          d                                               \n",
        ")\u22c5\u2500\u2500\u2500(E\u2082(F, X\u2081, X\u2082, Y\u2081, Y\u2082))\u22c5\u2500\u2500\u2500(I\u2082(F, X\u2081, X\u2082, Y\u2081, Y\u2082)) + N\u2082(X\u2081, X\u2082, Y\u2081, Y\u2082)\u22c5\u2500\n",
        "  dX\u2082                        dY\u2081                                             d\n",
        "                                                                              \n",
        "   d                          d                                               \n",
        ")\u22c5\u2500\u2500\u2500(E\u2082(F, X\u2081, X\u2082, Y\u2081, Y\u2082))\u22c5\u2500\u2500\u2500(I\u2082(F, X\u2081, X\u2082, Y\u2081, Y\u2082)) + N\u2082(X\u2081, X\u2082, Y\u2081, Y\u2082)\u22c5\u2500\n",
        "  dX\u2082                        dY\u2082                                             d\n",
        "\n",
        "d                          d                        \u23a4  \u23a1\u239b                     \n",
        "\u2500\u2500(E\u2082(F, X\u2081, X\u2082, Y\u2081, Y\u2082))\u22c5\u2500\u2500\u2500(I\u2082(F, X\u2081, X\u2082, Y\u2081, Y\u2082))\u23a5, \u23a2\u239cI\u2081(F, X\u2081, X\u2082, Y\u2081, Y\u2082)\n",
        "Y\u2081                        dX\u2082                       \u23a5  \u23a2\u239d                     \n",
        "                                                    \u23a5  \u23a2                      \n",
        "d                          d                        \u23a5  \u23a2\u239b                     \n",
        "\u2500\u2500(E\u2082(F, X\u2081, X\u2082, Y\u2081, Y\u2082))\u22c5\u2500\u2500\u2500(I\u2082(F, X\u2081, X\u2082, Y\u2081, Y\u2082))\u23a5  \u23a2\u239cI\u2081(F, X\u2081, X\u2082, Y\u2081, Y\u2082)\n",
        "Y\u2082                        dX\u2082                       \u23a6  \u23a3\u239d                     \n",
        "\n",
        "  d                                                  d                        \n",
        "\u22c5\u2500\u2500\u2500(E\u2081(F, X\u2081, X\u2082, Y\u2081, Y\u2082)) + I\u2082(F, X\u2081, X\u2082, Y\u2081, Y\u2082)\u22c5\u2500\u2500\u2500(E\u2082(F, X\u2081, X\u2082, Y\u2081, Y\u2082))\n",
        " dX\u2081                                                dX\u2081                       \n",
        "                                                                              \n",
        "  d                                                  d                        \n",
        "\u22c5\u2500\u2500\u2500(E\u2081(F, X\u2081, X\u2082, Y\u2081, Y\u2082)) + I\u2082(F, X\u2081, X\u2082, Y\u2081, Y\u2082)\u22c5\u2500\u2500\u2500(E\u2082(F, X\u2081, X\u2082, Y\u2081, Y\u2082))\n",
        " dX\u2081                                                dX\u2081                       \n",
        "\n",
        "    d                          \u239e \u239b                       d                    \n",
        " - \u2500\u2500\u2500(\\Phi(F, X\u2081, X\u2082, Y\u2081, Y\u2082))\u239f\u22c5\u239cI\u2081(F, X\u2081, X\u2082, Y\u2081, Y\u2082)\u22c5\u2500\u2500\u2500(E\u2081(F, X\u2081, X\u2082, Y\u2081, \n",
        "   dX\u2081                         \u23a0 \u239d                      dY\u2081                   \n",
        "                                                                              \n",
        "    d                          \u239e \u239b                       d                    \n",
        " - \u2500\u2500\u2500(\\Phi(F, X\u2081, X\u2082, Y\u2081, Y\u2082))\u239f\u22c5\u239cI\u2081(F, X\u2081, X\u2082, Y\u2081, Y\u2082)\u22c5\u2500\u2500\u2500(E\u2081(F, X\u2081, X\u2082, Y\u2081, \n",
        "   dX\u2081                         \u23a0 \u239d                      dY\u2082                   \n",
        "\n",
        "                              d                            d                  \n",
        "Y\u2082)) + I\u2082(F, X\u2081, X\u2082, Y\u2081, Y\u2082)\u22c5\u2500\u2500\u2500(E\u2082(F, X\u2081, X\u2082, Y\u2081, Y\u2082)) - \u2500\u2500\u2500(\\Phi(F, X\u2081, X\u2082, \n",
        "                             dY\u2081                          dY\u2081                 \n",
        "                                                                              \n",
        "                              d                            d                  \n",
        "Y\u2082)) + I\u2082(F, X\u2081, X\u2082, Y\u2081, Y\u2082)\u22c5\u2500\u2500\u2500(E\u2082(F, X\u2081, X\u2082, Y\u2081, Y\u2082)) - \u2500\u2500\u2500(\\Phi(F, X\u2081, X\u2082, \n",
        "                             dY\u2082                          dY\u2082                 \n",
        "\n",
        "        \u239e  \u239b                       d                                          \n",
        "Y\u2081, Y\u2082))\u239f  \u239cI\u2081(F, X\u2081, X\u2082, Y\u2081, Y\u2082)\u22c5\u2500\u2500\u2500(E\u2081(F, X\u2081, X\u2082, Y\u2081, Y\u2082)) + I\u2082(F, X\u2081, X\u2082, Y\n",
        "        \u23a0  \u239d                      dX\u2082                                         \n",
        "                                                                              \n",
        "        \u239e  \u239b                       d                                          \n",
        "Y\u2081, Y\u2082))\u239f  \u239cI\u2081(F, X\u2081, X\u2082, Y\u2081, Y\u2082)\u22c5\u2500\u2500\u2500(E\u2081(F, X\u2081, X\u2082, Y\u2081, Y\u2082)) + I\u2082(F, X\u2081, X\u2082, Y\n",
        "        \u23a0  \u239d                      dX\u2082                                         \n",
        "\n",
        "        d                            d                          \u239e \u239b           \n",
        "\u2081, Y\u2082)\u22c5\u2500\u2500\u2500(E\u2082(F, X\u2081, X\u2082, Y\u2081, Y\u2082)) - \u2500\u2500\u2500(\\Phi(F, X\u2081, X\u2082, Y\u2081, Y\u2082))\u239f\u22c5\u239cI\u2081(F, X\u2081, X\n",
        "       dX\u2082                          dX\u2082                         \u23a0 \u239d           \n",
        "                                                                              \n",
        "        d                            d                          \u239e \u239b           \n",
        "\u2081, Y\u2082)\u22c5\u2500\u2500\u2500(E\u2082(F, X\u2081, X\u2082, Y\u2081, Y\u2082)) - \u2500\u2500\u2500(\\Phi(F, X\u2081, X\u2082, Y\u2081, Y\u2082))\u239f\u22c5\u239cI\u2081(F, X\u2081, X\n",
        "       dX\u2082                          dX\u2082                         \u23a0 \u239d           \n",
        "\n",
        "            d                                                  d              \n",
        "\u2082, Y\u2081, Y\u2082)\u22c5\u2500\u2500\u2500(E\u2081(F, X\u2081, X\u2082, Y\u2081, Y\u2082)) + I\u2082(F, X\u2081, X\u2082, Y\u2081, Y\u2082)\u22c5\u2500\u2500\u2500(E\u2082(F, X\u2081, X\u2082\n",
        "           dY\u2081                                                dY\u2081             \n",
        "                                                                              \n",
        "            d                                                  d              \n",
        "\u2082, Y\u2081, Y\u2082)\u22c5\u2500\u2500\u2500(E\u2081(F, X\u2081, X\u2082, Y\u2081, Y\u2082)) + I\u2082(F, X\u2081, X\u2082, Y\u2081, Y\u2082)\u22c5\u2500\u2500\u2500(E\u2082(F, X\u2081, X\u2082\n",
        "           dY\u2082                                                dY\u2082             \n",
        "\n",
        "              d                          \u239e\u23a4\u239e\n",
        ", Y\u2081, Y\u2082)) - \u2500\u2500\u2500(\\Phi(F, X\u2081, X\u2082, Y\u2081, Y\u2082))\u239f\u23a5\u239f\n",
        "             dY\u2081                         \u23a0\u23a5\u239f\n",
        "                                          \u23a5\u239f\n",
        "              d                          \u239e\u23a5\u239f\n",
        ", Y\u2081, Y\u2082)) - \u2500\u2500\u2500(\\Phi(F, X\u2081, X\u2082, Y\u2081, Y\u2082))\u239f\u23a5\u239f\n",
        "             dY\u2082                         \u23a0\u23a6\u23a0"
       ]
      }
     ],
     "prompt_number": 7
    },
    {
     "cell_type": "heading",
     "level": 6,
     "metadata": {},
     "source": [
      "Sector $$dI^adI^b$$"
     ]
    },
    {
     "cell_type": "code",
     "collapsed": false,
     "input": [
      "S[n+1:2*n+1,n+1:2*n+1],H[n+1:2*n+1,n+1:2*n+1]"
     ],
     "language": "python",
     "metadata": {},
     "outputs": [
      {
       "latex": [
        "$$\\begin{pmatrix}\\left[\\begin{smallmatrix}2 \\left(\\operatorname{N1}{\\left (X_{1},X_{2},Y_{1},Y_{2} \\right )} \\frac{\\partial}{\\partial Y_{1}} \\operatorname{E\\_1}{\\left (F,X_{1},X_{2},Y_{1},Y_{2} \\right )} \\frac{\\partial}{\\partial Y_{1}} \\operatorname{I\\_1}{\\left (F,X_{1},X_{2},Y_{1},Y_{2} \\right )} + \\operatorname{N2}{\\left (X_{1},X_{2},Y_{1},Y_{2} \\right )} \\frac{\\partial}{\\partial Y_{1}} \\operatorname{E\\_2}{\\left (F,X_{1},X_{2},Y_{1},Y_{2} \\right )} \\frac{\\partial}{\\partial Y_{1}} \\operatorname{I\\_2}{\\left (F,X_{1},X_{2},Y_{1},Y_{2} \\right )}\\right) & \\operatorname{N1}{\\left (X_{1},X_{2},Y_{1},Y_{2} \\right )} \\frac{\\partial}{\\partial Y_{1}} \\operatorname{E\\_1}{\\left (F,X_{1},X_{2},Y_{1},Y_{2} \\right )} \\frac{\\partial}{\\partial Y_{2}} \\operatorname{I\\_1}{\\left (F,X_{1},X_{2},Y_{1},Y_{2} \\right )} + \\operatorname{N1}{\\left (X_{1},X_{2},Y_{1},Y_{2} \\right )} \\frac{\\partial}{\\partial Y_{2}} \\operatorname{E\\_1}{\\left (F,X_{1},X_{2},Y_{1},Y_{2} \\right )} \\frac{\\partial}{\\partial Y_{1}} \\operatorname{I\\_1}{\\left (F,X_{1},X_{2},Y_{1},Y_{2} \\right )} + \\operatorname{N2}{\\left (X_{1},X_{2},Y_{1},Y_{2} \\right )} \\frac{\\partial}{\\partial Y_{1}} \\operatorname{E\\_2}{\\left (F,X_{1},X_{2},Y_{1},Y_{2} \\right )} \\frac{\\partial}{\\partial Y_{2}} \\operatorname{I\\_2}{\\left (F,X_{1},X_{2},Y_{1},Y_{2} \\right )} + \\operatorname{N2}{\\left (X_{1},X_{2},Y_{1},Y_{2} \\right )} \\frac{\\partial}{\\partial Y_{2}} \\operatorname{E\\_2}{\\left (F,X_{1},X_{2},Y_{1},Y_{2} \\right )} \\frac{\\partial}{\\partial Y_{1}} \\operatorname{I\\_2}{\\left (F,X_{1},X_{2},Y_{1},Y_{2} \\right )}\\\\\\operatorname{N1}{\\left (X_{1},X_{2},Y_{1},Y_{2} \\right )} \\frac{\\partial}{\\partial Y_{1}} \\operatorname{E\\_1}{\\left (F,X_{1},X_{2},Y_{1},Y_{2} \\right )} \\frac{\\partial}{\\partial Y_{2}} \\operatorname{I\\_1}{\\left (F,X_{1},X_{2},Y_{1},Y_{2} \\right )} + \\operatorname{N1}{\\left (X_{1},X_{2},Y_{1},Y_{2} \\right )} \\frac{\\partial}{\\partial Y_{2}} \\operatorname{E\\_1}{\\left (F,X_{1},X_{2},Y_{1},Y_{2} \\right )} \\frac{\\partial}{\\partial Y_{1}} \\operatorname{I\\_1}{\\left (F,X_{1},X_{2},Y_{1},Y_{2} \\right )} + \\operatorname{N2}{\\left (X_{1},X_{2},Y_{1},Y_{2} \\right )} \\frac{\\partial}{\\partial Y_{1}} \\operatorname{E\\_2}{\\left (F,X_{1},X_{2},Y_{1},Y_{2} \\right )} \\frac{\\partial}{\\partial Y_{2}} \\operatorname{I\\_2}{\\left (F,X_{1},X_{2},Y_{1},Y_{2} \\right )} + \\operatorname{N2}{\\left (X_{1},X_{2},Y_{1},Y_{2} \\right )} \\frac{\\partial}{\\partial Y_{2}} \\operatorname{E\\_2}{\\left (F,X_{1},X_{2},Y_{1},Y_{2} \\right )} \\frac{\\partial}{\\partial Y_{1}} \\operatorname{I\\_2}{\\left (F,X_{1},X_{2},Y_{1},Y_{2} \\right )} & 2 \\left(\\operatorname{N1}{\\left (X_{1},X_{2},Y_{1},Y_{2} \\right )} \\frac{\\partial}{\\partial Y_{2}} \\operatorname{E\\_1}{\\left (F,X_{1},X_{2},Y_{1},Y_{2} \\right )} \\frac{\\partial}{\\partial Y_{2}} \\operatorname{I\\_1}{\\left (F,X_{1},X_{2},Y_{1},Y_{2} \\right )} + \\operatorname{N2}{\\left (X_{1},X_{2},Y_{1},Y_{2} \\right )} \\frac{\\partial}{\\partial Y_{2}} \\operatorname{E\\_2}{\\left (F,X_{1},X_{2},Y_{1},Y_{2} \\right )} \\frac{\\partial}{\\partial Y_{2}} \\operatorname{I\\_2}{\\left (F,X_{1},X_{2},Y_{1},Y_{2} \\right )}\\right)\\end{smallmatrix}\\right], & \\left[\\begin{smallmatrix}\\left(\\operatorname{I\\_1}{\\left (F,X_{1},X_{2},Y_{1},Y_{2} \\right )} \\frac{\\partial}{\\partial Y_{1}} \\operatorname{E\\_1}{\\left (F,X_{1},X_{2},Y_{1},Y_{2} \\right )} + \\operatorname{I\\_2}{\\left (F,X_{1},X_{2},Y_{1},Y_{2} \\right )} \\frac{\\partial}{\\partial Y_{1}} \\operatorname{E\\_2}{\\left (F,X_{1},X_{2},Y_{1},Y_{2} \\right )} - \\frac{\\partial}{\\partial Y_{1}} \\operatorname{\\Phi}{\\left (F,X_{1},X_{2},Y_{1},Y_{2} \\right )}\\right)^{2} & \\left(\\operatorname{I\\_1}{\\left (F,X_{1},X_{2},Y_{1},Y_{2} \\right )} \\frac{\\partial}{\\partial Y_{1}} \\operatorname{E\\_1}{\\left (F,X_{1},X_{2},Y_{1},Y_{2} \\right )} + \\operatorname{I\\_2}{\\left (F,X_{1},X_{2},Y_{1},Y_{2} \\right )} \\frac{\\partial}{\\partial Y_{1}} \\operatorname{E\\_2}{\\left (F,X_{1},X_{2},Y_{1},Y_{2} \\right )} - \\frac{\\partial}{\\partial Y_{1}} \\operatorname{\\Phi}{\\left (F,X_{1},X_{2},Y_{1},Y_{2} \\right )}\\right) \\left(\\operatorname{I\\_1}{\\left (F,X_{1},X_{2},Y_{1},Y_{2} \\right )} \\frac{\\partial}{\\partial Y_{2}} \\operatorname{E\\_1}{\\left (F,X_{1},X_{2},Y_{1},Y_{2} \\right )} + \\operatorname{I\\_2}{\\left (F,X_{1},X_{2},Y_{1},Y_{2} \\right )} \\frac{\\partial}{\\partial Y_{2}} \\operatorname{E\\_2}{\\left (F,X_{1},X_{2},Y_{1},Y_{2} \\right )} - \\frac{\\partial}{\\partial Y_{2}} \\operatorname{\\Phi}{\\left (F,X_{1},X_{2},Y_{1},Y_{2} \\right )}\\right)\\\\\\left(\\operatorname{I\\_1}{\\left (F,X_{1},X_{2},Y_{1},Y_{2} \\right )} \\frac{\\partial}{\\partial Y_{1}} \\operatorname{E\\_1}{\\left (F,X_{1},X_{2},Y_{1},Y_{2} \\right )} + \\operatorname{I\\_2}{\\left (F,X_{1},X_{2},Y_{1},Y_{2} \\right )} \\frac{\\partial}{\\partial Y_{1}} \\operatorname{E\\_2}{\\left (F,X_{1},X_{2},Y_{1},Y_{2} \\right )} - \\frac{\\partial}{\\partial Y_{1}} \\operatorname{\\Phi}{\\left (F,X_{1},X_{2},Y_{1},Y_{2} \\right )}\\right) \\left(\\operatorname{I\\_1}{\\left (F,X_{1},X_{2},Y_{1},Y_{2} \\right )} \\frac{\\partial}{\\partial Y_{2}} \\operatorname{E\\_1}{\\left (F,X_{1},X_{2},Y_{1},Y_{2} \\right )} + \\operatorname{I\\_2}{\\left (F,X_{1},X_{2},Y_{1},Y_{2} \\right )} \\frac{\\partial}{\\partial Y_{2}} \\operatorname{E\\_2}{\\left (F,X_{1},X_{2},Y_{1},Y_{2} \\right )} - \\frac{\\partial}{\\partial Y_{2}} \\operatorname{\\Phi}{\\left (F,X_{1},X_{2},Y_{1},Y_{2} \\right )}\\right) & \\left(\\operatorname{I\\_1}{\\left (F,X_{1},X_{2},Y_{1},Y_{2} \\right )} \\frac{\\partial}{\\partial Y_{2}} \\operatorname{E\\_1}{\\left (F,X_{1},X_{2},Y_{1},Y_{2} \\right )} + \\operatorname{I\\_2}{\\left (F,X_{1},X_{2},Y_{1},Y_{2} \\right )} \\frac{\\partial}{\\partial Y_{2}} \\operatorname{E\\_2}{\\left (F,X_{1},X_{2},Y_{1},Y_{2} \\right )} - \\frac{\\partial}{\\partial Y_{2}} \\operatorname{\\Phi}{\\left (F,X_{1},X_{2},Y_{1},Y_{2} \\right )}\\right)^{2}\\end{smallmatrix}\\right]\\end{pmatrix}$$"
       ],
       "output_type": "pyout",
       "prompt_number": 8,
       "text": [
        "\u239b                                                                             \n",
        "\u239c\u23a1                                                                           \u239b\n",
        "\u239c\u23a2                                                                         2\u22c5\u239c\n",
        "\u239c\u23a2                                                                           \u239d\n",
        "\u239c\u23a2                                                                            \n",
        "\u239c\u23a2                    d                          d                            \n",
        "\u239c\u23a2N\u2081(X\u2081, X\u2082, Y\u2081, Y\u2082)\u22c5\u2500\u2500\u2500(E\u2081(F, X\u2081, X\u2082, Y\u2081, Y\u2082))\u22c5\u2500\u2500\u2500(I\u2081(F, X\u2081, X\u2082, Y\u2081, Y\u2082)) + N\n",
        "\u239c\u23a3                   dY\u2081                        dY\u2082                           \n",
        "\u239d                                                                             \n",
        "\n",
        "                                                                              \n",
        "                    d                          d                              \n",
        "N\u2081(X\u2081, X\u2082, Y\u2081, Y\u2082)\u22c5\u2500\u2500\u2500(E\u2081(F, X\u2081, X\u2082, Y\u2081, Y\u2082))\u22c5\u2500\u2500\u2500(I\u2081(F, X\u2081, X\u2082, Y\u2081, Y\u2082)) + N\u2082(\n",
        "                   dY\u2081                        dY\u2081                             \n",
        "                                                                              \n",
        "                   d                          d                               \n",
        "\u2081(X\u2081, X\u2082, Y\u2081, Y\u2082)\u22c5\u2500\u2500\u2500(E\u2081(F, X\u2081, X\u2082, Y\u2081, Y\u2082))\u22c5\u2500\u2500\u2500(I\u2081(F, X\u2081, X\u2082, Y\u2081, Y\u2082)) + N\u2082(X\n",
        "                  dY\u2082                        dY\u2081                              \n",
        "                                                                              \n",
        "\n",
        "                                                                              \n",
        "                 d                          d                        \u239e        \n",
        "X\u2081, X\u2082, Y\u2081, Y\u2082)\u22c5\u2500\u2500\u2500(E\u2082(F, X\u2081, X\u2082, Y\u2081, Y\u2082))\u22c5\u2500\u2500\u2500(I\u2082(F, X\u2081, X\u2082, Y\u2081, Y\u2082))\u239f        \n",
        "                dY\u2081                        dY\u2081                       \u23a0        \n",
        "                                                                              \n",
        "                d                          d                                  \n",
        "\u2081, X\u2082, Y\u2081, Y\u2082)\u22c5\u2500\u2500\u2500(E\u2082(F, X\u2081, X\u2082, Y\u2081, Y\u2082))\u22c5\u2500\u2500\u2500(I\u2082(F, X\u2081, X\u2082, Y\u2081, Y\u2082)) + N\u2082(X\u2081, \n",
        "               dY\u2081                        dY\u2082                                 \n",
        "                                                                              \n",
        "\n",
        "                                                                              \n",
        "                                                                              \n",
        "                                                                   N\u2081(X\u2081, X\u2082, \n",
        "                                                                              \n",
        "                                                                              \n",
        "             d                          d                                     \n",
        "X\u2082, Y\u2081, Y\u2082)\u22c5\u2500\u2500\u2500(E\u2082(F, X\u2081, X\u2082, Y\u2081, Y\u2082))\u22c5\u2500\u2500\u2500(I\u2082(F, X\u2081, X\u2082, Y\u2081, Y\u2082))             \n",
        "            dY\u2082                        dY\u2081                                    \n",
        "                                                                              \n",
        "\n",
        "                                                                              \n",
        "         d                          d                                         \n",
        "Y\u2081, Y\u2082)\u22c5\u2500\u2500\u2500(E\u2081(F, X\u2081, X\u2082, Y\u2081, Y\u2082))\u22c5\u2500\u2500\u2500(I\u2081(F, X\u2081, X\u2082, Y\u2081, Y\u2082)) + N\u2081(X\u2081, X\u2082, Y\u2081,\n",
        "        dY\u2081                        dY\u2082                                        \n",
        "                                                                              \n",
        "                                                                \u239b             \n",
        "                                                              2\u22c5\u239cN\u2081(X\u2081, X\u2082, Y\u2081\n",
        "                                                                \u239d             \n",
        "                                                                              \n",
        "\n",
        "                                                                              \n",
        "      d                          d                                            \n",
        " Y\u2082)\u22c5\u2500\u2500\u2500(E\u2081(F, X\u2081, X\u2082, Y\u2081, Y\u2082))\u22c5\u2500\u2500\u2500(I\u2081(F, X\u2081, X\u2082, Y\u2081, Y\u2082)) + N\u2082(X\u2081, X\u2082, Y\u2081, Y\u2082\n",
        "     dY\u2082                        dY\u2081                                           \n",
        "                                                                              \n",
        "       d                          d                                           \n",
        ", Y\u2082)\u22c5\u2500\u2500\u2500(E\u2081(F, X\u2081, X\u2082, Y\u2081, Y\u2082))\u22c5\u2500\u2500\u2500(I\u2081(F, X\u2081, X\u2082, Y\u2081, Y\u2082)) + N\u2082(X\u2081, X\u2082, Y\u2081, Y\n",
        "      dY\u2082                        dY\u2082                                          \n",
        "                                                                              \n",
        "\n",
        "                                                                              \n",
        "   d                          d                                               \n",
        ")\u22c5\u2500\u2500\u2500(E\u2082(F, X\u2081, X\u2082, Y\u2081, Y\u2082))\u22c5\u2500\u2500\u2500(I\u2082(F, X\u2081, X\u2082, Y\u2081, Y\u2082)) + N\u2082(X\u2081, X\u2082, Y\u2081, Y\u2082)\u22c5\u2500\n",
        "  dY\u2081                        dY\u2082                                             d\n",
        "                                                                              \n",
        "    d                          d                        \u239e                     \n",
        "\u2082)\u22c5\u2500\u2500\u2500(E\u2082(F, X\u2081, X\u2082, Y\u2081, Y\u2082))\u22c5\u2500\u2500\u2500(I\u2082(F, X\u2081, X\u2082, Y\u2081, Y\u2082))\u239f                     \n",
        "   dY\u2082                        dY\u2082                       \u23a0                     \n",
        "                                                                              \n",
        "\n",
        "                                                       \u23a1                      \n",
        "d                          d                        \u23a4  \u23a2                      \n",
        "\u2500\u2500(E\u2082(F, X\u2081, X\u2082, Y\u2081, Y\u2082))\u22c5\u2500\u2500\u2500(I\u2082(F, X\u2081, X\u2082, Y\u2081, Y\u2082))\u23a5, \u23a2                      \n",
        "Y\u2082                        dY\u2081                       \u23a5  \u23a2                      \n",
        "                                                    \u23a5  \u23a2                      \n",
        "                                                    \u23a5  \u23a2                      \n",
        "                                                    \u23a5  \u23a2\u239b                     \n",
        "                                                    \u23a6  \u23a2\u239cI\u2081(F, X\u2081, X\u2082, Y\u2081, Y\u2082)\n",
        "                                                       \u23a3\u239d                     \n",
        "\n",
        "                                                                              \n",
        "                                            \u239b                       d         \n",
        "                                            \u239cI\u2081(F, X\u2081, X\u2082, Y\u2081, Y\u2082)\u22c5\u2500\u2500\u2500(E\u2081(F, X\n",
        "                                            \u239d                      dY\u2081        \n",
        "                                                                              \n",
        "                                                                              \n",
        "  d                                                  d                        \n",
        "\u22c5\u2500\u2500\u2500(E\u2081(F, X\u2081, X\u2082, Y\u2081, Y\u2082)) + I\u2082(F, X\u2081, X\u2082, Y\u2081, Y\u2082)\u22c5\u2500\u2500\u2500(E\u2082(F, X\u2081, X\u2082, Y\u2081, Y\u2082))\n",
        " dY\u2081                                                dY\u2081                       \n",
        "\n",
        "                                                                              \n",
        "                                         d                            d       \n",
        "\u2081, X\u2082, Y\u2081, Y\u2082)) + I\u2082(F, X\u2081, X\u2082, Y\u2081, Y\u2082)\u22c5\u2500\u2500\u2500(E\u2082(F, X\u2081, X\u2082, Y\u2081, Y\u2082)) - \u2500\u2500\u2500(\\Phi(\n",
        "                                        dY\u2081                          dY\u2081      \n",
        "                                                                              \n",
        "                                                                              \n",
        "    d                          \u239e \u239b                       d                    \n",
        " - \u2500\u2500\u2500(\\Phi(F, X\u2081, X\u2082, Y\u2081, Y\u2082))\u239f\u22c5\u239cI\u2081(F, X\u2081, X\u2082, Y\u2081, Y\u2082)\u22c5\u2500\u2500\u2500(E\u2081(F, X\u2081, X\u2082, Y\u2081, \n",
        "   dY\u2081                         \u23a0 \u239d                      dY\u2082                   \n",
        "\n",
        "                    2                                                         \n",
        "                   \u239e                                                          \n",
        "F, X\u2081, X\u2082, Y\u2081, Y\u2082))\u239f                                                          \n",
        "                   \u23a0                                                          \n",
        "                                                                              \n",
        "                                                                              \n",
        "                              d                            d                  \n",
        "Y\u2082)) + I\u2082(F, X\u2081, X\u2082, Y\u2081, Y\u2082)\u22c5\u2500\u2500\u2500(E\u2082(F, X\u2081, X\u2082, Y\u2081, Y\u2082)) - \u2500\u2500\u2500(\\Phi(F, X\u2081, X\u2082, \n",
        "                             dY\u2082                          dY\u2082                 \n",
        "\n",
        "                                                                              \n",
        "           \u239b                       d                                          \n",
        "           \u239cI\u2081(F, X\u2081, X\u2082, Y\u2081, Y\u2082)\u22c5\u2500\u2500\u2500(E\u2081(F, X\u2081, X\u2082, Y\u2081, Y\u2082)) + I\u2082(F, X\u2081, X\u2082, Y\n",
        "           \u239d                      dY\u2081                                         \n",
        "                                                                              \n",
        "                                                                              \n",
        "        \u239e                                                                    \u239b\n",
        "Y\u2081, Y\u2082))\u239f                                                                    \u239c\n",
        "        \u23a0                                                                    \u239d\n",
        "\n",
        "                                                                              \n",
        "        d                            d                          \u239e \u239b           \n",
        "\u2081, Y\u2082)\u22c5\u2500\u2500\u2500(E\u2082(F, X\u2081, X\u2082, Y\u2081, Y\u2082)) - \u2500\u2500\u2500(\\Phi(F, X\u2081, X\u2082, Y\u2081, Y\u2082))\u239f\u22c5\u239cI\u2081(F, X\u2081, X\n",
        "       dY\u2081                          dY\u2081                         \u23a0 \u239d           \n",
        "                                                                              \n",
        "                                                                              \n",
        "                       d                                                  d   \n",
        "I\u2081(F, X\u2081, X\u2082, Y\u2081, Y\u2082)\u22c5\u2500\u2500\u2500(E\u2081(F, X\u2081, X\u2082, Y\u2081, Y\u2082)) + I\u2082(F, X\u2081, X\u2082, Y\u2081, Y\u2082)\u22c5\u2500\u2500\u2500(E\n",
        "                      dY\u2082                                                dY\u2082  \n",
        "\n",
        "                                                                              \n",
        "            d                                                  d              \n",
        "\u2082, Y\u2081, Y\u2082)\u22c5\u2500\u2500\u2500(E\u2081(F, X\u2081, X\u2082, Y\u2081, Y\u2082)) + I\u2082(F, X\u2081, X\u2082, Y\u2081, Y\u2082)\u22c5\u2500\u2500\u2500(E\u2082(F, X\u2081, X\u2082\n",
        "           dY\u2082                                                dY\u2082             \n",
        "                                                                              \n",
        "                                                     2                        \n",
        "                         d                          \u239e                         \n",
        "\u2082(F, X\u2081, X\u2082, Y\u2081, Y\u2082)) - \u2500\u2500\u2500(\\Phi(F, X\u2081, X\u2082, Y\u2081, Y\u2082))\u239f                         \n",
        "                        dY\u2082                         \u23a0                         \n",
        "\n",
        "                                          \u23a4\u239e\n",
        "              d                          \u239e\u23a5\u239f\n",
        ", Y\u2081, Y\u2082)) - \u2500\u2500\u2500(\\Phi(F, X\u2081, X\u2082, Y\u2081, Y\u2082))\u239f\u23a5\u239f\n",
        "             dY\u2082                         \u23a0\u23a5\u239f\n",
        "                                          \u23a5\u239f\n",
        "                                          \u23a5\u239f\n",
        "                                          \u23a5\u239f\n",
        "                                          \u23a5\u239f\n",
        "                                          \u23a6\u23a0"
       ]
      }
     ],
     "prompt_number": 8
    },
    {
     "cell_type": "heading",
     "level": 6,
     "metadata": {},
     "source": [
      "Sector $$dE^adE^b$$"
     ]
    },
    {
     "cell_type": "code",
     "collapsed": false,
     "input": [
      "S[1:n+1,1:n+1],H[1:n+1,1:n+1]"
     ],
     "language": "python",
     "metadata": {},
     "outputs": [
      {
       "latex": [
        "$$\\begin{pmatrix}\\left[\\begin{smallmatrix}2 \\left(\\operatorname{N1}{\\left (X_{1},X_{2},Y_{1},Y_{2} \\right )} \\frac{\\partial}{\\partial X_{1}} \\operatorname{E\\_1}{\\left (F,X_{1},X_{2},Y_{1},Y_{2} \\right )} \\frac{\\partial}{\\partial X_{1}} \\operatorname{I\\_1}{\\left (F,X_{1},X_{2},Y_{1},Y_{2} \\right )} + \\operatorname{N2}{\\left (X_{1},X_{2},Y_{1},Y_{2} \\right )} \\frac{\\partial}{\\partial X_{1}} \\operatorname{E\\_2}{\\left (F,X_{1},X_{2},Y_{1},Y_{2} \\right )} \\frac{\\partial}{\\partial X_{1}} \\operatorname{I\\_2}{\\left (F,X_{1},X_{2},Y_{1},Y_{2} \\right )}\\right) & \\operatorname{N1}{\\left (X_{1},X_{2},Y_{1},Y_{2} \\right )} \\frac{\\partial}{\\partial X_{1}} \\operatorname{E\\_1}{\\left (F,X_{1},X_{2},Y_{1},Y_{2} \\right )} \\frac{\\partial}{\\partial X_{2}} \\operatorname{I\\_1}{\\left (F,X_{1},X_{2},Y_{1},Y_{2} \\right )} + \\operatorname{N1}{\\left (X_{1},X_{2},Y_{1},Y_{2} \\right )} \\frac{\\partial}{\\partial X_{2}} \\operatorname{E\\_1}{\\left (F,X_{1},X_{2},Y_{1},Y_{2} \\right )} \\frac{\\partial}{\\partial X_{1}} \\operatorname{I\\_1}{\\left (F,X_{1},X_{2},Y_{1},Y_{2} \\right )} + \\operatorname{N2}{\\left (X_{1},X_{2},Y_{1},Y_{2} \\right )} \\frac{\\partial}{\\partial X_{1}} \\operatorname{E\\_2}{\\left (F,X_{1},X_{2},Y_{1},Y_{2} \\right )} \\frac{\\partial}{\\partial X_{2}} \\operatorname{I\\_2}{\\left (F,X_{1},X_{2},Y_{1},Y_{2} \\right )} + \\operatorname{N2}{\\left (X_{1},X_{2},Y_{1},Y_{2} \\right )} \\frac{\\partial}{\\partial X_{2}} \\operatorname{E\\_2}{\\left (F,X_{1},X_{2},Y_{1},Y_{2} \\right )} \\frac{\\partial}{\\partial X_{1}} \\operatorname{I\\_2}{\\left (F,X_{1},X_{2},Y_{1},Y_{2} \\right )}\\\\\\operatorname{N1}{\\left (X_{1},X_{2},Y_{1},Y_{2} \\right )} \\frac{\\partial}{\\partial X_{1}} \\operatorname{E\\_1}{\\left (F,X_{1},X_{2},Y_{1},Y_{2} \\right )} \\frac{\\partial}{\\partial X_{2}} \\operatorname{I\\_1}{\\left (F,X_{1},X_{2},Y_{1},Y_{2} \\right )} + \\operatorname{N1}{\\left (X_{1},X_{2},Y_{1},Y_{2} \\right )} \\frac{\\partial}{\\partial X_{2}} \\operatorname{E\\_1}{\\left (F,X_{1},X_{2},Y_{1},Y_{2} \\right )} \\frac{\\partial}{\\partial X_{1}} \\operatorname{I\\_1}{\\left (F,X_{1},X_{2},Y_{1},Y_{2} \\right )} + \\operatorname{N2}{\\left (X_{1},X_{2},Y_{1},Y_{2} \\right )} \\frac{\\partial}{\\partial X_{1}} \\operatorname{E\\_2}{\\left (F,X_{1},X_{2},Y_{1},Y_{2} \\right )} \\frac{\\partial}{\\partial X_{2}} \\operatorname{I\\_2}{\\left (F,X_{1},X_{2},Y_{1},Y_{2} \\right )} + \\operatorname{N2}{\\left (X_{1},X_{2},Y_{1},Y_{2} \\right )} \\frac{\\partial}{\\partial X_{2}} \\operatorname{E\\_2}{\\left (F,X_{1},X_{2},Y_{1},Y_{2} \\right )} \\frac{\\partial}{\\partial X_{1}} \\operatorname{I\\_2}{\\left (F,X_{1},X_{2},Y_{1},Y_{2} \\right )} & 2 \\left(\\operatorname{N1}{\\left (X_{1},X_{2},Y_{1},Y_{2} \\right )} \\frac{\\partial}{\\partial X_{2}} \\operatorname{E\\_1}{\\left (F,X_{1},X_{2},Y_{1},Y_{2} \\right )} \\frac{\\partial}{\\partial X_{2}} \\operatorname{I\\_1}{\\left (F,X_{1},X_{2},Y_{1},Y_{2} \\right )} + \\operatorname{N2}{\\left (X_{1},X_{2},Y_{1},Y_{2} \\right )} \\frac{\\partial}{\\partial X_{2}} \\operatorname{E\\_2}{\\left (F,X_{1},X_{2},Y_{1},Y_{2} \\right )} \\frac{\\partial}{\\partial X_{2}} \\operatorname{I\\_2}{\\left (F,X_{1},X_{2},Y_{1},Y_{2} \\right )}\\right)\\end{smallmatrix}\\right], & \\left[\\begin{smallmatrix}\\left(\\operatorname{I\\_1}{\\left (F,X_{1},X_{2},Y_{1},Y_{2} \\right )} \\frac{\\partial}{\\partial X_{1}} \\operatorname{E\\_1}{\\left (F,X_{1},X_{2},Y_{1},Y_{2} \\right )} + \\operatorname{I\\_2}{\\left (F,X_{1},X_{2},Y_{1},Y_{2} \\right )} \\frac{\\partial}{\\partial X_{1}} \\operatorname{E\\_2}{\\left (F,X_{1},X_{2},Y_{1},Y_{2} \\right )} - \\frac{\\partial}{\\partial X_{1}} \\operatorname{\\Phi}{\\left (F,X_{1},X_{2},Y_{1},Y_{2} \\right )}\\right)^{2} & \\left(\\operatorname{I\\_1}{\\left (F,X_{1},X_{2},Y_{1},Y_{2} \\right )} \\frac{\\partial}{\\partial X_{1}} \\operatorname{E\\_1}{\\left (F,X_{1},X_{2},Y_{1},Y_{2} \\right )} + \\operatorname{I\\_2}{\\left (F,X_{1},X_{2},Y_{1},Y_{2} \\right )} \\frac{\\partial}{\\partial X_{1}} \\operatorname{E\\_2}{\\left (F,X_{1},X_{2},Y_{1},Y_{2} \\right )} - \\frac{\\partial}{\\partial X_{1}} \\operatorname{\\Phi}{\\left (F,X_{1},X_{2},Y_{1},Y_{2} \\right )}\\right) \\left(\\operatorname{I\\_1}{\\left (F,X_{1},X_{2},Y_{1},Y_{2} \\right )} \\frac{\\partial}{\\partial X_{2}} \\operatorname{E\\_1}{\\left (F,X_{1},X_{2},Y_{1},Y_{2} \\right )} + \\operatorname{I\\_2}{\\left (F,X_{1},X_{2},Y_{1},Y_{2} \\right )} \\frac{\\partial}{\\partial X_{2}} \\operatorname{E\\_2}{\\left (F,X_{1},X_{2},Y_{1},Y_{2} \\right )} - \\frac{\\partial}{\\partial X_{2}} \\operatorname{\\Phi}{\\left (F,X_{1},X_{2},Y_{1},Y_{2} \\right )}\\right)\\\\\\left(\\operatorname{I\\_1}{\\left (F,X_{1},X_{2},Y_{1},Y_{2} \\right )} \\frac{\\partial}{\\partial X_{1}} \\operatorname{E\\_1}{\\left (F,X_{1},X_{2},Y_{1},Y_{2} \\right )} + \\operatorname{I\\_2}{\\left (F,X_{1},X_{2},Y_{1},Y_{2} \\right )} \\frac{\\partial}{\\partial X_{1}} \\operatorname{E\\_2}{\\left (F,X_{1},X_{2},Y_{1},Y_{2} \\right )} - \\frac{\\partial}{\\partial X_{1}} \\operatorname{\\Phi}{\\left (F,X_{1},X_{2},Y_{1},Y_{2} \\right )}\\right) \\left(\\operatorname{I\\_1}{\\left (F,X_{1},X_{2},Y_{1},Y_{2} \\right )} \\frac{\\partial}{\\partial X_{2}} \\operatorname{E\\_1}{\\left (F,X_{1},X_{2},Y_{1},Y_{2} \\right )} + \\operatorname{I\\_2}{\\left (F,X_{1},X_{2},Y_{1},Y_{2} \\right )} \\frac{\\partial}{\\partial X_{2}} \\operatorname{E\\_2}{\\left (F,X_{1},X_{2},Y_{1},Y_{2} \\right )} - \\frac{\\partial}{\\partial X_{2}} \\operatorname{\\Phi}{\\left (F,X_{1},X_{2},Y_{1},Y_{2} \\right )}\\right) & \\left(\\operatorname{I\\_1}{\\left (F,X_{1},X_{2},Y_{1},Y_{2} \\right )} \\frac{\\partial}{\\partial X_{2}} \\operatorname{E\\_1}{\\left (F,X_{1},X_{2},Y_{1},Y_{2} \\right )} + \\operatorname{I\\_2}{\\left (F,X_{1},X_{2},Y_{1},Y_{2} \\right )} \\frac{\\partial}{\\partial X_{2}} \\operatorname{E\\_2}{\\left (F,X_{1},X_{2},Y_{1},Y_{2} \\right )} - \\frac{\\partial}{\\partial X_{2}} \\operatorname{\\Phi}{\\left (F,X_{1},X_{2},Y_{1},Y_{2} \\right )}\\right)^{2}\\end{smallmatrix}\\right]\\end{pmatrix}$$"
       ],
       "output_type": "pyout",
       "prompt_number": 9,
       "text": [
        "\u239b                                                                             \n",
        "\u239c\u23a1                                                                           \u239b\n",
        "\u239c\u23a2                                                                         2\u22c5\u239c\n",
        "\u239c\u23a2                                                                           \u239d\n",
        "\u239c\u23a2                                                                            \n",
        "\u239c\u23a2                    d                          d                            \n",
        "\u239c\u23a2N\u2081(X\u2081, X\u2082, Y\u2081, Y\u2082)\u22c5\u2500\u2500\u2500(E\u2081(F, X\u2081, X\u2082, Y\u2081, Y\u2082))\u22c5\u2500\u2500\u2500(I\u2081(F, X\u2081, X\u2082, Y\u2081, Y\u2082)) + N\n",
        "\u239c\u23a3                   dX\u2081                        dX\u2082                           \n",
        "\u239d                                                                             \n",
        "\n",
        "                                                                              \n",
        "                    d                          d                              \n",
        "N\u2081(X\u2081, X\u2082, Y\u2081, Y\u2082)\u22c5\u2500\u2500\u2500(E\u2081(F, X\u2081, X\u2082, Y\u2081, Y\u2082))\u22c5\u2500\u2500\u2500(I\u2081(F, X\u2081, X\u2082, Y\u2081, Y\u2082)) + N\u2082(\n",
        "                   dX\u2081                        dX\u2081                             \n",
        "                                                                              \n",
        "                   d                          d                               \n",
        "\u2081(X\u2081, X\u2082, Y\u2081, Y\u2082)\u22c5\u2500\u2500\u2500(E\u2081(F, X\u2081, X\u2082, Y\u2081, Y\u2082))\u22c5\u2500\u2500\u2500(I\u2081(F, X\u2081, X\u2082, Y\u2081, Y\u2082)) + N\u2082(X\n",
        "                  dX\u2082                        dX\u2081                              \n",
        "                                                                              \n",
        "\n",
        "                                                                              \n",
        "                 d                          d                        \u239e        \n",
        "X\u2081, X\u2082, Y\u2081, Y\u2082)\u22c5\u2500\u2500\u2500(E\u2082(F, X\u2081, X\u2082, Y\u2081, Y\u2082))\u22c5\u2500\u2500\u2500(I\u2082(F, X\u2081, X\u2082, Y\u2081, Y\u2082))\u239f        \n",
        "                dX\u2081                        dX\u2081                       \u23a0        \n",
        "                                                                              \n",
        "                d                          d                                  \n",
        "\u2081, X\u2082, Y\u2081, Y\u2082)\u22c5\u2500\u2500\u2500(E\u2082(F, X\u2081, X\u2082, Y\u2081, Y\u2082))\u22c5\u2500\u2500\u2500(I\u2082(F, X\u2081, X\u2082, Y\u2081, Y\u2082)) + N\u2082(X\u2081, \n",
        "               dX\u2081                        dX\u2082                                 \n",
        "                                                                              \n",
        "\n",
        "                                                                              \n",
        "                                                                              \n",
        "                                                                   N\u2081(X\u2081, X\u2082, \n",
        "                                                                              \n",
        "                                                                              \n",
        "             d                          d                                     \n",
        "X\u2082, Y\u2081, Y\u2082)\u22c5\u2500\u2500\u2500(E\u2082(F, X\u2081, X\u2082, Y\u2081, Y\u2082))\u22c5\u2500\u2500\u2500(I\u2082(F, X\u2081, X\u2082, Y\u2081, Y\u2082))             \n",
        "            dX\u2082                        dX\u2081                                    \n",
        "                                                                              \n",
        "\n",
        "                                                                              \n",
        "         d                          d                                         \n",
        "Y\u2081, Y\u2082)\u22c5\u2500\u2500\u2500(E\u2081(F, X\u2081, X\u2082, Y\u2081, Y\u2082))\u22c5\u2500\u2500\u2500(I\u2081(F, X\u2081, X\u2082, Y\u2081, Y\u2082)) + N\u2081(X\u2081, X\u2082, Y\u2081,\n",
        "        dX\u2081                        dX\u2082                                        \n",
        "                                                                              \n",
        "                                                                \u239b             \n",
        "                                                              2\u22c5\u239cN\u2081(X\u2081, X\u2082, Y\u2081\n",
        "                                                                \u239d             \n",
        "                                                                              \n",
        "\n",
        "                                                                              \n",
        "      d                          d                                            \n",
        " Y\u2082)\u22c5\u2500\u2500\u2500(E\u2081(F, X\u2081, X\u2082, Y\u2081, Y\u2082))\u22c5\u2500\u2500\u2500(I\u2081(F, X\u2081, X\u2082, Y\u2081, Y\u2082)) + N\u2082(X\u2081, X\u2082, Y\u2081, Y\u2082\n",
        "     dX\u2082                        dX\u2081                                           \n",
        "                                                                              \n",
        "       d                          d                                           \n",
        ", Y\u2082)\u22c5\u2500\u2500\u2500(E\u2081(F, X\u2081, X\u2082, Y\u2081, Y\u2082))\u22c5\u2500\u2500\u2500(I\u2081(F, X\u2081, X\u2082, Y\u2081, Y\u2082)) + N\u2082(X\u2081, X\u2082, Y\u2081, Y\n",
        "      dX\u2082                        dX\u2082                                          \n",
        "                                                                              \n",
        "\n",
        "                                                                              \n",
        "   d                          d                                               \n",
        ")\u22c5\u2500\u2500\u2500(E\u2082(F, X\u2081, X\u2082, Y\u2081, Y\u2082))\u22c5\u2500\u2500\u2500(I\u2082(F, X\u2081, X\u2082, Y\u2081, Y\u2082)) + N\u2082(X\u2081, X\u2082, Y\u2081, Y\u2082)\u22c5\u2500\n",
        "  dX\u2081                        dX\u2082                                             d\n",
        "                                                                              \n",
        "    d                          d                        \u239e                     \n",
        "\u2082)\u22c5\u2500\u2500\u2500(E\u2082(F, X\u2081, X\u2082, Y\u2081, Y\u2082))\u22c5\u2500\u2500\u2500(I\u2082(F, X\u2081, X\u2082, Y\u2081, Y\u2082))\u239f                     \n",
        "   dX\u2082                        dX\u2082                       \u23a0                     \n",
        "                                                                              \n",
        "\n",
        "                                                       \u23a1                      \n",
        "d                          d                        \u23a4  \u23a2                      \n",
        "\u2500\u2500(E\u2082(F, X\u2081, X\u2082, Y\u2081, Y\u2082))\u22c5\u2500\u2500\u2500(I\u2082(F, X\u2081, X\u2082, Y\u2081, Y\u2082))\u23a5, \u23a2                      \n",
        "X\u2082                        dX\u2081                       \u23a5  \u23a2                      \n",
        "                                                    \u23a5  \u23a2                      \n",
        "                                                    \u23a5  \u23a2                      \n",
        "                                                    \u23a5  \u23a2\u239b                     \n",
        "                                                    \u23a6  \u23a2\u239cI\u2081(F, X\u2081, X\u2082, Y\u2081, Y\u2082)\n",
        "                                                       \u23a3\u239d                     \n",
        "\n",
        "                                                                              \n",
        "                                            \u239b                       d         \n",
        "                                            \u239cI\u2081(F, X\u2081, X\u2082, Y\u2081, Y\u2082)\u22c5\u2500\u2500\u2500(E\u2081(F, X\n",
        "                                            \u239d                      dX\u2081        \n",
        "                                                                              \n",
        "                                                                              \n",
        "  d                                                  d                        \n",
        "\u22c5\u2500\u2500\u2500(E\u2081(F, X\u2081, X\u2082, Y\u2081, Y\u2082)) + I\u2082(F, X\u2081, X\u2082, Y\u2081, Y\u2082)\u22c5\u2500\u2500\u2500(E\u2082(F, X\u2081, X\u2082, Y\u2081, Y\u2082))\n",
        " dX\u2081                                                dX\u2081                       \n",
        "\n",
        "                                                                              \n",
        "                                         d                            d       \n",
        "\u2081, X\u2082, Y\u2081, Y\u2082)) + I\u2082(F, X\u2081, X\u2082, Y\u2081, Y\u2082)\u22c5\u2500\u2500\u2500(E\u2082(F, X\u2081, X\u2082, Y\u2081, Y\u2082)) - \u2500\u2500\u2500(\\Phi(\n",
        "                                        dX\u2081                          dX\u2081      \n",
        "                                                                              \n",
        "                                                                              \n",
        "    d                          \u239e \u239b                       d                    \n",
        " - \u2500\u2500\u2500(\\Phi(F, X\u2081, X\u2082, Y\u2081, Y\u2082))\u239f\u22c5\u239cI\u2081(F, X\u2081, X\u2082, Y\u2081, Y\u2082)\u22c5\u2500\u2500\u2500(E\u2081(F, X\u2081, X\u2082, Y\u2081, \n",
        "   dX\u2081                         \u23a0 \u239d                      dX\u2082                   \n",
        "\n",
        "                    2                                                         \n",
        "                   \u239e                                                          \n",
        "F, X\u2081, X\u2082, Y\u2081, Y\u2082))\u239f                                                          \n",
        "                   \u23a0                                                          \n",
        "                                                                              \n",
        "                                                                              \n",
        "                              d                            d                  \n",
        "Y\u2082)) + I\u2082(F, X\u2081, X\u2082, Y\u2081, Y\u2082)\u22c5\u2500\u2500\u2500(E\u2082(F, X\u2081, X\u2082, Y\u2081, Y\u2082)) - \u2500\u2500\u2500(\\Phi(F, X\u2081, X\u2082, \n",
        "                             dX\u2082                          dX\u2082                 \n",
        "\n",
        "                                                                              \n",
        "           \u239b                       d                                          \n",
        "           \u239cI\u2081(F, X\u2081, X\u2082, Y\u2081, Y\u2082)\u22c5\u2500\u2500\u2500(E\u2081(F, X\u2081, X\u2082, Y\u2081, Y\u2082)) + I\u2082(F, X\u2081, X\u2082, Y\n",
        "           \u239d                      dX\u2081                                         \n",
        "                                                                              \n",
        "                                                                              \n",
        "        \u239e                                                                    \u239b\n",
        "Y\u2081, Y\u2082))\u239f                                                                    \u239c\n",
        "        \u23a0                                                                    \u239d\n",
        "\n",
        "                                                                              \n",
        "        d                            d                          \u239e \u239b           \n",
        "\u2081, Y\u2082)\u22c5\u2500\u2500\u2500(E\u2082(F, X\u2081, X\u2082, Y\u2081, Y\u2082)) - \u2500\u2500\u2500(\\Phi(F, X\u2081, X\u2082, Y\u2081, Y\u2082))\u239f\u22c5\u239cI\u2081(F, X\u2081, X\n",
        "       dX\u2081                          dX\u2081                         \u23a0 \u239d           \n",
        "                                                                              \n",
        "                                                                              \n",
        "                       d                                                  d   \n",
        "I\u2081(F, X\u2081, X\u2082, Y\u2081, Y\u2082)\u22c5\u2500\u2500\u2500(E\u2081(F, X\u2081, X\u2082, Y\u2081, Y\u2082)) + I\u2082(F, X\u2081, X\u2082, Y\u2081, Y\u2082)\u22c5\u2500\u2500\u2500(E\n",
        "                      dX\u2082                                                dX\u2082  \n",
        "\n",
        "                                                                              \n",
        "            d                                                  d              \n",
        "\u2082, Y\u2081, Y\u2082)\u22c5\u2500\u2500\u2500(E\u2081(F, X\u2081, X\u2082, Y\u2081, Y\u2082)) + I\u2082(F, X\u2081, X\u2082, Y\u2081, Y\u2082)\u22c5\u2500\u2500\u2500(E\u2082(F, X\u2081, X\u2082\n",
        "           dX\u2082                                                dX\u2082             \n",
        "                                                                              \n",
        "                                                     2                        \n",
        "                         d                          \u239e                         \n",
        "\u2082(F, X\u2081, X\u2082, Y\u2081, Y\u2082)) - \u2500\u2500\u2500(\\Phi(F, X\u2081, X\u2082, Y\u2081, Y\u2082))\u239f                         \n",
        "                        dX\u2082                         \u23a0                         \n",
        "\n",
        "                                          \u23a4\u239e\n",
        "              d                          \u239e\u23a5\u239f\n",
        ", Y\u2081, Y\u2082)) - \u2500\u2500\u2500(\\Phi(F, X\u2081, X\u2082, Y\u2081, Y\u2082))\u239f\u23a5\u239f\n",
        "             dX\u2082                         \u23a0\u23a5\u239f\n",
        "                                          \u23a5\u239f\n",
        "                                          \u23a5\u239f\n",
        "                                          \u23a5\u239f\n",
        "                                          \u23a5\u239f\n",
        "                                          \u23a6\u23a0"
       ]
      }
     ],
     "prompt_number": 9
    },
    {
     "cell_type": "heading",
     "level": 6,
     "metadata": {},
     "source": [
      "Sector $$d\\Phi d\\Phi$$"
     ]
    },
    {
     "cell_type": "code",
     "collapsed": false,
     "input": [
      "S[0,0]"
     ],
     "language": "python",
     "metadata": {},
     "outputs": [
      {
       "latex": [
        "$$2 \\left(\\operatorname{N1}{\\left (X_{1},X_{2},Y_{1},Y_{2} \\right )} \\frac{\\partial}{\\partial F} \\operatorname{E\\_1}{\\left (F,X_{1},X_{2},Y_{1},Y_{2} \\right )} \\frac{\\partial}{\\partial F} \\operatorname{I\\_1}{\\left (F,X_{1},X_{2},Y_{1},Y_{2} \\right )} + \\operatorname{N2}{\\left (X_{1},X_{2},Y_{1},Y_{2} \\right )} \\frac{\\partial}{\\partial F} \\operatorname{E\\_2}{\\left (F,X_{1},X_{2},Y_{1},Y_{2} \\right )} \\frac{\\partial}{\\partial F} \\operatorname{I\\_2}{\\left (F,X_{1},X_{2},Y_{1},Y_{2} \\right )}\\right)$$"
       ],
       "output_type": "pyout",
       "png": "[encoded data removed]",
       "prompt_number": 10,
       "text": [
        "  \u239b                   d                         d                             \n",
        "2\u22c5\u239cN\u2081(X\u2081, X\u2082, Y\u2081, Y\u2082)\u22c5\u2500\u2500(E\u2081(F, X\u2081, X\u2082, Y\u2081, Y\u2082))\u22c5\u2500\u2500(I\u2081(F, X\u2081, X\u2082, Y\u2081, Y\u2082)) + N\u2082\n",
        "  \u239d                   dF                        dF                            \n",
        "\n",
        "                 d                         d                        \u239e\n",
        "(X\u2081, X\u2082, Y\u2081, Y\u2082)\u22c5\u2500\u2500(E\u2082(F, X\u2081, X\u2082, Y\u2081, Y\u2082))\u22c5\u2500\u2500(I\u2082(F, X\u2081, X\u2082, Y\u2081, Y\u2082))\u239f\n",
        "                 dF                        dF                       \u23a0"
       ]
      }
     ],
     "prompt_number": 10
    },
    {
     "cell_type": "code",
     "collapsed": false,
     "input": [
      "H[0,0]"
     ],
     "language": "python",
     "metadata": {},
     "outputs": [
      {
       "latex": [
        "$$\\left(\\operatorname{I\\_1}{\\left (F,X_{1},X_{2},Y_{1},Y_{2} \\right )} \\frac{\\partial}{\\partial F} \\operatorname{E\\_1}{\\left (F,X_{1},X_{2},Y_{1},Y_{2} \\right )} + \\operatorname{I\\_2}{\\left (F,X_{1},X_{2},Y_{1},Y_{2} \\right )} \\frac{\\partial}{\\partial F} \\operatorname{E\\_2}{\\left (F,X_{1},X_{2},Y_{1},Y_{2} \\right )} - \\frac{\\partial}{\\partial F} \\operatorname{\\Phi}{\\left (F,X_{1},X_{2},Y_{1},Y_{2} \\right )}\\right)^{2}$$"
       ],
       "output_type": "pyout",
       "png": "[encoded data removed]",
       "prompt_number": 11,
       "text": [
        "                                                                              \n",
        "\u239b                      d                                                 d    \n",
        "\u239cI\u2081(F, X\u2081, X\u2082, Y\u2081, Y\u2082)\u22c5\u2500\u2500(E\u2081(F, X\u2081, X\u2082, Y\u2081, Y\u2082)) + I\u2082(F, X\u2081, X\u2082, Y\u2081, Y\u2082)\u22c5\u2500\u2500(E\u2082\n",
        "\u239d                      dF                                                dF   \n",
        "\n",
        "                                                   2\n",
        "                       d                          \u239e \n",
        "(F, X\u2081, X\u2082, Y\u2081, Y\u2082)) - \u2500\u2500(\\Phi(F, X\u2081, X\u2082, Y\u2081, Y\u2082))\u239f \n",
        "                       dF                         \u23a0 "
       ]
      }
     ],
     "prompt_number": 11
    },
    {
     "cell_type": "heading",
     "level": 6,
     "metadata": {},
     "source": [
      "Sector $$d\\Phi dE^b$$"
     ]
    },
    {
     "cell_type": "code",
     "collapsed": false,
     "input": [
      "S[0,1:n+1]"
     ],
     "language": "python",
     "metadata": {},
     "outputs": [
      {
       "latex": [
        "$$\\left[\\begin{smallmatrix}\\operatorname{N1}{\\left (X_{1},X_{2},Y_{1},Y_{2} \\right )} \\frac{\\partial}{\\partial F} \\operatorname{E\\_1}{\\left (F,X_{1},X_{2},Y_{1},Y_{2} \\right )} \\frac{\\partial}{\\partial X_{1}} \\operatorname{I\\_1}{\\left (F,X_{1},X_{2},Y_{1},Y_{2} \\right )} + \\operatorname{N1}{\\left (X_{1},X_{2},Y_{1},Y_{2} \\right )} \\frac{\\partial}{\\partial X_{1}} \\operatorname{E\\_1}{\\left (F,X_{1},X_{2},Y_{1},Y_{2} \\right )} \\frac{\\partial}{\\partial F} \\operatorname{I\\_1}{\\left (F,X_{1},X_{2},Y_{1},Y_{2} \\right )} + \\operatorname{N2}{\\left (X_{1},X_{2},Y_{1},Y_{2} \\right )} \\frac{\\partial}{\\partial F} \\operatorname{E\\_2}{\\left (F,X_{1},X_{2},Y_{1},Y_{2} \\right )} \\frac{\\partial}{\\partial X_{1}} \\operatorname{I\\_2}{\\left (F,X_{1},X_{2},Y_{1},Y_{2} \\right )} + \\operatorname{N2}{\\left (X_{1},X_{2},Y_{1},Y_{2} \\right )} \\frac{\\partial}{\\partial X_{1}} \\operatorname{E\\_2}{\\left (F,X_{1},X_{2},Y_{1},Y_{2} \\right )} \\frac{\\partial}{\\partial F} \\operatorname{I\\_2}{\\left (F,X_{1},X_{2},Y_{1},Y_{2} \\right )} & \\operatorname{N1}{\\left (X_{1},X_{2},Y_{1},Y_{2} \\right )} \\frac{\\partial}{\\partial F} \\operatorname{E\\_1}{\\left (F,X_{1},X_{2},Y_{1},Y_{2} \\right )} \\frac{\\partial}{\\partial X_{2}} \\operatorname{I\\_1}{\\left (F,X_{1},X_{2},Y_{1},Y_{2} \\right )} + \\operatorname{N1}{\\left (X_{1},X_{2},Y_{1},Y_{2} \\right )} \\frac{\\partial}{\\partial X_{2}} \\operatorname{E\\_1}{\\left (F,X_{1},X_{2},Y_{1},Y_{2} \\right )} \\frac{\\partial}{\\partial F} \\operatorname{I\\_1}{\\left (F,X_{1},X_{2},Y_{1},Y_{2} \\right )} + \\operatorname{N2}{\\left (X_{1},X_{2},Y_{1},Y_{2} \\right )} \\frac{\\partial}{\\partial F} \\operatorname{E\\_2}{\\left (F,X_{1},X_{2},Y_{1},Y_{2} \\right )} \\frac{\\partial}{\\partial X_{2}} \\operatorname{I\\_2}{\\left (F,X_{1},X_{2},Y_{1},Y_{2} \\right )} + \\operatorname{N2}{\\left (X_{1},X_{2},Y_{1},Y_{2} \\right )} \\frac{\\partial}{\\partial X_{2}} \\operatorname{E\\_2}{\\left (F,X_{1},X_{2},Y_{1},Y_{2} \\right )} \\frac{\\partial}{\\partial F} \\operatorname{I\\_2}{\\left (F,X_{1},X_{2},Y_{1},Y_{2} \\right )}\\end{smallmatrix}\\right]$$"
       ],
       "output_type": "pyout",
       "prompt_number": 12,
       "text": [
        "\u23a1                   d                          d                              \n",
        "\u23a2N\u2081(X\u2081, X\u2082, Y\u2081, Y\u2082)\u22c5\u2500\u2500(E\u2081(F, X\u2081, X\u2082, Y\u2081, Y\u2082))\u22c5\u2500\u2500\u2500(I\u2081(F, X\u2081, X\u2082, Y\u2081, Y\u2082)) + N\u2081(\n",
        "\u23a3                   dF                        dX\u2081                             \n",
        "\n",
        "                 d                         d                                  \n",
        "X\u2081, X\u2082, Y\u2081, Y\u2082)\u22c5\u2500\u2500\u2500(E\u2081(F, X\u2081, X\u2082, Y\u2081, Y\u2082))\u22c5\u2500\u2500(I\u2081(F, X\u2081, X\u2082, Y\u2081, Y\u2082)) + N\u2082(X\u2081, \n",
        "                dX\u2081                        dF                                 \n",
        "\n",
        "            d                          d                                      \n",
        "X\u2082, Y\u2081, Y\u2082)\u22c5\u2500\u2500(E\u2082(F, X\u2081, X\u2082, Y\u2081, Y\u2082))\u22c5\u2500\u2500\u2500(I\u2082(F, X\u2081, X\u2082, Y\u2081, Y\u2082)) + N\u2082(X\u2081, X\u2082, \n",
        "            dF                        dX\u2081                                     \n",
        "\n",
        "         d                         d                                          \n",
        "Y\u2081, Y\u2082)\u22c5\u2500\u2500\u2500(E\u2082(F, X\u2081, X\u2082, Y\u2081, Y\u2082))\u22c5\u2500\u2500(I\u2082(F, X\u2081, X\u2082, Y\u2081, Y\u2082))  N\u2081(X\u2081, X\u2082, Y\u2081, Y\n",
        "        dX\u2081                        dF                                         \n",
        "\n",
        "   d                          d                                               \n",
        "\u2082)\u22c5\u2500\u2500(E\u2081(F, X\u2081, X\u2082, Y\u2081, Y\u2082))\u22c5\u2500\u2500\u2500(I\u2081(F, X\u2081, X\u2082, Y\u2081, Y\u2082)) + N\u2081(X\u2081, X\u2082, Y\u2081, Y\u2082)\u22c5\u2500\n",
        "   dF                        dX\u2082                                             d\n",
        "\n",
        "d                         d                                              d    \n",
        "\u2500\u2500(E\u2081(F, X\u2081, X\u2082, Y\u2081, Y\u2082))\u22c5\u2500\u2500(I\u2081(F, X\u2081, X\u2082, Y\u2081, Y\u2082)) + N\u2082(X\u2081, X\u2082, Y\u2081, Y\u2082)\u22c5\u2500\u2500(E\u2082\n",
        "X\u2082                        dF                                             dF   \n",
        "\n",
        "                      d                                               d       \n",
        "(F, X\u2081, X\u2082, Y\u2081, Y\u2082))\u22c5\u2500\u2500\u2500(I\u2082(F, X\u2081, X\u2082, Y\u2081, Y\u2082)) + N\u2082(X\u2081, X\u2082, Y\u2081, Y\u2082)\u22c5\u2500\u2500\u2500(E\u2082(F,\n",
        "                     dX\u2082                                             dX\u2082      \n",
        "\n",
        "                  d                        \u23a4\n",
        " X\u2081, X\u2082, Y\u2081, Y\u2082))\u22c5\u2500\u2500(I\u2082(F, X\u2081, X\u2082, Y\u2081, Y\u2082))\u23a5\n",
        "                  dF                       \u23a6"
       ]
      }
     ],
     "prompt_number": 12
    },
    {
     "cell_type": "code",
     "collapsed": false,
     "input": [
      "H[0,1:n+1]"
     ],
     "language": "python",
     "metadata": {},
     "outputs": [
      {
       "latex": [
        "$$\\left[\\begin{smallmatrix}\\left(\\operatorname{I\\_1}{\\left (F,X_{1},X_{2},Y_{1},Y_{2} \\right )} \\frac{\\partial}{\\partial F} \\operatorname{E\\_1}{\\left (F,X_{1},X_{2},Y_{1},Y_{2} \\right )} + \\operatorname{I\\_2}{\\left (F,X_{1},X_{2},Y_{1},Y_{2} \\right )} \\frac{\\partial}{\\partial F} \\operatorname{E\\_2}{\\left (F,X_{1},X_{2},Y_{1},Y_{2} \\right )} - \\frac{\\partial}{\\partial F} \\operatorname{\\Phi}{\\left (F,X_{1},X_{2},Y_{1},Y_{2} \\right )}\\right) \\left(\\operatorname{I\\_1}{\\left (F,X_{1},X_{2},Y_{1},Y_{2} \\right )} \\frac{\\partial}{\\partial X_{1}} \\operatorname{E\\_1}{\\left (F,X_{1},X_{2},Y_{1},Y_{2} \\right )} + \\operatorname{I\\_2}{\\left (F,X_{1},X_{2},Y_{1},Y_{2} \\right )} \\frac{\\partial}{\\partial X_{1}} \\operatorname{E\\_2}{\\left (F,X_{1},X_{2},Y_{1},Y_{2} \\right )} - \\frac{\\partial}{\\partial X_{1}} \\operatorname{\\Phi}{\\left (F,X_{1},X_{2},Y_{1},Y_{2} \\right )}\\right) & \\left(\\operatorname{I\\_1}{\\left (F,X_{1},X_{2},Y_{1},Y_{2} \\right )} \\frac{\\partial}{\\partial F} \\operatorname{E\\_1}{\\left (F,X_{1},X_{2},Y_{1},Y_{2} \\right )} + \\operatorname{I\\_2}{\\left (F,X_{1},X_{2},Y_{1},Y_{2} \\right )} \\frac{\\partial}{\\partial F} \\operatorname{E\\_2}{\\left (F,X_{1},X_{2},Y_{1},Y_{2} \\right )} - \\frac{\\partial}{\\partial F} \\operatorname{\\Phi}{\\left (F,X_{1},X_{2},Y_{1},Y_{2} \\right )}\\right) \\left(\\operatorname{I\\_1}{\\left (F,X_{1},X_{2},Y_{1},Y_{2} \\right )} \\frac{\\partial}{\\partial X_{2}} \\operatorname{E\\_1}{\\left (F,X_{1},X_{2},Y_{1},Y_{2} \\right )} + \\operatorname{I\\_2}{\\left (F,X_{1},X_{2},Y_{1},Y_{2} \\right )} \\frac{\\partial}{\\partial X_{2}} \\operatorname{E\\_2}{\\left (F,X_{1},X_{2},Y_{1},Y_{2} \\right )} - \\frac{\\partial}{\\partial X_{2}} \\operatorname{\\Phi}{\\left (F,X_{1},X_{2},Y_{1},Y_{2} \\right )}\\right)\\end{smallmatrix}\\right]$$"
       ],
       "output_type": "pyout",
       "prompt_number": 13,
       "text": [
        "\u23a1\u239b                      d                                                 d   \n",
        "\u23a2\u239cI\u2081(F, X\u2081, X\u2082, Y\u2081, Y\u2082)\u22c5\u2500\u2500(E\u2081(F, X\u2081, X\u2082, Y\u2081, Y\u2082)) + I\u2082(F, X\u2081, X\u2082, Y\u2081, Y\u2082)\u22c5\u2500\u2500(E\n",
        "\u23a3\u239d                      dF                                                dF  \n",
        "\n",
        "                        d                          \u239e \u239b                       d\n",
        "\u2082(F, X\u2081, X\u2082, Y\u2081, Y\u2082)) - \u2500\u2500(\\Phi(F, X\u2081, X\u2082, Y\u2081, Y\u2082))\u239f\u22c5\u239cI\u2081(F, X\u2081, X\u2082, Y\u2081, Y\u2082)\u22c5\u2500\u2500\n",
        "                        dF                         \u23a0 \u239d                      dX\n",
        "\n",
        "                                                  d                           \n",
        "\u2500(E\u2081(F, X\u2081, X\u2082, Y\u2081, Y\u2082)) + I\u2082(F, X\u2081, X\u2082, Y\u2081, Y\u2082)\u22c5\u2500\u2500\u2500(E\u2082(F, X\u2081, X\u2082, Y\u2081, Y\u2082)) - \n",
        "\u2081                                                dX\u2081                          \n",
        "\n",
        " d                          \u239e  \u239b                      d                       \n",
        "\u2500\u2500\u2500(\\Phi(F, X\u2081, X\u2082, Y\u2081, Y\u2082))\u239f  \u239cI\u2081(F, X\u2081, X\u2082, Y\u2081, Y\u2082)\u22c5\u2500\u2500(E\u2081(F, X\u2081, X\u2082, Y\u2081, Y\u2082)\n",
        "dX\u2081                         \u23a0  \u239d                      dF                      \n",
        "\n",
        "                          d                           d                       \n",
        ") + I\u2082(F, X\u2081, X\u2082, Y\u2081, Y\u2082)\u22c5\u2500\u2500(E\u2082(F, X\u2081, X\u2082, Y\u2081, Y\u2082)) - \u2500\u2500(\\Phi(F, X\u2081, X\u2082, Y\u2081, Y\n",
        "                          dF                          dF                      \n",
        "\n",
        "   \u239e \u239b                       d                                                \n",
        "\u2082))\u239f\u22c5\u239cI\u2081(F, X\u2081, X\u2082, Y\u2081, Y\u2082)\u22c5\u2500\u2500\u2500(E\u2081(F, X\u2081, X\u2082, Y\u2081, Y\u2082)) + I\u2082(F, X\u2081, X\u2082, Y\u2081, Y\u2082)\n",
        "   \u23a0 \u239d                      dX\u2082                                               \n",
        "\n",
        "  d                            d                          \u239e\u23a4\n",
        "\u22c5\u2500\u2500\u2500(E\u2082(F, X\u2081, X\u2082, Y\u2081, Y\u2082)) - \u2500\u2500\u2500(\\Phi(F, X\u2081, X\u2082, Y\u2081, Y\u2082))\u239f\u23a5\n",
        " dX\u2082                          dX\u2082                         \u23a0\u23a6"
       ]
      }
     ],
     "prompt_number": 13
    },
    {
     "cell_type": "heading",
     "level": 6,
     "metadata": {},
     "source": [
      "Sector $$d\\Phi dI^b$$"
     ]
    },
    {
     "cell_type": "code",
     "collapsed": false,
     "input": [
      "S[0,n+1:2*n+1]"
     ],
     "language": "python",
     "metadata": {},
     "outputs": [
      {
       "latex": [
        "$$\\left[\\begin{smallmatrix}\\operatorname{N1}{\\left (X_{1},X_{2},Y_{1},Y_{2} \\right )} \\frac{\\partial}{\\partial F} \\operatorname{E\\_1}{\\left (F,X_{1},X_{2},Y_{1},Y_{2} \\right )} \\frac{\\partial}{\\partial Y_{1}} \\operatorname{I\\_1}{\\left (F,X_{1},X_{2},Y_{1},Y_{2} \\right )} + \\operatorname{N1}{\\left (X_{1},X_{2},Y_{1},Y_{2} \\right )} \\frac{\\partial}{\\partial Y_{1}} \\operatorname{E\\_1}{\\left (F,X_{1},X_{2},Y_{1},Y_{2} \\right )} \\frac{\\partial}{\\partial F} \\operatorname{I\\_1}{\\left (F,X_{1},X_{2},Y_{1},Y_{2} \\right )} + \\operatorname{N2}{\\left (X_{1},X_{2},Y_{1},Y_{2} \\right )} \\frac{\\partial}{\\partial F} \\operatorname{E\\_2}{\\left (F,X_{1},X_{2},Y_{1},Y_{2} \\right )} \\frac{\\partial}{\\partial Y_{1}} \\operatorname{I\\_2}{\\left (F,X_{1},X_{2},Y_{1},Y_{2} \\right )} + \\operatorname{N2}{\\left (X_{1},X_{2},Y_{1},Y_{2} \\right )} \\frac{\\partial}{\\partial Y_{1}} \\operatorname{E\\_2}{\\left (F,X_{1},X_{2},Y_{1},Y_{2} \\right )} \\frac{\\partial}{\\partial F} \\operatorname{I\\_2}{\\left (F,X_{1},X_{2},Y_{1},Y_{2} \\right )} & \\operatorname{N1}{\\left (X_{1},X_{2},Y_{1},Y_{2} \\right )} \\frac{\\partial}{\\partial F} \\operatorname{E\\_1}{\\left (F,X_{1},X_{2},Y_{1},Y_{2} \\right )} \\frac{\\partial}{\\partial Y_{2}} \\operatorname{I\\_1}{\\left (F,X_{1},X_{2},Y_{1},Y_{2} \\right )} + \\operatorname{N1}{\\left (X_{1},X_{2},Y_{1},Y_{2} \\right )} \\frac{\\partial}{\\partial Y_{2}} \\operatorname{E\\_1}{\\left (F,X_{1},X_{2},Y_{1},Y_{2} \\right )} \\frac{\\partial}{\\partial F} \\operatorname{I\\_1}{\\left (F,X_{1},X_{2},Y_{1},Y_{2} \\right )} + \\operatorname{N2}{\\left (X_{1},X_{2},Y_{1},Y_{2} \\right )} \\frac{\\partial}{\\partial F} \\operatorname{E\\_2}{\\left (F,X_{1},X_{2},Y_{1},Y_{2} \\right )} \\frac{\\partial}{\\partial Y_{2}} \\operatorname{I\\_2}{\\left (F,X_{1},X_{2},Y_{1},Y_{2} \\right )} + \\operatorname{N2}{\\left (X_{1},X_{2},Y_{1},Y_{2} \\right )} \\frac{\\partial}{\\partial Y_{2}} \\operatorname{E\\_2}{\\left (F,X_{1},X_{2},Y_{1},Y_{2} \\right )} \\frac{\\partial}{\\partial F} \\operatorname{I\\_2}{\\left (F,X_{1},X_{2},Y_{1},Y_{2} \\right )}\\end{smallmatrix}\\right]$$"
       ],
       "output_type": "pyout",
       "prompt_number": 14,
       "text": [
        "\u23a1                   d                          d                              \n",
        "\u23a2N\u2081(X\u2081, X\u2082, Y\u2081, Y\u2082)\u22c5\u2500\u2500(E\u2081(F, X\u2081, X\u2082, Y\u2081, Y\u2082))\u22c5\u2500\u2500\u2500(I\u2081(F, X\u2081, X\u2082, Y\u2081, Y\u2082)) + N\u2081(\n",
        "\u23a3                   dF                        dY\u2081                             \n",
        "\n",
        "                 d                         d                                  \n",
        "X\u2081, X\u2082, Y\u2081, Y\u2082)\u22c5\u2500\u2500\u2500(E\u2081(F, X\u2081, X\u2082, Y\u2081, Y\u2082))\u22c5\u2500\u2500(I\u2081(F, X\u2081, X\u2082, Y\u2081, Y\u2082)) + N\u2082(X\u2081, \n",
        "                dY\u2081                        dF                                 \n",
        "\n",
        "            d                          d                                      \n",
        "X\u2082, Y\u2081, Y\u2082)\u22c5\u2500\u2500(E\u2082(F, X\u2081, X\u2082, Y\u2081, Y\u2082))\u22c5\u2500\u2500\u2500(I\u2082(F, X\u2081, X\u2082, Y\u2081, Y\u2082)) + N\u2082(X\u2081, X\u2082, \n",
        "            dF                        dY\u2081                                     \n",
        "\n",
        "         d                         d                                          \n",
        "Y\u2081, Y\u2082)\u22c5\u2500\u2500\u2500(E\u2082(F, X\u2081, X\u2082, Y\u2081, Y\u2082))\u22c5\u2500\u2500(I\u2082(F, X\u2081, X\u2082, Y\u2081, Y\u2082))  N\u2081(X\u2081, X\u2082, Y\u2081, Y\n",
        "        dY\u2081                        dF                                         \n",
        "\n",
        "   d                          d                                               \n",
        "\u2082)\u22c5\u2500\u2500(E\u2081(F, X\u2081, X\u2082, Y\u2081, Y\u2082))\u22c5\u2500\u2500\u2500(I\u2081(F, X\u2081, X\u2082, Y\u2081, Y\u2082)) + N\u2081(X\u2081, X\u2082, Y\u2081, Y\u2082)\u22c5\u2500\n",
        "   dF                        dY\u2082                                             d\n",
        "\n",
        "d                         d                                              d    \n",
        "\u2500\u2500(E\u2081(F, X\u2081, X\u2082, Y\u2081, Y\u2082))\u22c5\u2500\u2500(I\u2081(F, X\u2081, X\u2082, Y\u2081, Y\u2082)) + N\u2082(X\u2081, X\u2082, Y\u2081, Y\u2082)\u22c5\u2500\u2500(E\u2082\n",
        "Y\u2082                        dF                                             dF   \n",
        "\n",
        "                      d                                               d       \n",
        "(F, X\u2081, X\u2082, Y\u2081, Y\u2082))\u22c5\u2500\u2500\u2500(I\u2082(F, X\u2081, X\u2082, Y\u2081, Y\u2082)) + N\u2082(X\u2081, X\u2082, Y\u2081, Y\u2082)\u22c5\u2500\u2500\u2500(E\u2082(F,\n",
        "                     dY\u2082                                             dY\u2082      \n",
        "\n",
        "                  d                        \u23a4\n",
        " X\u2081, X\u2082, Y\u2081, Y\u2082))\u22c5\u2500\u2500(I\u2082(F, X\u2081, X\u2082, Y\u2081, Y\u2082))\u23a5\n",
        "                  dF                       \u23a6"
       ]
      }
     ],
     "prompt_number": 14
    },
    {
     "cell_type": "code",
     "collapsed": false,
     "input": [
      "H[0,n+1:2*n+1]"
     ],
     "language": "python",
     "metadata": {},
     "outputs": [
      {
       "latex": [
        "$$\\left[\\begin{smallmatrix}\\left(\\operatorname{I\\_1}{\\left (F,X_{1},X_{2},Y_{1},Y_{2} \\right )} \\frac{\\partial}{\\partial F} \\operatorname{E\\_1}{\\left (F,X_{1},X_{2},Y_{1},Y_{2} \\right )} + \\operatorname{I\\_2}{\\left (F,X_{1},X_{2},Y_{1},Y_{2} \\right )} \\frac{\\partial}{\\partial F} \\operatorname{E\\_2}{\\left (F,X_{1},X_{2},Y_{1},Y_{2} \\right )} - \\frac{\\partial}{\\partial F} \\operatorname{\\Phi}{\\left (F,X_{1},X_{2},Y_{1},Y_{2} \\right )}\\right) \\left(\\operatorname{I\\_1}{\\left (F,X_{1},X_{2},Y_{1},Y_{2} \\right )} \\frac{\\partial}{\\partial Y_{1}} \\operatorname{E\\_1}{\\left (F,X_{1},X_{2},Y_{1},Y_{2} \\right )} + \\operatorname{I\\_2}{\\left (F,X_{1},X_{2},Y_{1},Y_{2} \\right )} \\frac{\\partial}{\\partial Y_{1}} \\operatorname{E\\_2}{\\left (F,X_{1},X_{2},Y_{1},Y_{2} \\right )} - \\frac{\\partial}{\\partial Y_{1}} \\operatorname{\\Phi}{\\left (F,X_{1},X_{2},Y_{1},Y_{2} \\right )}\\right) & \\left(\\operatorname{I\\_1}{\\left (F,X_{1},X_{2},Y_{1},Y_{2} \\right )} \\frac{\\partial}{\\partial F} \\operatorname{E\\_1}{\\left (F,X_{1},X_{2},Y_{1},Y_{2} \\right )} + \\operatorname{I\\_2}{\\left (F,X_{1},X_{2},Y_{1},Y_{2} \\right )} \\frac{\\partial}{\\partial F} \\operatorname{E\\_2}{\\left (F,X_{1},X_{2},Y_{1},Y_{2} \\right )} - \\frac{\\partial}{\\partial F} \\operatorname{\\Phi}{\\left (F,X_{1},X_{2},Y_{1},Y_{2} \\right )}\\right) \\left(\\operatorname{I\\_1}{\\left (F,X_{1},X_{2},Y_{1},Y_{2} \\right )} \\frac{\\partial}{\\partial Y_{2}} \\operatorname{E\\_1}{\\left (F,X_{1},X_{2},Y_{1},Y_{2} \\right )} + \\operatorname{I\\_2}{\\left (F,X_{1},X_{2},Y_{1},Y_{2} \\right )} \\frac{\\partial}{\\partial Y_{2}} \\operatorname{E\\_2}{\\left (F,X_{1},X_{2},Y_{1},Y_{2} \\right )} - \\frac{\\partial}{\\partial Y_{2}} \\operatorname{\\Phi}{\\left (F,X_{1},X_{2},Y_{1},Y_{2} \\right )}\\right)\\end{smallmatrix}\\right]$$"
       ],
       "output_type": "pyout",
       "prompt_number": 15,
       "text": [
        "\u23a1\u239b                      d                                                 d   \n",
        "\u23a2\u239cI\u2081(F, X\u2081, X\u2082, Y\u2081, Y\u2082)\u22c5\u2500\u2500(E\u2081(F, X\u2081, X\u2082, Y\u2081, Y\u2082)) + I\u2082(F, X\u2081, X\u2082, Y\u2081, Y\u2082)\u22c5\u2500\u2500(E\n",
        "\u23a3\u239d                      dF                                                dF  \n",
        "\n",
        "                        d                          \u239e \u239b                       d\n",
        "\u2082(F, X\u2081, X\u2082, Y\u2081, Y\u2082)) - \u2500\u2500(\\Phi(F, X\u2081, X\u2082, Y\u2081, Y\u2082))\u239f\u22c5\u239cI\u2081(F, X\u2081, X\u2082, Y\u2081, Y\u2082)\u22c5\u2500\u2500\n",
        "                        dF                         \u23a0 \u239d                      dY\n",
        "\n",
        "                                                  d                           \n",
        "\u2500(E\u2081(F, X\u2081, X\u2082, Y\u2081, Y\u2082)) + I\u2082(F, X\u2081, X\u2082, Y\u2081, Y\u2082)\u22c5\u2500\u2500\u2500(E\u2082(F, X\u2081, X\u2082, Y\u2081, Y\u2082)) - \n",
        "\u2081                                                dY\u2081                          \n",
        "\n",
        " d                          \u239e  \u239b                      d                       \n",
        "\u2500\u2500\u2500(\\Phi(F, X\u2081, X\u2082, Y\u2081, Y\u2082))\u239f  \u239cI\u2081(F, X\u2081, X\u2082, Y\u2081, Y\u2082)\u22c5\u2500\u2500(E\u2081(F, X\u2081, X\u2082, Y\u2081, Y\u2082)\n",
        "dY\u2081                         \u23a0  \u239d                      dF                      \n",
        "\n",
        "                          d                           d                       \n",
        ") + I\u2082(F, X\u2081, X\u2082, Y\u2081, Y\u2082)\u22c5\u2500\u2500(E\u2082(F, X\u2081, X\u2082, Y\u2081, Y\u2082)) - \u2500\u2500(\\Phi(F, X\u2081, X\u2082, Y\u2081, Y\n",
        "                          dF                          dF                      \n",
        "\n",
        "   \u239e \u239b                       d                                                \n",
        "\u2082))\u239f\u22c5\u239cI\u2081(F, X\u2081, X\u2082, Y\u2081, Y\u2082)\u22c5\u2500\u2500\u2500(E\u2081(F, X\u2081, X\u2082, Y\u2081, Y\u2082)) + I\u2082(F, X\u2081, X\u2082, Y\u2081, Y\u2082)\n",
        "   \u23a0 \u239d                      dY\u2082                                               \n",
        "\n",
        "  d                            d                          \u239e\u23a4\n",
        "\u22c5\u2500\u2500\u2500(E\u2082(F, X\u2081, X\u2082, Y\u2081, Y\u2082)) - \u2500\u2500\u2500(\\Phi(F, X\u2081, X\u2082, Y\u2081, Y\u2082))\u239f\u23a5\n",
        " dY\u2082                          dY\u2082                         \u23a0\u23a6"
       ]
      }
     ],
     "prompt_number": 15
    },
    {
     "cell_type": "code",
     "collapsed": false,
     "input": [
      "a = H[1:n+1,1:n+1]\n"
     ],
     "language": "python",
     "metadata": {},
     "outputs": []
    }
   ],
   "metadata": {}
  }
 ]
}