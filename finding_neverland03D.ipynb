{
 "cells": [
  {
   "cell_type": "code",
   "execution_count": 76,
   "metadata": {
    "collapsed": false,
    "scrolled": true
   },
   "outputs": [],
   "source": [
    "from difeomorfismos_solvers import *\n",
    "from difeomorfismo import *\n",
    "import winsound, sys\n",
    "\n",
    "def beep(sound):\n",
    "    winsound.PlaySound('%s.wav' % sound, winsound.SND_FILENAME)\n",
    "init_printing()"
   ]
  },
  {
   "cell_type": "code",
   "execution_count": null,
   "metadata": {
    "collapsed": true
   },
   "outputs": [],
   "source": []
  },
  {
   "cell_type": "markdown",
   "metadata": {},
   "source": [
    "<H3>Difeomorsimos Cuadratico + lineal </H3>\n",
    "<H3>$X^{c} = M_{dd}^{c}E^{d}E^{d}$<H3>\n",
    "<H3>$Y_{c} = N_{cee}I^{e}I^{e}$</H3>\n",
    "\n"
   ]
  },
  {
   "cell_type": "markdown",
   "metadata": {},
   "source": [
    "# <H3>Defino la dimension que utilizare</H3>"
   ]
  },
  {
   "cell_type": "code",
   "execution_count": 77,
   "metadata": {
    "collapsed": false
   },
   "outputs": [],
   "source": [
    "n=2\n"
   ]
  },
  {
   "cell_type": "markdown",
   "metadata": {},
   "source": [
    "<H3>Estos son las dos coordenadas del difeomorfismo</H3>"
   ]
  },
  {
   "cell_type": "code",
   "execution_count": 78,
   "metadata": {
    "collapsed": false
   },
   "outputs": [],
   "source": [
    "ZE, ZX = set_coordinates(n)"
   ]
  },
  {
   "cell_type": "markdown",
   "metadata": {},
   "source": [
    "<H3>Estas son las constates para las ecuaciones del difeomorfismo Cuadratico + lineal</H3>"
   ]
  },
  {
   "cell_type": "code",
   "execution_count": 79,
   "metadata": {
    "collapsed": false
   },
   "outputs": [],
   "source": [
    "import operator\n",
    "aa,c1=set_constants_a(n,'a','s')\n",
    "dd,c2=set_constants_a(n,'d','s')\n",
    "bb,c3=set_constants_axb(n,n,'b','s')\n",
    "gg,c4=set_constants_axb(n,n,'g','s')\n",
    "cc,c5=set_constants_axb(n,n,'c','s')\n",
    "hh,c6=set_constants_axb(n,n,'h','s')\n",
    "M,c7  = set_constants_axbxcxdxe(n,n,n,n,n,'M',0)\n",
    "N,c8  = set_constants_axbxcxdxe(n,n,n,n,n,'N',0)\n",
    "J,c9  = set_constants_axbxcxdxe(n,n,n,n,n,'J',0)\n",
    "K,c10 = set_constants_axbxcxdxe(n,n,n,n,n,'K',0)\n",
    "A,c11 = set_constants_axbxcxdxe(n,n,n,n,n,'A','s')\n",
    "B,c12 = set_constants_axbxcxdxe(n,n,n,n,n,'B','s')\n",
    "C,c13 = set_constants_axbxcxdxe(n,n,n,n,n,'C','s')\n",
    "D,c14 = set_constants_axbxcxdxe(n,n,n,n,n,'D','s')\n",
    "\n",
    "p,c1=set_constants_axb(n,n,'p','s')"
   ]
  },
  {
   "cell_type": "code",
   "execution_count": 80,
   "metadata": {
    "collapsed": false
   },
   "outputs": [
    {
     "data": {
      "text/latex": [
       "$$\\left [ \\left [ \\left [ \\left[\\begin{matrix}A_{11111} & A_{11112}\\\\A_{11121} & A_{11122}\\end{matrix}\\right], \\quad \\left[\\begin{matrix}A_{11211} & A_{11212}\\\\A_{11221} & A_{11222}\\end{matrix}\\right]\\right ], \\quad \\left [ \\left[\\begin{matrix}A_{12111} & A_{12112}\\\\A_{12121} & A_{12122}\\end{matrix}\\right], \\quad \\left[\\begin{matrix}A_{12211} & A_{12212}\\\\A_{12221} & A_{12222}\\end{matrix}\\right]\\right ]\\right ], \\quad \\left [ \\left [ \\left[\\begin{matrix}A_{21111} & A_{21112}\\\\A_{21121} & A_{21122}\\end{matrix}\\right], \\quad \\left[\\begin{matrix}A_{21211} & A_{21212}\\\\A_{21221} & A_{21222}\\end{matrix}\\right]\\right ], \\quad \\left [ \\left[\\begin{matrix}A_{22111} & A_{22112}\\\\A_{22121} & A_{22122}\\end{matrix}\\right], \\quad \\left[\\begin{matrix}A_{22211} & A_{22212}\\\\A_{22221} & A_{22222}\\end{matrix}\\right]\\right ]\\right ]\\right ]$$"
      ],
      "text/plain": [
       "⎡⎡⎡⎡A₁₁₁₁₁  A₁₁₁₁₂⎤, ⎡A₁₁₂₁₁  A₁₁₂₁₂⎤⎤, ⎡⎡A₁₂₁₁₁  A₁₂₁₁₂⎤, ⎡A₁₂₂₁₁  A₁₂₂₁₂⎤⎤⎤,\n",
       "⎢⎢⎢⎢              ⎥  ⎢              ⎥⎥  ⎢⎢              ⎥  ⎢              ⎥⎥⎥ \n",
       "⎣⎣⎣⎣A₁₁₁₂₁  A₁₁₁₂₂⎦  ⎣A₁₁₂₂₁  A₁₁₂₂₂⎦⎦  ⎣⎣A₁₂₁₂₁  A₁₂₁₂₂⎦  ⎣A₁₂₂₂₁  A₁₂₂₂₂⎦⎦⎦ \n",
       "\n",
       " ⎡⎡⎡A₂₁₁₁₁  A₂₁₁₁₂⎤, ⎡A₂₁₂₁₁  A₂₁₂₁₂⎤⎤, ⎡⎡A₂₂₁₁₁  A₂₂₁₁₂⎤, ⎡A₂₂₂₁₁  A₂₂₂₁₂⎤⎤⎤⎤\n",
       " ⎢⎢⎢              ⎥  ⎢              ⎥⎥  ⎢⎢              ⎥  ⎢              ⎥⎥⎥⎥\n",
       " ⎣⎣⎣A₂₁₁₂₁  A₂₁₁₂₂⎦  ⎣A₂₁₂₂₁  A₂₁₂₂₂⎦⎦  ⎣⎣A₂₂₁₂₁  A₂₂₁₂₂⎦  ⎣A₂₂₂₂₁  A₂₂₂₂₂⎦⎦⎦⎦"
      ]
     },
     "execution_count": 80,
     "metadata": {},
     "output_type": "execute_result"
    }
   ],
   "source": [
    "A"
   ]
  },
  {
   "cell_type": "code",
   "execution_count": 81,
   "metadata": {
    "collapsed": false
   },
   "outputs": [],
   "source": [
    "X1 = [A[0]] + [B[1]]\n",
    "Y1 = [C[0]] + [D[1]]\n",
    "X2 = [M[0]] + [N[1]]\n",
    "Y2 = [J[0]] + [K[1]]"
   ]
  },
  {
   "cell_type": "code",
   "execution_count": 82,
   "metadata": {
    "collapsed": false
   },
   "outputs": [],
   "source": [
    "c = c1 + c2 + c3 + c4 + c5 + c6 + c7 + c8 + c9 + c10 + c11 + c12 + c13 + c14\n",
    "c = list(filter(lambda a: a != 0, c))"
   ]
  },
  {
   "cell_type": "code",
   "execution_count": 83,
   "metadata": {
    "collapsed": false
   },
   "outputs": [],
   "source": [
    "dc = {}\n",
    "for x in c:\n",
    "    dc[x]=1"
   ]
  },
  {
   "cell_type": "code",
   "execution_count": 84,
   "metadata": {
    "collapsed": false
   },
   "outputs": [],
   "source": [
    "dZE = {}\n",
    "for x in ZE:\n",
    "    dZE[x]=1"
   ]
  },
  {
   "cell_type": "code",
   "execution_count": 85,
   "metadata": {
    "collapsed": false
   },
   "outputs": [],
   "source": [
    "m = Symbol('m')\n",
    "n1 = Symbol('n')\n",
    "r = Symbol('r')\n",
    "s = Symbol('s')\n",
    "\n",
    "t = Symbol('t')\n",
    "w = Symbol('w')\n",
    "u = Symbol('u')\n",
    "v = Symbol('v')\n",
    "\n",
    "\n",
    "\n",
    "cof = [[X1,X2],[Y1,Y2],[bb],[gg],[cc],[hh]]\n",
    "#power = [[[5,-3,5,-3],[2,-1,1,1]],[[5,-3,5,-3],[2,-1,1,1]]]\n",
    "power = [[[0,0,r,1],[t,w,u,v]],[[0,0,r,1],[t,w,u,v]]]"
   ]
  },
  {
   "cell_type": "code",
   "execution_count": 86,
   "metadata": {
    "collapsed": false
   },
   "outputs": [
    {
     "data": {
      "text/latex": [
       "$$\\left[\\begin{matrix}F{\\left (\\Phi,E_{1},E_{2},I_{1},I_{2} \\right )}\\\\A_{11111} I_{1}^{- r + 1} + A_{11121} I_{2}^{- r + 1} + E_{1} b_{11} + E_{2} b_{12} + I_{1} c_{11} + I_{2} c_{12}\\\\B_{21111} I_{1}^{- r + 1} + B_{21121} I_{2}^{- r + 1} + E_{1} b_{21} + E_{2} b_{22} + I_{1} c_{21} + I_{2} c_{22}\\\\C_{11111} E_{1}^{2} I_{1} I_{1}^{r} + C_{11112} E_{1}^{2} I_{1}^{r} I_{2} + C_{11121} E_{1}^{2} I_{1} I_{2}^{r} + C_{11122} E_{1}^{2} I_{2} I_{2}^{r} + C_{11211} E_{1} E_{2} I_{1} I_{1}^{r} + C_{11212} E_{1} E_{2} I_{1}^{r} I_{2} + C_{11221} E_{1} E_{2} I_{1} I_{2}^{r} + C_{11222} E_{1} E_{2} I_{2} I_{2}^{r} + C_{12211} E_{2}^{2} I_{1} I_{1}^{r} + C_{12212} E_{2}^{2} I_{1}^{r} I_{2} + C_{12221} E_{2}^{2} I_{1} I_{2}^{r} + C_{12222} E_{2}^{2} I_{2} I_{2}^{r} + E_{1} h_{11} + E_{2} h_{12} + I_{1} g_{11} + I_{2} g_{12}\\\\D_{21111} E_{1}^{2} I_{1} I_{1}^{r} + D_{21112} E_{1}^{2} I_{1}^{r} I_{2} + D_{21121} E_{1}^{2} I_{1} I_{2}^{r} + D_{21122} E_{1}^{2} I_{2} I_{2}^{r} + D_{21211} E_{1} E_{2} I_{1} I_{1}^{r} + D_{21212} E_{1} E_{2} I_{1}^{r} I_{2} + D_{21221} E_{1} E_{2} I_{1} I_{2}^{r} + D_{21222} E_{1} E_{2} I_{2} I_{2}^{r} + D_{22211} E_{2}^{2} I_{1} I_{1}^{r} + D_{22212} E_{2}^{2} I_{1}^{r} I_{2} + D_{22221} E_{2}^{2} I_{1} I_{2}^{r} + D_{22222} E_{2}^{2} I_{2} I_{2}^{r} + E_{1} h_{21} + E_{2} h_{22} + I_{1} g_{21} + I_{2} g_{22}\\end{matrix}\\right]$$"
      ],
      "text/plain": [
       "⎡                                                                             \n",
       "⎢                                                                             \n",
       "⎢                                                                             \n",
       "⎢                                                                             \n",
       "⎢                                                                             \n",
       "⎢                                                                             \n",
       "⎢                                                                             \n",
       "⎢                                                                             \n",
       "⎢         2      r            2   r               2      r            2      r\n",
       "⎢C₁₁₁₁₁⋅E₁ ⋅I₁⋅I₁  + C₁₁₁₁₂⋅E₁ ⋅I₁ ⋅I₂ + C₁₁₁₂₁⋅E₁ ⋅I₁⋅I₂  + C₁₁₁₂₂⋅E₁ ⋅I₂⋅I₂ \n",
       "⎢                                                                             \n",
       "⎢         2      r            2   r               2      r            2      r\n",
       "⎣D₂₁₁₁₁⋅E₁ ⋅I₁⋅I₁  + D₂₁₁₁₂⋅E₁ ⋅I₁ ⋅I₂ + D₂₁₁₂₁⋅E₁ ⋅I₁⋅I₂  + D₂₁₁₂₂⋅E₁ ⋅I₂⋅I₂ \n",
       "\n",
       "                                                    F(\\Phi, E₁, E₂, I₁, I₂)   \n",
       "                                                                              \n",
       "                                      -r + 1            -r + 1                \n",
       "                             A₁₁₁₁₁⋅I₁       + A₁₁₁₂₁⋅I₂       + E₁⋅b₁₁ + E₂⋅b\n",
       "                                                                              \n",
       "                                      -r + 1            -r + 1                \n",
       "                             B₂₁₁₁₁⋅I₁       + B₂₁₁₂₁⋅I₂       + E₁⋅b₂₁ + E₂⋅b\n",
       "                                                                              \n",
       "                     r                  r                        r            \n",
       " + C₁₁₂₁₁⋅E₁⋅E₂⋅I₁⋅I₁  + C₁₁₂₁₂⋅E₁⋅E₂⋅I₁ ⋅I₂ + C₁₁₂₂₁⋅E₁⋅E₂⋅I₁⋅I₂  + C₁₁₂₂₂⋅E₁\n",
       "                                                                              \n",
       "                     r                  r                        r            \n",
       " + D₂₁₂₁₁⋅E₁⋅E₂⋅I₁⋅I₁  + D₂₁₂₁₂⋅E₁⋅E₂⋅I₁ ⋅I₂ + D₂₁₂₂₁⋅E₁⋅E₂⋅I₁⋅I₂  + D₂₁₂₂₂⋅E₁\n",
       "\n",
       "                                                                              \n",
       "                                                                              \n",
       "                                                                              \n",
       "₁₂ + I₁⋅c₁₁ + I₂⋅c₁₂                                                          \n",
       "                                                                              \n",
       "                                                                              \n",
       "₂₂ + I₁⋅c₂₁ + I₂⋅c₂₂                                                          \n",
       "                                                                              \n",
       "         r            2      r            2   r               2      r        \n",
       "⋅E₂⋅I₂⋅I₂  + C₁₂₂₁₁⋅E₂ ⋅I₁⋅I₁  + C₁₂₂₁₂⋅E₂ ⋅I₁ ⋅I₂ + C₁₂₂₂₁⋅E₂ ⋅I₁⋅I₂  + C₁₂₂₂\n",
       "                                                                              \n",
       "         r            2      r            2   r               2      r        \n",
       "⋅E₂⋅I₂⋅I₂  + D₂₂₂₁₁⋅E₂ ⋅I₁⋅I₁  + D₂₂₂₁₂⋅E₂ ⋅I₁ ⋅I₂ + D₂₂₂₂₁⋅E₂ ⋅I₁⋅I₂  + D₂₂₂₂\n",
       "\n",
       "                                                ⎤\n",
       "                                                ⎥\n",
       "                                                ⎥\n",
       "                                                ⎥\n",
       "                                                ⎥\n",
       "                                                ⎥\n",
       "                                                ⎥\n",
       "                                                ⎥\n",
       "    2      r                                    ⎥\n",
       "₂⋅E₂ ⋅I₂⋅I₂  + E₁⋅h₁₁ + E₂⋅h₁₂ + I₁⋅g₁₁ + I₂⋅g₁₂⎥\n",
       "                                                ⎥\n",
       "    2      r                                    ⎥\n",
       "₂⋅E₂ ⋅I₂⋅I₂  + E₁⋅h₂₁ + E₂⋅h₂₂ + I₁⋅g₂₁ + I₂⋅g₂₂⎦"
      ]
     },
     "execution_count": 86,
     "metadata": {},
     "output_type": "execute_result"
    }
   ],
   "source": [
    "L0 = pow_difeomorphism(cof,n,ZX,ZE,power)\n",
    "Matrix(L0)"
   ]
  },
  {
   "cell_type": "code",
   "execution_count": null,
   "metadata": {
    "collapsed": true
   },
   "outputs": [],
   "source": [
    "tabix = 0\n",
    "voit = []\n",
    "a_EQS = []\n",
    "a_elias = []\n",
    "a_complice = []\n",
    "for a in range(-4,4):\n",
    "    for b in range(a,4):\n",
    "        for c in range(-4,4):\n",
    "            for d in range(c,3):\n",
    "                cof = [[X1,X2],[Y1,Y2],[bb],[gg],[cc],[hh]]\n",
    "                power = [[[a,b,c,d],[a,b,c,d]],[[a,b,c,d],[a,b,c,d]]]\n",
    "                L0 = pow_difeomorphism(cof,n,ZX,ZE,power)\n",
    "                S,EQS = poly_difeomorphism(L0,ZE,dc,dZE,h,simplify)\n",
    "                EQS,elias,complice = clean_system02(EQS,n,dZE,dc,factor)\n",
    "                voit.append((a,b,c,d))\n",
    "                a_EQS.append(EQS)\n",
    "                a_elias.append(elias)\n",
    "                a_complice.append(complice)\n"
   ]
  },
  {
   "cell_type": "code",
   "execution_count": null,
   "metadata": {
    "collapsed": false
   },
   "outputs": [],
   "source": [
    "len(a_elias)"
   ]
  },
  {
   "cell_type": "code",
   "execution_count": null,
   "metadata": {
    "collapsed": true
   },
   "outputs": [],
   "source": [
    "a_elias[3][-1][1:1+n,1+n:2*n+1]"
   ]
  },
  {
   "cell_type": "code",
   "execution_count": null,
   "metadata": {
    "collapsed": false
   },
   "outputs": [],
   "source": [
    "voit[0]"
   ]
  },
  {
   "cell_type": "code",
   "execution_count": null,
   "metadata": {
    "collapsed": false
   },
   "outputs": [],
   "source": [
    "len(a_elias[8])"
   ]
  },
  {
   "cell_type": "markdown",
   "metadata": {},
   "source": [
    "## Aqui empieza todo"
   ]
  },
  {
   "cell_type": "code",
   "execution_count": 87,
   "metadata": {
    "collapsed": false
   },
   "outputs": [
    {
     "data": {
      "text/latex": [
       "$$\\left ( \\left[\\begin{matrix}f{\\left (F,X_{1},X_{2},Y_{1},Y_{2} \\right )} & 0\\\\0 & f{\\left (F,X_{1},X_{2},Y_{1},Y_{2} \\right )}\\end{matrix}\\right], \\quad \\left[\\begin{matrix}E_{1} I_{1} p_{11} + E_{2} I_{2} p_{12} & 0\\\\0 & E_{1} I_{1} p_{21} + E_{2} I_{2} p_{22}\\end{matrix}\\right]\\right )$$"
      ],
      "text/plain": [
       "⎛⎡f(F, X₁, X₂, Y₁, Y₂)           0          ⎤, ⎡E₁⋅I₁⋅p₁₁ + E₂⋅I₂⋅p₁₂         \n",
       "⎜⎢                                          ⎥  ⎢                              \n",
       "⎝⎣         0            f(F, X₁, X₂, Y₁, Y₂)⎦  ⎣          0            E₁⋅I₁⋅p\n",
       "\n",
       "   0          ⎤⎞\n",
       "              ⎥⎟\n",
       "₂₁ + E₂⋅I₂⋅p₂₂⎦⎠"
      ]
     },
     "execution_count": 87,
     "metadata": {},
     "output_type": "execute_result"
    }
   ],
   "source": [
    "f = zeros(n)\n",
    "h = zeros(n)\n",
    "\n",
    "for x in range(0,n):\n",
    "    for y in range(0,n):\n",
    "        if x == y:\n",
    "            f[x,y]=Function('f')(*ZX)\n",
    "            part = 0\n",
    "            for z in range(1,n+1):\n",
    "                part = part + p[x][z-1]*ZE[z]*ZE[z+n]\n",
    "            h[x,y]=0\n",
    "            h[x,y]=part\n",
    "f,h"
   ]
  },
  {
   "cell_type": "code",
   "execution_count": 88,
   "metadata": {
    "collapsed": false,
    "slideshow": {
     "slide_type": "slide"
    }
   },
   "outputs": [],
   "source": [
    "exclude = [(1,3),(2,4),(3,1),(4,2)]\n",
    "S,EQS = poly_difeomorphism(L0,ZE,dc,dZE,h,simplify) \n",
    "EQA = EQS[:,:]\n",
    "#EQS,elias,complice = clean_system02(EQS,n,dZE,dc,factor)\n",
    "beep(sys.argv[1])"
   ]
  },
  {
   "cell_type": "code",
   "execution_count": null,
   "metadata": {
    "collapsed": false
   },
   "outputs": [],
   "source": [
    "ew = EQS[1,1]\n",
    "chomp = []\n",
    "for z in range(1,n+1):\n",
    "                chomp.append(ZE[z]*ZE[z+n])\n",
    "chew = EQS[1:1+n,1+n:2*n+1]\n",
    "\n",
    "tai = []\n",
    "for x in range(0,n):\n",
    "    for y in range(0,n):\n",
    "        if x == y:\n",
    "            for z in chomp:\n",
    "                tai.append(factor(chew[x,y][z]))\n",
    "            tai.append(factor(chew[x,y][1]))\n",
    "for x in ew:\n",
    "    ew[x] = factor(ew[x])\n"
   ]
  },
  {
   "cell_type": "code",
   "execution_count": null,
   "metadata": {
    "collapsed": false
   },
   "outputs": [],
   "source": [
    "all_sol = solve_part(ew,simplify,[])\n",
    "all_sol"
   ]
  },
  {
   "cell_type": "code",
   "execution_count": null,
   "metadata": {
    "collapsed": false
   },
   "outputs": [],
   "source": [
    "i = 0\n",
    "key = list(all_sol.keys())\n",
    "subs_e = {}\n",
    "subs_e[key[i]] = all_sol[key[i]]\n",
    "for x in range(0,len(L0)):\n",
    "    L0[x] = L0[x].subs(subs_e)\n",
    "subs_e"
   ]
  },
  {
   "cell_type": "code",
   "execution_count": null,
   "metadata": {
    "collapsed": false
   },
   "outputs": [],
   "source": [
    "Matrix(tai)"
   ]
  },
  {
   "cell_type": "code",
   "execution_count": null,
   "metadata": {
    "collapsed": false
   },
   "outputs": [],
   "source": [
    "ew = EQS[1,3]\n",
    "matchb = check_me(ew,EQS,n,dZE,dc)\n",
    "len(matchb)"
   ]
  },
  {
   "cell_type": "code",
   "execution_count": null,
   "metadata": {
    "collapsed": false
   },
   "outputs": [],
   "source": [
    "Matrix(matchb[16])"
   ]
  },
  {
   "cell_type": "code",
   "execution_count": null,
   "metadata": {
    "collapsed": false
   },
   "outputs": [],
   "source": [
    "ew = EQS[2,4]\n",
    "matchc = check_me(ew,EQS,n,dZE,dc)\n",
    "len(matchc)"
   ]
  },
  {
   "cell_type": "code",
   "execution_count": null,
   "metadata": {
    "collapsed": false
   },
   "outputs": [],
   "source": [
    "Matrix(matchc[10])"
   ]
  },
  {
   "cell_type": "code",
   "execution_count": null,
   "metadata": {
    "collapsed": false
   },
   "outputs": [],
   "source": [
    "for x in range(0,len(matchc)):\n",
    "    for y in matchc[x]:\n",
    "        if y[4] == ZE[2]*ZE[4]:\n",
    "            print (x)"
   ]
  },
  {
   "cell_type": "code",
   "execution_count": null,
   "metadata": {
    "collapsed": false
   },
   "outputs": [],
   "source": [
    "matchc[0][0][4]"
   ]
  },
  {
   "cell_type": "code",
   "execution_count": null,
   "metadata": {
    "collapsed": false
   },
   "outputs": [],
   "source": [
    "CM_LD = contactomorphism_equations(L0,ZE,expand,f)\n",
    "Ja = Matrix(L0).jacobian(ZE)\n",
    "DeJ = Ja.berkowitz_det()\n",
    "for x in range(0,2*n+1):\n",
    "    DeJ = DeJ.subs([(diff(L0[0],ZE[x]),CM_LD[x])])"
   ]
  },
  {
   "cell_type": "code",
   "execution_count": null,
   "metadata": {
    "collapsed": false
   },
   "outputs": [],
   "source": [
    "for x in range(0,2*n+1):\n",
    "    Ja = Ja.subs([(diff(L0[0],ZE[x]),CM_LD[x])])\n",
    "simplify(Ja)"
   ]
  },
  {
   "cell_type": "code",
   "execution_count": null,
   "metadata": {
    "collapsed": false
   },
   "outputs": [],
   "source": [
    "DeJ = simplify(DeJ)\n",
    "DeJ"
   ]
  },
  {
   "cell_type": "code",
   "execution_count": null,
   "metadata": {
    "collapsed": false
   },
   "outputs": [],
   "source": [
    "ew = EQS[1,2]\n",
    "for x in ew:\n",
    "    ew[x] = factor(ew[x])\n",
    "Matrix(list(ew.items()))"
   ]
  },
  {
   "cell_type": "code",
   "execution_count": null,
   "metadata": {
    "collapsed": true
   },
   "outputs": [],
   "source": [
    "ew = EQS[2,4]\n",
    "for x in ew:\n",
    "    ew[x] = factor(ew[x])\n",
    "Matrix(list(ew.keys())),Matrix(list(ew.values()))"
   ]
  },
  {
   "cell_type": "code",
   "execution_count": null,
   "metadata": {
    "collapsed": false
   },
   "outputs": [],
   "source": [
    "tabix = 0\n",
    "chomp = []\n",
    "for z in range(1,n+1):\n",
    "                chomp.append(ZE[z]*ZE[z+n])\n",
    "chomp,tabix"
   ]
  },
  {
   "cell_type": "code",
   "execution_count": null,
   "metadata": {
    "collapsed": false
   },
   "outputs": [],
   "source": [
    "for a in range(0,2*n+1):\n",
    "    for b in range(a,2*n+1):\n",
    "        ew = EQS[a,b]\n",
    "        if ew == 0 or ew == {}: continue\n",
    "        for x in ew:\n",
    "            if ew[x] != 0:\n",
    "                print ('eq'+str(tabix)+' = ' +str(ew[x]).replace('_',''))\n",
    "                tabix = tabix+1"
   ]
  },
  {
   "cell_type": "code",
   "execution_count": null,
   "metadata": {
    "collapsed": false
   },
   "outputs": [],
   "source": [
    "for x in range(0,5732):\n",
    "    print ('eq'+str(x)+'==0&&')"
   ]
  },
  {
   "cell_type": "code",
   "execution_count": null,
   "metadata": {
    "collapsed": true
   },
   "outputs": [],
   "source": [
    "remi = set()\n",
    "for x in L0:\n",
    "    uin = x.free_symbols\n",
    "    remi.update(uin)\n",
    "remi"
   ]
  },
  {
   "cell_type": "code",
   "execution_count": null,
   "metadata": {
    "collapsed": false
   },
   "outputs": [],
   "source": [
    "len(remi)"
   ]
  },
  {
   "cell_type": "code",
   "execution_count": null,
   "metadata": {
    "collapsed": true
   },
   "outputs": [],
   "source": []
  },
  {
   "cell_type": "code",
   "execution_count": null,
   "metadata": {
    "collapsed": false
   },
   "outputs": [],
   "source": [
    "len(elias)"
   ]
  },
  {
   "cell_type": "code",
   "execution_count": null,
   "metadata": {
    "collapsed": true
   },
   "outputs": [],
   "source": [
    "elias[3][1,3]"
   ]
  },
  {
   "cell_type": "code",
   "execution_count": null,
   "metadata": {
    "collapsed": false
   },
   "outputs": [],
   "source": [
    "complice[3]"
   ]
  },
  {
   "cell_type": "code",
   "execution_count": null,
   "metadata": {
    "collapsed": true
   },
   "outputs": [],
   "source": [
    "EQA[1,3]"
   ]
  },
  {
   "cell_type": "code",
   "execution_count": null,
   "metadata": {
    "collapsed": true
   },
   "outputs": [],
   "source": [
    "EQA[2,4]"
   ]
  },
  {
   "cell_type": "code",
   "execution_count": null,
   "metadata": {
    "collapsed": true
   },
   "outputs": [],
   "source": [
    "L1 = L0\n",
    "Matrix(L1)"
   ]
  },
  {
   "cell_type": "code",
   "execution_count": null,
   "metadata": {
    "collapsed": true
   },
   "outputs": [],
   "source": [
    "EQS"
   ]
  },
  {
   "cell_type": "code",
   "execution_count": null,
   "metadata": {
    "collapsed": true
   },
   "outputs": [],
   "source": [
    "L2 = L0\n",
    "Matrix(L2)"
   ]
  },
  {
   "cell_type": "code",
   "execution_count": null,
   "metadata": {
    "collapsed": true
   },
   "outputs": [],
   "source": [
    "EQS"
   ]
  },
  {
   "cell_type": "code",
   "execution_count": null,
   "metadata": {
    "collapsed": true
   },
   "outputs": [],
   "source": [
    "for x in range(1,len(L0)):\n",
    "    L0[x] = L1[x] + L2[x]\n",
    "Matrix(L0)"
   ]
  },
  {
   "cell_type": "code",
   "execution_count": null,
   "metadata": {
    "collapsed": false
   },
   "outputs": [],
   "source": [
    "7/2"
   ]
  },
  {
   "cell_type": "code",
   "execution_count": null,
   "metadata": {
    "collapsed": true
   },
   "outputs": [],
   "source": [
    "epi = pow(m,2)-2*m+1"
   ]
  },
  {
   "cell_type": "code",
   "execution_count": null,
   "metadata": {
    "collapsed": false
   },
   "outputs": [],
   "source": [
    "epi"
   ]
  },
  {
   "cell_type": "code",
   "execution_count": null,
   "metadata": {
    "collapsed": false
   },
   "outputs": [],
   "source": [
    "factor(epi)"
   ]
  },
  {
   "cell_type": "code",
   "execution_count": 74,
   "metadata": {
    "collapsed": true
   },
   "outputs": [],
   "source": [
    "def platexjump00(file_name):\n",
    "    filename = file_name\n",
    "    FILE = open(filename,'a')                   \n",
    "    FILE.writelines('\\n')\n",
    "    FILE.close()"
   ]
  },
  {
   "cell_type": "code",
   "execution_count": 75,
   "metadata": {
    "collapsed": false
   },
   "outputs": [
    {
     "name": "stdout",
     "output_type": "stream",
     "text": [
      "general_completo00.tex\n",
      "general_completo01.tex\n",
      "general_completo02.tex\n",
      "general_completo03.tex\n",
      "general_completo04.tex\n",
      "general_completo10.tex\n",
      "general_completo11.tex\n",
      "general_completo12.tex\n",
      "general_completo13.tex\n",
      "general_completo14.tex\n",
      "general_completo20.tex\n",
      "general_completo21.tex\n",
      "general_completo22.tex\n",
      "general_completo23.tex\n",
      "general_completo24.tex\n",
      "general_completo30.tex\n",
      "general_completo31.tex\n",
      "general_completo32.tex\n",
      "general_completo33.tex\n",
      "general_completo34.tex\n",
      "general_completo40.tex\n",
      "general_completo41.tex\n",
      "general_completo42.tex\n",
      "general_completo43.tex\n",
      "general_completo44.tex\n"
     ]
    }
   ],
   "source": [
    "for x in range(0,2*n+1):\n",
    "    for y in range(0,2*n+1):\n",
    "        if EQS[x,y] != 0 or {}:\n",
    "            filename = 'general_completo' + str(x)+str(y) +'.tex'\n",
    "            platexini00(filename)\n",
    "            platexjump00(filename)\n",
    "            for z in EQS[x,y]:\n",
    "                platex00(z,filename,'equation')\n",
    "                platexjump00(filename)\n",
    "                platex00(EQS[x,y][z],filename,'equation')\n",
    "                platexjump00(filename)\n",
    "            platexend00(filename)\n",
    "            print(filename)\n",
    "            "
   ]
  },
  {
   "cell_type": "code",
   "execution_count": 91,
   "metadata": {
    "collapsed": false
   },
   "outputs": [
    {
     "data": {
      "text/latex": [
       "$$\\left[\\begin{matrix}E_{2} I_{2}^{r + 1} & C_{11222} c_{11} + D_{21222} c_{21}\\\\1 & b_{11} g_{11} + b_{21} g_{21} + c_{11} h_{11} + c_{21} h_{21}\\\\E_{1} I_{1}^{r} I_{2} & 2 C_{11112} c_{11} + 2 D_{21112} c_{21}\\\\E_{2} I_{1}^{- r + 1} I_{2}^{r} & - A_{11111} C_{11221} r + A_{11111} C_{11221} - B_{21111} D_{21221} r + B_{21111} D_{21221}\\\\E_{2} I_{1}^{- r} I_{2}^{r + 1} & - A_{11111} C_{11222} r + A_{11111} C_{11222} - B_{21111} D_{21222} r + B_{21111} D_{21222}\\\\E_{2} I_{2} & - A_{11111} C_{11212} r + A_{11111} C_{11212} - B_{21111} D_{21212} r + B_{21111} D_{21212} - p_{12}\\\\E_{1} I_{1}^{r + 1} & 2 C_{11111} c_{11} + 2 D_{21111} c_{21}\\\\E_{1}^{2} I_{1}^{r - 1} I_{2} & C_{11112} b_{11} r + D_{21112} b_{21} r\\\\E_{1} I_{1} & - 2 A_{11111} C_{11111} r + 2 A_{11111} C_{11111} - 2 B_{21111} D_{21111} r + 2 B_{21111} D_{21111} - p_{11}\\\\E_{1}^{2} I_{1}^{r} & C_{11111} b_{11} r + C_{11111} b_{11} + D_{21111} b_{21} r + D_{21111} b_{21}\\\\E_{2}^{2} I_{1}^{r} & C_{12211} b_{11} r + C_{12211} b_{11} + D_{22211} b_{21} r + D_{22211} b_{21}\\\\E_{1} E_{2} I_{1}^{r - 1} I_{2} & C_{11212} b_{11} r + D_{21212} b_{21} r\\\\E_{2} I_{1}^{r + 1} & C_{11211} c_{11} + D_{21211} c_{21}\\\\E_{1} E_{2} I_{1}^{r} & C_{11211} b_{11} r + C_{11211} b_{11} + D_{21211} b_{21} r + D_{21211} b_{21}\\\\E_{2} I_{1} & - A_{11111} C_{11211} r + A_{11111} C_{11211} - B_{21111} D_{21211} r + B_{21111} D_{21211}\\\\E_{1} I_{2}^{r + 1} & 2 C_{11122} c_{11} + 2 D_{21122} c_{21}\\\\E_{1} I_{2} & - 2 A_{11111} C_{11112} r + 2 A_{11111} C_{11112} - 2 B_{21111} D_{21112} r + 2 B_{21111} D_{21112}\\\\E_{2}^{2} I_{1}^{r - 1} I_{2} & C_{12212} b_{11} r + D_{22212} b_{21} r\\\\E_{1} I_{1}^{- r + 1} I_{2}^{r} & - 2 A_{11111} C_{11121} r + 2 A_{11111} C_{11121} - 2 B_{21111} D_{21121} r + 2 B_{21111} D_{21121}\\\\E_{2} I_{1}^{r} I_{2} & C_{11212} c_{11} + D_{21212} c_{21}\\\\E_{2}^{2} I_{2}^{r} & C_{12221} b_{11} + D_{22221} b_{21}\\\\I_{1}^{- r} & - A_{11111} h_{11} r + A_{11111} h_{11} - B_{21111} h_{21} r + B_{21111} h_{21}\\\\E_{1} I_{1} I_{2}^{r} & 2 C_{11121} c_{11} + 2 D_{21121} c_{21}\\\\E_{1} I_{1}^{- r} I_{2}^{r + 1} & - 2 A_{11111} C_{11122} r + 2 A_{11111} C_{11122} - 2 B_{21111} D_{21122} r + 2 B_{21111} D_{21122}\\\\E_{1} E_{2} I_{2}^{r} & C_{11221} b_{11} + D_{21221} b_{21}\\\\E_{2} I_{1} I_{2}^{r} & C_{11221} c_{11} + D_{21221} c_{21}\\\\E_{1}^{2} I_{2}^{r} & C_{11121} b_{11} + D_{21121} b_{21}\\end{matrix}\\right]$$"
      ],
      "text/plain": [
       "⎡        r + 1                                                                \n",
       "⎢   E₂⋅I₂                                      C₁₁₂₂₂⋅c₁₁ + D₂₁₂₂₂⋅c₂₁        \n",
       "⎢                                                                             \n",
       "⎢       1                               b₁₁⋅g₁₁ + b₂₁⋅g₂₁ + c₁₁⋅h₁₁ + c₂₁⋅h₂₁ \n",
       "⎢                                                                             \n",
       "⎢        r                                                                    \n",
       "⎢   E₁⋅I₁ ⋅I₂                                2⋅C₁₁₁₁₂⋅c₁₁ + 2⋅D₂₁₁₁₂⋅c₂₁      \n",
       "⎢                                                                             \n",
       "⎢     -r + 1   r                                                              \n",
       "⎢E₂⋅I₁      ⋅I₂           -A₁₁₁₁₁⋅C₁₁₂₂₁⋅r + A₁₁₁₁₁⋅C₁₁₂₂₁ - B₂₁₁₁₁⋅D₂₁₂₂₁⋅r +\n",
       "⎢                                                                             \n",
       "⎢     -r   r + 1                                                              \n",
       "⎢E₂⋅I₁  ⋅I₂               -A₁₁₁₁₁⋅C₁₁₂₂₂⋅r + A₁₁₁₁₁⋅C₁₁₂₂₂ - B₂₁₁₁₁⋅D₂₁₂₂₂⋅r +\n",
       "⎢                                                                             \n",
       "⎢     E₂⋅I₂            -A₁₁₁₁₁⋅C₁₁₂₁₂⋅r + A₁₁₁₁₁⋅C₁₁₂₁₂ - B₂₁₁₁₁⋅D₂₁₂₁₂⋅r + B₂\n",
       "⎢                                                                             \n",
       "⎢        r + 1                                                                \n",
       "⎢   E₁⋅I₁                                    2⋅C₁₁₁₁₁⋅c₁₁ + 2⋅D₂₁₁₁₁⋅c₂₁      \n",
       "⎢                                                                             \n",
       "⎢   2   r - 1                                                                 \n",
       "⎢ E₁ ⋅I₁     ⋅I₂                             C₁₁₁₁₂⋅b₁₁⋅r + D₂₁₁₁₂⋅b₂₁⋅r      \n",
       "⎢                                                                             \n",
       "⎢     E₁⋅I₁        -2⋅A₁₁₁₁₁⋅C₁₁₁₁₁⋅r + 2⋅A₁₁₁₁₁⋅C₁₁₁₁₁ - 2⋅B₂₁₁₁₁⋅D₂₁₁₁₁⋅r + \n",
       "⎢                                                                             \n",
       "⎢      2   r                                                                  \n",
       "⎢    E₁ ⋅I₁                     C₁₁₁₁₁⋅b₁₁⋅r + C₁₁₁₁₁⋅b₁₁ + D₂₁₁₁₁⋅b₂₁⋅r + D₂₁\n",
       "⎢                                                                             \n",
       "⎢      2   r                                                                  \n",
       "⎢    E₂ ⋅I₁                     C₁₂₂₁₁⋅b₁₁⋅r + C₁₂₂₁₁⋅b₁₁ + D₂₂₂₁₁⋅b₂₁⋅r + D₂₂\n",
       "⎢                                                                             \n",
       "⎢        r - 1                                                                \n",
       "⎢E₁⋅E₂⋅I₁     ⋅I₂                            C₁₁₂₁₂⋅b₁₁⋅r + D₂₁₂₁₂⋅b₂₁⋅r      \n",
       "⎢                                                                             \n",
       "⎢        r + 1                                                                \n",
       "⎢   E₂⋅I₁                                      C₁₁₂₁₁⋅c₁₁ + D₂₁₂₁₁⋅c₂₁        \n",
       "⎢                                                                             \n",
       "⎢           r                                                                 \n",
       "⎢   E₁⋅E₂⋅I₁                    C₁₁₂₁₁⋅b₁₁⋅r + C₁₁₂₁₁⋅b₁₁ + D₂₁₂₁₁⋅b₂₁⋅r + D₂₁\n",
       "⎢                                                                             \n",
       "⎢     E₂⋅I₁               -A₁₁₁₁₁⋅C₁₁₂₁₁⋅r + A₁₁₁₁₁⋅C₁₁₂₁₁ - B₂₁₁₁₁⋅D₂₁₂₁₁⋅r +\n",
       "⎢                                                                             \n",
       "⎢        r + 1                                                                \n",
       "⎢   E₁⋅I₂                                    2⋅C₁₁₁₂₂⋅c₁₁ + 2⋅D₂₁₁₂₂⋅c₂₁      \n",
       "⎢                                                                             \n",
       "⎢     E₁⋅I₂           -2⋅A₁₁₁₁₁⋅C₁₁₁₁₂⋅r + 2⋅A₁₁₁₁₁⋅C₁₁₁₁₂ - 2⋅B₂₁₁₁₁⋅D₂₁₁₁₂⋅r\n",
       "⎢                                                                             \n",
       "⎢   2   r - 1                                                                 \n",
       "⎢ E₂ ⋅I₁     ⋅I₂                             C₁₂₂₁₂⋅b₁₁⋅r + D₂₂₂₁₂⋅b₂₁⋅r      \n",
       "⎢                                                                             \n",
       "⎢     -r + 1   r                                                              \n",
       "⎢E₁⋅I₁      ⋅I₂       -2⋅A₁₁₁₁₁⋅C₁₁₁₂₁⋅r + 2⋅A₁₁₁₁₁⋅C₁₁₁₂₁ - 2⋅B₂₁₁₁₁⋅D₂₁₁₂₁⋅r\n",
       "⎢                                                                             \n",
       "⎢        r                                                                    \n",
       "⎢   E₂⋅I₁ ⋅I₂                                  C₁₁₂₁₂⋅c₁₁ + D₂₁₂₁₂⋅c₂₁        \n",
       "⎢                                                                             \n",
       "⎢      2   r                                                                  \n",
       "⎢    E₂ ⋅I₂                                    C₁₂₂₂₁⋅b₁₁ + D₂₂₂₂₁⋅b₂₁        \n",
       "⎢                                                                             \n",
       "⎢        -r                                                                   \n",
       "⎢      I₁                       -A₁₁₁₁₁⋅h₁₁⋅r + A₁₁₁₁₁⋅h₁₁ - B₂₁₁₁₁⋅h₂₁⋅r + B₂\n",
       "⎢                                                                             \n",
       "⎢           r                                                                 \n",
       "⎢   E₁⋅I₁⋅I₂                                 2⋅C₁₁₁₂₁⋅c₁₁ + 2⋅D₂₁₁₂₁⋅c₂₁      \n",
       "⎢                                                                             \n",
       "⎢     -r   r + 1                                                              \n",
       "⎢E₁⋅I₁  ⋅I₂           -2⋅A₁₁₁₁₁⋅C₁₁₁₂₂⋅r + 2⋅A₁₁₁₁₁⋅C₁₁₁₂₂ - 2⋅B₂₁₁₁₁⋅D₂₁₁₂₂⋅r\n",
       "⎢                                                                             \n",
       "⎢           r                                                                 \n",
       "⎢   E₁⋅E₂⋅I₂                                   C₁₁₂₂₁⋅b₁₁ + D₂₁₂₂₁⋅b₂₁        \n",
       "⎢                                                                             \n",
       "⎢           r                                                                 \n",
       "⎢   E₂⋅I₁⋅I₂                                   C₁₁₂₂₁⋅c₁₁ + D₂₁₂₂₁⋅c₂₁        \n",
       "⎢                                                                             \n",
       "⎢      2   r                                                                  \n",
       "⎣    E₁ ⋅I₂                                    C₁₁₁₂₁⋅b₁₁ + D₂₁₁₂₁⋅b₂₁        \n",
       "\n",
       "                     ⎤\n",
       "                     ⎥\n",
       "                     ⎥\n",
       "                     ⎥\n",
       "                     ⎥\n",
       "                     ⎥\n",
       "                     ⎥\n",
       "                     ⎥\n",
       "                     ⎥\n",
       " B₂₁₁₁₁⋅D₂₁₂₂₁       ⎥\n",
       "                     ⎥\n",
       "                     ⎥\n",
       " B₂₁₁₁₁⋅D₂₁₂₂₂       ⎥\n",
       "                     ⎥\n",
       "₁₁₁₁⋅D₂₁₂₁₂ - p₁₂    ⎥\n",
       "                     ⎥\n",
       "                     ⎥\n",
       "                     ⎥\n",
       "                     ⎥\n",
       "                     ⎥\n",
       "                     ⎥\n",
       "                     ⎥\n",
       "2⋅B₂₁₁₁₁⋅D₂₁₁₁₁ - p₁₁⎥\n",
       "                     ⎥\n",
       "                     ⎥\n",
       "₁₁₁⋅b₂₁              ⎥\n",
       "                     ⎥\n",
       "                     ⎥\n",
       "₂₁₁⋅b₂₁              ⎥\n",
       "                     ⎥\n",
       "                     ⎥\n",
       "                     ⎥\n",
       "                     ⎥\n",
       "                     ⎥\n",
       "                     ⎥\n",
       "                     ⎥\n",
       "                     ⎥\n",
       "₂₁₁⋅b₂₁              ⎥\n",
       "                     ⎥\n",
       " B₂₁₁₁₁⋅D₂₁₂₁₁       ⎥\n",
       "                     ⎥\n",
       "                     ⎥\n",
       "                     ⎥\n",
       "                     ⎥\n",
       " + 2⋅B₂₁₁₁₁⋅D₂₁₁₁₂   ⎥\n",
       "                     ⎥\n",
       "                     ⎥\n",
       "                     ⎥\n",
       "                     ⎥\n",
       "                     ⎥\n",
       " + 2⋅B₂₁₁₁₁⋅D₂₁₁₂₁   ⎥\n",
       "                     ⎥\n",
       "                     ⎥\n",
       "                     ⎥\n",
       "                     ⎥\n",
       "                     ⎥\n",
       "                     ⎥\n",
       "                     ⎥\n",
       "                     ⎥\n",
       "₁₁₁₁⋅h₂₁             ⎥\n",
       "                     ⎥\n",
       "                     ⎥\n",
       "                     ⎥\n",
       "                     ⎥\n",
       "                     ⎥\n",
       " + 2⋅B₂₁₁₁₁⋅D₂₁₁₂₂   ⎥\n",
       "                     ⎥\n",
       "                     ⎥\n",
       "                     ⎥\n",
       "                     ⎥\n",
       "                     ⎥\n",
       "                     ⎥\n",
       "                     ⎥\n",
       "                     ⎥\n",
       "                     ⎦"
      ]
     },
     "execution_count": 91,
     "metadata": {},
     "output_type": "execute_result"
    }
   ],
   "source": [
    "ew = EQS[1,3]\n",
    "Matrix(list(ew.items()))"
   ]
  },
  {
   "cell_type": "code",
   "execution_count": null,
   "metadata": {
    "collapsed": true
   },
   "outputs": [],
   "source": [
    "mw = EQS[1,3]\n",
    "aw = list(mw.keys())\n",
    "pain = ZE[2]*ZE[4]"
   ]
  },
  {
   "cell_type": "code",
   "execution_count": null,
   "metadata": {
    "collapsed": true
   },
   "outputs": [],
   "source": [
    "karma = set()\n",
    "kermit = []\n",
    "\n",
    "subs_e = {}\n",
    "subs_e[m]  = m\n",
    "subs_e[n1] = \n",
    "subs_e[r]  = r\n",
    "subs_e[s]  = s\n",
    "for x in aw:\n",
    "        alpha = x.subs(subs_e)\n",
    "        beta = simplify(mw[x].subs(subs_e))\n",
    "        if alpha == pain:# and beta != 0:\n",
    "            karma.add(x)\n",
    "            kermit.append(beta)"
   ]
  },
  {
   "cell_type": "code",
   "execution_count": null,
   "metadata": {
    "collapsed": true
   },
   "outputs": [],
   "source": [
    "Matrix(list(karma))"
   ]
  },
  {
   "cell_type": "code",
   "execution_count": null,
   "metadata": {
    "collapsed": true
   },
   "outputs": [],
   "source": [
    "guag = []\n",
    "for x in karma:\n",
    "    guag.append(EQS[1,3][x])\n",
    "Matrix(guag)"
   ]
  },
  {
   "cell_type": "code",
   "execution_count": null,
   "metadata": {
    "collapsed": false
   },
   "outputs": [],
   "source": [
    "filename = 'generalsimple' + 'ecuaciondifeomorfismo' +'.tex'\n",
    "platexini00(filename)\n",
    "for z in L0:\n",
    "    platex00(z,filename,'equation')\n",
    "platexend00(filename)\n",
    "print(filename)"
   ]
  },
  {
   "cell_type": "code",
   "execution_count": null,
   "metadata": {
    "collapsed": true
   },
   "outputs": [],
   "source": []
  }
 ],
 "metadata": {
  "kernelspec": {
   "display_name": "Python 3",
   "language": "python",
   "name": "python3"
  },
  "language_info": {
   "codemirror_mode": {
    "name": "ipython",
    "version": 3
   },
   "file_extension": ".py",
   "mimetype": "text/x-python",
   "name": "python",
   "nbconvert_exporter": "python",
   "pygments_lexer": "ipython3",
   "version": "3.5.1"
  }
 },
 "nbformat": 4,
 "nbformat_minor": 0
}
