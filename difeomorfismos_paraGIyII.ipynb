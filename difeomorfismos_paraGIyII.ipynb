{
 "cells": [
  {
   "cell_type": "code",
   "execution_count": 1,
   "metadata": {
    "collapsed": false,
    "scrolled": true
   },
   "outputs": [],
   "source": [
    "from difeomorfismos_solvers import *\n",
    "from difeomorfismo import *\n",
    "init_printing()"
   ]
  },
  {
   "cell_type": "markdown",
   "metadata": {},
   "source": [
    "<H3>Difeomorsimos Cuadratico + lineal </H3>\n",
    "<H3>$X^{c} = M_{dd}^{c}E^{d}E^{d}$<H3>\n",
    "<H3>$Y_{c} = N_{cee}I^{e}I^{e}$</H3>\n",
    "\n"
   ]
  },
  {
   "cell_type": "markdown",
   "metadata": {},
   "source": [
    "<H3>Defino la dimension que utilizare</H3>"
   ]
  },
  {
   "cell_type": "code",
   "execution_count": 2,
   "metadata": {
    "collapsed": false
   },
   "outputs": [],
   "source": [
    "n=2\n"
   ]
  },
  {
   "cell_type": "markdown",
   "metadata": {},
   "source": [
    "<H3>Estos son las dos coordenadas del difeomorfismo</H3>"
   ]
  },
  {
   "cell_type": "code",
   "execution_count": 3,
   "metadata": {
    "collapsed": false
   },
   "outputs": [
    {
     "data": {
      "image/png": "[encoded data removed]",
      "text/latex": [
       "$$\\left ( \\left [ \\Phi, \\quad E_{1}, \\quad E_{2}, \\quad I_{1}, \\quad I_{2}\\right ], \\quad \\left [ F, \\quad X_{1}, \\quad X_{2}, \\quad Y_{1}, \\quad Y_{2}\\right ]\\right )$$"
      ],
      "text/plain": [
       "([\\Phi, E₁, E₂, I₁, I₂], [F, X₁, X₂, Y₁, Y₂])"
      ]
     },
     "execution_count": 3,
     "metadata": {},
     "output_type": "execute_result"
    }
   ],
   "source": [
    "ZE, ZX = set_coordinates(n)\n",
    "ZE, ZX"
   ]
  },
  {
   "cell_type": "markdown",
   "metadata": {},
   "source": [
    "<H3>Estas son las constates para las ecuaciones del difeomorfismo Cuadratico + lineal</H3>"
   ]
  },
  {
   "cell_type": "code",
   "execution_count": 4,
   "metadata": {
    "collapsed": false
   },
   "outputs": [],
   "source": [
    "import operator\n",
    "A,c1=set_constants_a(n,'A',0)\n",
    "D,c2=set_constants_a(n,'D',0)\n",
    "B,c3=set_constants_axb(n,n,'B',0)\n",
    "G,c4=set_constants_axb(n,n,'G',0)\n",
    "C,c5=set_constants_axb(n,n,'C',0)\n",
    "Hc,c6=set_constants_axb(n,n,'H',0)\n",
    "M,c7=set_constants_axbxc(n,n,n,'M',1,operator.lt)\n",
    "N,c8=set_constants_axbxc(n,n,n,'N',1,operator.gt)\n",
    "J,c7=set_constants_axbxc(n,n,n,'J',1,operator.eq)\n",
    "K,c8=set_constants_axbxc(n,n,n,'K',1,operator.eq)"
   ]
  },
  {
   "cell_type": "code",
   "execution_count": 36,
   "metadata": {
    "collapsed": false
   },
   "outputs": [],
   "source": [
    "J[0][1,1]=0\n",
    "J[1][0,0]=0\n",
    "K[0][1,1]=0\n",
    "K[1][0,0]=0\n",
    "M[1][0,1]=0\n",
    "N[1][1,0]=0"
   ]
  },
  {
   "cell_type": "code",
   "execution_count": 37,
   "metadata": {
    "collapsed": false
   },
   "outputs": [
    {
     "data": {
      "text/latex": [
       "$$\\left ( \\left [ \\left[\\begin{matrix}0 & M_{112}\\\\0 & 0\\end{matrix}\\right], \\quad \\left[\\begin{matrix}0 & 0\\\\0 & 0\\end{matrix}\\right]\\right ], \\quad \\left [ \\left[\\begin{matrix}0 & 0\\\\N_{121} & 0\\end{matrix}\\right], \\quad \\left[\\begin{matrix}0 & 0\\\\0 & 0\\end{matrix}\\right]\\right ], \\quad \\left [ \\left[\\begin{matrix}J_{111} & 0\\\\0 & 0\\end{matrix}\\right], \\quad \\left[\\begin{matrix}0 & 0\\\\0 & J_{222}\\end{matrix}\\right]\\right ], \\quad \\left [ \\left[\\begin{matrix}K_{111} & 0\\\\0 & 0\\end{matrix}\\right], \\quad \\left[\\begin{matrix}0 & 0\\\\0 & K_{222}\\end{matrix}\\right]\\right ]\\right )$$"
      ],
      "text/plain": [
       "⎛⎡⎡0  M₁₁₂⎤, ⎡0  0⎤⎤, ⎡⎡ 0    0⎤, ⎡0  0⎤⎤, ⎡⎡J₁₁₁  0⎤, ⎡0   0  ⎤⎤, ⎡⎡K₁₁₁  0⎤,\n",
       "⎜⎢⎢       ⎥  ⎢    ⎥⎥  ⎢⎢       ⎥  ⎢    ⎥⎥  ⎢⎢       ⎥  ⎢       ⎥⎥  ⎢⎢       ⎥ \n",
       "⎝⎣⎣0   0  ⎦  ⎣0  0⎦⎦  ⎣⎣N₁₂₁  0⎦  ⎣0  0⎦⎦  ⎣⎣ 0    0⎦  ⎣0  J₂₂₂⎦⎦  ⎣⎣ 0    0⎦ \n",
       "\n",
       " ⎡0   0  ⎤⎤⎞\n",
       " ⎢       ⎥⎥⎟\n",
       " ⎣0  K₂₂₂⎦⎦⎠"
      ]
     },
     "execution_count": 37,
     "metadata": {},
     "output_type": "execute_result"
    }
   ],
   "source": [
    "M,N,J,K"
   ]
  },
  {
   "cell_type": "markdown",
   "metadata": {},
   "source": [
    "<H3>Estas instrucciones son obtener las expresiones para $h_{ab}$ y $f$</H3>"
   ]
  },
  {
   "cell_type": "code",
   "execution_count": 44,
   "metadata": {
    "collapsed": false
   },
   "outputs": [],
   "source": [
    "h_LD=[]\n",
    "f_LD=[]\n",
    "EQ_LD = []\n",
    "f = zeros(n)\n",
    "h = zeros(n)\n",
    "for x in range(0,n):\n",
    "    for y in range(0,n):\n",
    "        if x == y: f[x,y]=1/Function('f_{'+str(x+1)+str(y+1)+str('}'))(*ZX)\n",
    "        if x == y: h[x,y]=Function('h_{'+str(x+1)+str(y+1)+str('}'))(*ZE)"
   ]
  },
  {
   "cell_type": "code",
   "execution_count": 39,
   "metadata": {
    "collapsed": false
   },
   "outputs": [],
   "source": [
    "h_LD=[]\n",
    "f_LD=[]\n",
    "EQ_LD = []\n",
    "f = zeros(n)\n",
    "h = zeros(n)\n",
    "f,h,EQ = matrix_gtdieGIII(B,C,Hc,G,M,N,ZE)"
   ]
  },
  {
   "cell_type": "code",
   "execution_count": 40,
   "metadata": {
    "collapsed": true
   },
   "outputs": [],
   "source": [
    "f = h"
   ]
  },
  {
   "cell_type": "code",
   "execution_count": 45,
   "metadata": {
    "collapsed": false
   },
   "outputs": [
    {
     "data": {
      "text/latex": [
       "$$\\left[\\begin{matrix}\\frac{1}{\\operatorname{f_{11}}{\\left (F,X_{1},X_{2},Y_{1},Y_{2} \\right )}} & 0\\\\0 & \\frac{1}{\\operatorname{f_{22}}{\\left (F,X_{1},X_{2},Y_{1},Y_{2} \\right )}}\\end{matrix}\\right]$$"
      ],
      "text/plain": [
       "⎡            1                                       ⎤\n",
       "⎢─────────────────────────              0            ⎥\n",
       "⎢f_{11}(F, X₁, X₂, Y₁, Y₂)                           ⎥\n",
       "⎢                                                    ⎥\n",
       "⎢                                       1            ⎥\n",
       "⎢            0              ─────────────────────────⎥\n",
       "⎣                           f_{22}(F, X₁, X₂, Y₁, Y₂)⎦"
      ]
     },
     "execution_count": 45,
     "metadata": {},
     "output_type": "execute_result"
    }
   ],
   "source": [
    "f"
   ]
  },
  {
   "cell_type": "code",
   "execution_count": 46,
   "metadata": {
    "collapsed": true
   },
   "outputs": [],
   "source": [
    "h_LD.append(h)\n",
    "f_LD.append(f)"
   ]
  },
  {
   "cell_type": "markdown",
   "metadata": {},
   "source": [
    "<H3>Estas son las ecuaciones del difeomorfismo Cuadratico + lineal</H3>"
   ]
  },
  {
   "cell_type": "code",
   "execution_count": 47,
   "metadata": {
    "collapsed": false
   },
   "outputs": [
    {
     "data": {
      "text/latex": [
       "$$\\left[\\begin{matrix}F{\\left (\\Phi,E_{1},E_{2},I_{1},I_{2} \\right )}\\\\E_{1}^{2} J_{111} + E_{1} I_{2} M_{112}\\\\E_{2}^{2} J_{222}\\\\E_{2} I_{1} N_{121} + I_{1}^{2} K_{111}\\\\I_{2}^{2} K_{222}\\end{matrix}\\right]$$"
      ],
      "text/plain": [
       "⎡F(\\Phi, E₁, E₂, I₁, I₂)⎤\n",
       "⎢                       ⎥\n",
       "⎢   2                   ⎥\n",
       "⎢ E₁ ⋅J₁₁₁ + E₁⋅I₂⋅M₁₁₂ ⎥\n",
       "⎢                       ⎥\n",
       "⎢         2             ⎥\n",
       "⎢       E₂ ⋅J₂₂₂        ⎥\n",
       "⎢                       ⎥\n",
       "⎢                2      ⎥\n",
       "⎢ E₂⋅I₁⋅N₁₂₁ + I₁ ⋅K₁₁₁ ⎥\n",
       "⎢                       ⎥\n",
       "⎢         2             ⎥\n",
       "⎣       I₂ ⋅K₂₂₂        ⎦"
      ]
     },
     "execution_count": 47,
     "metadata": {},
     "output_type": "execute_result"
    }
   ],
   "source": [
    "LD = []\n",
    "L0 = GI_difeomorphism(A,B,C,D,G,Hc,M,N,J,K,n,ZX,ZE)\n",
    "LD.append(L0)\n",
    "Matrix(LD[0])"
   ]
  },
  {
   "cell_type": "markdown",
   "metadata": {},
   "source": [
    "<H3>Estas son las ecuaciones del contactomorfismo</H3>"
   ]
  },
  {
   "cell_type": "code",
   "execution_count": 48,
   "metadata": {
    "collapsed": true
   },
   "outputs": [],
   "source": [
    "CM_LD = contactomorphism_equations(LD[0],ZE,expand,f_LD[0])"
   ]
  },
  {
   "cell_type": "code",
   "execution_count": 49,
   "metadata": {
    "collapsed": false
   },
   "outputs": [
    {
     "data": {
      "text/latex": [
       "$$\\left[\\begin{matrix}1\\\\2 E_{1} E_{2} I_{1} J_{111} N_{121} + 2 E_{1} I_{1}^{2} J_{111} K_{111} + E_{2} I_{1} I_{2} M_{112} N_{121} + I_{1}^{2} I_{2} K_{111} M_{112} - \\frac{I_{1}}{\\operatorname{f_{11}}{\\left (F,X_{1},X_{2},Y_{1},Y_{2} \\right )}}\\\\2 E_{2} I_{2}^{2} J_{222} K_{222} - \\frac{I_{2}}{\\operatorname{f_{22}}{\\left (F,X_{1},X_{2},Y_{1},Y_{2} \\right )}}\\\\0\\\\E_{1} E_{2} I_{1} M_{112} N_{121} + E_{1} I_{1}^{2} K_{111} M_{112}\\end{matrix}\\right]$$"
      ],
      "text/plain": [
       "⎡                                                      1                      \n",
       "⎢                                                                             \n",
       "⎢                              2                                    2         \n",
       "⎢2⋅E₁⋅E₂⋅I₁⋅J₁₁₁⋅N₁₂₁ + 2⋅E₁⋅I₁ ⋅J₁₁₁⋅K₁₁₁ + E₂⋅I₁⋅I₂⋅M₁₁₂⋅N₁₂₁ + I₁ ⋅I₂⋅K₁₁₁⋅\n",
       "⎢                                                                             \n",
       "⎢                                                                             \n",
       "⎢                                      2                         I₂           \n",
       "⎢                               2⋅E₂⋅I₂ ⋅J₂₂₂⋅K₂₂₂ - ─────────────────────────\n",
       "⎢                                                    f_{22}(F, X₁, X₂, Y₁, Y₂)\n",
       "⎢                                                                             \n",
       "⎢                                                      0                      \n",
       "⎢                                                                             \n",
       "⎢                                                              2              \n",
       "⎣                                    E₁⋅E₂⋅I₁⋅M₁₁₂⋅N₁₂₁ + E₁⋅I₁ ⋅K₁₁₁⋅M₁₁₂    \n",
       "\n",
       "                                ⎤\n",
       "                                ⎥\n",
       "                   I₁           ⎥\n",
       "M₁₁₂ - ─────────────────────────⎥\n",
       "       f_{11}(F, X₁, X₂, Y₁, Y₂)⎥\n",
       "                                ⎥\n",
       "                                ⎥\n",
       "                                ⎥\n",
       "                                ⎥\n",
       "                                ⎥\n",
       "                                ⎥\n",
       "                                ⎥\n",
       "                                ⎥\n",
       "                                ⎦"
      ]
     },
     "execution_count": 49,
     "metadata": {},
     "output_type": "execute_result"
    }
   ],
   "source": [
    "Matrix(CM_LD)"
   ]
  },
  {
   "cell_type": "markdown",
   "metadata": {},
   "source": [
    "<H3>Este es el jacobiano y el determinante del jacobiano de esa transformacion</H3>"
   ]
  },
  {
   "cell_type": "code",
   "execution_count": 50,
   "metadata": {
    "collapsed": true
   },
   "outputs": [],
   "source": [
    "Z0 = list(LD[0])\n",
    "Z0[0] = CM_LD"
   ]
  },
  {
   "cell_type": "code",
   "execution_count": 51,
   "metadata": {
    "collapsed": false
   },
   "outputs": [],
   "source": [
    "Ja = Matrix(LD[0]).jacobian(ZE)"
   ]
  },
  {
   "cell_type": "code",
   "execution_count": 52,
   "metadata": {
    "collapsed": true
   },
   "outputs": [],
   "source": [
    "DeJ = Ja.berkowitz_det()"
   ]
  },
  {
   "cell_type": "code",
   "execution_count": 53,
   "metadata": {
    "collapsed": false
   },
   "outputs": [],
   "source": [
    "for x in range(0,2*n+1):\n",
    "    DeJ = DeJ.subs([(diff(LD[0][0],ZE[x]),CM_LD[x])])\n"
   ]
  },
  {
   "cell_type": "code",
   "execution_count": 54,
   "metadata": {
    "collapsed": false
   },
   "outputs": [],
   "source": [
    "D_LD = []\n",
    "D_LD.append(DeJ)"
   ]
  },
  {
   "cell_type": "code",
   "execution_count": 55,
   "metadata": {
    "collapsed": false
   },
   "outputs": [
    {
     "data": {
      "text/latex": [
       "$$\\left[\\begin{matrix}\\frac{\\partial}{\\partial \\Phi} F{\\left (\\Phi,E_{1},E_{2},I_{1},I_{2} \\right )} & \\frac{\\partial}{\\partial E_{1}} F{\\left (\\Phi,E_{1},E_{2},I_{1},I_{2} \\right )} & \\frac{\\partial}{\\partial E_{2}} F{\\left (\\Phi,E_{1},E_{2},I_{1},I_{2} \\right )} & \\frac{\\partial}{\\partial I_{1}} F{\\left (\\Phi,E_{1},E_{2},I_{1},I_{2} \\right )} & \\frac{\\partial}{\\partial I_{2}} F{\\left (\\Phi,E_{1},E_{2},I_{1},I_{2} \\right )}\\\\0 & 2 E_{1} J_{111} + I_{2} M_{112} & 0 & 0 & E_{1} M_{112}\\\\0 & 0 & 2 E_{2} J_{222} & 0 & 0\\\\0 & 0 & I_{1} N_{121} & E_{2} N_{121} + 2 I_{1} K_{111} & 0\\\\0 & 0 & 0 & 0 & 2 I_{2} K_{222}\\end{matrix}\\right]$$"
      ],
      "text/plain": [
       "⎡  ∂                              ∂                             ∂             \n",
       "⎢─────(F(\\Phi, E₁, E₂, I₁, I₂))  ───(F(\\Phi, E₁, E₂, I₁, I₂))  ───(F(\\Phi, E₁,\n",
       "⎢∂\\Phi                           ∂E₁                           ∂E₂            \n",
       "⎢                                                                             \n",
       "⎢              0                     2⋅E₁⋅J₁₁₁ + I₂⋅M₁₁₂                    0 \n",
       "⎢                                                                             \n",
       "⎢              0                              0                         2⋅E₂⋅J\n",
       "⎢                                                                             \n",
       "⎢              0                              0                          I₁⋅N₁\n",
       "⎢                                                                             \n",
       "⎣              0                              0                             0 \n",
       "\n",
       "                ∂                             ∂                          ⎤\n",
       " E₂, I₁, I₂))  ───(F(\\Phi, E₁, E₂, I₁, I₂))  ───(F(\\Phi, E₁, E₂, I₁, I₂))⎥\n",
       "               ∂I₁                           ∂I₂                         ⎥\n",
       "                                                                         ⎥\n",
       "                            0                          E₁⋅M₁₁₂           ⎥\n",
       "                                                                         ⎥\n",
       "₂₂₂                         0                             0              ⎥\n",
       "                                                                         ⎥\n",
       "₂₁                 E₂⋅N₁₂₁ + 2⋅I₁⋅K₁₁₁                    0              ⎥\n",
       "                                                                         ⎥\n",
       "                            0                         2⋅I₂⋅K₂₂₂          ⎦"
      ]
     },
     "execution_count": 55,
     "metadata": {},
     "output_type": "execute_result"
    }
   ],
   "source": [
    "Ja"
   ]
  },
  {
   "cell_type": "code",
   "execution_count": 56,
   "metadata": {
    "collapsed": false
   },
   "outputs": [
    {
     "data": {
      "image/png": "[encoded data removed]",
      "text/latex": [
       "$$4 E_{2} I_{2} J_{222} K_{222} \\left(2 E_{1} J_{111} + I_{2} M_{112}\\right) \\left(E_{2} N_{121} + 2 I_{1} K_{111}\\right)$$"
      ],
      "text/plain": [
       "4⋅E₂⋅I₂⋅J₂₂₂⋅K₂₂₂⋅(2⋅E₁⋅J₁₁₁ + I₂⋅M₁₁₂)⋅(E₂⋅N₁₂₁ + 2⋅I₁⋅K₁₁₁)"
      ]
     },
     "execution_count": 56,
     "metadata": {},
     "output_type": "execute_result"
    }
   ],
   "source": [
    "simplify(DeJ)"
   ]
  },
  {
   "cell_type": "markdown",
   "metadata": {},
   "source": [
    "<H3>Para cada una de las soluciones calculamos: Las ecuaciones del difeomorfismo en S, Las ecuaciones del contatcto morfismo en H. Las condiciones de integrabilidad check_me</H3>"
   ]
  },
  {
   "cell_type": "code",
   "execution_count": 64,
   "metadata": {
    "collapsed": false,
    "scrolled": true
   },
   "outputs": [],
   "source": [
    "check_me = []\n",
    "difeo_eqs = []\n",
    "\n",
    "for i in range(0,len(LD)):\n",
    "    Z0 = LD[i]\n",
    "    h = h_LD[0]\n",
    "    f = f_LD[0]\n",
    "    H=[]\n",
    "    S = zeros(n)\n",
    "    H,S = difeomorphism_equations002(Z0,ZE,expand,f,h,0,2*n+1)\n",
    "    Z0[0] = ZE[0]\n",
    "    H1,S1 = difeomorphism_equations005(Z0,ZE,simplify,f,h,0,2*n+1)\n",
    "    \n",
    "    mixed_test = []\n",
    "    t3 = 0\n",
    "    t1 = t2 = 1\n",
    "    for x in range(0,2*n+1):\n",
    "        for y in range(x,2*n+1):\n",
    "            if x == y:\n",
    "                t1 = simplify(diff(H[x][1],ZE[y]))\n",
    "                t2 = simplify(diff(H[y][1],ZE[x]))\n",
    "                d1 = diff(H[x][0],ZE[y])\n",
    "                d2 = diff(H[y][0],ZE[x])\n",
    "                t3 = t3 + t1 + t2\n",
    "                mixed_test.append((t1,t2))\n",
    "    if t3 != 0:\n",
    "        difeo_eqs.append((S,H,Z0,D_LD[i],f))\n",
    "        check_me.append(mixed_test)\n",
    "    #,ZE[y],ZE[x],,ZE[x],ZE[y]"
   ]
  },
  {
   "cell_type": "code",
   "execution_count": 65,
   "metadata": {
    "collapsed": false
   },
   "outputs": [
    {
     "data": {
      "text/latex": [
       "$$\\left[\\begin{matrix}1 & - I_{1} \\left(2 E_{1} J_{111} + I_{2} M_{112}\\right) \\left(E_{2} N_{121} + I_{1} K_{111}\\right) \\operatorname{f_{11}}{\\left (F,X_{1},X_{2},Y_{1},Y_{2} \\right )} & - 2 E_{2} I_{2}^{2} J_{222} K_{222} \\operatorname{f_{22}}{\\left (F,X_{1},X_{2},Y_{1},Y_{2} \\right )} & 0 & - E_{1} I_{1} M_{112} \\left(E_{2} N_{121} + I_{1} K_{111}\\right) \\operatorname{f_{22}}{\\left (F,X_{1},X_{2},Y_{1},Y_{2} \\right )}\\\\- I_{1} \\left(2 E_{1} J_{111} + I_{2} M_{112}\\right) \\left(E_{2} N_{121} + I_{1} K_{111}\\right) \\operatorname{f_{11}}{\\left (F,X_{1},X_{2},Y_{1},Y_{2} \\right )} & I_{1}^{2} \\left(2 E_{1} J_{111} + I_{2} M_{112}\\right)^{2} \\left(E_{2} N_{121} + I_{1} K_{111}\\right)^{2} \\operatorname{f_{11}}^{2}{\\left (F,X_{1},X_{2},Y_{1},Y_{2} \\right )} & 2 E_{2} I_{1} I_{2}^{2} J_{222} K_{222} \\left(2 E_{1} J_{111} + I_{2} M_{112}\\right) \\left(E_{2} N_{121} + I_{1} K_{111}\\right) \\operatorname{f_{11}}{\\left (F,X_{1},X_{2},Y_{1},Y_{2} \\right )} \\operatorname{f_{22}}{\\left (F,X_{1},X_{2},Y_{1},Y_{2} \\right )} + \\frac{I_{1} N_{121}}{2} \\left(2 E_{1} J_{111} + I_{2} M_{112}\\right) & \\frac{1}{2} \\left(2 E_{1} J_{111} + I_{2} M_{112}\\right) \\left(E_{2} N_{121} + 2 I_{1} K_{111}\\right) & E_{1} I_{1}^{2} M_{112} \\left(2 E_{1} J_{111} + I_{2} M_{112}\\right) \\left(E_{2} N_{121} + I_{1} K_{111}\\right)^{2} \\operatorname{f_{11}}{\\left (F,X_{1},X_{2},Y_{1},Y_{2} \\right )} \\operatorname{f_{22}}{\\left (F,X_{1},X_{2},Y_{1},Y_{2} \\right )}\\\\- 2 E_{2} I_{2}^{2} J_{222} K_{222} \\operatorname{f_{22}}{\\left (F,X_{1},X_{2},Y_{1},Y_{2} \\right )} & 2 E_{2} I_{1} I_{2}^{2} J_{222} K_{222} \\left(2 E_{1} J_{111} + I_{2} M_{112}\\right) \\left(E_{2} N_{121} + I_{1} K_{111}\\right) \\operatorname{f_{11}}{\\left (F,X_{1},X_{2},Y_{1},Y_{2} \\right )} \\operatorname{f_{22}}{\\left (F,X_{1},X_{2},Y_{1},Y_{2} \\right )} + \\frac{I_{1} N_{121}}{2} \\left(2 E_{1} J_{111} + I_{2} M_{112}\\right) & 4 E_{2}^{2} I_{2}^{4} J_{222}^{2} K_{222}^{2} \\operatorname{f_{22}}^{2}{\\left (F,X_{1},X_{2},Y_{1},Y_{2} \\right )} & 0 & 2 E_{1} E_{2} I_{1} I_{2}^{2} J_{222} K_{222} M_{112} \\left(E_{2} N_{121} + I_{1} K_{111}\\right) \\operatorname{f_{22}}^{2}{\\left (F,X_{1},X_{2},Y_{1},Y_{2} \\right )} + \\frac{E_{1} I_{1}}{2} M_{112} N_{121} + 2 E_{2} I_{2} J_{222} K_{222}\\\\0 & \\frac{1}{2} \\left(2 E_{1} J_{111} + I_{2} M_{112}\\right) \\left(E_{2} N_{121} + 2 I_{1} K_{111}\\right) & 0 & 0 & \\frac{E_{1} M_{112}}{2} \\left(E_{2} N_{121} + 2 I_{1} K_{111}\\right)\\\\- E_{1} I_{1} M_{112} \\left(E_{2} N_{121} + I_{1} K_{111}\\right) \\operatorname{f_{22}}{\\left (F,X_{1},X_{2},Y_{1},Y_{2} \\right )} & E_{1} I_{1}^{2} M_{112} \\left(2 E_{1} J_{111} + I_{2} M_{112}\\right) \\left(E_{2} N_{121} + I_{1} K_{111}\\right)^{2} \\operatorname{f_{11}}{\\left (F,X_{1},X_{2},Y_{1},Y_{2} \\right )} \\operatorname{f_{22}}{\\left (F,X_{1},X_{2},Y_{1},Y_{2} \\right )} & 2 E_{1} E_{2} I_{1} I_{2}^{2} J_{222} K_{222} M_{112} \\left(E_{2} N_{121} + I_{1} K_{111}\\right) \\operatorname{f_{22}}^{2}{\\left (F,X_{1},X_{2},Y_{1},Y_{2} \\right )} + \\frac{E_{1} I_{1}}{2} M_{112} N_{121} + 2 E_{2} I_{2} J_{222} K_{222} & \\frac{E_{1} M_{112}}{2} \\left(E_{2} N_{121} + 2 I_{1} K_{111}\\right) & E_{1}^{2} I_{1}^{2} M_{112}^{2} \\left(E_{2} N_{121} + I_{1} K_{111}\\right)^{2} \\operatorname{f_{22}}^{2}{\\left (F,X_{1},X_{2},Y_{1},Y_{2} \\right )}\\end{matrix}\\right]$$"
      ],
      "text/plain": [
       "⎡                                                                             \n",
       "⎢                                   1                                         \n",
       "⎢                                                                             \n",
       "⎢                                                                             \n",
       "⎢-I₁⋅(2⋅E₁⋅J₁₁₁ + I₂⋅M₁₁₂)⋅(E₂⋅N₁₂₁ + I₁⋅K₁₁₁)⋅f_{11}(F, X₁, X₂, Y₁, Y₂)      \n",
       "⎢                                                                             \n",
       "⎢                                                                             \n",
       "⎢                     2                                                       \n",
       "⎢             -2⋅E₂⋅I₂ ⋅J₂₂₂⋅K₂₂₂⋅f_{22}(F, X₁, X₂, Y₁, Y₂)               2⋅E₂\n",
       "⎢                                                                             \n",
       "⎢                                                                             \n",
       "⎢                                                                             \n",
       "⎢                                   0                                         \n",
       "⎢                                                                             \n",
       "⎢                                                                             \n",
       "⎢                                                                             \n",
       "⎢       -E₁⋅I₁⋅M₁₁₂⋅(E₂⋅N₁₂₁ + I₁⋅K₁₁₁)⋅f_{22}(F, X₁, X₂, Y₁, Y₂)             \n",
       "⎣                                                                             \n",
       "\n",
       "                                                                              \n",
       "                                  -I₁⋅(2⋅E₁⋅J₁₁₁ + I₂⋅M₁₁₂)⋅(E₂⋅N₁₂₁ + I₁⋅K₁₁₁\n",
       "                                                                              \n",
       "                                  2                      2                    \n",
       "                                I₁ ⋅(2⋅E₁⋅J₁₁₁ + I₂⋅M₁₁₂) ⋅(E₂⋅N₁₂₁ + I₁⋅K₁₁₁)\n",
       "                                                                              \n",
       "                                                                              \n",
       "      2                                                                       \n",
       "⋅I₁⋅I₂ ⋅J₂₂₂⋅K₂₂₂⋅(2⋅E₁⋅J₁₁₁ + I₂⋅M₁₁₂)⋅(E₂⋅N₁₂₁ + I₁⋅K₁₁₁)⋅f_{11}(F, X₁, X₂, \n",
       "                                                                              \n",
       "                                                                              \n",
       "                                                (2⋅E₁⋅J₁₁₁ + I₂⋅M₁₁₂)⋅(E₂⋅N₁₂₁\n",
       "                                                ──────────────────────────────\n",
       "                                                                     2        \n",
       "                                                                              \n",
       "                     2                                               2        \n",
       "                E₁⋅I₁ ⋅M₁₁₂⋅(2⋅E₁⋅J₁₁₁ + I₂⋅M₁₁₂)⋅(E₂⋅N₁₂₁ + I₁⋅K₁₁₁) ⋅f_{11}(\n",
       "                                                                              \n",
       "\n",
       "                                                                              \n",
       ")⋅f_{11}(F, X₁, X₂, Y₁, Y₂)                                                   \n",
       "                                                                              \n",
       "2       2                                                                    2\n",
       " ⋅f_{11} (F, X₁, X₂, Y₁, Y₂)                                       2⋅E₂⋅I₁⋅I₂ \n",
       "                                                                              \n",
       "                                                                              \n",
       "                                    I₁⋅N₁₂₁⋅(2⋅E₁⋅J₁₁₁ + I₂⋅M₁₁₂)             \n",
       "Y₁, Y₂)⋅f_{22}(F, X₁, X₂, Y₁, Y₂) + ─────────────────────────────             \n",
       "                                                  2                           \n",
       "                                                                              \n",
       " + 2⋅I₁⋅K₁₁₁)                                                                 \n",
       "─────────────                                                                 \n",
       "                                                                              \n",
       "                                                                              \n",
       "                                                                              \n",
       "F, X₁, X₂, Y₁, Y₂)⋅f_{22}(F, X₁, X₂, Y₁, Y₂)                                  \n",
       "                                                                              \n",
       "\n",
       "                                                2                             \n",
       "                                        -2⋅E₂⋅I₂ ⋅J₂₂₂⋅K₂₂₂⋅f_{22}(F, X₁, X₂, \n",
       "                                                                              \n",
       "                                                                              \n",
       "⋅J₂₂₂⋅K₂₂₂⋅(2⋅E₁⋅J₁₁₁ + I₂⋅M₁₁₂)⋅(E₂⋅N₁₂₁ + I₁⋅K₁₁₁)⋅f_{11}(F, X₁, X₂, Y₁, Y₂)\n",
       "                                                                              \n",
       "                                                                              \n",
       "                                          2   4     2     2       2           \n",
       "                                      4⋅E₂ ⋅I₂ ⋅J₂₂₂ ⋅K₂₂₂ ⋅f_{22} (F, X₁, X₂,\n",
       "                                                                              \n",
       "                                                                              \n",
       "                                                                              \n",
       "                                                              0               \n",
       "                                                                              \n",
       "                                                                              \n",
       "                  2                                          2                \n",
       "     2⋅E₁⋅E₂⋅I₁⋅I₂ ⋅J₂₂₂⋅K₂₂₂⋅M₁₁₂⋅(E₂⋅N₁₂₁ + I₁⋅K₁₁₁)⋅f_{22} (F, X₁, X₂, Y₁, \n",
       "                                                                              \n",
       "\n",
       "                                                                              \n",
       "Y₁, Y₂)                                                                       \n",
       "                                                                              \n",
       "                             I₁⋅N₁₂₁⋅(2⋅E₁⋅J₁₁₁ + I₂⋅M₁₁₂)  (2⋅E₁⋅J₁₁₁ + I₂⋅M₁\n",
       "⋅f_{22}(F, X₁, X₂, Y₁, Y₂) + ─────────────────────────────  ──────────────────\n",
       "                                           2                                  \n",
       "                                                                              \n",
       "                                                                              \n",
       " Y₁, Y₂)                                                                      \n",
       "                                                                              \n",
       "                                                                              \n",
       "                                                                              \n",
       "                                                                              \n",
       "                                                                              \n",
       "                                                                              \n",
       "      E₁⋅I₁⋅M₁₁₂⋅N₁₂₁                                              E₁⋅M₁₁₂⋅(E₂\n",
       "Y₂) + ─────────────── + 2⋅E₂⋅I₂⋅J₂₂₂⋅K₂₂₂                          ───────────\n",
       "             2                                                                \n",
       "\n",
       "                                                                              \n",
       "   0                                                   -E₁⋅I₁⋅M₁₁₂⋅(E₂⋅N₁₂₁ + \n",
       "                                                                              \n",
       "₁₂)⋅(E₂⋅N₁₂₁ + 2⋅I₁⋅K₁₁₁)           2                                         \n",
       "─────────────────────────      E₁⋅I₁ ⋅M₁₁₂⋅(2⋅E₁⋅J₁₁₁ + I₂⋅M₁₁₂)⋅(E₂⋅N₁₂₁ + I₁\n",
       "   2                                                                          \n",
       "                                                                              \n",
       "                                        2                                     \n",
       "   0                       2⋅E₁⋅E₂⋅I₁⋅I₂ ⋅J₂₂₂⋅K₂₂₂⋅M₁₁₂⋅(E₂⋅N₁₂₁ + I₁⋅K₁₁₁)⋅f\n",
       "                                                                              \n",
       "                                                                              \n",
       "                                                                     E₁⋅M₁₁₂⋅(\n",
       "   0                                                                 ─────────\n",
       "                                                                              \n",
       "                                                                              \n",
       "⋅N₁₂₁ + 2⋅I₁⋅K₁₁₁)                                     2   2     2            \n",
       "──────────────────                                   E₁ ⋅I₁ ⋅M₁₁₂ ⋅(E₂⋅N₁₂₁ + \n",
       "   2                                                                          \n",
       "\n",
       "                                                               ⎤\n",
       "I₁⋅K₁₁₁)⋅f_{22}(F, X₁, X₂, Y₁, Y₂)                             ⎥\n",
       "                                                               ⎥\n",
       "      2                                                        ⎥\n",
       "⋅K₁₁₁) ⋅f_{11}(F, X₁, X₂, Y₁, Y₂)⋅f_{22}(F, X₁, X₂, Y₁, Y₂)    ⎥\n",
       "                                                               ⎥\n",
       "                                                               ⎥\n",
       "     2                      E₁⋅I₁⋅M₁₁₂⋅N₁₂₁                    ⎥\n",
       "_{22} (F, X₁, X₂, Y₁, Y₂) + ─────────────── + 2⋅E₂⋅I₂⋅J₂₂₂⋅K₂₂₂⎥\n",
       "                                   2                           ⎥\n",
       "                                                               ⎥\n",
       "E₂⋅N₁₂₁ + 2⋅I₁⋅K₁₁₁)                                           ⎥\n",
       "────────────────────                                           ⎥\n",
       "     2                                                         ⎥\n",
       "                                                               ⎥\n",
       "        2       2                                              ⎥\n",
       "I₁⋅K₁₁₁) ⋅f_{22} (F, X₁, X₂, Y₁, Y₂)                           ⎥\n",
       "                                                               ⎦"
      ]
     },
     "execution_count": 65,
     "metadata": {},
     "output_type": "execute_result"
    }
   ],
   "source": [
    "H1+S1"
   ]
  },
  {
   "cell_type": "code",
   "execution_count": 59,
   "metadata": {
    "collapsed": false
   },
   "outputs": [
    {
     "data": {
      "image/png": "[encoded data removed]",
      "text/latex": [
       "$$1$$"
      ],
      "text/plain": [
       "1"
      ]
     },
     "execution_count": 59,
     "metadata": {},
     "output_type": "execute_result"
    }
   ],
   "source": [
    "len(difeo_eqs)"
   ]
  },
  {
   "cell_type": "markdown",
   "metadata": {},
   "source": [
    "<H3>Estas son las condiciones de integrabilidad</H3>"
   ]
  },
  {
   "cell_type": "code",
   "execution_count": 60,
   "metadata": {
    "collapsed": false
   },
   "outputs": [
    {
     "data": {
      "text/latex": [
       "$$\\left[\\begin{matrix}0 & 0\\\\2 I_{1} J_{111} \\left(E_{2} N_{121} + I_{1} K_{111}\\right) & 2 I_{1} J_{111} \\left(E_{2} N_{121} + I_{1} K_{111}\\right)\\\\2 I_{2}^{2} J_{222} K_{222} & 2 I_{2}^{2} J_{222} K_{222}\\\\0 & 0\\\\0 & 0\\end{matrix}\\right]$$"
      ],
      "text/plain": [
       "⎡              0                              0              ⎤\n",
       "⎢                                                            ⎥\n",
       "⎢2⋅I₁⋅J₁₁₁⋅(E₂⋅N₁₂₁ + I₁⋅K₁₁₁)  2⋅I₁⋅J₁₁₁⋅(E₂⋅N₁₂₁ + I₁⋅K₁₁₁)⎥\n",
       "⎢                                                            ⎥\n",
       "⎢           2                              2                 ⎥\n",
       "⎢       2⋅I₂ ⋅J₂₂₂⋅K₂₂₂                2⋅I₂ ⋅J₂₂₂⋅K₂₂₂       ⎥\n",
       "⎢                                                            ⎥\n",
       "⎢              0                              0              ⎥\n",
       "⎢                                                            ⎥\n",
       "⎣              0                              0              ⎦"
      ]
     },
     "execution_count": 60,
     "metadata": {},
     "output_type": "execute_result"
    }
   ],
   "source": [
    "Matrix(check_me[0])"
   ]
  },
  {
   "cell_type": "markdown",
   "metadata": {},
   "source": [
    "<H3>Estos son los contactomorfismos</H3>"
   ]
  },
  {
   "cell_type": "code",
   "execution_count": 61,
   "metadata": {
    "collapsed": false
   },
   "outputs": [
    {
     "data": {
      "text/latex": [
       "$$\\left[\\begin{matrix}\\frac{\\partial}{\\partial \\Phi} F{\\left (\\Phi,E_{1},E_{2},I_{1},I_{2} \\right )} & 1 & \\Phi\\\\\\frac{\\partial}{\\partial E_{1}} F{\\left (\\Phi,E_{1},E_{2},I_{1},I_{2} \\right )} & - \\frac{I_{1}}{\\operatorname{f_{11}}{\\left (F,X_{1},X_{2},Y_{1},Y_{2} \\right )}} + \\left(2 E_{1} J_{111} + I_{2} M_{112}\\right) \\left(E_{2} I_{1} N_{121} + I_{1}^{2} K_{111}\\right) & E_{1}^{2} E_{2} I_{1} J_{111} N_{121} + E_{1}^{2} I_{1}^{2} J_{111} K_{111} + E_{1} E_{2} I_{1} I_{2} M_{112} N_{121} + E_{1} I_{1}^{2} I_{2} K_{111} M_{112} - \\frac{E_{1} I_{1}}{\\operatorname{f_{11}}{\\left (F,X_{1},X_{2},Y_{1},Y_{2} \\right )}}\\\\\\frac{\\partial}{\\partial E_{2}} F{\\left (\\Phi,E_{1},E_{2},I_{1},I_{2} \\right )} & 2 E_{2} I_{2}^{2} J_{222} K_{222} - \\frac{I_{2}}{\\operatorname{f_{22}}{\\left (F,X_{1},X_{2},Y_{1},Y_{2} \\right )}} & E_{2}^{2} I_{2}^{2} J_{222} K_{222} - \\frac{E_{2} I_{2}}{\\operatorname{f_{22}}{\\left (F,X_{1},X_{2},Y_{1},Y_{2} \\right )}}\\\\\\frac{\\partial}{\\partial I_{1}} F{\\left (\\Phi,E_{1},E_{2},I_{1},I_{2} \\right )} & 0 & 0\\\\\\frac{\\partial}{\\partial I_{2}} F{\\left (\\Phi,E_{1},E_{2},I_{1},I_{2} \\right )} & E_{1} M_{112} \\left(E_{2} I_{1} N_{121} + I_{1}^{2} K_{111}\\right) & E_{1} E_{2} I_{1} I_{2} M_{112} N_{121} + E_{1} I_{1}^{2} I_{2} K_{111} M_{112}\\end{matrix}\\right]$$"
      ],
      "text/plain": [
       "⎡  ∂                                                                          \n",
       "⎢─────(F(\\Phi, E₁, E₂, I₁, I₂))                                       1       \n",
       "⎢∂\\Phi                                                                        \n",
       "⎢                                                                             \n",
       "⎢  ∂                                           I₁                             \n",
       "⎢ ───(F(\\Phi, E₁, E₂, I₁, I₂))   - ───────────────────────── + (2⋅E₁⋅J₁₁₁ + I₂\n",
       "⎢ ∂E₁                              f_{11}(F, X₁, X₂, Y₁, Y₂)                  \n",
       "⎢                                                                             \n",
       "⎢  ∂                                                  2                       \n",
       "⎢ ───(F(\\Phi, E₁, E₂, I₁, I₂))                 2⋅E₂⋅I₂ ⋅J₂₂₂⋅K₂₂₂ - ──────────\n",
       "⎢ ∂E₂                                                               f_{22}(F, \n",
       "⎢                                                                             \n",
       "⎢  ∂                                                                          \n",
       "⎢ ───(F(\\Phi, E₁, E₂, I₁, I₂))                                        0       \n",
       "⎢ ∂I₁                                                                         \n",
       "⎢                                                                             \n",
       "⎢  ∂                                                           ⎛              \n",
       "⎢ ───(F(\\Phi, E₁, E₂, I₁, I₂))                         E₁⋅M₁₁₂⋅⎝E₂⋅I₁⋅N₁₂₁ + I\n",
       "⎣ ∂I₂                                                                         \n",
       "\n",
       "                                                                              \n",
       "                                                                              \n",
       "                                                                              \n",
       "                                                                              \n",
       "       ⎛               2     ⎞    2                     2   2                 \n",
       "⋅M₁₁₂)⋅⎝E₂⋅I₁⋅N₁₂₁ + I₁ ⋅K₁₁₁⎠  E₁ ⋅E₂⋅I₁⋅J₁₁₁⋅N₁₂₁ + E₁ ⋅I₁ ⋅J₁₁₁⋅K₁₁₁ + E₁⋅E\n",
       "                                                                              \n",
       "                                                                              \n",
       "  I₂                                                                2   2     \n",
       "───────────────                                                   E₂ ⋅I₂ ⋅J₂₂₂\n",
       "X₁, X₂, Y₁, Y₂)                                                               \n",
       "                                                                              \n",
       "                                                                              \n",
       "                                                                              \n",
       "                                                                              \n",
       "                                                                              \n",
       " 2     ⎞                                                                      \n",
       "₁ ⋅K₁₁₁⎠                                                           E₁⋅E₂⋅I₁⋅I₂\n",
       "                                                                              \n",
       "\n",
       "                                                                   ⎤\n",
       "        \\Phi                                                       ⎥\n",
       "                                                                   ⎥\n",
       "                                                                   ⎥\n",
       "                         2                          E₁⋅I₁          ⎥\n",
       "₂⋅I₁⋅I₂⋅M₁₁₂⋅N₁₂₁ + E₁⋅I₁ ⋅I₂⋅K₁₁₁⋅M₁₁₂ - ─────────────────────────⎥\n",
       "                                          f_{11}(F, X₁, X₂, Y₁, Y₂)⎥\n",
       "                                                                   ⎥\n",
       "                  E₂⋅I₂                                            ⎥\n",
       "⋅K₂₂₂ - ─────────────────────────                                  ⎥\n",
       "        f_{22}(F, X₁, X₂, Y₁, Y₂)                                  ⎥\n",
       "                                                                   ⎥\n",
       "                                                                   ⎥\n",
       "          0                                                        ⎥\n",
       "                                                                   ⎥\n",
       "                                                                   ⎥\n",
       "                  2                                                ⎥\n",
       "⋅M₁₁₂⋅N₁₂₁ + E₁⋅I₁ ⋅I₂⋅K₁₁₁⋅M₁₁₂                                   ⎥\n",
       "                                                                   ⎦"
      ]
     },
     "execution_count": 61,
     "metadata": {},
     "output_type": "execute_result"
    }
   ],
   "source": [
    "contacto = []\n",
    "for x in difeo_eqs:\n",
    "    contacto.append(x[1])\n",
    "Matrix(contacto[0])"
   ]
  },
  {
   "cell_type": "markdown",
   "metadata": {},
   "source": [
    "<H3>Estos son las ecuaciones del difeomorfismo</H3>\n"
   ]
  },
  {
   "cell_type": "code",
   "execution_count": 62,
   "metadata": {
    "collapsed": false
   },
   "outputs": [
    {
     "data": {
      "text/latex": [
       "$$\\left [ \\left[\\begin{matrix}0 & 0 & 0 & 0 & 0\\\\0 & 0 & 2 E_{1} I_{1} J_{111} N_{121} + I_{1} I_{2} M_{112} N_{121} & E_{1} E_{2} J_{111} N_{121} + 2 E_{1} I_{1} J_{111} K_{111} + \\frac{E_{2} I_{2}}{2} M_{112} N_{121} + I_{1} I_{2} K_{111} M_{112} - \\operatorname{h_{11}}{\\left (\\Phi,E_{1},E_{2},I_{1},I_{2} \\right )} & 0\\\\0 & 0 & 0 & 0 & \\frac{E_{1} I_{1}}{2} M_{112} N_{121} + 2 E_{2} I_{2} J_{222} K_{222} - \\operatorname{h_{22}}{\\left (\\Phi,E_{1},E_{2},I_{1},I_{2} \\right )}\\\\0 & 0 & 0 & 0 & 0\\\\0 & 0 & 0 & 0 & 0\\end{matrix}\\right]\\right ]$$"
      ],
      "text/plain": [
       "⎡⎡0  0                   0                                                    \n",
       "⎢⎢                                                                            \n",
       "⎢⎢                                                                            \n",
       "⎢⎢0  0  2⋅E₁⋅I₁⋅J₁₁₁⋅N₁₂₁ + I₁⋅I₂⋅M₁₁₂⋅N₁₂₁  E₁⋅E₂⋅J₁₁₁⋅N₁₂₁ + 2⋅E₁⋅I₁⋅J₁₁₁⋅K₁\n",
       "⎢⎢                                                                            \n",
       "⎢⎢                                                                            \n",
       "⎢⎢                                                                            \n",
       "⎢⎢0  0                   0                                                    \n",
       "⎢⎢                                                                            \n",
       "⎢⎢                                                                            \n",
       "⎢⎢0  0                   0                                                    \n",
       "⎢⎢                                                                            \n",
       "⎣⎣0  0                   0                                                    \n",
       "\n",
       "                 0                                                            \n",
       "                                                                              \n",
       "     E₂⋅I₂⋅M₁₁₂⋅N₁₂₁                                                          \n",
       "₁₁ + ─────────────── + I₁⋅I₂⋅K₁₁₁⋅M₁₁₂ - h_{11}(\\Phi, E₁, E₂, I₁, I₂)         \n",
       "            2                                                                 \n",
       "                                                                              \n",
       "                                                                       E₁⋅I₁⋅M\n",
       "                 0                                                     ───────\n",
       "                                                                              \n",
       "                                                                              \n",
       "                 0                                                            \n",
       "                                                                              \n",
       "                 0                                                            \n",
       "\n",
       "                         0                                 ⎤⎤\n",
       "                                                           ⎥⎥\n",
       "                                                           ⎥⎥\n",
       "                         0                                 ⎥⎥\n",
       "                                                           ⎥⎥\n",
       "                                                           ⎥⎥\n",
       "₁₁₂⋅N₁₂₁                                                   ⎥⎥\n",
       "──────── + 2⋅E₂⋅I₂⋅J₂₂₂⋅K₂₂₂ - h_{22}(\\Phi, E₁, E₂, I₁, I₂)⎥⎥\n",
       "2                                                          ⎥⎥\n",
       "                                                           ⎥⎥\n",
       "                         0                                 ⎥⎥\n",
       "                                                           ⎥⎥\n",
       "                         0                                 ⎦⎦"
      ]
     },
     "execution_count": 62,
     "metadata": {},
     "output_type": "execute_result"
    }
   ],
   "source": [
    "eqs_difeo = []\n",
    "for x in difeo_eqs:\n",
    "    eqs_difeo.append(x[0])\n",
    "eqs_difeo"
   ]
  },
  {
   "cell_type": "markdown",
   "metadata": {
    "collapsed": true
   },
   "source": [
    "<H3>Estos son los difeomorfismos</H3>"
   ]
  },
  {
   "cell_type": "code",
   "execution_count": null,
   "metadata": {
    "collapsed": false
   },
   "outputs": [],
   "source": [
    "difeo = []\n",
    "for x in difeo_eqs:\n",
    "    difeo.append(x[2])\n",
    "Matrix(difeo)"
   ]
  },
  {
   "cell_type": "markdown",
   "metadata": {},
   "source": [
    "<H3>Estas son los determinantes</H3>"
   ]
  },
  {
   "cell_type": "code",
   "execution_count": null,
   "metadata": {
    "collapsed": false
   },
   "outputs": [],
   "source": [
    "dets = []\n",
    "for x in difeo_eqs:\n",
    "    dets.append(simplify(x[3]))\n",
    "dets"
   ]
  },
  {
   "cell_type": "code",
   "execution_count": null,
   "metadata": {
    "collapsed": false
   },
   "outputs": [],
   "source": [
    "tabix = 0\n",
    "for x in range(0,len(difeo),100):\n",
    "    ini = x + tabix\n",
    "    fin = x + 100 + tabix\n",
    "    if fin >= len(difeo):\n",
    "        fin = len(difeo)\n",
    "    send_DH_to_latex(difeo[ini:fin],dets[ini:fin],check_me[ini:fin],eqs_difeo[ini:fin],ZX,ini,str(tabix)+'cuadraticos_MN2'+'.tex')\n",
    "    tabix = tabix + 1"
   ]
  },
  {
   "cell_type": "code",
   "execution_count": null,
   "metadata": {
    "collapsed": true
   },
   "outputs": [],
   "source": []
  }
 ],
 "metadata": {
  "kernelspec": {
   "display_name": "Python 3",
   "language": "python",
   "name": "python3"
  },
  "language_info": {
   "codemirror_mode": {
    "name": "ipython",
    "version": 3
   },
   "file_extension": ".py",
   "mimetype": "text/x-python",
   "name": "python",
   "nbconvert_exporter": "python",
   "pygments_lexer": "ipython3",
   "version": "3.5.1"
  }
 },
 "nbformat": 4,
 "nbformat_minor": 0
}
