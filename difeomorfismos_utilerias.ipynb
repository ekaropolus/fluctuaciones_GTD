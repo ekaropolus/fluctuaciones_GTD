{
 "cells": [
  {
   "cell_type": "code",
   "execution_count": 1,
   "metadata": {
    "collapsed": false
   },
   "outputs": [],
   "source": [
    "from difeomorfismos_solvers import *\n",
    "from difeomorfismo import *\n",
    "init_printing()"
   ]
  },
  {
   "cell_type": "code",
   "execution_count": 2,
   "metadata": {
    "collapsed": false
   },
   "outputs": [],
   "source": [
    "n=1"
   ]
  },
  {
   "cell_type": "code",
   "execution_count": 3,
   "metadata": {
    "collapsed": false
   },
   "outputs": [],
   "source": [
    "ZE, ZX = set_coordinates(n)\n",
    "#ZE, ZX"
   ]
  },
  {
   "cell_type": "code",
   "execution_count": 4,
   "metadata": {
    "collapsed": false
   },
   "outputs": [],
   "source": [
    "A,c1=set_constants_a(n,'A',1)\n",
    "D,c2=set_constants_a(n,'D',1)\n",
    "B,c3=set_constants_axb(n,n,'B',1)\n",
    "G,c4=set_constants_axb(n,n,'G',1)\n",
    "C,c5=set_constants_axb(n,n,'C',1)\n",
    "H,c6=set_constants_axb(n,n,'H',1)\n",
    "M,c7=set_constants_axbxc(n,n,n,'M',1)\n",
    "N,c8=set_constants_axbxc(n,n,n,'N',1)"
   ]
  },
  {
   "cell_type": "code",
   "execution_count": 5,
   "metadata": {
    "collapsed": false,
    "scrolled": true
   },
   "outputs": [],
   "source": [
    "EQ,PM = mixed_solution00(A,B,C,D,G,H,M,N,n)\n",
    "EQ = list(filter(lambda a: a != 0, EQ))\n",
    "#Matrix(EQ)"
   ]
  },
  {
   "cell_type": "code",
   "execution_count": 6,
   "metadata": {
    "collapsed": false
   },
   "outputs": [],
   "source": [
    "h_LD=[]\n",
    "f_LD=[]\n",
    "EQ_LD = []\n",
    "f,h,EQgtd = matrix_gtdiemixed00(B,C,H,G,M,N,ZE)\n",
    "#LEQ =[a-b for a,b in zip(*EQgtd)]\n",
    "#EQ = EQ + EQgtd[0]\n",
    "EQ = list(filter(lambda a: a != 0, EQ))\n",
    "h_LD.append(h)\n",
    "f_LD.append(f)\n",
    "EQ_LD.append(EQ)\n",
    "#Matrix(EQ_LD[0])"
   ]
  },
  {
   "cell_type": "code",
   "execution_count": 7,
   "metadata": {
    "collapsed": false
   },
   "outputs": [
    {
     "data": {
      "image/png": "[encoded data removed]",
      "text/latex": [
       "$$\\left [ B_{11} H_{11} + C_{11} G_{11}, \\quad B_{11} N_{111}, \\quad H_{11} M_{111}, \\quad M_{111} N_{111} - 1\\right ]$$"
      ],
      "text/plain": [
       "[B₁₁⋅H₁₁ + C₁₁⋅G₁₁, B₁₁⋅N₁₁₁, H₁₁⋅M₁₁₁, M₁₁₁⋅N₁₁₁ - 1]"
      ]
     },
     "execution_count": 7,
     "metadata": {},
     "output_type": "execute_result"
    }
   ],
   "source": [
    "EQgtd[0]"
   ]
  },
  {
   "cell_type": "code",
   "execution_count": 8,
   "metadata": {
    "collapsed": false,
    "scrolled": true
   },
   "outputs": [],
   "source": [
    "subsi = []\n",
    "EQ = EQ_LD[0]\n",
    "tabix = 0\n",
    "for x in EQ_LD[0]:\n",
    "    rabix = 0\n",
    "    for y in EQ:\n",
    "        if tabix != rabix: \n",
    "            TP = y.subs([(x,0)])\n",
    "            subsi.append(TP)\n",
    "        else:\n",
    "            subsi.append(y)\n",
    "        rabix = rabix + 1\n",
    "    EQ = subsi\n",
    "    subsi = []\n",
    "    tabix = tabix + 1\n",
    "\n",
    "\n"
   ]
  },
  {
   "cell_type": "code",
   "execution_count": 9,
   "metadata": {
    "collapsed": false
   },
   "outputs": [
    {
     "data": {
      "text/latex": [
       "$$\\left ( \\left[\\begin{matrix}A_{1} D_{1}\\\\A_{1} G_{11}\\\\A_{1} H_{11}\\\\A_{1} N_{111}\\\\B_{11} G_{11}\\\\G_{11} M_{111}\\\\C_{11} H_{11}\\\\C_{11} N_{111}\\end{matrix}\\right], \\quad \\left[\\begin{matrix}A_{1} D_{1}\\\\A_{1} G_{11}\\\\A_{1} H_{11}\\\\A_{1} N_{111}\\\\B_{11} G_{11}\\\\G_{11} M_{111}\\\\C_{11} H_{11}\\\\C_{11} N_{111}\\end{matrix}\\right]\\right )$$"
      ],
      "text/plain": [
       "⎛⎡ A₁⋅D₁  ⎤, ⎡ A₁⋅D₁  ⎤⎞\n",
       "⎜⎢        ⎥  ⎢        ⎥⎟\n",
       "⎜⎢ A₁⋅G₁₁ ⎥  ⎢ A₁⋅G₁₁ ⎥⎟\n",
       "⎜⎢        ⎥  ⎢        ⎥⎟\n",
       "⎜⎢ A₁⋅H₁₁ ⎥  ⎢ A₁⋅H₁₁ ⎥⎟\n",
       "⎜⎢        ⎥  ⎢        ⎥⎟\n",
       "⎜⎢A₁⋅N₁₁₁ ⎥  ⎢A₁⋅N₁₁₁ ⎥⎟\n",
       "⎜⎢        ⎥  ⎢        ⎥⎟\n",
       "⎜⎢B₁₁⋅G₁₁ ⎥  ⎢B₁₁⋅G₁₁ ⎥⎟\n",
       "⎜⎢        ⎥  ⎢        ⎥⎟\n",
       "⎜⎢G₁₁⋅M₁₁₁⎥  ⎢G₁₁⋅M₁₁₁⎥⎟\n",
       "⎜⎢        ⎥  ⎢        ⎥⎟\n",
       "⎜⎢C₁₁⋅H₁₁ ⎥  ⎢C₁₁⋅H₁₁ ⎥⎟\n",
       "⎜⎢        ⎥  ⎢        ⎥⎟\n",
       "⎝⎣C₁₁⋅N₁₁₁⎦  ⎣C₁₁⋅N₁₁₁⎦⎠"
      ]
     },
     "execution_count": 9,
     "metadata": {},
     "output_type": "execute_result"
    }
   ],
   "source": [
    "Matrix(EQ),Matrix(EQ_LD[0])"
   ]
  },
  {
   "cell_type": "code",
   "execution_count": 10,
   "metadata": {
    "collapsed": true
   },
   "outputs": [],
   "source": [
    "EQ = list(filter(lambda a: a != 0, EQ))\n",
    "EQ_LD[0] = EQ "
   ]
  },
  {
   "cell_type": "code",
   "execution_count": 11,
   "metadata": {
    "collapsed": false
   },
   "outputs": [],
   "source": [
    "c = c1 + c2 + c3 + c4 + c5 +c6+c7+c8\n",
    "c = list(filter(lambda a: a != 0, c))\n",
    "#len(c),c"
   ]
  },
  {
   "cell_type": "code",
   "execution_count": 12,
   "metadata": {
    "collapsed": false
   },
   "outputs": [],
   "source": [
    "LD = []\n",
    "L0 = mixed_difeomorphism00(A,B,C,D,G,H,M,N,n,ZX,ZE)\n",
    "LD.append(L0)\n",
    "#Matrix(LD[0])"
   ]
  },
  {
   "cell_type": "code",
   "execution_count": 13,
   "metadata": {
    "collapsed": false
   },
   "outputs": [
    {
     "data": {
      "text/latex": [
       "$$\\left [ \\left[\\begin{matrix}B_{11} H_{11} + B_{11} I_{1} N_{111} + C_{11} G_{11} + E_{1} H_{11} M_{111} + E_{1} I_{1} M_{111} N_{111}\\end{matrix}\\right]\\right ]$$"
      ],
      "text/plain": [
       "[[B₁₁⋅H₁₁ + B₁₁⋅I₁⋅N₁₁₁ + C₁₁⋅G₁₁ + E₁⋅H₁₁⋅M₁₁₁ + E₁⋅I₁⋅M₁₁₁⋅N₁₁₁]]"
      ]
     },
     "execution_count": 13,
     "metadata": {},
     "output_type": "execute_result"
    }
   ],
   "source": [
    "h_LD"
   ]
  },
  {
   "cell_type": "markdown",
   "metadata": {},
   "source": [
    "# Iterar"
   ]
  },
  {
   "cell_type": "code",
   "execution_count": 41,
   "metadata": {
    "collapsed": false
   },
   "outputs": [],
   "source": [
    "all_solutions = []\n",
    "for x in EQ_LD[0]:\n",
    "    fs = list(x.free_symbols)\n",
    "    fs = list(powerset(fs))\n",
    "    for y in fs:\n",
    "        sol = solve(x,dict=True,exclude=y)\n",
    "        if sol not in all_solutions:\n",
    "            all_solutions.append(sol) if sol != [] else 0"
   ]
  },
  {
   "cell_type": "code",
   "execution_count": 43,
   "metadata": {
    "collapsed": true
   },
   "outputs": [],
   "source": [
    "all_solutions = []\n",
    "for x in EQ_LD[0]:\n",
    "    sol = solve(x)\n",
    "    if sol != []: all_solutions.append(sol)"
   ]
  },
  {
   "cell_type": "code",
   "execution_count": 44,
   "metadata": {
    "collapsed": false,
    "scrolled": true
   },
   "outputs": [
    {
     "data": {
      "image/png": "[encoded data removed]",
      "text/latex": [
       "$$256$$"
      ],
      "text/plain": [
       "256"
      ]
     },
     "execution_count": 44,
     "metadata": {},
     "output_type": "execute_result"
    }
   ],
   "source": [
    "s = product(*all_solutions)\n",
    "s = list(s)\n",
    "len(s)\n"
   ]
  },
  {
   "cell_type": "code",
   "execution_count": 35,
   "metadata": {
    "collapsed": false
   },
   "outputs": [],
   "source": [
    "s_LD = []\n",
    "for x in s:\n",
    "    z = merge_dicts(*x)\n",
    "    if z not in s_LD:\n",
    "        s_LD.append(z)\n"
   ]
  },
  {
   "cell_type": "code",
   "execution_count": 38,
   "metadata": {
    "collapsed": false
   },
   "outputs": [],
   "source": [
    "LD, h_LD, f_LD,EQ_LD = seek_mixed00(LD,h_LD,f_LD,EQ_LD,s_LD,n,ZE)"
   ]
  },
  {
   "cell_type": "code",
   "execution_count": 39,
   "metadata": {
    "collapsed": false
   },
   "outputs": [
    {
     "data": {
      "image/png": "[encoded data removed]",
      "text/latex": [
       "$$\\left ( 2, \\quad 2, \\quad 2, \\quad 2\\right )$$"
      ],
      "text/plain": [
       "(2, 2, 2, 2)"
      ]
     },
     "execution_count": 39,
     "metadata": {},
     "output_type": "execute_result"
    }
   ],
   "source": [
    "len(LD),len(h_LD),len(f_LD),len(EQ_LD)"
   ]
  },
  {
   "cell_type": "code",
   "execution_count": 40,
   "metadata": {
    "collapsed": false
   },
   "outputs": [
    {
     "data": {
      "text/latex": [
       "$$\\left[\\begin{matrix}F{\\left (\\Phi,E_{1},I_{1} \\right )} & A_{1} \\Phi + B_{11} E_{1} + C_{11} I_{1} + E_{1}^{2} M_{111} & D_{1} \\Phi + E_{1} G_{11} + H_{11} I_{1} + I_{1}^{2} N_{111}\\\\F{\\left (\\Phi,E_{1},I_{1} \\right )} & 0 & 0\\end{matrix}\\right]$$"
      ],
      "text/plain": [
       "⎡                                               2                             \n",
       "⎢F(\\Phi, E₁, I₁)  A₁⋅\\Phi + B₁₁⋅E₁ + C₁₁⋅I₁ + E₁ ⋅M₁₁₁  D₁⋅\\Phi + E₁⋅G₁₁ + H₁₁\n",
       "⎢                                                                             \n",
       "⎣F(\\Phi, E₁, I₁)                   0                                     0    \n",
       "\n",
       "        2     ⎤\n",
       "⋅I₁ + I₁ ⋅N₁₁₁⎥\n",
       "              ⎥\n",
       "              ⎦"
      ]
     },
     "execution_count": 40,
     "metadata": {},
     "output_type": "execute_result"
    }
   ],
   "source": [
    "Matrix(LD)"
   ]
  },
  {
   "cell_type": "code",
   "execution_count": 22,
   "metadata": {
    "collapsed": false,
    "scrolled": true
   },
   "outputs": [],
   "source": [
    "#Matrix(EQ_LD)"
   ]
  },
  {
   "cell_type": "code",
   "execution_count": 23,
   "metadata": {
    "collapsed": false
   },
   "outputs": [],
   "source": [
    "LD_c=[]\n",
    "h_c=[]\n",
    "f_c=[]\n",
    "EQ_c=[]\n",
    "tabix = 0\n",
    "for x in EQ_LD:\n",
    "    if x == EQ_LD[1]: #and h_LD[tabix] == h_LD[1]:\n",
    "        LD_c.append(LD[tabix])\n",
    "        h_c.append(h_LD[tabix])\n",
    "        f_c.append(f_LD[tabix])\n",
    "        EQ_c.append(EQ_LD[tabix])\n",
    "    tabix = tabix + 1\n"
   ]
  },
  {
   "cell_type": "code",
   "execution_count": 24,
   "metadata": {
    "collapsed": false
   },
   "outputs": [
    {
     "data": {
      "image/png": "[encoded data removed]",
      "text/latex": [
       "$$\\left ( 31, \\quad 31, \\quad 31\\right )$$"
      ],
      "text/plain": [
       "(31, 31, 31)"
      ]
     },
     "execution_count": 24,
     "metadata": {},
     "output_type": "execute_result"
    }
   ],
   "source": [
    "len(LD_c),len(h_c),len(f_c)"
   ]
  },
  {
   "cell_type": "code",
   "execution_count": 27,
   "metadata": {
    "collapsed": false
   },
   "outputs": [],
   "source": [
    "check_me = []\n",
    "difeo_eqs = []\n",
    "H0 = 0\n",
    "for i in range(0,len(f_c)):\n",
    "    \n",
    "    Z0 = LD_c[i]\n",
    "    h = h_c[i]\n",
    "    #f = f_c[i][0,0]\n",
    "    f = Function('f')(*ZX)#\n",
    "    H=[]\n",
    "   \n",
    "    S = zeros(n)\n",
    "    H,S = difeomorphism_equations002(Z0,ZE,expand,f,h,0,2*n+1)\n",
    "    H0 = H\n",
    "    \n",
    "    mixed_test = []\n",
    "    t3 = 0\n",
    "    t1 = t2 = 1\n",
    "    for x in range(0,2*n+1):\n",
    "        for y in range(x,2*n+1):\n",
    "            if x != y:\n",
    "                t1 = diff(H[x][1],ZE[y])\n",
    "                t2 = diff(H[y][1],ZE[x])\n",
    "                t3 = t3 + t1 + t2\n",
    "                mixed_test.append((t1,t2))\n",
    "    if t3 != 0:\n",
    "        difeo_eqs.append((S,H,LD_c[i],h_c[i],f_c[i],EQ_c[i]))\n",
    "        check_me.append(mixed_test)\n",
    "    #,ZE[y],ZE[x],,ZE[x],ZE[y]"
   ]
  },
  {
   "cell_type": "code",
   "execution_count": 28,
   "metadata": {
    "collapsed": false
   },
   "outputs": [
    {
     "data": {
      "image/png": "[encoded data removed]",
      "text/latex": [
       "$$31$$"
      ],
      "text/plain": [
       "31"
      ]
     },
     "execution_count": 28,
     "metadata": {},
     "output_type": "execute_result"
    }
   ],
   "source": [
    "len(difeo_eqs)"
   ]
  },
  {
   "cell_type": "code",
   "execution_count": null,
   "metadata": {
    "collapsed": false
   },
   "outputs": [],
   "source": [
    "hs = []\n",
    "for x in difeo_eqs:\n",
    "    hs.append(x[1])"
   ]
  },
  {
   "cell_type": "code",
   "execution_count": null,
   "metadata": {
    "collapsed": false,
    "scrolled": true
   },
   "outputs": [],
   "source": [
    "#Matrix(hs)"
   ]
  },
  {
   "cell_type": "code",
   "execution_count": 29,
   "metadata": {
    "collapsed": false,
    "scrolled": false
   },
   "outputs": [
    {
     "data": {
      "text/latex": [
       "$$\\left[\\begin{matrix}\\left ( 0, \\quad 0\\right ) & \\left ( 0, \\quad 0\\right ) & \\left ( - f{\\left (F,X_{1},Y_{1} \\right )}, \\quad 0\\right )\\\\\\left ( 0, \\quad 0\\right ) & \\left ( 0, \\quad 0\\right ) & \\left ( - f{\\left (F,X_{1},Y_{1} \\right )}, \\quad 0\\right )\\\\\\left ( 0, \\quad 0\\right ) & \\left ( 0, \\quad 0\\right ) & \\left ( - f{\\left (F,X_{1},Y_{1} \\right )}, \\quad 0\\right )\\\\\\left ( 0, \\quad 0\\right ) & \\left ( 0, \\quad 0\\right ) & \\left ( - f{\\left (F,X_{1},Y_{1} \\right )}, \\quad 0\\right )\\\\\\left ( 0, \\quad 0\\right ) & \\left ( 0, \\quad 0\\right ) & \\left ( - f{\\left (F,X_{1},Y_{1} \\right )}, \\quad 0\\right )\\\\\\left ( 0, \\quad 0\\right ) & \\left ( 0, \\quad 0\\right ) & \\left ( - f{\\left (F,X_{1},Y_{1} \\right )}, \\quad 0\\right )\\\\\\left ( 0, \\quad 0\\right ) & \\left ( 0, \\quad 0\\right ) & \\left ( - f{\\left (F,X_{1},Y_{1} \\right )}, \\quad 0\\right )\\\\\\left ( 0, \\quad 0\\right ) & \\left ( 0, \\quad 0\\right ) & \\left ( - f{\\left (F,X_{1},Y_{1} \\right )}, \\quad 0\\right )\\\\\\left ( 0, \\quad 0\\right ) & \\left ( 0, \\quad 0\\right ) & \\left ( - f{\\left (F,X_{1},Y_{1} \\right )}, \\quad 0\\right )\\\\\\left ( 0, \\quad 0\\right ) & \\left ( 0, \\quad 0\\right ) & \\left ( - f{\\left (F,X_{1},Y_{1} \\right )}, \\quad 0\\right )\\\\\\left ( 0, \\quad 0\\right ) & \\left ( 0, \\quad 0\\right ) & \\left ( - f{\\left (F,X_{1},Y_{1} \\right )}, \\quad 0\\right )\\\\\\left ( 0, \\quad 0\\right ) & \\left ( 0, \\quad 0\\right ) & \\left ( - f{\\left (F,X_{1},Y_{1} \\right )}, \\quad 0\\right )\\\\\\left ( 0, \\quad 0\\right ) & \\left ( 0, \\quad 0\\right ) & \\left ( - f{\\left (F,X_{1},Y_{1} \\right )}, \\quad 0\\right )\\\\\\left ( 0, \\quad 0\\right ) & \\left ( 0, \\quad 0\\right ) & \\left ( - f{\\left (F,X_{1},Y_{1} \\right )}, \\quad 0\\right )\\\\\\left ( 0, \\quad 0\\right ) & \\left ( 0, \\quad 0\\right ) & \\left ( - f{\\left (F,X_{1},Y_{1} \\right )}, \\quad 0\\right )\\\\\\left ( 0, \\quad 0\\right ) & \\left ( 0, \\quad 0\\right ) & \\left ( - f{\\left (F,X_{1},Y_{1} \\right )}, \\quad 0\\right )\\\\\\left ( 0, \\quad 0\\right ) & \\left ( 0, \\quad 0\\right ) & \\left ( - f{\\left (F,X_{1},Y_{1} \\right )}, \\quad 0\\right )\\\\\\left ( 0, \\quad 0\\right ) & \\left ( 0, \\quad 0\\right ) & \\left ( - f{\\left (F,X_{1},Y_{1} \\right )}, \\quad 0\\right )\\\\\\left ( 0, \\quad 0\\right ) & \\left ( 0, \\quad 0\\right ) & \\left ( - f{\\left (F,X_{1},Y_{1} \\right )}, \\quad 0\\right )\\\\\\left ( 0, \\quad 0\\right ) & \\left ( 0, \\quad 0\\right ) & \\left ( - f{\\left (F,X_{1},Y_{1} \\right )}, \\quad 0\\right )\\\\\\left ( 0, \\quad 0\\right ) & \\left ( 0, \\quad 0\\right ) & \\left ( - f{\\left (F,X_{1},Y_{1} \\right )}, \\quad 0\\right )\\\\\\left ( 0, \\quad 0\\right ) & \\left ( 0, \\quad 0\\right ) & \\left ( - f{\\left (F,X_{1},Y_{1} \\right )}, \\quad 0\\right )\\\\\\left ( 0, \\quad 0\\right ) & \\left ( 0, \\quad 0\\right ) & \\left ( - f{\\left (F,X_{1},Y_{1} \\right )}, \\quad 0\\right )\\\\\\left ( 0, \\quad 0\\right ) & \\left ( 0, \\quad 0\\right ) & \\left ( - f{\\left (F,X_{1},Y_{1} \\right )}, \\quad 0\\right )\\\\\\left ( 0, \\quad 0\\right ) & \\left ( 0, \\quad 0\\right ) & \\left ( - f{\\left (F,X_{1},Y_{1} \\right )}, \\quad 0\\right )\\\\\\left ( 0, \\quad 0\\right ) & \\left ( 0, \\quad 0\\right ) & \\left ( - f{\\left (F,X_{1},Y_{1} \\right )}, \\quad 0\\right )\\\\\\left ( 0, \\quad 0\\right ) & \\left ( 0, \\quad 0\\right ) & \\left ( - f{\\left (F,X_{1},Y_{1} \\right )}, \\quad 0\\right )\\\\\\left ( 0, \\quad 0\\right ) & \\left ( 0, \\quad 0\\right ) & \\left ( - f{\\left (F,X_{1},Y_{1} \\right )}, \\quad 0\\right )\\\\\\left ( 0, \\quad 0\\right ) & \\left ( 0, \\quad 0\\right ) & \\left ( - f{\\left (F,X_{1},Y_{1} \\right )}, \\quad 0\\right )\\\\\\left ( 0, \\quad 0\\right ) & \\left ( 0, \\quad 0\\right ) & \\left ( - f{\\left (F,X_{1},Y_{1} \\right )}, \\quad 0\\right )\\\\\\left ( 0, \\quad 0\\right ) & \\left ( 0, \\quad 0\\right ) & \\left ( - f{\\left (F,X_{1},Y_{1} \\right )}, \\quad 0\\right )\\end{matrix}\\right]$$"
      ],
      "text/plain": [
       "⎡(0, 0)  (0, 0)  (-f(F, X₁, Y₁), 0)⎤\n",
       "⎢                                  ⎥\n",
       "⎢(0, 0)  (0, 0)  (-f(F, X₁, Y₁), 0)⎥\n",
       "⎢                                  ⎥\n",
       "⎢(0, 0)  (0, 0)  (-f(F, X₁, Y₁), 0)⎥\n",
       "⎢                                  ⎥\n",
       "⎢(0, 0)  (0, 0)  (-f(F, X₁, Y₁), 0)⎥\n",
       "⎢                                  ⎥\n",
       "⎢(0, 0)  (0, 0)  (-f(F, X₁, Y₁), 0)⎥\n",
       "⎢                                  ⎥\n",
       "⎢(0, 0)  (0, 0)  (-f(F, X₁, Y₁), 0)⎥\n",
       "⎢                                  ⎥\n",
       "⎢(0, 0)  (0, 0)  (-f(F, X₁, Y₁), 0)⎥\n",
       "⎢                                  ⎥\n",
       "⎢(0, 0)  (0, 0)  (-f(F, X₁, Y₁), 0)⎥\n",
       "⎢                                  ⎥\n",
       "⎢(0, 0)  (0, 0)  (-f(F, X₁, Y₁), 0)⎥\n",
       "⎢                                  ⎥\n",
       "⎢(0, 0)  (0, 0)  (-f(F, X₁, Y₁), 0)⎥\n",
       "⎢                                  ⎥\n",
       "⎢(0, 0)  (0, 0)  (-f(F, X₁, Y₁), 0)⎥\n",
       "⎢                                  ⎥\n",
       "⎢(0, 0)  (0, 0)  (-f(F, X₁, Y₁), 0)⎥\n",
       "⎢                                  ⎥\n",
       "⎢(0, 0)  (0, 0)  (-f(F, X₁, Y₁), 0)⎥\n",
       "⎢                                  ⎥\n",
       "⎢(0, 0)  (0, 0)  (-f(F, X₁, Y₁), 0)⎥\n",
       "⎢                                  ⎥\n",
       "⎢(0, 0)  (0, 0)  (-f(F, X₁, Y₁), 0)⎥\n",
       "⎢                                  ⎥\n",
       "⎢(0, 0)  (0, 0)  (-f(F, X₁, Y₁), 0)⎥\n",
       "⎢                                  ⎥\n",
       "⎢(0, 0)  (0, 0)  (-f(F, X₁, Y₁), 0)⎥\n",
       "⎢                                  ⎥\n",
       "⎢(0, 0)  (0, 0)  (-f(F, X₁, Y₁), 0)⎥\n",
       "⎢                                  ⎥\n",
       "⎢(0, 0)  (0, 0)  (-f(F, X₁, Y₁), 0)⎥\n",
       "⎢                                  ⎥\n",
       "⎢(0, 0)  (0, 0)  (-f(F, X₁, Y₁), 0)⎥\n",
       "⎢                                  ⎥\n",
       "⎢(0, 0)  (0, 0)  (-f(F, X₁, Y₁), 0)⎥\n",
       "⎢                                  ⎥\n",
       "⎢(0, 0)  (0, 0)  (-f(F, X₁, Y₁), 0)⎥\n",
       "⎢                                  ⎥\n",
       "⎢(0, 0)  (0, 0)  (-f(F, X₁, Y₁), 0)⎥\n",
       "⎢                                  ⎥\n",
       "⎢(0, 0)  (0, 0)  (-f(F, X₁, Y₁), 0)⎥\n",
       "⎢                                  ⎥\n",
       "⎢(0, 0)  (0, 0)  (-f(F, X₁, Y₁), 0)⎥\n",
       "⎢                                  ⎥\n",
       "⎢(0, 0)  (0, 0)  (-f(F, X₁, Y₁), 0)⎥\n",
       "⎢                                  ⎥\n",
       "⎢(0, 0)  (0, 0)  (-f(F, X₁, Y₁), 0)⎥\n",
       "⎢                                  ⎥\n",
       "⎢(0, 0)  (0, 0)  (-f(F, X₁, Y₁), 0)⎥\n",
       "⎢                                  ⎥\n",
       "⎢(0, 0)  (0, 0)  (-f(F, X₁, Y₁), 0)⎥\n",
       "⎢                                  ⎥\n",
       "⎢(0, 0)  (0, 0)  (-f(F, X₁, Y₁), 0)⎥\n",
       "⎢                                  ⎥\n",
       "⎣(0, 0)  (0, 0)  (-f(F, X₁, Y₁), 0)⎦"
      ]
     },
     "execution_count": 29,
     "metadata": {},
     "output_type": "execute_result"
    }
   ],
   "source": [
    "Matrix(check_me)"
   ]
  },
  {
   "cell_type": "code",
   "execution_count": null,
   "metadata": {
    "collapsed": false
   },
   "outputs": [],
   "source": [
    "mixed_test = []\n",
    "for x in range(0,2*n+1):\n",
    "   for y in range(x,2*n+1):\n",
    "    if x != y:\n",
    "     mixed_test.append((diff(H[x][1],ZE[y]),ZE[y],ZE[x],diff(H[y][1],ZE[x]),ZE[x],ZE[y]))\n",
    "  \n",
    "Matrix(mixed_test)"
   ]
  },
  {
   "cell_type": "code",
   "execution_count": null,
   "metadata": {
    "collapsed": false
   },
   "outputs": [],
   "source": [
    "LD[i]"
   ]
  },
  {
   "cell_type": "code",
   "execution_count": null,
   "metadata": {
    "collapsed": false
   },
   "outputs": [],
   "source": [
    "tabix = 0\n",
    "for x in EQ:\n",
    "    print 'eq'+str(tabix)+' := ' +str(x).replace('_','')\n",
    "    tabix = tabix+1"
   ]
  },
  {
   "cell_type": "code",
   "execution_count": null,
   "metadata": {
    "collapsed": false
   },
   "outputs": [],
   "source": [
    "line01 = 'eqs = {'\n",
    "tabix = 0\n",
    "for x in EQ:\n",
    "    line01 = line01 + ' eq'+str(tabix)+' == 0'\n",
    "    if x != EQ[-1]:\n",
    "        line01 = line01 + ' , '\n",
    "    elif x == EQ[-1]:\n",
    "        line01 = line01 +' } '\n",
    "    tabix = tabix+1\n",
    "\n",
    "print line01"
   ]
  },
  {
   "cell_type": "code",
   "execution_count": null,
   "metadata": {
    "collapsed": false
   },
   "outputs": [],
   "source": [
    "line02 = 'vars = { '\n",
    "tabix = 0\n",
    "for x in c:\n",
    "    line02 = line02 + str(x).replace('_','')\n",
    "    if x != c[-1]:\n",
    "        line02 = line02 + ' , '\n",
    "    elif x == c[-1]:\n",
    "        line02 = line02 +' } '\n",
    "    tabix = tabix+1\n",
    "    \n",
    "print line02"
   ]
  },
  {
   "cell_type": "code",
   "execution_count": null,
   "metadata": {
    "collapsed": false
   },
   "outputs": [],
   "source": [
    "h = Matrix(LD[0])\n",
    "h.jacobian(ZE).det()"
   ]
  },
  {
   "cell_type": "code",
   "execution_count": null,
   "metadata": {
    "collapsed": false
   },
   "outputs": [],
   "source": [
    "LR = LD[0]\n",
    "h = h_LD[0]\n",
    "f = f_LD[0]\n",
    "EQ = EQ_LD[0]\n",
    "LD = []\n",
    "h_LD=[]\n",
    "f_LD=[]\n",
    "EQ_LD = []\n",
    "LD.append(LR)\n",
    "h_LD.append(h)\n",
    "f_LD.append(f)\n",
    "EQ_LD.append(EQ)\n",
    "for z in s:\n",
    "    EQ = EQ_LD[0]\n",
    "    LR = LD[0]\n",
    "    h = h_LD[0]\n",
    "    f = f_LD[0]\n",
    "    for x in z:\n",
    "        LR = subs_solutions(LR,x)\n",
    "        EQ = subs_solutions(EQ,x)\n",
    "        h = subs_solutions00(h,x,n)\n",
    "        f = subs_solutions00(f,x,n)\n",
    "        a1 = assert_jacobian(LR,ZE)\n",
    "        a2 = assert_matrix(h,n)\n",
    "        a3 = assert_matrix(f,n)\n",
    "        a_tot = a1 + a2 + a3\n",
    "    if a_tot == 0:\n",
    "        LD.append(LR)\n",
    "        h_LD.append(h)\n",
    "        f_LD.append(f)\n",
    "        EQ_LD.append(EQ)\n",
    "            "
   ]
  },
  {
   "cell_type": "code",
   "execution_count": null,
   "metadata": {
    "collapsed": false
   },
   "outputs": [],
   "source": [
    "EQ_LD[1] = filter(lambda a: a != 0, EQ_LD[1])\n",
    "EQ = EQ_LD[1]\n",
    "EQ_LD = []\n",
    "EQ_LD.append(EQ)\n",
    "Matrix(EQ_LD[0])"
   ]
  },
  {
   "cell_type": "code",
   "execution_count": null,
   "metadata": {
    "collapsed": false
   },
   "outputs": [],
   "source": [
    "help(solve)"
   ]
  },
  {
   "cell_type": "code",
   "execution_count": null,
   "metadata": {
    "collapsed": true
   },
   "outputs": [],
   "source": []
  }
 ],
 "metadata": {
  "kernelspec": {
   "display_name": "Python 3",
   "language": "python",
   "name": "python3"
  },
  "language_info": {
   "codemirror_mode": {
    "name": "ipython",
    "version": 3
   },
   "file_extension": ".py",
   "mimetype": "text/x-python",
   "name": "python",
   "nbconvert_exporter": "python",
   "pygments_lexer": "ipython3",
   "version": "3.5.1"
  }
 },
 "nbformat": 4,
 "nbformat_minor": 0
}
