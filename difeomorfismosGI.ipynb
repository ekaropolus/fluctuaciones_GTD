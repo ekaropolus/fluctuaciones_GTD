{
 "cells": [
  {
   "cell_type": "code",
   "execution_count": 12,
   "metadata": {
    "collapsed": false,
    "scrolled": true
   },
   "outputs": [],
   "source": [
    "from difeomorfismos_solvers import *\n",
    "from difeomorfismo import *\n",
    "init_printing()"
   ]
  },
  {
   "cell_type": "markdown",
   "metadata": {},
   "source": [
    "<H3>Difeomorsimos Cuadratico + lineal </H3>\n",
    "<H3>$X^{c} = M_{dd}^{c}E^{d}E^{d}$<H3>\n",
    "<H3>$Y_{c} = N_{cee}I^{e}I^{e}$</H3>\n",
    "\n"
   ]
  },
  {
   "cell_type": "markdown",
   "metadata": {},
   "source": [
    "# <H3>Defino la dimension que utilizare</H3>"
   ]
  },
  {
   "cell_type": "code",
   "execution_count": 13,
   "metadata": {
    "collapsed": false
   },
   "outputs": [],
   "source": [
    "n=2\n"
   ]
  },
  {
   "cell_type": "markdown",
   "metadata": {},
   "source": [
    "<H3>Estos son las dos coordenadas del difeomorfismo</H3>"
   ]
  },
  {
   "cell_type": "code",
   "execution_count": 14,
   "metadata": {
    "collapsed": false
   },
   "outputs": [
    {
     "data": {
      "image/png": "[encoded data removed]",
      "text/latex": [
       "$$\\left ( \\left [ \\Phi, \\quad E_{1}, \\quad E_{2}, \\quad I_{1}, \\quad I_{2}\\right ], \\quad \\left [ F, \\quad X_{1}, \\quad X_{2}, \\quad Y_{1}, \\quad Y_{2}\\right ]\\right )$$"
      ],
      "text/plain": [
       "([\\Phi, E₁, E₂, I₁, I₂], [F, X₁, X₂, Y₁, Y₂])"
      ]
     },
     "execution_count": 14,
     "metadata": {},
     "output_type": "execute_result"
    }
   ],
   "source": [
    "ZE, ZX = set_coordinates(n)\n",
    "ZE, ZX"
   ]
  },
  {
   "cell_type": "markdown",
   "metadata": {},
   "source": [
    "<H3>Estas son las constates para las ecuaciones del difeomorfismo Cuadratico + lineal</H3>"
   ]
  },
  {
   "cell_type": "code",
   "execution_count": 15,
   "metadata": {
    "collapsed": false
   },
   "outputs": [],
   "source": [
    "import operator\n",
    "A,c1=set_constants_a(5,'A','s')\n",
    "B,c2=set_constants_a(5,'B','s')\n",
    "C,c3=set_constants_a(4,'C','s')\n",
    "D,c4=set_constants_a(4,'D','s')\n",
    "G,c4=set_constants_a(5,'G','s')\n",
    "J,c4=set_constants_a(5,'J','s')\n",
    "K,c4=set_constants_a(5,'K','s')\n",
    "L,c4=set_constants_a(5,'L','s')"
   ]
  },
  {
   "cell_type": "code",
   "execution_count": 16,
   "metadata": {
    "collapsed": true
   },
   "outputs": [],
   "source": [
    "p,c5=set_constants_axb(n,n,'p','s')"
   ]
  },
  {
   "cell_type": "code",
   "execution_count": 17,
   "metadata": {
    "collapsed": false
   },
   "outputs": [
    {
     "data": {
      "image/png": "[encoded data removed]",
      "text/latex": [
       "$$\\left [ A_{1}, \\quad A_{2}, \\quad A_{3}, \\quad A_{4}, \\quad A_{5}, \\quad B_{1}, \\quad B_{2}, \\quad B_{3}, \\quad B_{4}, \\quad B_{5}, \\quad C_{1}, \\quad C_{2}, \\quad C_{3}, \\quad C_{4}, \\quad L_{1}, \\quad L_{2}, \\quad L_{3}, \\quad L_{4}, \\quad L_{5}\\right ]$$"
      ],
      "text/plain": [
       "[A₁, A₂, A₃, A₄, A₅, B₁, B₂, B₃, B₄, B₅, C₁, C₂, C₃, C₄, L₁, L₂, L₃, L₄, L₅]"
      ]
     },
     "execution_count": 17,
     "metadata": {},
     "output_type": "execute_result"
    }
   ],
   "source": [
    "c = c1 + c2 + c3 + c4 \n",
    "c = list(filter(lambda a: a != 0, c))\n",
    "c"
   ]
  },
  {
   "cell_type": "code",
   "execution_count": 18,
   "metadata": {
    "collapsed": false
   },
   "outputs": [
    {
     "data": {
      "image/png": "[encoded data removed]",
      "text/latex": [
       "$$\\left \\{ A_{1} : 1, \\quad A_{2} : 1, \\quad A_{3} : 1, \\quad A_{4} : 1, \\quad A_{5} : 1, \\quad B_{1} : 1, \\quad B_{2} : 1, \\quad B_{3} : 1, \\quad B_{4} : 1, \\quad B_{5} : 1, \\quad C_{1} : 1, \\quad C_{2} : 1, \\quad C_{3} : 1, \\quad C_{4} : 1, \\quad L_{1} : 1, \\quad L_{2} : 1, \\quad L_{3} : 1, \\quad L_{4} : 1, \\quad L_{5} : 1\\right \\}$$"
      ],
      "text/plain": [
       "{A₁: 1, A₂: 1, A₃: 1, A₄: 1, A₅: 1, B₁: 1, B₂: 1, B₃: 1, B₄: 1, B₅: 1, C₁: 1, \n",
       "C₂: 1, C₃: 1, C₄: 1, L₁: 1, L₂: 1, L₃: 1, L₄: 1, L₅: 1}"
      ]
     },
     "execution_count": 18,
     "metadata": {},
     "output_type": "execute_result"
    }
   ],
   "source": [
    "dc = {}\n",
    "for x in c:\n",
    "    dc[x]=1\n",
    "dc"
   ]
  },
  {
   "cell_type": "code",
   "execution_count": 19,
   "metadata": {
    "collapsed": false
   },
   "outputs": [
    {
     "data": {
      "image/png": "[encoded data removed]",
      "text/latex": [
       "$$\\left \\{ E_{1} : 1, \\quad E_{2} : 1, \\quad I_{1} : 1, \\quad I_{2} : 1, \\quad \\Phi : 1\\right \\}$$"
      ],
      "text/plain": [
       "{E₁: 1, E₂: 1, I₁: 1, I₂: 1, \\Phi: 1}"
      ]
     },
     "execution_count": 19,
     "metadata": {},
     "output_type": "execute_result"
    }
   ],
   "source": [
    "dZE = {}\n",
    "for x in ZE:\n",
    "    dZE[x]=1\n",
    "dZE"
   ]
  },
  {
   "cell_type": "code",
   "execution_count": 20,
   "metadata": {
    "collapsed": false
   },
   "outputs": [],
   "source": [
    "# L0 = [0]*(2*n+1)\n",
    "# L0[0] = Function('F')(*ZE)\n",
    "# L0[1]= A[0]*X11 + A[1]*X12 + A[2]*X13 + A[3]*X14 #+ A[4]*X15\n",
    "# L0[2]= B[0]*X11 + B[1]*X12 + B[2]*X13 + B[3]*X14 #+ B[4]*X15\n",
    "# L0[3]= C[0]*Y11 + C[1]*Y12 + C[2]*Y13 + C[3]*Y14 \n",
    "# L0[4]= D[0]*Y11 + D[1]*Y12 + D[2]*Y13 + D[3]*Y14\n",
    "  \n",
    "\n",
    "\n",
    "# Matrix(L0)"
   ]
  },
  {
   "cell_type": "code",
   "execution_count": 21,
   "metadata": {
    "collapsed": false
   },
   "outputs": [
    {
     "data": {
      "text/latex": [
       "$$\\left[\\begin{matrix}F{\\left (\\Phi,E_{1},E_{2},I_{1},I_{2} \\right )}\\\\\\frac{A_{1} I_{1}}{E_{2}} I_{2}^{2} + \\frac{A_{1} I_{1}^{3}}{E_{1}} + \\frac{A_{2} I_{2}^{3}}{E_{2}} + \\frac{A_{2} I_{2}}{E_{1}} I_{1}^{2}\\\\\\frac{B_{1} I_{1}}{E_{2}} I_{2}^{2} + \\frac{B_{1} I_{1}^{3}}{E_{1}} + \\frac{B_{2} I_{2}^{3}}{E_{2}} + \\frac{B_{2} I_{2}}{E_{1}} I_{1}^{2}\\\\- \\frac{B_{2} D_{2}}{I_{1}} E_{1}^{3} - \\frac{B_{2} D_{2}}{I_{2}} E_{1} E_{2}^{2} - \\frac{B_{1} D_{2} E_{1}^{2} E_{2}}{A_{1} I_{1}} - \\frac{B_{1} D_{2} E_{2}^{3}}{A_{1} I_{2}}\\\\\\frac{A_{2} D_{2}}{I_{1}} E_{1}^{3} + \\frac{A_{2} D_{2}}{I_{2}} E_{1} E_{2}^{2} + \\frac{D_{2} E_{2}}{I_{1}} E_{1}^{2} + \\frac{D_{2} E_{2}^{3}}{I_{2}}\\end{matrix}\\right]$$"
      ],
      "text/plain": [
       "⎡               F(\\Phi, E₁, E₂, I₁, I₂)               ⎤\n",
       "⎢                                                     ⎥\n",
       "⎢               2        3        3        2          ⎥\n",
       "⎢       A₁⋅I₁⋅I₂    A₁⋅I₁    A₂⋅I₂    A₂⋅I₁ ⋅I₂       ⎥\n",
       "⎢       ───────── + ────── + ────── + ─────────       ⎥\n",
       "⎢           E₂        E₁       E₂         E₁          ⎥\n",
       "⎢                                                     ⎥\n",
       "⎢               2        3        3        2          ⎥\n",
       "⎢       B₁⋅I₁⋅I₂    B₁⋅I₁    B₂⋅I₂    B₂⋅I₁ ⋅I₂       ⎥\n",
       "⎢       ───────── + ────── + ────── + ─────────       ⎥\n",
       "⎢           E₂        E₁       E₂         E₁          ⎥\n",
       "⎢                                                     ⎥\n",
       "⎢          3              2           2              3⎥\n",
       "⎢  B₂⋅D₂⋅E₁    B₂⋅D₂⋅E₁⋅E₂    B₁⋅D₂⋅E₁ ⋅E₂   B₁⋅D₂⋅E₂ ⎥\n",
       "⎢- ───────── - ──────────── - ──────────── - ─────────⎥\n",
       "⎢      I₁           I₂           A₁⋅I₁         A₁⋅I₂  ⎥\n",
       "⎢                                                     ⎥\n",
       "⎢            3              2        2           3    ⎥\n",
       "⎢    A₂⋅D₂⋅E₁    A₂⋅D₂⋅E₁⋅E₂    D₂⋅E₁ ⋅E₂   D₂⋅E₂     ⎥\n",
       "⎢    ───────── + ──────────── + ───────── + ──────    ⎥\n",
       "⎣        I₁           I₂            I₁        I₂      ⎦"
      ]
     },
     "execution_count": 21,
     "metadata": {},
     "output_type": "execute_result"
    }
   ],
   "source": [
    "X11 = (ZE[3]*pow(ZE[4],2)/ZE[2])\n",
    "X12 = pow(ZE[4],3)/ZE[2]\n",
    "X13 = pow(ZE[3],3)/ZE[1]\n",
    "X14 = (ZE[4]*pow(ZE[3],2)/ZE[1])\n",
    "X15 = pow(ZE[2],3)/ZE[1]\n",
    "\n",
    "Y11 = pow(ZE[1],3)/ZE[3]\n",
    "Y12 = (ZE[2]*pow(ZE[1],2)/ZE[3])\n",
    "Y13 = (ZE[1]*pow(ZE[2],2)/ZE[4])\n",
    "Y14 = pow(ZE[2],3)/ZE[4]\n",
    "\n",
    "c1 = B[1]*D[1]\n",
    "c2 = B[0]*D[1]/A[0]\n",
    "c3 = B[1]*D[1]\n",
    "c4 = B[0]*D[1]/A[0]\n",
    "# b5 =  \n",
    "d1 = A[1]*D[1]\n",
    "d3 = A[1]*D[1]\n",
    "\n",
    "L0 = [0]*(2*n+1)\n",
    "L0[0] = Function('F')(*ZE)\n",
    "L0[1]= A[0]*X11 + A[1]*X12 + A[0]*X13 + A[1]*X14 #+ G[0]*ZE[0]*ZE[1] #+ G[1]*ZE[1] + G[2]*ZE[2] + G[3]*ZE[3] + G[4]*ZE[4]\n",
    "L0[2]= B[0]*X11 + B[1]*X12 + B[0]*X13 + B[1]*X14   #+ J[1]*ZE[2] + J[2]*ZE[3] + J[3]*ZE[3] + J[4]*ZE[4]\n",
    "L0[3]= -c1*Y11 - c2*Y12 - c3*Y13 - c4*Y14 #+ G[3]*pow(ZE[3],2) + G[3]*pow(ZE[3],2) + K[0]*pow(ZE[3],-2) #+ K[1]*ZE[1] + K[2]*ZE[2] +K[3]*ZE[3] +K[4]*ZE[4] \n",
    "L0[4]= d1*Y11 + D[1]*Y12 + d3*Y13 + D[1]*Y14 #+ L[0]*ZE[0]*ZE[4] + L[1]*ZE[1] + L[2]*ZE[2] + L[3]*ZE[3] + L[4]*ZE[4]\n",
    "  \n",
    "\n",
    "\n",
    "Matrix(L0)"
   ]
  },
  {
   "cell_type": "code",
   "execution_count": 22,
   "metadata": {
    "collapsed": true
   },
   "outputs": [],
   "source": [
    "# A[3] = 2*A[0] \n",
    "# C[1] = 2*C[0] \n",
    "# A[1] = 2*A[2] \n",
    "# C[3] = 2*C[2]\n",
    "\n",
    "\n",
    "# B[3] = 2*B[0]\n",
    "# D[1] = -2*D[0] \n",
    "# B[1] = 2*B[2]\n",
    "# D[3] = -2*D[2] \n",
    "\n",
    "# L0 = [0]*(2*n+1)\n",
    "# L0[0] = Function('F')(*ZE)\n",
    "# L0[1]=A[0]*ZE[1]*ZE[1]+A[1]*ZE[1]*ZE[4]+A[2]*ZE[2]*ZE[2]+A[3]*ZE[2]*ZE[3]\n",
    "# L0[2]=B[0]*ZE[1]*ZE[1]+B[1]*ZE[1]*ZE[4]+B[2]*ZE[2]*ZE[2]+B[3]*ZE[2]*ZE[3]\n",
    "# L0[3]=C[0]*ZE[3]*ZE[3]+C[1]*ZE[1]*ZE[4]+C[2]*ZE[4]*ZE[4]+C[3]*ZE[2]*ZE[3]\n",
    "# L0[4]=D[0]*ZE[3]*ZE[3]+D[1]*ZE[1]*ZE[4]+D[2]*ZE[4]*ZE[4]+D[3]*ZE[2]*ZE[3]\n",
    "# Matrix(L0)"
   ]
  },
  {
   "cell_type": "code",
   "execution_count": 23,
   "metadata": {
    "collapsed": true
   },
   "outputs": [],
   "source": [
    "# A[1] = A[0]/4 \n",
    "# C[1] = C[0]\n",
    "# B[1] = -B[0]/4\n",
    "# D[1] = D[0]\n",
    "# A[2] = A[0]/4 \n",
    "# C[2] = C[0]\n",
    "# D[2] = D[0]\n",
    "# B[2] = -B[0]/4"
   ]
  },
  {
   "cell_type": "code",
   "execution_count": 24,
   "metadata": {
    "collapsed": true
   },
   "outputs": [],
   "source": [
    "# A[0] = (-B[0]*D[1]/C[1]) \n",
    "# B[1] = (-C[0]*A[1]/D[0])\n",
    "# B[2] = (-C[0]*A[2]/D[0])\n",
    "# D[2] = (D[1]*C[2]/C[1])"
   ]
  },
  {
   "cell_type": "code",
   "execution_count": 25,
   "metadata": {
    "collapsed": false
   },
   "outputs": [],
   "source": [
    "\n",
    "\n",
    "# L0 = [0]*(2*n+1)\n",
    "# L0[0] = Function('F')(*ZE)\n",
    "# L0[1]=B[0]*ZE[1]*ZE[2]+A[1]*ZE[1]*ZE[1]+A[2]*ZE[2]*ZE[2]\n",
    "# L0[2]=B[0]*ZE[1]*ZE[2]+B[1]*ZE[1]*ZE[1]+B[2]*ZE[2]*ZE[2]\n",
    "# L0[3]=C[0]*ZE[3]*ZE[4]+C[1]*ZE[3]*ZE[3]+C[2]*ZE[4]*ZE[4]\n",
    "# L0[4]=D[0]*ZE[3]*ZE[4]+D[1]*ZE[3]*ZE[3]+D[2]*ZE[4]*ZE[4]\n",
    "# L0"
   ]
  },
  {
   "cell_type": "code",
   "execution_count": 26,
   "metadata": {
    "collapsed": true
   },
   "outputs": [],
   "source": [
    "f = zeros(n)\n",
    "h = zeros(n)\n",
    "\n",
    "\n",
    "for x in range(0,n):\n",
    "    for y in range(0,n):\n",
    "        if x == y: f[x,y]=1/Function('f')(*ZX)\n",
    "        if x == y:\n",
    "            part = 0\n",
    "            for z in range(1,n+1):\n",
    "                part = part + p[x][z-1]*ZE[z]*ZE[z+n]\n",
    "            h[x,y]=part"
   ]
  },
  {
   "cell_type": "code",
   "execution_count": 27,
   "metadata": {
    "collapsed": false
   },
   "outputs": [
    {
     "data": {
      "text/latex": [
       "$$\\left ( \\left[\\begin{matrix}\\frac{1}{f{\\left (F,X_{1},X_{2},Y_{1},Y_{2} \\right )}} & 0\\\\0 & \\frac{1}{f{\\left (F,X_{1},X_{2},Y_{1},Y_{2} \\right )}}\\end{matrix}\\right], \\quad \\left[\\begin{matrix}E_{1} I_{1} p_{11} + E_{2} I_{2} p_{12} & 0\\\\0 & E_{1} I_{1} p_{21} + E_{2} I_{2} p_{22}\\end{matrix}\\right]\\right )$$"
      ],
      "text/plain": [
       "⎛⎡         1                                ⎤                                 \n",
       "⎜⎢────────────────────           0          ⎥, ⎡E₁⋅I₁⋅p₁₁ + E₂⋅I₂⋅p₁₂         \n",
       "⎜⎢f(F, X₁, X₂, Y₁, Y₂)                      ⎥  ⎢                              \n",
       "⎜⎢                                          ⎥  ⎣          0            E₁⋅I₁⋅p\n",
       "⎜⎢                               1          ⎥                                 \n",
       "⎜⎢         0            ────────────────────⎥                                 \n",
       "⎝⎣                      f(F, X₁, X₂, Y₁, Y₂)⎦                                 \n",
       "\n",
       "               ⎞\n",
       "   0          ⎤⎟\n",
       "              ⎥⎟\n",
       "₂₁ + E₂⋅I₂⋅p₂₂⎦⎟\n",
       "               ⎟\n",
       "               ⎟\n",
       "               ⎠"
      ]
     },
     "execution_count": 27,
     "metadata": {},
     "output_type": "execute_result"
    }
   ],
   "source": [
    "LA = []\n",
    "f,h\n"
   ]
  },
  {
   "cell_type": "code",
   "execution_count": 28,
   "metadata": {
    "collapsed": false
   },
   "outputs": [],
   "source": [
    "S,EQS = poly_difeomorphism(L0,ZE,dc,dZE,h,expand)\n",
    "EQS = clean_system01(EQS,n,dZE,dc,factor)"
   ]
  },
  {
   "cell_type": "code",
   "execution_count": 31,
   "metadata": {
    "collapsed": false
   },
   "outputs": [
    {
     "data": {
      "text/latex": [
       "$$\\left ( \\left[\\begin{matrix}E_{2} I_{2}\\\\E_{1} I_{1}\\end{matrix}\\right], \\quad \\left[\\begin{matrix}2 B_{2} D_{2} - p_{12} + \\frac{A_{2} B_{1}}{A_{1}} D_{2}\\\\- p_{11}\\end{matrix}\\right], \\quad \\left[\\begin{matrix}- p_{11}\\\\2 B_{2} D_{2} - p_{12} + \\frac{A_{2} B_{1}}{A_{1}} D_{2}\\\\- p_{21}\\\\2 B_{2} D_{2} - p_{22} + \\frac{A_{2} B_{1}}{A_{1}} D_{2}\\end{matrix}\\right]\\right )$$"
      ],
      "text/plain": [
       "⎛         ⎡                A₂⋅B₁⋅D₂⎤                            ⎞\n",
       "⎜⎡E₂⋅I₂⎤, ⎢2⋅B₂⋅D₂ - p₁₂ + ────────⎥, ⎡          -p₁₁          ⎤⎟\n",
       "⎜⎢     ⎥  ⎢                   A₁   ⎥  ⎢                        ⎥⎟\n",
       "⎜⎣E₁⋅I₁⎦  ⎢                        ⎥  ⎢                A₂⋅B₁⋅D₂⎥⎟\n",
       "⎜         ⎣          -p₁₁          ⎦  ⎢2⋅B₂⋅D₂ - p₁₂ + ────────⎥⎟\n",
       "⎜                                     ⎢                   A₁   ⎥⎟\n",
       "⎜                                     ⎢                        ⎥⎟\n",
       "⎜                                     ⎢          -p₂₁          ⎥⎟\n",
       "⎜                                     ⎢                        ⎥⎟\n",
       "⎜                                     ⎢                A₂⋅B₁⋅D₂⎥⎟\n",
       "⎜                                     ⎢2⋅B₂⋅D₂ - p₂₂ + ────────⎥⎟\n",
       "⎝                                     ⎣                   A₁   ⎦⎠"
      ]
     },
     "execution_count": 31,
     "metadata": {},
     "output_type": "execute_result"
    }
   ],
   "source": [
    "ew = EQS[1,3]\n",
    "chomp = []\n",
    "for z in range(1,n+1):\n",
    "                chomp.append(ZE[z]*ZE[z+n])\n",
    "chew = EQS[1:1+n,1+n:2*n+1]\n",
    "\n",
    "tai = []\n",
    "for x in range(0,n):\n",
    "    for y in range(0,n):\n",
    "        if x == y:\n",
    "            for z in chomp:\n",
    "                tai.append(chew[x,y][z])\n",
    "Matrix(list(ew.keys())),Matrix(list(ew.values())),Matrix(tai)\n"
   ]
  },
  {
   "cell_type": "code",
   "execution_count": null,
   "metadata": {
    "collapsed": false
   },
   "outputs": [],
   "source": [
    "# all_sol = solve_pair(EQS[1,3],EQS[2,4],factor)"
   ]
  },
  {
   "cell_type": "code",
   "execution_count": null,
   "metadata": {
    "collapsed": false
   },
   "outputs": [],
   "source": [
    "# all_sol"
   ]
  },
  {
   "cell_type": "code",
   "execution_count": null,
   "metadata": {
    "collapsed": false
   },
   "outputs": [],
   "source": [
    "all_sol = solve_part(ew,simplify,tai)\n",
    "all_sol"
   ]
  },
  {
   "cell_type": "code",
   "execution_count": null,
   "metadata": {
    "collapsed": false
   },
   "outputs": [],
   "source": [
    "# all_sol = {}\n",
    "# all_sol[A[1]] = (-4/9)*A[3]*D[1]/D[3]\n",
    "# all_sol"
   ]
  },
  {
   "cell_type": "code",
   "execution_count": null,
   "metadata": {
    "collapsed": false
   },
   "outputs": [],
   "source": [
    "passe = 0\n",
    "L1 = L0[:]\n",
    "LA.append(L1)\n",
    "tabix = 0\n",
    "for x in all_sol:\n",
    "    subs_e = {}\n",
    "    subs_e[x] = all_sol[x]\n",
    "    if tabix == passe:\n",
    "        for x in range(0,len(L0)):\n",
    "            L0[x] = L0[x].subs(subs_e)\n",
    "    tabix = tabix + 1"
   ]
  },
  {
   "cell_type": "code",
   "execution_count": null,
   "metadata": {
    "collapsed": true
   },
   "outputs": [],
   "source": [
    "S,EQS = poly_difeomorphism(L0,ZE,dc,dZE,h,expand)\n",
    "EQS = clean_system00(EQS,n)"
   ]
  },
  {
   "cell_type": "code",
   "execution_count": null,
   "metadata": {
    "collapsed": false
   },
   "outputs": [],
   "source": [
    "chomp = []\n",
    "for z in range(1,n+1):\n",
    "                chomp.append(ZE[z]*ZE[z+n])\n",
    "chew = EQS[1:1+n,1+n:2*n+1]\n",
    "\n",
    "tai = []\n",
    "for x in range(0,n):\n",
    "    for y in range(0,n):\n",
    "        if x == y:\n",
    "            for z in chomp:\n",
    "                tai.append(chew[x,y][z])\n",
    "Matrix(tai)"
   ]
  },
  {
   "cell_type": "code",
   "execution_count": null,
   "metadata": {
    "collapsed": true
   },
   "outputs": [],
   "source": [
    "L0 = LA[-1][:]"
   ]
  },
  {
   "cell_type": "code",
   "execution_count": null,
   "metadata": {
    "collapsed": false
   },
   "outputs": [],
   "source": [
    "len(LA)"
   ]
  },
  {
   "cell_type": "code",
   "execution_count": null,
   "metadata": {
    "collapsed": false
   },
   "outputs": [],
   "source": [
    "S[1,3]"
   ]
  },
  {
   "cell_type": "code",
   "execution_count": null,
   "metadata": {
    "collapsed": false
   },
   "outputs": [],
   "source": [
    "S[2,4]"
   ]
  },
  {
   "cell_type": "code",
   "execution_count": null,
   "metadata": {
    "collapsed": false
   },
   "outputs": [],
   "source": [
    "Matrix(L0)"
   ]
  },
  {
   "cell_type": "code",
   "execution_count": null,
   "metadata": {
    "collapsed": false
   },
   "outputs": [],
   "source": [
    "EQS"
   ]
  },
  {
   "cell_type": "code",
   "execution_count": null,
   "metadata": {
    "collapsed": false
   },
   "outputs": [],
   "source": [
    "CM_LD = contactomorphism_equations(L0,ZE,expand,f)\n",
    "Ja = Matrix(L0).jacobian(ZE)\n",
    "DeJ = Ja.berkowitz_det()\n",
    "for x in range(0,2*n+1):\n",
    "    DeJ = DeJ.subs([(diff(L0[0],ZE[x]),CM_LD[x])])\n",
    "for x in range(0,2*n+1):\n",
    "    Ja = Ja.subs([(diff(L0[0],ZE[x]),CM_LD[x])])"
   ]
  },
  {
   "cell_type": "code",
   "execution_count": null,
   "metadata": {
    "collapsed": false
   },
   "outputs": [],
   "source": [
    "Matrix(L0)"
   ]
  },
  {
   "cell_type": "code",
   "execution_count": null,
   "metadata": {
    "collapsed": false
   },
   "outputs": [],
   "source": [
    "simplify(DeJ)"
   ]
  },
  {
   "cell_type": "code",
   "execution_count": null,
   "metadata": {
    "collapsed": false
   },
   "outputs": [],
   "source": [
    "EQS[1:1+n,1:n+1]"
   ]
  },
  {
   "cell_type": "code",
   "execution_count": null,
   "metadata": {
    "collapsed": false
   },
   "outputs": [],
   "source": [
    "EQS[1:1+n,1+n:2*n+1]"
   ]
  },
  {
   "cell_type": "code",
   "execution_count": null,
   "metadata": {
    "collapsed": false
   },
   "outputs": [],
   "source": [
    "EQS[1+n:2*n+1,n+1:2*n+1]"
   ]
  },
  {
   "cell_type": "code",
   "execution_count": null,
   "metadata": {
    "collapsed": false
   },
   "outputs": [],
   "source": [
    "EQS[0,0:2*n+1]"
   ]
  },
  {
   "cell_type": "code",
   "execution_count": null,
   "metadata": {
    "collapsed": true
   },
   "outputs": [],
   "source": []
  }
 ],
 "metadata": {
  "kernelspec": {
   "display_name": "Python 3",
   "language": "python",
   "name": "python3"
  },
  "language_info": {
   "codemirror_mode": {
    "name": "ipython",
    "version": 3
   },
   "file_extension": ".py",
   "mimetype": "text/x-python",
   "name": "python",
   "nbconvert_exporter": "python",
   "pygments_lexer": "ipython3",
   "version": "3.5.1"
  }
 },
 "nbformat": 4,
 "nbformat_minor": 0
}
