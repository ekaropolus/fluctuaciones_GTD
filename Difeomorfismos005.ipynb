{
 "cells": [
  {
   "cell_type": "code",
   "execution_count": 13,
   "metadata": {
    "collapsed": false
   },
   "outputs": [],
   "source": [
    "from difeomorfismo import *\n",
    "init_printing()"
   ]
  },
  {
   "cell_type": "code",
   "execution_count": 14,
   "metadata": {
    "collapsed": false
   },
   "outputs": [],
   "source": [
    "n = 1"
   ]
  },
  {
   "cell_type": "markdown",
   "metadata": {},
   "source": [
    "# Difeomorfismo"
   ]
  },
  {
   "cell_type": "markdown",
   "metadata": {},
   "source": [
    "###### Variables del difeomorfismo"
   ]
  },
  {
   "cell_type": "code",
   "execution_count": 15,
   "metadata": {
    "collapsed": false
   },
   "outputs": [
    {
     "data": {
      "text/latex": [
       "$$\\begin{pmatrix}\\begin{bmatrix}\\Phi, & E_{1}, & I_{1}\\end{bmatrix}, & \\begin{bmatrix}F, & X_{1}, & Y_{1}\\end{bmatrix}\\end{pmatrix}$$"
      ],
      "text/plain": [
       "([\\Phi, E₁, I₁], [F, X₁, Y₁])"
      ]
     },
     "execution_count": 15,
     "metadata": {},
     "output_type": "execute_result"
    }
   ],
   "source": [
    "Z = []\n",
    "B = []\n",
    "Z,B = n_grados001(n)\n",
    "Z, B"
   ]
  },
  {
   "cell_type": "markdown",
   "metadata": {},
   "source": [
    "###### Relación entre ellas, caso nada depende de F"
   ]
  },
  {
   "cell_type": "code",
   "execution_count": 16,
   "metadata": {
    "collapsed": false
   },
   "outputs": [
    {
     "data": {
      "text/latex": [
       "$$\\begin{bmatrix}\\operatorname{\\Phi}{\\left (F \\right )}, & \\operatorname{E\\_1}{\\left (X_{1} \\right )}, & \\operatorname{I\\_1}{\\left (Y_{1} \\right )}\\end{bmatrix}$$"
      ],
      "text/plain": [
       "[\\Phi(F), E₁(X₁), I₁(Y₁)]"
      ]
     },
     "execution_count": 16,
     "metadata": {},
     "output_type": "execute_result"
    }
   ],
   "source": [
    "s = [[1,0,0,1,1],[0,1,0,1,1],[0,0,1,1,1],[1,1,1,1,1],[1,1,1,1,1]]\n",
    "g = [0,2,3,1,1]\n",
    "Z0 = difeomorphism_sod(Z,B,s)\n",
    "#Z0[0]=B[0]+Function(str(Z[0])+'_'+str(B[0]))(B[1],B[2])\n",
    "Z0"
   ]
  },
  {
   "cell_type": "markdown",
   "metadata": {},
   "source": [
    "###### Matriz de la GTD a usar"
   ]
  },
  {
   "cell_type": "code",
   "execution_count": 17,
   "metadata": {
    "collapsed": false
   },
   "outputs": [
    {
     "data": {
      "text/latex": [
       "$$\\begin{bmatrix}\\operatorname{h0}{\\left (E_{1},I_{1} \\right )}, & \\operatorname{h1}{\\left (E_{1},I_{1} \\right )}\\end{bmatrix}$$"
      ],
      "text/plain": [
       "[h₀(E₁, I₁), h₁(E₁, I₁)]"
      ]
     },
     "execution_count": 17,
     "metadata": {},
     "output_type": "execute_result"
    }
   ],
   "source": [
    "N = matrix_gtdie(Z)\n",
    "N"
   ]
  },
  {
   "cell_type": "markdown",
   "metadata": {},
   "source": [
    "###### Ecuaciones del difeomorfismo"
   ]
  },
  {
   "cell_type": "code",
   "execution_count": 18,
   "metadata": {
    "collapsed": false
   },
   "outputs": [
    {
     "data": {
      "image/png": "[encoded data removed]",
      "text/latex": [
       "$$0$$"
      ],
      "text/plain": [
       "0"
      ]
     },
     "execution_count": 18,
     "metadata": {},
     "output_type": "execute_result"
    }
   ],
   "source": [
    "\n",
    "R = compatibility_equation(Z0,B,simplify,N)\n",
    "R[0]"
   ]
  },
  {
   "cell_type": "markdown",
   "metadata": {},
   "source": [
    "###### Sector $$dI^adE^b$$"
   ]
  },
  {
   "cell_type": "code",
   "execution_count": 7,
   "metadata": {
    "collapsed": false
   },
   "outputs": [
    {
     "data": {
      "text/latex": [
       "$$\\left[\\begin{smallmatrix}\\left(\\operatorname{I\\_1}{\\left (F,X_{1},Y_{1} \\right )} \\frac{\\partial}{\\partial X_{1}} \\operatorname{E\\_1}{\\left (F,X_{1},Y_{1} \\right )} - \\frac{\\partial}{\\partial X_{1}} \\operatorname{\\Phi}{\\left (F,X_{1},Y_{1} \\right )}\\right) \\left(\\operatorname{I\\_1}{\\left (F,X_{1},Y_{1} \\right )} \\frac{\\partial}{\\partial Y_{1}} \\operatorname{E\\_1}{\\left (F,X_{1},Y_{1} \\right )} - \\frac{\\partial}{\\partial Y_{1}} \\operatorname{\\Phi}{\\left (F,X_{1},Y_{1} \\right )}\\right) + \\frac{1}{2} \\left(\\frac{\\partial}{\\partial X_{1}} \\operatorname{E\\_1}{\\left (F,X_{1},Y_{1} \\right )} \\frac{\\partial}{\\partial Y_{1}} \\operatorname{I\\_1}{\\left (F,X_{1},Y_{1} \\right )} + \\frac{\\partial}{\\partial Y_{1}} \\operatorname{E\\_1}{\\left (F,X_{1},Y_{1} \\right )} \\frac{\\partial}{\\partial X_{1}} \\operatorname{I\\_1}{\\left (F,X_{1},Y_{1} \\right )}\\right) \\operatorname{h1}{\\left (E_{1},I_{1} \\right )}\\end{smallmatrix}\\right]$$"
      ],
      "text/plain": [
       "⎡                                                                             \n",
       "⎢                                                                             \n",
       "⎢⎛               d                    d                  ⎞ ⎛               d  \n",
       "⎢⎜I₁(F, X₁, Y₁)⋅───(E₁(F, X₁, Y₁)) - ───(\\Phi(F, X₁, Y₁))⎟⋅⎜I₁(F, X₁, Y₁)⋅───(\n",
       "⎣⎝              dX₁                  dX₁                 ⎠ ⎝              dY₁ \n",
       "\n",
       "                                         ⎛ d                  d               \n",
       "                                         ⎜───(E₁(F, X₁, Y₁))⋅───(I₁(F, X₁, Y₁)\n",
       "                  d                  ⎞   ⎝dX₁                dY₁              \n",
       "E₁(F, X₁, Y₁)) - ───(\\Phi(F, X₁, Y₁))⎟ + ─────────────────────────────────────\n",
       "                 dY₁                 ⎠                                        \n",
       "\n",
       "     d                  d                ⎞           ⎤\n",
       ") + ───(E₁(F, X₁, Y₁))⋅───(I₁(F, X₁, Y₁))⎟⋅h₁(E₁, I₁)⎥\n",
       "    dY₁                dX₁               ⎠           ⎥\n",
       "─────────────────────────────────────────────────────⎥\n",
       "       2                                             ⎦"
      ]
     },
     "execution_count": 7,
     "metadata": {},
     "output_type": "execute_result"
    }
   ],
   "source": [
    "S[n+1:2*n+1,1:n+1]+H[n+1:2*n+1,1:n+1]\n"
   ]
  },
  {
   "cell_type": "markdown",
   "metadata": {},
   "source": [
    "###### Sector $$dI^adI^b$$"
   ]
  },
  {
   "cell_type": "code",
   "execution_count": 78,
   "metadata": {
    "collapsed": false
   },
   "outputs": [
    {
     "data": {
      "text/latex": [
       "$$\\left[\\begin{smallmatrix}\\left(\\operatorname{I\\_10}{\\left (F \\right )} \\operatorname{I\\_1\\_r}{\\left (X_{1} \\right )} \\frac{\\partial}{\\partial Y_{1}} \\operatorname{E\\_1}{\\left (X_{1},Y_{1} \\right )} - \\frac{\\partial}{\\partial Y_{1}} \\operatorname{\\Phi\\_F}{\\left (X_{1},Y_{1} \\right )}\\right)^{2}\\end{smallmatrix}\\right]$$"
      ],
      "text/plain": [
       "⎡                                                       2⎤\n",
       "⎢⎛                 d                 d                 ⎞ ⎥\n",
       "⎢⎜I₁₀(F)⋅I₁ ᵣ(X₁)⋅───(E₁(X₁, Y₁)) - ───(\\Phi_F(X₁, Y₁))⎟ ⎥\n",
       "⎣⎝                dY₁               dY₁                ⎠ ⎦"
      ]
     },
     "execution_count": 78,
     "metadata": {},
     "output_type": "execute_result"
    }
   ],
   "source": [
    "S[n+1:2*n+1,n+1:2*n+1]+H[n+1:2*n+1,n+1:2*n+1]"
   ]
  },
  {
   "cell_type": "markdown",
   "metadata": {},
   "source": [
    "###### Sector $$dE^adE^b$$"
   ]
  },
  {
   "cell_type": "code",
   "execution_count": 79,
   "metadata": {
    "collapsed": false
   },
   "outputs": [
    {
     "data": {
      "text/latex": [
       "$$\\left[\\begin{smallmatrix}\\left(\\operatorname{I\\_10}{\\left (F \\right )} \\operatorname{I\\_1\\_r}{\\left (X_{1} \\right )} \\frac{\\partial}{\\partial X_{1}} \\operatorname{E\\_1}{\\left (X_{1},Y_{1} \\right )} - \\frac{\\partial}{\\partial X_{1}} \\operatorname{\\Phi\\_F}{\\left (X_{1},Y_{1} \\right )}\\right)^{2} + \\operatorname{I\\_10}{\\left (F \\right )} \\operatorname{h1}{\\left (E_{1},I_{1} \\right )} \\frac{\\partial}{\\partial X_{1}} \\operatorname{E\\_1}{\\left (X_{1},Y_{1} \\right )} \\frac{\\partial}{\\partial X_{1}} \\operatorname{I\\_1\\_r}{\\left (X_{1} \\right )}\\end{smallmatrix}\\right]$$"
      ],
      "text/plain": [
       "⎡                                                       2                     \n",
       "⎢⎛                 d                 d                 ⎞                      \n",
       "⎢⎜I₁₀(F)⋅I₁ ᵣ(X₁)⋅───(E₁(X₁, Y₁)) - ───(\\Phi_F(X₁, Y₁))⎟  + I₁₀(F)⋅h₁(E₁, I₁)⋅\n",
       "⎣⎝                dX₁               dX₁                ⎠                      \n",
       "\n",
       "                             ⎤\n",
       " d               d           ⎥\n",
       "───(E₁(X₁, Y₁))⋅───(I₁ ᵣ(X₁))⎥\n",
       "dX₁             dX₁          ⎦"
      ]
     },
     "execution_count": 79,
     "metadata": {},
     "output_type": "execute_result"
    }
   ],
   "source": [
    "S[1:n+1,1:n+1]+H[1:n+1,1:n+1]"
   ]
  },
  {
   "cell_type": "markdown",
   "metadata": {},
   "source": [
    "###### Sector $$d\\Phi d\\Phi$$"
   ]
  },
  {
   "cell_type": "code",
   "execution_count": 80,
   "metadata": {
    "collapsed": false
   },
   "outputs": [
    {
     "data": {
      "image/png": "[encoded data removed]",
      "text/latex": [
       "$$1$$"
      ],
      "text/plain": [
       "1"
      ]
     },
     "execution_count": 80,
     "metadata": {},
     "output_type": "execute_result"
    }
   ],
   "source": [
    "S[0,0]+H[0,0]"
   ]
  },
  {
   "cell_type": "markdown",
   "metadata": {},
   "source": [
    "###### Sector $$d\\Phi dE^b$$"
   ]
  },
  {
   "cell_type": "code",
   "execution_count": 81,
   "metadata": {
    "collapsed": false
   },
   "outputs": [
    {
     "data": {
      "text/latex": [
       "$$\\left[\\begin{smallmatrix}- \\operatorname{I\\_10}{\\left (F \\right )} \\operatorname{I\\_1\\_r}{\\left (X_{1} \\right )} \\frac{\\partial}{\\partial X_{1}} \\operatorname{E\\_1}{\\left (X_{1},Y_{1} \\right )} + \\frac{1}{2} \\operatorname{I\\_1\\_r}{\\left (X_{1} \\right )} \\operatorname{h1}{\\left (E_{1},I_{1} \\right )} \\frac{\\partial}{\\partial X_{1}} \\operatorname{E\\_1}{\\left (X_{1},Y_{1} \\right )} \\frac{\\partial}{\\partial F} \\operatorname{I\\_10}{\\left (F \\right )} + \\frac{\\partial}{\\partial X_{1}} \\operatorname{\\Phi\\_F}{\\left (X_{1},Y_{1} \\right )}\\end{smallmatrix}\\right]$$"
      ],
      "text/plain": [
       "⎡                                                         d              d    \n",
       "⎢                                    I₁ ᵣ(X₁)⋅h₁(E₁, I₁)⋅───(E₁(X₁, Y₁))⋅──(I₁\n",
       "⎢                   d                                    dX₁             dF   \n",
       "⎢- I₁₀(F)⋅I₁ ᵣ(X₁)⋅───(E₁(X₁, Y₁)) + ─────────────────────────────────────────\n",
       "⎣                  dX₁                                     2                  \n",
       "\n",
       "                           ⎤\n",
       "₀(F))                      ⎥\n",
       "         d                 ⎥\n",
       "───── + ───(\\Phi_F(X₁, Y₁))⎥\n",
       "        dX₁                ⎦"
      ]
     },
     "execution_count": 81,
     "metadata": {},
     "output_type": "execute_result"
    }
   ],
   "source": [
    "S[0,1:n+1]+H[0,1:n+1]"
   ]
  },
  {
   "cell_type": "markdown",
   "metadata": {},
   "source": [
    "###### Sector $$d\\Phi dI^b$$"
   ]
  },
  {
   "cell_type": "code",
   "execution_count": 82,
   "metadata": {
    "collapsed": false
   },
   "outputs": [
    {
     "data": {
      "text/latex": [
       "$$\\left[\\begin{smallmatrix}- \\operatorname{I\\_10}{\\left (F \\right )} \\operatorname{I\\_1\\_r}{\\left (X_{1} \\right )} \\frac{\\partial}{\\partial Y_{1}} \\operatorname{E\\_1}{\\left (X_{1},Y_{1} \\right )} + \\frac{1}{2} \\operatorname{I\\_1\\_r}{\\left (X_{1} \\right )} \\operatorname{h1}{\\left (E_{1},I_{1} \\right )} \\frac{\\partial}{\\partial Y_{1}} \\operatorname{E\\_1}{\\left (X_{1},Y_{1} \\right )} \\frac{\\partial}{\\partial F} \\operatorname{I\\_10}{\\left (F \\right )} + \\frac{\\partial}{\\partial Y_{1}} \\operatorname{\\Phi\\_F}{\\left (X_{1},Y_{1} \\right )}\\end{smallmatrix}\\right]$$"
      ],
      "text/plain": [
       "⎡                                                         d              d    \n",
       "⎢                                    I₁ ᵣ(X₁)⋅h₁(E₁, I₁)⋅───(E₁(X₁, Y₁))⋅──(I₁\n",
       "⎢                   d                                    dY₁             dF   \n",
       "⎢- I₁₀(F)⋅I₁ ᵣ(X₁)⋅───(E₁(X₁, Y₁)) + ─────────────────────────────────────────\n",
       "⎣                  dY₁                                     2                  \n",
       "\n",
       "                           ⎤\n",
       "₀(F))                      ⎥\n",
       "         d                 ⎥\n",
       "───── + ───(\\Phi_F(X₁, Y₁))⎥\n",
       "        dY₁                ⎦"
      ]
     },
     "execution_count": 82,
     "metadata": {},
     "output_type": "execute_result"
    }
   ],
   "source": [
    "S[0,n+1:2*n+1]+H[0,n+1:2*n+1]"
   ]
  },
  {
   "cell_type": "code",
   "execution_count": 83,
   "metadata": {
    "collapsed": false
   },
   "outputs": [
    {
     "data": {
      "image/png": "[encoded data removed]",
      "text/latex": [
       "$$- \\operatorname{I\\_10}{\\left (F \\right )} \\operatorname{I\\_1\\_r}{\\left (X_{1} \\right )} \\frac{\\partial}{\\partial Y_{1}} \\operatorname{E\\_1}{\\left (X_{1},Y_{1} \\right )} + \\frac{1}{2} \\operatorname{I\\_1\\_r}{\\left (X_{1} \\right )} \\operatorname{h1}{\\left (E_{1},I_{1} \\right )} \\frac{\\partial}{\\partial Y_{1}} \\operatorname{E\\_1}{\\left (X_{1},Y_{1} \\right )} \\frac{\\partial}{\\partial F} \\operatorname{I\\_10}{\\left (F \\right )} + \\frac{\\partial}{\\partial Y_{1}} \\operatorname{\\Phi\\_F}{\\left (X_{1},Y_{1} \\right )}$$"
      ],
      "text/plain": [
       "                                                         d              d     \n",
       "                                    I₁ ᵣ(X₁)⋅h₁(E₁, I₁)⋅───(E₁(X₁, Y₁))⋅──(I₁₀\n",
       "                   d                                    dY₁             dF    \n",
       "- I₁₀(F)⋅I₁ ᵣ(X₁)⋅───(E₁(X₁, Y₁)) + ──────────────────────────────────────────\n",
       "                  dY₁                                     2                   \n",
       "\n",
       "                          \n",
       "(F))                      \n",
       "        d                 \n",
       "──── + ───(\\Phi_F(X₁, Y₁))\n",
       "       dY₁                "
      ]
     },
     "execution_count": 83,
     "metadata": {},
     "output_type": "execute_result"
    }
   ],
   "source": [
    "l = S[0,n+1:2*n+1]+H[0,n+1:2*n+1]\n",
    "simplify(l[0])"
   ]
  },
  {
   "cell_type": "code",
   "execution_count": 5,
   "metadata": {
    "collapsed": false
   },
   "outputs": [
    {
     "name": "stdout",
     "output_type": "stream",
     "text": [
      "--- 0.144000053406 seconds ---\n"
     ]
    }
   ],
   "source": [
    "L = get_difeomorphisms(n)"
   ]
  },
  {
   "cell_type": "code",
   "execution_count": 117,
   "metadata": {
    "collapsed": false
   },
   "outputs": [
    {
     "data": {
      "image/png": "[encoded data removed]",
      "text/plain": [
       "15.0"
      ]
     },
     "execution_count": 117,
     "metadata": {},
     "output_type": "execute_result"
    }
   ],
   "source": [
    "(.18*3000000./10.)/60/60"
   ]
  },
  {
   "cell_type": "code",
   "execution_count": 6,
   "metadata": {
    "collapsed": false
   },
   "outputs": [
    {
     "data": {
      "text/latex": [
       "$$\\begin{bmatrix}\\end{bmatrix}$$"
      ],
      "text/plain": [
       "[]"
      ]
     },
     "execution_count": 6,
     "metadata": {},
     "output_type": "execute_result"
    }
   ],
   "source": [
    "L"
   ]
  },
  {
   "cell_type": "code",
   "execution_count": null,
   "metadata": {
    "collapsed": false
   },
   "outputs": [],
   "source": [
    "buckets = [0] * 100"
   ]
  }
 ],
 "metadata": {
  "kernelspec": {
   "display_name": "Python 3",
   "language": "python",
   "name": "python3"
  },
  "language_info": {
   "codemirror_mode": {
    "name": "ipython",
    "version": 3
   },
   "file_extension": ".py",
   "mimetype": "text/x-python",
   "name": "python",
   "nbconvert_exporter": "python",
   "pygments_lexer": "ipython3",
   "version": "3.5.1"
  }
 },
 "nbformat": 4,
 "nbformat_minor": 0
}
