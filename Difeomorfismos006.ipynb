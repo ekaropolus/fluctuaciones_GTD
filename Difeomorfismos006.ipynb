{
 "metadata": {
  "name": "Difeomorfismos006"
 },
 "nbformat": 3,
 "nbformat_minor": 0,
 "worksheets": [
  {
   "cells": [
    {
     "cell_type": "code",
     "collapsed": false,
     "input": [
      "from difeomorfismo import *\n",
      "init_printing()"
     ],
     "language": "python",
     "metadata": {},
     "outputs": [],
     "prompt_number": 1
    },
    {
     "cell_type": "code",
     "collapsed": false,
     "input": [
      "n = 2"
     ],
     "language": "python",
     "metadata": {},
     "outputs": [],
     "prompt_number": 2
    },
    {
     "cell_type": "heading",
     "level": 1,
     "metadata": {},
     "source": [
      "Difeomorfismo"
     ]
    },
    {
     "cell_type": "heading",
     "level": 6,
     "metadata": {},
     "source": [
      "Variables del difeomorfismo"
     ]
    },
    {
     "cell_type": "code",
     "collapsed": false,
     "input": [
      "Z = []\n",
      "B = []\n",
      "Z,B = n_grados001(n)\n",
      "Z, B"
     ],
     "language": "python",
     "metadata": {},
     "outputs": [
      {
       "latex": [
        "$$\\begin{pmatrix}\\begin{bmatrix}\\Phi, & E_{1}, & E_{2}, & I_{1}, & I_{2}\\end{bmatrix}, & \\begin{bmatrix}F, & X_{1}, & X_{2}, & Y_{1}, & Y_{2}\\end{bmatrix}\\end{pmatrix}$$"
       ],
       "output_type": "pyout",
       "prompt_number": 3,
       "text": [
        "([\\Phi, E\u2081, E\u2082, I\u2081, I\u2082], [F, X\u2081, X\u2082, Y\u2081, Y\u2082])"
       ]
      }
     ],
     "prompt_number": 3
    },
    {
     "cell_type": "heading",
     "level": 6,
     "metadata": {},
     "source": [
      "Relaci\u00f3n entre ellas, caso nada depende de F"
     ]
    },
    {
     "cell_type": "code",
     "collapsed": false,
     "input": [
      "s = [[1,0,0,0,0],[1,1,1,1,1],[1,1,1,1,1],[1,1,1,1,1],[1,1,1,1,1]]\n",
      "g = [0,2,3,1,1]\n",
      "Z0,c = difeomorphism_sop(B,Z,s)\n",
      "Z0"
     ],
     "language": "python",
     "metadata": {},
     "outputs": [
      {
       "latex": [
        "$$\\begin{bmatrix}\\Phi \\Phi01, & E_{1} E_{101} \\Phi + E_{1} E_{112} E_{2} + E_{1} E_{113} I_{1} + E_{1} E_{114} I_{2} + E_{1} E_{115} + E_{102} E_{2} \\Phi + E_{103} I_{1} \\Phi + E_{104} I_{2} \\Phi + E_{105} \\Phi + E_{123} E_{2} I_{1} + E_{124} E_{2} I_{2} + E_{125} E_{2} + E_{134} I_{1} I_{2} + E_{135} I_{1} + E_{145} I_{2}, & E_{1} E_{2} E_{212} + E_{1} E_{201} \\Phi + E_{1} E_{213} I_{1} + E_{1} E_{214} I_{2} + E_{1} E_{215} + E_{2} E_{202} \\Phi + E_{2} E_{223} I_{1} + E_{2} E_{224} I_{2} + E_{2} E_{225} + E_{203} I_{1} \\Phi + E_{204} I_{2} \\Phi + E_{205} \\Phi + E_{234} I_{1} I_{2} + E_{235} I_{1} + E_{245} I_{2}, & E_{1} E_{2} I_{112} + E_{1} I_{1} I_{113} + E_{1} I_{101} \\Phi + E_{1} I_{114} I_{2} + E_{1} I_{115} + E_{2} I_{1} I_{123} + E_{2} I_{102} \\Phi + E_{2} I_{124} I_{2} + E_{2} I_{125} + I_{1} I_{103} \\Phi + I_{1} I_{134} I_{2} + I_{1} I_{135} + I_{104} I_{2} \\Phi + I_{105} \\Phi + I_{145} I_{2}, & E_{1} E_{2} I_{212} + E_{1} I_{1} I_{213} + E_{1} I_{2} I_{214} + E_{1} I_{201} \\Phi + E_{1} I_{215} + E_{2} I_{1} I_{223} + E_{2} I_{2} I_{224} + E_{2} I_{202} \\Phi + E_{2} I_{225} + I_{1} I_{2} I_{234} + I_{1} I_{203} \\Phi + I_{1} I_{235} + I_{2} I_{204} \\Phi + I_{2} I_{245} + I_{205} \\Phi\\end{bmatrix}$$"
       ],
       "output_type": "pyout",
       "prompt_number": 4,
       "text": [
        "[\\Phi\u22c5\\Phi01, E\u2081\u22c5E\u2081\u2080\u2081\u22c5\\Phi + E\u2081\u22c5E\u2081\u2081\u2082\u22c5E\u2082 + E\u2081\u22c5E\u2081\u2081\u2083\u22c5I\u2081 + E\u2081\u22c5E\u2081\u2081\u2084\u22c5I\u2082 + E\u2081\u22c5E\u2081\u2081\u2085 + \n",
        "E\u2081\u2080\u2082\u22c5E\u2082\u22c5\\Phi + E\u2081\u2080\u2083\u22c5I\u2081\u22c5\\Phi + E\u2081\u2080\u2084\u22c5I\u2082\u22c5\\Phi + E\u2081\u2080\u2085\u22c5\\Phi + E\u2081\u2082\u2083\u22c5E\u2082\u22c5I\u2081 + E\u2081\u2082\u2084\u22c5E\u2082\u22c5\n",
        "I\u2082 + E\u2081\u2082\u2085\u22c5E\u2082 + E\u2081\u2083\u2084\u22c5I\u2081\u22c5I\u2082 + E\u2081\u2083\u2085\u22c5I\u2081 + E\u2081\u2084\u2085\u22c5I\u2082, E\u2081\u22c5E\u2082\u22c5E\u2082\u2081\u2082 + E\u2081\u22c5E\u2082\u2080\u2081\u22c5\\Phi + E\u2081\u22c5\n",
        "E\u2082\u2081\u2083\u22c5I\u2081 + E\u2081\u22c5E\u2082\u2081\u2084\u22c5I\u2082 + E\u2081\u22c5E\u2082\u2081\u2085 + E\u2082\u22c5E\u2082\u2080\u2082\u22c5\\Phi + E\u2082\u22c5E\u2082\u2082\u2083\u22c5I\u2081 + E\u2082\u22c5E\u2082\u2082\u2084\u22c5I\u2082 + E\u2082\u22c5E\n",
        "\u2082\u2082\u2085 + E\u2082\u2080\u2083\u22c5I\u2081\u22c5\\Phi + E\u2082\u2080\u2084\u22c5I\u2082\u22c5\\Phi + E\u2082\u2080\u2085\u22c5\\Phi + E\u2082\u2083\u2084\u22c5I\u2081\u22c5I\u2082 + E\u2082\u2083\u2085\u22c5I\u2081 + E\u2082\u2084\u2085\u22c5I\u2082\n",
        ", E\u2081\u22c5E\u2082\u22c5I\u2081\u2081\u2082 + E\u2081\u22c5I\u2081\u22c5I\u2081\u2081\u2083 + E\u2081\u22c5I\u2081\u2080\u2081\u22c5\\Phi + E\u2081\u22c5I\u2081\u2081\u2084\u22c5I\u2082 + E\u2081\u22c5I\u2081\u2081\u2085 + E\u2082\u22c5I\u2081\u22c5I\u2081\u2082\u2083 +\n",
        " E\u2082\u22c5I\u2081\u2080\u2082\u22c5\\Phi + E\u2082\u22c5I\u2081\u2082\u2084\u22c5I\u2082 + E\u2082\u22c5I\u2081\u2082\u2085 + I\u2081\u22c5I\u2081\u2080\u2083\u22c5\\Phi + I\u2081\u22c5I\u2081\u2083\u2084\u22c5I\u2082 + I\u2081\u22c5I\u2081\u2083\u2085 + I\n",
        "\u2081\u2080\u2084\u22c5I\u2082\u22c5\\Phi + I\u2081\u2080\u2085\u22c5\\Phi + I\u2081\u2084\u2085\u22c5I\u2082, E\u2081\u22c5E\u2082\u22c5I\u2082\u2081\u2082 + E\u2081\u22c5I\u2081\u22c5I\u2082\u2081\u2083 + E\u2081\u22c5I\u2082\u22c5I\u2082\u2081\u2084 + E\u2081\u22c5I\n",
        "\u2082\u2080\u2081\u22c5\\Phi + E\u2081\u22c5I\u2082\u2081\u2085 + E\u2082\u22c5I\u2081\u22c5I\u2082\u2082\u2083 + E\u2082\u22c5I\u2082\u22c5I\u2082\u2082\u2084 + E\u2082\u22c5I\u2082\u2080\u2082\u22c5\\Phi + E\u2082\u22c5I\u2082\u2082\u2085 + I\u2081\u22c5I\u2082\u22c5\n",
        "I\u2082\u2083\u2084 + I\u2081\u22c5I\u2082\u2080\u2083\u22c5\\Phi + I\u2081\u22c5I\u2082\u2083\u2085 + I\u2082\u22c5I\u2082\u2080\u2084\u22c5\\Phi + I\u2082\u22c5I\u2082\u2084\u2085 + I\u2082\u2080\u2085\u22c5\\Phi]"
       ]
      }
     ],
     "prompt_number": 4
    },
    {
     "cell_type": "code",
     "collapsed": false,
     "input": [
      "A10 = Symbol('A_10')\n",
      "A20 = Symbol('A_20')\n",
      "D10 = Symbol('D_10')\n",
      "D20 = Symbol('D_20')\n",
      "B11 = Symbol('B_11')\n",
      "B12 = Symbol('B_12')\n",
      "B21 = Symbol('B_21')\n",
      "B22 = Symbol('B_22')\n",
      "C11 = Symbol('C_11')\n",
      "C12 = Symbol('C_12')\n",
      "C21 = Symbol('C_21')\n",
      "C22 = Symbol('C_22')\n",
      "L11 = Symbol('L_11')\n",
      "L12 = Symbol('L_12')\n",
      "L21 = Symbol('L_21')\n",
      "L22 = Symbol('L_22')\n",
      "M11 = Symbol('M_11')\n",
      "M12 = Symbol('M_12')\n",
      "M21 = Symbol('M_21')\n",
      "M22 = Symbol('M_22')\n",
      "\n",
      "\n",
      "Z0[1]=A10*Z[0]+B11*Z[1]+B12*Z[2]+C11*Z[3]+C12*Z[4]\n",
      "Z0[2]=A20*Z[0]+B21*Z[1]+B22*Z[2]+C21*Z[3]+C22*Z[4]\n",
      "Z0[3]=D10*Z[0]+L11*Z[1]+L12*Z[2]+M11*Z[3]+M12*Z[4]\n",
      "Z0[4]=D20*Z[0]+L21*Z[1]+L22*Z[2]+M21*Z[3]+M22*Z[4]\n",
      "\n",
      "#f=2*a*o*Z[1]+2*d*m*Z[2]+o*d\n",
      "Z0[0]=Function(str('F'))(*Z)\n",
      "Z0"
     ],
     "language": "python",
     "metadata": {},
     "outputs": [
      {
       "latex": [
        "$$\\begin{bmatrix}\\operatorname{F}{\\left (\\Phi,E_{1},E_{2},I_{1},I_{2} \\right )}, & A_{10} \\Phi + B_{11} E_{1} + B_{12} E_{2} + C_{11} I_{1} + C_{12} I_{2}, & A_{20} \\Phi + B_{21} E_{1} + B_{22} E_{2} + C_{21} I_{1} + C_{22} I_{2}, & D_{10} \\Phi + E_{1} L_{11} + E_{2} L_{12} + I_{1} M_{11} + I_{2} M_{12}, & D_{20} \\Phi + E_{1} L_{21} + E_{2} L_{22} + I_{1} M_{21} + I_{2} M_{22}\\end{bmatrix}$$"
       ],
       "output_type": "pyout",
       "prompt_number": 5,
       "text": [
        "[F(\\Phi, E\u2081, E\u2082, I\u2081, I\u2082), A\u2081\u2080\u22c5\\Phi + B\u2081\u2081\u22c5E\u2081 + B\u2081\u2082\u22c5E\u2082 + C\u2081\u2081\u22c5I\u2081 + C\u2081\u2082\u22c5I\u2082, A\u2082\u2080\u22c5\\P\n",
        "hi + B\u2082\u2081\u22c5E\u2081 + B\u2082\u2082\u22c5E\u2082 + C\u2082\u2081\u22c5I\u2081 + C\u2082\u2082\u22c5I\u2082, D\u2081\u2080\u22c5\\Phi + E\u2081\u22c5L\u2081\u2081 + E\u2082\u22c5L\u2081\u2082 + I\u2081\u22c5M\u2081\u2081 + \n",
        "I\u2082\u22c5M\u2081\u2082, D\u2082\u2080\u22c5\\Phi + E\u2081\u22c5L\u2082\u2081 + E\u2082\u22c5L\u2082\u2082 + I\u2081\u22c5M\u2082\u2081 + I\u2082\u22c5M\u2082\u2082]"
       ]
      }
     ],
     "prompt_number": 5
    },
    {
     "cell_type": "code",
     "collapsed": false,
     "input": [
      "Z0[1]"
     ],
     "language": "python",
     "metadata": {},
     "outputs": [
      {
       "latex": [
        "$$A_{10} \\Phi + B_{11} E_{1} + B_{12} E_{2} + C_{11} I_{1} + C_{12} I_{2}$$"
       ],
       "output_type": "pyout",
       "png": "[encoded data removed]",
       "prompt_number": 6,
       "text": [
        "A\u2081\u2080\u22c5\\Phi + B\u2081\u2081\u22c5E\u2081 + B\u2081\u2082\u22c5E\u2082 + C\u2081\u2081\u22c5I\u2081 + C\u2081\u2082\u22c5I\u2082"
       ]
      }
     ],
     "prompt_number": 6
    },
    {
     "cell_type": "heading",
     "level": 6,
     "metadata": {},
     "source": [
      "Matriz de la GTD a usar"
     ]
    },
    {
     "cell_type": "code",
     "collapsed": false,
     "input": [
      "N = matrix_gtdieI(B,Z)\n",
      "N"
     ],
     "language": "python",
     "metadata": {},
     "outputs": [
      {
       "latex": [
        "$$\\begin{bmatrix}1, & E_{1} I_{1} + E_{2} I_{2}, & E_{1} I_{1} + E_{2} I_{2}\\end{bmatrix}$$"
       ],
       "output_type": "pyout",
       "prompt_number": 7,
       "text": [
        "[1, E\u2081\u22c5I\u2081 + E\u2082\u22c5I\u2082, E\u2081\u22c5I\u2081 + E\u2082\u22c5I\u2082]"
       ]
      }
     ],
     "prompt_number": 7
    },
    {
     "cell_type": "heading",
     "level": 6,
     "metadata": {},
     "source": [
      "Ecuaciones del difeomorfismo"
     ]
    },
    {
     "cell_type": "code",
     "collapsed": false,
     "input": [
      "H = zeros(n)\n",
      "S = zeros(n)\n",
      "H,S = difeomorphism_equations002(Z0,Z,expand,0,N,0,2*n+1)\n",
      "S,H"
     ],
     "language": "python",
     "metadata": {},
     "outputs": [
      {
       "latex": [
        "$$\\begin{pmatrix}\\left[\\begin{smallmatrix}A_{10} D_{10} + A_{20} D_{20} & A_{10} L_{11} + A_{20} L_{21} & A_{10} L_{12} + A_{20} L_{22} & A_{10} M_{11} + A_{20} M_{21} & A_{10} M_{12} + A_{20} M_{22}\\\\B_{11} D_{10} + B_{21} D_{20} & B_{11} L_{11} + B_{21} L_{21} & B_{11} L_{12} + B_{21} L_{22} & B_{11} M_{11} + B_{21} M_{21} - E_{1} I_{1} - E_{2} I_{2} - f & B_{11} M_{12} + B_{21} M_{22}\\\\B_{12} D_{10} + B_{22} D_{20} & B_{12} L_{11} + B_{22} L_{21} & B_{12} L_{12} + B_{22} L_{22} & B_{12} M_{11} + B_{22} M_{21} & B_{12} M_{12} + B_{22} M_{22} - E_{1} I_{1} - E_{2} I_{2} - f\\\\C_{11} D_{10} + C_{21} D_{20} & C_{11} L_{11} + C_{21} L_{21} & C_{11} L_{12} + C_{21} L_{22} & C_{11} M_{11} + C_{21} M_{21} & C_{11} M_{12} + C_{21} M_{22}\\\\C_{12} D_{10} + C_{22} D_{20} & C_{12} L_{11} + C_{22} L_{21} & C_{12} L_{12} + C_{22} L_{22} & C_{12} M_{11} + C_{22} M_{21} & C_{12} M_{12} + C_{22} M_{22}\\end{smallmatrix}\\right], & \\left[\\begin{smallmatrix}0 & 0 & 0 & 0 & 0\\\\0 & 0 & 0 & 0 & 0\\\\0 & 0 & 0 & 0 & 0\\\\0 & 0 & 0 & 0 & 0\\\\0 & 0 & 0 & 0 & 0\\end{smallmatrix}\\right]\\end{pmatrix}$$"
       ],
       "output_type": "pyout",
       "prompt_number": 8,
       "text": [
        "\u239b\u23a1A\u2081\u2080\u22c5D\u2081\u2080 + A\u2082\u2080\u22c5D\u2082\u2080  A\u2081\u2080\u22c5L\u2081\u2081 + A\u2082\u2080\u22c5L\u2082\u2081  A\u2081\u2080\u22c5L\u2081\u2082 + A\u2082\u2080\u22c5L\u2082\u2082            A\u2081\u2080\u22c5M\u2081\u2081 +\n",
        "\u239c\u23a2                                                                            \n",
        "\u239c\u23a2B\u2081\u2081\u22c5D\u2081\u2080 + B\u2082\u2081\u22c5D\u2082\u2080  B\u2081\u2081\u22c5L\u2081\u2081 + B\u2082\u2081\u22c5L\u2082\u2081  B\u2081\u2081\u22c5L\u2081\u2082 + B\u2082\u2081\u22c5L\u2082\u2082  B\u2081\u2081\u22c5M\u2081\u2081 + B\u2082\u2081\u22c5M\u2082\u2081 -\n",
        "\u239c\u23a2                                                                            \n",
        "\u239c\u23a2B\u2081\u2082\u22c5D\u2081\u2080 + B\u2082\u2082\u22c5D\u2082\u2080  B\u2081\u2082\u22c5L\u2081\u2081 + B\u2082\u2082\u22c5L\u2082\u2081  B\u2081\u2082\u22c5L\u2081\u2082 + B\u2082\u2082\u22c5L\u2082\u2082            B\u2081\u2082\u22c5M\u2081\u2081 +\n",
        "\u239c\u23a2                                                                            \n",
        "\u239c\u23a2C\u2081\u2081\u22c5D\u2081\u2080 + C\u2082\u2081\u22c5D\u2082\u2080  C\u2081\u2081\u22c5L\u2081\u2081 + C\u2082\u2081\u22c5L\u2082\u2081  C\u2081\u2081\u22c5L\u2081\u2082 + C\u2082\u2081\u22c5L\u2082\u2082            C\u2081\u2081\u22c5M\u2081\u2081 +\n",
        "\u239c\u23a2                                                                            \n",
        "\u239d\u23a3C\u2081\u2082\u22c5D\u2081\u2080 + C\u2082\u2082\u22c5D\u2082\u2080  C\u2081\u2082\u22c5L\u2081\u2081 + C\u2082\u2082\u22c5L\u2082\u2081  C\u2081\u2082\u22c5L\u2081\u2082 + C\u2082\u2082\u22c5L\u2082\u2082            C\u2081\u2082\u22c5M\u2081\u2081 +\n",
        "\n",
        " A\u2082\u2080\u22c5M\u2082\u2081                      A\u2081\u2080\u22c5M\u2081\u2082 + A\u2082\u2080\u22c5M\u2082\u2082          \u23a4, \u23a10  0  0  0  0\u23a4\u239e\n",
        "                                                         \u23a5  \u23a2             \u23a5\u239f\n",
        " E\u2081\u22c5I\u2081 - E\u2082\u22c5I\u2082 - f            B\u2081\u2081\u22c5M\u2081\u2082 + B\u2082\u2081\u22c5M\u2082\u2082          \u23a5  \u23a20  0  0  0  0\u23a5\u239f\n",
        "                                                         \u23a5  \u23a2             \u23a5\u239f\n",
        " B\u2082\u2082\u22c5M\u2082\u2081            B\u2081\u2082\u22c5M\u2081\u2082 + B\u2082\u2082\u22c5M\u2082\u2082 - E\u2081\u22c5I\u2081 - E\u2082\u22c5I\u2082 - f\u23a5  \u23a20  0  0  0  0\u23a5\u239f\n",
        "                                                         \u23a5  \u23a2             \u23a5\u239f\n",
        " C\u2082\u2081\u22c5M\u2082\u2081                      C\u2081\u2081\u22c5M\u2081\u2082 + C\u2082\u2081\u22c5M\u2082\u2082          \u23a5  \u23a20  0  0  0  0\u23a5\u239f\n",
        "                                                         \u23a5  \u23a2             \u23a5\u239f\n",
        " C\u2082\u2082\u22c5M\u2082\u2081                      C\u2081\u2082\u22c5M\u2081\u2082 + C\u2082\u2082\u22c5M\u2082\u2082          \u23a6  \u23a30  0  0  0  0\u23a6\u23a0"
       ]
      }
     ],
     "prompt_number": 8
    },
    {
     "cell_type": "heading",
     "level": 6,
     "metadata": {},
     "source": [
      "Sector $$dI^adE^b$$"
     ]
    },
    {
     "cell_type": "code",
     "collapsed": false,
     "input": [
      "S[1:n+1,1+n:2*n+1],H[1:n+1,1+n:2*n+1]\n"
     ],
     "language": "python",
     "metadata": {},
     "outputs": [
      {
       "latex": [
        "$$\\begin{pmatrix}\\left[\\begin{smallmatrix}B_{11} M_{11} + B_{21} M_{21} - E_{1} I_{1} - E_{2} I_{2} - f & B_{11} M_{12} + B_{21} M_{22}\\\\B_{12} M_{11} + B_{22} M_{21} & B_{12} M_{12} + B_{22} M_{22} - E_{1} I_{1} - E_{2} I_{2} - f\\end{smallmatrix}\\right], & \\left[\\begin{smallmatrix}0 & 0\\\\0 & 0\\end{smallmatrix}\\right]\\end{pmatrix}$$"
       ],
       "output_type": "pyout",
       "prompt_number": 9,
       "text": [
        "\u239b\u23a1B\u2081\u2081\u22c5M\u2081\u2081 + B\u2082\u2081\u22c5M\u2082\u2081 - E\u2081\u22c5I\u2081 - E\u2082\u22c5I\u2082 - f            B\u2081\u2081\u22c5M\u2081\u2082 + B\u2082\u2081\u22c5M\u2082\u2082          \n",
        "\u239c\u23a2                                                                            \n",
        "\u239d\u23a3          B\u2081\u2082\u22c5M\u2081\u2081 + B\u2082\u2082\u22c5M\u2082\u2081            B\u2081\u2082\u22c5M\u2081\u2082 + B\u2082\u2082\u22c5M\u2082\u2082 - E\u2081\u22c5I\u2081 - E\u2082\u22c5I\u2082 - f\n",
        "\n",
        "\u23a4, \u23a10  0\u23a4\u239e\n",
        "\u23a5  \u23a2    \u23a5\u239f\n",
        "\u23a6  \u23a30  0\u23a6\u23a0"
       ]
      }
     ],
     "prompt_number": 9
    },
    {
     "cell_type": "code",
     "collapsed": false,
     "input": [
      "EQ,c,replacement = solve_s(n,Z,S)\n"
     ],
     "language": "python",
     "metadata": {},
     "outputs": [],
     "prompt_number": 10
    },
    {
     "cell_type": "code",
     "collapsed": false,
     "input": [
      "len(replacement),replacement"
     ],
     "language": "python",
     "metadata": {},
     "outputs": [
      {
       "latex": [
        "$$\\begin{pmatrix}10, & \\begin{bmatrix}\\begin{pmatrix}A_{10}, & 0\\end{pmatrix}, & \\begin{pmatrix}A_{20}, & 0\\end{pmatrix}, & \\begin{pmatrix}B_{11}, & 0\\end{pmatrix}, & \\begin{pmatrix}B_{12}, & 0\\end{pmatrix}, & \\begin{pmatrix}B_{21}, & 0\\end{pmatrix}, & \\begin{pmatrix}B_{22}, & 0\\end{pmatrix}, & \\begin{pmatrix}C_{11}, & 0\\end{pmatrix}, & \\begin{pmatrix}C_{12}, & 0\\end{pmatrix}, & \\begin{pmatrix}C_{21}, & 0\\end{pmatrix}, & \\begin{pmatrix}C_{22}, & 0\\end{pmatrix}\\end{bmatrix}\\end{pmatrix}$$"
       ],
       "output_type": "pyout",
       "prompt_number": 11,
       "text": [
        "(10, [(A\u2081\u2080, 0), (A\u2082\u2080, 0), (B\u2081\u2081, 0), (B\u2081\u2082, 0), (B\u2082\u2081, 0), (B\u2082\u2082, 0), (C\u2081\u2081, 0), (C\n",
        "\u2081\u2082, 0), (C\u2082\u2081, 0), (C\u2082\u2082, 0)])"
       ]
      }
     ],
     "prompt_number": 11
    },
    {
     "cell_type": "code",
     "collapsed": false,
     "input": [
      "len(EQ),EQ"
     ],
     "language": "python",
     "metadata": {},
     "outputs": [
      {
       "latex": [
        "$$\\begin{pmatrix}17, & \\begin{bmatrix}A_{10} D_{10} + A_{20} D_{20} = 0, & A_{10} L_{11} + A_{20} L_{21} = 0, & A_{10} L_{12} + A_{20} L_{22} = 0, & A_{10} M_{11} + A_{20} M_{21} = 0, & A_{10} M_{12} + A_{20} M_{22} = 0, & B_{11} D_{10} + B_{21} D_{20} = 0, & B_{11} L_{11} + B_{21} L_{21} = 0, & B_{11} L_{12} + B_{21} L_{22} = 0, & B_{12} D_{10} + B_{22} D_{20} = 0, & B_{12} L_{11} + B_{22} L_{21} = 0, & B_{12} L_{12} + B_{22} L_{22} = 0, & C_{11} D_{10} + C_{21} D_{20} = 0, & C_{11} M_{11} + C_{21} M_{21} = 0, & C_{11} M_{12} + C_{21} M_{22} = 0, & C_{12} D_{10} + C_{22} D_{20} = 0, & C_{12} M_{11} + C_{22} M_{21} = 0, & C_{12} M_{12} + C_{22} M_{22} = 0\\end{bmatrix}\\end{pmatrix}$$"
       ],
       "output_type": "pyout",
       "prompt_number": 12,
       "text": [
        "(17, [A\u2081\u2080\u22c5D\u2081\u2080 + A\u2082\u2080\u22c5D\u2082\u2080 = 0, A\u2081\u2080\u22c5L\u2081\u2081 + A\u2082\u2080\u22c5L\u2082\u2081 = 0, A\u2081\u2080\u22c5L\u2081\u2082 + A\u2082\u2080\u22c5L\u2082\u2082 = 0, A\u2081\u2080\n",
        "\u22c5M\u2081\u2081 + A\u2082\u2080\u22c5M\u2082\u2081 = 0, A\u2081\u2080\u22c5M\u2081\u2082 + A\u2082\u2080\u22c5M\u2082\u2082 = 0, B\u2081\u2081\u22c5D\u2081\u2080 + B\u2082\u2081\u22c5D\u2082\u2080 = 0, B\u2081\u2081\u22c5L\u2081\u2081 + B\u2082\n",
        "\u2081\u22c5L\u2082\u2081 = 0, B\u2081\u2081\u22c5L\u2081\u2082 + B\u2082\u2081\u22c5L\u2082\u2082 = 0, B\u2081\u2082\u22c5D\u2081\u2080 + B\u2082\u2082\u22c5D\u2082\u2080 = 0, B\u2081\u2082\u22c5L\u2081\u2081 + B\u2082\u2082\u22c5L\u2082\u2081 = 0\n",
        ", B\u2081\u2082\u22c5L\u2081\u2082 + B\u2082\u2082\u22c5L\u2082\u2082 = 0, C\u2081\u2081\u22c5D\u2081\u2080 + C\u2082\u2081\u22c5D\u2082\u2080 = 0, C\u2081\u2081\u22c5M\u2081\u2081 + C\u2082\u2081\u22c5M\u2082\u2081 = 0, C\u2081\u2081\u22c5M\u2081\u2082\n",
        " + C\u2082\u2081\u22c5M\u2082\u2082 = 0, C\u2081\u2082\u22c5D\u2081\u2080 + C\u2082\u2082\u22c5D\u2082\u2080 = 0, C\u2081\u2082\u22c5M\u2081\u2081 + C\u2082\u2082\u22c5M\u2082\u2081 = 0, C\u2081\u2082\u22c5M\u2081\u2082 + C\u2082\u2082\u22c5M\u2082\n",
        "\u2082 = 0])"
       ]
      }
     ],
     "prompt_number": 12
    },
    {
     "cell_type": "code",
     "collapsed": false,
     "input": [
      "len(c),c"
     ],
     "language": "python",
     "metadata": {},
     "outputs": [
      {
       "latex": [
        "$$\\begin{pmatrix}20, & \\left\\{A_{10}, A_{20}, B_{11}, B_{12}, B_{21}, B_{22}, C_{11}, C_{12}, C_{21}, C_{22}, D_{10}, D_{20}, L_{11}, L_{12}, L_{21}, L_{22}, M_{11}, M_{12}, M_{21}, M_{22}\\right\\}\\end{pmatrix}$$"
       ],
       "output_type": "pyout",
       "prompt_number": 13,
       "text": [
        "(20, set([A\u2081\u2080, A\u2082\u2080, B\u2081\u2081, B\u2081\u2082, B\u2082\u2081, B\u2082\u2082, C\u2081\u2081, C\u2081\u2082, C\u2082\u2081, C\u2082\u2082, D\u2081\u2080, D\u2082\u2080, L\u2081\u2081, L\u2081\u2082\n",
        ", L\u2082\u2081, L\u2082\u2082, M\u2081\u2081, M\u2081\u2082, M\u2082\u2081, M\u2082\u2082]))"
       ]
      }
     ],
     "prompt_number": 13
    },
    {
     "cell_type": "code",
     "collapsed": false,
     "input": [
      "replacement+ = set_replacement(n,Z)\n",
      "replacement"
     ],
     "language": "python",
     "metadata": {},
     "outputs": [
      {
       "latex": [
        "$$\\begin{bmatrix}\\begin{pmatrix}\\Phi, & 1\\end{pmatrix}, & \\begin{pmatrix}E_{1}, & 1\\end{pmatrix}, & \\begin{pmatrix}I_{1}, & 1\\end{pmatrix}\\end{bmatrix}$$"
       ],
       "output_type": "pyout",
       "prompt_number": 9,
       "text": [
        "[(\\Phi, 1), (E\u2081, 1), (I\u2081, 1)]"
       ]
      }
     ],
     "prompt_number": 9
    },
    {
     "cell_type": "code",
     "collapsed": false,
     "input": [
      "replacement = replacement + replacement2\n",
      "replacement"
     ],
     "language": "python",
     "metadata": {},
     "outputs": [
      {
       "latex": [
        "$$\\begin{bmatrix}\\begin{pmatrix}E_{101}, & 2 E_{104} - 2 E_{105} + 3 E_{113} + 5 E_{114} + E_{115} + 4 E_{123} + 6 E_{124} + 2 E_{125} + 2 E_{135} + 4 E_{145}\\end{pmatrix}, & \\begin{pmatrix}E_{102}, & - E_{104} + E_{105} - 2 E_{113} - 3 E_{114} - E_{115} - 3 E_{123} - 4 E_{124} - 2 E_{125} - E_{135} - 2 E_{145}\\end{pmatrix}, & \\begin{pmatrix}E_{103}, & - 2 E_{104} - E_{113} - 2 E_{114} - E_{123} - 2 E_{124} - E_{135} - 2 E_{145}\\end{pmatrix}, & \\begin{pmatrix}f, & -1\\end{pmatrix}, & \\begin{pmatrix}\\Phi, & 1\\end{pmatrix}, & \\begin{pmatrix}E_{1}, & 1\\end{pmatrix}, & \\begin{pmatrix}I_{1}, & 1\\end{pmatrix}\\end{bmatrix}$$"
       ],
       "output_type": "pyout",
       "prompt_number": 16,
       "text": [
        "[(E\u2081\u2080\u2081, 2\u22c5E\u2081\u2080\u2084 - 2\u22c5E\u2081\u2080\u2085 + 3\u22c5E\u2081\u2081\u2083 + 5\u22c5E\u2081\u2081\u2084 + E\u2081\u2081\u2085 + 4\u22c5E\u2081\u2082\u2083 + 6\u22c5E\u2081\u2082\u2084 + 2\u22c5E\u2081\u2082\u2085 + \n",
        "2\u22c5E\u2081\u2083\u2085 + 4\u22c5E\u2081\u2084\u2085), (E\u2081\u2080\u2082, -E\u2081\u2080\u2084 + E\u2081\u2080\u2085 - 2\u22c5E\u2081\u2081\u2083 - 3\u22c5E\u2081\u2081\u2084 - E\u2081\u2081\u2085 - 3\u22c5E\u2081\u2082\u2083 - 4\u22c5E\u2081\n",
        "\u2082\u2084 - 2\u22c5E\u2081\u2082\u2085 - E\u2081\u2083\u2085 - 2\u22c5E\u2081\u2084\u2085), (E\u2081\u2080\u2083, -2\u22c5E\u2081\u2080\u2084 - E\u2081\u2081\u2083 - 2\u22c5E\u2081\u2081\u2084 - E\u2081\u2082\u2083 - 2\u22c5E\u2081\u2082\u2084 -\n",
        " E\u2081\u2083\u2085 - 2\u22c5E\u2081\u2084\u2085), (f, -1), (\\Phi, 1), (E\u2081, 1), (I\u2081, 1)]"
       ]
      }
     ],
     "prompt_number": 16
    },
    {
     "cell_type": "code",
     "collapsed": false,
     "input": [
      "replacement = []"
     ],
     "language": "python",
     "metadata": {},
     "outputs": [],
     "prompt_number": 24
    },
    {
     "cell_type": "code",
     "collapsed": false,
     "input": [
      "EQ=set_EQ(n,S,replacement,Z)\n",
      "len(EQ),EQ"
     ],
     "language": "python",
     "metadata": {},
     "outputs": [
      {
       "latex": [
        "$$\\begin{pmatrix}6, & \\begin{bmatrix}E_{1}^{4} E_{102} I_{102} + E_{1}^{3} \\left(E_{101} I_{102} + E_{102} I_{101}\\right) + E_{1}^{2} \\left(E_{101} I_{101} + E_{102} I_{1}^{2} I_{104} + E_{102} I_{1} I_{103} + E_{102} I_{105} + E_{103} I_{1} I_{102} + E_{104} I_{102}\\right) + E_{1} \\left(E_{101} I_{1}^{2} I_{104} + E_{101} I_{1} I_{103} + E_{101} I_{105} + E_{103} I_{1} I_{101} + E_{104} I_{101}\\right) + E_{103} I_{1}^{3} I_{104} + E_{104} I_{105} + I_{1}^{2} \\left(E_{103} I_{103} + E_{104} I_{104}\\right) + I_{1} \\left(E_{103} I_{105} + E_{104} I_{103}\\right) = 0, & E_{1}^{3} \\left(2 E_{102} I_{1}^{2} I_{124} + 2 E_{102} I_{1} I_{123} + 2 E_{102} I_{125}\\right) + E_{1}^{2} \\left(2 E_{101} I_{1}^{2} I_{124} + 2 E_{101} I_{1} I_{123} + 2 E_{101} I_{125} + E_{102} I_{1}^{2} I_{114} + E_{102} I_{1} I_{113} + E_{102} I_{115}\\right) + E_{1} \\left(E_{101} I_{1}^{2} I_{114} + E_{101} I_{1} I_{113} + E_{101} I_{115} + 2 E_{103} I_{1}^{3} I_{124} + 2 E_{103} I_{1}^{2} I_{123} + 2 E_{103} I_{1} I_{125} + 2 E_{104} I_{1}^{2} I_{124} + 2 E_{104} I_{1} I_{123} + 2 E_{104} I_{125}\\right) + E_{103} I_{1}^{3} I_{114} + E_{104} I_{115} + I_{1}^{2} \\left(E_{103} I_{113} + E_{104} I_{114}\\right) + I_{1} \\left(E_{103} I_{115} + E_{104} I_{113}\\right) + \\Phi \\left(2 E_{1}^{3} E_{102} I_{102} + 2 E_{1}^{2} E_{101} I_{102} + E_{1}^{2} E_{102} I_{101} + E_{1} E_{101} I_{101} + 2 E_{1} E_{103} I_{1} I_{102} + 2 E_{1} E_{104} I_{102} + E_{103} I_{1} I_{101} + E_{104} I_{101}\\right) = 0, & E_{1}^{4} \\left(2 E_{102} I_{1} I_{124} + E_{102} I_{123}\\right) + E_{1}^{3} \\left(2 E_{101} I_{1} I_{124} + E_{101} I_{123} + 2 E_{102} I_{1} I_{114} + E_{102} I_{113}\\right) + E_{1}^{2} \\left(2 E_{101} I_{1} I_{114} + E_{101} I_{113} + 2 E_{102} I_{1} I_{145} + E_{102} I_{135} + 2 E_{103} I_{1}^{2} I_{124} + E_{103} I_{1} I_{123} + 2 E_{104} I_{1} I_{124} + E_{104} I_{123}\\right) + E_{1} \\left(2 E_{101} I_{1} I_{145} + E_{101} I_{135} + 2 E_{103} I_{1}^{2} I_{114} + E_{103} I_{1} I_{113} + 2 E_{104} I_{1} I_{114} + E_{104} I_{113}\\right) + 2 E_{103} I_{1}^{2} I_{145} + E_{104} I_{135} + I_{1} \\left(E_{103} I_{135} + 2 E_{104} I_{145}\\right) + \\Phi \\left(2 E_{1}^{2} E_{102} I_{1} I_{104} + E_{1}^{2} E_{102} I_{103} + 2 E_{1} E_{101} I_{1} I_{104} + E_{1} E_{101} I_{103} + 2 E_{103} I_{1}^{2} I_{104} + E_{103} I_{1} I_{103} + 2 E_{104} I_{1} I_{104} + E_{104} I_{103}\\right) = 0, & E_{1}^{2} \\left(4 E_{123} I_{1}^{3} I_{124} + 4 E_{123} I_{1}^{2} I_{123} + 4 E_{123} I_{1} I_{125} + 4 E_{124} I_{1}^{2} I_{124} + 4 E_{124} I_{1} I_{123} + 4 E_{124} I_{125}\\right) + E_{1} \\left(2 E_{113} I_{1}^{3} I_{124} + 2 E_{113} I_{1}^{2} I_{123} + 2 E_{113} I_{1} I_{125} + 2 E_{114} I_{1}^{2} I_{124} + 2 E_{114} I_{1} I_{123} + 2 E_{114} I_{125} + 2 E_{123} I_{1}^{3} I_{114} + 2 E_{123} I_{1}^{2} I_{113} + 2 E_{123} I_{1} I_{115} + 2 E_{124} I_{1}^{2} I_{114} + 2 E_{124} I_{1} I_{113} + 2 E_{124} I_{115}\\right) + E_{113} I_{1}^{3} I_{114} + E_{114} I_{115} + I_{1}^{2} \\left(E_{113} I_{113} + E_{114} I_{114}\\right) + I_{1} \\left(E_{113} I_{115} + E_{114} I_{113}\\right) + \\Phi^{2} \\left(4 E_{1}^{2} E_{102} I_{102} + 2 E_{1} E_{101} I_{102} + 2 E_{1} E_{102} I_{101} + E_{101} I_{101}\\right) + \\Phi \\left(4 E_{1}^{2} E_{102} I_{1}^{2} I_{124} + 4 E_{1}^{2} E_{102} I_{1} I_{123} + 4 E_{1}^{2} E_{102} I_{125} + 4 E_{1}^{2} E_{123} I_{1} I_{102} + 4 E_{1}^{2} E_{124} I_{102} + 2 E_{1} E_{101} I_{1}^{2} I_{124} + 2 E_{1} E_{101} I_{1} I_{123} + 2 E_{1} E_{101} I_{125} + 2 E_{1} E_{102} I_{1}^{2} I_{114} + 2 E_{1} E_{102} I_{1} I_{113} + 2 E_{1} E_{102} I_{115} + 2 E_{1} E_{113} I_{1} I_{102} + 2 E_{1} E_{114} I_{102} + 2 E_{1} E_{123} I_{1} I_{101} + 2 E_{1} E_{124} I_{101} + E_{101} I_{1}^{2} I_{114} + E_{101} I_{1} I_{113} + E_{101} I_{115} + E_{113} I_{1} I_{101} + E_{114} I_{101}\\right) = 0, & E_{1}^{3} \\left(4 E_{123} I_{1}^{2} I_{124} + 2 E_{123} I_{1} I_{123} + 4 E_{124} I_{1} I_{124} + 2 E_{124} I_{123}\\right) + E_{1}^{2} \\left(2 E_{113} I_{1}^{2} I_{124} + E_{113} I_{1} I_{123} + 2 E_{114} I_{1} I_{124} + E_{114} I_{123} + 4 E_{123} I_{1}^{2} I_{114} + 2 E_{123} I_{1} I_{113} + 4 E_{124} I_{1} I_{114} + 2 E_{124} I_{113}\\right) + E_{1} \\left(2 E_{113} I_{1}^{2} I_{114} + E_{113} I_{1} I_{113} + 2 E_{114} I_{1} I_{114} + E_{114} I_{113} + 4 E_{123} I_{1}^{2} I_{145} + 2 E_{123} I_{1} I_{135} + 4 E_{124} I_{1} I_{145} + 2 E_{124} I_{135} - I_{1}\\right) + 2 E_{113} I_{1}^{2} I_{145} + E_{114} I_{135} + I_{1} \\left(E_{113} I_{135} + 2 E_{114} I_{145}\\right) + \\Phi^{2} \\left(4 E_{1} E_{102} I_{1} I_{104} + 2 E_{1} E_{102} I_{103} + 2 E_{101} I_{1} I_{104} + E_{101} I_{103}\\right) + \\Phi \\left(4 E_{1}^{3} E_{102} I_{1} I_{124} + 2 E_{1}^{3} E_{102} I_{123} + 2 E_{1}^{2} E_{101} I_{1} I_{124} + E_{1}^{2} E_{101} I_{123} + 4 E_{1}^{2} E_{102} I_{1} I_{114} + 2 E_{1}^{2} E_{102} I_{113} + 2 E_{1} E_{101} I_{1} I_{114} + E_{1} E_{101} I_{113} + 4 E_{1} E_{102} I_{1} I_{145} + 2 E_{1} E_{102} I_{135} + 4 E_{1} E_{123} I_{1}^{2} I_{104} + 2 E_{1} E_{123} I_{1} I_{103} + 4 E_{1} E_{124} I_{1} I_{104} + 2 E_{1} E_{124} I_{103} + 2 E_{101} I_{1} I_{145} + E_{101} I_{135} + 2 E_{113} I_{1}^{2} I_{104} + E_{113} I_{1} I_{103} + 2 E_{114} I_{1} I_{104} + E_{114} I_{103}\\right) - f = 0, & E_{1}^{4} \\left(2 E_{123} I_{1} I_{124} + E_{123} I_{123}\\right) + E_{1}^{3} \\left(2 E_{113} I_{1} I_{124} + E_{113} I_{123} + 2 E_{123} I_{1} I_{114} + E_{123} I_{113}\\right) + E_{1}^{2} \\left(2 E_{113} I_{1} I_{114} + E_{113} I_{113} + 2 E_{123} I_{1} I_{145} + E_{123} I_{135} + 2 E_{134} I_{1} I_{124} + E_{134} I_{123}\\right) + E_{1} \\left(2 E_{113} I_{1} I_{145} + E_{113} I_{135} + 2 E_{134} I_{1} I_{114} + E_{134} I_{113}\\right) + 2 E_{134} I_{1} I_{145} + E_{134} I_{135} + \\Phi^{2} \\left(2 E_{103} I_{1} I_{104} + E_{103} I_{103}\\right) + \\Phi \\left(2 E_{1}^{2} E_{103} I_{1} I_{124} + E_{1}^{2} E_{103} I_{123} + 2 E_{1}^{2} E_{123} I_{1} I_{104} + E_{1}^{2} E_{123} I_{103} + 2 E_{1} E_{103} I_{1} I_{114} + E_{1} E_{103} I_{113} + 2 E_{1} E_{113} I_{1} I_{104} + E_{1} E_{113} I_{103} + 2 E_{103} I_{1} I_{145} + E_{103} I_{135} + 2 E_{134} I_{1} I_{104} + E_{134} I_{103}\\right) = 0\\end{bmatrix}\\end{pmatrix}$$"
       ],
       "output_type": "pyout",
       "prompt_number": 10,
       "text": [
        "\u239b   \u23a1  4               3                             2 \u239b                   2  \n",
        "\u239d6, \u23a3E\u2081 \u22c5E\u2081\u2080\u2082\u22c5I\u2081\u2080\u2082 + E\u2081 \u22c5(E\u2081\u2080\u2081\u22c5I\u2081\u2080\u2082 + E\u2081\u2080\u2082\u22c5I\u2081\u2080\u2081) + E\u2081 \u22c5\u239dE\u2081\u2080\u2081\u22c5I\u2081\u2080\u2081 + E\u2081\u2080\u2082\u22c5I\u2081 \u22c5I\n",
        "\n",
        "                                                         \u239e      \u239b       2     \n",
        "\u2081\u2080\u2084 + E\u2081\u2080\u2082\u22c5I\u2081\u22c5I\u2081\u2080\u2083 + E\u2081\u2080\u2082\u22c5I\u2081\u2080\u2085 + E\u2081\u2080\u2083\u22c5I\u2081\u22c5I\u2081\u2080\u2082 + E\u2081\u2080\u2084\u22c5I\u2081\u2080\u2082\u23a0 + E\u2081\u22c5\u239dE\u2081\u2080\u2081\u22c5I\u2081 \u22c5I\u2081\u2080\u2084\n",
        "\n",
        "                                                      \u239e          3            \n",
        " + E\u2081\u2080\u2081\u22c5I\u2081\u22c5I\u2081\u2080\u2083 + E\u2081\u2080\u2081\u22c5I\u2081\u2080\u2085 + E\u2081\u2080\u2083\u22c5I\u2081\u22c5I\u2081\u2080\u2081 + E\u2081\u2080\u2084\u22c5I\u2081\u2080\u2081\u23a0 + E\u2081\u2080\u2083\u22c5I\u2081 \u22c5I\u2081\u2080\u2084 + E\u2081\u2080\u2084\n",
        "\n",
        "          2                                                             3 \u239b   \n",
        "\u22c5I\u2081\u2080\u2085 + I\u2081 \u22c5(E\u2081\u2080\u2083\u22c5I\u2081\u2080\u2083 + E\u2081\u2080\u2084\u22c5I\u2081\u2080\u2084) + I\u2081\u22c5(E\u2081\u2080\u2083\u22c5I\u2081\u2080\u2085 + E\u2081\u2080\u2084\u22c5I\u2081\u2080\u2083) = 0, E\u2081 \u22c5\u239d2\u22c5E\n",
        "\n",
        "      2                                    \u239e     2 \u239b         2                \n",
        "\u2081\u2080\u2082\u22c5I\u2081 \u22c5I\u2081\u2082\u2084 + 2\u22c5E\u2081\u2080\u2082\u22c5I\u2081\u22c5I\u2081\u2082\u2083 + 2\u22c5E\u2081\u2080\u2082\u22c5I\u2081\u2082\u2085\u23a0 + E\u2081 \u22c5\u239d2\u22c5E\u2081\u2080\u2081\u22c5I\u2081 \u22c5I\u2081\u2082\u2084 + 2\u22c5E\u2081\u2080\u2081\u22c5I\n",
        "\n",
        "                              2                                \u239e      \u239b       \n",
        "\u2081\u22c5I\u2081\u2082\u2083 + 2\u22c5E\u2081\u2080\u2081\u22c5I\u2081\u2082\u2085 + E\u2081\u2080\u2082\u22c5I\u2081 \u22c5I\u2081\u2081\u2084 + E\u2081\u2080\u2082\u22c5I\u2081\u22c5I\u2081\u2081\u2083 + E\u2081\u2080\u2082\u22c5I\u2081\u2081\u2085\u23a0 + E\u2081\u22c5\u239dE\u2081\u2080\u2081\u22c5I\u2081\n",
        "\n",
        "2                                            3                 2              \n",
        " \u22c5I\u2081\u2081\u2084 + E\u2081\u2080\u2081\u22c5I\u2081\u22c5I\u2081\u2081\u2083 + E\u2081\u2080\u2081\u22c5I\u2081\u2081\u2085 + 2\u22c5E\u2081\u2080\u2083\u22c5I\u2081 \u22c5I\u2081\u2082\u2084 + 2\u22c5E\u2081\u2080\u2083\u22c5I\u2081 \u22c5I\u2081\u2082\u2083 + 2\u22c5E\u2081\u2080\u2083\n",
        "\n",
        "                    2                                    \u239e          3         \n",
        "\u22c5I\u2081\u22c5I\u2081\u2082\u2085 + 2\u22c5E\u2081\u2080\u2084\u22c5I\u2081 \u22c5I\u2081\u2082\u2084 + 2\u22c5E\u2081\u2080\u2084\u22c5I\u2081\u22c5I\u2081\u2082\u2083 + 2\u22c5E\u2081\u2080\u2084\u22c5I\u2081\u2082\u2085\u23a0 + E\u2081\u2080\u2083\u22c5I\u2081 \u22c5I\u2081\u2081\u2084 + E\n",
        "\n",
        "             2                                                             \u239b  \n",
        "\u2081\u2080\u2084\u22c5I\u2081\u2081\u2085 + I\u2081 \u22c5(E\u2081\u2080\u2083\u22c5I\u2081\u2081\u2083 + E\u2081\u2080\u2084\u22c5I\u2081\u2081\u2084) + I\u2081\u22c5(E\u2081\u2080\u2083\u22c5I\u2081\u2081\u2085 + E\u2081\u2080\u2084\u22c5I\u2081\u2081\u2083) + \\Phi\u22c5\u239d2\u22c5\n",
        "\n",
        "  3                 2               2                                         \n",
        "E\u2081 \u22c5E\u2081\u2080\u2082\u22c5I\u2081\u2080\u2082 + 2\u22c5E\u2081 \u22c5E\u2081\u2080\u2081\u22c5I\u2081\u2080\u2082 + E\u2081 \u22c5E\u2081\u2080\u2082\u22c5I\u2081\u2080\u2081 + E\u2081\u22c5E\u2081\u2080\u2081\u22c5I\u2081\u2080\u2081 + 2\u22c5E\u2081\u22c5E\u2081\u2080\u2083\u22c5I\u2081\u22c5\n",
        "\n",
        "                                                \u239e        4                    \n",
        "I\u2081\u2080\u2082 + 2\u22c5E\u2081\u22c5E\u2081\u2080\u2084\u22c5I\u2081\u2080\u2082 + E\u2081\u2080\u2083\u22c5I\u2081\u22c5I\u2081\u2080\u2081 + E\u2081\u2080\u2084\u22c5I\u2081\u2080\u2081\u23a0 = 0, E\u2081 \u22c5(2\u22c5E\u2081\u2080\u2082\u22c5I\u2081\u22c5I\u2081\u2082\u2084 + E\n",
        "\n",
        "              3                                                               \n",
        "\u2081\u2080\u2082\u22c5I\u2081\u2082\u2083) + E\u2081 \u22c5(2\u22c5E\u2081\u2080\u2081\u22c5I\u2081\u22c5I\u2081\u2082\u2084 + E\u2081\u2080\u2081\u22c5I\u2081\u2082\u2083 + 2\u22c5E\u2081\u2080\u2082\u22c5I\u2081\u22c5I\u2081\u2081\u2084 + E\u2081\u2080\u2082\u22c5I\u2081\u2081\u2083) + E\u2081\n",
        "\n",
        "2 \u239b                                                                   2       \n",
        " \u22c5\u239d2\u22c5E\u2081\u2080\u2081\u22c5I\u2081\u22c5I\u2081\u2081\u2084 + E\u2081\u2080\u2081\u22c5I\u2081\u2081\u2083 + 2\u22c5E\u2081\u2080\u2082\u22c5I\u2081\u22c5I\u2081\u2084\u2085 + E\u2081\u2080\u2082\u22c5I\u2081\u2083\u2085 + 2\u22c5E\u2081\u2080\u2083\u22c5I\u2081 \u22c5I\u2081\u2082\u2084 +\n",
        "\n",
        "                                          \u239e      \u239b                            \n",
        " E\u2081\u2080\u2083\u22c5I\u2081\u22c5I\u2081\u2082\u2083 + 2\u22c5E\u2081\u2080\u2084\u22c5I\u2081\u22c5I\u2081\u2082\u2084 + E\u2081\u2080\u2084\u22c5I\u2081\u2082\u2083\u23a0 + E\u2081\u22c5\u239d2\u22c5E\u2081\u2080\u2081\u22c5I\u2081\u22c5I\u2081\u2084\u2085 + E\u2081\u2080\u2081\u22c5I\u2081\u2083\u2085 +\n",
        "\n",
        "          2                                                 \u239e            2    \n",
        " 2\u22c5E\u2081\u2080\u2083\u22c5I\u2081 \u22c5I\u2081\u2081\u2084 + E\u2081\u2080\u2083\u22c5I\u2081\u22c5I\u2081\u2081\u2083 + 2\u22c5E\u2081\u2080\u2084\u22c5I\u2081\u22c5I\u2081\u2081\u2084 + E\u2081\u2080\u2084\u22c5I\u2081\u2081\u2083\u23a0 + 2\u22c5E\u2081\u2080\u2083\u22c5I\u2081 \u22c5I\u2081\u2084\n",
        "\n",
        "                                                    \u239b    2                  2 \n",
        "\u2085 + E\u2081\u2080\u2084\u22c5I\u2081\u2083\u2085 + I\u2081\u22c5(E\u2081\u2080\u2083\u22c5I\u2081\u2083\u2085 + 2\u22c5E\u2081\u2080\u2084\u22c5I\u2081\u2084\u2085) + \\Phi\u22c5\u239d2\u22c5E\u2081 \u22c5E\u2081\u2080\u2082\u22c5I\u2081\u22c5I\u2081\u2080\u2084 + E\u2081 \u22c5\n",
        "\n",
        "                                                        2                     \n",
        "E\u2081\u2080\u2082\u22c5I\u2081\u2080\u2083 + 2\u22c5E\u2081\u22c5E\u2081\u2080\u2081\u22c5I\u2081\u22c5I\u2081\u2080\u2084 + E\u2081\u22c5E\u2081\u2080\u2081\u22c5I\u2081\u2080\u2083 + 2\u22c5E\u2081\u2080\u2083\u22c5I\u2081 \u22c5I\u2081\u2080\u2084 + E\u2081\u2080\u2083\u22c5I\u2081\u22c5I\u2081\u2080\u2083 \n",
        "\n",
        "                            \u239e        2 \u239b         3                 2          \n",
        "+ 2\u22c5E\u2081\u2080\u2084\u22c5I\u2081\u22c5I\u2081\u2080\u2084 + E\u2081\u2080\u2084\u22c5I\u2081\u2080\u2083\u23a0 = 0, E\u2081 \u22c5\u239d4\u22c5E\u2081\u2082\u2083\u22c5I\u2081 \u22c5I\u2081\u2082\u2084 + 4\u22c5E\u2081\u2082\u2083\u22c5I\u2081 \u22c5I\u2081\u2082\u2083 + 4\u22c5\n",
        "\n",
        "                        2                                    \u239e      \u239b         \n",
        "E\u2081\u2082\u2083\u22c5I\u2081\u22c5I\u2081\u2082\u2085 + 4\u22c5E\u2081\u2082\u2084\u22c5I\u2081 \u22c5I\u2081\u2082\u2084 + 4\u22c5E\u2081\u2082\u2084\u22c5I\u2081\u22c5I\u2081\u2082\u2083 + 4\u22c5E\u2081\u2082\u2084\u22c5I\u2081\u2082\u2085\u23a0 + E\u2081\u22c5\u239d2\u22c5E\u2081\u2081\u2083\u22c5I\u2081\n",
        "\n",
        "3                 2                                  2                        \n",
        " \u22c5I\u2081\u2082\u2084 + 2\u22c5E\u2081\u2081\u2083\u22c5I\u2081 \u22c5I\u2081\u2082\u2083 + 2\u22c5E\u2081\u2081\u2083\u22c5I\u2081\u22c5I\u2081\u2082\u2085 + 2\u22c5E\u2081\u2081\u2084\u22c5I\u2081 \u22c5I\u2081\u2082\u2084 + 2\u22c5E\u2081\u2081\u2084\u22c5I\u2081\u22c5I\u2081\u2082\u2083 +\n",
        "\n",
        "                        3                 2                                  2\n",
        " 2\u22c5E\u2081\u2081\u2084\u22c5I\u2081\u2082\u2085 + 2\u22c5E\u2081\u2082\u2083\u22c5I\u2081 \u22c5I\u2081\u2081\u2084 + 2\u22c5E\u2081\u2082\u2083\u22c5I\u2081 \u22c5I\u2081\u2081\u2083 + 2\u22c5E\u2081\u2082\u2083\u22c5I\u2081\u22c5I\u2081\u2081\u2085 + 2\u22c5E\u2081\u2082\u2084\u22c5I\u2081 \n",
        "\n",
        "                                    \u239e          3                      2       \n",
        "\u22c5I\u2081\u2081\u2084 + 2\u22c5E\u2081\u2082\u2084\u22c5I\u2081\u22c5I\u2081\u2081\u2083 + 2\u22c5E\u2081\u2082\u2084\u22c5I\u2081\u2081\u2085\u23a0 + E\u2081\u2081\u2083\u22c5I\u2081 \u22c5I\u2081\u2081\u2084 + E\u2081\u2081\u2084\u22c5I\u2081\u2081\u2085 + I\u2081 \u22c5(E\u2081\u2081\u2083\u22c5\n",
        "\n",
        "                                                     2 \u239b    2                 \n",
        "I\u2081\u2081\u2083 + E\u2081\u2081\u2084\u22c5I\u2081\u2081\u2084) + I\u2081\u22c5(E\u2081\u2081\u2083\u22c5I\u2081\u2081\u2085 + E\u2081\u2081\u2084\u22c5I\u2081\u2081\u2083) + \\Phi \u22c5\u239d4\u22c5E\u2081 \u22c5E\u2081\u2080\u2082\u22c5I\u2081\u2080\u2082 + 2\u22c5E\u2081\n",
        "\n",
        "                                       \u239e        \u239b    2        2            2  \n",
        "\u22c5E\u2081\u2080\u2081\u22c5I\u2081\u2080\u2082 + 2\u22c5E\u2081\u22c5E\u2081\u2080\u2082\u22c5I\u2081\u2080\u2081 + E\u2081\u2080\u2081\u22c5I\u2081\u2080\u2081\u23a0 + \\Phi\u22c5\u239d4\u22c5E\u2081 \u22c5E\u2081\u2080\u2082\u22c5I\u2081 \u22c5I\u2081\u2082\u2084 + 4\u22c5E\u2081 \u22c5E\n",
        "\n",
        "                  2                 2                    2                    \n",
        "\u2081\u2080\u2082\u22c5I\u2081\u22c5I\u2081\u2082\u2083 + 4\u22c5E\u2081 \u22c5E\u2081\u2080\u2082\u22c5I\u2081\u2082\u2085 + 4\u22c5E\u2081 \u22c5E\u2081\u2082\u2083\u22c5I\u2081\u22c5I\u2081\u2080\u2082 + 4\u22c5E\u2081 \u22c5E\u2081\u2082\u2084\u22c5I\u2081\u2080\u2082 + 2\u22c5E\u2081\u22c5E\u2081\n",
        "\n",
        "     2                                                         2              \n",
        "\u2080\u2081\u22c5I\u2081 \u22c5I\u2081\u2082\u2084 + 2\u22c5E\u2081\u22c5E\u2081\u2080\u2081\u22c5I\u2081\u22c5I\u2081\u2082\u2083 + 2\u22c5E\u2081\u22c5E\u2081\u2080\u2081\u22c5I\u2081\u2082\u2085 + 2\u22c5E\u2081\u22c5E\u2081\u2080\u2082\u22c5I\u2081 \u22c5I\u2081\u2081\u2084 + 2\u22c5E\u2081\u22c5E\n",
        "\n",
        "                                                                              \n",
        "\u2081\u2080\u2082\u22c5I\u2081\u22c5I\u2081\u2081\u2083 + 2\u22c5E\u2081\u22c5E\u2081\u2080\u2082\u22c5I\u2081\u2081\u2085 + 2\u22c5E\u2081\u22c5E\u2081\u2081\u2083\u22c5I\u2081\u22c5I\u2081\u2080\u2082 + 2\u22c5E\u2081\u22c5E\u2081\u2081\u2084\u22c5I\u2081\u2080\u2082 + 2\u22c5E\u2081\u22c5E\u2081\u2082\u2083\u22c5\n",
        "\n",
        "                                  2                                           \n",
        "I\u2081\u22c5I\u2081\u2080\u2081 + 2\u22c5E\u2081\u22c5E\u2081\u2082\u2084\u22c5I\u2081\u2080\u2081 + E\u2081\u2080\u2081\u22c5I\u2081 \u22c5I\u2081\u2081\u2084 + E\u2081\u2080\u2081\u22c5I\u2081\u22c5I\u2081\u2081\u2083 + E\u2081\u2080\u2081\u22c5I\u2081\u2081\u2085 + E\u2081\u2081\u2083\u22c5I\u2081\u22c5\n",
        "\n",
        "                \u239e        3 \u239b         2                                        \n",
        "I\u2081\u2080\u2081 + E\u2081\u2081\u2084\u22c5I\u2081\u2080\u2081\u23a0 = 0, E\u2081 \u22c5\u239d4\u22c5E\u2081\u2082\u2083\u22c5I\u2081 \u22c5I\u2081\u2082\u2084 + 2\u22c5E\u2081\u2082\u2083\u22c5I\u2081\u22c5I\u2081\u2082\u2083 + 4\u22c5E\u2081\u2082\u2084\u22c5I\u2081\u22c5I\u2081\u2082\u2084 \n",
        "\n",
        "             \u239e     2 \u239b         2                                              \n",
        "+ 2\u22c5E\u2081\u2082\u2084\u22c5I\u2081\u2082\u2083\u23a0 + E\u2081 \u22c5\u239d2\u22c5E\u2081\u2081\u2083\u22c5I\u2081 \u22c5I\u2081\u2082\u2084 + E\u2081\u2081\u2083\u22c5I\u2081\u22c5I\u2081\u2082\u2083 + 2\u22c5E\u2081\u2081\u2084\u22c5I\u2081\u22c5I\u2081\u2082\u2084 + E\u2081\u2081\u2084\u22c5I\n",
        "\n",
        "               2                                                     \u239e      \u239b \n",
        "\u2081\u2082\u2083 + 4\u22c5E\u2081\u2082\u2083\u22c5I\u2081 \u22c5I\u2081\u2081\u2084 + 2\u22c5E\u2081\u2082\u2083\u22c5I\u2081\u22c5I\u2081\u2081\u2083 + 4\u22c5E\u2081\u2082\u2084\u22c5I\u2081\u22c5I\u2081\u2081\u2084 + 2\u22c5E\u2081\u2082\u2084\u22c5I\u2081\u2081\u2083\u23a0 + E\u2081\u22c5\u239d2\n",
        "\n",
        "        2                                                             2       \n",
        "\u22c5E\u2081\u2081\u2083\u22c5I\u2081 \u22c5I\u2081\u2081\u2084 + E\u2081\u2081\u2083\u22c5I\u2081\u22c5I\u2081\u2081\u2083 + 2\u22c5E\u2081\u2081\u2084\u22c5I\u2081\u22c5I\u2081\u2081\u2084 + E\u2081\u2081\u2084\u22c5I\u2081\u2081\u2083 + 4\u22c5E\u2081\u2082\u2083\u22c5I\u2081 \u22c5I\u2081\u2084\u2085 +\n",
        "\n",
        "                                                   \u239e            2             \n",
        " 2\u22c5E\u2081\u2082\u2083\u22c5I\u2081\u22c5I\u2081\u2083\u2085 + 4\u22c5E\u2081\u2082\u2084\u22c5I\u2081\u22c5I\u2081\u2084\u2085 + 2\u22c5E\u2081\u2082\u2084\u22c5I\u2081\u2083\u2085 - I\u2081\u23a0 + 2\u22c5E\u2081\u2081\u2083\u22c5I\u2081 \u22c5I\u2081\u2084\u2085 + E\u2081\u2081\u2084\u22c5\n",
        "\n",
        "                                          2                                   \n",
        "I\u2081\u2083\u2085 + I\u2081\u22c5(E\u2081\u2081\u2083\u22c5I\u2081\u2083\u2085 + 2\u22c5E\u2081\u2081\u2084\u22c5I\u2081\u2084\u2085) + \\Phi \u22c5(4\u22c5E\u2081\u22c5E\u2081\u2080\u2082\u22c5I\u2081\u22c5I\u2081\u2080\u2084 + 2\u22c5E\u2081\u22c5E\u2081\u2080\u2082\u22c5I\u2081\u2080\n",
        "\n",
        "                                       \u239b    3                    3            \n",
        "\u2083 + 2\u22c5E\u2081\u2080\u2081\u22c5I\u2081\u22c5I\u2081\u2080\u2084 + E\u2081\u2080\u2081\u22c5I\u2081\u2080\u2083) + \\Phi\u22c5\u239d4\u22c5E\u2081 \u22c5E\u2081\u2080\u2082\u22c5I\u2081\u22c5I\u2081\u2082\u2084 + 2\u22c5E\u2081 \u22c5E\u2081\u2080\u2082\u22c5I\u2081\u2082\u2083 +\n",
        "\n",
        "     2                  2                 2                    2              \n",
        " 2\u22c5E\u2081 \u22c5E\u2081\u2080\u2081\u22c5I\u2081\u22c5I\u2081\u2082\u2084 + E\u2081 \u22c5E\u2081\u2080\u2081\u22c5I\u2081\u2082\u2083 + 4\u22c5E\u2081 \u22c5E\u2081\u2080\u2082\u22c5I\u2081\u22c5I\u2081\u2081\u2084 + 2\u22c5E\u2081 \u22c5E\u2081\u2080\u2082\u22c5I\u2081\u2081\u2083 + 2\n",
        "\n",
        "                                                                              \n",
        "\u22c5E\u2081\u22c5E\u2081\u2080\u2081\u22c5I\u2081\u22c5I\u2081\u2081\u2084 + E\u2081\u22c5E\u2081\u2080\u2081\u22c5I\u2081\u2081\u2083 + 4\u22c5E\u2081\u22c5E\u2081\u2080\u2082\u22c5I\u2081\u22c5I\u2081\u2084\u2085 + 2\u22c5E\u2081\u22c5E\u2081\u2080\u2082\u22c5I\u2081\u2083\u2085 + 4\u22c5E\u2081\u22c5E\u2081\n",
        "\n",
        "     2                                                                        \n",
        "\u2082\u2083\u22c5I\u2081 \u22c5I\u2081\u2080\u2084 + 2\u22c5E\u2081\u22c5E\u2081\u2082\u2083\u22c5I\u2081\u22c5I\u2081\u2080\u2083 + 4\u22c5E\u2081\u22c5E\u2081\u2082\u2084\u22c5I\u2081\u22c5I\u2081\u2080\u2084 + 2\u22c5E\u2081\u22c5E\u2081\u2082\u2084\u22c5I\u2081\u2080\u2083 + 2\u22c5E\u2081\u2080\u2081\u22c5\n",
        "\n",
        "                               2                                              \n",
        "I\u2081\u22c5I\u2081\u2084\u2085 + E\u2081\u2080\u2081\u22c5I\u2081\u2083\u2085 + 2\u22c5E\u2081\u2081\u2083\u22c5I\u2081 \u22c5I\u2081\u2080\u2084 + E\u2081\u2081\u2083\u22c5I\u2081\u22c5I\u2081\u2080\u2083 + 2\u22c5E\u2081\u2081\u2084\u22c5I\u2081\u22c5I\u2081\u2080\u2084 + E\u2081\u2081\u2084\u22c5I\n",
        "\n",
        "   \u239e            4                                  3                          \n",
        "\u2081\u2080\u2083\u23a0 - f = 0, E\u2081 \u22c5(2\u22c5E\u2081\u2082\u2083\u22c5I\u2081\u22c5I\u2081\u2082\u2084 + E\u2081\u2082\u2083\u22c5I\u2081\u2082\u2083) + E\u2081 \u22c5(2\u22c5E\u2081\u2081\u2083\u22c5I\u2081\u22c5I\u2081\u2082\u2084 + E\u2081\u2081\u2083\u22c5I\u2081\n",
        "\n",
        "                                     2                                        \n",
        "\u2082\u2083 + 2\u22c5E\u2081\u2082\u2083\u22c5I\u2081\u22c5I\u2081\u2081\u2084 + E\u2081\u2082\u2083\u22c5I\u2081\u2081\u2083) + E\u2081 \u22c5(2\u22c5E\u2081\u2081\u2083\u22c5I\u2081\u22c5I\u2081\u2081\u2084 + E\u2081\u2081\u2083\u22c5I\u2081\u2081\u2083 + 2\u22c5E\u2081\u2082\u2083\u22c5I\u2081\n",
        "\n",
        "                                                                              \n",
        "\u22c5I\u2081\u2084\u2085 + E\u2081\u2082\u2083\u22c5I\u2081\u2083\u2085 + 2\u22c5E\u2081\u2083\u2084\u22c5I\u2081\u22c5I\u2081\u2082\u2084 + E\u2081\u2083\u2084\u22c5I\u2081\u2082\u2083) + E\u2081\u22c5(2\u22c5E\u2081\u2081\u2083\u22c5I\u2081\u22c5I\u2081\u2084\u2085 + E\u2081\u2081\u2083\u22c5I\u2081\n",
        "\n",
        "                                                                    2         \n",
        "\u2083\u2085 + 2\u22c5E\u2081\u2083\u2084\u22c5I\u2081\u22c5I\u2081\u2081\u2084 + E\u2081\u2083\u2084\u22c5I\u2081\u2081\u2083) + 2\u22c5E\u2081\u2083\u2084\u22c5I\u2081\u22c5I\u2081\u2084\u2085 + E\u2081\u2083\u2084\u22c5I\u2081\u2083\u2085 + \\Phi \u22c5(2\u22c5E\u2081\u2080\u2083\u22c5\n",
        "\n",
        "                            \u239b    2                  2                 2       \n",
        "I\u2081\u22c5I\u2081\u2080\u2084 + E\u2081\u2080\u2083\u22c5I\u2081\u2080\u2083) + \\Phi\u22c5\u239d2\u22c5E\u2081 \u22c5E\u2081\u2080\u2083\u22c5I\u2081\u22c5I\u2081\u2082\u2084 + E\u2081 \u22c5E\u2081\u2080\u2083\u22c5I\u2081\u2082\u2083 + 2\u22c5E\u2081 \u22c5E\u2081\u2082\u2083\u22c5I\n",
        "\n",
        "           2                                                                  \n",
        "\u2081\u22c5I\u2081\u2080\u2084 + E\u2081 \u22c5E\u2081\u2082\u2083\u22c5I\u2081\u2080\u2083 + 2\u22c5E\u2081\u22c5E\u2081\u2080\u2083\u22c5I\u2081\u22c5I\u2081\u2081\u2084 + E\u2081\u22c5E\u2081\u2080\u2083\u22c5I\u2081\u2081\u2083 + 2\u22c5E\u2081\u22c5E\u2081\u2081\u2083\u22c5I\u2081\u22c5I\u2081\u2080\u2084 \n",
        "\n",
        "                                                                        \u239e    \u23a4\n",
        "+ E\u2081\u22c5E\u2081\u2081\u2083\u22c5I\u2081\u2080\u2083 + 2\u22c5E\u2081\u2080\u2083\u22c5I\u2081\u22c5I\u2081\u2084\u2085 + E\u2081\u2080\u2083\u22c5I\u2081\u2083\u2085 + 2\u22c5E\u2081\u2083\u2084\u22c5I\u2081\u22c5I\u2081\u2080\u2084 + E\u2081\u2083\u2084\u22c5I\u2081\u2080\u2083\u23a0 = 0\u23a6\n",
        "\n",
        "\u239e\n",
        "\u23a0"
       ]
      }
     ],
     "prompt_number": 10
    },
    {
     "cell_type": "code",
     "collapsed": false,
     "input": [
      "expand(EQ[4])"
     ],
     "language": "python",
     "metadata": {},
     "outputs": [
      {
       "latex": [
        "$$- 4 E_{1}^{3} E_{104} I_{1} I_{124} \\Phi - 2 E_{1}^{3} E_{104} I_{123} \\Phi + 4 E_{1}^{3} E_{105} I_{1} I_{124} \\Phi + 2 E_{1}^{3} E_{105} I_{123} \\Phi - 8 E_{1}^{3} E_{113} I_{1} I_{124} \\Phi - 4 E_{1}^{3} E_{113} I_{123} \\Phi - 12 E_{1}^{3} E_{114} I_{1} I_{124} \\Phi - 6 E_{1}^{3} E_{114} I_{123} \\Phi - 4 E_{1}^{3} E_{115} I_{1} I_{124} \\Phi - 2 E_{1}^{3} E_{115} I_{123} \\Phi + 4 E_{1}^{3} E_{123} I_{1}^{2} I_{124} + 2 E_{1}^{3} E_{123} I_{1} I_{123} - 12 E_{1}^{3} E_{123} I_{1} I_{124} \\Phi - 6 E_{1}^{3} E_{123} I_{123} \\Phi + 4 E_{1}^{3} E_{124} I_{1}^{3} I_{124} + 2 E_{1}^{3} E_{124} I_{1}^{2} I_{123} - 16 E_{1}^{3} E_{124} I_{1} I_{124} \\Phi - 8 E_{1}^{3} E_{124} I_{123} \\Phi - 8 E_{1}^{3} E_{125} I_{1} I_{124} \\Phi + 4 E_{1}^{3} E_{125} I_{1} I_{124} - 4 E_{1}^{3} E_{125} I_{123} \\Phi + 2 E_{1}^{3} E_{125} I_{123} - 4 E_{1}^{3} E_{135} I_{1} I_{124} \\Phi - 2 E_{1}^{3} E_{135} I_{123} \\Phi - 8 E_{1}^{3} E_{145} I_{1} I_{124} \\Phi - 4 E_{1}^{3} E_{145} I_{123} \\Phi - 4 E_{1}^{2} E_{104} I_{1} I_{114} \\Phi + 4 E_{1}^{2} E_{104} I_{1} I_{124} \\Phi - 2 E_{1}^{2} E_{104} I_{113} \\Phi + 2 E_{1}^{2} E_{104} I_{123} \\Phi + 4 E_{1}^{2} E_{105} I_{1} I_{114} \\Phi - 4 E_{1}^{2} E_{105} I_{1} I_{124} \\Phi + 2 E_{1}^{2} E_{105} I_{113} \\Phi - 2 E_{1}^{2} E_{105} I_{123} \\Phi + 2 E_{1}^{2} E_{113} I_{1}^{2} I_{124} - 8 E_{1}^{2} E_{113} I_{1} I_{114} \\Phi + E_{1}^{2} E_{113} I_{1} I_{123} + 6 E_{1}^{2} E_{113} I_{1} I_{124} \\Phi - 4 E_{1}^{2} E_{113} I_{113} \\Phi + 3 E_{1}^{2} E_{113} I_{123} \\Phi + 2 E_{1}^{2} E_{114} I_{1}^{3} I_{124} + E_{1}^{2} E_{114} I_{1}^{2} I_{123} - 12 E_{1}^{2} E_{114} I_{1} I_{114} \\Phi + 10 E_{1}^{2} E_{114} I_{1} I_{124} \\Phi - 6 E_{1}^{2} E_{114} I_{113} \\Phi + 5 E_{1}^{2} E_{114} I_{123} \\Phi - 4 E_{1}^{2} E_{115} I_{1} I_{114} \\Phi + 2 E_{1}^{2} E_{115} I_{1} I_{124} \\Phi + 2 E_{1}^{2} E_{115} I_{1} I_{124} - 2 E_{1}^{2} E_{115} I_{113} \\Phi + E_{1}^{2} E_{115} I_{123} \\Phi + E_{1}^{2} E_{115} I_{123} + 4 E_{1}^{2} E_{123} I_{1}^{2} I_{114} + 2 E_{1}^{2} E_{123} I_{1} I_{113} - 12 E_{1}^{2} E_{123} I_{1} I_{114} \\Phi + 8 E_{1}^{2} E_{123} I_{1} I_{124} \\Phi - 6 E_{1}^{2} E_{123} I_{113} \\Phi + 4 E_{1}^{2} E_{123} I_{123} \\Phi + 4 E_{1}^{2} E_{124} I_{1}^{3} I_{114} + 2 E_{1}^{2} E_{124} I_{1}^{2} I_{113} - 16 E_{1}^{2} E_{124} I_{1} I_{114} \\Phi + 12 E_{1}^{2} E_{124} I_{1} I_{124} \\Phi - 8 E_{1}^{2} E_{124} I_{113} \\Phi + 6 E_{1}^{2} E_{124} I_{123} \\Phi - 8 E_{1}^{2} E_{125} I_{1} I_{114} \\Phi + 4 E_{1}^{2} E_{125} I_{1} I_{114} + 4 E_{1}^{2} E_{125} I_{1} I_{124} \\Phi - 4 E_{1}^{2} E_{125} I_{113} \\Phi + 2 E_{1}^{2} E_{125} I_{113} + 2 E_{1}^{2} E_{125} I_{123} \\Phi - 4 E_{1}^{2} E_{135} I_{1} I_{114} \\Phi + 4 E_{1}^{2} E_{135} I_{1} I_{124} \\Phi - 2 E_{1}^{2} E_{135} I_{113} \\Phi + 2 E_{1}^{2} E_{135} I_{123} \\Phi - 8 E_{1}^{2} E_{145} I_{1} I_{114} \\Phi + 8 E_{1}^{2} E_{145} I_{1} I_{124} \\Phi - 4 E_{1}^{2} E_{145} I_{113} \\Phi + 4 E_{1}^{2} E_{145} I_{123} \\Phi - 4 E_{1} E_{104} I_{1} I_{104} \\Phi^{2} + 4 E_{1} E_{104} I_{1} I_{114} \\Phi - 4 E_{1} E_{104} I_{1} I_{145} \\Phi - 2 E_{1} E_{104} I_{103} \\Phi^{2} + 2 E_{1} E_{104} I_{113} \\Phi - 2 E_{1} E_{104} I_{135} \\Phi + 4 E_{1} E_{105} I_{1} I_{104} \\Phi^{2} - 4 E_{1} E_{105} I_{1} I_{114} \\Phi + 4 E_{1} E_{105} I_{1} I_{145} \\Phi + 2 E_{1} E_{105} I_{103} \\Phi^{2} - 2 E_{1} E_{105} I_{113} \\Phi + 2 E_{1} E_{105} I_{135} \\Phi + 2 E_{1} E_{113} I_{1}^{2} I_{114} - 8 E_{1} E_{113} I_{1} I_{104} \\Phi^{2} + E_{1} E_{113} I_{1} I_{113} + 6 E_{1} E_{113} I_{1} I_{114} \\Phi - 8 E_{1} E_{113} I_{1} I_{145} \\Phi - 4 E_{1} E_{113} I_{103} \\Phi^{2} + 3 E_{1} E_{113} I_{113} \\Phi - 4 E_{1} E_{113} I_{135} \\Phi + 2 E_{1} E_{114} I_{1}^{3} I_{114} + E_{1} E_{114} I_{1}^{2} I_{113} - 12 E_{1} E_{114} I_{1} I_{104} \\Phi^{2} + 10 E_{1} E_{114} I_{1} I_{114} \\Phi - 12 E_{1} E_{114} I_{1} I_{145} \\Phi - 6 E_{1} E_{114} I_{103} \\Phi^{2} + 5 E_{1} E_{114} I_{113} \\Phi - 6 E_{1} E_{114} I_{135} \\Phi - 4 E_{1} E_{115} I_{1} I_{104} \\Phi^{2} + 2 E_{1} E_{115} I_{1} I_{114} \\Phi + 2 E_{1} E_{115} I_{1} I_{114} - 4 E_{1} E_{115} I_{1} I_{145} \\Phi - 2 E_{1} E_{115} I_{103} \\Phi^{2} + E_{1} E_{115} I_{113} \\Phi + E_{1} E_{115} I_{113} - 2 E_{1} E_{115} I_{135} \\Phi + 4 E_{1} E_{123} I_{1}^{2} I_{104} \\Phi + 4 E_{1} E_{123} I_{1}^{2} I_{145} + 2 E_{1} E_{123} I_{1} I_{103} \\Phi - 12 E_{1} E_{123} I_{1} I_{104} \\Phi^{2} + 8 E_{1} E_{123} I_{1} I_{114} \\Phi + 2 E_{1} E_{123} I_{1} I_{135} - 12 E_{1} E_{123} I_{1} I_{145} \\Phi - 6 E_{1} E_{123} I_{103} \\Phi^{2} + 4 E_{1} E_{123} I_{113} \\Phi - 6 E_{1} E_{123} I_{135} \\Phi + 4 E_{1} E_{124} I_{1}^{3} I_{104} \\Phi + 4 E_{1} E_{124} I_{1}^{3} I_{145} + 2 E_{1} E_{124} I_{1}^{2} I_{103} \\Phi + 2 E_{1} E_{124} I_{1}^{2} I_{135} - 16 E_{1} E_{124} I_{1} I_{104} \\Phi^{2} + 12 E_{1} E_{124} I_{1} I_{114} \\Phi - 16 E_{1} E_{124} I_{1} I_{145} \\Phi - 8 E_{1} E_{124} I_{103} \\Phi^{2} + 6 E_{1} E_{124} I_{113} \\Phi - 8 E_{1} E_{124} I_{135} \\Phi - 8 E_{1} E_{125} I_{1} I_{104} \\Phi^{2} + 4 E_{1} E_{125} I_{1} I_{104} \\Phi + 4 E_{1} E_{125} I_{1} I_{114} \\Phi - 8 E_{1} E_{125} I_{1} I_{145} \\Phi + 4 E_{1} E_{125} I_{1} I_{145} - 4 E_{1} E_{125} I_{103} \\Phi^{2} + 2 E_{1} E_{125} I_{103} \\Phi + 2 E_{1} E_{125} I_{113} \\Phi - 4 E_{1} E_{125} I_{135} \\Phi + 2 E_{1} E_{125} I_{135} - 4 E_{1} E_{135} I_{1} I_{104} \\Phi^{2} + 4 E_{1} E_{135} I_{1} I_{114} \\Phi - 4 E_{1} E_{135} I_{1} I_{145} \\Phi - 2 E_{1} E_{135} I_{103} \\Phi^{2} + 2 E_{1} E_{135} I_{113} \\Phi - 2 E_{1} E_{135} I_{135} \\Phi - 8 E_{1} E_{145} I_{1} I_{104} \\Phi^{2} + 8 E_{1} E_{145} I_{1} I_{114} \\Phi - 8 E_{1} E_{145} I_{1} I_{145} \\Phi - 4 E_{1} E_{145} I_{103} \\Phi^{2} + 4 E_{1} E_{145} I_{113} \\Phi - 4 E_{1} E_{145} I_{135} \\Phi - E_{1} I_{1} + 4 E_{104} I_{1} I_{104} \\Phi^{2} + 4 E_{104} I_{1} I_{145} \\Phi + 2 E_{104} I_{103} \\Phi^{2} + 2 E_{104} I_{135} \\Phi - 4 E_{105} I_{1} I_{104} \\Phi^{2} - 4 E_{105} I_{1} I_{145} \\Phi - 2 E_{105} I_{103} \\Phi^{2} - 2 E_{105} I_{135} \\Phi + 2 E_{113} I_{1}^{2} I_{104} \\Phi + 2 E_{113} I_{1}^{2} I_{145} + E_{113} I_{1} I_{103} \\Phi + 6 E_{113} I_{1} I_{104} \\Phi^{2} + E_{113} I_{1} I_{135} + 6 E_{113} I_{1} I_{145} \\Phi + 3 E_{113} I_{103} \\Phi^{2} + 3 E_{113} I_{135} \\Phi + 2 E_{114} I_{1}^{3} I_{104} \\Phi + 2 E_{114} I_{1}^{3} I_{145} + E_{114} I_{1}^{2} I_{103} \\Phi + E_{114} I_{1}^{2} I_{135} + 10 E_{114} I_{1} I_{104} \\Phi^{2} + 10 E_{114} I_{1} I_{145} \\Phi + 5 E_{114} I_{103} \\Phi^{2} + 5 E_{114} I_{135} \\Phi + 2 E_{115} I_{1} I_{104} \\Phi^{2} + 2 E_{115} I_{1} I_{104} \\Phi + 2 E_{115} I_{1} I_{145} \\Phi + 2 E_{115} I_{1} I_{145} + E_{115} I_{103} \\Phi^{2} + E_{115} I_{103} \\Phi + E_{115} I_{135} \\Phi + E_{115} I_{135} + 8 E_{123} I_{1} I_{104} \\Phi^{2} + 8 E_{123} I_{1} I_{145} \\Phi + 4 E_{123} I_{103} \\Phi^{2} + 4 E_{123} I_{135} \\Phi + 12 E_{124} I_{1} I_{104} \\Phi^{2} + 12 E_{124} I_{1} I_{145} \\Phi + 6 E_{124} I_{103} \\Phi^{2} + 6 E_{124} I_{135} \\Phi + 4 E_{125} I_{1} I_{104} \\Phi^{2} + 4 E_{125} I_{1} I_{145} \\Phi + 2 E_{125} I_{103} \\Phi^{2} + 2 E_{125} I_{135} \\Phi + 4 E_{135} I_{1} I_{104} \\Phi^{2} + 4 E_{135} I_{1} I_{145} \\Phi + 2 E_{135} I_{103} \\Phi^{2} + 2 E_{135} I_{135} \\Phi + 8 E_{145} I_{1} I_{104} \\Phi^{2} + 8 E_{145} I_{1} I_{145} \\Phi + 4 E_{145} I_{103} \\Phi^{2} + 4 E_{145} I_{135} \\Phi + 1 = 0$$"
       ],
       "output_type": "pyout",
       "png": "[encoded data removed]",
       "prompt_number": 14,
       "text": [
        "      3                         3                      3                      \n",
        "- 4\u22c5E\u2081 \u22c5E\u2081\u2080\u2084\u22c5I\u2081\u22c5I\u2081\u2082\u2084\u22c5\\Phi - 2\u22c5E\u2081 \u22c5E\u2081\u2080\u2084\u22c5I\u2081\u2082\u2083\u22c5\\Phi + 4\u22c5E\u2081 \u22c5E\u2081\u2080\u2085\u22c5I\u2081\u22c5I\u2081\u2082\u2084\u22c5\\Phi + 2\n",
        "\n",
        "   3                      3                         3                       3 \n",
        "\u22c5E\u2081 \u22c5E\u2081\u2080\u2085\u22c5I\u2081\u2082\u2083\u22c5\\Phi - 8\u22c5E\u2081 \u22c5E\u2081\u2081\u2083\u22c5I\u2081\u22c5I\u2081\u2082\u2084\u22c5\\Phi - 4\u22c5E\u2081 \u22c5E\u2081\u2081\u2083\u22c5I\u2081\u2082\u2083\u22c5\\Phi - 12\u22c5E\u2081 \u22c5\n",
        "\n",
        "                        3                      3                         3    \n",
        "E\u2081\u2081\u2084\u22c5I\u2081\u22c5I\u2081\u2082\u2084\u22c5\\Phi - 6\u22c5E\u2081 \u22c5E\u2081\u2081\u2084\u22c5I\u2081\u2082\u2083\u22c5\\Phi - 4\u22c5E\u2081 \u22c5E\u2081\u2081\u2085\u22c5I\u2081\u22c5I\u2081\u2082\u2084\u22c5\\Phi - 2\u22c5E\u2081 \u22c5E\u2081\u2081\n",
        "\n",
        "                  3        2            3                     3               \n",
        "\u2085\u22c5I\u2081\u2082\u2083\u22c5\\Phi + 4\u22c5E\u2081 \u22c5E\u2081\u2082\u2083\u22c5I\u2081 \u22c5I\u2081\u2082\u2084 + 2\u22c5E\u2081 \u22c5E\u2081\u2082\u2083\u22c5I\u2081\u22c5I\u2081\u2082\u2083 - 12\u22c5E\u2081 \u22c5E\u2081\u2082\u2083\u22c5I\u2081\u22c5I\u2081\u2082\u2084\u22c5\\\n",
        "\n",
        "          3                      3        3            3        2             \n",
        "Phi - 6\u22c5E\u2081 \u22c5E\u2081\u2082\u2083\u22c5I\u2081\u2082\u2083\u22c5\\Phi + 4\u22c5E\u2081 \u22c5E\u2081\u2082\u2084\u22c5I\u2081 \u22c5I\u2081\u2082\u2084 + 2\u22c5E\u2081 \u22c5E\u2081\u2082\u2084\u22c5I\u2081 \u22c5I\u2081\u2082\u2083 - 16\u22c5E\u2081\n",
        "\n",
        "3                         3                      3                         3  \n",
        " \u22c5E\u2081\u2082\u2084\u22c5I\u2081\u22c5I\u2081\u2082\u2084\u22c5\\Phi - 8\u22c5E\u2081 \u22c5E\u2081\u2082\u2084\u22c5I\u2081\u2082\u2083\u22c5\\Phi - 8\u22c5E\u2081 \u22c5E\u2081\u2082\u2085\u22c5I\u2081\u22c5I\u2081\u2082\u2084\u22c5\\Phi + 4\u22c5E\u2081 \u22c5E\n",
        "\n",
        "                  3                      3                 3                  \n",
        "\u2081\u2082\u2085\u22c5I\u2081\u22c5I\u2081\u2082\u2084 - 4\u22c5E\u2081 \u22c5E\u2081\u2082\u2085\u22c5I\u2081\u2082\u2083\u22c5\\Phi + 2\u22c5E\u2081 \u22c5E\u2081\u2082\u2085\u22c5I\u2081\u2082\u2083 - 4\u22c5E\u2081 \u22c5E\u2081\u2083\u2085\u22c5I\u2081\u22c5I\u2081\u2082\u2084\u22c5\\Phi\n",
        "\n",
        "       3                      3                         3                     \n",
        " - 2\u22c5E\u2081 \u22c5E\u2081\u2083\u2085\u22c5I\u2081\u2082\u2083\u22c5\\Phi - 8\u22c5E\u2081 \u22c5E\u2081\u2084\u2085\u22c5I\u2081\u22c5I\u2081\u2082\u2084\u22c5\\Phi - 4\u22c5E\u2081 \u22c5E\u2081\u2084\u2085\u22c5I\u2081\u2082\u2083\u22c5\\Phi - 4\u22c5E\n",
        "\n",
        " 2                         2                         2                      2 \n",
        "\u2081 \u22c5E\u2081\u2080\u2084\u22c5I\u2081\u22c5I\u2081\u2081\u2084\u22c5\\Phi + 4\u22c5E\u2081 \u22c5E\u2081\u2080\u2084\u22c5I\u2081\u22c5I\u2081\u2082\u2084\u22c5\\Phi - 2\u22c5E\u2081 \u22c5E\u2081\u2080\u2084\u22c5I\u2081\u2081\u2083\u22c5\\Phi + 2\u22c5E\u2081 \u22c5\n",
        "\n",
        "                     2                         2                         2    \n",
        "E\u2081\u2080\u2084\u22c5I\u2081\u2082\u2083\u22c5\\Phi + 4\u22c5E\u2081 \u22c5E\u2081\u2080\u2085\u22c5I\u2081\u22c5I\u2081\u2081\u2084\u22c5\\Phi - 4\u22c5E\u2081 \u22c5E\u2081\u2080\u2085\u22c5I\u2081\u22c5I\u2081\u2082\u2084\u22c5\\Phi + 2\u22c5E\u2081 \u22c5E\u2081\u2080\n",
        "\n",
        "                  2                      2        2            2              \n",
        "\u2085\u22c5I\u2081\u2081\u2083\u22c5\\Phi - 2\u22c5E\u2081 \u22c5E\u2081\u2080\u2085\u22c5I\u2081\u2082\u2083\u22c5\\Phi + 2\u22c5E\u2081 \u22c5E\u2081\u2081\u2083\u22c5I\u2081 \u22c5I\u2081\u2082\u2084 - 8\u22c5E\u2081 \u22c5E\u2081\u2081\u2083\u22c5I\u2081\u22c5I\u2081\u2081\u2084\u22c5\n",
        "\n",
        "         2                    2                         2                     \n",
        "\\Phi + E\u2081 \u22c5E\u2081\u2081\u2083\u22c5I\u2081\u22c5I\u2081\u2082\u2083 + 6\u22c5E\u2081 \u22c5E\u2081\u2081\u2083\u22c5I\u2081\u22c5I\u2081\u2082\u2084\u22c5\\Phi - 4\u22c5E\u2081 \u22c5E\u2081\u2081\u2083\u22c5I\u2081\u2081\u2083\u22c5\\Phi + 3\u22c5E\n",
        "\n",
        " 2                      2        3          2        2             2          \n",
        "\u2081 \u22c5E\u2081\u2081\u2083\u22c5I\u2081\u2082\u2083\u22c5\\Phi + 2\u22c5E\u2081 \u22c5E\u2081\u2081\u2084\u22c5I\u2081 \u22c5I\u2081\u2082\u2084 + E\u2081 \u22c5E\u2081\u2081\u2084\u22c5I\u2081 \u22c5I\u2081\u2082\u2083 - 12\u22c5E\u2081 \u22c5E\u2081\u2081\u2084\u22c5I\u2081\u22c5I\n",
        "\n",
        "                2                         2                      2            \n",
        "\u2081\u2081\u2084\u22c5\\Phi + 10\u22c5E\u2081 \u22c5E\u2081\u2081\u2084\u22c5I\u2081\u22c5I\u2081\u2082\u2084\u22c5\\Phi - 6\u22c5E\u2081 \u22c5E\u2081\u2081\u2084\u22c5I\u2081\u2081\u2083\u22c5\\Phi + 5\u22c5E\u2081 \u22c5E\u2081\u2081\u2084\u22c5I\u2081\u2082\u2083\u22c5\\\n",
        "\n",
        "          2                         2                         2               \n",
        "Phi - 4\u22c5E\u2081 \u22c5E\u2081\u2081\u2085\u22c5I\u2081\u22c5I\u2081\u2081\u2084\u22c5\\Phi + 2\u22c5E\u2081 \u22c5E\u2081\u2081\u2085\u22c5I\u2081\u22c5I\u2081\u2082\u2084\u22c5\\Phi + 2\u22c5E\u2081 \u22c5E\u2081\u2081\u2085\u22c5I\u2081\u22c5I\u2081\u2082\u2084 -\n",
        "\n",
        "     2                    2                    2                 2        2   \n",
        " 2\u22c5E\u2081 \u22c5E\u2081\u2081\u2085\u22c5I\u2081\u2081\u2083\u22c5\\Phi + E\u2081 \u22c5E\u2081\u2081\u2085\u22c5I\u2081\u2082\u2083\u22c5\\Phi + E\u2081 \u22c5E\u2081\u2081\u2085\u22c5I\u2081\u2082\u2083 + 4\u22c5E\u2081 \u22c5E\u2081\u2082\u2083\u22c5I\u2081 \u22c5I\u2081\n",
        "\n",
        "         2                     2                         2                    \n",
        "\u2081\u2084 + 2\u22c5E\u2081 \u22c5E\u2081\u2082\u2083\u22c5I\u2081\u22c5I\u2081\u2081\u2083 - 12\u22c5E\u2081 \u22c5E\u2081\u2082\u2083\u22c5I\u2081\u22c5I\u2081\u2081\u2084\u22c5\\Phi + 8\u22c5E\u2081 \u22c5E\u2081\u2082\u2083\u22c5I\u2081\u22c5I\u2081\u2082\u2084\u22c5\\Phi -\n",
        "\n",
        "     2                      2                      2        3            2    \n",
        " 6\u22c5E\u2081 \u22c5E\u2081\u2082\u2083\u22c5I\u2081\u2081\u2083\u22c5\\Phi + 4\u22c5E\u2081 \u22c5E\u2081\u2082\u2083\u22c5I\u2081\u2082\u2083\u22c5\\Phi + 4\u22c5E\u2081 \u22c5E\u2081\u2082\u2084\u22c5I\u2081 \u22c5I\u2081\u2081\u2084 + 2\u22c5E\u2081 \u22c5E\u2081\u2082\n",
        "\n",
        "    2             2                          2                         2      \n",
        "\u2084\u22c5I\u2081 \u22c5I\u2081\u2081\u2083 - 16\u22c5E\u2081 \u22c5E\u2081\u2082\u2084\u22c5I\u2081\u22c5I\u2081\u2081\u2084\u22c5\\Phi + 12\u22c5E\u2081 \u22c5E\u2081\u2082\u2084\u22c5I\u2081\u22c5I\u2081\u2082\u2084\u22c5\\Phi - 8\u22c5E\u2081 \u22c5E\u2081\u2082\u2084\u22c5\n",
        "\n",
        "                2                      2                         2            \n",
        "I\u2081\u2081\u2083\u22c5\\Phi + 6\u22c5E\u2081 \u22c5E\u2081\u2082\u2084\u22c5I\u2081\u2082\u2083\u22c5\\Phi - 8\u22c5E\u2081 \u22c5E\u2081\u2082\u2085\u22c5I\u2081\u22c5I\u2081\u2081\u2084\u22c5\\Phi + 4\u22c5E\u2081 \u22c5E\u2081\u2082\u2085\u22c5I\u2081\u22c5I\u2081\u2081\n",
        "\n",
        "        2                         2                      2                 2  \n",
        "\u2084 + 4\u22c5E\u2081 \u22c5E\u2081\u2082\u2085\u22c5I\u2081\u22c5I\u2081\u2082\u2084\u22c5\\Phi - 4\u22c5E\u2081 \u22c5E\u2081\u2082\u2085\u22c5I\u2081\u2081\u2083\u22c5\\Phi + 2\u22c5E\u2081 \u22c5E\u2081\u2082\u2085\u22c5I\u2081\u2081\u2083 + 2\u22c5E\u2081 \u22c5E\n",
        "\n",
        "                    2                         2                         2     \n",
        "\u2081\u2082\u2085\u22c5I\u2081\u2082\u2083\u22c5\\Phi - 4\u22c5E\u2081 \u22c5E\u2081\u2083\u2085\u22c5I\u2081\u22c5I\u2081\u2081\u2084\u22c5\\Phi + 4\u22c5E\u2081 \u22c5E\u2081\u2083\u2085\u22c5I\u2081\u22c5I\u2081\u2082\u2084\u22c5\\Phi - 2\u22c5E\u2081 \u22c5E\u2081\u2083\u2085\n",
        "\n",
        "                 2                      2                         2           \n",
        "\u22c5I\u2081\u2081\u2083\u22c5\\Phi + 2\u22c5E\u2081 \u22c5E\u2081\u2083\u2085\u22c5I\u2081\u2082\u2083\u22c5\\Phi - 8\u22c5E\u2081 \u22c5E\u2081\u2084\u2085\u22c5I\u2081\u22c5I\u2081\u2081\u2084\u22c5\\Phi + 8\u22c5E\u2081 \u22c5E\u2081\u2084\u2085\u22c5I\u2081\u22c5I\u2081\n",
        "\n",
        "              2                      2                                        \n",
        "\u2082\u2084\u22c5\\Phi - 4\u22c5E\u2081 \u22c5E\u2081\u2084\u2085\u22c5I\u2081\u2081\u2083\u22c5\\Phi + 4\u22c5E\u2081 \u22c5E\u2081\u2084\u2085\u22c5I\u2081\u2082\u2083\u22c5\\Phi - 4\u22c5E\u2081\u22c5E\u2081\u2080\u2084\u22c5I\u2081\u22c5I\u2081\u2080\u2084\u22c5\\Phi\n",
        "\n",
        "2                                                                        2    \n",
        "  + 4\u22c5E\u2081\u22c5E\u2081\u2080\u2084\u22c5I\u2081\u22c5I\u2081\u2081\u2084\u22c5\\Phi - 4\u22c5E\u2081\u22c5E\u2081\u2080\u2084\u22c5I\u2081\u22c5I\u2081\u2084\u2085\u22c5\\Phi - 2\u22c5E\u2081\u22c5E\u2081\u2080\u2084\u22c5I\u2081\u2080\u2083\u22c5\\Phi  + 2\n",
        "\n",
        "                                                                 2            \n",
        "\u22c5E\u2081\u22c5E\u2081\u2080\u2084\u22c5I\u2081\u2081\u2083\u22c5\\Phi - 2\u22c5E\u2081\u22c5E\u2081\u2080\u2084\u22c5I\u2081\u2083\u2085\u22c5\\Phi + 4\u22c5E\u2081\u22c5E\u2081\u2080\u2085\u22c5I\u2081\u22c5I\u2081\u2080\u2084\u22c5\\Phi  - 4\u22c5E\u2081\u22c5E\u2081\u2080\u2085\n",
        "\n",
        "                                                            2                 \n",
        "\u22c5I\u2081\u22c5I\u2081\u2081\u2084\u22c5\\Phi + 4\u22c5E\u2081\u22c5E\u2081\u2080\u2085\u22c5I\u2081\u22c5I\u2081\u2084\u2085\u22c5\\Phi + 2\u22c5E\u2081\u22c5E\u2081\u2080\u2085\u22c5I\u2081\u2080\u2083\u22c5\\Phi  - 2\u22c5E\u2081\u22c5E\u2081\u2080\u2085\u22c5I\u2081\u2081\u2083\n",
        "\n",
        "                                          2                              2    \n",
        "\u22c5\\Phi + 2\u22c5E\u2081\u22c5E\u2081\u2080\u2085\u22c5I\u2081\u2083\u2085\u22c5\\Phi + 2\u22c5E\u2081\u22c5E\u2081\u2081\u2083\u22c5I\u2081 \u22c5I\u2081\u2081\u2084 - 8\u22c5E\u2081\u22c5E\u2081\u2081\u2083\u22c5I\u2081\u22c5I\u2081\u2080\u2084\u22c5\\Phi  + E\n",
        "\n",
        "                                                                              \n",
        "\u2081\u22c5E\u2081\u2081\u2083\u22c5I\u2081\u22c5I\u2081\u2081\u2083 + 6\u22c5E\u2081\u22c5E\u2081\u2081\u2083\u22c5I\u2081\u22c5I\u2081\u2081\u2084\u22c5\\Phi - 8\u22c5E\u2081\u22c5E\u2081\u2081\u2083\u22c5I\u2081\u22c5I\u2081\u2084\u2085\u22c5\\Phi - 4\u22c5E\u2081\u22c5E\u2081\u2081\u2083\u22c5I\n",
        "\n",
        "        2                                                           3         \n",
        "\u2081\u2080\u2083\u22c5\\Phi  + 3\u22c5E\u2081\u22c5E\u2081\u2081\u2083\u22c5I\u2081\u2081\u2083\u22c5\\Phi - 4\u22c5E\u2081\u22c5E\u2081\u2081\u2083\u22c5I\u2081\u2083\u2085\u22c5\\Phi + 2\u22c5E\u2081\u22c5E\u2081\u2081\u2084\u22c5I\u2081 \u22c5I\u2081\u2081\u2084 + E\n",
        "\n",
        "         2                               2                                    \n",
        "\u2081\u22c5E\u2081\u2081\u2084\u22c5I\u2081 \u22c5I\u2081\u2081\u2083 - 12\u22c5E\u2081\u22c5E\u2081\u2081\u2084\u22c5I\u2081\u22c5I\u2081\u2080\u2084\u22c5\\Phi  + 10\u22c5E\u2081\u22c5E\u2081\u2081\u2084\u22c5I\u2081\u22c5I\u2081\u2081\u2084\u22c5\\Phi - 12\u22c5E\u2081\u22c5E\n",
        "\n",
        "                                      2                                       \n",
        "\u2081\u2081\u2084\u22c5I\u2081\u22c5I\u2081\u2084\u2085\u22c5\\Phi - 6\u22c5E\u2081\u22c5E\u2081\u2081\u2084\u22c5I\u2081\u2080\u2083\u22c5\\Phi  + 5\u22c5E\u2081\u22c5E\u2081\u2081\u2084\u22c5I\u2081\u2081\u2083\u22c5\\Phi - 6\u22c5E\u2081\u22c5E\u2081\u2081\u2084\u22c5I\u2081\u2083\u2085\n",
        "\n",
        "                              2                                               \n",
        "\u22c5\\Phi - 4\u22c5E\u2081\u22c5E\u2081\u2081\u2085\u22c5I\u2081\u22c5I\u2081\u2080\u2084\u22c5\\Phi  + 2\u22c5E\u2081\u22c5E\u2081\u2081\u2085\u22c5I\u2081\u22c5I\u2081\u2081\u2084\u22c5\\Phi + 2\u22c5E\u2081\u22c5E\u2081\u2081\u2085\u22c5I\u2081\u22c5I\u2081\u2081\u2084 -\n",
        "\n",
        "                                             2                                \n",
        " 4\u22c5E\u2081\u22c5E\u2081\u2081\u2085\u22c5I\u2081\u22c5I\u2081\u2084\u2085\u22c5\\Phi - 2\u22c5E\u2081\u22c5E\u2081\u2081\u2085\u22c5I\u2081\u2080\u2083\u22c5\\Phi  + E\u2081\u22c5E\u2081\u2081\u2085\u22c5I\u2081\u2081\u2083\u22c5\\Phi + E\u2081\u22c5E\u2081\u2081\u2085\u22c5I\n",
        "\n",
        "                                        2                         2           \n",
        "\u2081\u2081\u2083 - 2\u22c5E\u2081\u22c5E\u2081\u2081\u2085\u22c5I\u2081\u2083\u2085\u22c5\\Phi + 4\u22c5E\u2081\u22c5E\u2081\u2082\u2083\u22c5I\u2081 \u22c5I\u2081\u2080\u2084\u22c5\\Phi + 4\u22c5E\u2081\u22c5E\u2081\u2082\u2083\u22c5I\u2081 \u22c5I\u2081\u2084\u2085 + 2\u22c5E\n",
        "\n",
        "                                             2                                \n",
        "\u2081\u22c5E\u2081\u2082\u2083\u22c5I\u2081\u22c5I\u2081\u2080\u2083\u22c5\\Phi - 12\u22c5E\u2081\u22c5E\u2081\u2082\u2083\u22c5I\u2081\u22c5I\u2081\u2080\u2084\u22c5\\Phi  + 8\u22c5E\u2081\u22c5E\u2081\u2082\u2083\u22c5I\u2081\u22c5I\u2081\u2081\u2084\u22c5\\Phi + 2\u22c5E\u2081\n",
        "\n",
        "                                                             2                \n",
        "\u22c5E\u2081\u2082\u2083\u22c5I\u2081\u22c5I\u2081\u2083\u2085 - 12\u22c5E\u2081\u22c5E\u2081\u2082\u2083\u22c5I\u2081\u22c5I\u2081\u2084\u2085\u22c5\\Phi - 6\u22c5E\u2081\u22c5E\u2081\u2082\u2083\u22c5I\u2081\u2080\u2083\u22c5\\Phi  + 4\u22c5E\u2081\u22c5E\u2081\u2082\u2083\u22c5I\u2081\u2081\n",
        "\n",
        "                                           3                         3        \n",
        "\u2083\u22c5\\Phi - 6\u22c5E\u2081\u22c5E\u2081\u2082\u2083\u22c5I\u2081\u2083\u2085\u22c5\\Phi + 4\u22c5E\u2081\u22c5E\u2081\u2082\u2084\u22c5I\u2081 \u22c5I\u2081\u2080\u2084\u22c5\\Phi + 4\u22c5E\u2081\u22c5E\u2081\u2082\u2084\u22c5I\u2081 \u22c5I\u2081\u2084\u2085 + \n",
        "\n",
        "            2                         2                               2       \n",
        "2\u22c5E\u2081\u22c5E\u2081\u2082\u2084\u22c5I\u2081 \u22c5I\u2081\u2080\u2083\u22c5\\Phi + 2\u22c5E\u2081\u22c5E\u2081\u2082\u2084\u22c5I\u2081 \u22c5I\u2081\u2083\u2085 - 16\u22c5E\u2081\u22c5E\u2081\u2082\u2084\u22c5I\u2081\u22c5I\u2081\u2080\u2084\u22c5\\Phi  + 12\u22c5E\n",
        "\n",
        "                                                                   2          \n",
        "\u2081\u22c5E\u2081\u2082\u2084\u22c5I\u2081\u22c5I\u2081\u2081\u2084\u22c5\\Phi - 16\u22c5E\u2081\u22c5E\u2081\u2082\u2084\u22c5I\u2081\u22c5I\u2081\u2084\u2085\u22c5\\Phi - 8\u22c5E\u2081\u22c5E\u2081\u2082\u2084\u22c5I\u2081\u2080\u2083\u22c5\\Phi  + 6\u22c5E\u2081\u22c5E\u2081\n",
        "\n",
        "                                                           2                  \n",
        "\u2082\u2084\u22c5I\u2081\u2081\u2083\u22c5\\Phi - 8\u22c5E\u2081\u22c5E\u2081\u2082\u2084\u22c5I\u2081\u2083\u2085\u22c5\\Phi - 8\u22c5E\u2081\u22c5E\u2081\u2082\u2085\u22c5I\u2081\u22c5I\u2081\u2080\u2084\u22c5\\Phi  + 4\u22c5E\u2081\u22c5E\u2081\u2082\u2085\u22c5I\u2081\u22c5I\u2081\n",
        "\n",
        "                                                                              \n",
        "\u2080\u2084\u22c5\\Phi + 4\u22c5E\u2081\u22c5E\u2081\u2082\u2085\u22c5I\u2081\u22c5I\u2081\u2081\u2084\u22c5\\Phi - 8\u22c5E\u2081\u22c5E\u2081\u2082\u2085\u22c5I\u2081\u22c5I\u2081\u2084\u2085\u22c5\\Phi + 4\u22c5E\u2081\u22c5E\u2081\u2082\u2085\u22c5I\u2081\u22c5I\u2081\u2084\u2085 \n",
        "\n",
        "                     2                                                        \n",
        "- 4\u22c5E\u2081\u22c5E\u2081\u2082\u2085\u22c5I\u2081\u2080\u2083\u22c5\\Phi  + 2\u22c5E\u2081\u22c5E\u2081\u2082\u2085\u22c5I\u2081\u2080\u2083\u22c5\\Phi + 2\u22c5E\u2081\u22c5E\u2081\u2082\u2085\u22c5I\u2081\u2081\u2083\u22c5\\Phi - 4\u22c5E\u2081\u22c5E\u2081\u2082\u2085\n",
        "\n",
        "                                                    2                         \n",
        "\u22c5I\u2081\u2083\u2085\u22c5\\Phi + 2\u22c5E\u2081\u22c5E\u2081\u2082\u2085\u22c5I\u2081\u2083\u2085 - 4\u22c5E\u2081\u22c5E\u2081\u2083\u2085\u22c5I\u2081\u22c5I\u2081\u2080\u2084\u22c5\\Phi  + 4\u22c5E\u2081\u22c5E\u2081\u2083\u2085\u22c5I\u2081\u22c5I\u2081\u2081\u2084\u22c5\\Phi\n",
        "\n",
        "                                               2                              \n",
        " - 4\u22c5E\u2081\u22c5E\u2081\u2083\u2085\u22c5I\u2081\u22c5I\u2081\u2084\u2085\u22c5\\Phi - 2\u22c5E\u2081\u22c5E\u2081\u2083\u2085\u22c5I\u2081\u2080\u2083\u22c5\\Phi  + 2\u22c5E\u2081\u22c5E\u2081\u2083\u2085\u22c5I\u2081\u2081\u2083\u22c5\\Phi - 2\u22c5E\u2081\u22c5\n",
        "\n",
        "                                       2                                      \n",
        "E\u2081\u2083\u2085\u22c5I\u2081\u2083\u2085\u22c5\\Phi - 8\u22c5E\u2081\u22c5E\u2081\u2084\u2085\u22c5I\u2081\u22c5I\u2081\u2080\u2084\u22c5\\Phi  + 8\u22c5E\u2081\u22c5E\u2081\u2084\u2085\u22c5I\u2081\u22c5I\u2081\u2081\u2084\u22c5\\Phi - 8\u22c5E\u2081\u22c5E\u2081\u2084\u2085\u22c5\n",
        "\n",
        "                                  2                                           \n",
        "I\u2081\u22c5I\u2081\u2084\u2085\u22c5\\Phi - 4\u22c5E\u2081\u22c5E\u2081\u2084\u2085\u22c5I\u2081\u2080\u2083\u22c5\\Phi  + 4\u22c5E\u2081\u22c5E\u2081\u2084\u2085\u22c5I\u2081\u2081\u2083\u22c5\\Phi - 4\u22c5E\u2081\u22c5E\u2081\u2084\u2085\u22c5I\u2081\u2083\u2085\u22c5\\Ph\n",
        "\n",
        "                               2                                         2    \n",
        "i - E\u2081\u22c5I\u2081 + 4\u22c5E\u2081\u2080\u2084\u22c5I\u2081\u22c5I\u2081\u2080\u2084\u22c5\\Phi  + 4\u22c5E\u2081\u2080\u2084\u22c5I\u2081\u22c5I\u2081\u2084\u2085\u22c5\\Phi + 2\u22c5E\u2081\u2080\u2084\u22c5I\u2081\u2080\u2083\u22c5\\Phi  + 2\n",
        "\n",
        "                                     2                                        \n",
        "\u22c5E\u2081\u2080\u2084\u22c5I\u2081\u2083\u2085\u22c5\\Phi - 4\u22c5E\u2081\u2080\u2085\u22c5I\u2081\u22c5I\u2081\u2080\u2084\u22c5\\Phi  - 4\u22c5E\u2081\u2080\u2085\u22c5I\u2081\u22c5I\u2081\u2084\u2085\u22c5\\Phi - 2\u22c5E\u2081\u2080\u2085\u22c5I\u2081\u2080\u2083\u22c5\\Ph\n",
        "\n",
        " 2                               2                      2                     \n",
        "i  - 2\u22c5E\u2081\u2080\u2085\u22c5I\u2081\u2083\u2085\u22c5\\Phi + 2\u22c5E\u2081\u2081\u2083\u22c5I\u2081 \u22c5I\u2081\u2080\u2084\u22c5\\Phi + 2\u22c5E\u2081\u2081\u2083\u22c5I\u2081 \u22c5I\u2081\u2084\u2085 + E\u2081\u2081\u2083\u22c5I\u2081\u22c5I\u2081\u2080\u2083\u22c5\n",
        "\n",
        "                          2                                                   \n",
        "\\Phi + 6\u22c5E\u2081\u2081\u2083\u22c5I\u2081\u22c5I\u2081\u2080\u2084\u22c5\\Phi  + E\u2081\u2081\u2083\u22c5I\u2081\u22c5I\u2081\u2083\u2085 + 6\u22c5E\u2081\u2081\u2083\u22c5I\u2081\u22c5I\u2081\u2084\u2085\u22c5\\Phi + 3\u22c5E\u2081\u2081\u2083\u22c5I\u2081\u2080\u2083\n",
        "\n",
        "     2                               3                      3               2 \n",
        "\u22c5\\Phi  + 3\u22c5E\u2081\u2081\u2083\u22c5I\u2081\u2083\u2085\u22c5\\Phi + 2\u22c5E\u2081\u2081\u2084\u22c5I\u2081 \u22c5I\u2081\u2080\u2084\u22c5\\Phi + 2\u22c5E\u2081\u2081\u2084\u22c5I\u2081 \u22c5I\u2081\u2084\u2085 + E\u2081\u2081\u2084\u22c5I\u2081 \u22c5\n",
        "\n",
        "                   2                            2                             \n",
        "I\u2081\u2080\u2083\u22c5\\Phi + E\u2081\u2081\u2084\u22c5I\u2081 \u22c5I\u2081\u2083\u2085 + 10\u22c5E\u2081\u2081\u2084\u22c5I\u2081\u22c5I\u2081\u2080\u2084\u22c5\\Phi  + 10\u22c5E\u2081\u2081\u2084\u22c5I\u2081\u22c5I\u2081\u2084\u2085\u22c5\\Phi + 5\u22c5E\n",
        "\n",
        "             2                                         2                      \n",
        "\u2081\u2081\u2084\u22c5I\u2081\u2080\u2083\u22c5\\Phi  + 5\u22c5E\u2081\u2081\u2084\u22c5I\u2081\u2083\u2085\u22c5\\Phi + 2\u22c5E\u2081\u2081\u2085\u22c5I\u2081\u22c5I\u2081\u2080\u2084\u22c5\\Phi  + 2\u22c5E\u2081\u2081\u2085\u22c5I\u2081\u22c5I\u2081\u2080\u2084\u22c5\\Phi\n",
        "\n",
        "                                                        2                     \n",
        " + 2\u22c5E\u2081\u2081\u2085\u22c5I\u2081\u22c5I\u2081\u2084\u2085\u22c5\\Phi + 2\u22c5E\u2081\u2081\u2085\u22c5I\u2081\u22c5I\u2081\u2084\u2085 + E\u2081\u2081\u2085\u22c5I\u2081\u2080\u2083\u22c5\\Phi  + E\u2081\u2081\u2085\u22c5I\u2081\u2080\u2083\u22c5\\Phi + E\n",
        "\n",
        "                                               2                              \n",
        "\u2081\u2081\u2085\u22c5I\u2081\u2083\u2085\u22c5\\Phi + E\u2081\u2081\u2085\u22c5I\u2081\u2083\u2085 + 8\u22c5E\u2081\u2082\u2083\u22c5I\u2081\u22c5I\u2081\u2080\u2084\u22c5\\Phi  + 8\u22c5E\u2081\u2082\u2083\u22c5I\u2081\u22c5I\u2081\u2084\u2085\u22c5\\Phi + 4\u22c5E\u2081\u2082\n",
        "\n",
        "           2                                          2                       \n",
        "\u2083\u22c5I\u2081\u2080\u2083\u22c5\\Phi  + 4\u22c5E\u2081\u2082\u2083\u22c5I\u2081\u2083\u2085\u22c5\\Phi + 12\u22c5E\u2081\u2082\u2084\u22c5I\u2081\u22c5I\u2081\u2080\u2084\u22c5\\Phi  + 12\u22c5E\u2081\u2082\u2084\u22c5I\u2081\u22c5I\u2081\u2084\u2085\u22c5\\Phi\n",
        "\n",
        "                   2                                         2                \n",
        " + 6\u22c5E\u2081\u2082\u2084\u22c5I\u2081\u2080\u2083\u22c5\\Phi  + 6\u22c5E\u2081\u2082\u2084\u22c5I\u2081\u2083\u2085\u22c5\\Phi + 4\u22c5E\u2081\u2082\u2085\u22c5I\u2081\u22c5I\u2081\u2080\u2084\u22c5\\Phi  + 4\u22c5E\u2081\u2082\u2085\u22c5I\u2081\u22c5I\u2081\u2084\n",
        "\n",
        "                         2                                         2          \n",
        "\u2085\u22c5\\Phi + 2\u22c5E\u2081\u2082\u2085\u22c5I\u2081\u2080\u2083\u22c5\\Phi  + 2\u22c5E\u2081\u2082\u2085\u22c5I\u2081\u2083\u2085\u22c5\\Phi + 4\u22c5E\u2081\u2083\u2085\u22c5I\u2081\u22c5I\u2081\u2080\u2084\u22c5\\Phi  + 4\u22c5E\u2081\u2083\u2085\u22c5\n",
        "\n",
        "                               2                                         2    \n",
        "I\u2081\u22c5I\u2081\u2084\u2085\u22c5\\Phi + 2\u22c5E\u2081\u2083\u2085\u22c5I\u2081\u2080\u2083\u22c5\\Phi  + 2\u22c5E\u2081\u2083\u2085\u22c5I\u2081\u2083\u2085\u22c5\\Phi + 8\u22c5E\u2081\u2084\u2085\u22c5I\u2081\u22c5I\u2081\u2080\u2084\u22c5\\Phi  + 8\n",
        "\n",
        "                                     2                           \n",
        "\u22c5E\u2081\u2084\u2085\u22c5I\u2081\u22c5I\u2081\u2084\u2085\u22c5\\Phi + 4\u22c5E\u2081\u2084\u2085\u22c5I\u2081\u2080\u2083\u22c5\\Phi  + 4\u22c5E\u2081\u2084\u2085\u22c5I\u2081\u2083\u2085\u22c5\\Phi + 1 = 0"
       ]
      }
     ],
     "prompt_number": 14
    },
    {
     "cell_type": "code",
     "collapsed": false,
     "input": [
      "\n",
      "c=set_c(n,S,replacement)\n",
      "len(c),c"
     ],
     "language": "python",
     "metadata": {},
     "outputs": [
      {
       "latex": [
        "$$\\begin{pmatrix}23, & \\left\\{E_{104}, E_{105}, E_{113}, E_{114}, E_{115}, E_{123}, E_{124}, E_{125}, E_{135}, E_{145}, I_{101}, I_{102}, I_{103}, I_{104}, I_{105}, I_{113}, I_{114}, I_{115}, I_{123}, I_{124}, I_{125}, I_{135}, I_{145}\\right\\}\\end{pmatrix}$$"
       ],
       "output_type": "pyout",
       "prompt_number": 18,
       "text": [
        "(23, set([E\u2081\u2080\u2084, E\u2081\u2080\u2085, E\u2081\u2081\u2083, E\u2081\u2081\u2084, E\u2081\u2081\u2085, E\u2081\u2082\u2083, E\u2081\u2082\u2084, E\u2081\u2082\u2085, E\u2081\u2083\u2085, E\u2081\u2084\u2085, I\u2081\u2080\u2081, I\u2081\n",
        "\u2080\u2082, I\u2081\u2080\u2083, I\u2081\u2080\u2084, I\u2081\u2080\u2085, I\u2081\u2081\u2083, I\u2081\u2081\u2084, I\u2081\u2081\u2085, I\u2081\u2082\u2083, I\u2081\u2082\u2084, I\u2081\u2082\u2085, I\u2081\u2083\u2085, I\u2081\u2084\u2085]))"
       ]
      }
     ],
     "prompt_number": 18
    },
    {
     "cell_type": "code",
     "collapsed": false,
     "input": [
      "sol = solve(S[1:n+1,1+n:2*n+1],Z, set= True, manual = True)"
     ],
     "language": "python",
     "metadata": {},
     "outputs": [],
     "prompt_number": 26
    },
    {
     "cell_type": "code",
     "collapsed": false,
     "input": [
      "sol"
     ],
     "language": "python",
     "metadata": {},
     "outputs": [
      {
       "latex": [
        "$$\\begin{pmatrix}\\begin{bmatrix}E_{1}\\end{bmatrix}, & \\left\\{\\begin{pmatrix}\\frac{- 2 E_{102} I_{1} I_{112} - E_{102} I_{102} + f}{4 E_{112} I_{1} I_{112} + 2 E_{112} I_{102} - I_{1}}\\end{pmatrix}\\right\\}\\end{pmatrix}$$"
       ],
       "output_type": "pyout",
       "prompt_number": 27,
       "text": [
        "\u239b         \u239b\u23a1\u239b -2\u22c5E\u2081\u2080\u2082\u22c5I\u2081\u22c5I\u2081\u2081\u2082 - E\u2081\u2080\u2082\u22c5I\u2081\u2080\u2082 + f  \u239e\u23a4\u239e\u239e\n",
        "\u239c[E\u2081], set\u239c\u23a2\u239c\u2500\u2500\u2500\u2500\u2500\u2500\u2500\u2500\u2500\u2500\u2500\u2500\u2500\u2500\u2500\u2500\u2500\u2500\u2500\u2500\u2500\u2500\u2500\u2500\u2500\u2500\u2500\u2500\u2500\u2500\u2500\u2500\u2500,\u239f\u23a5\u239f\u239f\n",
        "\u239d         \u239d\u23a3\u239d4\u22c5E\u2081\u2081\u2082\u22c5I\u2081\u22c5I\u2081\u2081\u2082 + 2\u22c5E\u2081\u2081\u2082\u22c5I\u2081\u2080\u2082 - I\u2081 \u23a0\u23a6\u23a0\u23a0"
       ]
      }
     ],
     "prompt_number": 27
    },
    {
     "cell_type": "code",
     "collapsed": false,
     "input": [
      "sol[1]"
     ],
     "language": "python",
     "metadata": {},
     "outputs": [
      {
       "latex": [
        "$$\\left\\{\\begin{pmatrix}2 E_{104} - 2 E_{105} + 3 E_{113} + 5 E_{114} + E_{115} + 4 E_{123} + 6 E_{124} + 2 E_{125} + 2 E_{135} + 4 E_{145}, & - E_{104} + E_{105} - 2 E_{113} - 3 E_{114} - E_{115} - 3 E_{123} - 4 E_{124} - 2 E_{125} - E_{135} - 2 E_{145}, & - 2 E_{104} - E_{113} - 2 E_{114} - E_{123} - 2 E_{124} - E_{135} - 2 E_{145}, & -1\\end{pmatrix}\\right\\}$$"
       ],
       "output_type": "pyout",
       "prompt_number": 24,
       "text": [
        "set([(2\u22c5E\u2081\u2080\u2084 - 2\u22c5E\u2081\u2080\u2085 + 3\u22c5E\u2081\u2081\u2083 + 5\u22c5E\u2081\u2081\u2084 + E\u2081\u2081\u2085 + 4\u22c5E\u2081\u2082\u2083 + 6\u22c5E\u2081\u2082\u2084 + 2\u22c5E\u2081\u2082\u2085 + 2\u22c5\n",
        "E\u2081\u2083\u2085 + 4\u22c5E\u2081\u2084\u2085, -E\u2081\u2080\u2084 + E\u2081\u2080\u2085 - 2\u22c5E\u2081\u2081\u2083 - 3\u22c5E\u2081\u2081\u2084 - E\u2081\u2081\u2085 - 3\u22c5E\u2081\u2082\u2083 - 4\u22c5E\u2081\u2082\u2084 - 2\u22c5E\u2081\u2082\n",
        "\u2085 - E\u2081\u2083\u2085 - 2\u22c5E\u2081\u2084\u2085, -2\u22c5E\u2081\u2080\u2084 - E\u2081\u2081\u2083 - 2\u22c5E\u2081\u2081\u2084 - E\u2081\u2082\u2083 - 2\u22c5E\u2081\u2082\u2084 - E\u2081\u2083\u2085 - 2\u22c5E\u2081\u2084\u2085, -1\n",
        ")])"
       ]
      }
     ],
     "prompt_number": 24
    },
    {
     "cell_type": "code",
     "collapsed": false,
     "input": [
      "replacement = []\n",
      "tabix = 0\n",
      "for x in sol[1]:\n",
      "    for y in x:\n",
      "        replacement.append((sol[0][tabix],y))\n",
      "        tabix = tabix+1\n",
      "len(replacement),replacement"
     ],
     "language": "python",
     "metadata": {},
     "outputs": [
      {
       "latex": [
        "$$\\begin{pmatrix}4, & \\begin{bmatrix}\\begin{pmatrix}E_{101}, & 2 E_{104} - 2 E_{105} + 3 E_{113} + 5 E_{114} + E_{115} + 4 E_{123} + 6 E_{124} + 2 E_{125} + 2 E_{135} + 4 E_{145}\\end{pmatrix}, & \\begin{pmatrix}E_{102}, & - E_{104} + E_{105} - 2 E_{113} - 3 E_{114} - E_{115} - 3 E_{123} - 4 E_{124} - 2 E_{125} - E_{135} - 2 E_{145}\\end{pmatrix}, & \\begin{pmatrix}E_{103}, & - 2 E_{104} - E_{113} - 2 E_{114} - E_{123} - 2 E_{124} - E_{135} - 2 E_{145}\\end{pmatrix}, & \\begin{pmatrix}f, & -1\\end{pmatrix}\\end{bmatrix}\\end{pmatrix}$$"
       ],
       "output_type": "pyout",
       "prompt_number": 26,
       "text": [
        "(4, [(E\u2081\u2080\u2081, 2\u22c5E\u2081\u2080\u2084 - 2\u22c5E\u2081\u2080\u2085 + 3\u22c5E\u2081\u2081\u2083 + 5\u22c5E\u2081\u2081\u2084 + E\u2081\u2081\u2085 + 4\u22c5E\u2081\u2082\u2083 + 6\u22c5E\u2081\u2082\u2084 + 2\u22c5E\u2081\u2082\n",
        "\u2085 + 2\u22c5E\u2081\u2083\u2085 + 4\u22c5E\u2081\u2084\u2085), (E\u2081\u2080\u2082, -E\u2081\u2080\u2084 + E\u2081\u2080\u2085 - 2\u22c5E\u2081\u2081\u2083 - 3\u22c5E\u2081\u2081\u2084 - E\u2081\u2081\u2085 - 3\u22c5E\u2081\u2082\u2083 - \n",
        "4\u22c5E\u2081\u2082\u2084 - 2\u22c5E\u2081\u2082\u2085 - E\u2081\u2083\u2085 - 2\u22c5E\u2081\u2084\u2085), (E\u2081\u2080\u2083, -2\u22c5E\u2081\u2080\u2084 - E\u2081\u2081\u2083 - 2\u22c5E\u2081\u2081\u2084 - E\u2081\u2082\u2083 - 2\u22c5E\u2081\n",
        "\u2082\u2084 - E\u2081\u2083\u2085 - 2\u22c5E\u2081\u2084\u2085), (f, -1)])"
       ]
      }
     ],
     "prompt_number": 26
    },
    {
     "cell_type": "heading",
     "level": 6,
     "metadata": {},
     "source": [
      "Sector $$dI^adI^b$$"
     ]
    },
    {
     "cell_type": "code",
     "collapsed": false,
     "input": [
      "S[n+1:2*n+1,n+1:2*n+1],H[n+1:2*n+1,n+1:2*n+1]"
     ],
     "language": "python",
     "metadata": {},
     "outputs": [
      {
       "latex": [
        "$$\\begin{pmatrix}\\left[\\begin{smallmatrix}0 & 0\\\\0 & I_{1} e_{13} + 2 I_{2} m_{12} + n_{12}\\end{smallmatrix}\\right], & \\left[\\begin{smallmatrix}0 & 0\\\\0 & 0\\end{smallmatrix}\\right]\\end{pmatrix}$$"
       ],
       "output_type": "pyout",
       "prompt_number": 23,
       "text": [
        "\u239b\u23a10             0           \u23a4, \u23a10  0\u23a4\u239e\n",
        "\u239c\u23a2                          \u23a5  \u23a2    \u23a5\u239f\n",
        "\u239d\u23a30  I\u2081\u22c5e\u2081\u2083 + 2\u22c5I\u2082\u22c5m\u2081\u2082 + n\u2081\u2082\u23a6  \u23a30  0\u23a6\u23a0"
       ]
      }
     ],
     "prompt_number": 23
    },
    {
     "cell_type": "code",
     "collapsed": false,
     "input": [
      "Dummy = S[n+1:2*n+1,n+1:2*n+1]\n",
      "for x in range(0,n):\n",
      "    for y in range(x,n):\n",
      "        EQ.append(Dummy[x,y])\n",
      "len(EQ),EQ"
     ],
     "language": "python",
     "metadata": {},
     "outputs": [
      {
       "latex": [
        "$$\\begin{pmatrix}6, & \\begin{bmatrix}\\frac{1}{2} f + \\frac{1}{2}, & 0, & E_{22} I_{24} - \\frac{E_{22} I_{14} I_{22}}{I_{12}} + \\frac{1}{2} f + \\frac{1}{2}, & 0, & 0, & 0\\end{bmatrix}\\end{pmatrix}$$"
       ],
       "output_type": "pyout",
       "prompt_number": 156,
       "text": [
        "\u239b   \u23a1f   1               E\u2082\u2082\u22c5I\u2081\u2084\u22c5I\u2082\u2082   f   1         \u23a4\u239e\n",
        "\u239c6, \u23a2\u2500 + \u2500, 0, E\u2082\u2082\u22c5I\u2082\u2084 - \u2500\u2500\u2500\u2500\u2500\u2500\u2500\u2500\u2500\u2500\u2500 + \u2500 + \u2500, 0, 0, 0\u23a5\u239f\n",
        "\u239d   \u23a32   2                   I\u2081\u2082       2   2         \u23a6\u23a0"
       ]
      }
     ],
     "prompt_number": 156
    },
    {
     "cell_type": "heading",
     "level": 6,
     "metadata": {},
     "source": [
      "Sector $$dE^adE^b$$"
     ]
    },
    {
     "cell_type": "code",
     "collapsed": false,
     "input": [
      "S[1:n+1,1:n+1]"
     ],
     "language": "python",
     "metadata": {},
     "outputs": [
      {
       "latex": [
        "$$\\left[\\begin{smallmatrix}0 & 0\\\\0 & 0\\end{smallmatrix}\\right]$$"
       ],
       "output_type": "pyout",
       "prompt_number": 17,
       "text": [
        "\u23a10  0\u23a4\n",
        "\u23a2    \u23a5\n",
        "\u23a30  0\u23a6"
       ]
      }
     ],
     "prompt_number": 17
    },
    {
     "cell_type": "code",
     "collapsed": false,
     "input": [
      "Dummy = S[1:n+1,1:n+1]\n",
      "for x in range(0,n):\n",
      "    for y in range(x,n):\n",
      "        EQ.append(Dummy[x,y])\n",
      "len(EQ),EQ"
     ],
     "language": "python",
     "metadata": {},
     "outputs": [
      {
       "latex": [
        "$$\\begin{pmatrix}9, & \\begin{bmatrix}\\frac{1}{2} f + \\frac{1}{2}, & 0, & E_{22} I_{24} - \\frac{E_{22} I_{14} I_{22}}{I_{12}} + \\frac{1}{2} f + \\frac{1}{2}, & 0, & 0, & 0, & 0, & 0, & 0\\end{bmatrix}\\end{pmatrix}$$"
       ],
       "output_type": "pyout",
       "prompt_number": 158,
       "text": [
        "\u239b   \u23a1f   1               E\u2082\u2082\u22c5I\u2081\u2084\u22c5I\u2082\u2082   f   1                  \u23a4\u239e\n",
        "\u239c9, \u23a2\u2500 + \u2500, 0, E\u2082\u2082\u22c5I\u2082\u2084 - \u2500\u2500\u2500\u2500\u2500\u2500\u2500\u2500\u2500\u2500\u2500 + \u2500 + \u2500, 0, 0, 0, 0, 0, 0\u23a5\u239f\n",
        "\u239d   \u23a32   2                   I\u2081\u2082       2   2                  \u23a6\u23a0"
       ]
      }
     ],
     "prompt_number": 158
    },
    {
     "cell_type": "heading",
     "level": 6,
     "metadata": {},
     "source": [
      "Sector $$d\\Phi d\\Phi$$"
     ]
    },
    {
     "cell_type": "code",
     "collapsed": false,
     "input": [
      "S[0,0]"
     ],
     "language": "python",
     "metadata": {},
     "outputs": [
      {
       "latex": [
        "$$0$$"
       ],
       "output_type": "pyout",
       "png": "[encoded data removed]",
       "prompt_number": 159,
       "text": [
        "0"
       ]
      }
     ],
     "prompt_number": 159
    },
    {
     "cell_type": "heading",
     "level": 6,
     "metadata": {},
     "source": [
      "Sector $$d\\Phi dE^b$$"
     ]
    },
    {
     "cell_type": "code",
     "collapsed": false,
     "input": [
      "S[0,1:n+1]"
     ],
     "language": "python",
     "metadata": {},
     "outputs": [
      {
       "latex": [
        "$$\\left[\\begin{smallmatrix}0 & 0\\end{smallmatrix}\\right]$$"
       ],
       "output_type": "pyout",
       "prompt_number": 160,
       "text": [
        "[0  0]"
       ]
      }
     ],
     "prompt_number": 160
    },
    {
     "cell_type": "code",
     "collapsed": false,
     "input": [
      "Dummy = S[0,1:n+1]\n",
      "for x in range(0,n):\n",
      "     EQ.append(Dummy[x])\n",
      "len(EQ),EQ"
     ],
     "language": "python",
     "metadata": {},
     "outputs": [
      {
       "latex": [
        "$$\\begin{pmatrix}11, & \\begin{bmatrix}\\frac{1}{2} f + \\frac{1}{2}, & 0, & E_{22} I_{24} - \\frac{E_{22} I_{14} I_{22}}{I_{12}} + \\frac{1}{2} f + \\frac{1}{2}, & 0, & 0, & 0, & 0, & 0, & 0, & 0, & 0\\end{bmatrix}\\end{pmatrix}$$"
       ],
       "output_type": "pyout",
       "prompt_number": 161,
       "text": [
        "\u239b    \u23a1f   1               E\u2082\u2082\u22c5I\u2081\u2084\u22c5I\u2082\u2082   f   1                        \u23a4\u239e\n",
        "\u239c11, \u23a2\u2500 + \u2500, 0, E\u2082\u2082\u22c5I\u2082\u2084 - \u2500\u2500\u2500\u2500\u2500\u2500\u2500\u2500\u2500\u2500\u2500 + \u2500 + \u2500, 0, 0, 0, 0, 0, 0, 0, 0\u23a5\u239f\n",
        "\u239d    \u23a32   2                   I\u2081\u2082       2   2                        \u23a6\u23a0"
       ]
      }
     ],
     "prompt_number": 161
    },
    {
     "cell_type": "heading",
     "level": 6,
     "metadata": {},
     "source": [
      "Sector $$d\\Phi dI^b$$"
     ]
    },
    {
     "cell_type": "code",
     "collapsed": false,
     "input": [
      "S[0,n+1:2*n+1]"
     ],
     "language": "python",
     "metadata": {},
     "outputs": [
      {
       "latex": [
        "$$\\left[\\begin{smallmatrix}0 & 0\\end{smallmatrix}\\right]$$"
       ],
       "output_type": "pyout",
       "prompt_number": 162,
       "text": [
        "[0  0]"
       ]
      }
     ],
     "prompt_number": 162
    },
    {
     "cell_type": "code",
     "collapsed": false,
     "input": [
      "Dummy = S[0,1:n+1]\n",
      "for x in range(0,n):\n",
      "     EQ.append(Dummy[x])\n",
      "len(EQ),EQ"
     ],
     "language": "python",
     "metadata": {},
     "outputs": [
      {
       "latex": [
        "$$\\begin{pmatrix}13, & \\begin{bmatrix}\\frac{1}{2} f + \\frac{1}{2}, & 0, & E_{22} I_{24} - \\frac{E_{22} I_{14} I_{22}}{I_{12}} + \\frac{1}{2} f + \\frac{1}{2}, & 0, & 0, & 0, & 0, & 0, & 0, & 0, & 0, & 0, & 0\\end{bmatrix}\\end{pmatrix}$$"
       ],
       "output_type": "pyout",
       "prompt_number": 163,
       "text": [
        "\u239b    \u23a1f   1               E\u2082\u2082\u22c5I\u2081\u2084\u22c5I\u2082\u2082   f   1                              \u23a4\u239e\n",
        "\u239c13, \u23a2\u2500 + \u2500, 0, E\u2082\u2082\u22c5I\u2082\u2084 - \u2500\u2500\u2500\u2500\u2500\u2500\u2500\u2500\u2500\u2500\u2500 + \u2500 + \u2500, 0, 0, 0, 0, 0, 0, 0, 0, 0, 0\u23a5\u239f\n",
        "\u239d    \u23a32   2                   I\u2081\u2082       2   2                              \u23a6\u23a0"
       ]
      }
     ],
     "prompt_number": 163
    },
    {
     "cell_type": "code",
     "collapsed": false,
     "input": [
      "len(EQ),len(c)"
     ],
     "language": "python",
     "metadata": {},
     "outputs": [
      {
       "latex": [
        "$$\\begin{pmatrix}13, & 12\\end{pmatrix}$$"
       ],
       "output_type": "pyout",
       "prompt_number": 164,
       "text": [
        "(13, 12)"
       ]
      }
     ],
     "prompt_number": 164
    },
    {
     "cell_type": "code",
     "collapsed": false,
     "input": [
      "haa,c"
     ],
     "language": "python",
     "metadata": {},
     "outputs": [
      {
       "latex": [
        "$$\\begin{pmatrix}X_{113} Y_{113} + 2 X_{115} Y_{114} + 2 X_{123} Y_{135} + 4 X_{125} Y_{145}, & \\begin{bmatrix}X_{125}, & Y_{135}, & Y_{145}, & Y_{113}, & Y_{114}, & X_{115}, & X_{123}, & X_{113}\\end{bmatrix}\\end{pmatrix}$$"
       ],
       "output_type": "pyout",
       "prompt_number": 121,
       "text": [
        "(X\u2081\u2081\u2083\u22c5Y\u2081\u2081\u2083 + 2\u22c5X\u2081\u2081\u2085\u22c5Y\u2081\u2081\u2084 + 2\u22c5X\u2081\u2082\u2083\u22c5Y\u2081\u2083\u2085 + 4\u22c5X\u2081\u2082\u2085\u22c5Y\u2081\u2084\u2085, [X\u2081\u2082\u2085, Y\u2081\u2083\u2085, Y\u2081\u2084\u2085, Y\u2081\u2081\u2083,\n",
        " Y\u2081\u2081\u2084, X\u2081\u2081\u2085, X\u2081\u2082\u2083, X\u2081\u2081\u2083])"
       ]
      }
     ],
     "prompt_number": 121
    },
    {
     "cell_type": "code",
     "collapsed": false,
     "input": [
      "sol = solve(Eq(haa,1),c, set=True)\n",
      "sol"
     ],
     "language": "python",
     "metadata": {},
     "outputs": [
      {
       "latex": [
        "$$\\begin{pmatrix}\\begin{bmatrix}X_{125}\\end{bmatrix}, & \\left\\{\\begin{pmatrix}\\frac{- X_{113} Y_{113} - 2 X_{115} Y_{114} - 2 X_{123} Y_{135} + 1}{4 Y_{145}}\\end{pmatrix}\\right\\}\\end{pmatrix}$$"
       ],
       "output_type": "pyout",
       "prompt_number": 122,
       "text": [
        "\u239b           \u239b\u23a1\u239b-X\u2081\u2081\u2083\u22c5Y\u2081\u2081\u2083 - 2\u22c5X\u2081\u2081\u2085\u22c5Y\u2081\u2081\u2084 - 2\u22c5X\u2081\u2082\u2083\u22c5Y\u2081\u2083\u2085 + 1 \u239e\u23a4\u239e\u239e\n",
        "\u239c[X\u2081\u2082\u2085], set\u239c\u23a2\u239c\u2500\u2500\u2500\u2500\u2500\u2500\u2500\u2500\u2500\u2500\u2500\u2500\u2500\u2500\u2500\u2500\u2500\u2500\u2500\u2500\u2500\u2500\u2500\u2500\u2500\u2500\u2500\u2500\u2500\u2500\u2500\u2500\u2500\u2500\u2500\u2500\u2500\u2500\u2500\u2500\u2500\u2500,\u239f\u23a5\u239f\u239f\n",
        "\u239d           \u239d\u23a3\u239d                  4\u22c5Y\u2081\u2084\u2085                   \u23a0\u23a6\u23a0\u23a0"
       ]
      }
     ],
     "prompt_number": 122
    },
    {
     "cell_type": "code",
     "collapsed": false,
     "input": [
      "print sol"
     ],
     "language": "python",
     "metadata": {},
     "outputs": [
      {
       "output_type": "stream",
       "stream": "stdout",
       "text": [
        "([X_113], set([(-(2*X_115*Y_114 + 2*X_123*Y_135 + 4*X_125*Y_145)/Y_113,)]))\n"
       ]
      }
     ],
     "prompt_number": 94
    },
    {
     "cell_type": "code",
     "collapsed": false,
     "input": [
      "sol[0][0]"
     ],
     "language": "python",
     "metadata": {},
     "outputs": [
      {
       "latex": [
        "$$X_{113}$$"
       ],
       "output_type": "pyout",
       "png": "[encoded data removed]",
       "prompt_number": 97,
       "text": [
        "X\u2081\u2081\u2083"
       ]
      }
     ],
     "prompt_number": 97
    },
    {
     "cell_type": "code",
     "collapsed": false,
     "input": [
      "sol[1]"
     ],
     "language": "python",
     "metadata": {},
     "outputs": [
      {
       "latex": [
        "$$\\left\\{\\begin{pmatrix}- \\frac{X_{113} Y_{113} + 2 X_{115} Y_{114} + 2 X_{123} Y_{135}}{4 Y_{145}}\\end{pmatrix}\\right\\}$$"
       ],
       "output_type": "pyout",
       "prompt_number": 100,
       "text": [
        "   \u239b\u23a1\u239b-(X\u2081\u2081\u2083\u22c5Y\u2081\u2081\u2083 + 2\u22c5X\u2081\u2081\u2085\u22c5Y\u2081\u2081\u2084 + 2\u22c5X\u2081\u2082\u2083\u22c5Y\u2081\u2083\u2085) \u239e\u23a4\u239e\n",
        "set\u239c\u23a2\u239c\u2500\u2500\u2500\u2500\u2500\u2500\u2500\u2500\u2500\u2500\u2500\u2500\u2500\u2500\u2500\u2500\u2500\u2500\u2500\u2500\u2500\u2500\u2500\u2500\u2500\u2500\u2500\u2500\u2500\u2500\u2500\u2500\u2500\u2500\u2500\u2500\u2500\u2500\u2500\u2500,\u239f\u23a5\u239f\n",
        "   \u239d\u23a3\u239d                 4\u22c5Y\u2081\u2084\u2085                  \u23a0\u23a6\u23a0"
       ]
      }
     ],
     "prompt_number": 100
    },
    {
     "cell_type": "code",
     "collapsed": false,
     "input": [
      "solve_undetermined_coeffs(Eq(haa,-1),c,B[1])"
     ],
     "language": "python",
     "metadata": {},
     "outputs": [
      {
       "latex": [
        "$$\\begin{bmatrix}\\end{bmatrix}$$"
       ],
       "output_type": "pyout",
       "prompt_number": 116,
       "text": [
        "[]"
       ]
      }
     ],
     "prompt_number": 116
    },
    {
     "cell_type": "code",
     "collapsed": false,
     "input": [
      "Eq(haa,1)"
     ],
     "language": "python",
     "metadata": {},
     "outputs": [
      {
       "latex": [
        "$$X_{1} X_{113} Y_{1} Y_{113} + 2 X_{1} X_{115} Y_{1} Y_{114} + 2 X_{1} X_{123} Y_{1} Y_{135} + 4 X_{1} X_{125} Y_{1} Y_{145} = 1$$"
       ],
       "output_type": "pyout",
       "png": "[encoded data removed]",
       "prompt_number": 113,
       "text": [
        "X\u2081\u22c5X\u2081\u2081\u2083\u22c5Y\u2081\u22c5Y\u2081\u2081\u2083 + 2\u22c5X\u2081\u22c5X\u2081\u2081\u2085\u22c5Y\u2081\u22c5Y\u2081\u2081\u2084 + 2\u22c5X\u2081\u22c5X\u2081\u2082\u2083\u22c5Y\u2081\u22c5Y\u2081\u2083\u2085 + 4\u22c5X\u2081\u22c5X\u2081\u2082\u2085\u22c5Y\u2081\u22c5Y\u2081\u2084\u2085 = \n",
        "1"
       ]
      }
     ],
     "prompt_number": 113
    },
    {
     "cell_type": "code",
     "collapsed": false,
     "input": [],
     "language": "python",
     "metadata": {},
     "outputs": [
      {
       "latex": [
        "$$\\begin{bmatrix}4 X_{1} X_{125} Y_{1} Y_{145}, & 2 X_{1} X_{115} Y_{1} Y_{114}, & 2 X_{1} X_{123} Y_{1} Y_{135}, & X_{1} X_{113} Y_{1} Y_{113}\\end{bmatrix}$$"
       ],
       "output_type": "pyout",
       "prompt_number": 106,
       "text": [
        "[4\u22c5X\u2081\u22c5X\u2081\u2082\u2085\u22c5Y\u2081\u22c5Y\u2081\u2084\u2085, 2\u22c5X\u2081\u22c5X\u2081\u2081\u2085\u22c5Y\u2081\u22c5Y\u2081\u2081\u2084, 2\u22c5X\u2081\u22c5X\u2081\u2082\u2083\u22c5Y\u2081\u22c5Y\u2081\u2083\u2085, X\u2081\u22c5X\u2081\u2081\u2083\u22c5Y\u2081\u22c5Y\u2081\u2081\u2083]"
       ]
      }
     ],
     "prompt_number": 106
    },
    {
     "cell_type": "code",
     "collapsed": false,
     "input": [
      "x"
     ],
     "language": "python",
     "metadata": {},
     "outputs": [
      {
       "latex": [
        "$$X_{113}$$"
       ],
       "output_type": "pyout",
       "png": "[encoded data removed]",
       "prompt_number": 104,
       "text": [
        "X\u2081\u2081\u2083"
       ]
      }
     ],
     "prompt_number": 104
    },
    {
     "cell_type": "code",
     "collapsed": false,
     "input": [
      "help(solve_undetermined_coeffs)"
     ],
     "language": "python",
     "metadata": {},
     "outputs": [
      {
       "output_type": "stream",
       "stream": "stdout",
       "text": [
        "Help on function solve_undetermined_coeffs in module sympy.solvers.solvers:\n",
        "\n",
        "solve_undetermined_coeffs(equ, coeffs, sym, **flags)\n",
        "    Solve equation of a type p(x; a_1, ..., a_k) == q(x) where both\n",
        "    p, q are univariate polynomials and f depends on k parameters.\n",
        "    The result of this functions is a dictionary with symbolic\n",
        "    values of those parameters with respect to coefficients in q.\n",
        "    \n",
        "    This functions accepts both Equations class instances and ordinary\n",
        "    SymPy expressions. Specification of parameters and variable is\n",
        "    obligatory for efficiency and simplicity reason.\n",
        "    \n",
        "    >>> from sympy import Eq\n",
        "    >>> from sympy.abc import a, b, c, x\n",
        "    >>> from sympy.solvers import solve_undetermined_coeffs\n",
        "    \n",
        "    >>> solve_undetermined_coeffs(Eq(2*a*x + a+b, x), [a, b], x)\n",
        "    {a: 1/2, b: -1/2}\n",
        "    \n",
        "    >>> solve_undetermined_coeffs(Eq(a*c*x + a+b, x), [a, b], x)\n",
        "    {a: 1/c, b: -1/c}\n",
        "\n"
       ]
      }
     ],
     "prompt_number": 105
    },
    {
     "cell_type": "code",
     "collapsed": false,
     "input": [
      "EQ=[]\n",
      "eq=[]\n",
      "Dummy = S[1:n+1,1+n:2*n+1]\n",
      "for x in range(0,n):\n",
      "    for y in range(0,n):\n",
      "        argumentos = expand(2*Dummy[x,y]).args\n",
      "        for z in argumentos:\n",
      "            if len(z.args) == 5:\n",
      "                for e in range(1,n+1):\n",
      "                    if B[e] in z.args and B[e+n] in z.args:\n",
      "                        w = z/2\n",
      "                        EQ.append(w)\n",
      "                    else:\n",
      "                        w = z/2\n",
      "                        eq.append((5,Eq(w,0)))\n",
      "            else:\n",
      "                w = z/2\n",
      "                eq.append((6,Eq(w,0)))"
     ],
     "language": "python",
     "metadata": {},
     "outputs": []
    }
   ],
   "metadata": {}
  }
 ]
}