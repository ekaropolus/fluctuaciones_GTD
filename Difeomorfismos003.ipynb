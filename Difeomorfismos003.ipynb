{
 "metadata": {
  "name": "Difeomorfismos003"
 },
 "nbformat": 3,
 "nbformat_minor": 0,
 "worksheets": [
  {
   "cells": [
    {
     "cell_type": "code",
     "collapsed": false,
     "input": [
      "from difeomorfismo import *\n",
      "init_printing()\n"
     ],
     "language": "python",
     "metadata": {},
     "outputs": [],
     "prompt_number": 1
    },
    {
     "cell_type": "code",
     "collapsed": false,
     "input": [
      "n = 2\n",
      "Z = []\n",
      "B = []\n",
      "s = []\n",
      "B,Z = n_grados001(n)\n",
      "s = sod_creator(Z,B,[0,1])\n",
      "#asserts = [assert_00,assert_0e,assert_ee,assert_ie,assert_ii,assert_0i]\n",
      "asserts = [assert_zero]\n"
     ],
     "language": "python",
     "metadata": {},
     "outputs": [],
     "prompt_number": 6
    },
    {
     "cell_type": "code",
     "collapsed": false,
     "input": [
      "#asserts = [assert_co]\n",
      "A1,R1,s1 = get_difeomorphisms01(n,s,difeomorphism_sod,0,1000000,0,2*n+1,asserts)\n"
     ],
     "language": "python",
     "metadata": {},
     "outputs": [],
     "prompt_number": "*"
    },
    {
     "cell_type": "code",
     "collapsed": false,
     "input": [
      "len(s1)"
     ],
     "language": "python",
     "metadata": {},
     "outputs": [
      {
       "output_type": "pyout",
       "png": "[encoded data removed]",
       "prompt_number": 4,
       "text": [
        "192"
       ]
      }
     ],
     "prompt_number": 4
    },
    {
     "cell_type": "code",
     "collapsed": false,
     "input": [
      "A1[1]"
     ],
     "language": "python",
     "metadata": {},
     "outputs": [
      {
       "latex": [
        "$$\\begin{bmatrix}\\operatorname{F}{\\left (I_{1} \\right )}, & \\operatorname{X\\_1}{\\left (E_{1} \\right )}, & \\operatorname{Y\\_1}{\\left (\\Phi,I_{1} \\right )}\\end{bmatrix}$$"
       ],
       "output_type": "pyout",
       "prompt_number": 5,
       "text": [
        "[F(I\u2081), X\u2081(E\u2081), Y\u2081(\\Phi, I\u2081)]"
       ]
      }
     ],
     "prompt_number": 5
    },
    {
     "cell_type": "code",
     "collapsed": false,
     "input": [
      "n = 1\n",
      "a = []\n",
      "b = []\n",
      "c = []\n",
      "m = (n-1)/2\n",
      "e_index = range(1,m+1)\n",
      "i_index = range(m+1,2*m+1)\n",
      "for y in range (0,len(s1)):\n",
      "    a = []\n",
      "    for x in range(0,len(s1[y])):\n",
      "        c = []\n",
      "        for z in range(0,len(s1[y][x])):\n",
      "                if z == 0:\n",
      "                    c.append(s1[y][x][z])\n",
      "                elif z == n:\n",
      "                    c.append(s1[y][x][z])\n",
      "                    c.append(0)\n",
      "                elif z == 2*n:\n",
      "                    c.append(s1[y][x][z])\n",
      "                    c.append(0)\n",
      "                else:\n",
      "                    c.append(s1[y][x][z])  \n",
      "        if x == 0:\n",
      "            a.append(c)\n",
      "        elif x == n:\n",
      "            a.append(c)\n",
      "            a.append((0,1,1,0,0))\n",
      "        elif x == 2*n:\n",
      "            a.append(c)\n",
      "            a.append((1,0,1,0,1))\n",
      "            #a.append((1,1,1,1,1))\n",
      "        else:\n",
      "            a.append(c)\n",
      "    b.append(a)\n",
      "len(b)"
     ],
     "language": "python",
     "metadata": {},
     "outputs": [
      {
       "output_type": "pyout",
       "png": "[encoded data removed]",
       "prompt_number": 189,
       "text": [
        "8"
       ]
      }
     ],
     "prompt_number": 189
    },
    {
     "cell_type": "code",
     "collapsed": false,
     "input": [
      "#for x in b:\n",
      "#    print x\n",
      "#for x in s2:\n",
      "#    print x"
     ],
     "language": "python",
     "metadata": {},
     "outputs": [],
     "prompt_number": 190
    },
    {
     "cell_type": "code",
     "collapsed": false,
     "input": [
      "n = 2\n",
      "Z = []\n",
      "B = []\n",
      "s = []\n",
      "Z,B = n_grados001(n)\n",
      "asserts = [assert_00,assert_0e,assert_ee,assert_ie,assert_ii,assert_0i]"
     ],
     "language": "python",
     "metadata": {},
     "outputs": [],
     "prompt_number": 177
    },
    {
     "cell_type": "code",
     "collapsed": false,
     "input": [
      "A2,R2,s2 = get_difeomorphisms00(n,b,difeomorphism_sop,0,1000000,0,2*n+1,asserts)"
     ],
     "language": "python",
     "metadata": {},
     "outputs": [
      {
       "output_type": "stream",
       "stream": "stdout",
       "text": [
        "--- 0.0989999771118 seconds ---\n"
       ]
      }
     ],
     "prompt_number": 178
    },
    {
     "cell_type": "code",
     "collapsed": false,
     "input": [
      "len(s2)"
     ],
     "language": "python",
     "metadata": {},
     "outputs": [
      {
       "output_type": "pyout",
       "png": "[encoded data removed]",
       "prompt_number": 179,
       "text": [
        "1"
       ]
      }
     ],
     "prompt_number": 179
    },
    {
     "cell_type": "code",
     "collapsed": false,
     "input": [
      "f=0\n",
      "R1[f],A1[f]"
     ],
     "language": "python",
     "metadata": {},
     "outputs": [
      {
       "latex": [
        "$$\\begin{pmatrix}\\left[\\begin{smallmatrix}1 & - Y_{1} & 0\\\\- Y_{1} & Y_{1}^{2} & \\frac{1}{2} \\operatorname{h1}{\\left (E_{1},I_{1} \\right )}\\\\0 & \\frac{1}{2} \\operatorname{h1}{\\left (E_{1},I_{1} \\right )} & 0\\end{smallmatrix}\\right], & \\begin{bmatrix}F, & X_{1}, & Y_{1}\\end{bmatrix}\\end{pmatrix}$$"
       ],
       "output_type": "pyout",
       "prompt_number": 180,
       "text": [
        "\u239b\u23a1 1      -Y\u2081          0     \u23a4, [F, X\u2081, Y\u2081]\u239e\n",
        "\u239c\u23a2                           \u23a5             \u239f\n",
        "\u239c\u23a2          2      h\u2081(E\u2081, I\u2081)\u23a5             \u239f\n",
        "\u239c\u23a2-Y\u2081     Y\u2081       \u2500\u2500\u2500\u2500\u2500\u2500\u2500\u2500\u2500\u2500\u23a5             \u239f\n",
        "\u239c\u23a2                     2     \u23a5             \u239f\n",
        "\u239c\u23a2                           \u23a5             \u239f\n",
        "\u239c\u23a2     h\u2081(E\u2081, I\u2081)            \u23a5             \u239f\n",
        "\u239c\u23a2 0   \u2500\u2500\u2500\u2500\u2500\u2500\u2500\u2500\u2500\u2500      0     \u23a5             \u239f\n",
        "\u239d\u23a3         2                 \u23a6             \u23a0"
       ]
      }
     ],
     "prompt_number": 180
    },
    {
     "cell_type": "code",
     "collapsed": false,
     "input": [
      "R2[f],A2[f]"
     ],
     "language": "python",
     "metadata": {},
     "outputs": [
      {
       "latex": [
        "$$\\begin{pmatrix}\\left[\\begin{smallmatrix}1 & - F X_{2}^{2} - F X_{2} Y_{2} - 2 F X_{2} - F Y_{2} - F - X_{2}^{2} Y_{2} - X_{2}^{2} - 2 X_{2} Y_{2} - X_{2} - Y_{1} - Y_{2} + \\frac{1}{2} \\left(X_{2} + 1\\right) \\left(X_{2} + Y_{2} + 1\\right) \\operatorname{h2}{\\left (E_{1},E_{2},I_{1},I_{2} \\right )} & \\frac{1}{2} \\left(X_{1} + 1\\right) \\left(X_{2} + Y_{2} + 1\\right) \\operatorname{h2}{\\left (E_{1},E_{2},I_{1},I_{2} \\right )} - \\left(X_{1} + 1\\right) \\left(F X_{2} + F Y_{2} + F + X_{2} Y_{2} + X_{2} + Y_{2}\\right) & 0 & 0\\\\- F X_{2}^{2} - F X_{2} Y_{2} - 2 F X_{2} - F Y_{2} - F - X_{2}^{2} Y_{2} - X_{2}^{2} - 2 X_{2} Y_{2} - X_{2} - Y_{1} - Y_{2} + \\frac{1}{2} \\left(X_{2} + 1\\right) \\left(X_{2} + Y_{2} + 1\\right) \\operatorname{h2}{\\left (E_{1},E_{2},I_{1},I_{2} \\right )} & \\left(F X_{2}^{2} + F X_{2} Y_{2} + 2 F X_{2} + F Y_{2} + F + X_{2}^{2} Y_{2} + X_{2}^{2} + 2 X_{2} Y_{2} + X_{2} + Y_{1} + Y_{2}\\right)^{2} & \\left(X_{1} + 1\\right) \\left(F X_{2} + F Y_{2} + F + X_{2} Y_{2} + X_{2} + Y_{2}\\right) \\left(F X_{2}^{2} + F X_{2} Y_{2} + 2 F X_{2} + F Y_{2} + F + X_{2}^{2} Y_{2} + X_{2}^{2} + 2 X_{2} Y_{2} + X_{2} + Y_{1} + Y_{2}\\right) + \\frac{1}{2} \\left(X_{2} + 1\\right) \\left(F + Y_{2} + 1\\right) \\operatorname{h2}{\\left (E_{1},E_{2},I_{1},I_{2} \\right )} & \\frac{1}{2} \\operatorname{h1}{\\left (E_{1},E_{2},I_{1},I_{2} \\right )} & \\frac{1}{2} \\left(X_{2} + 1\\right) \\left(F + X_{2} + 1\\right) \\operatorname{h2}{\\left (E_{1},E_{2},I_{1},I_{2} \\right )}\\\\\\frac{1}{2} \\left(X_{1} + 1\\right) \\left(X_{2} + Y_{2} + 1\\right) \\operatorname{h2}{\\left (E_{1},E_{2},I_{1},I_{2} \\right )} - \\left(X_{1} + 1\\right) \\left(F X_{2} + F Y_{2} + F + X_{2} Y_{2} + X_{2} + Y_{2}\\right) & \\left(X_{1} + 1\\right) \\left(F X_{2} + F Y_{2} + F + X_{2} Y_{2} + X_{2} + Y_{2}\\right) \\left(F X_{2}^{2} + F X_{2} Y_{2} + 2 F X_{2} + F Y_{2} + F + X_{2}^{2} Y_{2} + X_{2}^{2} + 2 X_{2} Y_{2} + X_{2} + Y_{1} + Y_{2}\\right) + \\frac{1}{2} \\left(X_{2} + 1\\right) \\left(F + Y_{2} + 1\\right) \\operatorname{h2}{\\left (E_{1},E_{2},I_{1},I_{2} \\right )} & \\left(X_{1} + 1\\right)^{2} \\left(F X_{2} + F Y_{2} + F + X_{2} Y_{2} + X_{2} + Y_{2}\\right)^{2} + \\left(X_{1} + 1\\right) \\left(F + Y_{2} + 1\\right) \\operatorname{h2}{\\left (E_{1},E_{2},I_{1},I_{2} \\right )} & 0 & \\frac{1}{2} \\left(X_{1} + 1\\right) \\left(F + X_{2} + 1\\right) \\operatorname{h2}{\\left (E_{1},E_{2},I_{1},I_{2} \\right )}\\\\0 & \\frac{1}{2} \\operatorname{h1}{\\left (E_{1},E_{2},I_{1},I_{2} \\right )} & 0 & 0 & 0\\\\0 & \\frac{1}{2} \\left(X_{2} + 1\\right) \\left(F + X_{2} + 1\\right) \\operatorname{h2}{\\left (E_{1},E_{2},I_{1},I_{2} \\right )} & \\frac{1}{2} \\left(X_{1} + 1\\right) \\left(F + X_{2} + 1\\right) \\operatorname{h2}{\\left (E_{1},E_{2},I_{1},I_{2} \\right )} & 0 & 0\\end{smallmatrix}\\right], & \\begin{bmatrix}F, & X_{1}, & X_{1} X_{2} + X_{1} + X_{2}, & Y_{1}, & F X_{2} + F Y_{2} + F + X_{2} Y_{2} + X_{2} + Y_{2}\\end{bmatrix}\\end{pmatrix}$$"
       ],
       "output_type": "pyout",
       "prompt_number": 181,
       "text": [
        "\u239b\u23a1                                                                            \n",
        "\u239c\u23a2                                                            1               \n",
        "\u239c\u23a2                                                                            \n",
        "\u239c\u23a2                                                                            \n",
        "\u239c\u23a2                                                                            \n",
        "\u239c\u23a2      2                                   2        2                        \n",
        "\u239c\u23a2- F\u22c5X\u2082  - F\u22c5X\u2082\u22c5Y\u2082 - 2\u22c5F\u22c5X\u2082 - F\u22c5Y\u2082 - F - X\u2082 \u22c5Y\u2082 - X\u2082  - 2\u22c5X\u2082\u22c5Y\u2082 - X\u2082 - Y\u2081 - Y\n",
        "\u239c\u23a2                                                                            \n",
        "\u239c\u23a2                                                                            \n",
        "\u239c\u23a2                (X\u2081 + 1)\u22c5(X\u2082 + Y\u2082 + 1)\u22c5h\u2082(E\u2081, E\u2082, I\u2081, I\u2082)                   \n",
        "\u239c\u23a2                \u2500\u2500\u2500\u2500\u2500\u2500\u2500\u2500\u2500\u2500\u2500\u2500\u2500\u2500\u2500\u2500\u2500\u2500\u2500\u2500\u2500\u2500\u2500\u2500\u2500\u2500\u2500\u2500\u2500\u2500\u2500\u2500\u2500\u2500\u2500\u2500\u2500\u2500\u2500\u2500\u2500 - (X\u2081 + 1)\u22c5(F\u22c5X\u2082 +\n",
        "\u239c\u23a2                                    2                                       \n",
        "\u239c\u23a2                                                                            \n",
        "\u239c\u23a2                                                                            \n",
        "\u239c\u23a2                                                            0               \n",
        "\u239c\u23a2                                                                            \n",
        "\u239c\u23a2                                                                            \n",
        "\u239c\u23a2                                                                            \n",
        "\u239c\u23a2                                                            0               \n",
        "\u239d\u23a3                                                                            \n",
        "\n",
        "                                                                           2  \n",
        "                                                                     - F\u22c5X\u2082  -\n",
        "                                                                              \n",
        "                                                                              \n",
        "                                                                              \n",
        "    (X\u2082 + 1)\u22c5(X\u2082 + Y\u2082 + 1)\u22c5h\u2082(E\u2081, E\u2082, I\u2081, I\u2082)                                 \n",
        "\u2082 + \u2500\u2500\u2500\u2500\u2500\u2500\u2500\u2500\u2500\u2500\u2500\u2500\u2500\u2500\u2500\u2500\u2500\u2500\u2500\u2500\u2500\u2500\u2500\u2500\u2500\u2500\u2500\u2500\u2500\u2500\u2500\u2500\u2500\u2500\u2500\u2500\u2500\u2500\u2500\u2500\u2500                                 \n",
        "                        2                                                     \n",
        "                                                                              \n",
        "                                                                              \n",
        " F\u22c5Y\u2082 + F + X\u2082\u22c5Y\u2082 + X\u2082 + Y\u2082)                   (X\u2081 + 1)\u22c5(F\u22c5X\u2082 + F\u22c5Y\u2082 + F + X\u2082\u22c5\n",
        "                                                                              \n",
        "                                                                              \n",
        "                                                                              \n",
        "                                                                              \n",
        "                                                                              \n",
        "                                                                              \n",
        "                                                                              \n",
        "                                                                              \n",
        "                                                                              \n",
        "\n",
        "                                 2        2                            (X\u2082 + 1\n",
        " F\u22c5X\u2082\u22c5Y\u2082 - 2\u22c5F\u22c5X\u2082 - F\u22c5Y\u2082 - F - X\u2082 \u22c5Y\u2082 - X\u2082  - 2\u22c5X\u2082\u22c5Y\u2082 - X\u2082 - Y\u2081 - Y\u2082 + \u2500\u2500\u2500\u2500\u2500\u2500\u2500\n",
        "                                                                              \n",
        "                                                                              \n",
        "                                                                              \n",
        "            \u239b    2                                   2        2               \n",
        "            \u239dF\u22c5X\u2082  + F\u22c5X\u2082\u22c5Y\u2082 + 2\u22c5F\u22c5X\u2082 + F\u22c5Y\u2082 + F + X\u2082 \u22c5Y\u2082 + X\u2082  + 2\u22c5X\u2082\u22c5Y\u2082 + X\u2082\n",
        "                                                                              \n",
        "                                                                              \n",
        "              \u239b    2                                   2        2             \n",
        "Y\u2082 + X\u2082 + Y\u2082)\u22c5\u239dF\u22c5X\u2082  + F\u22c5X\u2082\u22c5Y\u2082 + 2\u22c5F\u22c5X\u2082 + F\u22c5Y\u2082 + F + X\u2082 \u22c5Y\u2082 + X\u2082  + 2\u22c5X\u2082\u22c5Y\u2082 + \n",
        "                                                                              \n",
        "                                                                              \n",
        "                                          h\u2081(E\u2081, E\u2082, I\u2081, I\u2082)                  \n",
        "                                          \u2500\u2500\u2500\u2500\u2500\u2500\u2500\u2500\u2500\u2500\u2500\u2500\u2500\u2500\u2500\u2500\u2500\u2500                  \n",
        "                                                  2                           \n",
        "                                                                              \n",
        "                               (X\u2082 + 1)\u22c5(F + X\u2082 + 1)\u22c5h\u2082(E\u2081, E\u2082, I\u2081, I\u2082)       \n",
        "                               \u2500\u2500\u2500\u2500\u2500\u2500\u2500\u2500\u2500\u2500\u2500\u2500\u2500\u2500\u2500\u2500\u2500\u2500\u2500\u2500\u2500\u2500\u2500\u2500\u2500\u2500\u2500\u2500\u2500\u2500\u2500\u2500\u2500\u2500\u2500\u2500\u2500\u2500\u2500\u2500       \n",
        "                                                  2                           \n",
        "\n",
        ")\u22c5(X\u2082 + Y\u2082 + 1)\u22c5h\u2082(E\u2081, E\u2082, I\u2081, I\u2082)                                            \n",
        "\u2500\u2500\u2500\u2500\u2500\u2500\u2500\u2500\u2500\u2500\u2500\u2500\u2500\u2500\u2500\u2500\u2500\u2500\u2500\u2500\u2500\u2500\u2500\u2500\u2500\u2500\u2500\u2500\u2500\u2500\u2500\u2500\u2500\u2500                                            \n",
        "             2                                                                \n",
        "                                                                              \n",
        "           2                                                                  \n",
        "          \u239e                                                                   \n",
        " + Y\u2081 + Y\u2082\u23a0                                               (X\u2081 + 1)\u22c5(F\u22c5X\u2082 + F\u22c5Y\n",
        "                                                                              \n",
        "                                                                              \n",
        "            \u239e   (X\u2082 + 1)\u22c5(F + Y\u2082 + 1)\u22c5h\u2082(E\u2081, E\u2082, I\u2081, I\u2082)                      \n",
        "X\u2082 + Y\u2081 + Y\u2082\u23a0 + \u2500\u2500\u2500\u2500\u2500\u2500\u2500\u2500\u2500\u2500\u2500\u2500\u2500\u2500\u2500\u2500\u2500\u2500\u2500\u2500\u2500\u2500\u2500\u2500\u2500\u2500\u2500\u2500\u2500\u2500\u2500\u2500\u2500\u2500\u2500\u2500\u2500\u2500\u2500\u2500                      \n",
        "                                   2                                          \n",
        "                                                                              \n",
        "                                                                              \n",
        "                                                                              \n",
        "                                                                              \n",
        "                                                                              \n",
        "                                                                              \n",
        "                                                                              \n",
        "                                                                              \n",
        "\n",
        "                  (X\u2081 + 1)\u22c5(X\u2082 + Y\u2082 + 1)\u22c5h\u2082(E\u2081, E\u2082, I\u2081, I\u2082)                   \n",
        "                  \u2500\u2500\u2500\u2500\u2500\u2500\u2500\u2500\u2500\u2500\u2500\u2500\u2500\u2500\u2500\u2500\u2500\u2500\u2500\u2500\u2500\u2500\u2500\u2500\u2500\u2500\u2500\u2500\u2500\u2500\u2500\u2500\u2500\u2500\u2500\u2500\u2500\u2500\u2500\u2500\u2500 - (X\u2081 + 1)\u22c5(F\u22c5X\u2082 +\n",
        "                                      2                                       \n",
        "                                                                              \n",
        "                                                                              \n",
        "                         \u239b    2                                   2        2  \n",
        "\u2082 + F + X\u2082\u22c5Y\u2082 + X\u2082 + Y\u2082)\u22c5\u239dF\u22c5X\u2082  + F\u22c5X\u2082\u22c5Y\u2082 + 2\u22c5F\u22c5X\u2082 + F\u22c5Y\u2082 + F + X\u2082 \u22c5Y\u2082 + X\u2082  +\n",
        "                                                                              \n",
        "                                                                              \n",
        "                          2                                    2              \n",
        "                  (X\u2081 + 1) \u22c5(F\u22c5X\u2082 + F\u22c5Y\u2082 + F + X\u2082\u22c5Y\u2082 + X\u2082 + Y\u2082)  + (X\u2081 + 1)\u22c5(F\n",
        "                                                                              \n",
        "                                                                              \n",
        "                                                                              \n",
        "                                                              0               \n",
        "                                                                              \n",
        "                                                                              \n",
        "                                          (X\u2081 + 1)\u22c5(F + X\u2082 + 1)\u22c5h\u2082(E\u2081, E\u2082, I\u2081,\n",
        "                                          \u2500\u2500\u2500\u2500\u2500\u2500\u2500\u2500\u2500\u2500\u2500\u2500\u2500\u2500\u2500\u2500\u2500\u2500\u2500\u2500\u2500\u2500\u2500\u2500\u2500\u2500\u2500\u2500\u2500\u2500\u2500\u2500\u2500\u2500\u2500\u2500\n",
        "                                                             2                \n",
        "\n",
        "                                                                              \n",
        " F\u22c5Y\u2082 + F + X\u2082\u22c5Y\u2082 + X\u2082 + Y\u2082)                                                 0\n",
        "                                                                              \n",
        "                                                                              \n",
        "                                                                              \n",
        "                       \u239e   (X\u2082 + 1)\u22c5(F + Y\u2082 + 1)\u22c5h\u2082(E\u2081, E\u2082, I\u2081, I\u2082)  h\u2081(E\u2081, E\u2082\n",
        " 2\u22c5X\u2082\u22c5Y\u2082 + X\u2082 + Y\u2081 + Y\u2082\u23a0 + \u2500\u2500\u2500\u2500\u2500\u2500\u2500\u2500\u2500\u2500\u2500\u2500\u2500\u2500\u2500\u2500\u2500\u2500\u2500\u2500\u2500\u2500\u2500\u2500\u2500\u2500\u2500\u2500\u2500\u2500\u2500\u2500\u2500\u2500\u2500\u2500\u2500\u2500\u2500\u2500  \u2500\u2500\u2500\u2500\u2500\u2500\u2500\u2500\u2500\n",
        "                                              2                              2\n",
        "                                                                              \n",
        "                                                                              \n",
        " + Y\u2082 + 1)\u22c5h\u2082(E\u2081, E\u2082, I\u2081, I\u2082)                                                0\n",
        "                                                                              \n",
        "                                                                              \n",
        "                                                                              \n",
        "                                                                             0\n",
        "                                                                              \n",
        "                                                                              \n",
        " I\u2082)                                                                          \n",
        "\u2500\u2500\u2500\u2500                                                                         0\n",
        "                                                                              \n",
        "\n",
        "                                                   \u23a4                          \n",
        "                              0                    \u23a5, [F, X\u2081, X\u2081\u22c5X\u2082 + X\u2081 + X\u2082,\n",
        "                                                   \u23a5                          \n",
        "                                                   \u23a5                          \n",
        "                                                   \u23a5                          \n",
        ", I\u2081, I\u2082)  (X\u2082 + 1)\u22c5(F + X\u2082 + 1)\u22c5h\u2082(E\u2081, E\u2082, I\u2081, I\u2082)\u23a5                          \n",
        "\u2500\u2500\u2500\u2500\u2500\u2500\u2500\u2500\u2500  \u2500\u2500\u2500\u2500\u2500\u2500\u2500\u2500\u2500\u2500\u2500\u2500\u2500\u2500\u2500\u2500\u2500\u2500\u2500\u2500\u2500\u2500\u2500\u2500\u2500\u2500\u2500\u2500\u2500\u2500\u2500\u2500\u2500\u2500\u2500\u2500\u2500\u2500\u2500\u2500\u23a5                          \n",
        "                              2                    \u23a5                          \n",
        "                                                   \u23a5                          \n",
        "           (X\u2081 + 1)\u22c5(F + X\u2082 + 1)\u22c5h\u2082(E\u2081, E\u2082, I\u2081, I\u2082)\u23a5                          \n",
        "           \u2500\u2500\u2500\u2500\u2500\u2500\u2500\u2500\u2500\u2500\u2500\u2500\u2500\u2500\u2500\u2500\u2500\u2500\u2500\u2500\u2500\u2500\u2500\u2500\u2500\u2500\u2500\u2500\u2500\u2500\u2500\u2500\u2500\u2500\u2500\u2500\u2500\u2500\u2500\u2500\u23a5                          \n",
        "                              2                    \u23a5                          \n",
        "                                                   \u23a5                          \n",
        "                                                   \u23a5                          \n",
        "                              0                    \u23a5                          \n",
        "                                                   \u23a5                          \n",
        "                                                   \u23a5                          \n",
        "                                                   \u23a5                          \n",
        "                              0                    \u23a5                          \n",
        "                                                   \u23a6                          \n",
        "\n",
        "                                       \u239e\n",
        " Y\u2081, F\u22c5X\u2082 + F\u22c5Y\u2082 + F + X\u2082\u22c5Y\u2082 + X\u2082 + Y\u2082]\u239f\n",
        "                                       \u239f\n",
        "                                       \u239f\n",
        "                                       \u239f\n",
        "                                       \u239f\n",
        "                                       \u239f\n",
        "                                       \u239f\n",
        "                                       \u239f\n",
        "                                       \u239f\n",
        "                                       \u239f\n",
        "                                       \u239f\n",
        "                                       \u239f\n",
        "                                       \u239f\n",
        "                                       \u239f\n",
        "                                       \u239f\n",
        "                                       \u239f\n",
        "                                       \u239f\n",
        "                                       \u239f\n",
        "                                       \u23a0"
       ]
      }
     ],
     "prompt_number": 181
    },
    {
     "cell_type": "code",
     "collapsed": false,
     "input": [
      "s2[f]"
     ],
     "language": "python",
     "metadata": {},
     "outputs": [
      {
       "latex": [
        "$$\\begin{bmatrix}\\begin{bmatrix}1, & 1, & 0, & 0, & 0\\end{bmatrix}, & \\begin{bmatrix}0, & 1, & 0, & 0, & 0\\end{bmatrix}, & \\begin{pmatrix}0, & 1, & 1, & 0, & 0\\end{pmatrix}, & \\begin{bmatrix}1, & 1, & 0, & 1, & 0\\end{bmatrix}, & \\begin{pmatrix}1, & 1, & 1, & 1, & 1\\end{pmatrix}\\end{bmatrix}$$"
       ],
       "output_type": "pyout",
       "prompt_number": 70,
       "text": [
        "[[1, 1, 0, 0, 0], [0, 1, 0, 0, 0], (0, 1, 1, 0, 0), [1, 1, 0, 1, 0], (1, 1, 1,\n",
        " 1, 1)]"
       ]
      }
     ],
     "prompt_number": 70
    },
    {
     "cell_type": "code",
     "collapsed": false,
     "input": [
      "tabix = 0\n",
      "s0 = sod_creator(Z,B,[0,1])\n",
      "for x in s0:\n",
      "    tabix = tabix + 1\n",
      "tabix"
     ],
     "language": "python",
     "metadata": {},
     "outputs": [
      {
       "output_type": "pyout",
       "png": "[encoded data removed]",
       "prompt_number": 47,
       "text": [
        "20389320"
       ]
      }
     ],
     "prompt_number": 47
    },
    {
     "cell_type": "code",
     "collapsed": false,
     "input": [
      "test = 0\n",
      "block = 100\n",
      "increment = 0\n",
      "de = 0\n",
      "while increment < 10:\n",
      "    hasta = de+1+block\n",
      "    A,R,sn = get_difeomorphisms(n,s,difeomorphism_sop,de,hasta)\n",
      "    test = size(A)/3\n",
      "    de = hasta + 1\n",
      "    increment = increment + 1\n",
      "    if test != 0:\n",
      "        break"
     ],
     "language": "python",
     "metadata": {},
     "outputs": []
    },
    {
     "cell_type": "code",
     "collapsed": false,
     "input": [
      "a = []\n",
      "b = []\n",
      "for y in range (0,len(s1)):\n",
      "    a = []\n",
      "    for x in range(0,len(s1[y])):\n",
      "        a.append(s1[y][x] +(1,1))\n",
      "    a.append((1,1,1,1,1))\n",
      "    a.append((1,1,1,1,1))\n",
      "    b.append(a)\n",
      "            "
     ],
     "language": "python",
     "metadata": {},
     "outputs": [],
     "prompt_number": 52
    },
    {
     "cell_type": "code",
     "collapsed": false,
     "input": [],
     "language": "python",
     "metadata": {},
     "outputs": []
    }
   ],
   "metadata": {}
  }
 ]
}