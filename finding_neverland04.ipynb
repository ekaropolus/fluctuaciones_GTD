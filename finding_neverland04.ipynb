{
 "cells": [
  {
   "cell_type": "code",
   "execution_count": 1,
   "metadata": {
    "collapsed": false,
    "scrolled": true
   },
   "outputs": [],
   "source": [
    "from difeomorfismos_solvers import *\n",
    "from difeomorfismo import *\n",
    "import winsound, sys\n",
    "\n",
    "def beep(sound):\n",
    "    winsound.PlaySound('%s.wav' % sound, winsound.SND_FILENAME)\n",
    "init_printing()"
   ]
  },
  {
   "cell_type": "code",
   "execution_count": 2,
   "metadata": {
    "collapsed": false
   },
   "outputs": [],
   "source": [
    "n=2\n"
   ]
  },
  {
   "cell_type": "markdown",
   "metadata": {},
   "source": [
    "<H3>Estos son las dos coordenadas del difeomorfismo</H3>"
   ]
  },
  {
   "cell_type": "code",
   "execution_count": 3,
   "metadata": {
    "collapsed": false
   },
   "outputs": [],
   "source": [
    "ZE, ZX = set_coordinates(n)"
   ]
  },
  {
   "cell_type": "markdown",
   "metadata": {},
   "source": [
    "<H3>Estas son las constates para las ecuaciones del difeomorfismo Cuadratico + lineal</H3>"
   ]
  },
  {
   "cell_type": "code",
   "execution_count": 4,
   "metadata": {
    "collapsed": false
   },
   "outputs": [],
   "source": [
    "import operator\n",
    "A,c1=set_constants_a(n,'A','s')\n",
    "D,c2=set_constants_a(n,'D','s')\n",
    "B,c3=set_constants_axb(n,n,'B',0)\n",
    "G,c4=set_constants_axb(n,n,'G',0)\n",
    "C,c5=set_constants_axb(n,n,'C',0)\n",
    "H,c6=set_constants_axb(n,n,'H',0)\n",
    "M,c7=set_constants_axbxc(n,n,n,'M','s',operator.ge)\n",
    "N,c8=set_constants_axbxc(n,n,n,'N','s',operator.ge)\n",
    "J,c9=set_constants_axbxc00(n,n,n,'J','s')\n",
    "K,c10=set_constants_axbxc00(n,n,n,'K','s')\n",
    "P,c11 = set_constants_axbxcxdxe(n,n,n,n,n,'P','s')\n",
    "Q,c12 = set_constants_axbxcxdxe(n,n,n,n,n,'Q','s')\n",
    "R,c13 = set_constants_axbxcxdxe(n,n,n,n,n,'R','s')\n",
    "T,c14 = set_constants_axbxcxdxe(n,n,n,n,n,'T','s')\n",
    "\n",
    "p,c1=set_constants_axb(n,n,'p','s')"
   ]
  },
  {
   "cell_type": "code",
   "execution_count": 5,
   "metadata": {
    "collapsed": false
   },
   "outputs": [],
   "source": [
    "c = c1 + c2 + c3 + c4 + c5 + c6 + c7 + c8 + c9 + c10 + c11 + c12 + c13 + c14\n",
    "c = list(filter(lambda a: a != 0, c))"
   ]
  },
  {
   "cell_type": "code",
   "execution_count": 6,
   "metadata": {
    "collapsed": false
   },
   "outputs": [],
   "source": [
    "dc = {}\n",
    "for x in c:\n",
    "    dc[x]=1"
   ]
  },
  {
   "cell_type": "code",
   "execution_count": 7,
   "metadata": {
    "collapsed": false
   },
   "outputs": [],
   "source": [
    "dZE = {}\n",
    "for x in ZE:\n",
    "    dZE[x]=1"
   ]
  },
  {
   "cell_type": "code",
   "execution_count": 8,
   "metadata": {
    "collapsed": false
   },
   "outputs": [],
   "source": [
    "m = Symbol('m')\n",
    "n1 = Symbol('n')\n",
    "r = Symbol('r')\n",
    "s = Symbol('s')\n",
    "\n",
    "t = Symbol('t')\n",
    "w = Symbol('w')\n",
    "u = Symbol('u')\n",
    "v = Symbol('v')\n",
    "\n",
    "cof = [[P],[T],[B],[G]]\n",
    "#power = [[[m,n1,r,s]],[[m,n1,r,s]]]\n",
    "power = [[[m,n1,1,1]],[[m,n1,1,1]]]"
   ]
  },
  {
   "cell_type": "code",
   "execution_count": 9,
   "metadata": {
    "collapsed": false,
    "scrolled": true
   },
   "outputs": [
    {
     "data": {
      "text/latex": [
       "$$\\left[\\begin{matrix}F{\\left (\\Phi,E_{1},E_{2},I_{1},I_{2} \\right )}\\\\E_{1}^{m} E_{1}^{n} P_{11111} + E_{1}^{m} E_{1}^{n} P_{11112} + E_{1}^{m} E_{1}^{n} P_{11121} + E_{1}^{m} E_{1}^{n} P_{11122} + E_{1}^{m} E_{2}^{n} P_{11211} + E_{1}^{m} E_{2}^{n} P_{11212} + E_{1}^{m} E_{2}^{n} P_{11221} + E_{1}^{m} E_{2}^{n} P_{11222} + E_{1}^{n} E_{2}^{m} P_{12111} + E_{1}^{n} E_{2}^{m} P_{12112} + E_{1}^{n} E_{2}^{m} P_{12121} + E_{1}^{n} E_{2}^{m} P_{12122} + E_{2}^{m} E_{2}^{n} P_{12211} + E_{2}^{m} E_{2}^{n} P_{12212} + E_{2}^{m} E_{2}^{n} P_{12221} + E_{2}^{m} E_{2}^{n} P_{12222}\\\\E_{1}^{m} E_{1}^{n} P_{21111} + E_{1}^{m} E_{1}^{n} P_{21112} + E_{1}^{m} E_{1}^{n} P_{21121} + E_{1}^{m} E_{1}^{n} P_{21122} + E_{1}^{m} E_{2}^{n} P_{21211} + E_{1}^{m} E_{2}^{n} P_{21212} + E_{1}^{m} E_{2}^{n} P_{21221} + E_{1}^{m} E_{2}^{n} P_{21222} + E_{1}^{n} E_{2}^{m} P_{22111} + E_{1}^{n} E_{2}^{m} P_{22112} + E_{1}^{n} E_{2}^{m} P_{22121} + E_{1}^{n} E_{2}^{m} P_{22122} + E_{2}^{m} E_{2}^{n} P_{22211} + E_{2}^{m} E_{2}^{n} P_{22212} + E_{2}^{m} E_{2}^{n} P_{22221} + E_{2}^{m} E_{2}^{n} P_{22222}\\\\E_{1}^{- m + 1} E_{1}^{- n + 1} I_{1}^{2} T_{11111} + E_{1}^{- m + 1} E_{1}^{- n + 1} I_{1} I_{2} T_{11112} + E_{1}^{- m + 1} E_{1}^{- n + 1} I_{1} I_{2} T_{11121} + E_{1}^{- m + 1} E_{1}^{- n + 1} I_{2}^{2} T_{11122} + E_{1}^{- m + 1} E_{2}^{- n + 1} I_{1}^{2} T_{11211} + E_{1}^{- m + 1} E_{2}^{- n + 1} I_{1} I_{2} T_{11212} + E_{1}^{- m + 1} E_{2}^{- n + 1} I_{1} I_{2} T_{11221} + E_{1}^{- m + 1} E_{2}^{- n + 1} I_{2}^{2} T_{11222} + E_{1}^{- n + 1} E_{2}^{- m + 1} I_{1}^{2} T_{12111} + E_{1}^{- n + 1} E_{2}^{- m + 1} I_{1} I_{2} T_{12112} + E_{1}^{- n + 1} E_{2}^{- m + 1} I_{1} I_{2} T_{12121} + E_{1}^{- n + 1} E_{2}^{- m + 1} I_{2}^{2} T_{12122} + E_{2}^{- m + 1} E_{2}^{- n + 1} I_{1}^{2} T_{12211} + E_{2}^{- m + 1} E_{2}^{- n + 1} I_{1} I_{2} T_{12212} + E_{2}^{- m + 1} E_{2}^{- n + 1} I_{1} I_{2} T_{12221} + E_{2}^{- m + 1} E_{2}^{- n + 1} I_{2}^{2} T_{12222}\\\\E_{1}^{- m + 1} E_{1}^{- n + 1} I_{1}^{2} T_{21111} + E_{1}^{- m + 1} E_{1}^{- n + 1} I_{1} I_{2} T_{21112} + E_{1}^{- m + 1} E_{1}^{- n + 1} I_{1} I_{2} T_{21121} + E_{1}^{- m + 1} E_{1}^{- n + 1} I_{2}^{2} T_{21122} + E_{1}^{- m + 1} E_{2}^{- n + 1} I_{1}^{2} T_{21211} + E_{1}^{- m + 1} E_{2}^{- n + 1} I_{1} I_{2} T_{21212} + E_{1}^{- m + 1} E_{2}^{- n + 1} I_{1} I_{2} T_{21221} + E_{1}^{- m + 1} E_{2}^{- n + 1} I_{2}^{2} T_{21222} + E_{1}^{- n + 1} E_{2}^{- m + 1} I_{1}^{2} T_{22111} + E_{1}^{- n + 1} E_{2}^{- m + 1} I_{1} I_{2} T_{22112} + E_{1}^{- n + 1} E_{2}^{- m + 1} I_{1} I_{2} T_{22121} + E_{1}^{- n + 1} E_{2}^{- m + 1} I_{2}^{2} T_{22122} + E_{2}^{- m + 1} E_{2}^{- n + 1} I_{1}^{2} T_{22211} + E_{2}^{- m + 1} E_{2}^{- n + 1} I_{1} I_{2} T_{22212} + E_{2}^{- m + 1} E_{2}^{- n + 1} I_{1} I_{2} T_{22221} + E_{2}^{- m + 1} E_{2}^{- n + 1} I_{2}^{2} T_{22222}\\end{matrix}\\right]$$"
      ],
      "text/plain": [
       "⎡                                                                             \n",
       "⎢                                                                             \n",
       "⎢                                                                             \n",
       "⎢                                                                             \n",
       "⎢                                                                             \n",
       "⎢                                                                             \n",
       "⎢                                                                             \n",
       "⎢                                                                             \n",
       "⎢  -m + 1   -n + 1   2            -m + 1   -n + 1                  -m + 1   -n\n",
       "⎢E₁      ⋅E₁      ⋅I₁ ⋅T₁₁₁₁₁ + E₁      ⋅E₁      ⋅I₁⋅I₂⋅T₁₁₁₁₂ + E₁      ⋅E₁  \n",
       "⎢                                                                             \n",
       "⎢  -m + 1   -n + 1   2            -m + 1   -n + 1                  -m + 1   -n\n",
       "⎣E₁      ⋅E₁      ⋅I₁ ⋅T₂₁₁₁₁ + E₁      ⋅E₁      ⋅I₁⋅I₂⋅T₂₁₁₁₂ + E₁      ⋅E₁  \n",
       "\n",
       "                                                                              \n",
       "                                                                              \n",
       "                                             m   n            m   n           \n",
       "                                           E₁ ⋅E₁ ⋅P₁₁₁₁₁ + E₁ ⋅E₁ ⋅P₁₁₁₁₂ + E\n",
       "                                                                              \n",
       "                                             m   n            m   n           \n",
       "                                           E₁ ⋅E₁ ⋅P₂₁₁₁₁ + E₁ ⋅E₁ ⋅P₂₁₁₁₂ + E\n",
       "                                                                              \n",
       " + 1                  -m + 1   -n + 1   2            -m + 1   -n + 1   2      \n",
       "    ⋅I₁⋅I₂⋅T₁₁₁₂₁ + E₁      ⋅E₁      ⋅I₂ ⋅T₁₁₁₂₂ + E₁      ⋅E₂      ⋅I₁ ⋅T₁₁₂₁\n",
       "                                                                              \n",
       " + 1                  -m + 1   -n + 1   2            -m + 1   -n + 1   2      \n",
       "    ⋅I₁⋅I₂⋅T₂₁₁₂₁ + E₁      ⋅E₁      ⋅I₂ ⋅T₂₁₁₂₂ + E₁      ⋅E₂      ⋅I₁ ⋅T₂₁₂₁\n",
       "\n",
       "                                                                              \n",
       "                                                                              \n",
       " m   n            m   n            m   n            m   n            m   n    \n",
       "₁ ⋅E₁ ⋅P₁₁₁₂₁ + E₁ ⋅E₁ ⋅P₁₁₁₂₂ + E₁ ⋅E₂ ⋅P₁₁₂₁₁ + E₁ ⋅E₂ ⋅P₁₁₂₁₂ + E₁ ⋅E₂ ⋅P₁₁\n",
       "                                                                              \n",
       " m   n            m   n            m   n            m   n            m   n    \n",
       "₁ ⋅E₁ ⋅P₂₁₁₂₁ + E₁ ⋅E₁ ⋅P₂₁₁₂₂ + E₁ ⋅E₂ ⋅P₂₁₂₁₁ + E₁ ⋅E₂ ⋅P₂₁₂₁₂ + E₁ ⋅E₂ ⋅P₂₁\n",
       "                                                                              \n",
       "      -m + 1   -n + 1                  -m + 1   -n + 1                  -m + 1\n",
       "₁ + E₁      ⋅E₂      ⋅I₁⋅I₂⋅T₁₁₂₁₂ + E₁      ⋅E₂      ⋅I₁⋅I₂⋅T₁₁₂₂₁ + E₁      \n",
       "                                                                              \n",
       "      -m + 1   -n + 1                  -m + 1   -n + 1                  -m + 1\n",
       "₁ + E₁      ⋅E₂      ⋅I₁⋅I₂⋅T₂₁₂₁₂ + E₁      ⋅E₂      ⋅I₁⋅I₂⋅T₂₁₂₂₁ + E₁      \n",
       "\n",
       "          F(\\Phi, E₁, E₂, I₁, I₂)                                             \n",
       "                                                                              \n",
       "        m   n            n   m            n   m            n   m            n \n",
       "₂₂₁ + E₁ ⋅E₂ ⋅P₁₁₂₂₂ + E₁ ⋅E₂ ⋅P₁₂₁₁₁ + E₁ ⋅E₂ ⋅P₁₂₁₁₂ + E₁ ⋅E₂ ⋅P₁₂₁₂₁ + E₁ ⋅\n",
       "                                                                              \n",
       "        m   n            n   m            n   m            n   m            n \n",
       "₂₂₁ + E₁ ⋅E₂ ⋅P₂₁₂₂₂ + E₁ ⋅E₂ ⋅P₂₂₁₁₁ + E₁ ⋅E₂ ⋅P₂₂₁₁₂ + E₁ ⋅E₂ ⋅P₂₂₁₂₁ + E₁ ⋅\n",
       "                                                                              \n",
       "   -n + 1   2            -n + 1   -m + 1   2            -n + 1   -m + 1       \n",
       "⋅E₂      ⋅I₂ ⋅T₁₁₂₂₂ + E₁      ⋅E₂      ⋅I₁ ⋅T₁₂₁₁₁ + E₁      ⋅E₂      ⋅I₁⋅I₂⋅\n",
       "                                                                              \n",
       "   -n + 1   2            -n + 1   -m + 1   2            -n + 1   -m + 1       \n",
       "⋅E₂      ⋅I₂ ⋅T₂₁₂₂₂ + E₁      ⋅E₂      ⋅I₁ ⋅T₂₂₁₁₁ + E₁      ⋅E₂      ⋅I₁⋅I₂⋅\n",
       "\n",
       "                                                                              \n",
       "                                                                              \n",
       "  m            m   n            m   n            m   n            m   n       \n",
       "E₂ ⋅P₁₂₁₂₂ + E₂ ⋅E₂ ⋅P₁₂₂₁₁ + E₂ ⋅E₂ ⋅P₁₂₂₁₂ + E₂ ⋅E₂ ⋅P₁₂₂₂₁ + E₂ ⋅E₂ ⋅P₁₂₂₂₂\n",
       "                                                                              \n",
       "  m            m   n            m   n            m   n            m   n       \n",
       "E₂ ⋅P₂₂₁₂₂ + E₂ ⋅E₂ ⋅P₂₂₂₁₁ + E₂ ⋅E₂ ⋅P₂₂₂₁₂ + E₂ ⋅E₂ ⋅P₂₂₂₂₁ + E₂ ⋅E₂ ⋅P₂₂₂₂₂\n",
       "                                                                              \n",
       "           -n + 1   -m + 1                  -n + 1   -m + 1   2            -m \n",
       "T₁₂₁₁₂ + E₁      ⋅E₂      ⋅I₁⋅I₂⋅T₁₂₁₂₁ + E₁      ⋅E₂      ⋅I₂ ⋅T₁₂₁₂₂ + E₂   \n",
       "                                                                              \n",
       "           -n + 1   -m + 1                  -n + 1   -m + 1   2            -m \n",
       "T₂₂₁₁₂ + E₁      ⋅E₂      ⋅I₁⋅I₂⋅T₂₂₁₂₁ + E₁      ⋅E₂      ⋅I₂ ⋅T₂₂₁₂₂ + E₂   \n",
       "\n",
       "                                                                              \n",
       "                                                                              \n",
       "                                                                              \n",
       "                                                                              \n",
       "                                                                              \n",
       "                                                                              \n",
       "                                                                              \n",
       "                                                                              \n",
       "+ 1   -n + 1   2            -m + 1   -n + 1                  -m + 1   -n + 1  \n",
       "   ⋅E₂      ⋅I₁ ⋅T₁₂₂₁₁ + E₂      ⋅E₂      ⋅I₁⋅I₂⋅T₁₂₂₁₂ + E₂      ⋅E₂      ⋅I\n",
       "                                                                              \n",
       "+ 1   -n + 1   2            -m + 1   -n + 1                  -m + 1   -n + 1  \n",
       "   ⋅E₂      ⋅I₁ ⋅T₂₂₂₁₁ + E₂      ⋅E₂      ⋅I₁⋅I₂⋅T₂₂₂₁₂ + E₂      ⋅E₂      ⋅I\n",
       "\n",
       "                                          ⎤\n",
       "                                          ⎥\n",
       "                                          ⎥\n",
       "                                          ⎥\n",
       "                                          ⎥\n",
       "                                          ⎥\n",
       "                                          ⎥\n",
       "                                          ⎥\n",
       "                -m + 1   -n + 1   2       ⎥\n",
       "₁⋅I₂⋅T₁₂₂₂₁ + E₂      ⋅E₂      ⋅I₂ ⋅T₁₂₂₂₂⎥\n",
       "                                          ⎥\n",
       "                -m + 1   -n + 1   2       ⎥\n",
       "₁⋅I₂⋅T₂₂₂₂₁ + E₂      ⋅E₂      ⋅I₂ ⋅T₂₂₂₂₂⎦"
      ]
     },
     "execution_count": 9,
     "metadata": {},
     "output_type": "execute_result"
    }
   ],
   "source": [
    "L0 = pow_difeomorphism(cof,n,ZX,ZE,power)\n",
    "Matrix(L0)"
   ]
  },
  {
   "cell_type": "code",
   "execution_count": 10,
   "metadata": {
    "collapsed": true
   },
   "outputs": [],
   "source": [
    "simbolo = S_component002(1,3,L0,ZE)\n",
    "check = poly_args(simbolo,dc,dZE,factor)"
   ]
  },
  {
   "cell_type": "code",
   "execution_count": 11,
   "metadata": {
    "collapsed": false
   },
   "outputs": [
    {
     "data": {
      "image/png": "[encoded data removed]",
      "text/latex": [
       "$$2 \\left(m + n\\right) \\left(P_{11111} T_{11111} + P_{11112} T_{11111} + P_{11121} T_{11111} + P_{11122} T_{11111} + P_{21111} T_{21111} + P_{21112} T_{21111} + P_{21121} T_{21111} + P_{21122} T_{21111}\\right)$$"
      ],
      "text/plain": [
       "2⋅(m + n)⋅(P₁₁₁₁₁⋅T₁₁₁₁₁ + P₁₁₁₁₂⋅T₁₁₁₁₁ + P₁₁₁₂₁⋅T₁₁₁₁₁ + P₁₁₁₂₂⋅T₁₁₁₁₁ + P₂₁\n",
       "₁₁₁⋅T₂₁₁₁₁ + P₂₁₁₁₂⋅T₂₁₁₁₁ + P₂₁₁₂₁⋅T₂₁₁₁₁ + P₂₁₁₂₂⋅T₂₁₁₁₁)"
      ]
     },
     "execution_count": 11,
     "metadata": {},
     "output_type": "execute_result"
    }
   ],
   "source": [
    "factor(check[ZE[1]*ZE[3]])"
   ]
  },
  {
   "cell_type": "code",
   "execution_count": 12,
   "metadata": {
    "collapsed": false
   },
   "outputs": [
    {
     "data": {
      "image/png": "[encoded data removed]",
      "text/latex": [
       "$$P_{11211} T_{11212} m + P_{11211} T_{11221} m + P_{11212} T_{11212} m + P_{11212} T_{11221} m + P_{11221} T_{11212} m + P_{11221} T_{11221} m + P_{11222} T_{11212} m + P_{11222} T_{11221} m + P_{12111} T_{12112} n + P_{12111} T_{12121} n + P_{12112} T_{12112} n + P_{12112} T_{12121} n + P_{12121} T_{12112} n + P_{12121} T_{12121} n + P_{12122} T_{12112} n + P_{12122} T_{12121} n + P_{21211} T_{21212} m + P_{21211} T_{21221} m + P_{21212} T_{21212} m + P_{21212} T_{21221} m + P_{21221} T_{21212} m + P_{21221} T_{21221} m + P_{21222} T_{21212} m + P_{21222} T_{21221} m + P_{22111} T_{22112} n + P_{22111} T_{22121} n + P_{22112} T_{22112} n + P_{22112} T_{22121} n + P_{22121} T_{22112} n + P_{22121} T_{22121} n + P_{22122} T_{22112} n + P_{22122} T_{22121} n$$"
      ],
      "text/plain": [
       "P₁₁₂₁₁⋅T₁₁₂₁₂⋅m + P₁₁₂₁₁⋅T₁₁₂₂₁⋅m + P₁₁₂₁₂⋅T₁₁₂₁₂⋅m + P₁₁₂₁₂⋅T₁₁₂₂₁⋅m + P₁₁₂₂₁\n",
       "⋅T₁₁₂₁₂⋅m + P₁₁₂₂₁⋅T₁₁₂₂₁⋅m + P₁₁₂₂₂⋅T₁₁₂₁₂⋅m + P₁₁₂₂₂⋅T₁₁₂₂₁⋅m + P₁₂₁₁₁⋅T₁₂₁₁\n",
       "₂⋅n + P₁₂₁₁₁⋅T₁₂₁₂₁⋅n + P₁₂₁₁₂⋅T₁₂₁₁₂⋅n + P₁₂₁₁₂⋅T₁₂₁₂₁⋅n + P₁₂₁₂₁⋅T₁₂₁₁₂⋅n + \n",
       "P₁₂₁₂₁⋅T₁₂₁₂₁⋅n + P₁₂₁₂₂⋅T₁₂₁₁₂⋅n + P₁₂₁₂₂⋅T₁₂₁₂₁⋅n + P₂₁₂₁₁⋅T₂₁₂₁₂⋅m + P₂₁₂₁₁\n",
       "⋅T₂₁₂₂₁⋅m + P₂₁₂₁₂⋅T₂₁₂₁₂⋅m + P₂₁₂₁₂⋅T₂₁₂₂₁⋅m + P₂₁₂₂₁⋅T₂₁₂₁₂⋅m + P₂₁₂₂₁⋅T₂₁₂₂\n",
       "₁⋅m + P₂₁₂₂₂⋅T₂₁₂₁₂⋅m + P₂₁₂₂₂⋅T₂₁₂₂₁⋅m + P₂₂₁₁₁⋅T₂₂₁₁₂⋅n + P₂₂₁₁₁⋅T₂₂₁₂₁⋅n + \n",
       "P₂₂₁₁₂⋅T₂₂₁₁₂⋅n + P₂₂₁₁₂⋅T₂₂₁₂₁⋅n + P₂₂₁₂₁⋅T₂₂₁₁₂⋅n + P₂₂₁₂₁⋅T₂₂₁₂₁⋅n + P₂₂₁₂₂\n",
       "⋅T₂₂₁₁₂⋅n + P₂₂₁₂₂⋅T₂₂₁₂₁⋅n"
      ]
     },
     "execution_count": 12,
     "metadata": {},
     "output_type": "execute_result"
    }
   ],
   "source": [
    "factor(check[ZE[2]*ZE[4]])"
   ]
  },
  {
   "cell_type": "code",
   "execution_count": 13,
   "metadata": {
    "collapsed": true
   },
   "outputs": [],
   "source": [
    "simbolo = S_component002(2,4,L0,ZE)\n",
    "check = poly_args(simbolo,dc,dZE,factor)"
   ]
  },
  {
   "cell_type": "code",
   "execution_count": 14,
   "metadata": {
    "collapsed": false
   },
   "outputs": [
    {
     "data": {
      "image/png": "[encoded data removed]",
      "text/latex": [
       "$$P_{11211} T_{11212} n + P_{11211} T_{11221} n + P_{11212} T_{11212} n + P_{11212} T_{11221} n + P_{11221} T_{11212} n + P_{11221} T_{11221} n + P_{11222} T_{11212} n + P_{11222} T_{11221} n + P_{12111} T_{12112} m + P_{12111} T_{12121} m + P_{12112} T_{12112} m + P_{12112} T_{12121} m + P_{12121} T_{12112} m + P_{12121} T_{12121} m + P_{12122} T_{12112} m + P_{12122} T_{12121} m + P_{21211} T_{21212} n + P_{21211} T_{21221} n + P_{21212} T_{21212} n + P_{21212} T_{21221} n + P_{21221} T_{21212} n + P_{21221} T_{21221} n + P_{21222} T_{21212} n + P_{21222} T_{21221} n + P_{22111} T_{22112} m + P_{22111} T_{22121} m + P_{22112} T_{22112} m + P_{22112} T_{22121} m + P_{22121} T_{22112} m + P_{22121} T_{22121} m + P_{22122} T_{22112} m + P_{22122} T_{22121} m$$"
      ],
      "text/plain": [
       "P₁₁₂₁₁⋅T₁₁₂₁₂⋅n + P₁₁₂₁₁⋅T₁₁₂₂₁⋅n + P₁₁₂₁₂⋅T₁₁₂₁₂⋅n + P₁₁₂₁₂⋅T₁₁₂₂₁⋅n + P₁₁₂₂₁\n",
       "⋅T₁₁₂₁₂⋅n + P₁₁₂₂₁⋅T₁₁₂₂₁⋅n + P₁₁₂₂₂⋅T₁₁₂₁₂⋅n + P₁₁₂₂₂⋅T₁₁₂₂₁⋅n + P₁₂₁₁₁⋅T₁₂₁₁\n",
       "₂⋅m + P₁₂₁₁₁⋅T₁₂₁₂₁⋅m + P₁₂₁₁₂⋅T₁₂₁₁₂⋅m + P₁₂₁₁₂⋅T₁₂₁₂₁⋅m + P₁₂₁₂₁⋅T₁₂₁₁₂⋅m + \n",
       "P₁₂₁₂₁⋅T₁₂₁₂₁⋅m + P₁₂₁₂₂⋅T₁₂₁₁₂⋅m + P₁₂₁₂₂⋅T₁₂₁₂₁⋅m + P₂₁₂₁₁⋅T₂₁₂₁₂⋅n + P₂₁₂₁₁\n",
       "⋅T₂₁₂₂₁⋅n + P₂₁₂₁₂⋅T₂₁₂₁₂⋅n + P₂₁₂₁₂⋅T₂₁₂₂₁⋅n + P₂₁₂₂₁⋅T₂₁₂₁₂⋅n + P₂₁₂₂₁⋅T₂₁₂₂\n",
       "₁⋅n + P₂₁₂₂₂⋅T₂₁₂₁₂⋅n + P₂₁₂₂₂⋅T₂₁₂₂₁⋅n + P₂₂₁₁₁⋅T₂₂₁₁₂⋅m + P₂₂₁₁₁⋅T₂₂₁₂₁⋅m + \n",
       "P₂₂₁₁₂⋅T₂₂₁₁₂⋅m + P₂₂₁₁₂⋅T₂₂₁₂₁⋅m + P₂₂₁₂₁⋅T₂₂₁₁₂⋅m + P₂₂₁₂₁⋅T₂₂₁₂₁⋅m + P₂₂₁₂₂\n",
       "⋅T₂₂₁₁₂⋅m + P₂₂₁₂₂⋅T₂₂₁₂₁⋅m"
      ]
     },
     "execution_count": 14,
     "metadata": {},
     "output_type": "execute_result"
    }
   ],
   "source": [
    "factor(check[ZE[1]*ZE[3]])"
   ]
  },
  {
   "cell_type": "code",
   "execution_count": 15,
   "metadata": {
    "collapsed": false
   },
   "outputs": [
    {
     "data": {
      "image/png": "[encoded data removed]",
      "text/latex": [
       "$$2 \\left(m + n\\right) \\left(P_{12211} T_{12222} + P_{12212} T_{12222} + P_{12221} T_{12222} + P_{12222} T_{12222} + P_{22211} T_{22222} + P_{22212} T_{22222} + P_{22221} T_{22222} + P_{22222} T_{22222}\\right)$$"
      ],
      "text/plain": [
       "2⋅(m + n)⋅(P₁₂₂₁₁⋅T₁₂₂₂₂ + P₁₂₂₁₂⋅T₁₂₂₂₂ + P₁₂₂₂₁⋅T₁₂₂₂₂ + P₁₂₂₂₂⋅T₁₂₂₂₂ + P₂₂\n",
       "₂₁₁⋅T₂₂₂₂₂ + P₂₂₂₁₂⋅T₂₂₂₂₂ + P₂₂₂₂₁⋅T₂₂₂₂₂ + P₂₂₂₂₂⋅T₂₂₂₂₂)"
      ]
     },
     "execution_count": 15,
     "metadata": {},
     "output_type": "execute_result"
    }
   ],
   "source": [
    "factor(check[ZE[2]*ZE[4]])"
   ]
  },
  {
   "cell_type": "code",
   "execution_count": null,
   "metadata": {
    "collapsed": true
   },
   "outputs": [],
   "source": [
    "simbolo = S_component002(1,1,L0,ZE)\n",
    "check = poly_args(simbolo,dc,dZE,factor)\n"
   ]
  },
  {
   "cell_type": "code",
   "execution_count": null,
   "metadata": {
    "collapsed": false
   },
   "outputs": [],
   "source": [
    "look = check[ZE[3]*ZE[3]]\n",
    "look"
   ]
  },
  {
   "cell_type": "code",
   "execution_count": null,
   "metadata": {
    "collapsed": true
   },
   "outputs": [],
   "source": [
    "simbolo = S_component002(1,2,L0,ZE)\n",
    "check = poly_args(simbolo,dc,dZE,factor)\n"
   ]
  },
  {
   "cell_type": "code",
   "execution_count": null,
   "metadata": {
    "collapsed": false
   },
   "outputs": [],
   "source": [
    "lars = []\n",
    "ew = check\n",
    "for x in ew:\n",
    "    ew[x] = factor(ew[x])\n",
    "    if look in  ew[x].args:\n",
    "        lars.append((x,ew[x]))\n",
    "Matrix(lars)"
   ]
  },
  {
   "cell_type": "code",
   "execution_count": null,
   "metadata": {
    "collapsed": false
   },
   "outputs": [],
   "source": [
    "ZE[2]*ZE[4]"
   ]
  },
  {
   "cell_type": "markdown",
   "metadata": {},
   "source": [
    "## Aqui empieza todo"
   ]
  },
  {
   "cell_type": "code",
   "execution_count": null,
   "metadata": {
    "collapsed": false
   },
   "outputs": [],
   "source": [
    "f = zeros(n)\n",
    "h = zeros(n)\n",
    "\n",
    "\n",
    "for x in range(0,n):\n",
    "    for y in range(0,n):\n",
    "        if x == y: f[x,y]=Function('f')(*ZX)\n",
    "        if x == y:\n",
    "            part = 0\n",
    "            for z in range(1,n+1):\n",
    "                part = part + p[z-1][z-1]*ZE[z]*ZE[z+n]\n",
    "            h[x,y]=part\n",
    "#h[0,0]=(q[0]*ZE[1]*ZE[3]+q[1]*ZE[2]*ZE[4])"
   ]
  },
  {
   "cell_type": "code",
   "execution_count": null,
   "metadata": {
    "collapsed": false
   },
   "outputs": [],
   "source": [
    "f,h"
   ]
  },
  {
   "cell_type": "code",
   "execution_count": null,
   "metadata": {
    "collapsed": true
   },
   "outputs": [],
   "source": [
    "LA = []"
   ]
  },
  {
   "cell_type": "code",
   "execution_count": null,
   "metadata": {
    "collapsed": false,
    "slideshow": {
     "slide_type": "slide"
    }
   },
   "outputs": [],
   "source": [
    "S,EQS = poly_difeomorphism(L0,ZE,dc,dZE,h,simplify)  "
   ]
  },
  {
   "cell_type": "code",
   "execution_count": null,
   "metadata": {
    "collapsed": true
   },
   "outputs": [],
   "source": [
    "#EQS = clean_system01(EQS,n,dZE,dc,factor)\n",
    "EQS = clean_system00(EQS,n) "
   ]
  },
  {
   "cell_type": "code",
   "execution_count": null,
   "metadata": {
    "collapsed": false
   },
   "outputs": [],
   "source": [
    "ew = EQS[2,2]\n",
    "chomp = []\n",
    "for z in range(1,n+1):\n",
    "                chomp.append(ZE[z]*ZE[z+n])\n",
    "chew = EQS[1:1+n,1+n:2*n+1]\n",
    "\n",
    "tai = []\n",
    "for x in range(0,n):\n",
    "    for y in range(0,n):\n",
    "        if x == y:\n",
    "            for z in chomp:\n",
    "                tai.append(factor(chew[x,y][z]))\n",
    "for x in ew:\n",
    "    ew[x] = factor(ew[x])\n",
    "Matrix(list(ew.keys())),Matrix(list(ew.values())),Matrix(tai)"
   ]
  },
  {
   "cell_type": "code",
   "execution_count": null,
   "metadata": {
    "collapsed": true
   },
   "outputs": [],
   "source": [
    "# all_sol = solve_pair(EQS[1,3],EQS[2,4],factor)"
   ]
  },
  {
   "cell_type": "code",
   "execution_count": null,
   "metadata": {
    "collapsed": false
   },
   "outputs": [],
   "source": [
    "all_sol = solve_part(ew,simplify,tai)\n"
   ]
  },
  {
   "cell_type": "code",
   "execution_count": null,
   "metadata": {
    "collapsed": false
   },
   "outputs": [],
   "source": [
    "all_sol"
   ]
  },
  {
   "cell_type": "code",
   "execution_count": null,
   "metadata": {
    "collapsed": false
   },
   "outputs": [],
   "source": [
    "passe = 0\n",
    "L1 = L0[:]\n",
    "LA.append(L1)\n",
    "tabix = 0\n",
    "for x in all_sol:\n",
    "    subs_e = {}\n",
    "    subs_e[x] = all_sol[x]\n",
    "    if tabix == passe:\n",
    "        for x in range(0,len(L0)):\n",
    "            L0[x] = L0[x].subs(subs_e)\n",
    "       \n",
    "       \n",
    "    \n",
    "    tabix = tabix + 1\n"
   ]
  },
  {
   "cell_type": "code",
   "execution_count": null,
   "metadata": {
    "collapsed": false
   },
   "outputs": [],
   "source": [
    "len(LA)"
   ]
  },
  {
   "cell_type": "code",
   "execution_count": null,
   "metadata": {
    "collapsed": false
   },
   "outputs": [],
   "source": [
    "S,EQS = poly_difeomorphism(L0,ZE,dc,dZE,h,expand)\n",
    "EQS = clean_system00(EQS,n)\n",
    "beep(sys.argv[1])"
   ]
  },
  {
   "cell_type": "code",
   "execution_count": null,
   "metadata": {
    "collapsed": true
   },
   "outputs": [],
   "source": [
    "L0 = LA[-1]"
   ]
  },
  {
   "cell_type": "code",
   "execution_count": null,
   "metadata": {
    "collapsed": false
   },
   "outputs": [],
   "source": [
    "f[0,0] = 1/S[1,2]\n",
    "f,h"
   ]
  },
  {
   "cell_type": "code",
   "execution_count": null,
   "metadata": {
    "collapsed": false
   },
   "outputs": [],
   "source": [
    "\n",
    "\n",
    "\n"
   ]
  },
  {
   "cell_type": "code",
   "execution_count": null,
   "metadata": {
    "collapsed": false
   },
   "outputs": [],
   "source": [
    "H1,S1 = difeomorphism_equations005(L0,ZE,expand,f,h,0,2*n+1)"
   ]
  },
  {
   "cell_type": "code",
   "execution_count": null,
   "metadata": {
    "collapsed": false
   },
   "outputs": [],
   "source": [
    "S1"
   ]
  },
  {
   "cell_type": "code",
   "execution_count": null,
   "metadata": {
    "collapsed": false
   },
   "outputs": [],
   "source": [
    "check_me = []\n",
    "difeo_eqs = []\n",
    "LD = []\n",
    "LD.append(L0)\n",
    "D_LD = []\n",
    "D_LD.append(0)\n",
    "\n",
    "for i in range(0,len(LD)):\n",
    "    Z0 = LD[i]\n",
    "    H=[]\n",
    "    S = zeros(n)\n",
    "    H,S = difeomorphism_equations002(Z0,ZE,simplify,f,h,0,2*n+1)\n",
    "    \n",
    "    mixed_test = []\n",
    "    t3 = 0\n",
    "    t1 = t2 = 1\n",
    "    for x in range(0,2*n+1):\n",
    "        for y in range(x,2*n+1):\n",
    "            if x != y:\n",
    "                t1 = simplify(diff(H[x][1],ZE[y]))\n",
    "                t2 = simplify(diff(H[y][1],ZE[x]))\n",
    "                d1 = diff(H[x][0],ZE[y])\n",
    "                d2 = diff(H[y][0],ZE[x])\n",
    "                t3 = t3 + t1 + t2\n",
    "                mixed_test.append((t1,t2))\n",
    "    if t3 != 0:\n",
    "        difeo_eqs.append((S,H,Z0,D_LD[i],f))\n",
    "        check_me.append(mixed_test)"
   ]
  },
  {
   "cell_type": "code",
   "execution_count": null,
   "metadata": {
    "collapsed": false
   },
   "outputs": [],
   "source": [
    "check_me"
   ]
  },
  {
   "cell_type": "code",
   "execution_count": null,
   "metadata": {
    "collapsed": false
   },
   "outputs": [],
   "source": [
    "difeo_eqs[0][1]"
   ]
  },
  {
   "cell_type": "code",
   "execution_count": null,
   "metadata": {
    "collapsed": false
   },
   "outputs": [],
   "source": [
    "CM_LD = contactomorphism_equations(L0,ZE,expand,f)\n",
    "Ja = Matrix(L0).jacobian(ZE)\n",
    "DeJ = Ja.berkowitz_det()\n",
    "for x in range(0,2*n+1):\n",
    "    DeJ = DeJ.subs([(diff(L0[0],ZE[x]),CM_LD[x])])"
   ]
  },
  {
   "cell_type": "code",
   "execution_count": null,
   "metadata": {
    "collapsed": false
   },
   "outputs": [],
   "source": [
    "for x in range(0,2*n+1):\n",
    "    Ja = Ja.subs([(diff(L0[0],ZE[x]),CM_LD[x])])\n",
    "simplify(Ja)"
   ]
  },
  {
   "cell_type": "code",
   "execution_count": null,
   "metadata": {
    "collapsed": false
   },
   "outputs": [],
   "source": [
    "DeJ = simplify(DeJ)"
   ]
  },
  {
   "cell_type": "code",
   "execution_count": null,
   "metadata": {
    "collapsed": false
   },
   "outputs": [],
   "source": [
    "DeJ"
   ]
  },
  {
   "cell_type": "code",
   "execution_count": null,
   "metadata": {
    "collapsed": false
   },
   "outputs": [],
   "source": [
    "CM_LD"
   ]
  },
  {
   "cell_type": "code",
   "execution_count": null,
   "metadata": {
    "collapsed": false
   },
   "outputs": [],
   "source": [
    "Matrix(L0)"
   ]
  },
  {
   "cell_type": "code",
   "execution_count": null,
   "metadata": {
    "collapsed": true
   },
   "outputs": [],
   "source": [
    "all_sol = {}\n",
    "exclude = [ZE[1]*ZE[3],ZE[2]*ZE[4]]\n",
    "for x in range(0,n):\n",
    "    for y in range(0,n):\n",
    "        if x != y:\n",
    "            ambar = list(EQIE[x,y].values())\n",
    "        else:\n",
    "            ambar = []\n",
    "            if x == 0:\n",
    "                for i in EQIE[x,y]:\n",
    "                    if i not in exclude :\n",
    "                        ambar.append(EQIE[x,y][i])\n",
    "        if len(all_sol) > 1:\n",
    "            ambar = []\n",
    "        for z in ambar:\n",
    "                fs = list(z.free_symbols)\n",
    "                for w in fs:\n",
    "                    sol = solve(z,w,dict=True)\n",
    "                    if list(sol[0].keys())[0] not in all_sol.keys():\n",
    "                        all_sol.update(sol[0])\n",
    "                        break"
   ]
  },
  {
   "cell_type": "code",
   "execution_count": null,
   "metadata": {
    "collapsed": false
   },
   "outputs": [],
   "source": [
    "S,EQS = poly_difeomorphism(L0,ZE,dc,dZE,h,factor)"
   ]
  },
  {
   "cell_type": "code",
   "execution_count": null,
   "metadata": {
    "collapsed": true
   },
   "outputs": [],
   "source": [
    "EQS = clean_system00(EQS,n)"
   ]
  },
  {
   "cell_type": "code",
   "execution_count": null,
   "metadata": {
    "collapsed": false
   },
   "outputs": [],
   "source": [
    "EQS"
   ]
  },
  {
   "cell_type": "code",
   "execution_count": null,
   "metadata": {
    "collapsed": false
   },
   "outputs": [],
   "source": [
    "EQS[1:1+n,1+n:2*n+1]"
   ]
  },
  {
   "cell_type": "code",
   "execution_count": null,
   "metadata": {
    "collapsed": false
   },
   "outputs": [],
   "source": [
    "EQS[1:1+n,1:n+1]"
   ]
  },
  {
   "cell_type": "code",
   "execution_count": null,
   "metadata": {
    "collapsed": false
   },
   "outputs": [],
   "source": [
    "EQS[1+n:2*n+1,n+1:2*n+1]"
   ]
  },
  {
   "cell_type": "code",
   "execution_count": null,
   "metadata": {
    "collapsed": true
   },
   "outputs": [],
   "source": [
    "for x in range(0,2*n+1):\n",
    "    for y in range(0,2*n+1):\n",
    "        S[x,y] = (S[x,y])"
   ]
  },
  {
   "cell_type": "code",
   "execution_count": null,
   "metadata": {
    "collapsed": true
   },
   "outputs": [],
   "source": []
  }
 ],
 "metadata": {
  "kernelspec": {
   "display_name": "Python 3",
   "language": "python",
   "name": "python3"
  },
  "language_info": {
   "codemirror_mode": {
    "name": "ipython",
    "version": 3
   },
   "file_extension": ".py",
   "mimetype": "text/x-python",
   "name": "python",
   "nbconvert_exporter": "python",
   "pygments_lexer": "ipython3",
   "version": "3.5.1"
  }
 },
 "nbformat": 4,
 "nbformat_minor": 0
}
