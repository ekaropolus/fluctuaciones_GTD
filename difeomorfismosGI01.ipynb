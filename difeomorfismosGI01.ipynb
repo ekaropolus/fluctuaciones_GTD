{
 "cells": [
  {
   "cell_type": "code",
   "execution_count": 4,
   "metadata": {
    "collapsed": false,
    "scrolled": true
   },
   "outputs": [],
   "source": [
    "from difeomorfismos_solvers import *\n",
    "from difeomorfismo import *\n",
    "init_printing()"
   ]
  },
  {
   "cell_type": "markdown",
   "metadata": {},
   "source": [
    "<H3>Difeomorsimos Cuadratico + lineal </H3>\n",
    "<H3>$X^{c} = M_{dd}^{c}E^{d}E^{d}$<H3>\n",
    "<H3>$Y_{c} = N_{cee}I^{e}I^{e}$</H3>\n",
    "\n"
   ]
  },
  {
   "cell_type": "markdown",
   "metadata": {},
   "source": [
    "# <H3>Defino la dimension que utilizare</H3>"
   ]
  },
  {
   "cell_type": "code",
   "execution_count": 5,
   "metadata": {
    "collapsed": false
   },
   "outputs": [],
   "source": [
    "n=2\n"
   ]
  },
  {
   "cell_type": "markdown",
   "metadata": {},
   "source": [
    "<H3>Estos son las dos coordenadas del difeomorfismo</H3>"
   ]
  },
  {
   "cell_type": "code",
   "execution_count": 6,
   "metadata": {
    "collapsed": false
   },
   "outputs": [
    {
     "data": {
      "image/png": "[encoded data removed]",
      "text/latex": [
       "$$\\left ( \\left [ \\Phi, \\quad E_{1}, \\quad E_{2}, \\quad I_{1}, \\quad I_{2}\\right ], \\quad \\left [ F, \\quad X_{1}, \\quad X_{2}, \\quad Y_{1}, \\quad Y_{2}\\right ]\\right )$$"
      ],
      "text/plain": [
       "([\\Phi, E₁, E₂, I₁, I₂], [F, X₁, X₂, Y₁, Y₂])"
      ]
     },
     "execution_count": 6,
     "metadata": {},
     "output_type": "execute_result"
    }
   ],
   "source": [
    "ZE, ZX = set_coordinates(n)\n",
    "ZE, ZX"
   ]
  },
  {
   "cell_type": "markdown",
   "metadata": {},
   "source": [
    "<H3>Estas son las constates para las ecuaciones del difeomorfismo Cuadratico + lineal</H3>"
   ]
  },
  {
   "cell_type": "code",
   "execution_count": 7,
   "metadata": {
    "collapsed": false
   },
   "outputs": [],
   "source": [
    "import operator\n",
    "A,c1=set_constants_a(5,'A','s')\n",
    "B,c2=set_constants_a(5,'B','s')\n",
    "C,c3=set_constants_a(4,'C','s')\n",
    "D,c4=set_constants_a(4,'D','s')\n",
    "G,c4=set_constants_a(5,'G','s')\n",
    "J,c4=set_constants_a(5,'J','s')\n",
    "K,c4=set_constants_a(5,'K','s')\n",
    "L,c4=set_constants_a(5,'L','s')"
   ]
  },
  {
   "cell_type": "code",
   "execution_count": 8,
   "metadata": {
    "collapsed": true
   },
   "outputs": [],
   "source": [
    "p,c5=set_constants_axb(n,n,'p','s')"
   ]
  },
  {
   "cell_type": "code",
   "execution_count": 9,
   "metadata": {
    "collapsed": false
   },
   "outputs": [
    {
     "data": {
      "image/png": "[encoded data removed]",
      "text/latex": [
       "$$\\left [ A_{1}, \\quad A_{2}, \\quad A_{3}, \\quad A_{4}, \\quad A_{5}, \\quad B_{1}, \\quad B_{2}, \\quad B_{3}, \\quad B_{4}, \\quad B_{5}, \\quad C_{1}, \\quad C_{2}, \\quad C_{3}, \\quad C_{4}, \\quad L_{1}, \\quad L_{2}, \\quad L_{3}, \\quad L_{4}, \\quad L_{5}\\right ]$$"
      ],
      "text/plain": [
       "[A₁, A₂, A₃, A₄, A₅, B₁, B₂, B₃, B₄, B₅, C₁, C₂, C₃, C₄, L₁, L₂, L₃, L₄, L₅]"
      ]
     },
     "execution_count": 9,
     "metadata": {},
     "output_type": "execute_result"
    }
   ],
   "source": [
    "c = c1 + c2 + c3 + c4 \n",
    "c = list(filter(lambda a: a != 0, c))\n",
    "c"
   ]
  },
  {
   "cell_type": "code",
   "execution_count": 10,
   "metadata": {
    "collapsed": false
   },
   "outputs": [
    {
     "data": {
      "image/png": "[encoded data removed]",
      "text/latex": [
       "$$\\left \\{ A_{1} : 1, \\quad A_{2} : 1, \\quad A_{3} : 1, \\quad A_{4} : 1, \\quad A_{5} : 1, \\quad B_{1} : 1, \\quad B_{2} : 1, \\quad B_{3} : 1, \\quad B_{4} : 1, \\quad B_{5} : 1, \\quad C_{1} : 1, \\quad C_{2} : 1, \\quad C_{3} : 1, \\quad C_{4} : 1, \\quad L_{1} : 1, \\quad L_{2} : 1, \\quad L_{3} : 1, \\quad L_{4} : 1, \\quad L_{5} : 1\\right \\}$$"
      ],
      "text/plain": [
       "{A₁: 1, A₂: 1, A₃: 1, A₄: 1, A₅: 1, B₁: 1, B₂: 1, B₃: 1, B₄: 1, B₅: 1, C₁: 1, \n",
       "C₂: 1, C₃: 1, C₄: 1, L₁: 1, L₂: 1, L₃: 1, L₄: 1, L₅: 1}"
      ]
     },
     "execution_count": 10,
     "metadata": {},
     "output_type": "execute_result"
    }
   ],
   "source": [
    "dc = {}\n",
    "for x in c:\n",
    "    dc[x]=1\n",
    "dc"
   ]
  },
  {
   "cell_type": "code",
   "execution_count": 11,
   "metadata": {
    "collapsed": false
   },
   "outputs": [
    {
     "data": {
      "image/png": "[encoded data removed]",
      "text/latex": [
       "$$\\left \\{ E_{1} : 1, \\quad E_{2} : 1, \\quad I_{1} : 1, \\quad I_{2} : 1, \\quad \\Phi : 1\\right \\}$$"
      ],
      "text/plain": [
       "{E₁: 1, E₂: 1, I₁: 1, I₂: 1, \\Phi: 1}"
      ]
     },
     "execution_count": 11,
     "metadata": {},
     "output_type": "execute_result"
    }
   ],
   "source": [
    "dZE = {}\n",
    "for x in ZE:\n",
    "    dZE[x]=1\n",
    "dZE"
   ]
  },
  {
   "cell_type": "code",
   "execution_count": 12,
   "metadata": {
    "collapsed": false
   },
   "outputs": [],
   "source": [
    "# L0 = [0]*(2*n+1)\n",
    "# L0[0] = Function('F')(*ZE)\n",
    "# L0[1]= A[0]*X11 + A[1]*X12 + A[2]*X13 + A[3]*X14 #+ A[4]*X15\n",
    "# L0[2]= B[0]*X11 + B[1]*X12 + B[2]*X13 + B[3]*X14 #+ B[4]*X15\n",
    "# L0[3]= C[0]*Y11 + C[1]*Y12 + C[2]*Y13 + C[3]*Y14 \n",
    "# L0[4]= D[0]*Y11 + D[1]*Y12 + D[2]*Y13 + D[3]*Y14\n",
    "  \n",
    "\n",
    "\n",
    "# Matrix(L0)"
   ]
  },
  {
   "cell_type": "code",
   "execution_count": 31,
   "metadata": {
    "collapsed": false
   },
   "outputs": [
    {
     "data": {
      "text/latex": [
       "$$\\left[\\begin{matrix}F{\\left (\\Phi,E_{1},E_{2},I_{1},I_{2} \\right )}\\\\E_{1}^{2} \\left(A_{1} + A_{2}\\right) + E_{1} E_{2} \\left(A_{1} + A_{3}\\right) + E_{2}^{2} \\left(A_{1} + A_{4}\\right)\\\\E_{1}^{2} \\left(B_{1} + B_{2}\\right) + E_{1} E_{2} \\left(B_{1} + B_{3}\\right) + E_{2}^{2} \\left(B_{1} + B_{4}\\right)\\\\I_{1}^{2} \\left(C_{1} + C_{2}\\right) + I_{1} I_{2} \\left(C_{1} + C_{3}\\right) + I_{2}^{2} \\left(C_{1} + C_{4}\\right)\\\\I_{1}^{2} \\left(D_{1} + D_{2}\\right) + I_{1} I_{2} \\left(D_{1} + D_{3}\\right) + I_{2}^{2} \\left(D_{1} + D_{4}\\right)\\end{matrix}\\right]$$"
      ],
      "text/plain": [
       "⎡            F(\\Phi, E₁, E₂, I₁, I₂)            ⎤\n",
       "⎢                                               ⎥\n",
       "⎢  2                                 2          ⎥\n",
       "⎢E₁ ⋅(A₁ + A₂) + E₁⋅E₂⋅(A₁ + A₃) + E₂ ⋅(A₁ + A₄)⎥\n",
       "⎢                                               ⎥\n",
       "⎢  2                                 2          ⎥\n",
       "⎢E₁ ⋅(B₁ + B₂) + E₁⋅E₂⋅(B₁ + B₃) + E₂ ⋅(B₁ + B₄)⎥\n",
       "⎢                                               ⎥\n",
       "⎢  2                                 2          ⎥\n",
       "⎢I₁ ⋅(C₁ + C₂) + I₁⋅I₂⋅(C₁ + C₃) + I₂ ⋅(C₁ + C₄)⎥\n",
       "⎢                                               ⎥\n",
       "⎢  2                                 2          ⎥\n",
       "⎣I₁ ⋅(D₁ + D₂) + I₁⋅I₂⋅(D₁ + D₃) + I₂ ⋅(D₁ + D₄)⎦"
      ]
     },
     "execution_count": 31,
     "metadata": {},
     "output_type": "execute_result"
    }
   ],
   "source": [
    "X11 = pow(ZE[1],2)\n",
    "X12 = ZE[1]*ZE[2]\n",
    "X13 = pow(ZE[2],2)\n",
    "\n",
    "Y11 = pow(ZE[3],2)\n",
    "Y12 = ZE[3]*ZE[4]\n",
    "Y13 = pow(ZE[4],2)\n",
    "\n",
    "\n",
    "\n",
    "L0 = [0]*(2*n+1)\n",
    "L0[0] = Function('F')(*ZE)\n",
    "L0[1]= (A[0]+A[1])*X11 + (A[0]+A[2])*X12 + (A[0]+A[3])*X13 \n",
    "L0[2]= (B[0]+B[1])*X11 + (B[0]+B[2])*X12 + (B[0]+B[3])*X13\n",
    "L0[3]= (C[0]+C[1])*Y11 + (C[0]+C[2])*Y12 + (C[0]+C[3])*Y13 \n",
    "L0[4]= (D[0]+D[1])*Y11 + (D[0]+D[2])*Y12 + (D[0]+D[3])*Y13\n",
    "  \n",
    "\n",
    "\n",
    "Matrix(L0)"
   ]
  },
  {
   "cell_type": "code",
   "execution_count": 32,
   "metadata": {
    "collapsed": true
   },
   "outputs": [],
   "source": [
    "# A[3] = 2*A[0] \n",
    "# C[1] = 2*C[0] \n",
    "# A[1] = 2*A[2] \n",
    "# C[3] = 2*C[2]\n",
    "\n",
    "\n",
    "# B[3] = 2*B[0]\n",
    "# D[1] = -2*D[0] \n",
    "# B[1] = 2*B[2]\n",
    "# D[3] = -2*D[2] \n",
    "\n",
    "# L0 = [0]*(2*n+1)\n",
    "# L0[0] = Function('F')(*ZE)\n",
    "# L0[1]=A[0]*ZE[1]*ZE[1]+A[1]*ZE[1]*ZE[4]+A[2]*ZE[2]*ZE[2]+A[3]*ZE[2]*ZE[3]\n",
    "# L0[2]=B[0]*ZE[1]*ZE[1]+B[1]*ZE[1]*ZE[4]+B[2]*ZE[2]*ZE[2]+B[3]*ZE[2]*ZE[3]\n",
    "# L0[3]=C[0]*ZE[3]*ZE[3]+C[1]*ZE[1]*ZE[4]+C[2]*ZE[4]*ZE[4]+C[3]*ZE[2]*ZE[3]\n",
    "# L0[4]=D[0]*ZE[3]*ZE[3]+D[1]*ZE[1]*ZE[4]+D[2]*ZE[4]*ZE[4]+D[3]*ZE[2]*ZE[3]\n",
    "# Matrix(L0)"
   ]
  },
  {
   "cell_type": "code",
   "execution_count": 33,
   "metadata": {
    "collapsed": true
   },
   "outputs": [],
   "source": [
    "# A[1] = A[0]/4 \n",
    "# C[1] = C[0]\n",
    "# B[1] = -B[0]/4\n",
    "# D[1] = D[0]\n",
    "# A[2] = A[0]/4 \n",
    "# C[2] = C[0]\n",
    "# D[2] = D[0]\n",
    "# B[2] = -B[0]/4"
   ]
  },
  {
   "cell_type": "code",
   "execution_count": 34,
   "metadata": {
    "collapsed": true
   },
   "outputs": [],
   "source": [
    "# A[0] = (-B[0]*D[1]/C[1]) \n",
    "# B[1] = (-C[0]*A[1]/D[0])\n",
    "# B[2] = (-C[0]*A[2]/D[0])\n",
    "# D[2] = (D[1]*C[2]/C[1])"
   ]
  },
  {
   "cell_type": "code",
   "execution_count": 35,
   "metadata": {
    "collapsed": false
   },
   "outputs": [],
   "source": [
    "\n",
    "\n",
    "# L0 = [0]*(2*n+1)\n",
    "# L0[0] = Function('F')(*ZE)\n",
    "# L0[1]=B[0]*ZE[1]*ZE[2]+A[1]*ZE[1]*ZE[1]+A[2]*ZE[2]*ZE[2]\n",
    "# L0[2]=B[0]*ZE[1]*ZE[2]+B[1]*ZE[1]*ZE[1]+B[2]*ZE[2]*ZE[2]\n",
    "# L0[3]=C[0]*ZE[3]*ZE[4]+C[1]*ZE[3]*ZE[3]+C[2]*ZE[4]*ZE[4]\n",
    "# L0[4]=D[0]*ZE[3]*ZE[4]+D[1]*ZE[3]*ZE[3]+D[2]*ZE[4]*ZE[4]\n",
    "# L0"
   ]
  },
  {
   "cell_type": "code",
   "execution_count": 36,
   "metadata": {
    "collapsed": true
   },
   "outputs": [],
   "source": [
    "f = zeros(n)\n",
    "h = zeros(n)\n",
    "\n",
    "\n",
    "for x in range(0,n):\n",
    "    for y in range(0,n):\n",
    "        if x == y: f[x,y]=1/Function('f')(*ZX)\n",
    "        if x == y:\n",
    "            part = 0\n",
    "            for z in range(1,n+1):\n",
    "                part = part + p[z-1][z-1]*ZE[z]*ZE[z+n]\n",
    "            h[x,y]=part"
   ]
  },
  {
   "cell_type": "code",
   "execution_count": 37,
   "metadata": {
    "collapsed": false
   },
   "outputs": [
    {
     "data": {
      "text/latex": [
       "$$\\left ( \\left[\\begin{matrix}\\frac{1}{f{\\left (F,X_{1},X_{2},Y_{1},Y_{2} \\right )}} & 0\\\\0 & \\frac{1}{f{\\left (F,X_{1},X_{2},Y_{1},Y_{2} \\right )}}\\end{matrix}\\right], \\quad \\left[\\begin{matrix}E_{1} I_{1} p_{11} + E_{2} I_{2} p_{22} & 0\\\\0 & E_{1} I_{1} p_{11} + E_{2} I_{2} p_{22}\\end{matrix}\\right]\\right )$$"
      ],
      "text/plain": [
       "⎛⎡         1                                ⎤                                 \n",
       "⎜⎢────────────────────           0          ⎥, ⎡E₁⋅I₁⋅p₁₁ + E₂⋅I₂⋅p₂₂         \n",
       "⎜⎢f(F, X₁, X₂, Y₁, Y₂)                      ⎥  ⎢                              \n",
       "⎜⎢                                          ⎥  ⎣          0            E₁⋅I₁⋅p\n",
       "⎜⎢                               1          ⎥                                 \n",
       "⎜⎢         0            ────────────────────⎥                                 \n",
       "⎝⎣                      f(F, X₁, X₂, Y₁, Y₂)⎦                                 \n",
       "\n",
       "               ⎞\n",
       "   0          ⎤⎟\n",
       "              ⎥⎟\n",
       "₁₁ + E₂⋅I₂⋅p₂₂⎦⎟\n",
       "               ⎟\n",
       "               ⎟\n",
       "               ⎠"
      ]
     },
     "execution_count": 37,
     "metadata": {},
     "output_type": "execute_result"
    }
   ],
   "source": [
    "LA = []\n",
    "f,h\n"
   ]
  },
  {
   "cell_type": "code",
   "execution_count": 38,
   "metadata": {
    "collapsed": true
   },
   "outputs": [],
   "source": [
    "S,EQS = poly_difeomorphism(L0,ZE,dc,dZE,h,simplify)\n",
    "EQS = clean_system00(EQS,n)"
   ]
  },
  {
   "cell_type": "code",
   "execution_count": 44,
   "metadata": {
    "collapsed": false
   },
   "outputs": [
    {
     "data": {
      "text/latex": [
       "$$\\left ( \\left[\\begin{matrix}E_{1} I_{1}\\\\E_{2} I_{1}\\\\E_{1} I_{2}\\\\E_{2} I_{2}\\end{matrix}\\right], \\quad \\left[\\begin{matrix}2 A_{1} C_{1} + 2 A_{1} C_{3} + 2 A_{3} C_{1} + 2 A_{3} C_{3} + 2 B_{1} D_{1} + 2 B_{1} D_{3} + 2 B_{3} D_{1} + 2 B_{3} D_{3} - p_{11}\\\\A_{1} C_{1} + A_{1} C_{3} + A_{4} C_{1} + A_{4} C_{3} + B_{1} D_{1} + B_{1} D_{3} + B_{4} D_{1} + B_{4} D_{3}\\\\A_{1} C_{1} + A_{1} C_{4} + A_{3} C_{1} + A_{3} C_{4} + B_{1} D_{1} + B_{1} D_{4} + B_{3} D_{1} + B_{3} D_{4}\\\\8 A_{1} C_{1} + 8 A_{1} C_{4} + 8 A_{4} C_{1} + 8 A_{4} C_{4} + 8 B_{1} D_{1} + 8 B_{1} D_{4} + 8 B_{4} D_{1} + 8 B_{4} D_{4} - p_{22}\\end{matrix}\\right]\\right )$$"
      ],
      "text/plain": [
       "⎛⎡E₁⋅I₁⎤, ⎡2⋅A₁⋅C₁ + 2⋅A₁⋅C₃ + 2⋅A₃⋅C₁ + 2⋅A₃⋅C₃ + 2⋅B₁⋅D₁ + 2⋅B₁⋅D₃ + 2⋅B₃⋅D₁\n",
       "⎜⎢     ⎥  ⎢                                                                   \n",
       "⎜⎢E₂⋅I₁⎥  ⎢           A₁⋅C₁ + A₁⋅C₃ + A₄⋅C₁ + A₄⋅C₃ + B₁⋅D₁ + B₁⋅D₃ + B₄⋅D₁ + \n",
       "⎜⎢     ⎥  ⎢                                                                   \n",
       "⎜⎢E₁⋅I₂⎥  ⎢           A₁⋅C₁ + A₁⋅C₄ + A₃⋅C₁ + A₃⋅C₄ + B₁⋅D₁ + B₁⋅D₄ + B₃⋅D₁ + \n",
       "⎜⎢     ⎥  ⎢                                                                   \n",
       "⎝⎣E₂⋅I₂⎦  ⎣8⋅A₁⋅C₁ + 8⋅A₁⋅C₄ + 8⋅A₄⋅C₁ + 8⋅A₄⋅C₄ + 8⋅B₁⋅D₁ + 8⋅B₁⋅D₄ + 8⋅B₄⋅D₁\n",
       "\n",
       " + 2⋅B₃⋅D₃ - p₁₁⎤⎞\n",
       "                ⎥⎟\n",
       "B₄⋅D₃           ⎥⎟\n",
       "                ⎥⎟\n",
       "B₃⋅D₄           ⎥⎟\n",
       "                ⎥⎟\n",
       " + 8⋅B₄⋅D₄ - p₂₂⎦⎠"
      ]
     },
     "execution_count": 44,
     "metadata": {},
     "output_type": "execute_result"
    }
   ],
   "source": [
    "ew = EQS[2,4]\n",
    "chomp = []\n",
    "for z in range(1,n+1):\n",
    "                chomp.append(ZE[z]*ZE[z+n])\n",
    "chew = EQS[1:1+n,1+n:2*n+1]\n",
    "\n",
    "ambar = []\n",
    "for x in list(ew.values()):\n",
    "    ambar.append(simplify(x))\n",
    "\n",
    "\n",
    "Matrix(list(ew.keys())),Matrix(ambar)\n"
   ]
  },
  {
   "cell_type": "code",
   "execution_count": null,
   "metadata": {
    "collapsed": false
   },
   "outputs": [],
   "source": [
    "# all_sol = solve_pair(EQS[1,3],EQS[2,4],factor)"
   ]
  },
  {
   "cell_type": "code",
   "execution_count": null,
   "metadata": {
    "collapsed": false
   },
   "outputs": [],
   "source": [
    "# all_sol"
   ]
  },
  {
   "cell_type": "code",
   "execution_count": null,
   "metadata": {
    "collapsed": true
   },
   "outputs": [],
   "source": [
    "def solve_part00(equation,sim,exclude):\n",
    "    ex = []\n",
    "    for x in exclude:\n",
    "        sx = list(x.free_symbols)\n",
    "        for y in sx:\n",
    "            if y not in ex:\n",
    "                ex.append(y)\n",
    "    all_sol = {}\n",
    "    ambar = list(equation.values())\n",
    "    for z in ambar:\n",
    "                fs = list(z.free_symbols)\n",
    "                for x in ex:\n",
    "                    if x in fs: fs.remove(x)\n",
    "                for w in fs:\n",
    "                    sol = solve(z,w,dict=True)\n",
    "                    if len(sol) == 0:\n",
    "                        break\n",
    "                    #print ((z,sol))\n",
    "                    if list(sol[0].keys())[0] not in all_sol.keys():\n",
    "                        #if list(sol[0].values())[0] != 0:\n",
    "                        all_sol.update(sol[0])\n",
    "                        break\n",
    "    soli = {}\n",
    "    tabix = 0\n",
    "    for x in all_sol:\n",
    "        soli[x] = sim(all_sol[x]) \n",
    "        tabix = tabix + 1\n",
    "        #if tabix >= 1:\n",
    "        #    break\n",
    "    return soli"
   ]
  },
  {
   "cell_type": "code",
   "execution_count": null,
   "metadata": {
    "collapsed": false
   },
   "outputs": [],
   "source": [
    "all_sol = solve_part00(ew,simplify,[])\n",
    "all_sol"
   ]
  },
  {
   "cell_type": "code",
   "execution_count": null,
   "metadata": {
    "collapsed": false
   },
   "outputs": [],
   "source": [
    "# all_sol = {}\n",
    "# all_sol[A[1]] = (-4/9)*A[3]*D[1]/D[3]\n",
    "# all_sol"
   ]
  },
  {
   "cell_type": "code",
   "execution_count": null,
   "metadata": {
    "collapsed": false
   },
   "outputs": [],
   "source": [
    "passe = 0\n",
    "L1 = L0[:]\n",
    "LA.append(L1)\n",
    "tabix = 0\n",
    "for x in all_sol:\n",
    "    subs_e = {}\n",
    "    subs_e[x] = all_sol[x]\n",
    "    if tabix == passe:\n",
    "        for x in range(0,len(L0)):\n",
    "            L0[x] = L0[x].subs(subs_e)\n",
    "    tabix = tabix + 1"
   ]
  },
  {
   "cell_type": "code",
   "execution_count": null,
   "metadata": {
    "collapsed": true
   },
   "outputs": [],
   "source": [
    "S,EQS = poly_difeomorphism(L0,ZE,dc,dZE,h,simplify)\n",
    "EQS = clean_system00(EQS,n)"
   ]
  },
  {
   "cell_type": "code",
   "execution_count": null,
   "metadata": {
    "collapsed": false
   },
   "outputs": [],
   "source": [
    "chomp = []\n",
    "for z in range(1,n+1):\n",
    "                chomp.append(ZE[z]*ZE[z+n])\n",
    "chew = EQS[1:1+n,1+n:2*n+1]\n",
    "\n",
    "tai = []\n",
    "for x in range(0,n):\n",
    "    for y in range(0,n):\n",
    "        if x == y:\n",
    "            for z in chomp:\n",
    "                tai.append(simplify(chew[x,y][z]))\n",
    "Matrix(tai)"
   ]
  },
  {
   "cell_type": "code",
   "execution_count": null,
   "metadata": {
    "collapsed": true
   },
   "outputs": [],
   "source": [
    "L0 = LA[-1][:]"
   ]
  },
  {
   "cell_type": "code",
   "execution_count": null,
   "metadata": {
    "collapsed": false
   },
   "outputs": [],
   "source": [
    "len(LA)"
   ]
  },
  {
   "cell_type": "code",
   "execution_count": null,
   "metadata": {
    "collapsed": false
   },
   "outputs": [],
   "source": [
    "S[1,3]"
   ]
  },
  {
   "cell_type": "code",
   "execution_count": null,
   "metadata": {
    "collapsed": false
   },
   "outputs": [],
   "source": [
    "S[2,4]"
   ]
  },
  {
   "cell_type": "code",
   "execution_count": null,
   "metadata": {
    "collapsed": false
   },
   "outputs": [],
   "source": [
    "Matrix(L0)"
   ]
  },
  {
   "cell_type": "code",
   "execution_count": null,
   "metadata": {
    "collapsed": false
   },
   "outputs": [],
   "source": [
    "EQS"
   ]
  },
  {
   "cell_type": "code",
   "execution_count": 16,
   "metadata": {
    "collapsed": false
   },
   "outputs": [],
   "source": [
    "CM_LD = contactomorphism_equations(L0,ZE,expand,f)\n",
    "Ja = Matrix(L0).jacobian(ZE)\n",
    "DeJ = Ja.berkowitz_det()\n",
    "for x in range(0,2*n+1):\n",
    "    DeJ = DeJ.subs([(diff(L0[0],ZE[x]),CM_LD[x])])\n",
    "for x in range(0,2*n+1):\n",
    "    Ja = Ja.subs([(diff(L0[0],ZE[x]),CM_LD[x])])"
   ]
  },
  {
   "cell_type": "code",
   "execution_count": null,
   "metadata": {
    "collapsed": false
   },
   "outputs": [],
   "source": [
    "Matrix(L0)"
   ]
  },
  {
   "cell_type": "code",
   "execution_count": 17,
   "metadata": {
    "collapsed": false
   },
   "outputs": [
    {
     "data": {
      "image/png": "[encoded data removed]",
      "text/latex": [
       "$$\\left(2 I_{1} \\left(C_{1} + C_{2}\\right) + I_{2} \\left(C_{1} + C_{3}\\right)\\right)^{3} \\left(I_{1} \\left(C_{1} + C_{3}\\right) + 2 I_{2} \\left(C_{1} + C_{4}\\right)\\right) \\left(2 I_{1} \\left(D_{1} + D_{2}\\right) + I_{2} \\left(D_{1} + D_{3}\\right)\\right) - \\left(2 I_{1} \\left(C_{1} + C_{2}\\right) + I_{2} \\left(C_{1} + C_{3}\\right)\\right)^{2} \\left(I_{1} \\left(C_{1} + C_{3}\\right) + 2 I_{2} \\left(C_{1} + C_{4}\\right)\\right) \\left(2 I_{1} \\left(D_{1} + D_{2}\\right) + I_{2} \\left(D_{1} + D_{3}\\right)\\right) \\left(2 E_{1} \\left(A_{1} + A_{2}\\right) + E_{1} \\left(B_{1} + B_{3}\\right) + E_{2} \\left(A_{1} + A_{3}\\right) + 2 E_{2} \\left(B_{1} + B_{4}\\right) + 2 I_{1} \\left(C_{1} + C_{2}\\right) + I_{2} \\left(C_{1} + C_{3}\\right) + f{\\left (F,X_{1},X_{2},Y_{1},Y_{2} \\right )}\\right) + \\left(2 I_{1} \\left(C_{1} + C_{2}\\right) + I_{2} \\left(C_{1} + C_{3}\\right)\\right) \\left(I_{1} \\left(C_{1} + C_{3}\\right) + 2 I_{2} \\left(C_{1} + C_{4}\\right)\\right) \\left(2 I_{1} \\left(D_{1} + D_{2}\\right) + I_{2} \\left(D_{1} + D_{3}\\right)\\right) \\left(\\left(2 E_{1} \\left(A_{1} + A_{2}\\right) + E_{2} \\left(A_{1} + A_{3}\\right)\\right) f{\\left (F,X_{1},X_{2},Y_{1},Y_{2} \\right )} - \\left(E_{1} \\left(A_{1} + A_{3}\\right) + 2 E_{2} \\left(A_{1} + A_{4}\\right)\\right) \\left(2 E_{1} \\left(B_{1} + B_{2}\\right) + E_{2} \\left(B_{1} + B_{3}\\right)\\right) + \\left(E_{1} \\left(B_{1} + B_{3}\\right) + 2 E_{2} \\left(B_{1} + B_{4}\\right)\\right) \\left(2 E_{1} \\left(A_{1} + A_{2}\\right) + E_{2} \\left(A_{1} + A_{3}\\right) + f{\\left (F,X_{1},X_{2},Y_{1},Y_{2} \\right )}\\right) + \\left(2 I_{1} \\left(C_{1} + C_{2}\\right) + I_{2} \\left(C_{1} + C_{3}\\right)\\right) \\left(2 E_{1} \\left(A_{1} + A_{2}\\right) + E_{1} \\left(B_{1} + B_{3}\\right) + E_{2} \\left(A_{1} + A_{3}\\right) + 2 E_{2} \\left(B_{1} + B_{4}\\right) + f{\\left (F,X_{1},X_{2},Y_{1},Y_{2} \\right )}\\right)\\right) + \\left(2 I_{1} \\left(C_{1} + C_{2}\\right) + I_{2} \\left(C_{1} + C_{3}\\right)\\right) \\left(I_{1} \\left(D_{1} + D_{3}\\right) + 2 I_{2} \\left(D_{1} + D_{4}\\right)\\right) \\left(\\left(2 E_{1} \\left(A_{1} + A_{2}\\right) + E_{2} \\left(A_{1} + A_{3}\\right)\\right) \\left(E_{1} \\left(A_{1} + A_{3}\\right) + 2 E_{2} \\left(A_{1} + A_{4}\\right)\\right) \\left(2 E_{1} \\left(B_{1} + B_{2}\\right) + E_{2} \\left(B_{1} + B_{3}\\right)\\right) + \\left(2 E_{1} \\left(A_{1} + A_{2}\\right) + E_{2} \\left(A_{1} + A_{3}\\right)\\right) \\left(E_{1} \\left(B_{1} + B_{3}\\right) + 2 E_{2} \\left(B_{1} + B_{4}\\right)\\right) f{\\left (F,X_{1},X_{2},Y_{1},Y_{2} \\right )} - \\left(E_{1} \\left(A_{1} + A_{3}\\right) + 2 E_{2} \\left(A_{1} + A_{4}\\right)\\right) \\left(2 E_{1} \\left(B_{1} + B_{2}\\right) + E_{2} \\left(B_{1} + B_{3}\\right)\\right) \\left(2 E_{1} \\left(A_{1} + A_{2}\\right) + E_{2} \\left(A_{1} + A_{3}\\right) + f{\\left (F,X_{1},X_{2},Y_{1},Y_{2} \\right )}\\right)\\right) - \\left(I_{1} \\left(C_{1} + C_{3}\\right) + 2 I_{2} \\left(C_{1} + C_{4}\\right)\\right) \\left(2 I_{1} \\left(D_{1} + D_{2}\\right) + I_{2} \\left(D_{1} + D_{3}\\right)\\right) \\left(\\left(2 E_{1} \\left(A_{1} + A_{2}\\right) + E_{2} \\left(A_{1} + A_{3}\\right)\\right) \\left(E_{1} \\left(A_{1} + A_{3}\\right) + 2 E_{2} \\left(A_{1} + A_{4}\\right)\\right) \\left(2 E_{1} \\left(B_{1} + B_{2}\\right) + E_{2} \\left(B_{1} + B_{3}\\right)\\right) + \\left(2 E_{1} \\left(A_{1} + A_{2}\\right) + E_{2} \\left(A_{1} + A_{3}\\right)\\right) \\left(E_{1} \\left(B_{1} + B_{3}\\right) + 2 E_{2} \\left(B_{1} + B_{4}\\right)\\right) f{\\left (F,X_{1},X_{2},Y_{1},Y_{2} \\right )} - \\left(E_{1} \\left(A_{1} + A_{3}\\right) + 2 E_{2} \\left(A_{1} + A_{4}\\right)\\right) \\left(2 E_{1} \\left(B_{1} + B_{2}\\right) + E_{2} \\left(B_{1} + B_{3}\\right)\\right) \\left(2 E_{1} \\left(A_{1} + A_{2}\\right) + E_{2} \\left(A_{1} + A_{3}\\right) + f{\\left (F,X_{1},X_{2},Y_{1},Y_{2} \\right )}\\right) + \\left(2 I_{1} \\left(C_{1} + C_{2}\\right) + I_{2} \\left(C_{1} + C_{3}\\right)\\right) \\left(\\left(2 E_{1} \\left(A_{1} + A_{2}\\right) + E_{2} \\left(A_{1} + A_{3}\\right)\\right) f{\\left (F,X_{1},X_{2},Y_{1},Y_{2} \\right )} - \\left(E_{1} \\left(A_{1} + A_{3}\\right) + 2 E_{2} \\left(A_{1} + A_{4}\\right)\\right) \\left(2 E_{1} \\left(B_{1} + B_{2}\\right) + E_{2} \\left(B_{1} + B_{3}\\right)\\right) + \\left(E_{1} \\left(B_{1} + B_{3}\\right) + 2 E_{2} \\left(B_{1} + B_{4}\\right)\\right) \\left(2 E_{1} \\left(A_{1} + A_{2}\\right) + E_{2} \\left(A_{1} + A_{3}\\right) + f{\\left (F,X_{1},X_{2},Y_{1},Y_{2} \\right )}\\right)\\right)\\right)$$"
      ],
      "text/plain": [
       "                               3                                              \n",
       "(2⋅I₁⋅(C₁ + C₂) + I₂⋅(C₁ + C₃)) ⋅(I₁⋅(C₁ + C₃) + 2⋅I₂⋅(C₁ + C₄))⋅(2⋅I₁⋅(D₁ + D\n",
       "\n",
       "                                                    2                         \n",
       "₂) + I₂⋅(D₁ + D₃)) - (2⋅I₁⋅(C₁ + C₂) + I₂⋅(C₁ + C₃)) ⋅(I₁⋅(C₁ + C₃) + 2⋅I₂⋅(C₁\n",
       "\n",
       "                                                                              \n",
       " + C₄))⋅(2⋅I₁⋅(D₁ + D₂) + I₂⋅(D₁ + D₃))⋅(2⋅E₁⋅(A₁ + A₂) + E₁⋅(B₁ + B₃) + E₂⋅(A\n",
       "\n",
       "                                                                              \n",
       "₁ + A₃) + 2⋅E₂⋅(B₁ + B₄) + 2⋅I₁⋅(C₁ + C₂) + I₂⋅(C₁ + C₃) + f(F, X₁, X₂, Y₁, Y₂\n",
       "\n",
       "                                                                              \n",
       ")) + (2⋅I₁⋅(C₁ + C₂) + I₂⋅(C₁ + C₃))⋅(I₁⋅(C₁ + C₃) + 2⋅I₂⋅(C₁ + C₄))⋅(2⋅I₁⋅(D₁\n",
       "\n",
       "                                                                              \n",
       " + D₂) + I₂⋅(D₁ + D₃))⋅((2⋅E₁⋅(A₁ + A₂) + E₂⋅(A₁ + A₃))⋅f(F, X₁, X₂, Y₁, Y₂) -\n",
       "\n",
       "                                                                              \n",
       " (E₁⋅(A₁ + A₃) + 2⋅E₂⋅(A₁ + A₄))⋅(2⋅E₁⋅(B₁ + B₂) + E₂⋅(B₁ + B₃)) + (E₁⋅(B₁ + B\n",
       "\n",
       "                                                                              \n",
       "₃) + 2⋅E₂⋅(B₁ + B₄))⋅(2⋅E₁⋅(A₁ + A₂) + E₂⋅(A₁ + A₃) + f(F, X₁, X₂, Y₁, Y₂)) + \n",
       "\n",
       "                                                                              \n",
       "(2⋅I₁⋅(C₁ + C₂) + I₂⋅(C₁ + C₃))⋅(2⋅E₁⋅(A₁ + A₂) + E₁⋅(B₁ + B₃) + E₂⋅(A₁ + A₃) \n",
       "\n",
       "                                                                              \n",
       "+ 2⋅E₂⋅(B₁ + B₄) + f(F, X₁, X₂, Y₁, Y₂))) + (2⋅I₁⋅(C₁ + C₂) + I₂⋅(C₁ + C₃))⋅(I\n",
       "\n",
       "                                                                              \n",
       "₁⋅(D₁ + D₃) + 2⋅I₂⋅(D₁ + D₄))⋅((2⋅E₁⋅(A₁ + A₂) + E₂⋅(A₁ + A₃))⋅(E₁⋅(A₁ + A₃) +\n",
       "\n",
       "                                                                              \n",
       " 2⋅E₂⋅(A₁ + A₄))⋅(2⋅E₁⋅(B₁ + B₂) + E₂⋅(B₁ + B₃)) + (2⋅E₁⋅(A₁ + A₂) + E₂⋅(A₁ + \n",
       "\n",
       "                                                                              \n",
       "A₃))⋅(E₁⋅(B₁ + B₃) + 2⋅E₂⋅(B₁ + B₄))⋅f(F, X₁, X₂, Y₁, Y₂) - (E₁⋅(A₁ + A₃) + 2⋅\n",
       "\n",
       "                                                                              \n",
       "E₂⋅(A₁ + A₄))⋅(2⋅E₁⋅(B₁ + B₂) + E₂⋅(B₁ + B₃))⋅(2⋅E₁⋅(A₁ + A₂) + E₂⋅(A₁ + A₃) +\n",
       "\n",
       "                                                                              \n",
       " f(F, X₁, X₂, Y₁, Y₂))) - (I₁⋅(C₁ + C₃) + 2⋅I₂⋅(C₁ + C₄))⋅(2⋅I₁⋅(D₁ + D₂) + I₂\n",
       "\n",
       "                                                                              \n",
       "⋅(D₁ + D₃))⋅((2⋅E₁⋅(A₁ + A₂) + E₂⋅(A₁ + A₃))⋅(E₁⋅(A₁ + A₃) + 2⋅E₂⋅(A₁ + A₄))⋅(\n",
       "\n",
       "                                                                              \n",
       "2⋅E₁⋅(B₁ + B₂) + E₂⋅(B₁ + B₃)) + (2⋅E₁⋅(A₁ + A₂) + E₂⋅(A₁ + A₃))⋅(E₁⋅(B₁ + B₃)\n",
       "\n",
       "                                                                              \n",
       " + 2⋅E₂⋅(B₁ + B₄))⋅f(F, X₁, X₂, Y₁, Y₂) - (E₁⋅(A₁ + A₃) + 2⋅E₂⋅(A₁ + A₄))⋅(2⋅E\n",
       "\n",
       "                                                                              \n",
       "₁⋅(B₁ + B₂) + E₂⋅(B₁ + B₃))⋅(2⋅E₁⋅(A₁ + A₂) + E₂⋅(A₁ + A₃) + f(F, X₁, X₂, Y₁, \n",
       "\n",
       "                                                                              \n",
       "Y₂)) + (2⋅I₁⋅(C₁ + C₂) + I₂⋅(C₁ + C₃))⋅((2⋅E₁⋅(A₁ + A₂) + E₂⋅(A₁ + A₃))⋅f(F, X\n",
       "\n",
       "                                                                              \n",
       "₁, X₂, Y₁, Y₂) - (E₁⋅(A₁ + A₃) + 2⋅E₂⋅(A₁ + A₄))⋅(2⋅E₁⋅(B₁ + B₂) + E₂⋅(B₁ + B₃\n",
       "\n",
       "                                                                              \n",
       ")) + (E₁⋅(B₁ + B₃) + 2⋅E₂⋅(B₁ + B₄))⋅(2⋅E₁⋅(A₁ + A₂) + E₂⋅(A₁ + A₃) + f(F, X₁,\n",
       "\n",
       "               \n",
       " X₂, Y₁, Y₂))))"
      ]
     },
     "execution_count": 17,
     "metadata": {},
     "output_type": "execute_result"
    }
   ],
   "source": [
    "simplify(DeJ)"
   ]
  },
  {
   "cell_type": "code",
   "execution_count": null,
   "metadata": {
    "collapsed": false
   },
   "outputs": [],
   "source": [
    "EQS[1:1+n,1:n+1]"
   ]
  },
  {
   "cell_type": "code",
   "execution_count": null,
   "metadata": {
    "collapsed": false
   },
   "outputs": [],
   "source": [
    "EQS[1:1+n,1+n:2*n+1]"
   ]
  },
  {
   "cell_type": "code",
   "execution_count": null,
   "metadata": {
    "collapsed": false
   },
   "outputs": [],
   "source": [
    "EQS[1+n:2*n+1,n+1:2*n+1]"
   ]
  },
  {
   "cell_type": "code",
   "execution_count": null,
   "metadata": {
    "collapsed": false
   },
   "outputs": [],
   "source": [
    "EQS[0,0:2*n+1]"
   ]
  },
  {
   "cell_type": "code",
   "execution_count": null,
   "metadata": {
    "collapsed": true
   },
   "outputs": [],
   "source": [
    "auch = EQS[2,3]"
   ]
  },
  {
   "cell_type": "code",
   "execution_count": null,
   "metadata": {
    "collapsed": false
   },
   "outputs": [],
   "source": [
    "simplify(auch[ZE[1]*ZE[3]])"
   ]
  },
  {
   "cell_type": "code",
   "execution_count": null,
   "metadata": {
    "collapsed": false
   },
   "outputs": [],
   "source": [
    "simplify(auch[ZE[2]*ZE[4]])"
   ]
  },
  {
   "cell_type": "code",
   "execution_count": null,
   "metadata": {
    "collapsed": false
   },
   "outputs": [],
   "source": [
    "simplify(auch[ZE[2]*ZE[3]])"
   ]
  },
  {
   "cell_type": "code",
   "execution_count": null,
   "metadata": {
    "collapsed": false
   },
   "outputs": [],
   "source": [
    "simplify(auch[ZE[1]*ZE[4]])"
   ]
  },
  {
   "cell_type": "code",
   "execution_count": null,
   "metadata": {
    "collapsed": true
   },
   "outputs": [],
   "source": []
  }
 ],
 "metadata": {
  "kernelspec": {
   "display_name": "Python 3",
   "language": "python",
   "name": "python3"
  },
  "language_info": {
   "codemirror_mode": {
    "name": "ipython",
    "version": 3
   },
   "file_extension": ".py",
   "mimetype": "text/x-python",
   "name": "python",
   "nbconvert_exporter": "python",
   "pygments_lexer": "ipython3",
   "version": "3.5.1"
  }
 },
 "nbformat": 4,
 "nbformat_minor": 0
}
