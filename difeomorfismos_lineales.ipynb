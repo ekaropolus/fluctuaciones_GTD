{
 "cells": [
  {
   "cell_type": "code",
   "execution_count": 1,
   "metadata": {
    "collapsed": false,
    "scrolled": true
   },
   "outputs": [],
   "source": [
    "from difeomorfismos_solvers import *\n",
    "from difeomorfismo import *\n",
    "init_printing()"
   ]
  },
  {
   "cell_type": "markdown",
   "metadata": {},
   "source": [
    "<H3>Difeomorfismos</H3>\n",
    "<H3>$X^{c} = A^{c}Φ+B_{d}^{c}E^{d}+C_{d}^{c}I^{d}$</H3>\n",
    "<H3>$Y^{c} = D^{c}Φ+G_{d}^{c}E^{d}+H_{d}^{c}I^{d}$</H3>"
   ]
  },
  {
   "cell_type": "markdown",
   "metadata": {},
   "source": [
    "<H3>Defino la dimension que utilizare</H3>"
   ]
  },
  {
   "cell_type": "code",
   "execution_count": 2,
   "metadata": {
    "collapsed": false
   },
   "outputs": [],
   "source": [
    "n=1"
   ]
  },
  {
   "cell_type": "markdown",
   "metadata": {},
   "source": [
    "<H3>Estos son las dos coordenadas del difeomorfismo</H3>"
   ]
  },
  {
   "cell_type": "code",
   "execution_count": 3,
   "metadata": {
    "collapsed": false
   },
   "outputs": [
    {
     "data": {
      "image/png": "[encoded data removed]",
      "text/latex": [
       "$$\\left ( \\left [ \\Phi, \\quad E_{1}, \\quad I_{1}\\right ], \\quad \\left [ F, \\quad X_{1}, \\quad Y_{1}\\right ]\\right )$$"
      ],
      "text/plain": [
       "([\\Phi, E₁, I₁], [F, X₁, Y₁])"
      ]
     },
     "execution_count": 3,
     "metadata": {},
     "output_type": "execute_result"
    }
   ],
   "source": [
    "ZE, ZX = set_coordinates(n)\n",
    "ZE, ZX"
   ]
  },
  {
   "cell_type": "markdown",
   "metadata": {},
   "source": [
    "<H3>Estas son las constates para las ecuaciones del difeomorfismo lineal</H3>"
   ]
  },
  {
   "cell_type": "code",
   "execution_count": 4,
   "metadata": {
    "collapsed": false
   },
   "outputs": [],
   "source": [
    "A,c1=set_constants_a(n,'A',1)\n",
    "D,c2=set_constants_a(n,'D',1)\n",
    "B,c3=set_constants_axb(n,n,'B',1)\n",
    "G,c4=set_constants_axb(n,n,'G',1)\n",
    "C,c5=set_constants_axb(n,n,'C',1)\n",
    "H,c6=set_constants_axb(n,n,'H',1)"
   ]
  },
  {
   "cell_type": "markdown",
   "metadata": {},
   "source": [
    "<H3>Aqui comienzo el calculo de las ecuaciones para el difemorfismo lineal</H3>"
   ]
  },
  {
   "cell_type": "code",
   "execution_count": 5,
   "metadata": {
    "collapsed": false
   },
   "outputs": [],
   "source": [
    "EQ,PM = linear_solution(A,B,C,D,G,H,n)\n",
    "EQ = list(filter(lambda a: a != 0, EQ))\n",
    "#len(EQ), EQ"
   ]
  },
  {
   "cell_type": "markdown",
   "metadata": {},
   "source": [
    "<H3>Estas instrucciones son obtener las expresiones para $h_{ab}$ y $f$</H3>"
   ]
  },
  {
   "cell_type": "code",
   "execution_count": 6,
   "metadata": {
    "collapsed": false
   },
   "outputs": [],
   "source": [
    "h_LD=[]\n",
    "f_LD=[]\n",
    "EQ_LD = []\n",
    "f,h,EQgtd = matrix_gtdielineal(B,C,G,H,ZE)\n",
    "f = zeros(n)\n",
    "h = zeros(n)\n",
    "for x in range(0,n):\n",
    "    for y in range(0,n):\n",
    "        if x == y: f[x,y]=Function('f')(*ZX)\n",
    "        if x == y: h[x,y]=Function('h')(*ZE)\n",
    "#EQ = EQ + EQgtd\n",
    "h_LD.append(h)\n",
    "f_LD.append(f)\n",
    "EQ_LD.append(EQ)\n",
    "#len(EQ), Matrix(EQ)"
   ]
  },
  {
   "cell_type": "markdown",
   "metadata": {},
   "source": [
    "<H3>Hay que hacer una limpieza. Lo que hago aqui es subtituir cada una de las ecuaciones en las otras para ver si se pueden simplificar</H3>"
   ]
  },
  {
   "cell_type": "code",
   "execution_count": 7,
   "metadata": {
    "collapsed": false
   },
   "outputs": [],
   "source": [
    "EQ = consistency_subs(EQ_LD[0])\n",
    "#Matrix(EQ)"
   ]
  },
  {
   "cell_type": "markdown",
   "metadata": {},
   "source": [
    "<H3>Hago un filtrado para eliminar las ecuaciones que me dieron 0</H3>"
   ]
  },
  {
   "cell_type": "code",
   "execution_count": 8,
   "metadata": {
    "collapsed": true
   },
   "outputs": [],
   "source": [
    "EQ = list(filter(lambda a: a != 0, EQ))\n",
    "EQ_LD[0] = EQ\n"
   ]
  },
  {
   "cell_type": "markdown",
   "metadata": {},
   "source": [
    "<H3>Este es el sistema final a resolver</H3>"
   ]
  },
  {
   "cell_type": "code",
   "execution_count": 9,
   "metadata": {
    "collapsed": false
   },
   "outputs": [
    {
     "data": {
      "text/latex": [
       "$$\\left[\\begin{matrix}A_{1} D_{1}\\\\A_{1} G_{11}\\\\A_{1} H_{11}\\\\B_{11} G_{11}\\\\C_{11} H_{11}\\end{matrix}\\right]$$"
      ],
      "text/plain": [
       "⎡ A₁⋅D₁ ⎤\n",
       "⎢       ⎥\n",
       "⎢A₁⋅G₁₁ ⎥\n",
       "⎢       ⎥\n",
       "⎢A₁⋅H₁₁ ⎥\n",
       "⎢       ⎥\n",
       "⎢B₁₁⋅G₁₁⎥\n",
       "⎢       ⎥\n",
       "⎣C₁₁⋅H₁₁⎦"
      ]
     },
     "execution_count": 9,
     "metadata": {},
     "output_type": "execute_result"
    }
   ],
   "source": [
    "Matrix(EQ_LD[0])"
   ]
  },
  {
   "cell_type": "markdown",
   "metadata": {},
   "source": [
    "<H3>Meto todas las constantes en un arreglo</H3>"
   ]
  },
  {
   "cell_type": "code",
   "execution_count": 10,
   "metadata": {
    "collapsed": false
   },
   "outputs": [
    {
     "data": {
      "image/png": "[encoded data removed]",
      "text/latex": [
       "$$\\left ( 6, \\quad \\left [ A_{1}, \\quad D_{1}, \\quad B_{11}, \\quad G_{11}, \\quad C_{11}, \\quad H_{11}\\right ]\\right )$$"
      ],
      "text/plain": [
       "(6, [A₁, D₁, B₁₁, G₁₁, C₁₁, H₁₁])"
      ]
     },
     "execution_count": 10,
     "metadata": {},
     "output_type": "execute_result"
    }
   ],
   "source": [
    "c = c1 + c2 + c3 + c4 + c5 +c6\n",
    "c = list(filter(lambda a: a != 0, c))\n",
    "len(c),c"
   ]
  },
  {
   "cell_type": "markdown",
   "metadata": {},
   "source": [
    "<H3>Estas son las ecuaciones del difeomorfismo lineal</H3>"
   ]
  },
  {
   "cell_type": "code",
   "execution_count": 11,
   "metadata": {
    "collapsed": false
   },
   "outputs": [
    {
     "data": {
      "text/latex": [
       "$$\\left[\\begin{matrix}F{\\left (\\Phi,E_{1},I_{1} \\right )}\\\\A_{1} \\Phi + B_{11} E_{1} + C_{11} I_{1}\\\\D_{1} \\Phi + E_{1} G_{11} + H_{11} I_{1}\\end{matrix}\\right]$$"
      ],
      "text/plain": [
       "⎡     F(\\Phi, E₁, I₁)     ⎤\n",
       "⎢                         ⎥\n",
       "⎢A₁⋅\\Phi + B₁₁⋅E₁ + C₁₁⋅I₁⎥\n",
       "⎢                         ⎥\n",
       "⎣D₁⋅\\Phi + E₁⋅G₁₁ + H₁₁⋅I₁⎦"
      ]
     },
     "execution_count": 11,
     "metadata": {},
     "output_type": "execute_result"
    }
   ],
   "source": [
    "LD = []\n",
    "L0 = linear_difeomorphism(A,B,C,D,G,H,n,ZX,ZE)\n",
    "LD.append(L0)\n",
    "Matrix(LD[0])"
   ]
  },
  {
   "cell_type": "markdown",
   "metadata": {},
   "source": [
    "<H3>Estas son las ecuaciones del contactomorfismo</H3>"
   ]
  },
  {
   "cell_type": "code",
   "execution_count": 12,
   "metadata": {
    "collapsed": false
   },
   "outputs": [],
   "source": [
    "CM_LD = contactomorphism_equations(LD[0],ZE,expand,0)\n",
    "#Matrix(CM_LD)"
   ]
  },
  {
   "cell_type": "markdown",
   "metadata": {},
   "source": [
    "<H3>Este es el jacobiano y el determinante del jacobiano de esa transformacion</H3>"
   ]
  },
  {
   "cell_type": "code",
   "execution_count": 13,
   "metadata": {
    "collapsed": false
   },
   "outputs": [],
   "source": [
    "Z0 = list(LD[0])\n",
    "Z0[0] = CM_LD"
   ]
  },
  {
   "cell_type": "code",
   "execution_count": 14,
   "metadata": {
    "collapsed": false
   },
   "outputs": [],
   "source": [
    "Ja,DeJ = Jacobian00(Z0,ZE,n)\n",
    "#DeJ = simplify(DeJ)\n",
    "\n"
   ]
  },
  {
   "cell_type": "code",
   "execution_count": null,
   "metadata": {
    "collapsed": true
   },
   "outputs": [],
   "source": [
    "text_file = open(\"DeJxxx.txt\", \"w\")\n",
    "text_file.write(str(DeJ))\n",
    "text_file.close()"
   ]
  },
  {
   "cell_type": "code",
   "execution_count": 38,
   "metadata": {
    "collapsed": true
   },
   "outputs": [],
   "source": [
    "text_file = open(\"DeJxxx.txt\", \"r\")\n",
    "DeJ = sympify(text_file.read())\n",
    "text_file.close()"
   ]
  },
  {
   "cell_type": "code",
   "execution_count": 15,
   "metadata": {
    "collapsed": false
   },
   "outputs": [
    {
     "data": {
      "image/png": "[encoded data removed]",
      "text/latex": [
       "$$\\frac{A_{1} H_{11}}{f} I_{1} + \\frac{B_{11} H_{11}}{f} - \\frac{C_{11} D_{1}}{f} I_{1} - \\frac{C_{11} G_{11}}{f}$$"
      ],
      "text/plain": [
       "A₁⋅H₁₁⋅I₁   B₁₁⋅H₁₁   C₁₁⋅D₁⋅I₁   C₁₁⋅G₁₁\n",
       "───────── + ─────── - ───────── - ───────\n",
       "    f          f          f          f   "
      ]
     },
     "execution_count": 15,
     "metadata": {},
     "output_type": "execute_result"
    }
   ],
   "source": [
    "DeJ"
   ]
  },
  {
   "cell_type": "code",
   "execution_count": 16,
   "metadata": {
    "collapsed": false
   },
   "outputs": [
    {
     "data": {
      "text/latex": [
       "$$\\left[\\begin{matrix}A_{1} D_{1} \\Phi + A_{1} E_{1} G_{11} + A_{1} H_{11} I_{1} + \\frac{1}{f} & B_{11} D_{1} \\Phi + B_{11} E_{1} G_{11} + B_{11} H_{11} I_{1} - \\frac{I_{1}}{f} & C_{11} D_{1} \\Phi + C_{11} E_{1} G_{11} + C_{11} H_{11} I_{1}\\\\A_{1} & B_{11} & C_{11}\\\\D_{1} & G_{11} & H_{11}\\end{matrix}\\right]$$"
      ],
      "text/plain": [
       "⎡                                     1                                       \n",
       "⎢A₁⋅D₁⋅\\Phi + A₁⋅E₁⋅G₁₁ + A₁⋅H₁₁⋅I₁ + ─  B₁₁⋅D₁⋅\\Phi + B₁₁⋅E₁⋅G₁₁ + B₁₁⋅H₁₁⋅I₁\n",
       "⎢                                     f                                       \n",
       "⎢                                                                             \n",
       "⎢                  A₁                                       B₁₁               \n",
       "⎢                                                                             \n",
       "⎣                  D₁                                       G₁₁               \n",
       "\n",
       "   I₁                                       ⎤\n",
       " - ──  C₁₁⋅D₁⋅\\Phi + C₁₁⋅E₁⋅G₁₁ + C₁₁⋅H₁₁⋅I₁⎥\n",
       "   f                                        ⎥\n",
       "                                            ⎥\n",
       "                        C₁₁                 ⎥\n",
       "                                            ⎥\n",
       "                        H₁₁                 ⎦"
      ]
     },
     "execution_count": 16,
     "metadata": {},
     "output_type": "execute_result"
    }
   ],
   "source": [
    "Ja"
   ]
  },
  {
   "cell_type": "code",
   "execution_count": 26,
   "metadata": {
    "collapsed": false
   },
   "outputs": [
    {
     "data": {
      "image/png": "[encoded data removed]",
      "text/latex": [
       "$$\\frac{1}{f} \\left(A_{1} H_{11} I_{1} + B_{11} H_{11} - C_{11} D_{1} I_{1} - C_{11} G_{11}\\right)$$"
      ],
      "text/plain": [
       "A₁⋅H₁₁⋅I₁ + B₁₁⋅H₁₁ - C₁₁⋅D₁⋅I₁ - C₁₁⋅G₁₁\n",
       "─────────────────────────────────────────\n",
       "                    f                    "
      ]
     },
     "execution_count": 26,
     "metadata": {},
     "output_type": "execute_result"
    }
   ],
   "source": [
    "Mira = Matrix(LD[0]).jacobian(ZE).det()\n",
    "for x in range(0,2*n+1):\n",
    "    Mira = Mira.subs([(diff(LD[0][0],ZE[x]),CM_LD[x])])\n",
    "simplify(Mira)"
   ]
  },
  {
   "cell_type": "code",
   "execution_count": null,
   "metadata": {
    "collapsed": true
   },
   "outputs": [],
   "source": [
    "platexini00('dl_n2.tex')\n",
    "platex00(collect(collect(DeJ,ZE[3]),ZE[4]),'dl_n2.tex','equation')\n",
    "platex00(Ja,'dl_n2.tex','equation')\n",
    "platexend00('dl_n2.tex')"
   ]
  },
  {
   "cell_type": "code",
   "execution_count": null,
   "metadata": {
    "collapsed": false
   },
   "outputs": [],
   "source": [
    "#siDeJ  = EQ_sub([DeJ],EQ_LD[0])\n",
    "#Matrix(factor(siDeJ))"
   ]
  },
  {
   "cell_type": "code",
   "execution_count": null,
   "metadata": {
    "collapsed": false
   },
   "outputs": [],
   "source": [
    "#CM_LD  = EQ_sub(CM_LD,EQ_LD[0])\n",
    "#Matrix(CM_LD)"
   ]
  },
  {
   "cell_type": "markdown",
   "metadata": {},
   "source": [
    "<H3>Este algoritmo es el que calcula las soluciones. Lo que hace es que va equacion por ecuacion y busca todas sus posibles soluciones. Para cada ecuacion, su conjunto de soluciones las mente dentro de un arreglo. El resultado final es un lista que contiene un arreglo de soluciones por cada ecuacion.</H3>"
   ]
  },
  {
   "cell_type": "code",
   "execution_count": 16,
   "metadata": {
    "collapsed": false
   },
   "outputs": [],
   "source": [
    "all_solutions = []\n",
    "for x in EQ_LD[0]:\n",
    "    sol_to_eq=[]\n",
    "    fs = list(x.free_symbols)\n",
    "    fs = list(powerset(fs))\n",
    "    for y in fs:\n",
    "        sol = solve(x,dict=True,exclude=y)\n",
    "        sol = merge_dicts(*sol)\n",
    "        sid = DeJ.subs(sol)\n",
    "        if sol not in sol_to_eq and sid != 0:\n",
    "            sol_to_eq.append(sol) if sol != {} else 0\n",
    "    all_solutions.append(sol_to_eq)\n",
    "    \n"
   ]
  },
  {
   "cell_type": "code",
   "execution_count": 17,
   "metadata": {
    "collapsed": false
   },
   "outputs": [
    {
     "data": {
      "image/png": "[encoded data removed]",
      "text/latex": [
       "$$512$$"
      ],
      "text/plain": [
       "512"
      ]
     },
     "execution_count": 17,
     "metadata": {},
     "output_type": "execute_result"
    }
   ],
   "source": [
    "cont = 1\n",
    "for x in all_solutions:\n",
    "    cont = cont*len(x)\n",
    "cont"
   ]
  },
  {
   "cell_type": "markdown",
   "metadata": {},
   "source": [
    "<H3>Creo un producto cartesiano donde sus entradas son las soluciones de las ecuaciones. De esta forma me aseguro de tener todas las posibles soluciones para el problema completo</H3>"
   ]
  },
  {
   "cell_type": "code",
   "execution_count": 18,
   "metadata": {
    "collapsed": true
   },
   "outputs": [],
   "source": [
    "s = product(*all_solutions)"
   ]
  },
  {
   "cell_type": "markdown",
   "metadata": {},
   "source": [
    "<H3>Esta instruccion calcula el determinante del difeomorfismo lineal</H3>"
   ]
  },
  {
   "cell_type": "code",
   "execution_count": 19,
   "metadata": {
    "collapsed": false
   },
   "outputs": [],
   "source": [
    "D_LD = []\n",
    "D_LD.append(DeJ)\n",
    "#D_LD.append(sympify(0))"
   ]
  },
  {
   "cell_type": "code",
   "execution_count": 21,
   "metadata": {
    "collapsed": false
   },
   "outputs": [],
   "source": [
    "#LD [0]"
   ]
  },
  {
   "cell_type": "markdown",
   "metadata": {},
   "source": [
    "<H3>Con esta funcion busco las soluciones al problema. Los criterios son: 1. que el determinante sea diferente de 0.\n",
    "    Debido a que tomaba mucho tiempo la funcion le tubimos que poner dos controladores (ultimos dos elementos de la interfaz). El primero controla la cantidad de difeomorfismos diferentes a evaluar. El segundo te dice cuantas soluciones debe de buscar</H3>"
   ]
  },
  {
   "cell_type": "code",
   "execution_count": 22,
   "metadata": {
    "collapsed": false
   },
   "outputs": [
    {
     "name": "stdout",
     "output_type": "stream",
     "text": [
      "Comienza substitucion\n",
      "Finaliza substitucion\n",
      "Comienza limpieza\n",
      "Finaliza substitucion\n"
     ]
    }
   ],
   "source": [
    "chigo_mil = 10000000000000\n",
    "LD, h_LD, f_LD,EQ_LD,D_LD,s_LD = seek_mixed00(LD,h_LD,f_LD,EQ_LD,D_LD,s,n,ZE,100000,chigo_mil,[1,0])"
   ]
  },
  {
   "cell_type": "markdown",
   "metadata": {},
   "source": [
    "<H3>Cantidad de soluciones encontradas</H3>"
   ]
  },
  {
   "cell_type": "code",
   "execution_count": 23,
   "metadata": {
    "collapsed": false
   },
   "outputs": [
    {
     "data": {
      "image/png": "[encoded data removed]",
      "text/latex": [
       "$$374$$"
      ],
      "text/plain": [
       "374"
      ]
     },
     "execution_count": 23,
     "metadata": {},
     "output_type": "execute_result"
    }
   ],
   "source": [
    "len(LD)#,len(h_LD),len(f_LD),len(EQ_LD),len(D_LD)"
   ]
  },
  {
   "cell_type": "markdown",
   "metadata": {},
   "source": [
    "<H3>Los difeomorfismos encontrados</H3>"
   ]
  },
  {
   "cell_type": "code",
   "execution_count": null,
   "metadata": {
    "collapsed": false,
    "scrolled": true
   },
   "outputs": [],
   "source": [
    "Matrix(LD)"
   ]
  },
  {
   "cell_type": "markdown",
   "metadata": {},
   "source": [
    "<H3>El set de soluciones que nos llevaron a ellos</H3>\n"
   ]
  },
  {
   "cell_type": "code",
   "execution_count": null,
   "metadata": {
    "collapsed": false
   },
   "outputs": [],
   "source": [
    "Matrix(D_LD)"
   ]
  },
  {
   "cell_type": "markdown",
   "metadata": {},
   "source": [
    "<H3>Para cada una de las soluciones calculamos: Las ecuaciones del difeomorfismo en S, Las ecuaciones del contatcto morfismo en H. Las condiciones de integrabilidad check_me</H3>"
   ]
  },
  {
   "cell_type": "code",
   "execution_count": 32,
   "metadata": {
    "collapsed": false,
    "scrolled": true
   },
   "outputs": [],
   "source": [
    "check_me = []\n",
    "difeo_eqs = []\n",
    "\n",
    "for i in range(0,len(LD)):\n",
    "    Z0 = LD[i]\n",
    "    h = h_LD[0]\n",
    "    f = f_LD[0][0,0]\n",
    "    H=[]\n",
    "    S = zeros(n)\n",
    "    H,S = difeomorphism_equations002(Z0,ZE,expand,f,h,0,2*n+1)\n",
    "    \n",
    "    mixed_test = []\n",
    "    t3 = 0\n",
    "    t1 = t2 = 1\n",
    "    for x in range(0,2*n+1):\n",
    "        for y in range(x,2*n+1):\n",
    "            if x != y:\n",
    "                t1 = diff(H[x][1],ZE[y])\n",
    "                t2 = diff(H[y][1],ZE[x])\n",
    "                t3 = t3 + t1 + t2\n",
    "                mixed_test.append((t1,t2))\n",
    "    if t3 != 0:\n",
    "        difeo_eqs.append((S,H,Z0,D_LD[i],f))\n",
    "        check_me.append(mixed_test)\n",
    "    #,ZE[y],ZE[x],,ZE[x],ZE[y]"
   ]
  },
  {
   "cell_type": "code",
   "execution_count": 33,
   "metadata": {
    "collapsed": false
   },
   "outputs": [
    {
     "data": {
      "image/png": "[encoded data removed]",
      "text/latex": [
       "$$334$$"
      ],
      "text/plain": [
       "334"
      ]
     },
     "execution_count": 33,
     "metadata": {},
     "output_type": "execute_result"
    }
   ],
   "source": [
    "len(difeo_eqs)"
   ]
  },
  {
   "cell_type": "markdown",
   "metadata": {},
   "source": [
    "<H3>Estas son las condiciones de integrabilidad</H3>"
   ]
  },
  {
   "cell_type": "code",
   "execution_count": null,
   "metadata": {
    "collapsed": false
   },
   "outputs": [],
   "source": [
    "Matrix(check_me)"
   ]
  },
  {
   "cell_type": "markdown",
   "metadata": {},
   "source": [
    "<H3>Estos son los contactomorfismos</H3>"
   ]
  },
  {
   "cell_type": "code",
   "execution_count": null,
   "metadata": {
    "collapsed": false
   },
   "outputs": [],
   "source": [
    "contacto = []\n",
    "for x in difeo_eqs:\n",
    "    contacto.append(x[1])\n",
    "Matrix(contacto)"
   ]
  },
  {
   "cell_type": "markdown",
   "metadata": {},
   "source": [
    "<H3>Estos son las ecuaciones del difeomorfismo</H3>\n"
   ]
  },
  {
   "cell_type": "code",
   "execution_count": null,
   "metadata": {
    "collapsed": false
   },
   "outputs": [],
   "source": [
    "eqs_difeo = []\n",
    "for x in difeo_eqs:\n",
    "    eqs_difeo.append(x[0])\n",
    "eqs_difeo"
   ]
  },
  {
   "cell_type": "markdown",
   "metadata": {
    "collapsed": true
   },
   "source": [
    "<H3>Estos son los difeomorfismos</H3>"
   ]
  },
  {
   "cell_type": "code",
   "execution_count": 34,
   "metadata": {
    "collapsed": false
   },
   "outputs": [],
   "source": [
    "difeo = []\n",
    "for x in difeo_eqs:\n",
    "    difeo.append(x[2])\n",
    "#difeo"
   ]
  },
  {
   "cell_type": "markdown",
   "metadata": {},
   "source": [
    "<H3>Estas son los determinantes</H3>"
   ]
  },
  {
   "cell_type": "code",
   "execution_count": 35,
   "metadata": {
    "collapsed": false
   },
   "outputs": [],
   "source": [
    "dets = []\n",
    "for x in difeo_eqs:\n",
    "    dets.append(x[3])\n",
    "#dets"
   ]
  },
  {
   "cell_type": "code",
   "execution_count": 37,
   "metadata": {
    "collapsed": true
   },
   "outputs": [],
   "source": [
    "send_D_to_latex(difeo[0:100],dets,check_me,ZX,'lineares_cd01.tex')"
   ]
  },
  {
   "cell_type": "code",
   "execution_count": null,
   "metadata": {
    "collapsed": true
   },
   "outputs": [],
   "source": []
  }
 ],
 "metadata": {
  "kernelspec": {
   "display_name": "Python 3",
   "language": "python",
   "name": "python3"
  },
  "language_info": {
   "codemirror_mode": {
    "name": "ipython",
    "version": 3
   },
   "file_extension": ".py",
   "mimetype": "text/x-python",
   "name": "python",
   "nbconvert_exporter": "python",
   "pygments_lexer": "ipython3",
   "version": "3.5.1"
  }
 },
 "nbformat": 4,
 "nbformat_minor": 0
}
