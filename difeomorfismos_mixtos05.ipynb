{
 "cells": [
  {
   "cell_type": "code",
   "execution_count": 2,
   "metadata": {
    "collapsed": false,
    "scrolled": true
   },
   "outputs": [],
   "source": [
    "from difeomorfismos_solvers import *\n",
    "from difeomorfismo import *\n",
    "init_printing()"
   ]
  },
  {
   "cell_type": "markdown",
   "metadata": {},
   "source": [
    "<H3>Difeomorsimos Cuadratico + lineal </H3>\n",
    "<H3>$X^{c} = M_{dd}^{c}E^{d}E^{d}$<H3>\n",
    "<H3>$Y_{c} = N_{cee}I^{e}I^{e}$</H3>\n",
    "\n"
   ]
  },
  {
   "cell_type": "markdown",
   "metadata": {},
   "source": [
    "<H3>Defino la dimension que utilizare</H3>"
   ]
  },
  {
   "cell_type": "code",
   "execution_count": 3,
   "metadata": {
    "collapsed": false
   },
   "outputs": [],
   "source": [
    "n=2\n"
   ]
  },
  {
   "cell_type": "markdown",
   "metadata": {},
   "source": [
    "<H3>Estos son las dos coordenadas del difeomorfismo</H3>"
   ]
  },
  {
   "cell_type": "code",
   "execution_count": 4,
   "metadata": {
    "collapsed": false
   },
   "outputs": [
    {
     "data": {
      "image/png": "[encoded data removed]",
      "text/latex": [
       "$$\\left ( \\left [ \\Phi, \\quad E_{1}, \\quad E_{2}, \\quad I_{1}, \\quad I_{2}\\right ], \\quad \\left [ F, \\quad X_{1}, \\quad X_{2}, \\quad Y_{1}, \\quad Y_{2}\\right ]\\right )$$"
      ],
      "text/plain": [
       "([\\Phi, E₁, E₂, I₁, I₂], [F, X₁, X₂, Y₁, Y₂])"
      ]
     },
     "execution_count": 4,
     "metadata": {},
     "output_type": "execute_result"
    }
   ],
   "source": [
    "ZE, ZX = set_coordinates(n)\n",
    "ZE, ZX"
   ]
  },
  {
   "cell_type": "markdown",
   "metadata": {},
   "source": [
    "<H3>Estas son las constates para las ecuaciones del difeomorfismo Cuadratico + lineal</H3>"
   ]
  },
  {
   "cell_type": "code",
   "execution_count": 5,
   "metadata": {
    "collapsed": false
   },
   "outputs": [],
   "source": [
    "import operator\n",
    "A,c1=set_constants_a(n,'A',0)\n",
    "D,c2=set_constants_a(n,'D',0)\n",
    "B,c3=set_constants_axb(n,n,'B',0)\n",
    "G,c4=set_constants_axb(n,n,'G',0)\n",
    "C,c5=set_constants_axb(n,n,'C',0)\n",
    "H,c6=set_constants_axb(n,n,'H',0)\n",
    "M,c7=set_constants_axbxc00(n,n,n,'M',1)\n",
    "N,c8=set_constants_axbxc00(n,n,n,'N',1)\n",
    "J,c9=set_constants_axbxc(n,n,n,'J',0,operator.eq)\n",
    "K,c10=set_constants_axbxc(n,n,n,'K',0,operator.eq)"
   ]
  },
  {
   "cell_type": "code",
   "execution_count": 6,
   "metadata": {
    "collapsed": false
   },
   "outputs": [
    {
     "data": {
      "text/latex": [
       "$$\\left ( \\left [ \\left[\\begin{matrix}M_{111} & M_{112}\\\\M_{121} & M_{122}\\end{matrix}\\right], \\quad \\left[\\begin{matrix}M_{211} & M_{212}\\\\M_{221} & M_{222}\\end{matrix}\\right]\\right ], \\quad \\left [ \\left[\\begin{matrix}N_{111} & N_{112}\\\\N_{121} & N_{122}\\end{matrix}\\right], \\quad \\left[\\begin{matrix}N_{211} & N_{212}\\\\N_{221} & N_{222}\\end{matrix}\\right]\\right ], \\quad \\left [ \\left[\\begin{matrix}0 & 0\\\\0 & 0\\end{matrix}\\right], \\quad \\left[\\begin{matrix}0 & 0\\\\0 & 0\\end{matrix}\\right]\\right ], \\quad \\left [ \\left[\\begin{matrix}0 & 0\\\\0 & 0\\end{matrix}\\right], \\quad \\left[\\begin{matrix}0 & 0\\\\0 & 0\\end{matrix}\\right]\\right ]\\right )$$"
      ],
      "text/plain": [
       "⎛⎡⎡M₁₁₁  M₁₁₂⎤, ⎡M₂₁₁  M₂₁₂⎤⎤, ⎡⎡N₁₁₁  N₁₁₂⎤, ⎡N₂₁₁  N₂₁₂⎤⎤, ⎡⎡0  0⎤, ⎡0  0⎤⎤,\n",
       "⎜⎢⎢          ⎥  ⎢          ⎥⎥  ⎢⎢          ⎥  ⎢          ⎥⎥  ⎢⎢    ⎥  ⎢    ⎥⎥ \n",
       "⎝⎣⎣M₁₂₁  M₁₂₂⎦  ⎣M₂₂₁  M₂₂₂⎦⎦  ⎣⎣N₁₂₁  N₁₂₂⎦  ⎣N₂₂₁  N₂₂₂⎦⎦  ⎣⎣0  0⎦  ⎣0  0⎦⎦ \n",
       "\n",
       " ⎡⎡0  0⎤, ⎡0  0⎤⎤⎞\n",
       " ⎢⎢    ⎥  ⎢    ⎥⎥⎟\n",
       " ⎣⎣0  0⎦  ⎣0  0⎦⎦⎠"
      ]
     },
     "execution_count": 6,
     "metadata": {},
     "output_type": "execute_result"
    }
   ],
   "source": [
    "M,N,J,K"
   ]
  },
  {
   "cell_type": "code",
   "execution_count": 7,
   "metadata": {
    "collapsed": false
   },
   "outputs": [
    {
     "data": {
      "image/png": "[encoded data removed]",
      "text/latex": [
       "$$\\left ( 16, \\quad \\left [ M_{111}, \\quad M_{112}, \\quad M_{121}, \\quad M_{122}, \\quad M_{211}, \\quad M_{212}, \\quad M_{221}, \\quad M_{222}, \\quad N_{111}, \\quad N_{112}, \\quad N_{121}, \\quad N_{122}, \\quad N_{211}, \\quad N_{212}, \\quad N_{221}, \\quad N_{222}\\right ]\\right )$$"
      ],
      "text/plain": [
       "(16, [M₁₁₁, M₁₁₂, M₁₂₁, M₁₂₂, M₂₁₁, M₂₁₂, M₂₂₁, M₂₂₂, N₁₁₁, N₁₁₂, N₁₂₁, N₁₂₂, \n",
       "N₂₁₁, N₂₁₂, N₂₂₁, N₂₂₂])"
      ]
     },
     "execution_count": 7,
     "metadata": {},
     "output_type": "execute_result"
    }
   ],
   "source": [
    "c = c1 + c2 + c3 + c4 + c5 + c6 + c7 + c8 + c9 + c10\n",
    "c = list(filter(lambda a: a != 0, c))\n",
    "len(c),c"
   ]
  },
  {
   "cell_type": "code",
   "execution_count": 8,
   "metadata": {
    "collapsed": false
   },
   "outputs": [
    {
     "data": {
      "image/png": "[encoded data removed]",
      "text/latex": [
       "$$\\left \\{ M_{111} : 1, \\quad M_{112} : 1, \\quad M_{121} : 1, \\quad M_{122} : 1, \\quad M_{211} : 1, \\quad M_{212} : 1, \\quad M_{221} : 1, \\quad M_{222} : 1, \\quad N_{111} : 1, \\quad N_{112} : 1, \\quad N_{121} : 1, \\quad N_{122} : 1, \\quad N_{211} : 1, \\quad N_{212} : 1, \\quad N_{221} : 1, \\quad N_{222} : 1\\right \\}$$"
      ],
      "text/plain": [
       "{M₁₁₁: 1, M₁₁₂: 1, M₁₂₁: 1, M₁₂₂: 1, M₂₁₁: 1, M₂₁₂: 1, M₂₂₁: 1, M₂₂₂: 1, N₁₁₁:\n",
       " 1, N₁₁₂: 1, N₁₂₁: 1, N₁₂₂: 1, N₂₁₁: 1, N₂₁₂: 1, N₂₂₁: 1, N₂₂₂: 1}"
      ]
     },
     "execution_count": 8,
     "metadata": {},
     "output_type": "execute_result"
    }
   ],
   "source": [
    "dc = {}\n",
    "for x in c:\n",
    "    dc[x]=1\n",
    "dc"
   ]
  },
  {
   "cell_type": "code",
   "execution_count": 9,
   "metadata": {
    "collapsed": false
   },
   "outputs": [
    {
     "data": {
      "image/png": "[encoded data removed]",
      "text/latex": [
       "$$\\left \\{ E_{1} : 1, \\quad E_{2} : 1, \\quad I_{1} : 1, \\quad I_{2} : 1, \\quad \\Phi : 1\\right \\}$$"
      ],
      "text/plain": [
       "{E₁: 1, E₂: 1, I₁: 1, I₂: 1, \\Phi: 1}"
      ]
     },
     "execution_count": 9,
     "metadata": {},
     "output_type": "execute_result"
    }
   ],
   "source": [
    "dZE = {}\n",
    "for x in ZE:\n",
    "    dZE[x]=1\n",
    "dZE"
   ]
  },
  {
   "cell_type": "code",
   "execution_count": 10,
   "metadata": {
    "collapsed": false
   },
   "outputs": [],
   "source": [
    "LD = []\n",
    "L0 = GI_difeomorphism(A,B,C,D,G,H,M,N,J,K,n,ZX,ZE)\n",
    "LD.append(L0)"
   ]
  },
  {
   "cell_type": "code",
   "execution_count": 11,
   "metadata": {
    "collapsed": false
   },
   "outputs": [
    {
     "data": {
      "text/latex": [
       "$$\\left[\\begin{matrix}F{\\left (\\Phi,E_{1},E_{2},I_{1},I_{2} \\right )}\\\\E_{1} I_{1} M_{111} + E_{1} I_{2} M_{112} + E_{2} I_{1} M_{121} + E_{2} I_{2} M_{122}\\\\E_{1} I_{1} M_{211} + E_{1} I_{2} M_{212} + E_{2} I_{1} M_{221} + E_{2} I_{2} M_{222}\\\\E_{1} I_{1} N_{111} + E_{1} I_{2} N_{112} + E_{2} I_{1} N_{121} + E_{2} I_{2} N_{122}\\\\E_{1} I_{1} N_{211} + E_{1} I_{2} N_{212} + E_{2} I_{1} N_{221} + E_{2} I_{2} N_{222}\\end{matrix}\\right]$$"
      ],
      "text/plain": [
       "⎡             F(\\Phi, E₁, E₂, I₁, I₂)             ⎤\n",
       "⎢                                                 ⎥\n",
       "⎢E₁⋅I₁⋅M₁₁₁ + E₁⋅I₂⋅M₁₁₂ + E₂⋅I₁⋅M₁₂₁ + E₂⋅I₂⋅M₁₂₂⎥\n",
       "⎢                                                 ⎥\n",
       "⎢E₁⋅I₁⋅M₂₁₁ + E₁⋅I₂⋅M₂₁₂ + E₂⋅I₁⋅M₂₂₁ + E₂⋅I₂⋅M₂₂₂⎥\n",
       "⎢                                                 ⎥\n",
       "⎢E₁⋅I₁⋅N₁₁₁ + E₁⋅I₂⋅N₁₁₂ + E₂⋅I₁⋅N₁₂₁ + E₂⋅I₂⋅N₁₂₂⎥\n",
       "⎢                                                 ⎥\n",
       "⎣E₁⋅I₁⋅N₂₁₁ + E₁⋅I₂⋅N₂₁₂ + E₂⋅I₁⋅N₂₂₁ + E₂⋅I₂⋅N₂₂₂⎦"
      ]
     },
     "execution_count": 11,
     "metadata": {},
     "output_type": "execute_result"
    }
   ],
   "source": [
    "Matrix(LD[0])"
   ]
  },
  {
   "cell_type": "code",
   "execution_count": 23,
   "metadata": {
    "collapsed": false
   },
   "outputs": [],
   "source": [
    "S,EQS = poly_difeomorphism(L0,ZE,dc,dZE)"
   ]
  },
  {
   "cell_type": "code",
   "execution_count": 25,
   "metadata": {
    "collapsed": false
   },
   "outputs": [
    {
     "data": {
      "image/png": "[encoded data removed]",
      "text/latex": [
       "$$4$$"
      ],
      "text/plain": [
       "4"
      ]
     },
     "execution_count": 25,
     "metadata": {},
     "output_type": "execute_result"
    }
   ],
   "source": [
    "EQ_LD = []\n",
    "EQ = []\n",
    "QS = EQS[1:n+1,n+1:2*n+1]\n",
    "len(QS)"
   ]
  },
  {
   "cell_type": "code",
   "execution_count": 26,
   "metadata": {
    "collapsed": false
   },
   "outputs": [
    {
     "data": {
      "image/png": "[encoded data removed]",
      "text/latex": [
       "$$\\left ( 8, \\quad \\left [ \\frac{M_{111} N_{112}}{2} + \\frac{M_{112} N_{111}}{2} + \\frac{M_{211} N_{212}}{2} + \\frac{M_{212} N_{211}}{2}, \\quad M_{112} N_{112} + M_{212} N_{212}, \\quad \\frac{M_{111} N_{122}}{2} + \\frac{M_{122} N_{111}}{2} + \\frac{M_{211} N_{222}}{2} + \\frac{M_{222} N_{211}}{2}, \\quad \\frac{M_{112} N_{122}}{2} + \\frac{M_{122} N_{112}}{2} + \\frac{M_{212} N_{222}}{2} + \\frac{M_{222} N_{212}}{2}, \\quad \\frac{M_{111} N_{121}}{2} + \\frac{M_{121} N_{111}}{2} + \\frac{M_{211} N_{221}}{2} + \\frac{M_{221} N_{211}}{2}, \\quad \\frac{M_{111} N_{122}}{2} + \\frac{M_{122} N_{111}}{2} + \\frac{M_{211} N_{222}}{2} + \\frac{M_{222} N_{211}}{2}, \\quad M_{121} N_{121} + M_{221} N_{221}, \\quad \\frac{M_{121} N_{122}}{2} + \\frac{M_{122} N_{121}}{2} + \\frac{M_{221} N_{222}}{2} + \\frac{M_{222} N_{221}}{2}\\right ]\\right )$$"
      ],
      "text/plain": [
       "⎛   ⎡M₁₁₁⋅N₁₁₂   M₁₁₂⋅N₁₁₁   M₂₁₁⋅N₂₁₂   M₂₁₂⋅N₂₁₁                         M₁₁\n",
       "⎜8, ⎢───────── + ───────── + ───────── + ─────────, M₁₁₂⋅N₁₁₂ + M₂₁₂⋅N₂₁₂, ───\n",
       "⎝   ⎣    2           2           2           2                                \n",
       "\n",
       "₁⋅N₁₂₂   M₁₂₂⋅N₁₁₁   M₂₁₁⋅N₂₂₂   M₂₂₂⋅N₂₁₁  M₁₁₂⋅N₁₂₂   M₁₂₂⋅N₁₁₂   M₂₁₂⋅N₂₂₂ \n",
       "────── + ───────── + ───────── + ─────────, ───────── + ───────── + ───────── \n",
       " 2           2           2           2          2           2           2     \n",
       "\n",
       "  M₂₂₂⋅N₂₁₂  M₁₁₁⋅N₁₂₁   M₁₂₁⋅N₁₁₁   M₂₁₁⋅N₂₂₁   M₂₂₁⋅N₂₁₁  M₁₁₁⋅N₁₂₂   M₁₂₂⋅N\n",
       "+ ─────────, ───────── + ───────── + ───────── + ─────────, ───────── + ──────\n",
       "      2          2           2           2           2          2           2 \n",
       "\n",
       "₁₁₁   M₂₁₁⋅N₂₂₂   M₂₂₂⋅N₂₁₁                         M₁₂₁⋅N₁₂₂   M₁₂₂⋅N₁₂₁   M₂\n",
       "─── + ───────── + ─────────, M₁₂₁⋅N₁₂₁ + M₂₂₁⋅N₂₂₁, ───────── + ───────── + ──\n",
       "          2           2                                 2           2         \n",
       "\n",
       "₂₁⋅N₂₂₂   M₂₂₂⋅N₂₂₁⎤⎞\n",
       "─────── + ─────────⎥⎟\n",
       "  2           2    ⎦⎠"
      ]
     },
     "execution_count": 26,
     "metadata": {},
     "output_type": "execute_result"
    }
   ],
   "source": [
    "for x in range(0,n):\n",
    "    for y in range(0,n):\n",
    "        if x!=y:\n",
    "            EQ = EQ + list(QS[x,y].values())\n",
    "EQ_LD.append(EQ)\n",
    "len(EQ_LD[0]),EQ_LD[0]"
   ]
  },
  {
   "cell_type": "code",
   "execution_count": 27,
   "metadata": {
    "collapsed": true
   },
   "outputs": [],
   "source": [
    "h_LD=[]\n",
    "f_LD=[]\n",
    "f = zeros(n)\n",
    "h = zeros(n)\n",
    "for x in range(0,n):\n",
    "    for y in range(0,n):\n",
    "        if x == y:\n",
    "            if x == 0:\n",
    "                f[x,y]=Symbol('f_{'+str(x+1)+str(y+1)+'}')#(*ZX)\n",
    "            if y == 1:\n",
    "                f[x,y]=Symbol('f_{'+str(x+1)+str(y+1)+'}')#(*ZX)\n",
    "        if x == y: h[x,y]=Function('h')(*ZE)\n",
    "h_LD.append(h)\n",
    "f_LD.append(f)"
   ]
  },
  {
   "cell_type": "code",
   "execution_count": 28,
   "metadata": {
    "collapsed": false
   },
   "outputs": [],
   "source": [
    "CM_LD = contactomorphism_equations(LD[0],ZE,expand,f_LD[0])\n",
    "Z0 = list(LD[0])\n",
    "Z0[0] = CM_LD\n",
    "Ja = Matrix(LD[0]).jacobian(ZE)\n",
    "DeJ = Ja.berkowitz_det()\n",
    "for x in range(0,2*n+1):\n",
    "    DeJ = DeJ.subs([(diff(LD[0][0],ZE[x]),CM_LD[x])])\n"
   ]
  },
  {
   "cell_type": "code",
   "execution_count": 29,
   "metadata": {
    "collapsed": true
   },
   "outputs": [],
   "source": [
    "all_solutions = []\n",
    "for x in EQ_LD[0]:\n",
    "    sol_to_eq=[]\n",
    "    fs = list(x.free_symbols)\n",
    "    fs = list(powerset(fs))\n",
    "    for y in fs:\n",
    "        sol = solve(x,dict=True,exclude=y)\n",
    "        sol = merge_dicts(*sol)\n",
    "        if sol not in sol_to_eq:\n",
    "            sol_to_eq.append(sol) if sol != {} else 0\n",
    "    all_solutions.append(sol_to_eq)"
   ]
  },
  {
   "cell_type": "code",
   "execution_count": 30,
   "metadata": {
    "collapsed": false
   },
   "outputs": [
    {
     "data": {
      "image/png": "[encoded data removed]",
      "text/latex": [
       "$$1073741824$$"
      ],
      "text/plain": [
       "1073741824"
      ]
     },
     "execution_count": 30,
     "metadata": {},
     "output_type": "execute_result"
    }
   ],
   "source": [
    "cont = 1\n",
    "for x in all_solutions:\n",
    "    cont = cont*len(x)\n",
    "cont"
   ]
  },
  {
   "cell_type": "code",
   "execution_count": 31,
   "metadata": {
    "collapsed": true
   },
   "outputs": [],
   "source": [
    "s = product(*all_solutions)"
   ]
  },
  {
   "cell_type": "code",
   "execution_count": 32,
   "metadata": {
    "collapsed": true
   },
   "outputs": [],
   "source": [
    "D_LD = []\n",
    "D_LD.append(DeJ)"
   ]
  },
  {
   "cell_type": "code",
   "execution_count": 33,
   "metadata": {
    "collapsed": false
   },
   "outputs": [
    {
     "name": "stdout",
     "output_type": "stream",
     "text": [
      "Comienza substitucion\n",
      "Finaliza substitucion\n",
      "Comienza limpieza\n",
      "Finaliza substitucion\n"
     ]
    }
   ],
   "source": [
    "chigo_mil = 10000000000000\n",
    "LD, h_LD, f_LD,EQ_LD,D_LD,s_LD = seek_mixed00(LD,h_LD,f_LD,EQ_LD,D_LD,s,n,ZE,10,chigo_mil,[1,0])"
   ]
  },
  {
   "cell_type": "code",
   "execution_count": 34,
   "metadata": {
    "collapsed": false
   },
   "outputs": [
    {
     "data": {
      "image/png": "[encoded data removed]",
      "text/latex": [
       "$$5$$"
      ],
      "text/plain": [
       "5"
      ]
     },
     "execution_count": 34,
     "metadata": {},
     "output_type": "execute_result"
    }
   ],
   "source": [
    "len(LD[0])"
   ]
  },
  {
   "cell_type": "code",
   "execution_count": 36,
   "metadata": {
    "collapsed": false
   },
   "outputs": [
    {
     "data": {
      "text/latex": [
       "$$\\left[\\begin{matrix}F{\\left (\\Phi,E_{1},E_{2},I_{1},I_{2} \\right )} & E_{1} I_{1} M_{111} + E_{1} I_{2} M_{112} + E_{2} I_{1} M_{121} + E_{2} I_{2} M_{122} & E_{1} I_{1} M_{211} + E_{1} I_{2} M_{212} + E_{2} I_{1} M_{221} + E_{2} I_{2} M_{222} & E_{1} I_{1} N_{111} + E_{1} I_{2} N_{112} + E_{2} I_{1} N_{121} + E_{2} I_{2} N_{122} & E_{1} I_{1} N_{211} + E_{1} I_{2} N_{212} + E_{2} I_{1} N_{221} + E_{2} I_{2} N_{222}\\\\F{\\left (\\Phi,E_{1},E_{2},I_{1},I_{2} \\right )} & - \\frac{E_{2} I_{1}}{N_{111}} M_{211} N_{221} - \\frac{E_{2} I_{2}}{N_{111}} \\left(M_{211} N_{222} + M_{222} N_{211}\\right) & E_{1} I_{1} M_{211} + E_{2} I_{2} M_{222} & E_{1} I_{1} N_{111} + E_{1} I_{2} N_{112} & E_{1} I_{1} N_{211} + E_{2} I_{1} N_{221} + E_{2} I_{2} N_{222}\\\\F{\\left (\\Phi,E_{1},E_{2},I_{1},I_{2} \\right )} & - \\frac{E_{2} I_{1}}{N_{111}} M_{211} N_{221} - \\frac{E_{2} I_{2}}{N_{111}} M_{222} N_{211} & E_{1} I_{1} M_{211} + E_{2} I_{2} M_{222} & E_{1} I_{1} N_{111} + E_{1} I_{2} N_{112} & E_{1} I_{1} N_{211} + E_{2} I_{1} N_{221}\\\\F{\\left (\\Phi,E_{1},E_{2},I_{1},I_{2} \\right )} & - \\frac{E_{2} I_{2}}{N_{111}} \\left(M_{211} N_{222} + M_{222} N_{211}\\right) & E_{1} I_{1} M_{211} + E_{2} I_{2} M_{222} & E_{1} I_{1} N_{111} + E_{1} I_{2} N_{112} & E_{1} I_{1} N_{211} + E_{2} I_{2} N_{222}\\\\F{\\left (\\Phi,E_{1},E_{2},I_{1},I_{2} \\right )} & - \\frac{E_{2} I_{1}}{N_{111}} M_{211} N_{221} - \\frac{E_{2} I_{2}}{N_{111}} M_{211} N_{222} & E_{1} I_{1} M_{211} & E_{1} I_{1} N_{111} + E_{1} I_{2} N_{112} & E_{1} I_{1} N_{211} + E_{2} I_{1} N_{221} + E_{2} I_{2} N_{222}\\\\F{\\left (\\Phi,E_{1},E_{2},I_{1},I_{2} \\right )} & - \\frac{E_{2} I_{1}}{N_{111}} M_{211} N_{221} - \\frac{E_{2} I_{2}}{N_{111}} \\left(M_{211} N_{222} - \\frac{N_{211}}{N_{221}} \\left(M_{121} N_{122} + M_{122} N_{121} + M_{221} N_{222}\\right)\\right) & E_{1} I_{1} M_{211} - \\frac{E_{2} I_{2}}{N_{221}} \\left(M_{121} N_{122} + M_{122} N_{121} + M_{221} N_{222}\\right) & E_{1} I_{1} N_{111} + E_{1} I_{2} N_{112} & E_{1} I_{1} N_{211} + E_{2} I_{1} N_{221} + E_{2} I_{2} N_{222}\\\\F{\\left (\\Phi,E_{1},E_{2},I_{1},I_{2} \\right )} & \\frac{E_{2} I_{1} M_{211}}{M_{222} N_{111}} \\left(M_{121} N_{122} + M_{122} N_{121} + M_{221} N_{222}\\right) - \\frac{E_{2} I_{2}}{N_{111}} \\left(M_{211} N_{222} + M_{222} N_{211}\\right) & E_{1} I_{1} M_{211} + E_{2} I_{2} M_{222} & E_{1} I_{1} N_{111} + E_{1} I_{2} N_{112} & E_{1} I_{1} N_{211} - \\frac{E_{2} I_{1}}{M_{222}} \\left(M_{121} N_{122} + M_{122} N_{121} + M_{221} N_{222}\\right) + E_{2} I_{2} N_{222}\\\\F{\\left (\\Phi,E_{1},E_{2},I_{1},I_{2} \\right )} & - \\frac{E_{2} I_{1}}{N_{111}} M_{211} N_{221} - \\frac{E_{2} I_{2}}{N_{111}} \\left(- \\frac{M_{211}}{M_{221}} \\left(M_{121} N_{122} + M_{122} N_{121} + M_{222} N_{221}\\right) + M_{222} N_{211}\\right) & E_{1} I_{1} M_{211} + E_{2} I_{2} M_{222} & E_{1} I_{1} N_{111} + E_{1} I_{2} N_{112} & E_{1} I_{1} N_{211} + E_{2} I_{1} N_{221} - \\frac{E_{2} I_{2}}{M_{221}} \\left(M_{121} N_{122} + M_{122} N_{121} + M_{222} N_{221}\\right)\\\\F{\\left (\\Phi,E_{1},E_{2},I_{1},I_{2} \\right )} & - \\frac{E_{2} I_{2}}{N_{111}} M_{222} N_{211} & E_{1} I_{1} M_{211} + E_{2} I_{2} M_{222} & E_{1} I_{1} N_{111} + E_{1} I_{2} N_{112} & E_{1} I_{1} N_{211}\\\\F{\\left (\\Phi,E_{1},E_{2},I_{1},I_{2} \\right )} & - \\frac{E_{2} I_{2}}{N_{111}} M_{211} N_{222} & E_{1} I_{1} M_{211} & E_{1} I_{1} N_{111} + E_{1} I_{2} N_{112} & E_{1} I_{1} N_{211} + E_{2} I_{2} N_{222}\\\\F{\\left (\\Phi,E_{1},E_{2},I_{1},I_{2} \\right )} & - \\frac{E_{2} I_{2}}{N_{111}} \\left(M_{211} N_{222} - \\frac{N_{211}}{N_{221}} \\left(M_{121} N_{122} + M_{122} N_{121} + M_{221} N_{222}\\right)\\right) & E_{1} I_{1} M_{211} - \\frac{E_{2} I_{2}}{N_{221}} \\left(M_{121} N_{122} + M_{122} N_{121} + M_{221} N_{222}\\right) & E_{1} I_{1} N_{111} + E_{1} I_{2} N_{112} & E_{1} I_{1} N_{211} + E_{2} I_{2} N_{222}\\end{matrix}\\right]$$"
      ],
      "text/plain": [
       "⎡F(\\Phi, E₁, E₂, I₁, I₂)                  E₁⋅I₁⋅M₁₁₁ + E₁⋅I₂⋅M₁₁₂ + E₂⋅I₁⋅M₁₂₁\n",
       "⎢                                                                             \n",
       "⎢                                           E₂⋅I₁⋅M₂₁₁⋅N₂₂₁   E₂⋅I₂⋅(M₂₁₁⋅N₂₂₂\n",
       "⎢F(\\Phi, E₁, E₂, I₁, I₂)                  - ─────────────── - ────────────────\n",
       "⎢                                                 N₁₁₁                     N₁₁\n",
       "⎢                                                                             \n",
       "⎢                                                  E₂⋅I₁⋅M₂₁₁⋅N₂₂₁   E₂⋅I₂⋅M₂₂\n",
       "⎢F(\\Phi, E₁, E₂, I₁, I₂)                         - ─────────────── - ─────────\n",
       "⎢                                                        N₁₁₁              N₁₁\n",
       "⎢                                                                             \n",
       "⎢                                                  -E₂⋅I₂⋅(M₂₁₁⋅N₂₂₂ + M₂₂₂⋅N₂\n",
       "⎢F(\\Phi, E₁, E₂, I₁, I₂)                           ───────────────────────────\n",
       "⎢                                                                N₁₁₁         \n",
       "⎢                                                                             \n",
       "⎢                                                  E₂⋅I₁⋅M₂₁₁⋅N₂₂₁   E₂⋅I₂⋅M₂₁\n",
       "⎢F(\\Phi, E₁, E₂, I₁, I₂)                         - ─────────────── - ─────────\n",
       "⎢                                                        N₁₁₁              N₁₁\n",
       "⎢                                                                             \n",
       "⎢                                                    ⎛            N₂₁₁⋅(M₁₂₁⋅N\n",
       "⎢                                              E₂⋅I₂⋅⎜M₂₁₁⋅N₂₂₂ - ────────────\n",
       "⎢                            E₂⋅I₁⋅M₂₁₁⋅N₂₂₁         ⎝                        \n",
       "⎢F(\\Phi, E₁, E₂, I₁, I₂)   - ─────────────── - ───────────────────────────────\n",
       "⎢                                  N₁₁₁                                    N₁₁\n",
       "⎢                                                                             \n",
       "⎢                           E₂⋅I₁⋅M₂₁₁⋅(M₁₂₁⋅N₁₂₂ + M₁₂₂⋅N₁₂₁ + M₂₂₁⋅N₂₂₂)   E\n",
       "⎢F(\\Phi, E₁, E₂, I₁, I₂)    ────────────────────────────────────────────── - ─\n",
       "⎢                                             M₂₂₂⋅N₁₁₁                       \n",
       "⎢                                                                             \n",
       "⎢                                                   ⎛  M₂₁₁⋅(M₁₂₁⋅N₁₂₂ + M₁₂₂⋅\n",
       "⎢                                             E₂⋅I₂⋅⎜- ───────────────────────\n",
       "⎢                           E₂⋅I₁⋅M₂₁₁⋅N₂₂₁         ⎝                    M₂₂₁ \n",
       "⎢F(\\Phi, E₁, E₂, I₁, I₂)  - ─────────────── - ────────────────────────────────\n",
       "⎢                                 N₁₁₁                                     N₁₁\n",
       "⎢                                                                             \n",
       "⎢                                                         -E₂⋅I₂⋅M₂₂₂⋅N₂₁₁    \n",
       "⎢F(\\Phi, E₁, E₂, I₁, I₂)                                  ─────────────────   \n",
       "⎢                                                                N₁₁₁         \n",
       "⎢                                                                             \n",
       "⎢                                                         -E₂⋅I₂⋅M₂₁₁⋅N₂₂₂    \n",
       "⎢F(\\Phi, E₁, E₂, I₁, I₂)                                  ─────────────────   \n",
       "⎢                                                                N₁₁₁         \n",
       "⎢                                                                             \n",
       "⎢                                          ⎛            N₂₁₁⋅(M₁₂₁⋅N₁₂₂ + M₁₂₂\n",
       "⎢                                   -E₂⋅I₂⋅⎜M₂₁₁⋅N₂₂₂ - ──────────────────────\n",
       "⎢                                          ⎝                              N₂₂₁\n",
       "⎢F(\\Phi, E₁, E₂, I₁, I₂)            ──────────────────────────────────────────\n",
       "⎣                                                                N₁₁₁         \n",
       "\n",
       " + E₂⋅I₂⋅M₁₂₂                     E₁⋅I₁⋅M₂₁₁ + E₁⋅I₂⋅M₂₁₂ + E₂⋅I₁⋅M₂₂₁ + E₂⋅I₂\n",
       "                                                                              \n",
       " + M₂₂₂⋅N₂₁₁)                                                                 \n",
       "─────────────                                  E₁⋅I₁⋅M₂₁₁ + E₂⋅I₂⋅M₂₂₂        \n",
       "₁                                                                             \n",
       "                                                                              \n",
       "₂⋅N₂₁₁                                                                        \n",
       "──────                                         E₁⋅I₁⋅M₂₁₁ + E₂⋅I₂⋅M₂₂₂        \n",
       "₁                                                                             \n",
       "                                                                              \n",
       "₁₁)                                                                           \n",
       "────                                           E₁⋅I₁⋅M₂₁₁ + E₂⋅I₂⋅M₂₂₂        \n",
       "                                                                              \n",
       "                                                                              \n",
       "₁⋅N₂₂₂                                                                        \n",
       "──────                                                E₁⋅I₁⋅M₂₁₁              \n",
       "₁                                                                             \n",
       "                                                                              \n",
       "₁₂₂ + M₁₂₂⋅N₁₂₁ + M₂₂₁⋅N₂₂₂)⎞                                                 \n",
       "────────────────────────────⎟                                                 \n",
       "      N₂₂₁                  ⎠                E₂⋅I₂⋅(M₁₂₁⋅N₁₂₂ + M₁₂₂⋅N₁₂₁ + M₂\n",
       "─────────────────────────────   E₁⋅I₁⋅M₂₁₁ - ─────────────────────────────────\n",
       "₁                                                               N₂₂₁          \n",
       "                                                                              \n",
       "₂⋅I₂⋅(M₂₁₁⋅N₂₂₂ + M₂₂₂⋅N₂₁₁)                                                  \n",
       "────────────────────────────                   E₁⋅I₁⋅M₂₁₁ + E₂⋅I₂⋅M₂₂₂        \n",
       "            N₁₁₁                                                              \n",
       "                                                                              \n",
       "N₁₂₁ + M₂₂₂⋅N₂₂₁)            ⎞                                                \n",
       "───────────────── + M₂₂₂⋅N₂₁₁⎟                                                \n",
       "                             ⎠                                                \n",
       "──────────────────────────────                 E₁⋅I₁⋅M₂₁₁ + E₂⋅I₂⋅M₂₂₂        \n",
       "₁                                                                             \n",
       "                                                                              \n",
       "                                                                              \n",
       "                                               E₁⋅I₁⋅M₂₁₁ + E₂⋅I₂⋅M₂₂₂        \n",
       "                                                                              \n",
       "                                                                              \n",
       "                                                                              \n",
       "                                                      E₁⋅I₁⋅M₂₁₁              \n",
       "                                                                              \n",
       "                                                                              \n",
       "⋅N₁₂₁ + M₂₂₁⋅N₂₂₂)⎞                                                           \n",
       "──────────────────⎟                                                           \n",
       "                  ⎠                          E₂⋅I₂⋅(M₁₂₁⋅N₁₂₂ + M₁₂₂⋅N₁₂₁ + M₂\n",
       "────────────────────            E₁⋅I₁⋅M₂₁₁ - ─────────────────────────────────\n",
       "                                                                N₂₂₁          \n",
       "\n",
       "⋅M₂₂₂     E₁⋅I₁⋅N₁₁₁ + E₁⋅I₂⋅N₁₁₂ + E₂⋅I₁⋅N₁₂₁ + E₂⋅I₂⋅N₁₂₂           E₁⋅I₁⋅N₂\n",
       "                                                                              \n",
       "                                                                              \n",
       "                       E₁⋅I₁⋅N₁₁₁ + E₁⋅I₂⋅N₁₁₂                              E₁\n",
       "                                                                              \n",
       "                                                                              \n",
       "                                                                              \n",
       "                       E₁⋅I₁⋅N₁₁₁ + E₁⋅I₂⋅N₁₁₂                                \n",
       "                                                                              \n",
       "                                                                              \n",
       "                                                                              \n",
       "                       E₁⋅I₁⋅N₁₁₁ + E₁⋅I₂⋅N₁₁₂                                \n",
       "                                                                              \n",
       "                                                                              \n",
       "                                                                              \n",
       "                       E₁⋅I₁⋅N₁₁₁ + E₁⋅I₂⋅N₁₁₂                              E₁\n",
       "                                                                              \n",
       "                                                                              \n",
       "                                                                              \n",
       "                                                                              \n",
       "₂₁⋅N₂₂₂)                                                                      \n",
       "────────               E₁⋅I₁⋅N₁₁₁ + E₁⋅I₂⋅N₁₁₂                              E₁\n",
       "                                                                              \n",
       "                                                                              \n",
       "                                                                          E₂⋅I\n",
       "                       E₁⋅I₁⋅N₁₁₁ + E₁⋅I₂⋅N₁₁₂               E₁⋅I₁⋅N₂₁₁ - ────\n",
       "                                                                              \n",
       "                                                                              \n",
       "                                                                              \n",
       "                                                                              \n",
       "                                                                              \n",
       "                       E₁⋅I₁⋅N₁₁₁ + E₁⋅I₂⋅N₁₁₂               E₁⋅I₁⋅N₂₁₁ + E₂⋅I\n",
       "                                                                              \n",
       "                                                                              \n",
       "                                                                              \n",
       "                       E₁⋅I₁⋅N₁₁₁ + E₁⋅I₂⋅N₁₁₂                                \n",
       "                                                                              \n",
       "                                                                              \n",
       "                                                                              \n",
       "                       E₁⋅I₁⋅N₁₁₁ + E₁⋅I₂⋅N₁₁₂                                \n",
       "                                                                              \n",
       "                                                                              \n",
       "                                                                              \n",
       "                                                                              \n",
       "₂₁⋅N₂₂₂)                                                                      \n",
       "────────               E₁⋅I₁⋅N₁₁₁ + E₁⋅I₂⋅N₁₁₂                                \n",
       "                                                                              \n",
       "\n",
       "₁₁ + E₁⋅I₂⋅N₂₁₂ + E₂⋅I₁⋅N₂₂₁ + E₂⋅I₂⋅N₂₂₂         ⎤\n",
       "                                                  ⎥\n",
       "                                                  ⎥\n",
       "⋅I₁⋅N₂₁₁ + E₂⋅I₁⋅N₂₂₁ + E₂⋅I₂⋅N₂₂₂                ⎥\n",
       "                                                  ⎥\n",
       "                                                  ⎥\n",
       "                                                  ⎥\n",
       "     E₁⋅I₁⋅N₂₁₁ + E₂⋅I₁⋅N₂₂₁                      ⎥\n",
       "                                                  ⎥\n",
       "                                                  ⎥\n",
       "                                                  ⎥\n",
       "     E₁⋅I₁⋅N₂₁₁ + E₂⋅I₂⋅N₂₂₂                      ⎥\n",
       "                                                  ⎥\n",
       "                                                  ⎥\n",
       "                                                  ⎥\n",
       "⋅I₁⋅N₂₁₁ + E₂⋅I₁⋅N₂₂₁ + E₂⋅I₂⋅N₂₂₂                ⎥\n",
       "                                                  ⎥\n",
       "                                                  ⎥\n",
       "                                                  ⎥\n",
       "                                                  ⎥\n",
       "                                                  ⎥\n",
       "⋅I₁⋅N₂₁₁ + E₂⋅I₁⋅N₂₂₁ + E₂⋅I₂⋅N₂₂₂                ⎥\n",
       "                                                  ⎥\n",
       "                                                  ⎥\n",
       "₁⋅(M₁₂₁⋅N₁₂₂ + M₁₂₂⋅N₁₂₁ + M₂₂₁⋅N₂₂₂)             ⎥\n",
       "───────────────────────────────────── + E₂⋅I₂⋅N₂₂₂⎥\n",
       "               M₂₂₂                               ⎥\n",
       "                                                  ⎥\n",
       "                                                  ⎥\n",
       "                                                  ⎥\n",
       "         E₂⋅I₂⋅(M₁₂₁⋅N₁₂₂ + M₁₂₂⋅N₁₂₁ + M₂₂₂⋅N₂₂₁)⎥\n",
       "₁⋅N₂₂₁ - ─────────────────────────────────────────⎥\n",
       "                            M₂₂₁                  ⎥\n",
       "                                                  ⎥\n",
       "                                                  ⎥\n",
       "           E₁⋅I₁⋅N₂₁₁                             ⎥\n",
       "                                                  ⎥\n",
       "                                                  ⎥\n",
       "                                                  ⎥\n",
       "     E₁⋅I₁⋅N₂₁₁ + E₂⋅I₂⋅N₂₂₂                      ⎥\n",
       "                                                  ⎥\n",
       "                                                  ⎥\n",
       "                                                  ⎥\n",
       "                                                  ⎥\n",
       "                                                  ⎥\n",
       "     E₁⋅I₁⋅N₂₁₁ + E₂⋅I₂⋅N₂₂₂                      ⎥\n",
       "                                                  ⎦"
      ]
     },
     "execution_count": 36,
     "metadata": {},
     "output_type": "execute_result"
    }
   ],
   "source": [
    "Matrix(LD)\n"
   ]
  },
  {
   "cell_type": "code",
   "execution_count": null,
   "metadata": {
    "collapsed": false
   },
   "outputs": [],
   "source": []
  },
  {
   "cell_type": "code",
   "execution_count": null,
   "metadata": {
    "collapsed": false
   },
   "outputs": [],
   "source": [
    "H1,S1 = difeomorphism_equations005(L0,ZE,factor,f,h,0,2*n+1)"
   ]
  },
  {
   "cell_type": "code",
   "execution_count": null,
   "metadata": {
    "collapsed": false
   },
   "outputs": [],
   "source": []
  },
  {
   "cell_type": "code",
   "execution_count": null,
   "metadata": {
    "collapsed": false
   },
   "outputs": [],
   "source": [
    "f"
   ]
  },
  {
   "cell_type": "code",
   "execution_count": null,
   "metadata": {
    "collapsed": false
   },
   "outputs": [],
   "source": [
    "L0[0]=ZE[0]#-ZE[1]*ZE[2]*ZE[3]*ZE[4]#-(pow(ZE[1],2)*pow(ZE[3],2))-(pow(ZE[1],2)*pow(ZE[3],2))\n",
    "#+(pow(ZE[2],2)*pow(ZE[4],2)/2)#-(pow(ZE[1],2)*pow(ZE[3],2))#-pow(ZE[1],2)*ZE[2]*ZE[3]*ZE[4]\n",
    "L0"
   ]
  },
  {
   "cell_type": "code",
   "execution_count": 39,
   "metadata": {
    "collapsed": true
   },
   "outputs": [],
   "source": [
    "L0 = LD[2]\n",
    "H1,S1 = difeomorphism_equations005(L0,ZE,factor,f,h,0,2*n+1)"
   ]
  },
  {
   "cell_type": "code",
   "execution_count": 40,
   "metadata": {
    "collapsed": false
   },
   "outputs": [
    {
     "data": {
      "text/latex": [
       "$$\\left[\\begin{matrix}0 & 0 & 0 & 0 & 0\\\\0 & I_{1}^{2} M_{211} N_{211} & - \\frac{I_{2} N_{112}}{2 N_{111}} \\left(I_{1} M_{211} N_{221} + I_{2} M_{222} N_{211}\\right) & \\frac{M_{211}}{2 N_{111}} \\left(2 E_{1} I_{1} N_{111} N_{211} - E_{2} I_{2} N_{112} N_{221}\\right) & - \\frac{E_{2} I_{2} M_{222} N_{112}}{2 N_{111}} N_{211}\\\\0 & - \\frac{I_{2} N_{112}}{2 N_{111}} \\left(I_{1} M_{211} N_{221} + I_{2} M_{222} N_{211}\\right) & I_{1} I_{2} M_{222} N_{221} & \\frac{E_{2} I_{2}}{2} M_{222} N_{221} & - \\frac{1}{2 N_{111}} \\left(E_{1} I_{1} M_{211} N_{112} N_{221} + E_{1} I_{2} M_{222} N_{112} N_{211} - E_{2} I_{1} M_{222} N_{111} N_{221}\\right)\\\\0 & \\frac{M_{211}}{2 N_{111}} \\left(2 E_{1} I_{1} N_{111} N_{211} - E_{2} I_{2} N_{112} N_{221}\\right) & \\frac{E_{2} I_{2}}{2} M_{222} N_{221} & E_{1}^{2} M_{211} N_{211} & - \\frac{E_{2} N_{221}}{2 N_{111}} \\left(E_{1} M_{211} N_{112} - E_{2} M_{222} N_{111}\\right)\\\\0 & - \\frac{E_{2} I_{2} M_{222} N_{112}}{2 N_{111}} N_{211} & - \\frac{1}{2 N_{111}} \\left(E_{1} I_{1} M_{211} N_{112} N_{221} + E_{1} I_{2} M_{222} N_{112} N_{211} - E_{2} I_{1} M_{222} N_{111} N_{221}\\right) & - \\frac{E_{2} N_{221}}{2 N_{111}} \\left(E_{1} M_{211} N_{112} - E_{2} M_{222} N_{111}\\right) & - \\frac{E_{1} E_{2}}{N_{111}} M_{222} N_{112} N_{211}\\end{matrix}\\right]$$"
      ],
      "text/plain": [
       "⎡0                      0                                                     \n",
       "⎢                                                                             \n",
       "⎢                   2                                          -I₂⋅N₁₁₂⋅(I₁⋅M₂\n",
       "⎢0                I₁ ⋅M₂₁₁⋅N₂₁₁                                ───────────────\n",
       "⎢                                                                             \n",
       "⎢                                                                             \n",
       "⎢    -I₂⋅N₁₁₂⋅(I₁⋅M₂₁₁⋅N₂₂₁ + I₂⋅M₂₂₂⋅N₂₁₁)                                   \n",
       "⎢0   ───────────────────────────────────────                               I₁⋅\n",
       "⎢                     2⋅N₁₁₁                                                  \n",
       "⎢                                                                             \n",
       "⎢   M₂₁₁⋅(2⋅E₁⋅I₁⋅N₁₁₁⋅N₂₁₁ - E₂⋅I₂⋅N₁₁₂⋅N₂₂₁)                             E₂⋅\n",
       "⎢0  ──────────────────────────────────────────                             ───\n",
       "⎢                     2⋅N₁₁₁                                                  \n",
       "⎢                                                                             \n",
       "⎢             -E₂⋅I₂⋅M₂₂₂⋅N₁₁₂⋅N₂₁₁             -(E₁⋅I₁⋅M₂₁₁⋅N₁₁₂⋅N₂₂₁ + E₁⋅I₂\n",
       "⎢0            ──────────────────────            ──────────────────────────────\n",
       "⎣                     2⋅N₁₁₁                                                  \n",
       "\n",
       "    0                                                         0               \n",
       "                                                                              \n",
       "₁₁⋅N₂₂₁ + I₂⋅M₂₂₂⋅N₂₁₁)                   M₂₁₁⋅(2⋅E₁⋅I₁⋅N₁₁₁⋅N₂₁₁ - E₂⋅I₂⋅N₁₁₂\n",
       "────────────────────────                  ────────────────────────────────────\n",
       "  2⋅N₁₁₁                                                    2⋅N₁₁₁            \n",
       "                                                                              \n",
       "                                                       E₂⋅I₂⋅M₂₂₂⋅N₂₂₁        \n",
       "I₂⋅M₂₂₂⋅N₂₂₁                                           ───────────────        \n",
       "                                                              2               \n",
       "                                                                              \n",
       "I₂⋅M₂₂₂⋅N₂₂₁                                              2                   \n",
       "────────────                                            E₁ ⋅M₂₁₁⋅N₂₁₁         \n",
       "    2                                                                         \n",
       "                                                                              \n",
       "⋅M₂₂₂⋅N₁₁₂⋅N₂₁₁ - E₂⋅I₁⋅M₂₂₂⋅N₁₁₁⋅N₂₂₁)    -E₂⋅N₂₂₁⋅(E₁⋅M₂₁₁⋅N₁₁₂ - E₂⋅M₂₂₂⋅N₁\n",
       "────────────────────────────────────────   ───────────────────────────────────\n",
       "  2⋅N₁₁₁                                                    2⋅N₁₁₁            \n",
       "\n",
       "                                          0                                   \n",
       "                                                                              \n",
       "⋅N₂₂₁)                          -E₂⋅I₂⋅M₂₂₂⋅N₁₁₂⋅N₂₁₁                         \n",
       "──────                          ──────────────────────                        \n",
       "                                        2⋅N₁₁₁                                \n",
       "                                                                              \n",
       "        -(E₁⋅I₁⋅M₂₁₁⋅N₁₁₂⋅N₂₂₁ + E₁⋅I₂⋅M₂₂₂⋅N₁₁₂⋅N₂₁₁ - E₂⋅I₁⋅M₂₂₂⋅N₁₁₁⋅N₂₂₁) \n",
       "        ──────────────────────────────────────────────────────────────────────\n",
       "                                        2⋅N₁₁₁                                \n",
       "                                                                              \n",
       "                       -E₂⋅N₂₂₁⋅(E₁⋅M₂₁₁⋅N₁₁₂ - E₂⋅M₂₂₂⋅N₁₁₁)                 \n",
       "                       ───────────────────────────────────────                \n",
       "                                        2⋅N₁₁₁                                \n",
       "                                                                              \n",
       "₁₁)                             -E₁⋅E₂⋅M₂₂₂⋅N₁₁₂⋅N₂₁₁                         \n",
       "────                            ──────────────────────                        \n",
       "                                         N₁₁₁                                 \n",
       "\n",
       "⎤\n",
       "⎥\n",
       "⎥\n",
       "⎥\n",
       "⎥\n",
       "⎥\n",
       "⎥\n",
       "⎥\n",
       "⎥\n",
       "⎥\n",
       "⎥\n",
       "⎥\n",
       "⎥\n",
       "⎥\n",
       "⎥\n",
       "⎥\n",
       "⎦"
      ]
     },
     "execution_count": 40,
     "metadata": {},
     "output_type": "execute_result"
    }
   ],
   "source": [
    "S1"
   ]
  },
  {
   "cell_type": "code",
   "execution_count": null,
   "metadata": {
    "collapsed": true
   },
   "outputs": [],
   "source": []
  },
  {
   "cell_type": "code",
   "execution_count": null,
   "metadata": {
    "collapsed": true
   },
   "outputs": [],
   "source": []
  }
 ],
 "metadata": {
  "kernelspec": {
   "display_name": "Python 3",
   "language": "python",
   "name": "python3"
  },
  "language_info": {
   "codemirror_mode": {
    "name": "ipython",
    "version": 3
   },
   "file_extension": ".py",
   "mimetype": "text/x-python",
   "name": "python",
   "nbconvert_exporter": "python",
   "pygments_lexer": "ipython3",
   "version": "3.5.1"
  }
 },
 "nbformat": 4,
 "nbformat_minor": 0
}
